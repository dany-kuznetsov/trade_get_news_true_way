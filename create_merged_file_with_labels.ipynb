{
 "cells": [
  {
   "cell_type": "markdown",
   "metadata": {},
   "source": [
    "# Подгрузим библиотеки и пару функций"
   ]
  },
  {
   "cell_type": "code",
   "execution_count": 3,
   "metadata": {},
   "outputs": [],
   "source": [
    "from pandas_datareader import data\n",
    "from pandas_datareader._utils import RemoteDataError\n",
    "import matplotlib.pyplot as plt\n",
    "import pandas as pd\n",
    "import numpy as np\n",
    "import math\n",
    "import csv\n",
    "import re\n",
    "from datetime import datetime\n",
    "\n",
    "import os.path\n",
    "from os import path\n",
    "import time\n",
    "\n",
    "# import sklearn\n",
    "# import scipy\n",
    "\n",
    "# from sklearn.naive_bayes import GaussianNB\n",
    "# import lightgbm as lightgbm\n",
    "# from xgboost import XGBClassifier\n",
    "# import keras\n",
    "\n",
    "# Get Started\n",
    "# https://github.com/Refinitiv-API-Samples/Article.EikonDataAPI.DotNet.Library\n",
    "# API limits\n",
    "# https://developers.refinitiv.com/en/api-catalog/eikon/eikon-data-api/documentation?content=49692&type=documentation_item\n",
    "import eikon as ek \n",
    "\n",
    "from pylab import rcParams\n",
    "plt.rcParams['figure.figsize'] = 16, 8"
   ]
  },
  {
   "cell_type": "code",
   "execution_count": 4,
   "metadata": {},
   "outputs": [],
   "source": [
    "# Настройки для графиков, чтобы увеличить шрифты и размеры.\n",
    "fontsize_reg = 12\n",
    "fontsize_title = 16\n",
    "from pylab import rcParams\n",
    "rcParams['figure.facecolor'] = '1'\n",
    "rcParams['figure.figsize'] = [8.0, 3.5]\n",
    "rcParams['figure.dpi'] = 80\n",
    "rcParams['savefig.dpi'] = 600\n",
    "\n",
    "rcParams['font.size'] = 12\n",
    "rcParams['legend.fontsize'] = 'large'\n",
    "rcParams['figure.titlesize'] = 'large'\n",
    "\n",
    "plt.rcParams['axes.axisbelow'] = True"
   ]
  },
  {
   "cell_type": "code",
   "execution_count": 5,
   "metadata": {},
   "outputs": [],
   "source": [
    "# Зададим path для папки проекта и для папок файлов\n",
    "path_project_folder = 'C:/DAN/t_systems/trade_project/'\n",
    "folder_name_headlines = 'backup_headlines/'\n",
    "folder_name_logger = 'logger/'\n",
    "folder_name_for_labelling = 'for_labelling/'\n",
    "folder_name_with_labelled_data_iter1 = 'labeled_news_iter1/'"
   ]
  },
  {
   "cell_type": "code",
   "execution_count": 6,
   "metadata": {},
   "outputs": [],
   "source": [
    "def get_name_of_latest_file_in_folder(folder_name):\n",
    "    \"\"\"\n",
    "    Get all file names in selected direction.\n",
    "    Return the latest file in that directory.\n",
    "    \"\"\"\n",
    "    files_creation_dates = pd.DataFrame(data = [], columns=[\n",
    "        \"folder_name\", \"file_name\", \"num_time\", \"str_time\"\n",
    "    ])\n",
    "\n",
    "    files_creation_dates['file_name'] = os.listdir(folder_name)\n",
    "    files_creation_dates['folder_name'] = folder_name\n",
    "    files_creation_dates['file_folder_and_name'] = files_creation_dates['folder_name'] + files_creation_dates['file_name']\n",
    "    files_creation_dates\n",
    "    for i in range(0, len(files_creation_dates)):\n",
    "        file_folder_and_name = files_creation_dates['file_folder_and_name'][i]\n",
    "        files_creation_dates['num_time'][i] = os.path.getctime(file_folder_and_name)\n",
    "        files_creation_dates['str_time'][i] = time.ctime(os.path.getctime(file_folder_and_name))\n",
    "\n",
    "    latest_file_dir = files_creation_dates.sort_values(by=['num_time'], ascending=False)['file_folder_and_name'].iloc[0]\n",
    "    \n",
    "    return latest_file_dir"
   ]
  },
  {
   "cell_type": "code",
   "execution_count": null,
   "metadata": {},
   "outputs": [],
   "source": [
    "from torch.utils.data import TensorDataset, DataLoader, RandomSampler, SequentialSampler, Dataset"
   ]
  },
  {
   "cell_type": "code",
   "execution_count": 6,
   "metadata": {},
   "outputs": [
    {
     "data": {
      "text/plain": [
       "False"
      ]
     },
     "execution_count": 6,
     "metadata": {},
     "output_type": "execute_result"
    }
   ],
   "source": [
    "cuda.is_available()"
   ]
  },
  {
   "cell_type": "code",
   "execution_count": 7,
   "metadata": {},
   "outputs": [
    {
     "ename": "AssertionError",
     "evalue": "Torch not compiled with CUDA enabled",
     "output_type": "error",
     "traceback": [
      "\u001b[1;31m---------------------------------------------------------------------------\u001b[0m",
      "\u001b[1;31mAssertionError\u001b[0m                            Traceback (most recent call last)",
      "\u001b[1;32m<ipython-input-7-f198168f1bb4>\u001b[0m in \u001b[0;36m<module>\u001b[1;34m\u001b[0m\n\u001b[1;32m----> 1\u001b[1;33m \u001b[0mcuda\u001b[0m\u001b[1;33m.\u001b[0m\u001b[0mcurrent_device\u001b[0m\u001b[1;33m(\u001b[0m\u001b[1;33m)\u001b[0m\u001b[1;33m\u001b[0m\u001b[1;33m\u001b[0m\u001b[0m\n\u001b[0m",
      "\u001b[1;32mc:\\python37\\lib\\site-packages\\torch\\cuda\\__init__.py\u001b[0m in \u001b[0;36mcurrent_device\u001b[1;34m()\u001b[0m\n\u001b[0;32m    364\u001b[0m \u001b[1;32mdef\u001b[0m \u001b[0mcurrent_device\u001b[0m\u001b[1;33m(\u001b[0m\u001b[1;33m)\u001b[0m \u001b[1;33m->\u001b[0m \u001b[0mint\u001b[0m\u001b[1;33m:\u001b[0m\u001b[1;33m\u001b[0m\u001b[1;33m\u001b[0m\u001b[0m\n\u001b[0;32m    365\u001b[0m     \u001b[1;34mr\"\"\"Returns the index of a currently selected device.\"\"\"\u001b[0m\u001b[1;33m\u001b[0m\u001b[1;33m\u001b[0m\u001b[0m\n\u001b[1;32m--> 366\u001b[1;33m     \u001b[0m_lazy_init\u001b[0m\u001b[1;33m(\u001b[0m\u001b[1;33m)\u001b[0m\u001b[1;33m\u001b[0m\u001b[1;33m\u001b[0m\u001b[0m\n\u001b[0m\u001b[0;32m    367\u001b[0m     \u001b[1;32mreturn\u001b[0m \u001b[0mtorch\u001b[0m\u001b[1;33m.\u001b[0m\u001b[0m_C\u001b[0m\u001b[1;33m.\u001b[0m\u001b[0m_cuda_getDevice\u001b[0m\u001b[1;33m(\u001b[0m\u001b[1;33m)\u001b[0m\u001b[1;33m\u001b[0m\u001b[1;33m\u001b[0m\u001b[0m\n\u001b[0;32m    368\u001b[0m \u001b[1;33m\u001b[0m\u001b[0m\n",
      "\u001b[1;32mc:\\python37\\lib\\site-packages\\torch\\cuda\\__init__.py\u001b[0m in \u001b[0;36m_lazy_init\u001b[1;34m()\u001b[0m\n\u001b[0;32m    164\u001b[0m                 \"Cannot re-initialize CUDA in forked subprocess. \" + msg)\n\u001b[0;32m    165\u001b[0m         \u001b[1;32mif\u001b[0m \u001b[1;32mnot\u001b[0m \u001b[0mhasattr\u001b[0m\u001b[1;33m(\u001b[0m\u001b[0mtorch\u001b[0m\u001b[1;33m.\u001b[0m\u001b[0m_C\u001b[0m\u001b[1;33m,\u001b[0m \u001b[1;34m'_cuda_getDeviceCount'\u001b[0m\u001b[1;33m)\u001b[0m\u001b[1;33m:\u001b[0m\u001b[1;33m\u001b[0m\u001b[1;33m\u001b[0m\u001b[0m\n\u001b[1;32m--> 166\u001b[1;33m             \u001b[1;32mraise\u001b[0m \u001b[0mAssertionError\u001b[0m\u001b[1;33m(\u001b[0m\u001b[1;34m\"Torch not compiled with CUDA enabled\"\u001b[0m\u001b[1;33m)\u001b[0m\u001b[1;33m\u001b[0m\u001b[1;33m\u001b[0m\u001b[0m\n\u001b[0m\u001b[0;32m    167\u001b[0m         \u001b[1;32mif\u001b[0m \u001b[0m_cudart\u001b[0m \u001b[1;32mis\u001b[0m \u001b[1;32mNone\u001b[0m\u001b[1;33m:\u001b[0m\u001b[1;33m\u001b[0m\u001b[1;33m\u001b[0m\u001b[0m\n\u001b[0;32m    168\u001b[0m             raise AssertionError(\n",
      "\u001b[1;31mAssertionError\u001b[0m: Torch not compiled with CUDA enabled"
     ]
    }
   ],
   "source": [
    "cuda.current_device()"
   ]
  },
  {
   "cell_type": "markdown",
   "metadata": {},
   "source": [
    "# Прочитаем файлы с разметкой и соединим их"
   ]
  },
  {
   "cell_type": "code",
   "execution_count": 6,
   "metadata": {},
   "outputs": [
    {
     "data": {
      "text/plain": [
       "17"
      ]
     },
     "execution_count": 6,
     "metadata": {},
     "output_type": "execute_result"
    }
   ],
   "source": [
    "# Из всех колонок в файлах разметки выберем только колонки разметки\n",
    "cols_of_labelling = [\n",
    "#     'Unnamed: 0',\n",
    "#     'storyId',\n",
    "#     'versionCreated',\n",
    "#     'sourceCode',\n",
    "#     'ric',\n",
    "#     'story_lang',\n",
    "#     'Analyst_Rating',\n",
    "#     'Asset_Sale',\n",
    "#     'Collaboration',\n",
    "#     'Contract_-_Agreement_-_Deal',\n",
    "#     'Credit_Debt_Rating',\n",
    "#     'Dividend',\n",
    "#     'Eco_Issues',\n",
    "#     'Executive_Change',\n",
    "#     'Financial_Results',\n",
    "#     'Investigation',\n",
    "#     'Investment',\n",
    "#     'Lawsuit',\n",
    "#     'Merger_and_Acquisition',\n",
    "#     'Price_Target',\n",
    "#     'Product_Update',\n",
    "#     'Security_Protection',\n",
    "#     'Settlement',\n",
    "#     'Stock_Buyback',\n",
    "#     'Workforce_Change',\n",
    "#     'number_of_types_detected',\n",
    "#     'headline',\n",
    "#     'story_wo_html',\n",
    "    'my_label_Analyst_Rating',\n",
    "#    'my_label_Asset_Sale',\n",
    "    'my_label_Collaboration',\n",
    "    'my_label_Contract_-_Agreement_-_Deal',\n",
    "    'my_label_Credit_Debt_Rating',\n",
    "    'my_label_Dividend',\n",
    "    'my_label_Eco_Issues',\n",
    "    'my_label_Executive_Change',\n",
    "    'my_label_Financial_Results',\n",
    "    'my_label_Investigation',\n",
    "    'my_label_Investment',\n",
    "    'my_label_Lawsuit',\n",
    "#    'my_label_Merger_and_Acquisition',\n",
    "    'my_label_Price_Target',\n",
    "    'my_label_Product_Update',\n",
    "    'my_label_Security_Protection',\n",
    "    'my_label_Settlement',\n",
    "    'my_label_Stock_Buyback',\n",
    "    'my_label_Workforce_Change',\n",
    "#     'my_label_digest'\n",
    "]\n",
    "\n",
    "len(cols_of_labelling)"
   ]
  },
  {
   "cell_type": "code",
   "execution_count": 7,
   "metadata": {},
   "outputs": [],
   "source": [
    "def get_files_name_in_folder(folder_name):\n",
    "    files_creation_dates = pd.DataFrame(data = [], columns=[\n",
    "        \"folder_name\", \"file_name\", \"num_time\", \"str_time\"\n",
    "    ])\n",
    "\n",
    "    files_creation_dates['file_name'] = os.listdir(folder_name)\n",
    "    files_creation_dates['folder_name'] = folder_name\n",
    "    files_creation_dates['file_folder_and_name'] = files_creation_dates['folder_name'] + files_creation_dates['file_name']\n",
    "    files_creation_dates\n",
    "    for i in range(0, len(files_creation_dates)):\n",
    "        file_folder_and_name = files_creation_dates['file_folder_and_name'][i]\n",
    "        files_creation_dates['num_time'][i] = os.path.getctime(file_folder_and_name)\n",
    "        files_creation_dates['str_time'][i] = time.ctime(os.path.getctime(file_folder_and_name))\n",
    "        \n",
    "    return list(files_creation_dates['file_folder_and_name'])"
   ]
  },
  {
   "cell_type": "code",
   "execution_count": 8,
   "metadata": {},
   "outputs": [
    {
     "data": {
      "text/plain": [
       "20"
      ]
     },
     "execution_count": 8,
     "metadata": {},
     "output_type": "execute_result"
    }
   ],
   "source": [
    "# Создадим лист только с названиями экселек с разметкой, будем его итерировать\n",
    "import re\n",
    "\n",
    "regex_for_filter = re.compile(r'/for_labelling(.*).xlsx')\n",
    "\n",
    "files_list_labelling = list(filter(\n",
    "    regex_for_filter.search, \n",
    "    get_files_name_in_folder(\n",
    "        folder_name=path_project_folder+folder_name_with_labelled_data_iter1)\n",
    "))\n",
    "\n",
    "len(files_list_labelling)"
   ]
  },
  {
   "cell_type": "code",
   "execution_count": 9,
   "metadata": {},
   "outputs": [
    {
     "name": "stdout",
     "output_type": "stream",
     "text": [
      "1 1 C:/DAN/t_systems/trade_project/labeled_news_iter1/for_labelling2_Merger_and_Acquisition.xlsx\n",
      "100 101 C:/DAN/t_systems/trade_project/labeled_news_iter1/for_labelling_Analyst_Rating.xlsx\n",
      "0 101 C:/DAN/t_systems/trade_project/labeled_news_iter1/for_labelling_Asset_Sale.xlsx\n",
      "43 144 C:/DAN/t_systems/trade_project/labeled_news_iter1/for_labelling_Collaboration.xlsx\n",
      "51 195 C:/DAN/t_systems/trade_project/labeled_news_iter1/for_labelling_Contract_-_Agreement_-_Deal.xlsx\n",
      "22 217 C:/DAN/t_systems/trade_project/labeled_news_iter1/for_labelling_Credit_Debt_Rating.xlsx\n",
      "64 281 C:/DAN/t_systems/trade_project/labeled_news_iter1/for_labelling_Dividend.xlsx\n",
      "44 325 C:/DAN/t_systems/trade_project/labeled_news_iter1/for_labelling_Eco_Issues.xlsx\n",
      "37 362 C:/DAN/t_systems/trade_project/labeled_news_iter1/for_labelling_Executive_Change.xlsx\n",
      "80 442 C:/DAN/t_systems/trade_project/labeled_news_iter1/for_labelling_Financial_Results.xlsx\n",
      "64 506 C:/DAN/t_systems/trade_project/labeled_news_iter1/for_labelling_Investigation.xlsx\n",
      "28 534 C:/DAN/t_systems/trade_project/labeled_news_iter1/for_labelling_Investment.xlsx\n",
      "42 576 C:/DAN/t_systems/trade_project/labeled_news_iter1/for_labelling_Lawsuit.xlsx\n",
      "3 579 C:/DAN/t_systems/trade_project/labeled_news_iter1/for_labelling_Merger_and_Acquisition.xlsx\n",
      "52 631 C:/DAN/t_systems/trade_project/labeled_news_iter1/for_labelling_Price_Target.xlsx\n",
      "35 666 C:/DAN/t_systems/trade_project/labeled_news_iter1/for_labelling_Product_Update.xlsx\n",
      "35 701 C:/DAN/t_systems/trade_project/labeled_news_iter1/for_labelling_Security_Protection.xlsx\n",
      "33 734 C:/DAN/t_systems/trade_project/labeled_news_iter1/for_labelling_Settlement.xlsx\n",
      "47 781 C:/DAN/t_systems/trade_project/labeled_news_iter1/for_labelling_Stock_Buyback.xlsx\n",
      "70 851 C:/DAN/t_systems/trade_project/labeled_news_iter1/for_labelling_Workforce_Change.xlsx\n"
     ]
    }
   ],
   "source": [
    "labelling_all_df = pd.DataFrame(data = [], columns=[])\n",
    "\n",
    "for file_name_now in files_list_labelling:\n",
    "    # Ранее мы уже создали список файлов с полным путём, проитерируем его\n",
    "    labelled_slice_now = pd.read_excel(file_name_now)\n",
    "\n",
    "    # Выберем только столбцы с разметкой и ID новости\n",
    "    try:\n",
    "        # Постараем подгрузить и столбец 'my_label_digest'\n",
    "        # Он означает, что в тексте собраны сразу несколько разнообразных новостей\n",
    "        labelled_slice_now = labelled_slice_now[\n",
    "            ['storyId'] + cols_of_labelling + ['my_label_digest']\n",
    "        ]\n",
    "    except Exception as e:\n",
    "        # Если не получилось, попробуем без этого столбца\n",
    "        # print(e, end=' ')\n",
    "        labelled_slice_now = labelled_slice_now[\n",
    "            ['storyId'] + cols_of_labelling\n",
    "        ]        \n",
    "\n",
    "    # Заменим пропуски на нули. Ноль - новость не про данный тип события\n",
    "    labelled_slice_now = labelled_slice_now\n",
    "    labelled_slice_now['labels_sum'] = labelled_slice_now.sum(axis=1)\n",
    "    labelled_slice_now = labelled_slice_now[labelled_slice_now['labels_sum'] > 0].reset_index(drop=True)\n",
    "\n",
    "    print(labelled_slice_now.shape[0], end=' ')\n",
    "    \n",
    "    labelling_all_df = labelling_all_df.append(labelled_slice_now, ignore_index = True)\n",
    "    \n",
    "    print(labelling_all_df.shape[0], end=' ')\n",
    "    \n",
    "    print(file_name_now)\n",
    "\n",
    "labelling_all_df = labelling_all_df.replace(np.nan, 0)\n",
    "labelling_all_df = labelling_all_df.drop(columns=['labels_sum'])\n",
    "\n",
    "# Заменим все двойки и едницы на единицы, оставив лишь два возможные метки\n",
    "labelling_all_df = labelling_all_df.replace(2, 1)\n",
    "labelling_all_df = labelling_all_df.replace(1, 1)\n",
    "labelling_all_df = labelling_all_df.replace(0, 0)"
   ]
  },
  {
   "cell_type": "code",
   "execution_count": 10,
   "metadata": {},
   "outputs": [
    {
     "name": "stdout",
     "output_type": "stream",
     "text": [
      "918.0\n"
     ]
    },
    {
     "data": {
      "image/png": "[encoded data removed]",
      "text/plain": [
       "<Figure size 640x480 with 1 Axes>"
      ]
     },
     "metadata": {},
     "output_type": "display_data"
    }
   ],
   "source": [
    "print(\n",
    "    labelling_all_df[cols_of_labelling + ['my_label_digest']].sum().sum()\n",
    ")\n",
    "(labelling_all_df[cols_of_labelling + ['my_label_digest']].sum()).plot(kind='barh', width=0.8, figsize=(8,6))\n",
    "plt.title('Number of labelled news per class (event-type)')\n",
    "plt.grid(True, axis='x')\n",
    "plt.savefig(path_project_folder + 'exhibits_saved/' + 'Number of labelled news per class (event-type).png', bbox_inches = \"tight\")"
   ]
  },
  {
   "cell_type": "code",
   "execution_count": 53,
   "metadata": {},
   "outputs": [
    {
     "data": {
      "text/html": [
       "<div>\n",
       "<style scoped>\n",
       "    .dataframe tbody tr th:only-of-type {\n",
       "        vertical-align: middle;\n",
       "    }\n",
       "\n",
       "    .dataframe tbody tr th {\n",
       "        vertical-align: top;\n",
       "    }\n",
       "\n",
       "    .dataframe thead th {\n",
       "        text-align: right;\n",
       "    }\n",
       "</style>\n",
       "<table border=\"1\" class=\"dataframe\">\n",
       "  <thead>\n",
       "    <tr style=\"text-align: right;\">\n",
       "      <th></th>\n",
       "      <th>storyId</th>\n",
       "      <th>my_label_Analyst_Rating</th>\n",
       "      <th>my_label_Collaboration</th>\n",
       "      <th>my_label_Contract_-_Agreement_-_Deal</th>\n",
       "      <th>my_label_Credit_Debt_Rating</th>\n",
       "      <th>my_label_Dividend</th>\n",
       "      <th>my_label_Eco_Issues</th>\n",
       "      <th>my_label_Executive_Change</th>\n",
       "      <th>my_label_Financial_Results</th>\n",
       "      <th>my_label_Investigation</th>\n",
       "      <th>my_label_Investment</th>\n",
       "      <th>my_label_Lawsuit</th>\n",
       "      <th>my_label_Price_Target</th>\n",
       "      <th>my_label_Product_Update</th>\n",
       "      <th>my_label_Security_Protection</th>\n",
       "      <th>my_label_Settlement</th>\n",
       "      <th>my_label_Stock_Buyback</th>\n",
       "      <th>my_label_Workforce_Change</th>\n",
       "      <th>my_label_digest</th>\n",
       "      <th>list_label</th>\n",
       "    </tr>\n",
       "  </thead>\n",
       "  <tbody>\n",
       "    <tr>\n",
       "      <th>850</th>\n",
       "      <td>urn:newsml:reuters.com:20191209:nNRAaepw3s:1</td>\n",
       "      <td>0.0</td>\n",
       "      <td>0.0</td>\n",
       "      <td>0.0</td>\n",
       "      <td>0.0</td>\n",
       "      <td>0.0</td>\n",
       "      <td>0.0</td>\n",
       "      <td>0.0</td>\n",
       "      <td>0.0</td>\n",
       "      <td>0.0</td>\n",
       "      <td>0.0</td>\n",
       "      <td>0.0</td>\n",
       "      <td>0.0</td>\n",
       "      <td>0.0</td>\n",
       "      <td>0.0</td>\n",
       "      <td>0.0</td>\n",
       "      <td>0.0</td>\n",
       "      <td>1.0</td>\n",
       "      <td>0.0</td>\n",
       "      <td>[0.0, 0.0, 0.0, 0.0, 0.0, 0.0, 0.0, 0.0, 0.0, ...</td>\n",
       "    </tr>\n",
       "  </tbody>\n",
       "</table>\n",
       "</div>"
      ],
      "text/plain": [
       "                                          storyId  my_label_Analyst_Rating  \\\n",
       "850  urn:newsml:reuters.com:20191209:nNRAaepw3s:1                      0.0   \n",
       "\n",
       "     my_label_Collaboration  my_label_Contract_-_Agreement_-_Deal  \\\n",
       "850                     0.0                                   0.0   \n",
       "\n",
       "     my_label_Credit_Debt_Rating  my_label_Dividend  my_label_Eco_Issues  \\\n",
       "850                          0.0                0.0                  0.0   \n",
       "\n",
       "     my_label_Executive_Change  my_label_Financial_Results  \\\n",
       "850                        0.0                         0.0   \n",
       "\n",
       "     my_label_Investigation  my_label_Investment  my_label_Lawsuit  \\\n",
       "850                     0.0                  0.0               0.0   \n",
       "\n",
       "     my_label_Price_Target  my_label_Product_Update  \\\n",
       "850                    0.0                      0.0   \n",
       "\n",
       "     my_label_Security_Protection  my_label_Settlement  \\\n",
       "850                           0.0                  0.0   \n",
       "\n",
       "     my_label_Stock_Buyback  my_label_Workforce_Change  my_label_digest  \\\n",
       "850                     0.0                        1.0              0.0   \n",
       "\n",
       "                                            list_label  \n",
       "850  [0.0, 0.0, 0.0, 0.0, 0.0, 0.0, 0.0, 0.0, 0.0, ...  "
      ]
     },
     "execution_count": 53,
     "metadata": {},
     "output_type": "execute_result"
    }
   ],
   "source": [
    "labelling_all_df['list_label'] = labelling_all_df[cols_of_labelling + ['my_label_digest']].values.tolist()\n",
    "labelling_all_df.tail(1)"
   ]
  },
  {
   "cell_type": "code",
   "execution_count": 54,
   "metadata": {},
   "outputs": [
    {
     "data": {
      "text/plain": [
       "storyId                                 urn:newsml:reuters.com:20201022:nNDL3RTZ1L:1ur...\n",
       "my_label_Analyst_Rating                                                               107\n",
       "my_label_Collaboration                                                                 57\n",
       "my_label_Contract_-_Agreement_-_Deal                                                   35\n",
       "my_label_Credit_Debt_Rating                                                            22\n",
       "my_label_Dividend                                                                      49\n",
       "my_label_Eco_Issues                                                                    51\n",
       "my_label_Executive_Change                                                              46\n",
       "my_label_Financial_Results                                                             86\n",
       "my_label_Investigation                                                                 70\n",
       "my_label_Investment                                                                    19\n",
       "my_label_Lawsuit                                                                       55\n",
       "my_label_Price_Target                                                                  31\n",
       "my_label_Product_Update                                                                67\n",
       "my_label_Security_Protection                                                           17\n",
       "my_label_Settlement                                                                    33\n",
       "my_label_Stock_Buyback                                                                 46\n",
       "my_label_Workforce_Change                                                              71\n",
       "my_label_digest                                                                        56\n",
       "list_label                              [0.0, 0.0, 0.0, 0.0, 0.0, 0.0, 0.0, 1.0, 0.0, ...\n",
       "dtype: object"
      ]
     },
     "execution_count": 54,
     "metadata": {},
     "output_type": "execute_result"
    }
   ],
   "source": [
    "labelling_all_df.sum()"
   ]
  },
  {
   "cell_type": "code",
   "execution_count": 41,
   "metadata": {},
   "outputs": [],
   "source": [
    "file_path = path_project_folder + 'labelling_all_df' + '.csv'\n",
    "labelling_all_df.to_csv(file_path, index=False)"
   ]
  },
  {
   "cell_type": "code",
   "execution_count": 13,
   "metadata": {},
   "outputs": [
    {
     "data": {
      "text/plain": [
       "Index(['storyId', 'my_label_Analyst_Rating', 'my_label_Asset_Sale',\n",
       "       'my_label_Collaboration', 'my_label_Contract_-_Agreement_-_Deal',\n",
       "       'my_label_Credit_Debt_Rating', 'my_label_Dividend',\n",
       "       'my_label_Eco_Issues', 'my_label_Executive_Change',\n",
       "       'my_label_Financial_Results', 'my_label_Investigation',\n",
       "       'my_label_Investment', 'my_label_Lawsuit',\n",
       "       'my_label_Merger_and_Acquisition', 'my_label_Price_Target',\n",
       "       'my_label_Product_Update', 'my_label_Security_Protection',\n",
       "       'my_label_Settlement', 'my_label_Stock_Buyback',\n",
       "       'my_label_Workforce_Change', 'my_label_digest', 'list_label'],\n",
       "      dtype='object')"
      ]
     },
     "execution_count": 13,
     "metadata": {},
     "output_type": "execute_result"
    }
   ],
   "source": [
    "labelling_all_df.columns"
   ]
  },
  {
   "cell_type": "markdown",
   "metadata": {},
   "source": [
    "# Разделим на train, validation и test выборки"
   ]
  },
  {
   "cell_type": "code",
   "execution_count": 12,
   "metadata": {},
   "outputs": [
    {
     "name": "stdout",
     "output_type": "stream",
     "text": [
      "(257644, 109)\n"
     ]
    }
   ],
   "source": [
    "# Може подгрузить csv, если хотим откатиться и не пересчитывать\n",
    "key_words_detection_df = pd.read_csv(path_project_folder + \"key_words_detection_df.csv\")\n",
    "print(key_words_detection_df.shape)"
   ]
  },
  {
   "cell_type": "code",
   "execution_count": 55,
   "metadata": {},
   "outputs": [],
   "source": [
    "# Добавим тексты к нашему датасету с разметкой\n",
    "lower_labelled_texts_list_types = pd.merge(\n",
    "    key_words_detection_df, \n",
    "    labelling_all_df[['storyId', 'list_label']], \n",
    "    how=\"right\", \n",
    "    on='storyId'\n",
    ").drop_duplicates(\n",
    "    subset=['storyId'], \n",
    "    keep='first'\n",
    ").reset_index(drop=True) # [['story_wo_html', 'list_label']]\n",
    "\n",
    "lower_labelled_texts_list_types['story_wo_html_lower'] = lower_labelled_texts_list_types['story_wo_html'].str.lower()\n",
    "lower_labelled_texts_list_types = lower_labelled_texts_list_types.drop(columns=['story_wo_html'])\n",
    "\n",
    "lower_labelled_texts_list_types = lower_labelled_texts_list_types[['story_wo_html_lower', 'list_label']]"
   ]
  },
  {
   "cell_type": "code",
   "execution_count": 56,
   "metadata": {},
   "outputs": [],
   "source": [
    "lower_labelled_texts_one_type = pd.merge(\n",
    "    key_words_detection_df, \n",
    "    labelling_all_df[['storyId', 'my_label_Executive_Change']], \n",
    "    how=\"right\", \n",
    "    on='storyId'\n",
    ").drop_duplicates(\n",
    "    subset=['storyId'], \n",
    "    keep='first'\n",
    ").reset_index(drop=True)[['story_wo_html', 'my_label_Executive_Change']]\n",
    "\n",
    "lower_labelled_texts_one_type['story_wo_html_lower'] = lower_labelled_texts_one_type['story_wo_html'].str.lower()\n",
    "lower_labelled_texts_one_type = lower_labelled_texts_one_type.drop(columns=['story_wo_html'])\n",
    "\n",
    "lower_labelled_texts_one_type = lower_labelled_texts_one_type[['story_wo_html_lower', 'my_label_Executive_Change']]"
   ]
  },
  {
   "cell_type": "code",
   "execution_count": 57,
   "metadata": {},
   "outputs": [
    {
     "name": "stdout",
     "output_type": "stream",
     "text": [
      "Number of labels: 18\n"
     ]
    }
   ],
   "source": [
    "print(\n",
    "    'Number of labels:',\n",
    "    len(lower_labelled_texts_list_types['list_label'][1])\n",
    ")"
   ]
  },
  {
   "cell_type": "code",
   "execution_count": 64,
   "metadata": {},
   "outputs": [
    {
     "data": {
      "text/plain": [
       "[97.0,\n",
       " 52.0,\n",
       " 29.0,\n",
       " 20.0,\n",
       " 46.0,\n",
       " 47.0,\n",
       " 43.0,\n",
       " 82.0,\n",
       " 62.0,\n",
       " 18.0,\n",
       " 46.0,\n",
       " 26.0,\n",
       " 66.0,\n",
       " 17.0,\n",
       " 28.0,\n",
       " 42.0,\n",
       " 68.0,\n",
       " 22.0]"
      ]
     },
     "execution_count": 64,
     "metadata": {},
     "output_type": "execute_result"
    }
   ],
   "source": [
    "df = lower_labelled_texts_list_types['list_label'].apply(pd.Series)\n",
    "\n",
    "df['story_wo_html_lower'] = lower_labelled_texts_list_types['story_wo_html_lower']\n",
    "list(df.sum()[:len(cols_of_labelling) + 1])"
   ]
  },
  {
   "cell_type": "code",
   "execution_count": 65,
   "metadata": {},
   "outputs": [],
   "source": [
    "lower_labelled_texts_list_types.to_csv(path_project_folder + 'lower_labelled_texts_list_types.csv')\n",
    "lower_labelled_texts_one_type.to_csv(path_project_folder + 'lower_labelled_texts_one_type.csv')"
   ]
  },
  {
   "cell_type": "markdown",
   "metadata": {},
   "source": [
    "# Рабочий BERT - запускал в Google Colab"
   ]
  },
  {
   "cell_type": "markdown",
   "metadata": {},
   "source": [
    "https://colab.research.google.com/drive/1bsdQ9NTFMHNSczaJrwjFGNuUmDrBLVHY#scrollTo=DroMPlwnKALz"
   ]
  },
  {
   "cell_type": "markdown",
   "metadata": {},
   "source": [
    "# Создадим датасет с текстами, которые мы хотим разметить BERT'ом"
   ]
  },
  {
   "cell_type": "code",
   "execution_count": 17,
   "metadata": {},
   "outputs": [
    {
     "data": {
      "text/html": [
       "<div>\n",
       "<style scoped>\n",
       "    .dataframe tbody tr th:only-of-type {\n",
       "        vertical-align: middle;\n",
       "    }\n",
       "\n",
       "    .dataframe tbody tr th {\n",
       "        vertical-align: top;\n",
       "    }\n",
       "\n",
       "    .dataframe thead th {\n",
       "        text-align: right;\n",
       "    }\n",
       "</style>\n",
       "<table border=\"1\" class=\"dataframe\">\n",
       "  <thead>\n",
       "    <tr style=\"text-align: right;\">\n",
       "      <th></th>\n",
       "      <th>ric</th>\n",
       "      <th>versionCreated</th>\n",
       "      <th>headline</th>\n",
       "      <th>storyId</th>\n",
       "      <th>sourceCode</th>\n",
       "      <th>story_wo_html</th>\n",
       "      <th>story_lang</th>\n",
       "      <th>Financial_Results_announces__s___Q1_Q2_Q3_Q4___result</th>\n",
       "      <th>Financial_Results__Q1_Q2_Q3_Q4___s__operating_profit</th>\n",
       "      <th>Financial_Results__Q1_Q2_Q3_Q4___s__sales</th>\n",
       "      <th>...</th>\n",
       "      <th>Eco_Issues_energy_management</th>\n",
       "      <th>Eco_Issues_sustainable</th>\n",
       "      <th>Eco_Issues_energy_efficient</th>\n",
       "      <th>Security_Protection_security_architecture</th>\n",
       "      <th>Security_Protection_security_requirement</th>\n",
       "      <th>Security_Protection_smartphone_security</th>\n",
       "      <th>Security_Protection_authentication</th>\n",
       "      <th>Security_Protection_hardware_attack</th>\n",
       "      <th>Security_Protection_verify_their_identity</th>\n",
       "      <th>Security_Protection_seamless_security</th>\n",
       "    </tr>\n",
       "  </thead>\n",
       "  <tbody>\n",
       "    <tr>\n",
       "      <th>0</th>\n",
       "      <td>DTEGn.DE</td>\n",
       "      <td>2020-12-23 18:25:27.865000+00:00</td>\n",
       "      <td>IGN Igen Networks joins T-Mobile partner program</td>\n",
       "      <td>urn:newsml:reuters.com:20201223:nNRAdspppv:1</td>\n",
       "      <td>NS:CNSWCH</td>\n",
       "      <td>Igen Networks Corp. has joined the T-Mobile pa...</td>\n",
       "      <td>en</td>\n",
       "      <td>False</td>\n",
       "      <td>False</td>\n",
       "      <td>False</td>\n",
       "      <td>...</td>\n",
       "      <td>False</td>\n",
       "      <td>False</td>\n",
       "      <td>False</td>\n",
       "      <td>False</td>\n",
       "      <td>False</td>\n",
       "      <td>False</td>\n",
       "      <td>False</td>\n",
       "      <td>False</td>\n",
       "      <td>False</td>\n",
       "      <td>False</td>\n",
       "    </tr>\n",
       "    <tr>\n",
       "      <th>1</th>\n",
       "      <td>DTEGn.DE</td>\n",
       "      <td>2020-12-22 08:35:59.285000+00:00</td>\n",
       "      <td>(EN) Makedonski Telekom AD - Skopje Board Chan...</td>\n",
       "      <td>urn:newsml:reuters.com:20201222:nGLF4Kt1L3:2</td>\n",
       "      <td>NS:GLFILE</td>\n",
       "      <td>http://filings.ica.int.thomsonreuters.com/fili...</td>\n",
       "      <td>en</td>\n",
       "      <td>False</td>\n",
       "      <td>False</td>\n",
       "      <td>False</td>\n",
       "      <td>...</td>\n",
       "      <td>False</td>\n",
       "      <td>False</td>\n",
       "      <td>False</td>\n",
       "      <td>False</td>\n",
       "      <td>False</td>\n",
       "      <td>False</td>\n",
       "      <td>False</td>\n",
       "      <td>False</td>\n",
       "      <td>False</td>\n",
       "      <td>False</td>\n",
       "    </tr>\n",
       "  </tbody>\n",
       "</table>\n",
       "<p>2 rows × 109 columns</p>\n",
       "</div>"
      ],
      "text/plain": [
       "        ric                    versionCreated  \\\n",
       "0  DTEGn.DE  2020-12-23 18:25:27.865000+00:00   \n",
       "1  DTEGn.DE  2020-12-22 08:35:59.285000+00:00   \n",
       "\n",
       "                                            headline  \\\n",
       "0   IGN Igen Networks joins T-Mobile partner program   \n",
       "1  (EN) Makedonski Telekom AD - Skopje Board Chan...   \n",
       "\n",
       "                                        storyId sourceCode  \\\n",
       "0  urn:newsml:reuters.com:20201223:nNRAdspppv:1  NS:CNSWCH   \n",
       "1  urn:newsml:reuters.com:20201222:nGLF4Kt1L3:2  NS:GLFILE   \n",
       "\n",
       "                                       story_wo_html story_lang  \\\n",
       "0  Igen Networks Corp. has joined the T-Mobile pa...         en   \n",
       "1  http://filings.ica.int.thomsonreuters.com/fili...         en   \n",
       "\n",
       "   Financial_Results_announces__s___Q1_Q2_Q3_Q4___result  \\\n",
       "0                                              False       \n",
       "1                                              False       \n",
       "\n",
       "   Financial_Results__Q1_Q2_Q3_Q4___s__operating_profit  \\\n",
       "0                                              False      \n",
       "1                                              False      \n",
       "\n",
       "   Financial_Results__Q1_Q2_Q3_Q4___s__sales  ...  \\\n",
       "0                                      False  ...   \n",
       "1                                      False  ...   \n",
       "\n",
       "   Eco_Issues_energy_management  Eco_Issues_sustainable  \\\n",
       "0                         False                   False   \n",
       "1                         False                   False   \n",
       "\n",
       "   Eco_Issues_energy_efficient  Security_Protection_security_architecture  \\\n",
       "0                        False                                      False   \n",
       "1                        False                                      False   \n",
       "\n",
       "   Security_Protection_security_requirement  \\\n",
       "0                                     False   \n",
       "1                                     False   \n",
       "\n",
       "   Security_Protection_smartphone_security  \\\n",
       "0                                    False   \n",
       "1                                    False   \n",
       "\n",
       "   Security_Protection_authentication  Security_Protection_hardware_attack  \\\n",
       "0                               False                                False   \n",
       "1                               False                                False   \n",
       "\n",
       "   Security_Protection_verify_their_identity  \\\n",
       "0                                      False   \n",
       "1                                      False   \n",
       "\n",
       "   Security_Protection_seamless_security  \n",
       "0                                  False  \n",
       "1                                  False  \n",
       "\n",
       "[2 rows x 109 columns]"
      ]
     },
     "execution_count": 17,
     "metadata": {},
     "output_type": "execute_result"
    }
   ],
   "source": [
    "key_words_detection_df = pd.read_csv(path_project_folder + \"key_words_detection_df.csv\")\n",
    "key_words_detection_df.head(2)"
   ]
  },
  {
   "cell_type": "code",
   "execution_count": 18,
   "metadata": {},
   "outputs": [],
   "source": [
    "key_words_detection_df_sample = key_words_detection_df\n",
    "key_words_detection_df_sample['story_wo_html_lower'] = key_words_detection_df_sample['story_wo_html'].str.lower()\n",
    "key_words_detection_df_sample = key_words_detection_df_sample[['storyId', 'story_wo_html_lower']]"
   ]
  },
  {
   "cell_type": "code",
   "execution_count": 19,
   "metadata": {},
   "outputs": [],
   "source": [
    "key_words_detection_df_sample = key_words_detection_df_sample"
   ]
  },
  {
   "cell_type": "code",
   "execution_count": 20,
   "metadata": {},
   "outputs": [],
   "source": [
    "key_words_detection_df_sample.to_csv(path_project_folder + 'key_words_detection_df_sample.csv', index=False)"
   ]
  },
  {
   "cell_type": "markdown",
   "metadata": {},
   "source": [
    "# Далее идут неудавшиеся попытки"
   ]
  },
  {
   "cell_type": "markdown",
   "metadata": {},
   "source": [
    "## Попытка 1 после Москвы построить нейронку"
   ]
  },
  {
   "cell_type": "markdown",
   "metadata": {},
   "source": [
    "https://medium.com/huggingface/multi-label-text-classification-using-bert-the-mighty-transformer-69714fa3fb3d\n",
    "\n",
    "The model is also pre-trained on two unsupervised tasks, masked language modeling and next sentence prediction."
   ]
  },
  {
   "cell_type": "markdown",
   "metadata": {},
   "source": [
    "Bert input leght limitation"
   ]
  },
  {
   "cell_type": "markdown",
   "metadata": {},
   "source": [
    "We will convert the InputExample to the feature that is understood by BERT. The feature will be represented by class InputFeatures.\n",
    "- input_ids: list of numerical ids for the tokenised text\n",
    "- input_mask: will be set to 1 for real tokens and 0 for the padding tokens\n",
    "- segment_ids: for our case, this will be set to the list of ones\n",
    "- label_ids: one-hot encoded labels for the text"
   ]
  },
  {
   "cell_type": "markdown",
   "metadata": {},
   "source": [
    "PreTrainedBertModel - не знает, что это за сущность"
   ]
  },
  {
   "cell_type": "markdown",
   "metadata": {},
   "source": [
    "## Попытка 2 после Москвы"
   ]
  },
  {
   "cell_type": "markdown",
   "metadata": {},
   "source": [
    "https://www.kaggle.com/notebooks?sortBy=voteCount&searchQuery=bert\n",
    "\n",
    "Попробовал код ниже - не подгружается библиотека fastai.callbacks\n",
    "\n",
    "Рекомендуют сделать среду с помощью конды"
   ]
  },
  {
   "cell_type": "markdown",
   "metadata": {},
   "source": [
    "## Попытка 3 после Москвы"
   ]
  },
  {
   "cell_type": "markdown",
   "metadata": {},
   "source": [
    "https://colab.research.google.com/drive/1Y4o3jh3ZH70tl6mCd76vz_IxX23biCPP#scrollTo=cfNIhN19te3N\n",
    "\n",
    "Мне кажется, не сработало на моих данных, потому что там размечают предложения и вставляют PAD SEP CLS куда надо, если бы текст был бы просто предложением"
   ]
  },
  {
   "cell_type": "markdown",
   "metadata": {},
   "source": [
    "## Попытка 4 после Москвы"
   ]
  },
  {
   "cell_type": "markdown",
   "metadata": {},
   "source": [
    "https://www.youtube.com/watch?v=wG2J_MJEjSQ\n"
   ]
  },
  {
   "cell_type": "markdown",
   "metadata": {},
   "source": [
    "## Попытка 5 после Москвы"
   ]
  },
  {
   "cell_type": "code",
   "execution_count": 11,
   "metadata": {},
   "outputs": [],
   "source": [
    "train_path = path_project_folder + 'toxic_comments/train.csv'\n",
    "test_path = path_project_folder + 'toxic_comments/test.csv'\n",
    "test_labels_path = path_project_folder + 'toxic_comments/test_labels.csv'\n",
    "subm_path = path_project_folder + 'toxic_comments/sample_submission.csv'"
   ]
  }
 ],
 "metadata": {
  "kernelspec": {
   "display_name": "Python 3",
   "language": "python",
   "name": "python3"
  },
  "language_info": {
   "codemirror_mode": {
    "name": "ipython",
    "version": 3
   },
   "file_extension": ".py",
   "mimetype": "text/x-python",
   "name": "python",
   "nbconvert_exporter": "python",
   "pygments_lexer": "ipython3",
   "version": "3.7.9"
  }
 },
 "nbformat": 4,
 "nbformat_minor": 4
}
