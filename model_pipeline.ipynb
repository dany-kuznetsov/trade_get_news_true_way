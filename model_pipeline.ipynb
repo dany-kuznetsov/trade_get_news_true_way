{
 "cells": [
  {
   "cell_type": "code",
   "execution_count": null,
   "metadata": {},
   "outputs": [],
   "source": []
  },
  {
   "cell_type": "code",
   "execution_count": 2,
   "metadata": {},
   "outputs": [],
   "source": [
    "from pandas_datareader import data\n",
    "from pandas_datareader._utils import RemoteDataError\n",
    "import matplotlib.pyplot as plt\n",
    "import pandas as pd\n",
    "import numpy as np\n",
    "import math\n",
    "import csv\n",
    "import re\n",
    "from datetime import datetime\n",
    "\n",
    "import os.path\n",
    "from os import path\n",
    "import time"
   ]
  },
  {
   "cell_type": "code",
   "execution_count": null,
   "metadata": {},
   "outputs": [],
   "source": []
  },
  {
   "cell_type": "code",
   "execution_count": 135,
   "metadata": {},
   "outputs": [],
   "source": [
    "prices_news_merged_df = pd.read_csv('prices_news_merged_df.csv', sep=';')"
   ]
  },
  {
   "cell_type": "code",
   "execution_count": 136,
   "metadata": {},
   "outputs": [
    {
     "data": {
      "text/plain": [
       "Index(['Date', 'OPEN', 'CLOSE', 'MIN', 'MAX', '0', '1', '2', '3', '4', '5',\n",
       "       '6', '7', '8', '9', '10', '11', '12', '13', '14', '15', '16', '17',\n",
       "       'date'],\n",
       "      dtype='object')"
      ]
     },
     "execution_count": 136,
     "metadata": {},
     "output_type": "execute_result"
    }
   ],
   "source": [
    "prices_news_merged_df.columns"
   ]
  },
  {
   "cell_type": "code",
   "execution_count": 137,
   "metadata": {},
   "outputs": [
    {
     "name": "stdout",
     "output_type": "stream",
     "text": [
      "Index(['Date', 'OPEN', 'CLOSE', 'MIN', 'MAX', '0', '1', '2', '3', '4', '5',\n",
      "       '6', '7', '8', '9', '10', '11', '12', '13', '14', '15', '16', '17',\n",
      "       'date'],\n",
      "      dtype='object')\n"
     ]
    }
   ],
   "source": [
    "print(prices_news_merged_df.columns)\n",
    "price_cols = ['OPEN', 'CLOSE', 'MIN', 'MAX']\n",
    "news_cols = [\"0\",\"1\",\"2\",\"3\",\"4\",\"5\",\"6\",\"7\",\"8\",\"9\",\"10\",\"11\",\"12\",\"13\",\"14\",\"15\",\"16\",\"17\"]"
   ]
  },
  {
   "cell_type": "code",
   "execution_count": 138,
   "metadata": {},
   "outputs": [],
   "source": [
    "price_change_cols = []\n",
    "for i in range(1, 30):\n",
    "    new_col_name = \"price_change_\" + str(i)\n",
    "    prices_news_merged_df[new_col_name] = (prices_news_merged_df['CLOSE'] - prices_news_merged_df['CLOSE'].shift(periods=i)) / prices_news_merged_df['CLOSE'].shift(periods=i) \n",
    "    price_change_cols.append(new_col_name)"
   ]
  },
  {
   "cell_type": "code",
   "execution_count": 310,
   "metadata": {},
   "outputs": [
    {
     "data": {
      "text/html": [
       "<div>\n",
       "<style scoped>\n",
       "    .dataframe tbody tr th:only-of-type {\n",
       "        vertical-align: middle;\n",
       "    }\n",
       "\n",
       "    .dataframe tbody tr th {\n",
       "        vertical-align: top;\n",
       "    }\n",
       "\n",
       "    .dataframe thead th {\n",
       "        text-align: right;\n",
       "    }\n",
       "</style>\n",
       "<table border=\"1\" class=\"dataframe\">\n",
       "  <thead>\n",
       "    <tr style=\"text-align: right;\">\n",
       "      <th></th>\n",
       "      <th>index</th>\n",
       "      <th>Date</th>\n",
       "      <th>OPEN</th>\n",
       "      <th>CLOSE</th>\n",
       "      <th>MIN</th>\n",
       "      <th>MAX</th>\n",
       "      <th>0</th>\n",
       "      <th>1</th>\n",
       "      <th>2</th>\n",
       "      <th>3</th>\n",
       "      <th>...</th>\n",
       "      <th>price_change_25</th>\n",
       "      <th>price_change_26</th>\n",
       "      <th>price_change_27</th>\n",
       "      <th>price_change_28</th>\n",
       "      <th>price_change_29</th>\n",
       "      <th>y_5</th>\n",
       "      <th>y_4</th>\n",
       "      <th>y_3</th>\n",
       "      <th>y_2</th>\n",
       "      <th>y_1</th>\n",
       "    </tr>\n",
       "  </thead>\n",
       "  <tbody>\n",
       "    <tr>\n",
       "      <th>683</th>\n",
       "      <td>712</td>\n",
       "      <td>2020-12-23</td>\n",
       "      <td>118.274747</td>\n",
       "      <td>119.126325</td>\n",
       "      <td>118.156472</td>\n",
       "      <td>120.532016</td>\n",
       "      <td>9</td>\n",
       "      <td>13</td>\n",
       "      <td>13</td>\n",
       "      <td>10</td>\n",
       "      <td>...</td>\n",
       "      <td>0.011724</td>\n",
       "      <td>0.017450</td>\n",
       "      <td>0.004303</td>\n",
       "      <td>-0.009554</td>\n",
       "      <td>-0.025479</td>\n",
       "      <td>-0.011814</td>\n",
       "      <td>-0.001074</td>\n",
       "      <td>-0.012316</td>\n",
       "      <td>-0.004306</td>\n",
       "      <td>-0.001102</td>\n",
       "    </tr>\n",
       "    <tr>\n",
       "      <th>684</th>\n",
       "      <td>713</td>\n",
       "      <td>2020-12-24</td>\n",
       "      <td>119.233539</td>\n",
       "      <td>118.995072</td>\n",
       "      <td>118.055010</td>\n",
       "      <td>120.342411</td>\n",
       "      <td>6</td>\n",
       "      <td>12</td>\n",
       "      <td>10</td>\n",
       "      <td>8</td>\n",
       "      <td>...</td>\n",
       "      <td>0.020101</td>\n",
       "      <td>0.010609</td>\n",
       "      <td>0.016329</td>\n",
       "      <td>0.003197</td>\n",
       "      <td>-0.010645</td>\n",
       "      <td>NaN</td>\n",
       "      <td>-0.010724</td>\n",
       "      <td>0.000028</td>\n",
       "      <td>-0.011227</td>\n",
       "      <td>-0.003208</td>\n",
       "    </tr>\n",
       "    <tr>\n",
       "      <th>685</th>\n",
       "      <td>714</td>\n",
       "      <td>2020-12-25</td>\n",
       "      <td>118.423895</td>\n",
       "      <td>118.613373</td>\n",
       "      <td>116.896227</td>\n",
       "      <td>119.028520</td>\n",
       "      <td>9</td>\n",
       "      <td>5</td>\n",
       "      <td>8</td>\n",
       "      <td>9</td>\n",
       "      <td>...</td>\n",
       "      <td>0.029989</td>\n",
       "      <td>0.016829</td>\n",
       "      <td>0.007368</td>\n",
       "      <td>0.013069</td>\n",
       "      <td>-0.000021</td>\n",
       "      <td>NaN</td>\n",
       "      <td>NaN</td>\n",
       "      <td>-0.007541</td>\n",
       "      <td>0.003246</td>\n",
       "      <td>-0.008045</td>\n",
       "    </tr>\n",
       "    <tr>\n",
       "      <th>686</th>\n",
       "      <td>715</td>\n",
       "      <td>2020-12-26</td>\n",
       "      <td>119.064104</td>\n",
       "      <td>117.659148</td>\n",
       "      <td>116.047217</td>\n",
       "      <td>119.778489</td>\n",
       "      <td>6</td>\n",
       "      <td>7</td>\n",
       "      <td>11</td>\n",
       "      <td>4</td>\n",
       "      <td>...</td>\n",
       "      <td>0.034323</td>\n",
       "      <td>0.021703</td>\n",
       "      <td>0.008649</td>\n",
       "      <td>-0.000737</td>\n",
       "      <td>0.004919</td>\n",
       "      <td>NaN</td>\n",
       "      <td>NaN</td>\n",
       "      <td>NaN</td>\n",
       "      <td>0.000508</td>\n",
       "      <td>0.011382</td>\n",
       "    </tr>\n",
       "    <tr>\n",
       "      <th>687</th>\n",
       "      <td>716</td>\n",
       "      <td>2020-12-27</td>\n",
       "      <td>117.494425</td>\n",
       "      <td>118.998354</td>\n",
       "      <td>116.554470</td>\n",
       "      <td>120.021739</td>\n",
       "      <td>13</td>\n",
       "      <td>9</td>\n",
       "      <td>11</td>\n",
       "      <td>11</td>\n",
       "      <td>...</td>\n",
       "      <td>0.043602</td>\n",
       "      <td>0.046096</td>\n",
       "      <td>0.033332</td>\n",
       "      <td>0.020129</td>\n",
       "      <td>0.010637</td>\n",
       "      <td>NaN</td>\n",
       "      <td>NaN</td>\n",
       "      <td>NaN</td>\n",
       "      <td>NaN</td>\n",
       "      <td>-0.010751</td>\n",
       "    </tr>\n",
       "    <tr>\n",
       "      <th>688</th>\n",
       "      <td>717</td>\n",
       "      <td>2020-12-28</td>\n",
       "      <td>119.426748</td>\n",
       "      <td>117.718945</td>\n",
       "      <td>117.507051</td>\n",
       "      <td>120.788213</td>\n",
       "      <td>5</td>\n",
       "      <td>4</td>\n",
       "      <td>6</td>\n",
       "      <td>2</td>\n",
       "      <td>...</td>\n",
       "      <td>0.049558</td>\n",
       "      <td>0.032382</td>\n",
       "      <td>0.034848</td>\n",
       "      <td>0.022222</td>\n",
       "      <td>0.009161</td>\n",
       "      <td>NaN</td>\n",
       "      <td>NaN</td>\n",
       "      <td>NaN</td>\n",
       "      <td>NaN</td>\n",
       "      <td>NaN</td>\n",
       "    </tr>\n",
       "  </tbody>\n",
       "</table>\n",
       "<p>6 rows × 59 columns</p>\n",
       "</div>"
      ],
      "text/plain": [
       "     index        Date        OPEN       CLOSE         MIN         MAX   0  \\\n",
       "683    712  2020-12-23  118.274747  119.126325  118.156472  120.532016   9   \n",
       "684    713  2020-12-24  119.233539  118.995072  118.055010  120.342411   6   \n",
       "685    714  2020-12-25  118.423895  118.613373  116.896227  119.028520   9   \n",
       "686    715  2020-12-26  119.064104  117.659148  116.047217  119.778489   6   \n",
       "687    716  2020-12-27  117.494425  118.998354  116.554470  120.021739  13   \n",
       "688    717  2020-12-28  119.426748  117.718945  117.507051  120.788213   5   \n",
       "\n",
       "      1   2   3  ...  price_change_25  price_change_26  price_change_27  \\\n",
       "683  13  13  10  ...         0.011724         0.017450         0.004303   \n",
       "684  12  10   8  ...         0.020101         0.010609         0.016329   \n",
       "685   5   8   9  ...         0.029989         0.016829         0.007368   \n",
       "686   7  11   4  ...         0.034323         0.021703         0.008649   \n",
       "687   9  11  11  ...         0.043602         0.046096         0.033332   \n",
       "688   4   6   2  ...         0.049558         0.032382         0.034848   \n",
       "\n",
       "     price_change_28  price_change_29       y_5       y_4       y_3       y_2  \\\n",
       "683        -0.009554        -0.025479 -0.011814 -0.001074 -0.012316 -0.004306   \n",
       "684         0.003197        -0.010645       NaN -0.010724  0.000028 -0.011227   \n",
       "685         0.013069        -0.000021       NaN       NaN -0.007541  0.003246   \n",
       "686        -0.000737         0.004919       NaN       NaN       NaN  0.000508   \n",
       "687         0.020129         0.010637       NaN       NaN       NaN       NaN   \n",
       "688         0.022222         0.009161       NaN       NaN       NaN       NaN   \n",
       "\n",
       "          y_1  \n",
       "683 -0.001102  \n",
       "684 -0.003208  \n",
       "685 -0.008045  \n",
       "686  0.011382  \n",
       "687 -0.010751  \n",
       "688       NaN  \n",
       "\n",
       "[6 rows x 59 columns]"
      ]
     },
     "execution_count": 310,
     "metadata": {},
     "output_type": "execute_result"
    }
   ],
   "source": [
    "for i in range (-5, 0):\n",
    "    new_col_name = 'y_' + str(-i)\n",
    "    prices_news_merged_df[new_col_name] = (prices_news_merged_df['CLOSE'].shift(periods=i) - prices_news_merged_df['CLOSE'])   / prices_news_merged_df['CLOSE']\n",
    "\n",
    "prices_news_merged_df.tail(6)"
   ]
  },
  {
   "cell_type": "code",
   "execution_count": 311,
   "metadata": {},
   "outputs": [],
   "source": [
    "prices_news_merged_df.dropna(axis=0, how='any', thresh=None, subset=None, inplace=True)\n",
    "prices_news_merged_df = prices_news_merged_df.reset_index()"
   ]
  },
  {
   "cell_type": "code",
   "execution_count": 312,
   "metadata": {},
   "outputs": [
    {
     "data": {
      "text/html": [
       "<div>\n",
       "<style scoped>\n",
       "    .dataframe tbody tr th:only-of-type {\n",
       "        vertical-align: middle;\n",
       "    }\n",
       "\n",
       "    .dataframe tbody tr th {\n",
       "        vertical-align: top;\n",
       "    }\n",
       "\n",
       "    .dataframe thead th {\n",
       "        text-align: right;\n",
       "    }\n",
       "</style>\n",
       "<table border=\"1\" class=\"dataframe\">\n",
       "  <thead>\n",
       "    <tr style=\"text-align: right;\">\n",
       "      <th></th>\n",
       "      <th>price_change_1</th>\n",
       "      <th>price_change_2</th>\n",
       "      <th>price_change_3</th>\n",
       "      <th>price_change_4</th>\n",
       "      <th>price_change_5</th>\n",
       "      <th>price_change_6</th>\n",
       "      <th>price_change_7</th>\n",
       "      <th>price_change_8</th>\n",
       "      <th>price_change_9</th>\n",
       "      <th>price_change_10</th>\n",
       "      <th>...</th>\n",
       "      <th>price_change_20</th>\n",
       "      <th>price_change_21</th>\n",
       "      <th>price_change_22</th>\n",
       "      <th>price_change_23</th>\n",
       "      <th>price_change_24</th>\n",
       "      <th>price_change_25</th>\n",
       "      <th>price_change_26</th>\n",
       "      <th>price_change_27</th>\n",
       "      <th>price_change_28</th>\n",
       "      <th>price_change_29</th>\n",
       "    </tr>\n",
       "  </thead>\n",
       "  <tbody>\n",
       "    <tr>\n",
       "      <th>682</th>\n",
       "      <td>-0.014875</td>\n",
       "      <td>-0.023755</td>\n",
       "      <td>-0.010051</td>\n",
       "      <td>-0.003141</td>\n",
       "      <td>0.002548</td>\n",
       "      <td>-0.003260</td>\n",
       "      <td>0.004929</td>\n",
       "      <td>0.018933</td>\n",
       "      <td>0.030323</td>\n",
       "      <td>0.033516</td>\n",
       "      <td>...</td>\n",
       "      <td>0.033535</td>\n",
       "      <td>0.036005</td>\n",
       "      <td>0.023364</td>\n",
       "      <td>0.010289</td>\n",
       "      <td>0.000888</td>\n",
       "      <td>0.006553</td>\n",
       "      <td>-0.006453</td>\n",
       "      <td>-0.020161</td>\n",
       "      <td>-0.035916</td>\n",
       "      <td>-0.032056</td>\n",
       "    </tr>\n",
       "    <tr>\n",
       "      <th>683</th>\n",
       "      <td>0.010826</td>\n",
       "      <td>-0.004210</td>\n",
       "      <td>-0.013186</td>\n",
       "      <td>0.000666</td>\n",
       "      <td>0.007651</td>\n",
       "      <td>0.013401</td>\n",
       "      <td>0.007531</td>\n",
       "      <td>0.015808</td>\n",
       "      <td>0.029964</td>\n",
       "      <td>0.041477</td>\n",
       "      <td>...</td>\n",
       "      <td>0.062106</td>\n",
       "      <td>0.044724</td>\n",
       "      <td>0.047220</td>\n",
       "      <td>0.034443</td>\n",
       "      <td>0.021226</td>\n",
       "      <td>0.011724</td>\n",
       "      <td>0.017450</td>\n",
       "      <td>0.004303</td>\n",
       "      <td>-0.009554</td>\n",
       "      <td>-0.025479</td>\n",
       "    </tr>\n",
       "  </tbody>\n",
       "</table>\n",
       "<p>2 rows × 29 columns</p>\n",
       "</div>"
      ],
      "text/plain": [
       "     price_change_1  price_change_2  price_change_3  price_change_4  \\\n",
       "682       -0.014875       -0.023755       -0.010051       -0.003141   \n",
       "683        0.010826       -0.004210       -0.013186        0.000666   \n",
       "\n",
       "     price_change_5  price_change_6  price_change_7  price_change_8  \\\n",
       "682        0.002548       -0.003260        0.004929        0.018933   \n",
       "683        0.007651        0.013401        0.007531        0.015808   \n",
       "\n",
       "     price_change_9  price_change_10  ...  price_change_20  price_change_21  \\\n",
       "682        0.030323         0.033516  ...         0.033535         0.036005   \n",
       "683        0.029964         0.041477  ...         0.062106         0.044724   \n",
       "\n",
       "     price_change_22  price_change_23  price_change_24  price_change_25  \\\n",
       "682         0.023364         0.010289         0.000888         0.006553   \n",
       "683         0.047220         0.034443         0.021226         0.011724   \n",
       "\n",
       "     price_change_26  price_change_27  price_change_28  price_change_29  \n",
       "682        -0.006453        -0.020161        -0.035916        -0.032056  \n",
       "683         0.017450         0.004303        -0.009554        -0.025479  \n",
       "\n",
       "[2 rows x 29 columns]"
      ]
     },
     "execution_count": 312,
     "metadata": {},
     "output_type": "execute_result"
    }
   ],
   "source": [
    "prices_news_merged_df[price_change_cols].tail(2)"
   ]
  },
  {
   "cell_type": "markdown",
   "metadata": {},
   "source": [
    "# Train test split"
   ]
  },
  {
   "cell_type": "code",
   "execution_count": 392,
   "metadata": {},
   "outputs": [],
   "source": [
    "X = np.array(prices_news_merged_df[news_cols + price_change_cols].values.tolist())\n",
    "y = np.array(prices_news_merged_df[['y_5']].values.tolist())"
   ]
  },
  {
   "cell_type": "code",
   "execution_count": 389,
   "metadata": {},
   "outputs": [
    {
     "name": "stdout",
     "output_type": "stream",
     "text": [
      "570 114\n"
     ]
    }
   ],
   "source": [
    "from sklearn.model_selection import train_test_split\n",
    "# X_train, X_test, y_train, y_test = train_test_split(X, y, test_size=0.25)\n",
    "\n",
    "from sklearn.model_selection import TimeSeriesSplit\n",
    "tscv = TimeSeriesSplit()\n",
    "for train_index, test_index in tscv.split(X):\n",
    "    # print(\"TRAIN:\", train_index, \"TEST:\", test_index)\n",
    "    # To get the indices \n",
    "    X_train, X_test = X[train_index], X[test_index]\n",
    "    y_train, y_test = y[train_index], y[test_index]\n",
    "\n",
    "print(len(X_train), len(X_test))"
   ]
  },
  {
   "cell_type": "code",
   "execution_count": null,
   "metadata": {},
   "outputs": [],
   "source": []
  },
  {
   "cell_type": "markdown",
   "metadata": {},
   "source": [
    "# Model evaluation function"
   ]
  },
  {
   "cell_type": "code",
   "execution_count": null,
   "metadata": {},
   "outputs": [],
   "source": []
  },
  {
   "cell_type": "code",
   "execution_count": 449,
   "metadata": {},
   "outputs": [],
   "source": [
    "from sklearn.metrics import mean_absolute_error\n",
    "from sklearn.metrics import mean_squared_error\n",
    "from math import sqrt\n",
    "import statistics \n",
    "\n",
    "def eval_model_predictions_regression_problem(y_train, train_pred, y_test, test_pred, need_plots=True):\n",
    "    # Error\n",
    "    error_train = train_pred - y_train\n",
    "    error_test = test_pred - y_test\n",
    "    \n",
    "    # Bias\n",
    "    bias_train = error_train.mean()\n",
    "    bias_test = error_test.mean()\n",
    "    \n",
    "    # MAE\n",
    "    mae_train = mean_absolute_error(y_train, train_pred)\n",
    "    mae_test = mean_absolute_error(y_test, test_pred)\n",
    "    \n",
    "    # RMSE \n",
    "    rmse_train = math.sqrt(mean_squared_error(y_train, train_pred))\n",
    "    rmse_test = math.sqrt(mean_squared_error(y_test, test_pred))\n",
    "    \n",
    "    # Compare error with data\n",
    "    comparing_metrics = pd.DataFrame(columns=['name', 'value'])\n",
    "    \n",
    "    comparing_metrics = comparing_metrics.append(\n",
    "        {'name': 'mae_train', 'value': mae_train}, ignore_index=True)\n",
    "        \n",
    "    comparing_metrics = comparing_metrics.append(\n",
    "        {'name': 'mae_test', 'value': mae_test}, ignore_index=True)\n",
    "    \n",
    "    if type(y_train[0]) == np.ndarray:\n",
    "        st_dev = statistics.stdev([item for sublist in y_train for item in sublist])\n",
    "    else:\n",
    "        st_dev = statistics.stdev(y_train)\n",
    "    comparing_metrics = comparing_metrics.append(\n",
    "        {\n",
    "            'name': 'train_st_dev', \n",
    "            'value': st_dev\n",
    "        }, ignore_index=True)\n",
    "        \n",
    "    comparing_metrics = comparing_metrics.append(\n",
    "        {\n",
    "            'name': 'train_q75_minus_q25', \n",
    "            'value': np.quantile(a=error_train, q=0.75) - np.quantile(a=error_train, q=0.25)\n",
    "        }, ignore_index=True)\n",
    "    \n",
    "    comparing_metrics = comparing_metrics.append(\n",
    "        {\n",
    "            'name': 'train_q95_minus_q05', \n",
    "            'value': np.quantile(a=error_train, q=0.95) - np.quantile(a=error_train, q=0.05)\n",
    "        }, ignore_index=True)\n",
    "    \n",
    "    comparing_metrics.index = comparing_metrics['name']\n",
    "        \n",
    "    if need_plots:\n",
    "        \n",
    "        # \n",
    "        ncols_plot = 2\n",
    "        nrows_plot = 4\n",
    "        \n",
    "        # \n",
    "        subplot_size_width = 6\n",
    "        subplot_size_height = 4\n",
    "        \n",
    "        # Зададим расстояние для графика в целом\n",
    "        plot_size_inches_width = ncols_plot * subplot_size_width\n",
    "        plot_size_inches_height = nrows_plot * subplot_size_height\n",
    "        \n",
    "        fig, axes = plt.subplots(nrows=nrows_plot, ncols=ncols_plot)\n",
    "        fig.set_size_inches(plot_size_inches_width, plot_size_inches_height, forward=True)\n",
    "        \n",
    "        axes[0, 0].plot(error_train, '.')\n",
    "        axes[0, 0].axhline(y=bias_train, color='green')\n",
    "        axes[0, 0].set_title('error_train, ' + 'bias: ' + str(bias_train))\n",
    "        \n",
    "        axes[0, 1].plot(error_test, '.')\n",
    "        axes[0, 1].axhline(y=bias_test, color='green')\n",
    "        axes[0, 1].set_title('error_train, ' + 'bias: ' + str(bias_test))\n",
    "        \n",
    "        comparing_metrics.plot(kind='barh', width=0.8, ax=axes[1,0]); axes[1,0].set_title('1')\n",
    "        \n",
    "        plt.tight_layout()\n",
    "    \n",
    "    return comparing_metrics"
   ]
  },
  {
   "cell_type": "code",
   "execution_count": 450,
   "metadata": {},
   "outputs": [
    {
     "data": {
      "image/png": "[encoded data removed]",
      "text/plain": [
       "<Figure size 864x1152 with 8 Axes>"
      ]
     },
     "metadata": {
      "needs_background": "light"
     },
     "output_type": "display_data"
    }
   ],
   "source": [
    "comparing_metrics = eval_model_predictions_regression_problem(y_train, train_pred, y_test, test_pred)"
   ]
  },
  {
   "cell_type": "code",
   "execution_count": 441,
   "metadata": {},
   "outputs": [
    {
     "data": {
      "text/html": [
       "<div>\n",
       "<style scoped>\n",
       "    .dataframe tbody tr th:only-of-type {\n",
       "        vertical-align: middle;\n",
       "    }\n",
       "\n",
       "    .dataframe tbody tr th {\n",
       "        vertical-align: top;\n",
       "    }\n",
       "\n",
       "    .dataframe thead th {\n",
       "        text-align: right;\n",
       "    }\n",
       "</style>\n",
       "<table border=\"1\" class=\"dataframe\">\n",
       "  <thead>\n",
       "    <tr style=\"text-align: right;\">\n",
       "      <th></th>\n",
       "      <th>name</th>\n",
       "      <th>value</th>\n",
       "    </tr>\n",
       "  </thead>\n",
       "  <tbody>\n",
       "    <tr>\n",
       "      <th>0</th>\n",
       "      <td>train_q95_minus_q05</td>\n",
       "      <td>0.059095</td>\n",
       "    </tr>\n",
       "    <tr>\n",
       "      <th>1</th>\n",
       "      <td>train_q75_minus_q25</td>\n",
       "      <td>0.025404</td>\n",
       "    </tr>\n",
       "    <tr>\n",
       "      <th>2</th>\n",
       "      <td>train_st_dev</td>\n",
       "      <td>0.019547</td>\n",
       "    </tr>\n",
       "  </tbody>\n",
       "</table>\n",
       "</div>"
      ],
      "text/plain": [
       "                  name     value\n",
       "0  train_q95_minus_q05  0.059095\n",
       "1  train_q75_minus_q25  0.025404\n",
       "2         train_st_dev  0.019547"
      ]
     },
     "execution_count": 441,
     "metadata": {},
     "output_type": "execute_result"
    }
   ],
   "source": [
    "comparing_metrics.plot(kind='barh')"
   ]
  },
  {
   "cell_type": "code",
   "execution_count": 371,
   "metadata": {},
   "outputs": [
    {
     "data": {
      "text/plain": [
       "0.01594732171894139"
      ]
     },
     "execution_count": 371,
     "metadata": {},
     "output_type": "execute_result"
    }
   ],
   "source": [
    "np.quantile(a=y_train, q=0.75)"
   ]
  },
  {
   "cell_type": "code",
   "execution_count": 405,
   "metadata": {},
   "outputs": [
    {
     "data": {
      "text/plain": [
       "True"
      ]
     },
     "execution_count": 405,
     "metadata": {},
     "output_type": "execute_result"
    }
   ],
   "source": [
    "type(y_train[0]) == np.ndarray"
   ]
  },
  {
   "cell_type": "code",
   "execution_count": 397,
   "metadata": {},
   "outputs": [
    {
     "data": {
      "text/plain": [
       "0.019547097596031404"
      ]
     },
     "execution_count": 397,
     "metadata": {},
     "output_type": "execute_result"
    }
   ],
   "source": []
  },
  {
   "cell_type": "markdown",
   "metadata": {},
   "source": [
    "# Linear Regression"
   ]
  },
  {
   "cell_type": "code",
   "execution_count": 394,
   "metadata": {},
   "outputs": [],
   "source": [
    "import numpy as np\n",
    "from sklearn.linear_model import LinearRegression\n",
    "\n",
    "# X_train, X_test\n",
    "# y_train, y_test\n",
    "\n",
    "# Train model\n",
    "model_lin_reg = LinearRegression().fit(X_train, y_train)\n",
    "\n",
    "# Make prediction on train and test\n",
    "train_pred = model_lin_reg.predict(X_train)\n",
    "test_pred = model_lin_reg.predict(X_test)"
   ]
  },
  {
   "cell_type": "code",
   "execution_count": 395,
   "metadata": {},
   "outputs": [
    {
     "data": {
      "text/plain": [
       "<matplotlib.collections.PathCollection at 0x1e6f5c15fc8>"
      ]
     },
     "execution_count": 395,
     "metadata": {},
     "output_type": "execute_result"
    },
    {
     "data": {
      "image/png": "[encoded data removed]",
      "text/plain": [
       "<Figure size 432x288 with 1 Axes>"
      ]
     },
     "metadata": {
      "needs_background": "light"
     },
     "output_type": "display_data"
    }
   ],
   "source": [
    "plt.scatter(y_train, train_pred)"
   ]
  },
  {
   "cell_type": "markdown",
   "metadata": {},
   "source": [
    "# LSTM"
   ]
  },
  {
   "cell_type": "code",
   "execution_count": 180,
   "metadata": {},
   "outputs": [],
   "source": [
    "import math\n",
    "import torch\n",
    "import torch.nn as nn"
   ]
  },
  {
   "cell_type": "code",
   "execution_count": 181,
   "metadata": {},
   "outputs": [],
   "source": [
    "class NaiveCustomLSTM(nn.Module):\n",
    "    def __init__(self, input_sz: int, hidden_sz: int):\n",
    "        super().__init__()\n",
    "        self.input_size = input_sz\n",
    "        self.hidden_size = hidden_sz\n",
    "        \n",
    "        #i_t\n",
    "        self.U_i = nn.Parameter(torch.Tensor(input_sz, hidden_sz))\n",
    "        self.V_i = nn.Parameter(torch.Tensor(hidden_sz, hidden_sz))\n",
    "        self.b_i = nn.Parameter(torch.Tensor(hidden_sz))\n",
    "        \n",
    "        #f_t\n",
    "        self.U_f = nn.Parameter(torch.Tensor(input_sz, hidden_sz))\n",
    "        self.V_f = nn.Parameter(torch.Tensor(hidden_sz, hidden_sz))\n",
    "        self.b_f = nn.Parameter(torch.Tensor(hidden_sz))\n",
    "        \n",
    "        #c_t\n",
    "        self.U_c = nn.Parameter(torch.Tensor(input_sz, hidden_sz))\n",
    "        self.V_c = nn.Parameter(torch.Tensor(hidden_sz, hidden_sz))\n",
    "        self.b_c = nn.Parameter(torch.Tensor(hidden_sz))\n",
    "        \n",
    "        #o_t\n",
    "        self.U_o = nn.Parameter(torch.Tensor(input_sz, hidden_sz))\n",
    "        self.V_o = nn.Parameter(torch.Tensor(hidden_sz, hidden_sz))\n",
    "        self.b_o = nn.Parameter(torch.Tensor(hidden_sz))\n",
    "        \n",
    "        self.init_weights()"
   ]
  },
  {
   "cell_type": "code",
   "execution_count": 182,
   "metadata": {},
   "outputs": [],
   "source": [
    "def init_weights(self):\n",
    "        stdv = 1.0 / math.sqrt(self.hidden_size)\n",
    "        for weight in self.parameters():\n",
    "            weight.data.uniform_(-stdv, stdv)"
   ]
  },
  {
   "cell_type": "code",
   "execution_count": 183,
   "metadata": {},
   "outputs": [],
   "source": [
    "def forward(self,\n",
    "                x,\n",
    "                init_states=None):\n",
    "        \n",
    "        \"\"\"\n",
    "        assumes x.shape represents (batch_size, sequence_size, input_size)\n",
    "        \"\"\"\n",
    "        bs, seq_sz, _ = x.size()\n",
    "        hidden_seq = []\n",
    "        \n",
    "        if init_states is None:\n",
    "            h_t, c_t = (\n",
    "                torch.zeros(bs, self.hidden_size).to(x.device),\n",
    "                torch.zeros(bs, self.hidden_size).to(x.device),\n",
    "            )\n",
    "        else:\n",
    "            h_t, c_t = init_states\n",
    "            \n",
    "        for t in range(seq_sz):\n",
    "            x_t = x[:, t, :]\n",
    "            \n",
    "            i_t = torch.sigmoid(x_t @ self.U_i + h_t @ self.V_i + self.b_i)\n",
    "            f_t = torch.sigmoid(x_t @ self.U_f + h_t @ self.V_f + self.b_f)\n",
    "            g_t = torch.tanh(x_t @ self.U_c + h_t @ self.V_c + self.b_c)\n",
    "            o_t = torch.sigmoid(x_t @ self.U_o + h_t @ self.V_o + self.b_o)\n",
    "            c_t = f_t * c_t + i_t * g_t\n",
    "            h_t = o_t * torch.tanh(c_t)\n",
    "            \n",
    "            hidden_seq.append(h_t.unsqueeze(0))\n",
    "        \n",
    "        #reshape hidden_seq p/ retornar\n",
    "        hidden_seq = torch.cat(hidden_seq, dim=0)\n",
    "        hidden_seq = hidden_seq.transpose(0, 1).contiguous()\n",
    "        return hidden_seq, (h_t, c_t)"
   ]
  },
  {
   "cell_type": "code",
   "execution_count": 184,
   "metadata": {},
   "outputs": [],
   "source": [
    "class CustomLSTM(nn.Module):\n",
    "    def __init__(self, input_sz, hidden_sz):\n",
    "        super().__init__()\n",
    "        self.input_sz = input_sz\n",
    "        self.hidden_size = hidden_sz\n",
    "        self.W = nn.Parameter(torch.Tensor(input_sz, hidden_sz * 4))\n",
    "        self.U = nn.Parameter(torch.Tensor(hidden_sz, hidden_sz * 4))\n",
    "        self.bias = nn.Parameter(torch.Tensor(hidden_sz * 4))\n",
    "        self.init_weights()\n",
    "                \n",
    "    def init_weights(self):\n",
    "        stdv = 1.0 / math.sqrt(self.hidden_size)\n",
    "        for weight in self.parameters():\n",
    "            weight.data.uniform_(-stdv, stdv)\n",
    "         \n",
    "    def forward(self, x, \n",
    "                init_states=None):\n",
    "        \"\"\"Assumes x is of shape (batch, sequence, feature)\"\"\"\n",
    "        bs, seq_sz, _ = x.size()\n",
    "        hidden_seq = []\n",
    "        if init_states is None:\n",
    "            h_t, c_t = (torch.zeros(bs, self.hidden_size).to(x.device), \n",
    "                        torch.zeros(bs, self.hidden_size).to(x.device))\n",
    "        else:\n",
    "            h_t, c_t = init_states\n",
    "         \n",
    "        HS = self.hidden_size\n",
    "        for t in range(seq_sz):\n",
    "            x_t = x[:, t, :]\n",
    "            # batch the computations into a single matrix multiplication\n",
    "            gates = x_t @ self.W + h_t @ self.U + self.bias\n",
    "            i_t, f_t, g_t, o_t = (\n",
    "                torch.sigmoid(gates[:, :HS]), # input\n",
    "                torch.sigmoid(gates[:, HS:HS*2]), # forget\n",
    "                torch.tanh(gates[:, HS*2:HS*3]),\n",
    "                torch.sigmoid(gates[:, HS*3:]), # output\n",
    "            )\n",
    "            c_t = f_t * c_t + i_t * g_t\n",
    "            h_t = o_t * torch.tanh(c_t)\n",
    "            hidden_seq.append(h_t.unsqueeze(0))\n",
    "        hidden_seq = torch.cat(hidden_seq, dim=0)\n",
    "        # reshape from shape (sequence, batch, feature) to (batch, sequence, feature)\n",
    "        hidden_seq = hidden_seq.transpose(0, 1).contiguous()\n",
    "        return hidden_seq, (h_t, c_t)"
   ]
  },
  {
   "cell_type": "code",
   "execution_count": 185,
   "metadata": {},
   "outputs": [],
   "source": [
    "class CustomLSTM(nn.Module):\n",
    "    def __init__(self, input_sz, hidden_sz, peephole=False):\n",
    "        super().__init__()\n",
    "        self.input_sz = input_sz\n",
    "        self.hidden_size = hidden_sz\n",
    "        self.peephole = peephole\n",
    "        self.W = nn.Parameter(torch.Tensor(input_sz, hidden_sz * 4))\n",
    "        self.U = nn.Parameter(torch.Tensor(hidden_sz, hidden_sz * 4))\n",
    "        self.bias = nn.Parameter(torch.Tensor(hidden_sz * 4))\n",
    "        self.init_weights()\n",
    "                \n",
    "    def init_weights(self):\n",
    "        stdv = 1.0 / math.sqrt(self.hidden_size)\n",
    "        for weight in self.parameters():\n",
    "            weight.data.uniform_(-stdv, stdv)\n",
    "         \n",
    "    def forward(self, x, \n",
    "                init_states=None):\n",
    "        \"\"\"Assumes x is of shape (batch, sequence, feature)\"\"\"\n",
    "        bs, seq_sz, _ = x.size()\n",
    "        hidden_seq = []\n",
    "        if init_states is None:\n",
    "            h_t, c_t = (torch.zeros(bs, self.hidden_size).to(x.device), \n",
    "                        torch.zeros(bs, self.hidden_size).to(x.device))\n",
    "        else:\n",
    "            h_t, c_t = init_states\n",
    "         \n",
    "        HS = self.hidden_size\n",
    "        for t in range(seq_sz):\n",
    "            x_t = x[:, t, :]\n",
    "            # batch the computations into a single matrix multiplication\n",
    "            \n",
    "            if self.peephole:\n",
    "                gates = x_t @ U + c_t @ V + bias\n",
    "            else:\n",
    "                gates = x_t @ U + h_t @ V + bias\n",
    "                g_t = torch.tanh(gates[:, HS*2:HS*3])\n",
    "            \n",
    "            i_t, f_t, o_t = (\n",
    "                torch.sigmoid(gates[:, :HS]), # input\n",
    "                torch.sigmoid(gates[:, HS:HS*2]), # forget\n",
    "                torch.sigmoid(gates[:, HS*3:]), # output\n",
    "            )\n",
    "            \n",
    "            if self.peephole:\n",
    "                c_t = f_t * c_t + i_t * torch.sigmoid(x_t @ U + bias)[:, HS*2:HS*3]\n",
    "                h_t = torch.tanh(o_t * c_t)\n",
    "            else:\n",
    "                c_t = f_t * c_t + i_t * g_t\n",
    "                h_t = o_t * torch.tanh(c_t)\n",
    "                \n",
    "            hidden_seq.append(h_t.unsqueeze(0))\n",
    "            \n",
    "        hidden_seq = torch.cat(hidden_seq, dim=0)\n",
    "        # reshape from shape (sequence, batch, feature) to (batch, sequence, feature)\n",
    "        hidden_seq = hidden_seq.transpose(0, 1).contiguous()\n",
    "        \n",
    "        return hidden_seq, (h_t, c_t)"
   ]
  },
  {
   "cell_type": "code",
   "execution_count": 186,
   "metadata": {},
   "outputs": [
    {
     "ename": "TypeError",
     "evalue": "'int' object is not callable",
     "output_type": "error",
     "traceback": [
      "\u001b[1;31m---------------------------------------------------------------------------\u001b[0m",
      "\u001b[1;31mTypeError\u001b[0m                                 Traceback (most recent call last)",
      "\u001b[1;32m<ipython-input-186-c54b27ba1983>\u001b[0m in \u001b[0;36m<module>\u001b[1;34m\u001b[0m\n\u001b[1;32m----> 1\u001b[1;33m \u001b[0mds_train\u001b[0m \u001b[1;33m=\u001b[0m \u001b[0mtorch\u001b[0m\u001b[1;33m.\u001b[0m\u001b[0mutils\u001b[0m\u001b[1;33m.\u001b[0m\u001b[0mdata\u001b[0m\u001b[1;33m.\u001b[0m\u001b[0mTensorDataset\u001b[0m\u001b[1;33m(\u001b[0m\u001b[0mX_train\u001b[0m\u001b[1;33m,\u001b[0m \u001b[0my_train\u001b[0m\u001b[1;33m)\u001b[0m\u001b[1;33m\u001b[0m\u001b[1;33m\u001b[0m\u001b[0m\n\u001b[0m\u001b[0;32m      2\u001b[0m \u001b[0mtrain_loader\u001b[0m \u001b[1;33m=\u001b[0m \u001b[0mtorch\u001b[0m\u001b[1;33m.\u001b[0m\u001b[0mutils\u001b[0m\u001b[1;33m.\u001b[0m\u001b[0mdata\u001b[0m\u001b[1;33m.\u001b[0m\u001b[0mDataLoader\u001b[0m\u001b[1;33m(\u001b[0m\u001b[0mds_train\u001b[0m\u001b[1;33m,\u001b[0m \u001b[0mbatch_size\u001b[0m\u001b[1;33m=\u001b[0m\u001b[1;36m128\u001b[0m\u001b[1;33m,\u001b[0m \u001b[0mshuffle\u001b[0m\u001b[1;33m=\u001b[0m\u001b[1;32mTrue\u001b[0m\u001b[1;33m)\u001b[0m\u001b[1;33m\u001b[0m\u001b[1;33m\u001b[0m\u001b[0m\n\u001b[0;32m      3\u001b[0m \u001b[1;33m\u001b[0m\u001b[0m\n\u001b[0;32m      4\u001b[0m \u001b[0mds_test\u001b[0m \u001b[1;33m=\u001b[0m \u001b[0mtorch\u001b[0m\u001b[1;33m.\u001b[0m\u001b[0mutils\u001b[0m\u001b[1;33m.\u001b[0m\u001b[0mdata\u001b[0m\u001b[1;33m.\u001b[0m\u001b[0mTensorDataset\u001b[0m\u001b[1;33m(\u001b[0m\u001b[0mX_test\u001b[0m\u001b[1;33m,\u001b[0m \u001b[0my_test\u001b[0m\u001b[1;33m)\u001b[0m\u001b[1;33m\u001b[0m\u001b[1;33m\u001b[0m\u001b[0m\n\u001b[0;32m      5\u001b[0m \u001b[0mtest_loader\u001b[0m \u001b[1;33m=\u001b[0m \u001b[0mtorch\u001b[0m\u001b[1;33m.\u001b[0m\u001b[0mutils\u001b[0m\u001b[1;33m.\u001b[0m\u001b[0mdata\u001b[0m\u001b[1;33m.\u001b[0m\u001b[0mDataLoader\u001b[0m\u001b[1;33m(\u001b[0m\u001b[0mds_test\u001b[0m\u001b[1;33m,\u001b[0m \u001b[0mbatch_size\u001b[0m\u001b[1;33m=\u001b[0m\u001b[1;36m256\u001b[0m\u001b[1;33m,\u001b[0m \u001b[0mshuffle\u001b[0m\u001b[1;33m=\u001b[0m\u001b[1;32mTrue\u001b[0m\u001b[1;33m)\u001b[0m\u001b[1;33m\u001b[0m\u001b[1;33m\u001b[0m\u001b[0m\n",
      "\u001b[1;32mc:\\python37\\lib\\site-packages\\torch\\utils\\data\\dataset.py\u001b[0m in \u001b[0;36m__init__\u001b[1;34m(self, *tensors)\u001b[0m\n\u001b[0;32m    164\u001b[0m \u001b[1;33m\u001b[0m\u001b[0m\n\u001b[0;32m    165\u001b[0m     \u001b[1;32mdef\u001b[0m \u001b[0m__init__\u001b[0m\u001b[1;33m(\u001b[0m\u001b[0mself\u001b[0m\u001b[1;33m,\u001b[0m \u001b[1;33m*\u001b[0m\u001b[0mtensors\u001b[0m\u001b[1;33m:\u001b[0m \u001b[0mTensor\u001b[0m\u001b[1;33m)\u001b[0m \u001b[1;33m->\u001b[0m \u001b[1;32mNone\u001b[0m\u001b[1;33m:\u001b[0m\u001b[1;33m\u001b[0m\u001b[1;33m\u001b[0m\u001b[0m\n\u001b[1;32m--> 166\u001b[1;33m         \u001b[1;32massert\u001b[0m \u001b[0mall\u001b[0m\u001b[1;33m(\u001b[0m\u001b[0mtensors\u001b[0m\u001b[1;33m[\u001b[0m\u001b[1;36m0\u001b[0m\u001b[1;33m]\u001b[0m\u001b[1;33m.\u001b[0m\u001b[0msize\u001b[0m\u001b[1;33m(\u001b[0m\u001b[1;36m0\u001b[0m\u001b[1;33m)\u001b[0m \u001b[1;33m==\u001b[0m \u001b[0mtensor\u001b[0m\u001b[1;33m.\u001b[0m\u001b[0msize\u001b[0m\u001b[1;33m(\u001b[0m\u001b[1;36m0\u001b[0m\u001b[1;33m)\u001b[0m \u001b[1;32mfor\u001b[0m \u001b[0mtensor\u001b[0m \u001b[1;32min\u001b[0m \u001b[0mtensors\u001b[0m\u001b[1;33m)\u001b[0m\u001b[1;33m\u001b[0m\u001b[1;33m\u001b[0m\u001b[0m\n\u001b[0m\u001b[0;32m    167\u001b[0m         \u001b[0mself\u001b[0m\u001b[1;33m.\u001b[0m\u001b[0mtensors\u001b[0m \u001b[1;33m=\u001b[0m \u001b[0mtensors\u001b[0m\u001b[1;33m\u001b[0m\u001b[1;33m\u001b[0m\u001b[0m\n\u001b[0;32m    168\u001b[0m \u001b[1;33m\u001b[0m\u001b[0m\n",
      "\u001b[1;32mc:\\python37\\lib\\site-packages\\torch\\utils\\data\\dataset.py\u001b[0m in \u001b[0;36m<genexpr>\u001b[1;34m(.0)\u001b[0m\n\u001b[0;32m    164\u001b[0m \u001b[1;33m\u001b[0m\u001b[0m\n\u001b[0;32m    165\u001b[0m     \u001b[1;32mdef\u001b[0m \u001b[0m__init__\u001b[0m\u001b[1;33m(\u001b[0m\u001b[0mself\u001b[0m\u001b[1;33m,\u001b[0m \u001b[1;33m*\u001b[0m\u001b[0mtensors\u001b[0m\u001b[1;33m:\u001b[0m \u001b[0mTensor\u001b[0m\u001b[1;33m)\u001b[0m \u001b[1;33m->\u001b[0m \u001b[1;32mNone\u001b[0m\u001b[1;33m:\u001b[0m\u001b[1;33m\u001b[0m\u001b[1;33m\u001b[0m\u001b[0m\n\u001b[1;32m--> 166\u001b[1;33m         \u001b[1;32massert\u001b[0m \u001b[0mall\u001b[0m\u001b[1;33m(\u001b[0m\u001b[0mtensors\u001b[0m\u001b[1;33m[\u001b[0m\u001b[1;36m0\u001b[0m\u001b[1;33m]\u001b[0m\u001b[1;33m.\u001b[0m\u001b[0msize\u001b[0m\u001b[1;33m(\u001b[0m\u001b[1;36m0\u001b[0m\u001b[1;33m)\u001b[0m \u001b[1;33m==\u001b[0m \u001b[0mtensor\u001b[0m\u001b[1;33m.\u001b[0m\u001b[0msize\u001b[0m\u001b[1;33m(\u001b[0m\u001b[1;36m0\u001b[0m\u001b[1;33m)\u001b[0m \u001b[1;32mfor\u001b[0m \u001b[0mtensor\u001b[0m \u001b[1;32min\u001b[0m \u001b[0mtensors\u001b[0m\u001b[1;33m)\u001b[0m\u001b[1;33m\u001b[0m\u001b[1;33m\u001b[0m\u001b[0m\n\u001b[0m\u001b[0;32m    167\u001b[0m         \u001b[0mself\u001b[0m\u001b[1;33m.\u001b[0m\u001b[0mtensors\u001b[0m \u001b[1;33m=\u001b[0m \u001b[0mtensors\u001b[0m\u001b[1;33m\u001b[0m\u001b[1;33m\u001b[0m\u001b[0m\n\u001b[0;32m    168\u001b[0m \u001b[1;33m\u001b[0m\u001b[0m\n",
      "\u001b[1;31mTypeError\u001b[0m: 'int' object is not callable"
     ]
    }
   ],
   "source": [
    "ds_train = torch.utils.data.TensorDataset(X_train, y_train)\n",
    "train_loader = torch.utils.data.DataLoader(ds_train, batch_size=128, shuffle=True)\n",
    "\n",
    "ds_test = torch.utils.data.TensorDataset(X_test, y_test)\n",
    "test_loader = torch.utils.data.DataLoader(ds_test, batch_size=256, shuffle=True)"
   ]
  },
  {
   "cell_type": "code",
   "execution_count": null,
   "metadata": {},
   "outputs": [],
   "source": []
  },
  {
   "cell_type": "code",
   "execution_count": null,
   "metadata": {},
   "outputs": [],
   "source": []
  },
  {
   "cell_type": "code",
   "execution_count": null,
   "metadata": {},
   "outputs": [],
   "source": []
  }
 ],
 "metadata": {
  "kernelspec": {
   "display_name": "Python 3",
   "language": "python",
   "name": "python3"
  },
  "language_info": {
   "codemirror_mode": {
    "name": "ipython",
    "version": 3
   },
   "file_extension": ".py",
   "mimetype": "text/x-python",
   "name": "python",
   "nbconvert_exporter": "python",
   "pygments_lexer": "ipython3",
   "version": "3.7.9"
  }
 },
 "nbformat": 4,
 "nbformat_minor": 4
}
