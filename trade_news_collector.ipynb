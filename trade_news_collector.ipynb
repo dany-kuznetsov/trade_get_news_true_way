{
 "cells": [
  {
   "cell_type": "code",
   "execution_count": 7,
   "metadata": {},
   "outputs": [],
   "source": [
    "from pandas_datareader import data\n",
    "from pandas_datareader._utils import RemoteDataError\n",
    "import matplotlib.pyplot as plt\n",
    "import pandas as pd\n",
    "import numpy as np\n",
    "import math\n",
    "import csv\n",
    "import re\n",
    "from datetime import datetime\n",
    "\n",
    "import os.path\n",
    "from os import path\n",
    "import time\n",
    "\n",
    "# import sklearn\n",
    "# import scipy\n",
    "\n",
    "# from sklearn.naive_bayes import GaussianNB\n",
    "# import lightgbm as lightgbm\n",
    "# from xgboost import XGBClassifier\n",
    "# import keras\n",
    "\n",
    "# Get Started\n",
    "# https://github.com/Refinitiv-API-Samples/Article.EikonDataAPI.DotNet.Library\n",
    "# API limits\n",
    "# https://developers.refinitiv.com/en/api-catalog/eikon/eikon-data-api/documentation?content=49692&type=documentation_item\n",
    "import eikon as ek \n",
    "\n",
    "from pylab import rcParams\n",
    "plt.rcParams['figure.figsize'] = 16, 8"
   ]
  },
  {
   "cell_type": "code",
   "execution_count": 8,
   "metadata": {},
   "outputs": [],
   "source": [
    "fontsize_reg = 12\n",
    "fontsize_title = 16\n",
    "from pylab import rcParams\n",
    "rcParams['figure.facecolor'] = '1'\n",
    "rcParams['figure.figsize'] = [8.0, 3.5]\n",
    "rcParams['figure.dpi'] = 80\n",
    "rcParams['savefig.dpi'] = 600\n",
    "\n",
    "rcParams['font.size'] = 12\n",
    "rcParams['legend.fontsize'] = 'large'\n",
    "rcParams['figure.titlesize'] = 'large'"
   ]
  },
  {
   "cell_type": "code",
   "execution_count": 9,
   "metadata": {},
   "outputs": [],
   "source": [
    "# Зададим path для папки проекта и для папок файлов\n",
    "path_project_folder = 'C:/DAN/t_systems/trade_project/'\n",
    "folder_name_headlines = 'backup_headlines/'\n",
    "folder_name_logger = 'logger/'"
   ]
  },
  {
   "cell_type": "code",
   "execution_count": 18,
   "metadata": {},
   "outputs": [],
   "source": [
    "# зададим API ключ\n",
    "ek.set_app_key('ccebd1ff788d4574818be93e35c4741925ac214e')"
   ]
  },
  {
   "cell_type": "code",
   "execution_count": 10,
   "metadata": {},
   "outputs": [
    {
     "data": {
      "text/html": [
       "<div>\n",
       "<style scoped>\n",
       "    .dataframe tbody tr th:only-of-type {\n",
       "        vertical-align: middle;\n",
       "    }\n",
       "\n",
       "    .dataframe tbody tr th {\n",
       "        vertical-align: top;\n",
       "    }\n",
       "\n",
       "    .dataframe thead th {\n",
       "        text-align: right;\n",
       "    }\n",
       "</style>\n",
       "<table border=\"1\" class=\"dataframe\">\n",
       "  <thead>\n",
       "    <tr style=\"text-align: right;\">\n",
       "      <th></th>\n",
       "      <th>ric</th>\n",
       "      <th>Company Common Name</th>\n",
       "      <th>Country of Exchange</th>\n",
       "      <th>Primary Country of Risk</th>\n",
       "      <th>TRBC Industry Group Name</th>\n",
       "      <th>TRBC Industry Name</th>\n",
       "      <th>Price Close</th>\n",
       "      <th>Company Market Cap</th>\n",
       "      <th>DAX</th>\n",
       "      <th>German_telecom</th>\n",
       "    </tr>\n",
       "  </thead>\n",
       "  <tbody>\n",
       "    <tr>\n",
       "      <th>0</th>\n",
       "      <td>DTEGn.DE</td>\n",
       "      <td>Deutsche Telekom AG</td>\n",
       "      <td>Germany</td>\n",
       "      <td>Germany</td>\n",
       "      <td>Telecommunications Services</td>\n",
       "      <td>Integrated Telecommunications Services</td>\n",
       "      <td>18.032030</td>\n",
       "      <td>8.580246e+10</td>\n",
       "      <td>1</td>\n",
       "      <td>1</td>\n",
       "    </tr>\n",
       "    <tr>\n",
       "      <th>1</th>\n",
       "      <td>SAPG.DE</td>\n",
       "      <td>SAP SE</td>\n",
       "      <td>Germany</td>\n",
       "      <td>Germany</td>\n",
       "      <td>Software &amp; IT Services</td>\n",
       "      <td>Software</td>\n",
       "      <td>122.335901</td>\n",
       "      <td>1.501916e+11</td>\n",
       "      <td>1</td>\n",
       "      <td>0</td>\n",
       "    </tr>\n",
       "    <tr>\n",
       "      <th>2</th>\n",
       "      <td>SIEGn.DE</td>\n",
       "      <td>Siemens AG</td>\n",
       "      <td>Germany</td>\n",
       "      <td>Germany</td>\n",
       "      <td>Consumer Goods Conglomerates</td>\n",
       "      <td>Consumer Goods Conglomerates</td>\n",
       "      <td>139.347250</td>\n",
       "      <td>1.183675e+11</td>\n",
       "      <td>1</td>\n",
       "      <td>0</td>\n",
       "    </tr>\n",
       "    <tr>\n",
       "      <th>3</th>\n",
       "      <td>ALVG.DE</td>\n",
       "      <td>Allianz SE</td>\n",
       "      <td>Germany</td>\n",
       "      <td>Germany</td>\n",
       "      <td>Insurance</td>\n",
       "      <td>Multiline Insurance &amp; Brokers</td>\n",
       "      <td>235.534278</td>\n",
       "      <td>9.704549e+10</td>\n",
       "      <td>1</td>\n",
       "      <td>0</td>\n",
       "    </tr>\n",
       "    <tr>\n",
       "      <th>4</th>\n",
       "      <td>VOWG_p.DE</td>\n",
       "      <td>Volkswagen AG</td>\n",
       "      <td>Germany</td>\n",
       "      <td>Germany</td>\n",
       "      <td>Automobiles &amp; Auto Parts</td>\n",
       "      <td>Auto &amp; Truck Manufacturers</td>\n",
       "      <td>182.653284</td>\n",
       "      <td>9.619011e+10</td>\n",
       "      <td>1</td>\n",
       "      <td>0</td>\n",
       "    </tr>\n",
       "    <tr>\n",
       "      <th>...</th>\n",
       "      <td>...</td>\n",
       "      <td>...</td>\n",
       "      <td>...</td>\n",
       "      <td>...</td>\n",
       "      <td>...</td>\n",
       "      <td>...</td>\n",
       "      <td>...</td>\n",
       "      <td>...</td>\n",
       "      <td>...</td>\n",
       "      <td>...</td>\n",
       "    </tr>\n",
       "    <tr>\n",
       "      <th>1486</th>\n",
       "      <td>IXM0392.DE</td>\n",
       "      <td>MSCI Pac ex Jap ETF</td>\n",
       "      <td>Germany</td>\n",
       "      <td>NaN</td>\n",
       "      <td>NaN</td>\n",
       "      <td>NaN</td>\n",
       "      <td>164.045417</td>\n",
       "      <td>NaN</td>\n",
       "      <td>0</td>\n",
       "      <td>0</td>\n",
       "    </tr>\n",
       "    <tr>\n",
       "      <th>1487</th>\n",
       "      <td>IXM0402.DE</td>\n",
       "      <td>MSCI Canada ETF</td>\n",
       "      <td>Germany</td>\n",
       "      <td>NaN</td>\n",
       "      <td>NaN</td>\n",
       "      <td>NaN</td>\n",
       "      <td>147.258410</td>\n",
       "      <td>NaN</td>\n",
       "      <td>0</td>\n",
       "      <td>0</td>\n",
       "    </tr>\n",
       "    <tr>\n",
       "      <th>1488</th>\n",
       "      <td>IXM0422.DE</td>\n",
       "      <td>MSCI USA ETF</td>\n",
       "      <td>Germany</td>\n",
       "      <td>NaN</td>\n",
       "      <td>NaN</td>\n",
       "      <td>NaN</td>\n",
       "      <td>368.704250</td>\n",
       "      <td>NaN</td>\n",
       "      <td>0</td>\n",
       "      <td>0</td>\n",
       "    </tr>\n",
       "    <tr>\n",
       "      <th>1489</th>\n",
       "      <td>IXM0432.DE</td>\n",
       "      <td>MSCI Jap ETF</td>\n",
       "      <td>Germany</td>\n",
       "      <td>NaN</td>\n",
       "      <td>NaN</td>\n",
       "      <td>NaN</td>\n",
       "      <td>179.058138</td>\n",
       "      <td>NaN</td>\n",
       "      <td>0</td>\n",
       "      <td>0</td>\n",
       "    </tr>\n",
       "    <tr>\n",
       "      <th>1490</th>\n",
       "      <td>VOLSIN.DE</td>\n",
       "      <td>Nomura Voltage Short-term Source</td>\n",
       "      <td>Germany</td>\n",
       "      <td>NaN</td>\n",
       "      <td>NaN</td>\n",
       "      <td>NaN</td>\n",
       "      <td>NaN</td>\n",
       "      <td>NaN</td>\n",
       "      <td>0</td>\n",
       "      <td>0</td>\n",
       "    </tr>\n",
       "  </tbody>\n",
       "</table>\n",
       "<p>1491 rows × 10 columns</p>\n",
       "</div>"
      ],
      "text/plain": [
       "             ric               Company Common Name Country of Exchange  \\\n",
       "0       DTEGn.DE               Deutsche Telekom AG             Germany   \n",
       "1        SAPG.DE                            SAP SE             Germany   \n",
       "2       SIEGn.DE                        Siemens AG             Germany   \n",
       "3        ALVG.DE                        Allianz SE             Germany   \n",
       "4      VOWG_p.DE                     Volkswagen AG             Germany   \n",
       "...          ...                               ...                 ...   \n",
       "1486  IXM0392.DE               MSCI Pac ex Jap ETF             Germany   \n",
       "1487  IXM0402.DE                   MSCI Canada ETF             Germany   \n",
       "1488  IXM0422.DE                      MSCI USA ETF             Germany   \n",
       "1489  IXM0432.DE                      MSCI Jap ETF             Germany   \n",
       "1490   VOLSIN.DE  Nomura Voltage Short-term Source             Germany   \n",
       "\n",
       "     Primary Country of Risk      TRBC Industry Group Name  \\\n",
       "0                    Germany   Telecommunications Services   \n",
       "1                    Germany        Software & IT Services   \n",
       "2                    Germany  Consumer Goods Conglomerates   \n",
       "3                    Germany                     Insurance   \n",
       "4                    Germany      Automobiles & Auto Parts   \n",
       "...                      ...                           ...   \n",
       "1486                     NaN                           NaN   \n",
       "1487                     NaN                           NaN   \n",
       "1488                     NaN                           NaN   \n",
       "1489                     NaN                           NaN   \n",
       "1490                     NaN                           NaN   \n",
       "\n",
       "                          TRBC Industry Name  Price Close  Company Market Cap  \\\n",
       "0     Integrated Telecommunications Services    18.032030        8.580246e+10   \n",
       "1                                   Software   122.335901        1.501916e+11   \n",
       "2               Consumer Goods Conglomerates   139.347250        1.183675e+11   \n",
       "3              Multiline Insurance & Brokers   235.534278        9.704549e+10   \n",
       "4                 Auto & Truck Manufacturers   182.653284        9.619011e+10   \n",
       "...                                      ...          ...                 ...   \n",
       "1486                                     NaN   164.045417                 NaN   \n",
       "1487                                     NaN   147.258410                 NaN   \n",
       "1488                                     NaN   368.704250                 NaN   \n",
       "1489                                     NaN   179.058138                 NaN   \n",
       "1490                                     NaN          NaN                 NaN   \n",
       "\n",
       "      DAX  German_telecom  \n",
       "0       1               1  \n",
       "1       1               0  \n",
       "2       1               0  \n",
       "3       1               0  \n",
       "4       1               0  \n",
       "...   ...             ...  \n",
       "1486    0               0  \n",
       "1487    0               0  \n",
       "1488    0               0  \n",
       "1489    0               0  \n",
       "1490    0               0  \n",
       "\n",
       "[1491 rows x 10 columns]"
      ]
     },
     "execution_count": 10,
     "metadata": {},
     "output_type": "execute_result"
    }
   ],
   "source": [
    "rics_german_df = pd.read_excel(path_project_folder + 'rics_german_excel.xlsx')\n",
    "sort_cols = ['DAX', 'German_telecom', 'Company Market Cap']\n",
    "rics_german_df = rics_german_df.sort_values(by=sort_cols, ascending=False) # .reset_index(drop=True)\n",
    "rics_german_df.index = range(0, len(rics_german_df))\n",
    "rics_german_df"
   ]
  },
  {
   "cell_type": "code",
   "execution_count": 11,
   "metadata": {},
   "outputs": [
    {
     "data": {
      "text/html": [
       "<div>\n",
       "<style scoped>\n",
       "    .dataframe tbody tr th:only-of-type {\n",
       "        vertical-align: middle;\n",
       "    }\n",
       "\n",
       "    .dataframe tbody tr th {\n",
       "        vertical-align: top;\n",
       "    }\n",
       "\n",
       "    .dataframe thead th {\n",
       "        text-align: right;\n",
       "    }\n",
       "</style>\n",
       "<table border=\"1\" class=\"dataframe\">\n",
       "  <thead>\n",
       "    <tr style=\"text-align: right;\">\n",
       "      <th></th>\n",
       "      <th>ric</th>\n",
       "      <th>Company Common Name</th>\n",
       "      <th>Company Market Cap</th>\n",
       "      <th>DAX</th>\n",
       "      <th>German_telecom</th>\n",
       "    </tr>\n",
       "  </thead>\n",
       "  <tbody>\n",
       "    <tr>\n",
       "      <th>0</th>\n",
       "      <td>DTEGn.DE</td>\n",
       "      <td>Deutsche Telekom AG</td>\n",
       "      <td>8.580246e+10</td>\n",
       "      <td>1</td>\n",
       "      <td>1</td>\n",
       "    </tr>\n",
       "    <tr>\n",
       "      <th>27</th>\n",
       "      <td>O2Dn.DE</td>\n",
       "      <td>Telefonica Deutschland Holding AG</td>\n",
       "      <td>8.088962e+09</td>\n",
       "      <td>0</td>\n",
       "      <td>1</td>\n",
       "    </tr>\n",
       "    <tr>\n",
       "      <th>28</th>\n",
       "      <td>UTDI.DE</td>\n",
       "      <td>United Internet AG</td>\n",
       "      <td>7.962405e+09</td>\n",
       "      <td>0</td>\n",
       "      <td>1</td>\n",
       "    </tr>\n",
       "    <tr>\n",
       "      <th>29</th>\n",
       "      <td>DRIG.DE</td>\n",
       "      <td>1&amp;1 Drillisch AG</td>\n",
       "      <td>4.331541e+09</td>\n",
       "      <td>0</td>\n",
       "      <td>1</td>\n",
       "    </tr>\n",
       "    <tr>\n",
       "      <th>30</th>\n",
       "      <td>FNTGn.DE</td>\n",
       "      <td>freenet AG</td>\n",
       "      <td>2.614030e+09</td>\n",
       "      <td>0</td>\n",
       "      <td>1</td>\n",
       "    </tr>\n",
       "    <tr>\n",
       "      <th>31</th>\n",
       "      <td>TC1n.DE</td>\n",
       "      <td>Tele Columbus AG</td>\n",
       "      <td>3.688837e+08</td>\n",
       "      <td>0</td>\n",
       "      <td>1</td>\n",
       "    </tr>\n",
       "    <tr>\n",
       "      <th>32</th>\n",
       "      <td>NFN.DE</td>\n",
       "      <td>NFON AG</td>\n",
       "      <td>3.245050e+08</td>\n",
       "      <td>0</td>\n",
       "      <td>1</td>\n",
       "    </tr>\n",
       "    <tr>\n",
       "      <th>33</th>\n",
       "      <td>E4CG.DE</td>\n",
       "      <td>Ecotel Communication AG</td>\n",
       "      <td>3.558930e+07</td>\n",
       "      <td>0</td>\n",
       "      <td>1</td>\n",
       "    </tr>\n",
       "    <tr>\n",
       "      <th>34</th>\n",
       "      <td>PH6.F</td>\n",
       "      <td>Philion SE</td>\n",
       "      <td>2.065664e+05</td>\n",
       "      <td>0</td>\n",
       "      <td>1</td>\n",
       "    </tr>\n",
       "  </tbody>\n",
       "</table>\n",
       "</div>"
      ],
      "text/plain": [
       "         ric                Company Common Name  Company Market Cap  DAX  \\\n",
       "0   DTEGn.DE                Deutsche Telekom AG        8.580246e+10    1   \n",
       "27   O2Dn.DE  Telefonica Deutschland Holding AG        8.088962e+09    0   \n",
       "28   UTDI.DE                 United Internet AG        7.962405e+09    0   \n",
       "29   DRIG.DE                   1&1 Drillisch AG        4.331541e+09    0   \n",
       "30  FNTGn.DE                         freenet AG        2.614030e+09    0   \n",
       "31   TC1n.DE                   Tele Columbus AG        3.688837e+08    0   \n",
       "32    NFN.DE                            NFON AG        3.245050e+08    0   \n",
       "33   E4CG.DE            Ecotel Communication AG        3.558930e+07    0   \n",
       "34     PH6.F                         Philion SE        2.065664e+05    0   \n",
       "\n",
       "    German_telecom  \n",
       "0                1  \n",
       "27               1  \n",
       "28               1  \n",
       "29               1  \n",
       "30               1  \n",
       "31               1  \n",
       "32               1  \n",
       "33               1  \n",
       "34               1  "
      ]
     },
     "execution_count": 11,
     "metadata": {},
     "output_type": "execute_result"
    }
   ],
   "source": [
    "condition_german = rics_german_df['Country of Exchange'] == 'Germany'\n",
    "condition_telecom = rics_german_df['TRBC Industry Group Name'] == 'Telecommunications Services'\n",
    "rics_german_telekom_df = rics_german_df[condition_german & condition_telecom]\n",
    "rics_german_telekom_df[['ric', 'Company Common Name', 'Company Market Cap', 'DAX', 'German_telecom']]"
   ]
  },
  {
   "cell_type": "code",
   "execution_count": 12,
   "metadata": {},
   "outputs": [
    {
     "data": {
      "text/html": [
       "<div>\n",
       "<style scoped>\n",
       "    .dataframe tbody tr th:only-of-type {\n",
       "        vertical-align: middle;\n",
       "    }\n",
       "\n",
       "    .dataframe tbody tr th {\n",
       "        vertical-align: top;\n",
       "    }\n",
       "\n",
       "    .dataframe thead th {\n",
       "        text-align: right;\n",
       "    }\n",
       "</style>\n",
       "<table border=\"1\" class=\"dataframe\">\n",
       "  <thead>\n",
       "    <tr style=\"text-align: right;\">\n",
       "      <th></th>\n",
       "      <th>ric</th>\n",
       "      <th>Company Common Name</th>\n",
       "      <th>Company Market Cap</th>\n",
       "      <th>DAX</th>\n",
       "      <th>German_telecom</th>\n",
       "    </tr>\n",
       "  </thead>\n",
       "  <tbody>\n",
       "    <tr>\n",
       "      <th>1</th>\n",
       "      <td>SAPG.DE</td>\n",
       "      <td>SAP SE</td>\n",
       "      <td>1.501916e+11</td>\n",
       "      <td>1</td>\n",
       "      <td>0</td>\n",
       "    </tr>\n",
       "    <tr>\n",
       "      <th>2</th>\n",
       "      <td>SIEGn.DE</td>\n",
       "      <td>Siemens AG</td>\n",
       "      <td>1.183675e+11</td>\n",
       "      <td>1</td>\n",
       "      <td>0</td>\n",
       "    </tr>\n",
       "    <tr>\n",
       "      <th>3</th>\n",
       "      <td>ALVG.DE</td>\n",
       "      <td>Allianz SE</td>\n",
       "      <td>9.704549e+10</td>\n",
       "      <td>1</td>\n",
       "      <td>0</td>\n",
       "    </tr>\n",
       "    <tr>\n",
       "      <th>4</th>\n",
       "      <td>VOWG_p.DE</td>\n",
       "      <td>Volkswagen AG</td>\n",
       "      <td>9.619011e+10</td>\n",
       "      <td>1</td>\n",
       "      <td>0</td>\n",
       "    </tr>\n",
       "    <tr>\n",
       "      <th>5</th>\n",
       "      <td>DAIGn.DE</td>\n",
       "      <td>Daimler AG</td>\n",
       "      <td>7.532200e+10</td>\n",
       "      <td>1</td>\n",
       "      <td>0</td>\n",
       "    </tr>\n",
       "    <tr>\n",
       "      <th>6</th>\n",
       "      <td>BASFn.DE</td>\n",
       "      <td>BASF SE</td>\n",
       "      <td>7.222737e+10</td>\n",
       "      <td>1</td>\n",
       "      <td>0</td>\n",
       "    </tr>\n",
       "    <tr>\n",
       "      <th>7</th>\n",
       "      <td>ADSGn.DE</td>\n",
       "      <td>Adidas AG</td>\n",
       "      <td>7.062461e+10</td>\n",
       "      <td>1</td>\n",
       "      <td>0</td>\n",
       "    </tr>\n",
       "    <tr>\n",
       "      <th>8</th>\n",
       "      <td>DPWGn.DE</td>\n",
       "      <td>Deutsche Post AG</td>\n",
       "      <td>5.932596e+10</td>\n",
       "      <td>1</td>\n",
       "      <td>0</td>\n",
       "    </tr>\n",
       "    <tr>\n",
       "      <th>9</th>\n",
       "      <td>BMWG.DE</td>\n",
       "      <td>Bayerische Motoren Werke AG</td>\n",
       "      <td>5.780708e+10</td>\n",
       "      <td>1</td>\n",
       "      <td>0</td>\n",
       "    </tr>\n",
       "    <tr>\n",
       "      <th>10</th>\n",
       "      <td>BAYGn.DE</td>\n",
       "      <td>Bayer AG</td>\n",
       "      <td>5.621811e+10</td>\n",
       "      <td>1</td>\n",
       "      <td>0</td>\n",
       "    </tr>\n",
       "    <tr>\n",
       "      <th>11</th>\n",
       "      <td>IFXGn.DE</td>\n",
       "      <td>Infineon Technologies AG</td>\n",
       "      <td>4.791433e+10</td>\n",
       "      <td>1</td>\n",
       "      <td>0</td>\n",
       "    </tr>\n",
       "    <tr>\n",
       "      <th>12</th>\n",
       "      <td>HNKG_p.DE</td>\n",
       "      <td>Henkel AG &amp; Co KgaA</td>\n",
       "      <td>4.400469e+10</td>\n",
       "      <td>1</td>\n",
       "      <td>0</td>\n",
       "    </tr>\n",
       "    <tr>\n",
       "      <th>13</th>\n",
       "      <td>VNAn.DE</td>\n",
       "      <td>Vonovia SE</td>\n",
       "      <td>3.941367e+10</td>\n",
       "      <td>1</td>\n",
       "      <td>0</td>\n",
       "    </tr>\n",
       "    <tr>\n",
       "      <th>14</th>\n",
       "      <td>EONGn.DE</td>\n",
       "      <td>E.ON SE</td>\n",
       "      <td>2.849412e+10</td>\n",
       "      <td>1</td>\n",
       "      <td>0</td>\n",
       "    </tr>\n",
       "    <tr>\n",
       "      <th>15</th>\n",
       "      <td>BEIG.DE</td>\n",
       "      <td>Beiersdorf AG</td>\n",
       "      <td>2.817068e+10</td>\n",
       "      <td>1</td>\n",
       "      <td>0</td>\n",
       "    </tr>\n",
       "    <tr>\n",
       "      <th>16</th>\n",
       "      <td>CONG.DE</td>\n",
       "      <td>Continental AG</td>\n",
       "      <td>2.749257e+10</td>\n",
       "      <td>1</td>\n",
       "      <td>0</td>\n",
       "    </tr>\n",
       "    <tr>\n",
       "      <th>17</th>\n",
       "      <td>RWEG.DE</td>\n",
       "      <td>RWE AG</td>\n",
       "      <td>2.733554e+10</td>\n",
       "      <td>1</td>\n",
       "      <td>0</td>\n",
       "    </tr>\n",
       "    <tr>\n",
       "      <th>18</th>\n",
       "      <td>FREG.DE</td>\n",
       "      <td>Fresenius SE &amp; Co KGaA</td>\n",
       "      <td>2.581399e+10</td>\n",
       "      <td>1</td>\n",
       "      <td>0</td>\n",
       "    </tr>\n",
       "    <tr>\n",
       "      <th>19</th>\n",
       "      <td>FMEG.DE</td>\n",
       "      <td>Fresenius Medical Care AG &amp; Co KGaA</td>\n",
       "      <td>2.399858e+10</td>\n",
       "      <td>1</td>\n",
       "      <td>0</td>\n",
       "    </tr>\n",
       "    <tr>\n",
       "      <th>20</th>\n",
       "      <td>DBKGn.DE</td>\n",
       "      <td>Deutsche Bank AG</td>\n",
       "      <td>2.238385e+10</td>\n",
       "      <td>1</td>\n",
       "      <td>0</td>\n",
       "    </tr>\n",
       "    <tr>\n",
       "      <th>21</th>\n",
       "      <td>MRCG.DE</td>\n",
       "      <td>Merck KGaA</td>\n",
       "      <td>2.106119e+10</td>\n",
       "      <td>1</td>\n",
       "      <td>0</td>\n",
       "    </tr>\n",
       "    <tr>\n",
       "      <th>22</th>\n",
       "      <td>HEIG.DE</td>\n",
       "      <td>HeidelbergCement AG</td>\n",
       "      <td>1.422492e+10</td>\n",
       "      <td>1</td>\n",
       "      <td>0</td>\n",
       "    </tr>\n",
       "    <tr>\n",
       "      <th>23</th>\n",
       "      <td>CBKG.DE</td>\n",
       "      <td>Commerzbank AG</td>\n",
       "      <td>8.044701e+09</td>\n",
       "      <td>1</td>\n",
       "      <td>0</td>\n",
       "    </tr>\n",
       "    <tr>\n",
       "      <th>24</th>\n",
       "      <td>LHAG.DE</td>\n",
       "      <td>Deutsche Lufthansa AG</td>\n",
       "      <td>6.818937e+09</td>\n",
       "      <td>1</td>\n",
       "      <td>0</td>\n",
       "    </tr>\n",
       "    <tr>\n",
       "      <th>25</th>\n",
       "      <td>TKAG.DE</td>\n",
       "      <td>Thyssenkrupp AG</td>\n",
       "      <td>5.276461e+09</td>\n",
       "      <td>1</td>\n",
       "      <td>0</td>\n",
       "    </tr>\n",
       "    <tr>\n",
       "      <th>26</th>\n",
       "      <td>PSMGn.DE</td>\n",
       "      <td>Prosiebensat 1 Media SE</td>\n",
       "      <td>3.836555e+09</td>\n",
       "      <td>1</td>\n",
       "      <td>0</td>\n",
       "    </tr>\n",
       "  </tbody>\n",
       "</table>\n",
       "</div>"
      ],
      "text/plain": [
       "          ric                  Company Common Name  Company Market Cap  DAX  \\\n",
       "1     SAPG.DE                               SAP SE        1.501916e+11    1   \n",
       "2    SIEGn.DE                           Siemens AG        1.183675e+11    1   \n",
       "3     ALVG.DE                           Allianz SE        9.704549e+10    1   \n",
       "4   VOWG_p.DE                        Volkswagen AG        9.619011e+10    1   \n",
       "5    DAIGn.DE                           Daimler AG        7.532200e+10    1   \n",
       "6    BASFn.DE                              BASF SE        7.222737e+10    1   \n",
       "7    ADSGn.DE                            Adidas AG        7.062461e+10    1   \n",
       "8    DPWGn.DE                     Deutsche Post AG        5.932596e+10    1   \n",
       "9     BMWG.DE          Bayerische Motoren Werke AG        5.780708e+10    1   \n",
       "10   BAYGn.DE                             Bayer AG        5.621811e+10    1   \n",
       "11   IFXGn.DE             Infineon Technologies AG        4.791433e+10    1   \n",
       "12  HNKG_p.DE                  Henkel AG & Co KgaA        4.400469e+10    1   \n",
       "13    VNAn.DE                           Vonovia SE        3.941367e+10    1   \n",
       "14   EONGn.DE                              E.ON SE        2.849412e+10    1   \n",
       "15    BEIG.DE                        Beiersdorf AG        2.817068e+10    1   \n",
       "16    CONG.DE                       Continental AG        2.749257e+10    1   \n",
       "17    RWEG.DE                               RWE AG        2.733554e+10    1   \n",
       "18    FREG.DE               Fresenius SE & Co KGaA        2.581399e+10    1   \n",
       "19    FMEG.DE  Fresenius Medical Care AG & Co KGaA        2.399858e+10    1   \n",
       "20   DBKGn.DE                     Deutsche Bank AG        2.238385e+10    1   \n",
       "21    MRCG.DE                           Merck KGaA        2.106119e+10    1   \n",
       "22    HEIG.DE                  HeidelbergCement AG        1.422492e+10    1   \n",
       "23    CBKG.DE                       Commerzbank AG        8.044701e+09    1   \n",
       "24    LHAG.DE                Deutsche Lufthansa AG        6.818937e+09    1   \n",
       "25    TKAG.DE                      Thyssenkrupp AG        5.276461e+09    1   \n",
       "26   PSMGn.DE              Prosiebensat 1 Media SE        3.836555e+09    1   \n",
       "\n",
       "    German_telecom  \n",
       "1                0  \n",
       "2                0  \n",
       "3                0  \n",
       "4                0  \n",
       "5                0  \n",
       "6                0  \n",
       "7                0  \n",
       "8                0  \n",
       "9                0  \n",
       "10               0  \n",
       "11               0  \n",
       "12               0  \n",
       "13               0  \n",
       "14               0  \n",
       "15               0  \n",
       "16               0  \n",
       "17               0  \n",
       "18               0  \n",
       "19               0  \n",
       "20               0  \n",
       "21               0  \n",
       "22               0  \n",
       "23               0  \n",
       "24               0  \n",
       "25               0  \n",
       "26               0  "
      ]
     },
     "execution_count": 12,
     "metadata": {},
     "output_type": "execute_result"
    }
   ],
   "source": [
    "condition_dax = (rics_german_df['DAX'] == 1) & (rics_german_df['German_telecom'] != 1)\n",
    "rics_dax = rics_german_df[condition_dax]\n",
    "rics_dax[['ric', 'Company Common Name', 'Company Market Cap', 'DAX', 'German_telecom']]"
   ]
  },
  {
   "cell_type": "code",
   "execution_count": 19,
   "metadata": {},
   "outputs": [],
   "source": [
    "def get_name_of_latest_file_in_folder(folder_name):\n",
    "    files_creation_dates = pd.DataFrame(data = [], columns=[\n",
    "        \"folder_name\", \"file_name\", \"num_time\", \"str_time\"\n",
    "    ])\n",
    "\n",
    "    files_creation_dates['file_name'] = os.listdir(folder_name)\n",
    "    files_creation_dates['folder_name'] = folder_name\n",
    "    files_creation_dates['file_folder_and_name'] = files_creation_dates['folder_name'] + files_creation_dates['file_name']\n",
    "    files_creation_dates\n",
    "    for i in range(0, len(files_creation_dates)):\n",
    "        file_folder_and_name = files_creation_dates['file_folder_and_name'][i]\n",
    "        files_creation_dates['num_time'][i] = os.path.getctime(file_folder_and_name)\n",
    "        files_creation_dates['str_time'][i] = time.ctime(os.path.getctime(file_folder_and_name))\n",
    "\n",
    "    most_latest_file_dir = files_creation_dates.sort_values(by=['num_time'], ascending=False)['file_folder_and_name'].iloc[0]\n",
    "    \n",
    "    return most_latest_file_dir"
   ]
  },
  {
   "cell_type": "code",
   "execution_count": 80,
   "metadata": {},
   "outputs": [
    {
     "name": "stdout",
     "output_type": "stream",
     "text": [
      "(56779, 6) C:/DAN/t_systems/trade_project/backup_headlines/all_headlines_df_2021-01-05_v9.csv\n"
     ]
    }
   ],
   "source": [
    "# Создадим df, в который будем сохранять вообще все новости.\n",
    "\n",
    "# Можем создать пустой df, куда будем добавлять все новости\n",
    "# all_headlines_df = pd.DataFrame(data = [], columns=[\"ric\", \"versionCreated\", \"headline\", \"storyId\", \"sourceCode\", \"story\"])\n",
    "\n",
    "# Но если мы уже сохраняли файл, достанем самый свежий из папки\n",
    "most_latest_file = get_name_of_latest_file_in_folder(path_project_folder + folder_name_headlines)\n",
    "all_headlines_df = pd.read_csv(most_latest_file, sep='~')\n",
    "all_headlines_df['versionCreated'] = pd.to_datetime(all_headlines_df['versionCreated'])\n",
    "print(all_headlines_df.shape, most_latest_file)"
   ]
  },
  {
   "cell_type": "code",
   "execution_count": 81,
   "metadata": {},
   "outputs": [
    {
     "name": "stdout",
     "output_type": "stream",
     "text": [
      "(53824, 9) C:/DAN/t_systems/trade_project/logger/quasi_logger_2021-01-05_v9.csv\n"
     ]
    }
   ],
   "source": [
    "# Создадим подобие logger'а \n",
    "\n",
    "# quasi_logger = pd.DataFrame(data = [], columns=[\n",
    "#     'ric_i', 'ric_now', 'headlines_slice_i', 'headlines_number',\n",
    "#     'up_to_date_ric', 'story_i', 'story_id_now', 'story_is_success', \n",
    "#     'date_time',\n",
    "# ])\n",
    "\n",
    "# Так как у нас уже есть созданный logger, подгрузим его\n",
    "most_latest_file = get_name_of_latest_file_in_folder(path_project_folder + folder_name_logger)\n",
    "quasi_logger = pd.read_csv(most_latest_file, sep=';')\n",
    "print(quasi_logger.shape, most_latest_file)"
   ]
  },
  {
   "cell_type": "code",
   "execution_count": 109,
   "metadata": {},
   "outputs": [],
   "source": [
    "# Проверим, содержит ли all_headlines_df наш текущий ric\n",
    "def set_value_of_up_to_date_ric(\n",
    "        ric_now, # ric to check of existence in df\n",
    "        df_with_news_to_check,\n",
    "        column_name_with_rics = 'ric',\n",
    "        column_name_with_dates = 'versionCreated'):\n",
    "    \"\"\"\n",
    "    This function is checking the existance of ric in chosen df.\n",
    "    If some news are in df, then function returns the oldest date in df.\n",
    "    If no news are in df, then function returns 'None' for ek.get_news_headlines.\n",
    "    \"\"\"\n",
    "\n",
    "    is_this_ric_in_all = ric_now in list(df_with_news_to_check[column_name_with_rics])\n",
    "    print()\n",
    "    print('is_this_ric_in_all:', is_this_ric_in_all, end=' ')\n",
    "    if is_this_ric_in_all:\n",
    "        # Если в нашем датасете присутствует этот ric,\n",
    "        # то продолжаем по нему выгружать, берём мин имеющуюся дату.\n",
    "        up_to_date_ric = str(df_with_news_to_check[df_with_news_to_check[column_name_with_rics] == ric_now][column_name_with_dates].min())\n",
    "        print('  up_to_date_ric:', up_to_date_ric, end=' ')\n",
    "    else:\n",
    "        # None означает, что метод ek.get_news_headlines возьмёт текущий момент времени.\n",
    "        up_to_date_ric = None\n",
    "        print('  up_to_date_ric:', up_to_date_ric, end=' ')\n",
    "        \n",
    "    return up_to_date_ric"
   ]
  },
  {
   "cell_type": "code",
   "execution_count": 110,
   "metadata": {},
   "outputs": [],
   "source": [
    "def get_news_headlines_with_some_tries(\n",
    "        ric_now,\n",
    "        headlines_count_to_request,\n",
    "        up_to_date_ric,\n",
    "        max_num_tries=5):\n",
    "    \"\"\"\n",
    "    We trying to get df with headlines from eikon API with several tries\n",
    "    \"\"\"\n",
    "    \n",
    "    tries_num = 0\n",
    "    while tries_num < max_num_tries:\n",
    "        try:\n",
    "            news_get_df = ek.get_news_headlines(\n",
    "                query=ric_now,\n",
    "                count=headlines_count_to_request,\n",
    "                date_to=up_to_date_ric\n",
    "            )\n",
    "            print('got successfully', end=' ')\n",
    "            break\n",
    "        except Exception as e:\n",
    "            print()\n",
    "            print('Error when trying to get news headlines', tries_num)\n",
    "            print(e)\n",
    "            time.sleep(5)\n",
    "            tries_num = tries_num + 1\n",
    "\n",
    "    print('news_get_df.shape:', news_get_df.shape[0])\n",
    "\n",
    "    return news_get_df"
   ]
  },
  {
   "cell_type": "code",
   "execution_count": 111,
   "metadata": {},
   "outputs": [],
   "source": [
    "def prepare_headlines_df_to_adding_news_story(\n",
    "        ric_now,\n",
    "        news_get_df):\n",
    "    \"\"\"\n",
    "    Now: news_get_df is collected df from ek.get_news_headlines method.\n",
    "    And we want to add news story (full news text) to that df.\n",
    "    So we should prepare that df for iterations with ek.get_news_story method.\n",
    "    For that puspose we should add ric and story columns,\n",
    "    and change the column name with headlines from text to headlines.\n",
    "    \"\"\"\n",
    "    \n",
    "    news_get_df = news_get_df.reset_index(drop=True) # чтобы юзать .loc()\n",
    "    news_get_df['ric'] = ric_now\n",
    "    news_get_df['story'] = np.nan\n",
    "    news_get_df['headline'] = news_get_df['text']\n",
    "    news_get_df = news_get_df.drop(columns=['text'])\n",
    "    \n",
    "    return news_get_df"
   ]
  },
  {
   "cell_type": "code",
   "execution_count": 112,
   "metadata": {},
   "outputs": [],
   "source": [
    "def adding_news_stories_to_df_with_headlines(\n",
    "        news_get_df,\n",
    "        quasi_logger,\n",
    "        ric_i,\n",
    "        ric_now,\n",
    "        headlines_slice_i,\n",
    "        headlines_number,\n",
    "        up_to_date_ric,\n",
    "        col_name_with_story_id = 'storyId'):\n",
    "    \"\"\"\n",
    "    The function adds full text news story to df with headlines using storyId.\n",
    "    The function just prints the error in a case of error (they are rare).\n",
    "    In any case the function logs results of API request to logger df.\n",
    "    \"\"\"\n",
    "\n",
    "    for story_i in range(0, len(news_get_df)): # range(0, len(news_get_df))\n",
    "        story_id_now = news_get_df['storyId'][story_i]\n",
    "\n",
    "        try:\n",
    "            story_now = ek.get_news_story(story_id_now)\n",
    "            # Удалим из истории все тильды на всякий случай, будет sep='~'\n",
    "            story_now = story_now.replace(\"~\", \"!tilda!\")\n",
    "            # Внесём выкаченную историю в df\n",
    "            news_get_df.loc[story_i, 'story'] = story_now\n",
    "            # Пометим, что мы успешно выкачали текст новости\n",
    "            story_is_success = True\n",
    "            print(story_i, end='; ')\n",
    "\n",
    "        except Exception as e:\n",
    "            story_is_success = False\n",
    "            # Заменим NA на текст ошибки\n",
    "            news_get_df.loc[story_i, 'story'] = 'error_when_trying_to_collect_story'\n",
    "            # Выведем story с ошибкой\n",
    "            print() # e.message\n",
    "            print(\n",
    "                'STORY IS OK:', story_is_success, \n",
    "                '  ric_now:', ric_now, # input to function\n",
    "                '  ric_i:', ric_i, # input to function\n",
    "                '  story_i:', story_i\n",
    "                )\n",
    "            print(e)\n",
    "            time.sleep(5)\n",
    "\n",
    "        finally:\n",
    "            # В любом случае внесём в наш квази-логгер наблюдение story.\n",
    "            quasi_logger = quasi_logger.append({\n",
    "                \"ric_i\": ric_i, # input to function\n",
    "                \"ric_now\": ric_now, # input to function\n",
    "                \"headlines_slice_i\": headlines_slice_i, # input to function\n",
    "                \"headlines_number\": headlines_number, # input to function\n",
    "                \"up_to_date_ric\": up_to_date_ric, # input to function\n",
    "                \"story_i\": story_i,\n",
    "                \"story_id_now\": story_id_now,\n",
    "                \"story_is_success\": story_is_success,\n",
    "                \"date_time\": str(datetime.today())\n",
    "            }, ignore_index = True)\n",
    "    # At that moment the df has full text of news in col story\n",
    "    return news_get_df"
   ]
  },
  {
   "cell_type": "code",
   "execution_count": 113,
   "metadata": {},
   "outputs": [],
   "source": [
    "def save_file_as_new_file_without_replacing(\n",
    "        path_project_folder,\n",
    "        folder_name_to_save,\n",
    "        file_to_save,\n",
    "        file_short_name_add_to_path):\n",
    "    \"\"\"\n",
    "    Save the file to selected folder without replacing,\n",
    "    but changing file name as a number of version at date now\n",
    "    \"\"\"\n",
    "    # Сохраним версию all_headlines_df со всеми новостями\n",
    "    # Подберём такое название, которого нет в dir, чтобы не переписывать файл.\n",
    "    file_version = 1\n",
    "    folder_name = path_project_folder + folder_name_to_save\n",
    "    date_now = datetime.today().strftime(\"%Y-%m-%d\")\n",
    "    file_name = file_short_name_add_to_path + '_' + str(date_now) + '_v' + str(file_version) + '.csv'\n",
    "    while file_name in os.listdir(folder_name):\n",
    "        file_name = file_short_name_add_to_path + '_' + str(date_now) + '_v' + str(file_version) + '.csv'\n",
    "        file_version = file_version + 1\n",
    "    # C:/DAN/t_systems/trade_project/backup_headlines/all_headlines_df_2020-12-24_v6.csv\n",
    "    file_path = folder_name + file_name\n",
    "    file_to_save.to_csv(file_path, sep = '~', index=False)\n",
    "    print(file_path)"
   ]
  },
  {
   "cell_type": "code",
   "execution_count": 114,
   "metadata": {},
   "outputs": [
    {
     "name": "stdout",
     "output_type": "stream",
     "text": [
      "0 SAPG.DE\n",
      "\n",
      "is_this_ric_in_all: True   up_to_date_ric: 2019-09-30 05:19:23+00:00 got successfully news_get_df.shape: 0\n",
      "\n",
      "2021-01-05 19:51:56.203829 SAPG.DE  ric_i: 0  headline_slice_i: 1  headline_number: 0  not null: 0 2019-09-30 05:19:23+00:00\n",
      "C:/DAN/t_systems/trade_project/backup_headlines/all_headlines_df_2021-01-05_v10.csv\n",
      "C:/DAN/t_systems/trade_project/logger/quasi_logger_2021-01-05_v10.csv\n",
      "1 SIEGn.DE\n",
      "\n",
      "is_this_ric_in_all: True   up_to_date_ric: 2019-09-30 06:32:26.752000+00:00 got successfully news_get_df.shape: 0\n",
      "\n",
      "2021-01-05 19:52:02.364476 SIEGn.DE  ric_i: 1  headline_slice_i: 1  headline_number: 0  not null: 0 2019-09-30 06:32:26.752000+00:00\n",
      "C:/DAN/t_systems/trade_project/backup_headlines/all_headlines_df_2021-01-05_v11.csv\n",
      "C:/DAN/t_systems/trade_project/logger/quasi_logger_2021-01-05_v11.csv\n",
      "2 ALVG.DE\n",
      "\n",
      "is_this_ric_in_all: True   up_to_date_ric: 2019-09-30 03:40:15.135000+00:00 got successfully news_get_df.shape: 0\n",
      "\n",
      "2021-01-05 19:52:08.120434 ALVG.DE  ric_i: 2  headline_slice_i: 1  headline_number: 0  not null: 0 2019-09-30 03:40:15.135000+00:00\n",
      "C:/DAN/t_systems/trade_project/backup_headlines/all_headlines_df_2021-01-05_v12.csv\n",
      "C:/DAN/t_systems/trade_project/logger/quasi_logger_2021-01-05_v12.csv\n",
      "3 VOWG_p.DE\n",
      "\n",
      "is_this_ric_in_all: True   up_to_date_ric: 2019-10-04 03:15:18.128000+00:00 got successfully news_get_df.shape: 0\n",
      "\n",
      "2021-01-05 19:52:13.832144 VOWG_p.DE  ric_i: 3  headline_slice_i: 1  headline_number: 0  not null: 0 2019-10-04 03:15:18.128000+00:00\n",
      "C:/DAN/t_systems/trade_project/backup_headlines/all_headlines_df_2021-01-05_v13.csv\n",
      "C:/DAN/t_systems/trade_project/logger/quasi_logger_2021-01-05_v13.csv\n",
      "4 DAIGn.DE\n",
      "\n",
      "is_this_ric_in_all: True   up_to_date_ric: 2019-10-04 13:38:42.131000+00:00 got successfully news_get_df.shape: 0\n",
      "\n",
      "2021-01-05 19:52:20.486714 DAIGn.DE  ric_i: 4  headline_slice_i: 1  headline_number: 0  not null: 0 2019-10-04 13:38:42.131000+00:00\n",
      "C:/DAN/t_systems/trade_project/backup_headlines/all_headlines_df_2021-01-05_v14.csv\n",
      "C:/DAN/t_systems/trade_project/logger/quasi_logger_2021-01-05_v14.csv\n",
      "5 BASFn.DE\n",
      "\n",
      "is_this_ric_in_all: True   up_to_date_ric: 2019-10-05 00:34:41.055000+00:00 got successfully news_get_df.shape: 0\n",
      "\n",
      "2021-01-05 19:52:26.315105 BASFn.DE  ric_i: 5  headline_slice_i: 1  headline_number: 0  not null: 0 2019-10-05 00:34:41.055000+00:00\n",
      "C:/DAN/t_systems/trade_project/backup_headlines/all_headlines_df_2021-01-05_v15.csv\n",
      "C:/DAN/t_systems/trade_project/logger/quasi_logger_2021-01-05_v15.csv\n",
      "6 ADSGn.DE\n",
      "\n",
      "is_this_ric_in_all: True   up_to_date_ric: 2019-10-04 07:05:24.431000+00:00 got successfully news_get_df.shape: 0\n",
      "\n",
      "2021-01-05 19:52:32.218238 ADSGn.DE  ric_i: 6  headline_slice_i: 1  headline_number: 0  not null: 0 2019-10-04 07:05:24.431000+00:00\n",
      "C:/DAN/t_systems/trade_project/backup_headlines/all_headlines_df_2021-01-05_v16.csv\n",
      "C:/DAN/t_systems/trade_project/logger/quasi_logger_2021-01-05_v16.csv\n",
      "7 DPWGn.DE\n",
      "\n",
      "is_this_ric_in_all: True   up_to_date_ric: 2019-10-06 10:26:03+00:00 got successfully news_get_df.shape: 0\n",
      "\n",
      "2021-01-05 19:52:38.745756 DPWGn.DE  ric_i: 7  headline_slice_i: 1  headline_number: 0  not null: 0 2019-10-06 10:26:03+00:00\n",
      "C:/DAN/t_systems/trade_project/backup_headlines/all_headlines_df_2021-01-05_v17.csv\n",
      "C:/DAN/t_systems/trade_project/logger/quasi_logger_2021-01-05_v17.csv\n",
      "8 BMWG.DE\n",
      "\n",
      "is_this_ric_in_all: True   up_to_date_ric: 2019-10-06 15:27:42.674000+00:00 got successfully news_get_df.shape: 0\n",
      "\n",
      "2021-01-05 19:52:44.707574 BMWG.DE  ric_i: 8  headline_slice_i: 1  headline_number: 0  not null: 0 2019-10-06 15:27:42.674000+00:00\n",
      "C:/DAN/t_systems/trade_project/backup_headlines/all_headlines_df_2021-01-05_v18.csv\n",
      "C:/DAN/t_systems/trade_project/logger/quasi_logger_2021-01-05_v18.csv\n",
      "9 BAYGn.DE\n",
      "\n",
      "is_this_ric_in_all: True   up_to_date_ric: 2019-10-05 18:25:44.765000+00:00 got successfully news_get_df.shape: 1\n",
      "0; \n",
      "2021-01-05 19:52:59.926345 BAYGn.DE  ric_i: 9  headline_slice_i: 1  headline_number: 1  not null: 1 2019-10-05 18:25:44.765000+00:00\n",
      "C:/DAN/t_systems/trade_project/backup_headlines/all_headlines_df_2021-01-05_v19.csv\n",
      "C:/DAN/t_systems/trade_project/logger/quasi_logger_2021-01-05_v19.csv\n",
      "10 IFXGn.DE\n",
      "\n",
      "is_this_ric_in_all: True   up_to_date_ric: 2019-10-11 14:31:15.168000+00:00 got successfully news_get_df.shape: 27\n",
      "0; 1; 2; 3; 4; 5; 6; 7; 8; 9; "
     ]
    },
    {
     "name": "stderr",
     "output_type": "stream",
     "text": [
      "2021-01-05 19:53:43,951 P[10424] [MainThread 17620] UDF Core request failed. Gateway Time-out\n",
      "2021-01-05 19:53:43,951 P[10424] [MainThread 17620] HTTP request failed: EikonError-UDF Core request failed. Gateway Time-out\n"
     ]
    },
    {
     "name": "stdout",
     "output_type": "stream",
     "text": [
      "\n",
      "STORY IS OK: False   ric_now: IFXGn.DE   ric_i: 10   story_i: 10\n",
      "'NoneType' object has no attribute 'replace'\n",
      "11; 12; 13; 14; 15; 16; 17; 18; 19; 20; 21; 22; 23; 24; 25; 26; \n",
      "2021-01-05 19:54:25.629659 IFXGn.DE  ric_i: 10  headline_slice_i: 1  headline_number: 27  not null: 27 2019-10-11 14:31:15.168000+00:00\n",
      "C:/DAN/t_systems/trade_project/backup_headlines/all_headlines_df_2021-01-05_v20.csv\n",
      "C:/DAN/t_systems/trade_project/logger/quasi_logger_2021-01-05_v20.csv\n",
      "11 HNKG_p.DE\n",
      "\n",
      "is_this_ric_in_all: False   up_to_date_ric: None got successfully news_get_df.shape: 100\n",
      "0; 1; 2; \n",
      "STORY IS OK: False   ric_now: HNKG_p.DE   ric_i: 11   story_i: 3\n",
      "'NoneType' object has no attribute 'replace'\n",
      "4; 5; 6; 7; 8; 9; 10; 11; "
     ]
    },
    {
     "name": "stderr",
     "output_type": "stream",
     "text": [
      "2021-01-05 19:55:23,870 P[10424] [MainThread 17620] UDF Core request failed. Gateway Time-out\n",
      "2021-01-05 19:55:23,871 P[10424] [MainThread 17620] HTTP request failed: EikonError-UDF Core request failed. Gateway Time-out\n"
     ]
    },
    {
     "name": "stdout",
     "output_type": "stream",
     "text": [
      "\n",
      "STORY IS OK: False   ric_now: HNKG_p.DE   ric_i: 11   story_i: 12\n",
      "'NoneType' object has no attribute 'replace'\n",
      "13; 14; 15; 16; 17; 18; 19; 20; 21; 22; 23; 24; 25; 26; 27; 28; 29; 30; 31; "
     ]
    },
    {
     "name": "stderr",
     "output_type": "stream",
     "text": [
      "2021-01-05 19:56:15,900 P[10424] [MainThread 17620] UDF Core request failed. Gateway Time-out\n",
      "2021-01-05 19:56:15,903 P[10424] [MainThread 17620] HTTP request failed: EikonError-UDF Core request failed. Gateway Time-out\n"
     ]
    },
    {
     "name": "stdout",
     "output_type": "stream",
     "text": [
      "\n",
      "STORY IS OK: False   ric_now: HNKG_p.DE   ric_i: 11   story_i: 32\n",
      "'NoneType' object has no attribute 'replace'\n",
      "33; 34; 35; 36; 37; 38; 39; 40; 41; 42; 43; \n",
      "STORY IS OK: False   ric_now: HNKG_p.DE   ric_i: 11   story_i: 44\n",
      "'NoneType' object has no attribute 'replace'\n",
      "45; 46; 47; 48; 49; 50; 51; 52; 53; 54; 55; 56; 57; 58; 59; 60; 61; 62; 63; 64; "
     ]
    },
    {
     "name": "stderr",
     "output_type": "stream",
     "text": [
      "2021-01-05 19:57:51,903 P[10424] [MainThread 17620] UDF Core request failed. Gateway Time-out\n",
      "2021-01-05 19:57:51,904 P[10424] [MainThread 17620] HTTP request failed: EikonError-UDF Core request failed. Gateway Time-out\n"
     ]
    },
    {
     "name": "stdout",
     "output_type": "stream",
     "text": [
      "\n",
      "STORY IS OK: False   ric_now: HNKG_p.DE   ric_i: 11   story_i: 65\n",
      "'NoneType' object has no attribute 'replace'\n",
      "66; 67; 68; 69; 70; 71; 72; 73; 74; 75; 76; 77; 78; 79; 80; 81; 82; 83; 84; 85; 86; 87; 88; 89; 90; 91; 92; 93; 94; 95; 96; 97; 98; 99; \n",
      "2021-01-05 19:59:33.315760 HNKG_p.DE  ric_i: 11  headline_slice_i: 1  headline_number: 100  not null: 100 None\n",
      "\n",
      "is_this_ric_in_all: True   up_to_date_ric: 2020-11-06 14:14:35.752000+00:00 got successfully news_get_df.shape: 100\n",
      "0; 1; 2; 3; 4; 5; 6; 7; 8; 9; 10; 11; 12; 13; 14; 15; 16; 17; 18; 19; 20; 21; 22; 23; 24; 25; 26; 27; 28; 29; 30; 31; 32; 33; 34; 35; 36; 37; 38; 39; 40; 41; 42; 43; 44; 45; 46; 47; 48; 49; 50; 51; 52; 53; 54; 55; 56; 57; 58; 59; 60; 61; 62; 63; 64; 65; 66; 67; 68; 69; 70; 71; 72; 73; 74; 75; 76; 77; 78; 79; 80; 81; 82; 83; 84; 85; 86; \n",
      "STORY IS OK: False   ric_now: HNKG_p.DE   ric_i: 11   story_i: 87\n",
      "'NoneType' object has no attribute 'replace'\n",
      "88; 89; 90; 91; 92; 93; 94; 95; 96; 97; 98; 99; \n",
      "2021-01-05 20:02:56.418311 HNKG_p.DE  ric_i: 11  headline_slice_i: 2  headline_number: 100  not null: 100 2020-11-06 14:14:35.752000+00:00\n",
      "\n",
      "is_this_ric_in_all: True   up_to_date_ric: 2020-10-09 06:38:38.338000+00:00 got successfully news_get_df.shape: 100\n",
      "0; 1; 2; 3; 4; 5; \n",
      "STORY IS OK: False   ric_now: HNKG_p.DE   ric_i: 11   story_i: 6\n",
      "'NoneType' object has no attribute 'replace'\n",
      "7; 8; 9; 10; 11; 12; 13; 14; 15; 16; 17; 18; 19; 20; 21; 22; 23; 24; 25; 26; 27; 28; 29; 30; 31; 32; 33; 34; 35; 36; 37; 38; 39; 40; 41; 42; 43; 44; 45; 46; 47; 48; 49; 50; 51; 52; 53; 54; 55; 56; 57; 58; 59; 60; 61; 62; 63; 64; 65; 66; 67; 68; 69; 70; 71; 72; 73; 74; 75; 76; 77; 78; 79; 80; 81; 82; 83; 84; 85; 86; 87; 88; 89; 90; 91; 92; 93; 94; 95; 96; 97; 98; 99; \n",
      "2021-01-05 20:07:28.613802 HNKG_p.DE  ric_i: 11  headline_slice_i: 3  headline_number: 100  not null: 100 2020-10-09 06:38:38.338000+00:00\n",
      "\n",
      "is_this_ric_in_all: True   up_to_date_ric: 2020-08-27 14:30:41.441000+00:00 got successfully news_get_df.shape: 100\n",
      "0; 1; 2; 3; 4; 5; 6; 7; 8; 9; 10; 11; 12; 13; 14; 15; 16; 17; 18; 19; 20; 21; 22; 23; 24; 25; 26; 27; 28; 29; 30; 31; 32; 33; 34; 35; 36; 37; 38; 39; 40; 41; 42; 43; 44; 45; 46; 47; 48; 49; 50; 51; 52; 53; 54; 55; 56; 57; 58; 59; 60; 61; 62; 63; 64; 65; 66; 67; 68; 69; 70; 71; 72; 73; 74; 75; 76; 77; 78; 79; 80; 81; 82; 83; 84; 85; 86; 87; 88; 89; 90; 91; 92; 93; 94; 95; 96; 97; 98; 99; \n",
      "2021-01-05 20:10:33.388119 HNKG_p.DE  ric_i: 11  headline_slice_i: 4  headline_number: 100  not null: 100 2020-08-27 14:30:41.441000+00:00\n",
      "\n",
      "is_this_ric_in_all: True   up_to_date_ric: 2020-07-07 09:42:59+00:00 got successfully news_get_df.shape: 100\n",
      "0; 1; 2; 3; 4; 5; 6; 7; 8; 9; 10; 11; 12; 13; 14; 15; 16; 17; 18; 19; 20; 21; 22; 23; 24; 25; 26; 27; 28; 29; 30; 31; 32; 33; 34; 35; 36; 37; 38; 39; 40; 41; 42; 43; 44; 45; 46; 47; 48; 49; 50; 51; 52; 53; 54; 55; 56; 57; 58; 59; 60; 61; 62; 63; 64; 65; 66; 67; 68; 69; 70; 71; 72; 73; 74; 75; 76; 77; 78; 79; 80; 81; 82; 83; 84; 85; 86; 87; 88; 89; 90; 91; 92; 93; 94; 95; 96; 97; 98; 99; \n",
      "2021-01-05 20:13:42.704036 HNKG_p.DE  ric_i: 11  headline_slice_i: 5  headline_number: 100  not null: 100 2020-07-07 09:42:59+00:00\n",
      "\n",
      "is_this_ric_in_all: True   up_to_date_ric: 2020-05-20 13:12:51.112000+00:00 got successfully news_get_df.shape: 100\n",
      "0; 1; 2; 3; 4; 5; "
     ]
    },
    {
     "name": "stderr",
     "output_type": "stream",
     "text": [
      "2021-01-05 20:14:13,130 P[10424] [MainThread 17620] UDF Core request failed. Gateway Time-out\n",
      "2021-01-05 20:14:13,131 P[10424] [MainThread 17620] HTTP request failed: EikonError-UDF Core request failed. Gateway Time-out\n"
     ]
    },
    {
     "name": "stdout",
     "output_type": "stream",
     "text": [
      "\n",
      "STORY IS OK: False   ric_now: HNKG_p.DE   ric_i: 11   story_i: 6\n",
      "'NoneType' object has no attribute 'replace'\n",
      "7; 8; 9; 10; 11; 12; 13; 14; 15; 16; 17; 18; 19; 20; 21; 22; 23; 24; 25; 26; 27; 28; 29; 30; 31; 32; 33; \n",
      "STORY IS OK: False   ric_now: HNKG_p.DE   ric_i: 11   story_i: 34\n",
      "'NoneType' object has no attribute 'replace'\n",
      "35; 36; 37; 38; 39; 40; 41; 42; 43; 44; 45; 46; 47; 48; \n",
      "STORY IS OK: False   ric_now: HNKG_p.DE   ric_i: 11   story_i: 49\n",
      "'NoneType' object has no attribute 'replace'\n",
      "50; 51; 52; 53; 54; 55; 56; 57; 58; 59; 60; 61; 62; 63; 64; 65; 66; 67; 68; 69; 70; 71; 72; 73; 74; 75; 76; 77; 78; 79; 80; 81; 82; 83; 84; 85; 86; 87; 88; 89; 90; 91; 92; 93; 94; 95; 96; 97; 98; 99; \n",
      "2021-01-05 20:18:20.873006 HNKG_p.DE  ric_i: 11  headline_slice_i: 6  headline_number: 100  not null: 100 2020-05-20 13:12:51.112000+00:00\n",
      "\n",
      "is_this_ric_in_all: True   up_to_date_ric: 2020-04-24 11:58:42+00:00 got successfully news_get_df.shape: 100\n",
      "0; 1; 2; 3; 4; 5; 6; 7; 8; 9; 10; 11; 12; 13; 14; \n",
      "STORY IS OK: False   ric_now: HNKG_p.DE   ric_i: 11   story_i: 15\n",
      "'NoneType' object has no attribute 'replace'\n",
      "16; 17; 18; 19; 20; 21; 22; 23; 24; 25; 26; 27; 28; 29; 30; 31; 32; 33; 34; 35; 36; 37; 38; 39; 40; 41; 42; 43; 44; 45; 46; 47; 48; 49; 50; 51; 52; 53; 54; 55; 56; 57; 58; 59; 60; 61; 62; 63; 64; 65; 66; 67; 68; 69; 70; \n",
      "STORY IS OK: False   ric_now: HNKG_p.DE   ric_i: 11   story_i: 71\n",
      "'NoneType' object has no attribute 'replace'\n",
      "72; 73; 74; 75; 76; 77; 78; 79; 80; 81; 82; 83; 84; 85; 86; 87; 88; 89; 90; 91; 92; 93; 94; 95; 96; 97; 98; 99; \n",
      "2021-01-05 20:22:35.248380 HNKG_p.DE  ric_i: 11  headline_slice_i: 7  headline_number: 100  not null: 100 2020-04-24 11:58:42+00:00\n",
      "\n",
      "is_this_ric_in_all: True   up_to_date_ric: 2020-03-12 07:48:29.256000+00:00 got successfully news_get_df.shape: 100\n",
      "0; 1; 2; 3; 4; 5; 6; 7; 8; 9; 10; 11; 12; 13; 14; 15; 16; 17; 18; 19; 20; 21; 22; 23; 24; 25; 26; 27; 28; 29; 30; 31; 32; 33; 34; 35; 36; 37; 38; 39; 40; \n",
      "STORY IS OK: False   ric_now: HNKG_p.DE   ric_i: 11   story_i: 41\n",
      "'NoneType' object has no attribute 'replace'\n",
      "42; 43; 44; 45; 46; 47; 48; 49; 50; 51; 52; 53; 54; 55; 56; 57; 58; 59; 60; 61; 62; 63; 64; 65; 66; 67; 68; 69; 70; 71; 72; 73; 74; 75; 76; 77; 78; 79; 80; 81; 82; 83; 84; 85; 86; 87; 88; 89; 90; 91; 92; 93; 94; 95; 96; 97; 98; 99; \n",
      "2021-01-05 20:25:47.288171 HNKG_p.DE  ric_i: 11  headline_slice_i: 8  headline_number: 100  not null: 100 2020-03-12 07:48:29.256000+00:00\n",
      "\n",
      "is_this_ric_in_all: True   up_to_date_ric: 2020-02-11 08:04:15.880000+00:00 got successfully news_get_df.shape: 100\n",
      "0; 1; 2; 3; 4; 5; 6; 7; 8; 9; 10; 11; 12; 13; 14; 15; 16; 17; 18; 19; 20; 21; 22; 23; 24; 25; 26; 27; 28; 29; 30; 31; 32; 33; 34; 35; 36; 37; 38; 39; 40; 41; 42; 43; 44; 45; 46; 47; 48; 49; 50; 51; 52; 53; 54; 55; 56; 57; 58; 59; 60; 61; 62; 63; 64; 65; 66; 67; 68; 69; 70; 71; 72; 73; 74; 75; 76; 77; 78; 79; 80; 81; 82; 83; 84; 85; 86; 87; 88; 89; 90; 91; 92; 93; 94; 95; 96; 97; 98; 99; \n",
      "2021-01-05 20:28:57.551544 HNKG_p.DE  ric_i: 11  headline_slice_i: 9  headline_number: 100  not null: 100 2020-02-11 08:04:15.880000+00:00\n",
      "\n",
      "is_this_ric_in_all: True   up_to_date_ric: 2019-12-13 04:15:12.676000+00:00 got successfully news_get_df.shape: 100\n",
      "0; 1; 2; 3; 4; 5; 6; 7; 8; 9; 10; 11; 12; 13; 14; 15; 16; 17; 18; 19; 20; 21; 22; 23; 24; 25; 26; 27; 28; 29; 30; 31; 32; 33; 34; 35; 36; 37; 38; 39; 40; 41; 42; 43; 44; 45; 46; 47; 48; 49; 50; 51; 52; 53; 54; 55; 56; 57; 58; 59; 60; 61; 62; 63; 64; 65; 66; 67; 68; 69; 70; 71; 72; 73; 74; 75; 76; 77; 78; 79; 80; 81; 82; 83; 84; 85; 86; 87; 88; 89; 90; 91; \n",
      "STORY IS OK: False   ric_now: HNKG_p.DE   ric_i: 11   story_i: 92\n",
      "'NoneType' object has no attribute 'replace'\n",
      "93; 94; 95; 96; 97; 98; 99; \n",
      "2021-01-05 20:33:22.341481 HNKG_p.DE  ric_i: 11  headline_slice_i: 10  headline_number: 100  not null: 100 2019-12-13 04:15:12.676000+00:00\n",
      "\n",
      "is_this_ric_in_all: True   up_to_date_ric: 2019-11-14 06:37:45+00:00 got successfully news_get_df.shape: 100\n",
      "0; 1; 2; 3; 4; 5; 6; 7; 8; 9; 10; 11; 12; 13; 14; 15; 16; 17; 18; 19; 20; 21; 22; 23; \n",
      "STORY IS OK: False   ric_now: HNKG_p.DE   ric_i: 11   story_i: 24\n",
      "'NoneType' object has no attribute 'replace'\n",
      "25; 26; 27; 28; 29; 30; 31; 32; 33; 34; 35; 36; 37; 38; 39; 40; 41; 42; 43; 44; 45; 46; 47; 48; 49; 50; 51; 52; 53; 54; 55; 56; 57; 58; 59; 60; 61; 62; \n",
      "STORY IS OK: False   ric_now: HNKG_p.DE   ric_i: 11   story_i: 63\n",
      "'NoneType' object has no attribute 'replace'\n",
      "64; 65; 66; 67; 68; 69; 70; 71; 72; 73; 74; 75; 76; 77; 78; 79; 80; 81; 82; 83; 84; 85; 86; 87; 88; 89; 90; 91; 92; 93; 94; 95; 96; 97; 98; 99; \n",
      "2021-01-05 20:37:58.221933 HNKG_p.DE  ric_i: 11  headline_slice_i: 11  headline_number: 100  not null: 100 2019-11-14 06:37:45+00:00\n",
      "\n",
      "is_this_ric_in_all: True   up_to_date_ric: 2019-10-08 03:15:14.538000+00:00 \n",
      "Error when trying to get news headlines 0\n",
      "'headlines'\n",
      "got successfully news_get_df.shape: 7\n",
      "0; 1; 2; 3; 4; 5; 6; \n",
      "2021-01-05 20:38:17.827148 HNKG_p.DE  ric_i: 11  headline_slice_i: 12  headline_number: 7  not null: 7 2019-10-08 03:15:14.538000+00:00\n",
      "C:/DAN/t_systems/trade_project/backup_headlines/all_headlines_df_2021-01-05_v21.csv\n",
      "C:/DAN/t_systems/trade_project/logger/quasi_logger_2021-01-05_v21.csv\n",
      "12 VNAn.DE\n",
      "\n",
      "is_this_ric_in_all: False   up_to_date_ric: None got successfully news_get_df.shape: 100\n",
      "0; 1; 2; 3; 4; 5; 6; 7; 8; 9; 10; 11; 12; 13; 14; 15; 16; 17; 18; 19; 20; 21; 22; 23; 24; 25; 26; 27; 28; 29; 30; 31; 32; 33; 34; 35; 36; 37; 38; 39; 40; 41; 42; 43; 44; 45; 46; 47; 48; 49; 50; 51; 52; 53; 54; 55; 56; 57; 58; 59; 60; 61; 62; 63; 64; 65; 66; 67; 68; 69; 70; \n",
      "STORY IS OK: False   ric_now: VNAn.DE   ric_i: 12   story_i: 71\n",
      "'NoneType' object has no attribute 'replace'\n",
      "72; 73; 74; 75; 76; 77; 78; 79; 80; 81; 82; 83; 84; 85; 86; 87; 88; 89; 90; 91; \n",
      "STORY IS OK: False   ric_now: VNAn.DE   ric_i: 12   story_i: 92\n",
      "'NoneType' object has no attribute 'replace'\n",
      "93; 94; 95; 96; 97; 98; 99; \n",
      "2021-01-05 20:42:21.235976 VNAn.DE  ric_i: 12  headline_slice_i: 1  headline_number: 100  not null: 100 None\n",
      "\n",
      "is_this_ric_in_all: True   up_to_date_ric: 2020-11-04 06:20:39+00:00 got successfully news_get_df.shape: 100\n",
      "0; 1; 2; 3; 4; 5; 6; 7; 8; 9; 10; 11; 12; 13; 14; 15; 16; 17; 18; 19; 20; 21; 22; 23; 24; 25; 26; 27; 28; 29; 30; 31; 32; 33; 34; 35; 36; 37; 38; 39; 40; 41; 42; 43; 44; 45; 46; 47; 48; 49; 50; 51; 52; 53; 54; 55; \n",
      "STORY IS OK: False   ric_now: VNAn.DE   ric_i: 12   story_i: 56\n",
      "'NoneType' object has no attribute 'replace'\n",
      "57; 58; 59; 60; 61; 62; 63; 64; 65; 66; 67; 68; 69; 70; 71; 72; 73; 74; 75; 76; 77; 78; 79; 80; 81; 82; 83; 84; 85; 86; 87; 88; 89; 90; 91; 92; 93; 94; 95; 96; 97; 98; 99; \n",
      "2021-01-05 20:46:00.431240 VNAn.DE  ric_i: 12  headline_slice_i: 2  headline_number: 100  not null: 100 2020-11-04 06:20:39+00:00\n",
      "\n",
      "is_this_ric_in_all: True   up_to_date_ric: 2020-09-03 15:47:28.608000+00:00 got successfully news_get_df.shape: 100\n",
      "0; 1; 2; 3; 4; 5; 6; 7; 8; 9; 10; 11; 12; 13; 14; 15; 16; 17; 18; 19; 20; 21; 22; 23; 24; 25; 26; 27; 28; 29; 30; 31; 32; 33; 34; 35; 36; 37; 38; 39; \n",
      "STORY IS OK: False   ric_now: VNAn.DE   ric_i: 12   story_i: 40\n",
      "'NoneType' object has no attribute 'replace'\n",
      "41; 42; 43; 44; 45; 46; 47; 48; 49; 50; 51; 52; 53; 54; 55; 56; 57; 58; 59; 60; 61; 62; 63; 64; 65; 66; 67; 68; 69; 70; 71; 72; 73; 74; 75; 76; 77; 78; 79; 80; \n",
      "STORY IS OK: False   ric_now: VNAn.DE   ric_i: 12   story_i: 81\n",
      "'NoneType' object has no attribute 'replace'\n",
      "82; 83; 84; 85; 86; 87; 88; 89; 90; 91; 92; 93; 94; 95; 96; 97; 98; 99; \n",
      "2021-01-05 20:50:16.246922 VNAn.DE  ric_i: 12  headline_slice_i: 3  headline_number: 100  not null: 100 2020-09-03 15:47:28.608000+00:00\n",
      "\n",
      "is_this_ric_in_all: True   up_to_date_ric: 2020-07-27 01:52:10+00:00 got successfully news_get_df.shape: 100\n",
      "\n",
      "STORY IS OK: False   ric_now: VNAn.DE   ric_i: 12   story_i: 0\n",
      "'NoneType' object has no attribute 'replace'\n",
      "1; 2; 3; 4; 5; 6; 7; 8; 9; 10; 11; 12; 13; 14; 15; 16; 17; 18; 19; 20; 21; 22; 23; 24; 25; 26; 27; 28; 29; 30; 31; 32; 33; 34; 35; 36; 37; 38; 39; 40; \n",
      "STORY IS OK: False   ric_now: VNAn.DE   ric_i: 12   story_i: 41\n",
      "'NoneType' object has no attribute 'replace'\n",
      "42; 43; 44; 45; 46; 47; 48; 49; 50; 51; 52; \n",
      "STORY IS OK: False   ric_now: VNAn.DE   ric_i: 12   story_i: 53\n",
      "'NoneType' object has no attribute 'replace'\n",
      "54; 55; 56; 57; 58; 59; 60; 61; 62; 63; 64; 65; 66; 67; 68; 69; 70; 71; 72; 73; 74; 75; 76; 77; 78; 79; 80; 81; 82; 83; 84; 85; 86; 87; 88; 89; 90; 91; 92; "
     ]
    },
    {
     "name": "stderr",
     "output_type": "stream",
     "text": [
      "2021-01-05 20:53:43,850 P[10424] [MainThread 17620] UDF Core request failed. Gateway Time-out\n",
      "2021-01-05 20:53:43,851 P[10424] [MainThread 17620] HTTP request failed: EikonError-UDF Core request failed. Gateway Time-out\n"
     ]
    },
    {
     "name": "stdout",
     "output_type": "stream",
     "text": [
      "\n",
      "STORY IS OK: False   ric_now: VNAn.DE   ric_i: 12   story_i: 93\n",
      "'NoneType' object has no attribute 'replace'\n",
      "94; 95; 96; 97; 98; 99; \n",
      "2021-01-05 20:53:58.829757 VNAn.DE  ric_i: 12  headline_slice_i: 4  headline_number: 100  not null: 100 2020-07-27 01:52:10+00:00\n",
      "\n",
      "is_this_ric_in_all: True   up_to_date_ric: 2020-06-26 15:29:03.376000+00:00 got successfully news_get_df.shape: 100\n",
      "0; 1; 2; 3; 4; 5; 6; 7; "
     ]
    },
    {
     "name": "stderr",
     "output_type": "stream",
     "text": [
      "2021-01-05 20:54:47,108 P[10424] [MainThread 17620] Backend error. 503 Service Unavailable\n",
      "2021-01-05 20:54:47,110 P[10424] [MainThread 17620] HTTP request failed: EikonError-Backend error. 503 Service Unavailable\n"
     ]
    },
    {
     "name": "stdout",
     "output_type": "stream",
     "text": [
      "\n",
      "STORY IS OK: False   ric_now: VNAn.DE   ric_i: 12   story_i: 8\n",
      "'NoneType' object has no attribute 'replace'\n",
      "\n",
      "STORY IS OK: False   ric_now: VNAn.DE   ric_i: 12   story_i: 9\n",
      "'NoneType' object has no attribute 'replace'\n"
     ]
    },
    {
     "name": "stderr",
     "output_type": "stream",
     "text": [
      "2021-01-05 20:54:57,731 P[10424] [MainThread 17620] Error code 429 | Client Error: Too many requests, please try again later. Wait for 11103 seconds.\n",
      "2021-01-05 20:54:57,732 P[10424] [MainThread 17620] HTTP request failed: EikonError-Client Error: Too many requests, please try again later. Wait for 11103 seconds.\n"
     ]
    },
    {
     "name": "stdout",
     "output_type": "stream",
     "text": [
      "\n",
      "STORY IS OK: False   ric_now: VNAn.DE   ric_i: 12   story_i: 10\n",
      "'NoneType' object has no attribute 'replace'\n"
     ]
    },
    {
     "name": "stderr",
     "output_type": "stream",
     "text": [
      "2021-01-05 20:55:02,777 P[10424] [MainThread 17620] Error code 429 | Client Error: Too many requests, please try again later. Wait for 11098 seconds.\n",
      "2021-01-05 20:55:02,780 P[10424] [MainThread 17620] HTTP request failed: EikonError-Client Error: Too many requests, please try again later. Wait for 11098 seconds.\n"
     ]
    },
    {
     "name": "stdout",
     "output_type": "stream",
     "text": [
      "\n",
      "STORY IS OK: False   ric_now: VNAn.DE   ric_i: 12   story_i: 11\n",
      "'NoneType' object has no attribute 'replace'\n"
     ]
    },
    {
     "name": "stderr",
     "output_type": "stream",
     "text": [
      "2021-01-05 20:55:07,817 P[10424] [MainThread 17620] Error code 429 | Client Error: Too many requests, please try again later. Wait for 11093 seconds.\n",
      "2021-01-05 20:55:07,819 P[10424] [MainThread 17620] HTTP request failed: EikonError-Client Error: Too many requests, please try again later. Wait for 11093 seconds.\n"
     ]
    },
    {
     "name": "stdout",
     "output_type": "stream",
     "text": [
      "\n",
      "STORY IS OK: False   ric_now: VNAn.DE   ric_i: 12   story_i: 12\n",
      "'NoneType' object has no attribute 'replace'\n"
     ]
    },
    {
     "name": "stderr",
     "output_type": "stream",
     "text": [
      "2021-01-05 20:55:12,871 P[10424] [MainThread 17620] Error code 429 | Client Error: Too many requests, please try again later. Wait for 11088 seconds.\n",
      "2021-01-05 20:55:12,873 P[10424] [MainThread 17620] HTTP request failed: EikonError-Client Error: Too many requests, please try again later. Wait for 11088 seconds.\n"
     ]
    },
    {
     "name": "stdout",
     "output_type": "stream",
     "text": [
      "\n",
      "STORY IS OK: False   ric_now: VNAn.DE   ric_i: 12   story_i: 13\n",
      "'NoneType' object has no attribute 'replace'\n"
     ]
    },
    {
     "name": "stderr",
     "output_type": "stream",
     "text": [
      "2021-01-05 20:55:17,915 P[10424] [MainThread 17620] Error code 429 | Client Error: Too many requests, please try again later. Wait for 11083 seconds.\n",
      "2021-01-05 20:55:17,917 P[10424] [MainThread 17620] HTTP request failed: EikonError-Client Error: Too many requests, please try again later. Wait for 11083 seconds.\n"
     ]
    },
    {
     "name": "stdout",
     "output_type": "stream",
     "text": [
      "\n",
      "STORY IS OK: False   ric_now: VNAn.DE   ric_i: 12   story_i: 14\n",
      "'NoneType' object has no attribute 'replace'\n"
     ]
    },
    {
     "name": "stderr",
     "output_type": "stream",
     "text": [
      "2021-01-05 20:55:22,966 P[10424] [MainThread 17620] Error code 429 | Client Error: Too many requests, please try again later. Wait for 11078 seconds.\n",
      "2021-01-05 20:55:22,969 P[10424] [MainThread 17620] HTTP request failed: EikonError-Client Error: Too many requests, please try again later. Wait for 11078 seconds.\n"
     ]
    },
    {
     "name": "stdout",
     "output_type": "stream",
     "text": [
      "\n",
      "STORY IS OK: False   ric_now: VNAn.DE   ric_i: 12   story_i: 15\n",
      "'NoneType' object has no attribute 'replace'\n"
     ]
    },
    {
     "name": "stderr",
     "output_type": "stream",
     "text": [
      "2021-01-05 20:55:28,020 P[10424] [MainThread 17620] Error code 429 | Client Error: Too many requests, please try again later. Wait for 11072 seconds.\n",
      "2021-01-05 20:55:28,021 P[10424] [MainThread 17620] HTTP request failed: EikonError-Client Error: Too many requests, please try again later. Wait for 11072 seconds.\n"
     ]
    },
    {
     "name": "stdout",
     "output_type": "stream",
     "text": [
      "\n",
      "STORY IS OK: False   ric_now: VNAn.DE   ric_i: 12   story_i: 16\n",
      "'NoneType' object has no attribute 'replace'\n"
     ]
    },
    {
     "name": "stderr",
     "output_type": "stream",
     "text": [
      "2021-01-05 20:55:33,072 P[10424] [MainThread 17620] Error code 429 | Client Error: Too many requests, please try again later. Wait for 11067 seconds.\n",
      "2021-01-05 20:55:33,073 P[10424] [MainThread 17620] HTTP request failed: EikonError-Client Error: Too many requests, please try again later. Wait for 11067 seconds.\n"
     ]
    },
    {
     "name": "stdout",
     "output_type": "stream",
     "text": [
      "\n",
      "STORY IS OK: False   ric_now: VNAn.DE   ric_i: 12   story_i: 17\n",
      "'NoneType' object has no attribute 'replace'\n"
     ]
    },
    {
     "name": "stderr",
     "output_type": "stream",
     "text": [
      "2021-01-05 20:55:38,129 P[10424] [MainThread 17620] Error code 429 | Client Error: Too many requests, please try again later. Wait for 11062 seconds.\n",
      "2021-01-05 20:55:38,131 P[10424] [MainThread 17620] HTTP request failed: EikonError-Client Error: Too many requests, please try again later. Wait for 11062 seconds.\n"
     ]
    },
    {
     "name": "stdout",
     "output_type": "stream",
     "text": [
      "\n",
      "STORY IS OK: False   ric_now: VNAn.DE   ric_i: 12   story_i: 18\n",
      "'NoneType' object has no attribute 'replace'\n"
     ]
    },
    {
     "name": "stderr",
     "output_type": "stream",
     "text": [
      "2021-01-05 20:55:43,196 P[10424] [MainThread 17620] Error code 429 | Client Error: Too many requests, please try again later. Wait for 11057 seconds.\n",
      "2021-01-05 20:55:43,197 P[10424] [MainThread 17620] HTTP request failed: EikonError-Client Error: Too many requests, please try again later. Wait for 11057 seconds.\n"
     ]
    },
    {
     "name": "stdout",
     "output_type": "stream",
     "text": [
      "\n",
      "STORY IS OK: False   ric_now: VNAn.DE   ric_i: 12   story_i: 19\n",
      "'NoneType' object has no attribute 'replace'\n"
     ]
    },
    {
     "name": "stderr",
     "output_type": "stream",
     "text": [
      "2021-01-05 20:55:48,259 P[10424] [MainThread 17620] Error code 429 | Client Error: Too many requests, please try again later. Wait for 11052 seconds.\n",
      "2021-01-05 20:55:48,262 P[10424] [MainThread 17620] HTTP request failed: EikonError-Client Error: Too many requests, please try again later. Wait for 11052 seconds.\n"
     ]
    },
    {
     "name": "stdout",
     "output_type": "stream",
     "text": [
      "\n",
      "STORY IS OK: False   ric_now: VNAn.DE   ric_i: 12   story_i: 20\n",
      "'NoneType' object has no attribute 'replace'\n"
     ]
    },
    {
     "name": "stderr",
     "output_type": "stream",
     "text": [
      "2021-01-05 20:55:53,317 P[10424] [MainThread 17620] Error code 429 | Client Error: Too many requests, please try again later. Wait for 11047 seconds.\n",
      "2021-01-05 20:55:53,318 P[10424] [MainThread 17620] HTTP request failed: EikonError-Client Error: Too many requests, please try again later. Wait for 11047 seconds.\n"
     ]
    },
    {
     "name": "stdout",
     "output_type": "stream",
     "text": [
      "\n",
      "STORY IS OK: False   ric_now: VNAn.DE   ric_i: 12   story_i: 21\n",
      "'NoneType' object has no attribute 'replace'\n"
     ]
    },
    {
     "name": "stderr",
     "output_type": "stream",
     "text": [
      "2021-01-05 20:55:58,374 P[10424] [MainThread 17620] Error code 429 | Client Error: Too many requests, please try again later. Wait for 11042 seconds.\n",
      "2021-01-05 20:55:58,376 P[10424] [MainThread 17620] HTTP request failed: EikonError-Client Error: Too many requests, please try again later. Wait for 11042 seconds.\n"
     ]
    },
    {
     "name": "stdout",
     "output_type": "stream",
     "text": [
      "\n",
      "STORY IS OK: False   ric_now: VNAn.DE   ric_i: 12   story_i: 22\n",
      "'NoneType' object has no attribute 'replace'\n"
     ]
    },
    {
     "name": "stderr",
     "output_type": "stream",
     "text": [
      "2021-01-05 20:56:03,426 P[10424] [MainThread 17620] Error code 429 | Client Error: Too many requests, please try again later. Wait for 11037 seconds.\n",
      "2021-01-05 20:56:03,428 P[10424] [MainThread 17620] HTTP request failed: EikonError-Client Error: Too many requests, please try again later. Wait for 11037 seconds.\n"
     ]
    },
    {
     "name": "stdout",
     "output_type": "stream",
     "text": [
      "\n",
      "STORY IS OK: False   ric_now: VNAn.DE   ric_i: 12   story_i: 23\n",
      "'NoneType' object has no attribute 'replace'\n"
     ]
    },
    {
     "name": "stderr",
     "output_type": "stream",
     "text": [
      "2021-01-05 20:56:08,481 P[10424] [MainThread 17620] Error code 429 | Client Error: Too many requests, please try again later. Wait for 11032 seconds.\n",
      "2021-01-05 20:56:08,483 P[10424] [MainThread 17620] HTTP request failed: EikonError-Client Error: Too many requests, please try again later. Wait for 11032 seconds.\n"
     ]
    },
    {
     "name": "stdout",
     "output_type": "stream",
     "text": [
      "\n",
      "STORY IS OK: False   ric_now: VNAn.DE   ric_i: 12   story_i: 24\n",
      "'NoneType' object has no attribute 'replace'\n"
     ]
    },
    {
     "name": "stderr",
     "output_type": "stream",
     "text": [
      "2021-01-05 20:56:13,529 P[10424] [MainThread 17620] Error code 429 | Client Error: Too many requests, please try again later. Wait for 11027 seconds.\n",
      "2021-01-05 20:56:13,531 P[10424] [MainThread 17620] HTTP request failed: EikonError-Client Error: Too many requests, please try again later. Wait for 11027 seconds.\n"
     ]
    },
    {
     "name": "stdout",
     "output_type": "stream",
     "text": [
      "\n",
      "STORY IS OK: False   ric_now: VNAn.DE   ric_i: 12   story_i: 25\n",
      "'NoneType' object has no attribute 'replace'\n"
     ]
    },
    {
     "name": "stderr",
     "output_type": "stream",
     "text": [
      "2021-01-05 20:56:18,592 P[10424] [MainThread 17620] Error code 429 | Client Error: Too many requests, please try again later. Wait for 11022 seconds.\n",
      "2021-01-05 20:56:18,593 P[10424] [MainThread 17620] HTTP request failed: EikonError-Client Error: Too many requests, please try again later. Wait for 11022 seconds.\n"
     ]
    },
    {
     "name": "stdout",
     "output_type": "stream",
     "text": [
      "\n",
      "STORY IS OK: False   ric_now: VNAn.DE   ric_i: 12   story_i: 26\n",
      "'NoneType' object has no attribute 'replace'\n"
     ]
    },
    {
     "name": "stderr",
     "output_type": "stream",
     "text": [
      "2021-01-05 20:56:23,642 P[10424] [MainThread 17620] Error code 429 | Client Error: Too many requests, please try again later. Wait for 11017 seconds.\n",
      "2021-01-05 20:56:23,644 P[10424] [MainThread 17620] HTTP request failed: EikonError-Client Error: Too many requests, please try again later. Wait for 11017 seconds.\n"
     ]
    },
    {
     "name": "stdout",
     "output_type": "stream",
     "text": [
      "\n",
      "STORY IS OK: False   ric_now: VNAn.DE   ric_i: 12   story_i: 27\n",
      "'NoneType' object has no attribute 'replace'\n"
     ]
    },
    {
     "name": "stderr",
     "output_type": "stream",
     "text": [
      "2021-01-05 20:56:28,684 P[10424] [MainThread 17620] Error code 429 | Client Error: Too many requests, please try again later. Wait for 11012 seconds.\n",
      "2021-01-05 20:56:28,686 P[10424] [MainThread 17620] HTTP request failed: EikonError-Client Error: Too many requests, please try again later. Wait for 11012 seconds.\n"
     ]
    },
    {
     "name": "stdout",
     "output_type": "stream",
     "text": [
      "\n",
      "STORY IS OK: False   ric_now: VNAn.DE   ric_i: 12   story_i: 28\n",
      "'NoneType' object has no attribute 'replace'\n"
     ]
    },
    {
     "name": "stderr",
     "output_type": "stream",
     "text": [
      "2021-01-05 20:56:33,735 P[10424] [MainThread 17620] Error code 429 | Client Error: Too many requests, please try again later. Wait for 11007 seconds.\n",
      "2021-01-05 20:56:33,736 P[10424] [MainThread 17620] HTTP request failed: EikonError-Client Error: Too many requests, please try again later. Wait for 11007 seconds.\n"
     ]
    },
    {
     "name": "stdout",
     "output_type": "stream",
     "text": [
      "\n",
      "STORY IS OK: False   ric_now: VNAn.DE   ric_i: 12   story_i: 29\n",
      "'NoneType' object has no attribute 'replace'\n"
     ]
    },
    {
     "name": "stderr",
     "output_type": "stream",
     "text": [
      "2021-01-05 20:56:38,792 P[10424] [MainThread 17620] Error code 429 | Client Error: Too many requests, please try again later. Wait for 11002 seconds.\n",
      "2021-01-05 20:56:38,794 P[10424] [MainThread 17620] HTTP request failed: EikonError-Client Error: Too many requests, please try again later. Wait for 11002 seconds.\n"
     ]
    },
    {
     "name": "stdout",
     "output_type": "stream",
     "text": [
      "\n",
      "STORY IS OK: False   ric_now: VNAn.DE   ric_i: 12   story_i: 30\n",
      "'NoneType' object has no attribute 'replace'\n"
     ]
    },
    {
     "name": "stderr",
     "output_type": "stream",
     "text": [
      "2021-01-05 20:56:43,839 P[10424] [MainThread 17620] Error code 429 | Client Error: Too many requests, please try again later. Wait for 10997 seconds.\n",
      "2021-01-05 20:56:43,840 P[10424] [MainThread 17620] HTTP request failed: EikonError-Client Error: Too many requests, please try again later. Wait for 10997 seconds.\n"
     ]
    },
    {
     "name": "stdout",
     "output_type": "stream",
     "text": [
      "\n",
      "STORY IS OK: False   ric_now: VNAn.DE   ric_i: 12   story_i: 31\n",
      "'NoneType' object has no attribute 'replace'\n"
     ]
    },
    {
     "name": "stderr",
     "output_type": "stream",
     "text": [
      "2021-01-05 20:56:48,886 P[10424] [MainThread 17620] Error code 429 | Client Error: Too many requests, please try again later. Wait for 10992 seconds.\n",
      "2021-01-05 20:56:48,887 P[10424] [MainThread 17620] HTTP request failed: EikonError-Client Error: Too many requests, please try again later. Wait for 10992 seconds.\n"
     ]
    },
    {
     "name": "stdout",
     "output_type": "stream",
     "text": [
      "\n",
      "STORY IS OK: False   ric_now: VNAn.DE   ric_i: 12   story_i: 32\n",
      "'NoneType' object has no attribute 'replace'\n"
     ]
    },
    {
     "name": "stderr",
     "output_type": "stream",
     "text": [
      "2021-01-05 20:56:53,931 P[10424] [MainThread 17620] Error code 429 | Client Error: Too many requests, please try again later. Wait for 10987 seconds.\n",
      "2021-01-05 20:56:53,933 P[10424] [MainThread 17620] HTTP request failed: EikonError-Client Error: Too many requests, please try again later. Wait for 10987 seconds.\n"
     ]
    },
    {
     "name": "stdout",
     "output_type": "stream",
     "text": [
      "\n",
      "STORY IS OK: False   ric_now: VNAn.DE   ric_i: 12   story_i: 33\n",
      "'NoneType' object has no attribute 'replace'\n"
     ]
    },
    {
     "name": "stderr",
     "output_type": "stream",
     "text": [
      "2021-01-05 20:56:58,977 P[10424] [MainThread 17620] Error code 429 | Client Error: Too many requests, please try again later. Wait for 10982 seconds.\n",
      "2021-01-05 20:56:58,978 P[10424] [MainThread 17620] HTTP request failed: EikonError-Client Error: Too many requests, please try again later. Wait for 10982 seconds.\n"
     ]
    },
    {
     "name": "stdout",
     "output_type": "stream",
     "text": [
      "\n",
      "STORY IS OK: False   ric_now: VNAn.DE   ric_i: 12   story_i: 34\n",
      "'NoneType' object has no attribute 'replace'\n"
     ]
    },
    {
     "name": "stderr",
     "output_type": "stream",
     "text": [
      "2021-01-05 20:57:04,028 P[10424] [MainThread 17620] Error code 429 | Client Error: Too many requests, please try again later. Wait for 10976 seconds.\n",
      "2021-01-05 20:57:04,030 P[10424] [MainThread 17620] HTTP request failed: EikonError-Client Error: Too many requests, please try again later. Wait for 10976 seconds.\n"
     ]
    },
    {
     "name": "stdout",
     "output_type": "stream",
     "text": [
      "\n",
      "STORY IS OK: False   ric_now: VNAn.DE   ric_i: 12   story_i: 35\n",
      "'NoneType' object has no attribute 'replace'\n"
     ]
    },
    {
     "name": "stderr",
     "output_type": "stream",
     "text": [
      "2021-01-05 20:57:09,091 P[10424] [MainThread 17620] Error code 429 | Client Error: Too many requests, please try again later. Wait for 10971 seconds.\n",
      "2021-01-05 20:57:09,094 P[10424] [MainThread 17620] HTTP request failed: EikonError-Client Error: Too many requests, please try again later. Wait for 10971 seconds.\n"
     ]
    },
    {
     "name": "stdout",
     "output_type": "stream",
     "text": [
      "\n",
      "STORY IS OK: False   ric_now: VNAn.DE   ric_i: 12   story_i: 36\n",
      "'NoneType' object has no attribute 'replace'\n"
     ]
    },
    {
     "name": "stderr",
     "output_type": "stream",
     "text": [
      "2021-01-05 20:57:14,150 P[10424] [MainThread 17620] Error code 429 | Client Error: Too many requests, please try again later. Wait for 10966 seconds.\n",
      "2021-01-05 20:57:14,151 P[10424] [MainThread 17620] HTTP request failed: EikonError-Client Error: Too many requests, please try again later. Wait for 10966 seconds.\n"
     ]
    },
    {
     "name": "stdout",
     "output_type": "stream",
     "text": [
      "\n",
      "STORY IS OK: False   ric_now: VNAn.DE   ric_i: 12   story_i: 37\n",
      "'NoneType' object has no attribute 'replace'\n"
     ]
    },
    {
     "name": "stderr",
     "output_type": "stream",
     "text": [
      "2021-01-05 20:57:19,193 P[10424] [MainThread 17620] Error code 429 | Client Error: Too many requests, please try again later. Wait for 10961 seconds.\n",
      "2021-01-05 20:57:19,195 P[10424] [MainThread 17620] HTTP request failed: EikonError-Client Error: Too many requests, please try again later. Wait for 10961 seconds.\n"
     ]
    },
    {
     "name": "stdout",
     "output_type": "stream",
     "text": [
      "\n",
      "STORY IS OK: False   ric_now: VNAn.DE   ric_i: 12   story_i: 38\n",
      "'NoneType' object has no attribute 'replace'\n"
     ]
    },
    {
     "name": "stderr",
     "output_type": "stream",
     "text": [
      "2021-01-05 20:57:24,239 P[10424] [MainThread 17620] Error code 429 | Client Error: Too many requests, please try again later. Wait for 10956 seconds.\n",
      "2021-01-05 20:57:24,240 P[10424] [MainThread 17620] HTTP request failed: EikonError-Client Error: Too many requests, please try again later. Wait for 10956 seconds.\n"
     ]
    },
    {
     "name": "stdout",
     "output_type": "stream",
     "text": [
      "\n",
      "STORY IS OK: False   ric_now: VNAn.DE   ric_i: 12   story_i: 39\n",
      "'NoneType' object has no attribute 'replace'\n"
     ]
    },
    {
     "name": "stderr",
     "output_type": "stream",
     "text": [
      "2021-01-05 20:57:29,288 P[10424] [MainThread 17620] Error code 429 | Client Error: Too many requests, please try again later. Wait for 10951 seconds.\n",
      "2021-01-05 20:57:29,290 P[10424] [MainThread 17620] HTTP request failed: EikonError-Client Error: Too many requests, please try again later. Wait for 10951 seconds.\n"
     ]
    },
    {
     "name": "stdout",
     "output_type": "stream",
     "text": [
      "\n",
      "STORY IS OK: False   ric_now: VNAn.DE   ric_i: 12   story_i: 40\n",
      "'NoneType' object has no attribute 'replace'\n"
     ]
    },
    {
     "name": "stderr",
     "output_type": "stream",
     "text": [
      "2021-01-05 20:57:34,345 P[10424] [MainThread 17620] Error code 429 | Client Error: Too many requests, please try again later. Wait for 10946 seconds.\n",
      "2021-01-05 20:57:34,346 P[10424] [MainThread 17620] HTTP request failed: EikonError-Client Error: Too many requests, please try again later. Wait for 10946 seconds.\n"
     ]
    },
    {
     "name": "stdout",
     "output_type": "stream",
     "text": [
      "\n",
      "STORY IS OK: False   ric_now: VNAn.DE   ric_i: 12   story_i: 41\n",
      "'NoneType' object has no attribute 'replace'\n"
     ]
    },
    {
     "name": "stderr",
     "output_type": "stream",
     "text": [
      "2021-01-05 20:57:39,395 P[10424] [MainThread 17620] Error code 429 | Client Error: Too many requests, please try again later. Wait for 10941 seconds.\n",
      "2021-01-05 20:57:39,398 P[10424] [MainThread 17620] HTTP request failed: EikonError-Client Error: Too many requests, please try again later. Wait for 10941 seconds.\n"
     ]
    },
    {
     "name": "stdout",
     "output_type": "stream",
     "text": [
      "\n",
      "STORY IS OK: False   ric_now: VNAn.DE   ric_i: 12   story_i: 42\n",
      "'NoneType' object has no attribute 'replace'\n"
     ]
    },
    {
     "name": "stderr",
     "output_type": "stream",
     "text": [
      "2021-01-05 20:57:44,444 P[10424] [MainThread 17620] Error code 429 | Client Error: Too many requests, please try again later. Wait for 10936 seconds.\n",
      "2021-01-05 20:57:44,446 P[10424] [MainThread 17620] HTTP request failed: EikonError-Client Error: Too many requests, please try again later. Wait for 10936 seconds.\n"
     ]
    },
    {
     "name": "stdout",
     "output_type": "stream",
     "text": [
      "\n",
      "STORY IS OK: False   ric_now: VNAn.DE   ric_i: 12   story_i: 43\n",
      "'NoneType' object has no attribute 'replace'\n"
     ]
    },
    {
     "name": "stderr",
     "output_type": "stream",
     "text": [
      "2021-01-05 20:57:49,493 P[10424] [MainThread 17620] Error code 429 | Client Error: Too many requests, please try again later. Wait for 10931 seconds.\n",
      "2021-01-05 20:57:49,495 P[10424] [MainThread 17620] HTTP request failed: EikonError-Client Error: Too many requests, please try again later. Wait for 10931 seconds.\n"
     ]
    },
    {
     "name": "stdout",
     "output_type": "stream",
     "text": [
      "\n",
      "STORY IS OK: False   ric_now: VNAn.DE   ric_i: 12   story_i: 44\n",
      "'NoneType' object has no attribute 'replace'\n"
     ]
    },
    {
     "name": "stderr",
     "output_type": "stream",
     "text": [
      "2021-01-05 20:57:54,541 P[10424] [MainThread 17620] Error code 429 | Client Error: Too many requests, please try again later. Wait for 10926 seconds.\n",
      "2021-01-05 20:57:54,542 P[10424] [MainThread 17620] HTTP request failed: EikonError-Client Error: Too many requests, please try again later. Wait for 10926 seconds.\n"
     ]
    },
    {
     "name": "stdout",
     "output_type": "stream",
     "text": [
      "\n",
      "STORY IS OK: False   ric_now: VNAn.DE   ric_i: 12   story_i: 45\n",
      "'NoneType' object has no attribute 'replace'\n"
     ]
    },
    {
     "name": "stderr",
     "output_type": "stream",
     "text": [
      "2021-01-05 20:57:59,586 P[10424] [MainThread 17620] Error code 429 | Client Error: Too many requests, please try again later. Wait for 10921 seconds.\n",
      "2021-01-05 20:57:59,588 P[10424] [MainThread 17620] HTTP request failed: EikonError-Client Error: Too many requests, please try again later. Wait for 10921 seconds.\n"
     ]
    },
    {
     "name": "stdout",
     "output_type": "stream",
     "text": [
      "\n",
      "STORY IS OK: False   ric_now: VNAn.DE   ric_i: 12   story_i: 46\n",
      "'NoneType' object has no attribute 'replace'\n"
     ]
    },
    {
     "name": "stderr",
     "output_type": "stream",
     "text": [
      "2021-01-05 20:58:04,638 P[10424] [MainThread 17620] Error code 429 | Client Error: Too many requests, please try again later. Wait for 10916 seconds.\n",
      "2021-01-05 20:58:04,641 P[10424] [MainThread 17620] HTTP request failed: EikonError-Client Error: Too many requests, please try again later. Wait for 10916 seconds.\n"
     ]
    },
    {
     "name": "stdout",
     "output_type": "stream",
     "text": [
      "\n",
      "STORY IS OK: False   ric_now: VNAn.DE   ric_i: 12   story_i: 47\n",
      "'NoneType' object has no attribute 'replace'\n"
     ]
    },
    {
     "name": "stderr",
     "output_type": "stream",
     "text": [
      "2021-01-05 20:58:09,692 P[10424] [MainThread 17620] Error code 429 | Client Error: Too many requests, please try again later. Wait for 10911 seconds.\n",
      "2021-01-05 20:58:09,693 P[10424] [MainThread 17620] HTTP request failed: EikonError-Client Error: Too many requests, please try again later. Wait for 10911 seconds.\n"
     ]
    },
    {
     "name": "stdout",
     "output_type": "stream",
     "text": [
      "\n",
      "STORY IS OK: False   ric_now: VNAn.DE   ric_i: 12   story_i: 48\n",
      "'NoneType' object has no attribute 'replace'\n"
     ]
    },
    {
     "name": "stderr",
     "output_type": "stream",
     "text": [
      "2021-01-05 20:58:14,750 P[10424] [MainThread 17620] Error code 429 | Client Error: Too many requests, please try again later. Wait for 10906 seconds.\n",
      "2021-01-05 20:58:14,753 P[10424] [MainThread 17620] HTTP request failed: EikonError-Client Error: Too many requests, please try again later. Wait for 10906 seconds.\n"
     ]
    },
    {
     "name": "stdout",
     "output_type": "stream",
     "text": [
      "\n",
      "STORY IS OK: False   ric_now: VNAn.DE   ric_i: 12   story_i: 49\n",
      "'NoneType' object has no attribute 'replace'\n"
     ]
    },
    {
     "name": "stderr",
     "output_type": "stream",
     "text": [
      "2021-01-05 20:58:19,795 P[10424] [MainThread 17620] Error code 429 | Client Error: Too many requests, please try again later. Wait for 10901 seconds.\n",
      "2021-01-05 20:58:19,797 P[10424] [MainThread 17620] HTTP request failed: EikonError-Client Error: Too many requests, please try again later. Wait for 10901 seconds.\n"
     ]
    },
    {
     "name": "stdout",
     "output_type": "stream",
     "text": [
      "\n",
      "STORY IS OK: False   ric_now: VNAn.DE   ric_i: 12   story_i: 50\n",
      "'NoneType' object has no attribute 'replace'\n"
     ]
    },
    {
     "name": "stderr",
     "output_type": "stream",
     "text": [
      "2021-01-05 20:58:24,841 P[10424] [MainThread 17620] Error code 429 | Client Error: Too many requests, please try again later. Wait for 10896 seconds.\n",
      "2021-01-05 20:58:24,843 P[10424] [MainThread 17620] HTTP request failed: EikonError-Client Error: Too many requests, please try again later. Wait for 10896 seconds.\n"
     ]
    },
    {
     "name": "stdout",
     "output_type": "stream",
     "text": [
      "\n",
      "STORY IS OK: False   ric_now: VNAn.DE   ric_i: 12   story_i: 51\n",
      "'NoneType' object has no attribute 'replace'\n"
     ]
    },
    {
     "name": "stderr",
     "output_type": "stream",
     "text": [
      "2021-01-05 20:58:29,888 P[10424] [MainThread 17620] Error code 429 | Client Error: Too many requests, please try again later. Wait for 10891 seconds.\n",
      "2021-01-05 20:58:29,890 P[10424] [MainThread 17620] HTTP request failed: EikonError-Client Error: Too many requests, please try again later. Wait for 10891 seconds.\n"
     ]
    },
    {
     "name": "stdout",
     "output_type": "stream",
     "text": [
      "\n",
      "STORY IS OK: False   ric_now: VNAn.DE   ric_i: 12   story_i: 52\n",
      "'NoneType' object has no attribute 'replace'\n"
     ]
    },
    {
     "name": "stderr",
     "output_type": "stream",
     "text": [
      "2021-01-05 20:58:34,931 P[10424] [MainThread 17620] Error code 429 | Client Error: Too many requests, please try again later. Wait for 10886 seconds.\n",
      "2021-01-05 20:58:34,932 P[10424] [MainThread 17620] HTTP request failed: EikonError-Client Error: Too many requests, please try again later. Wait for 10886 seconds.\n"
     ]
    },
    {
     "name": "stdout",
     "output_type": "stream",
     "text": [
      "\n",
      "STORY IS OK: False   ric_now: VNAn.DE   ric_i: 12   story_i: 53\n",
      "'NoneType' object has no attribute 'replace'\n"
     ]
    },
    {
     "name": "stderr",
     "output_type": "stream",
     "text": [
      "2021-01-05 20:58:39,989 P[10424] [MainThread 17620] Error code 429 | Client Error: Too many requests, please try again later. Wait for 10881 seconds.\n",
      "2021-01-05 20:58:39,991 P[10424] [MainThread 17620] HTTP request failed: EikonError-Client Error: Too many requests, please try again later. Wait for 10881 seconds.\n"
     ]
    },
    {
     "name": "stdout",
     "output_type": "stream",
     "text": [
      "\n",
      "STORY IS OK: False   ric_now: VNAn.DE   ric_i: 12   story_i: 54\n",
      "'NoneType' object has no attribute 'replace'\n"
     ]
    },
    {
     "name": "stderr",
     "output_type": "stream",
     "text": [
      "2021-01-05 20:58:45,052 P[10424] [MainThread 17620] Error code 429 | Client Error: Too many requests, please try again later. Wait for 10875 seconds.\n",
      "2021-01-05 20:58:45,055 P[10424] [MainThread 17620] HTTP request failed: EikonError-Client Error: Too many requests, please try again later. Wait for 10875 seconds.\n"
     ]
    },
    {
     "name": "stdout",
     "output_type": "stream",
     "text": [
      "\n",
      "STORY IS OK: False   ric_now: VNAn.DE   ric_i: 12   story_i: 55\n",
      "'NoneType' object has no attribute 'replace'\n"
     ]
    },
    {
     "name": "stderr",
     "output_type": "stream",
     "text": [
      "2021-01-05 20:58:50,105 P[10424] [MainThread 17620] Error code 429 | Client Error: Too many requests, please try again later. Wait for 10870 seconds.\n",
      "2021-01-05 20:58:50,107 P[10424] [MainThread 17620] HTTP request failed: EikonError-Client Error: Too many requests, please try again later. Wait for 10870 seconds.\n"
     ]
    },
    {
     "name": "stdout",
     "output_type": "stream",
     "text": [
      "\n",
      "STORY IS OK: False   ric_now: VNAn.DE   ric_i: 12   story_i: 56\n",
      "'NoneType' object has no attribute 'replace'\n"
     ]
    },
    {
     "name": "stderr",
     "output_type": "stream",
     "text": [
      "2021-01-05 20:58:55,147 P[10424] [MainThread 17620] Error code 429 | Client Error: Too many requests, please try again later. Wait for 10865 seconds.\n",
      "2021-01-05 20:58:55,147 P[10424] [MainThread 17620] HTTP request failed: EikonError-Client Error: Too many requests, please try again later. Wait for 10865 seconds.\n"
     ]
    },
    {
     "name": "stdout",
     "output_type": "stream",
     "text": [
      "\n",
      "STORY IS OK: False   ric_now: VNAn.DE   ric_i: 12   story_i: 57\n",
      "'NoneType' object has no attribute 'replace'\n"
     ]
    },
    {
     "name": "stderr",
     "output_type": "stream",
     "text": [
      "2021-01-05 20:59:00,190 P[10424] [MainThread 17620] Error code 429 | Client Error: Too many requests, please try again later. Wait for 10860 seconds.\n",
      "2021-01-05 20:59:00,192 P[10424] [MainThread 17620] HTTP request failed: EikonError-Client Error: Too many requests, please try again later. Wait for 10860 seconds.\n"
     ]
    },
    {
     "name": "stdout",
     "output_type": "stream",
     "text": [
      "\n",
      "STORY IS OK: False   ric_now: VNAn.DE   ric_i: 12   story_i: 58\n",
      "'NoneType' object has no attribute 'replace'\n"
     ]
    },
    {
     "name": "stderr",
     "output_type": "stream",
     "text": [
      "2021-01-05 20:59:05,229 P[10424] [MainThread 17620] Error code 429 | Client Error: Too many requests, please try again later. Wait for 10855 seconds.\n",
      "2021-01-05 20:59:05,231 P[10424] [MainThread 17620] HTTP request failed: EikonError-Client Error: Too many requests, please try again later. Wait for 10855 seconds.\n"
     ]
    },
    {
     "name": "stdout",
     "output_type": "stream",
     "text": [
      "\n",
      "STORY IS OK: False   ric_now: VNAn.DE   ric_i: 12   story_i: 59\n",
      "'NoneType' object has no attribute 'replace'\n"
     ]
    },
    {
     "name": "stderr",
     "output_type": "stream",
     "text": [
      "2021-01-05 20:59:10,278 P[10424] [MainThread 17620] Error code 429 | Client Error: Too many requests, please try again later. Wait for 10850 seconds.\n",
      "2021-01-05 20:59:10,279 P[10424] [MainThread 17620] HTTP request failed: EikonError-Client Error: Too many requests, please try again later. Wait for 10850 seconds.\n"
     ]
    },
    {
     "name": "stdout",
     "output_type": "stream",
     "text": [
      "\n",
      "STORY IS OK: False   ric_now: VNAn.DE   ric_i: 12   story_i: 60\n",
      "'NoneType' object has no attribute 'replace'\n"
     ]
    },
    {
     "name": "stderr",
     "output_type": "stream",
     "text": [
      "2021-01-05 20:59:15,319 P[10424] [MainThread 17620] Error code 429 | Client Error: Too many requests, please try again later. Wait for 10845 seconds.\n",
      "2021-01-05 20:59:15,320 P[10424] [MainThread 17620] HTTP request failed: EikonError-Client Error: Too many requests, please try again later. Wait for 10845 seconds.\n"
     ]
    },
    {
     "name": "stdout",
     "output_type": "stream",
     "text": [
      "\n",
      "STORY IS OK: False   ric_now: VNAn.DE   ric_i: 12   story_i: 61\n",
      "'NoneType' object has no attribute 'replace'\n"
     ]
    },
    {
     "name": "stderr",
     "output_type": "stream",
     "text": [
      "2021-01-05 20:59:20,355 P[10424] [MainThread 17620] Error code 429 | Client Error: Too many requests, please try again later. Wait for 10840 seconds.\n",
      "2021-01-05 20:59:20,356 P[10424] [MainThread 17620] HTTP request failed: EikonError-Client Error: Too many requests, please try again later. Wait for 10840 seconds.\n"
     ]
    },
    {
     "name": "stdout",
     "output_type": "stream",
     "text": [
      "\n",
      "STORY IS OK: False   ric_now: VNAn.DE   ric_i: 12   story_i: 62\n",
      "'NoneType' object has no attribute 'replace'\n"
     ]
    },
    {
     "name": "stderr",
     "output_type": "stream",
     "text": [
      "2021-01-05 20:59:25,380 P[10424] [MainThread 17620] Error code 429 | Client Error: Too many requests, please try again later. Wait for 10835 seconds.\n",
      "2021-01-05 20:59:25,381 P[10424] [MainThread 17620] HTTP request failed: EikonError-Client Error: Too many requests, please try again later. Wait for 10835 seconds.\n"
     ]
    },
    {
     "name": "stdout",
     "output_type": "stream",
     "text": [
      "\n",
      "STORY IS OK: False   ric_now: VNAn.DE   ric_i: 12   story_i: 63\n",
      "'NoneType' object has no attribute 'replace'\n"
     ]
    },
    {
     "name": "stderr",
     "output_type": "stream",
     "text": [
      "2021-01-05 20:59:30,407 P[10424] [MainThread 17620] Error code 429 | Client Error: Too many requests, please try again later. Wait for 10830 seconds.\n",
      "2021-01-05 20:59:30,407 P[10424] [MainThread 17620] HTTP request failed: EikonError-Client Error: Too many requests, please try again later. Wait for 10830 seconds.\n"
     ]
    },
    {
     "name": "stdout",
     "output_type": "stream",
     "text": [
      "\n",
      "STORY IS OK: False   ric_now: VNAn.DE   ric_i: 12   story_i: 64\n",
      "'NoneType' object has no attribute 'replace'\n"
     ]
    },
    {
     "name": "stderr",
     "output_type": "stream",
     "text": [
      "2021-01-05 20:59:35,449 P[10424] [MainThread 17620] Error code 429 | Client Error: Too many requests, please try again later. Wait for 10825 seconds.\n",
      "2021-01-05 20:59:35,450 P[10424] [MainThread 17620] HTTP request failed: EikonError-Client Error: Too many requests, please try again later. Wait for 10825 seconds.\n"
     ]
    },
    {
     "name": "stdout",
     "output_type": "stream",
     "text": [
      "\n",
      "STORY IS OK: False   ric_now: VNAn.DE   ric_i: 12   story_i: 65\n",
      "'NoneType' object has no attribute 'replace'\n"
     ]
    },
    {
     "ename": "KeyboardInterrupt",
     "evalue": "",
     "output_type": "error",
     "traceback": [
      "\u001b[1;31m---------------------------------------------------------------------------\u001b[0m",
      "\u001b[1;31mAttributeError\u001b[0m                            Traceback (most recent call last)",
      "\u001b[1;32m<ipython-input-112-bd3383334441>\u001b[0m in \u001b[0;36madding_news_stories_to_df_with_headlines\u001b[1;34m(news_get_df, quasi_logger, ric_i, ric_now, headlines_slice_i, headlines_number, up_to_date_ric, col_name_with_story_id)\u001b[0m\n\u001b[0;32m     21\u001b[0m             \u001b[1;31m# Удалим из истории все тильды на всякий случай, будет sep='~'\u001b[0m\u001b[1;33m\u001b[0m\u001b[1;33m\u001b[0m\u001b[1;33m\u001b[0m\u001b[0m\n\u001b[1;32m---> 22\u001b[1;33m             \u001b[0mstory_now\u001b[0m \u001b[1;33m=\u001b[0m \u001b[0mstory_now\u001b[0m\u001b[1;33m.\u001b[0m\u001b[0mreplace\u001b[0m\u001b[1;33m(\u001b[0m\u001b[1;34m\"~\"\u001b[0m\u001b[1;33m,\u001b[0m \u001b[1;34m\"!tilda!\"\u001b[0m\u001b[1;33m)\u001b[0m\u001b[1;33m\u001b[0m\u001b[1;33m\u001b[0m\u001b[0m\n\u001b[0m\u001b[0;32m     23\u001b[0m             \u001b[1;31m# Внесём выкаченную историю в df\u001b[0m\u001b[1;33m\u001b[0m\u001b[1;33m\u001b[0m\u001b[1;33m\u001b[0m\u001b[0m\n",
      "\u001b[1;31mAttributeError\u001b[0m: 'NoneType' object has no attribute 'replace'",
      "\nDuring handling of the above exception, another exception occurred:\n",
      "\u001b[1;31mKeyboardInterrupt\u001b[0m                         Traceback (most recent call last)",
      "\u001b[1;32m<ipython-input-114-d71cf73ee93b>\u001b[0m in \u001b[0;36m<module>\u001b[1;34m\u001b[0m\n\u001b[0;32m     58\u001b[0m             \u001b[0mheadlines_number\u001b[0m\u001b[1;33m,\u001b[0m\u001b[1;33m\u001b[0m\u001b[1;33m\u001b[0m\u001b[0m\n\u001b[0;32m     59\u001b[0m             \u001b[0mup_to_date_ric\u001b[0m\u001b[1;33m,\u001b[0m\u001b[1;33m\u001b[0m\u001b[1;33m\u001b[0m\u001b[0m\n\u001b[1;32m---> 60\u001b[1;33m             col_name_with_story_id = 'storyId')\n\u001b[0m\u001b[0;32m     61\u001b[0m \u001b[1;33m\u001b[0m\u001b[0m\n\u001b[0;32m     62\u001b[0m         \u001b[1;31m# If in that moment news_get_df has less than 100 news,\u001b[0m\u001b[1;33m\u001b[0m\u001b[1;33m\u001b[0m\u001b[1;33m\u001b[0m\u001b[0m\n",
      "\u001b[1;32m<ipython-input-112-bd3383334441>\u001b[0m in \u001b[0;36madding_news_stories_to_df_with_headlines\u001b[1;34m(news_get_df, quasi_logger, ric_i, ric_now, headlines_slice_i, headlines_number, up_to_date_ric, col_name_with_story_id)\u001b[0m\n\u001b[0;32m     40\u001b[0m                 )\n\u001b[0;32m     41\u001b[0m             \u001b[0mprint\u001b[0m\u001b[1;33m(\u001b[0m\u001b[0me\u001b[0m\u001b[1;33m)\u001b[0m\u001b[1;33m\u001b[0m\u001b[1;33m\u001b[0m\u001b[0m\n\u001b[1;32m---> 42\u001b[1;33m             \u001b[0mtime\u001b[0m\u001b[1;33m.\u001b[0m\u001b[0msleep\u001b[0m\u001b[1;33m(\u001b[0m\u001b[1;36m5\u001b[0m\u001b[1;33m)\u001b[0m\u001b[1;33m\u001b[0m\u001b[1;33m\u001b[0m\u001b[0m\n\u001b[0m\u001b[0;32m     43\u001b[0m \u001b[1;33m\u001b[0m\u001b[0m\n\u001b[0;32m     44\u001b[0m         \u001b[1;32mfinally\u001b[0m\u001b[1;33m:\u001b[0m\u001b[1;33m\u001b[0m\u001b[1;33m\u001b[0m\u001b[0m\n",
      "\u001b[1;31mKeyboardInterrupt\u001b[0m: "
     ]
    }
   ],
   "source": [
    "# Зададим, по какому df мы будет итерировать ric компании (её код на бирже).\n",
    "rics_to_loop_df = rics_dax\n",
    "rics_to_loop_df = rics_to_loop_df.reset_index(drop=True) # чтобы юзать .loc()\n",
    "\n",
    "# Зададим переменную, котролирующую количество выгружаемых за раз заголовков\n",
    "headlines_count_to_request = 100\n",
    "\n",
    "# Необходимо задать переменную до цикла как 100, далее она будет изменяться\n",
    "headlines_number = 100\n",
    "\n",
    "# Первый цикл будет итерировать компании.\n",
    "for ric_i in range(0, len(rics_to_loop_df)): # range(0, len(rics_to_loop_df))\n",
    "    \n",
    "    # Зададим переменную, которая скажет, какой сейчас итерируется ric.\n",
    "    ric_now = rics_to_loop_df.loc[ric_i, \"ric\"]\n",
    "    print(ric_i, ric_now)\n",
    "    \n",
    "    # Цикл, который прогоняет запросы заголовков.\n",
    "    # Зададим для него параметр. Прибавим +1, если исчерпали новости.\n",
    "    last_headlines_request = False\n",
    "    # Будем вести счёт итерацию цикла While для выгрузки заголовков\n",
    "    headlines_slice_i = 0\n",
    "    # Для выкачивания заголовков нужно задать дату, до которой делаем запрос.\n",
    "    # Если такого ric нет в all_headlines_df со всеми новостями,\n",
    "    # то не будет задавать дату, до которой выкачивать заголовки.\n",
    "    # Если такой ric есть в all_headlines_df со всеми новостями,\n",
    "    # то возьмём минимальную дату из all_headlines_df со всеми новостями\n",
    "    while not last_headlines_request:\n",
    "        \n",
    "        # That function returns the param for ek.get_news_headlines method\n",
    "        # That param means the datetime slice of news to be collected\n",
    "        up_to_date_ric = set_value_of_up_to_date_ric(\n",
    "            ric_now=ric_now,\n",
    "            df_with_news_to_check=all_headlines_df,\n",
    "            column_name_with_rics='ric',\n",
    "            column_name_with_dates='versionCreated'\n",
    "        )\n",
    "        \n",
    "        # That function returns df with news headlines after several tries\n",
    "        news_get_df = get_news_headlines_with_some_tries(\n",
    "            max_num_tries=5,\n",
    "            ric_now=ric_now,\n",
    "            headlines_count_to_request=headlines_count_to_request,\n",
    "            up_to_date_ric=up_to_date_ric\n",
    "        )\n",
    "        \n",
    "        # Some df changes before adding full news text to that df\n",
    "        news_get_df = prepare_headlines_df_to_adding_news_story(\n",
    "            ric_now, news_get_df)\n",
    "        \n",
    "        # Adding full text of news (stories) to df with headlines\n",
    "        news_get_df = adding_news_stories_to_df_with_headlines(\n",
    "            news_get_df,\n",
    "            quasi_logger,\n",
    "            ric_i,\n",
    "            ric_now,\n",
    "            headlines_slice_i,\n",
    "            headlines_number,\n",
    "            up_to_date_ric,\n",
    "            col_name_with_story_id = 'storyId')\n",
    "        \n",
    "        # If in that moment news_get_df has less than 100 news,\n",
    "        # than in means we have exhausted news for that ric because of dates.\n",
    "        # And we need to change ric_now that we iterate\n",
    "        headlines_number = news_get_df.shape[0]\n",
    "        if headlines_number < 100:\n",
    "            last_headlines_request = True\n",
    "        \n",
    "        headlines_slice_i = headlines_slice_i + 1\n",
    "        \n",
    "        # At that moment news_get_df has the slice with headlines & full-text.\n",
    "        # Let's add that slice to all_headlines_df that has all news\n",
    "        all_headlines_df = all_headlines_df.append(news_get_df, ignore_index = True)\n",
    "        print()\n",
    "        print(str(datetime.today()), ric_now, \n",
    "              ' ric_i:', ric_i,\n",
    "              ' headline_slice_i:', headlines_slice_i,\n",
    "              ' headline_number:', headlines_number,\n",
    "              ' not null:', news_get_df['story'].notna().sum(),\n",
    "              up_to_date_ric)\n",
    "        \n",
    "        # End of headlines iterations for one selected ric\n",
    "    \n",
    "    # Save the version of all_headlines_df at every ric iteration\n",
    "    save_file_as_new_file_without_replacing(\n",
    "        path_project_folder=path_project_folder,\n",
    "        folder_name_to_save=folder_name_headlines,\n",
    "        file_to_save=all_headlines_df,\n",
    "        file_short_name_add_to_path='all_headlines_df')\n",
    "    \n",
    "    # Save the version of quasi_logger at every ric iteration\n",
    "    save_file_as_new_file_without_replacing(\n",
    "        path_project_folder=path_project_folder,\n",
    "        folder_name_to_save=folder_name_logger,\n",
    "        file_to_save=quasi_logger,\n",
    "        file_short_name_add_to_path='quasi_logger')"
   ]
  },
  {
   "cell_type": "code",
   "execution_count": 118,
   "metadata": {},
   "outputs": [
    {
     "data": {
      "text/html": [
       "<div>\n",
       "<style scoped>\n",
       "    .dataframe tbody tr th:only-of-type {\n",
       "        vertical-align: middle;\n",
       "    }\n",
       "\n",
       "    .dataframe tbody tr th {\n",
       "        vertical-align: top;\n",
       "    }\n",
       "\n",
       "    .dataframe thead th {\n",
       "        text-align: right;\n",
       "    }\n",
       "</style>\n",
       "<table border=\"1\" class=\"dataframe\">\n",
       "  <thead>\n",
       "    <tr style=\"text-align: right;\">\n",
       "      <th></th>\n",
       "      <th>ric</th>\n",
       "      <th>versionCreated</th>\n",
       "      <th>headline</th>\n",
       "      <th>storyId</th>\n",
       "      <th>sourceCode</th>\n",
       "      <th>story</th>\n",
       "    </tr>\n",
       "  </thead>\n",
       "  <tbody>\n",
       "    <tr>\n",
       "      <th>0</th>\n",
       "      <td>DTEGn.DE</td>\n",
       "      <td>2020-12-23 18:25:27.865000+00:00</td>\n",
       "      <td>IGN Igen Networks joins T-Mobile partner program</td>\n",
       "      <td>urn:newsml:reuters.com:20201223:nNRAdspppv:1</td>\n",
       "      <td>NS:CNSWCH</td>\n",
       "      <td>&lt;div class=\"storyContent\" lang=\"en\"&gt;&lt;style typ...</td>\n",
       "    </tr>\n",
       "    <tr>\n",
       "      <th>1</th>\n",
       "      <td>DTEGn.DE</td>\n",
       "      <td>2020-12-22 08:35:59.285000+00:00</td>\n",
       "      <td>(EN) Makedonski Telekom AD - Skopje Board Chan...</td>\n",
       "      <td>urn:newsml:reuters.com:20201222:nGLF4Kt1L3:2</td>\n",
       "      <td>NS:GLFILE</td>\n",
       "      <td>&lt;div class=\"storyContent\" lang=\"en\"&gt;&lt;p&gt;&lt;a href...</td>\n",
       "    </tr>\n",
       "    <tr>\n",
       "      <th>2</th>\n",
       "      <td>DTEGn.DE</td>\n",
       "      <td>2020-12-22 08:35:53.014000+00:00</td>\n",
       "      <td>(EN) Makedonski Telekom AD - Skopje Board Chan...</td>\n",
       "      <td>urn:newsml:reuters.com:20201222:nGLF2DBhZz:2</td>\n",
       "      <td>NS:GLFILE</td>\n",
       "      <td>&lt;div class=\"storyContent\" lang=\"en\"&gt;&lt;p&gt;&lt;a href...</td>\n",
       "    </tr>\n",
       "    <tr>\n",
       "      <th>3</th>\n",
       "      <td>DTEGn.DE</td>\n",
       "      <td>2020-12-21 13:08:03.993000+00:00</td>\n",
       "      <td>WFB (Bus), Anyone? T-Mobile Turns Red Rose Tra...</td>\n",
       "      <td>urn:newsml:reuters.com:20201221:nBw3VPZ4Qa:1</td>\n",
       "      <td>NS:BSW</td>\n",
       "      <td>&lt;div class=\"storyContent\" lang=\"en\"&gt;&lt;style typ...</td>\n",
       "    </tr>\n",
       "    <tr>\n",
       "      <th>4</th>\n",
       "      <td>DTEGn.DE</td>\n",
       "      <td>2020-12-19 09:00:00+00:00</td>\n",
       "      <td>HINTERGRUND-Internet überall dank Satellit und...</td>\n",
       "      <td>urn:newsml:reuters.com:20201219:nL8N2IY3D9:1</td>\n",
       "      <td>NS:RTRS</td>\n",
       "      <td>&lt;div class=\"storyContent\" lang=\"de\"&gt;&lt;style typ...</td>\n",
       "    </tr>\n",
       "    <tr>\n",
       "      <th>...</th>\n",
       "      <td>...</td>\n",
       "      <td>...</td>\n",
       "      <td>...</td>\n",
       "      <td>...</td>\n",
       "      <td>...</td>\n",
       "      <td>...</td>\n",
       "    </tr>\n",
       "    <tr>\n",
       "      <th>57780</th>\n",
       "      <td>VNAn.DE</td>\n",
       "      <td>2020-06-30 04:54:38+00:00</td>\n",
       "      <td>German stocks - Factors to watch on June 30</td>\n",
       "      <td>urn:newsml:reuters.com:20200630:nL8N2E63SV:2</td>\n",
       "      <td>NS:RTRS</td>\n",
       "      <td>&lt;div class=\"storyContent\" lang=\"en\"&gt;&lt;style typ...</td>\n",
       "    </tr>\n",
       "    <tr>\n",
       "      <th>57781</th>\n",
       "      <td>VNAn.DE</td>\n",
       "      <td>2020-06-29 18:01:54.100000+00:00</td>\n",
       "      <td>Vonovia Acquires 2.6% Stake in Vesteda Residen...</td>\n",
       "      <td>urn:newsml:reuters.com:20200629:nNRAc72sfe:1</td>\n",
       "      <td>NS:DATMTR</td>\n",
       "      <td>&lt;div class=\"storyContent\" lang=\"en\"&gt;&lt;style typ...</td>\n",
       "    </tr>\n",
       "    <tr>\n",
       "      <th>57782</th>\n",
       "      <td>VNAn.DE</td>\n",
       "      <td>2020-06-29 08:27:12+00:00</td>\n",
       "      <td>MORNING BID-Locking down?</td>\n",
       "      <td>urn:newsml:reuters.com:20200629:nL8N2E61J4:2</td>\n",
       "      <td>NS:RTRS</td>\n",
       "      <td>&lt;div class=\"storyContent\" lang=\"en\"&gt;&lt;style typ...</td>\n",
       "    </tr>\n",
       "    <tr>\n",
       "      <th>57783</th>\n",
       "      <td>VNAn.DE</td>\n",
       "      <td>2020-06-27 09:03:25.335000+00:00</td>\n",
       "      <td>Vonovia kauft in Niederlanden zu</td>\n",
       "      <td>urn:newsml:reuters.com:20200627:nNRAc6jgqg:1</td>\n",
       "      <td>NS:DERSPI</td>\n",
       "      <td>&lt;div class=\"storyContent\" lang=\"de\"&gt;&lt;style typ...</td>\n",
       "    </tr>\n",
       "    <tr>\n",
       "      <th>57784</th>\n",
       "      <td>VNAn.DE</td>\n",
       "      <td>2020-06-26 15:29:03.376000+00:00</td>\n",
       "      <td>Germany's Vonovia enters Dutch residential rea...</td>\n",
       "      <td>urn:newsml:reuters.com:20200626:nNRAc6bpqc:1</td>\n",
       "      <td>NS:XINHUN</td>\n",
       "      <td>&lt;div class=\"storyContent\" lang=\"en\"&gt;&lt;style typ...</td>\n",
       "    </tr>\n",
       "  </tbody>\n",
       "</table>\n",
       "<p>57785 rows × 6 columns</p>\n",
       "</div>"
      ],
      "text/plain": [
       "            ric                   versionCreated  \\\n",
       "0      DTEGn.DE 2020-12-23 18:25:27.865000+00:00   \n",
       "1      DTEGn.DE 2020-12-22 08:35:59.285000+00:00   \n",
       "2      DTEGn.DE 2020-12-22 08:35:53.014000+00:00   \n",
       "3      DTEGn.DE 2020-12-21 13:08:03.993000+00:00   \n",
       "4      DTEGn.DE        2020-12-19 09:00:00+00:00   \n",
       "...         ...                              ...   \n",
       "57780   VNAn.DE        2020-06-30 04:54:38+00:00   \n",
       "57781   VNAn.DE 2020-06-29 18:01:54.100000+00:00   \n",
       "57782   VNAn.DE        2020-06-29 08:27:12+00:00   \n",
       "57783   VNAn.DE 2020-06-27 09:03:25.335000+00:00   \n",
       "57784   VNAn.DE 2020-06-26 15:29:03.376000+00:00   \n",
       "\n",
       "                                                headline  \\\n",
       "0       IGN Igen Networks joins T-Mobile partner program   \n",
       "1      (EN) Makedonski Telekom AD - Skopje Board Chan...   \n",
       "2      (EN) Makedonski Telekom AD - Skopje Board Chan...   \n",
       "3      WFB (Bus), Anyone? T-Mobile Turns Red Rose Tra...   \n",
       "4      HINTERGRUND-Internet überall dank Satellit und...   \n",
       "...                                                  ...   \n",
       "57780        German stocks - Factors to watch on June 30   \n",
       "57781  Vonovia Acquires 2.6% Stake in Vesteda Residen...   \n",
       "57782                          MORNING BID-Locking down?   \n",
       "57783                   Vonovia kauft in Niederlanden zu   \n",
       "57784  Germany's Vonovia enters Dutch residential rea...   \n",
       "\n",
       "                                            storyId sourceCode  \\\n",
       "0      urn:newsml:reuters.com:20201223:nNRAdspppv:1  NS:CNSWCH   \n",
       "1      urn:newsml:reuters.com:20201222:nGLF4Kt1L3:2  NS:GLFILE   \n",
       "2      urn:newsml:reuters.com:20201222:nGLF2DBhZz:2  NS:GLFILE   \n",
       "3      urn:newsml:reuters.com:20201221:nBw3VPZ4Qa:1     NS:BSW   \n",
       "4      urn:newsml:reuters.com:20201219:nL8N2IY3D9:1    NS:RTRS   \n",
       "...                                             ...        ...   \n",
       "57780  urn:newsml:reuters.com:20200630:nL8N2E63SV:2    NS:RTRS   \n",
       "57781  urn:newsml:reuters.com:20200629:nNRAc72sfe:1  NS:DATMTR   \n",
       "57782  urn:newsml:reuters.com:20200629:nL8N2E61J4:2    NS:RTRS   \n",
       "57783  urn:newsml:reuters.com:20200627:nNRAc6jgqg:1  NS:DERSPI   \n",
       "57784  urn:newsml:reuters.com:20200626:nNRAc6bpqc:1  NS:XINHUN   \n",
       "\n",
       "                                                   story  \n",
       "0      <div class=\"storyContent\" lang=\"en\"><style typ...  \n",
       "1      <div class=\"storyContent\" lang=\"en\"><p><a href...  \n",
       "2      <div class=\"storyContent\" lang=\"en\"><p><a href...  \n",
       "3      <div class=\"storyContent\" lang=\"en\"><style typ...  \n",
       "4      <div class=\"storyContent\" lang=\"de\"><style typ...  \n",
       "...                                                  ...  \n",
       "57780  <div class=\"storyContent\" lang=\"en\"><style typ...  \n",
       "57781  <div class=\"storyContent\" lang=\"en\"><style typ...  \n",
       "57782  <div class=\"storyContent\" lang=\"en\"><style typ...  \n",
       "57783  <div class=\"storyContent\" lang=\"de\"><style typ...  \n",
       "57784  <div class=\"storyContent\" lang=\"en\"><style typ...  \n",
       "\n",
       "[57785 rows x 6 columns]"
      ]
     },
     "execution_count": 118,
     "metadata": {},
     "output_type": "execute_result"
    }
   ],
   "source": [
    "all_headlines_df"
   ]
  },
  {
   "cell_type": "code",
   "execution_count": 119,
   "metadata": {},
   "outputs": [
    {
     "data": {
      "text/plain": [
       "<AxesSubplot:>"
      ]
     },
     "execution_count": 119,
     "metadata": {},
     "output_type": "execute_result"
    },
    {
     "data": {
      "image/png": "[encoded data removed]",
      "text/plain": [
       "<Figure size 640x280 with 1 Axes>"
      ]
     },
     "metadata": {},
     "output_type": "display_data"
    }
   ],
   "source": [
    "all_headlines_df['versionCreated'].plot()"
   ]
  },
  {
   "cell_type": "code",
   "execution_count": 39,
   "metadata": {},
   "outputs": [
    {
     "data": {
      "text/html": [
       "<div>\n",
       "<style scoped>\n",
       "    .dataframe tbody tr th:only-of-type {\n",
       "        vertical-align: middle;\n",
       "    }\n",
       "\n",
       "    .dataframe tbody tr th {\n",
       "        vertical-align: top;\n",
       "    }\n",
       "\n",
       "    .dataframe thead th {\n",
       "        text-align: right;\n",
       "    }\n",
       "</style>\n",
       "<table border=\"1\" class=\"dataframe\">\n",
       "  <thead>\n",
       "    <tr style=\"text-align: right;\">\n",
       "      <th></th>\n",
       "      <th>ric_i</th>\n",
       "      <th>ric_now</th>\n",
       "      <th>headlines_slice_i</th>\n",
       "      <th>headlines_number</th>\n",
       "      <th>up_to_date_ric</th>\n",
       "      <th>story_i</th>\n",
       "      <th>story_id_now</th>\n",
       "      <th>story_is_success</th>\n",
       "      <th>date_time</th>\n",
       "    </tr>\n",
       "  </thead>\n",
       "  <tbody>\n",
       "    <tr>\n",
       "      <th>0</th>\n",
       "      <td>0</td>\n",
       "      <td>DTEGn.DE</td>\n",
       "      <td>0</td>\n",
       "      <td>100</td>\n",
       "      <td>2020-12-24T03:51:28</td>\n",
       "      <td>0</td>\n",
       "      <td>urn:newsml:reuters.com:20201223:nNRAdspppv:1</td>\n",
       "      <td>True</td>\n",
       "      <td>2020-12-24 03:51:31.939240</td>\n",
       "    </tr>\n",
       "    <tr>\n",
       "      <th>1</th>\n",
       "      <td>0</td>\n",
       "      <td>DTEGn.DE</td>\n",
       "      <td>0</td>\n",
       "      <td>100</td>\n",
       "      <td>2020-12-24T03:51:28</td>\n",
       "      <td>1</td>\n",
       "      <td>urn:newsml:reuters.com:20201222:nGLF4Kt1L3:2</td>\n",
       "      <td>True</td>\n",
       "      <td>2020-12-24 03:51:33.740708</td>\n",
       "    </tr>\n",
       "    <tr>\n",
       "      <th>2</th>\n",
       "      <td>0</td>\n",
       "      <td>DTEGn.DE</td>\n",
       "      <td>0</td>\n",
       "      <td>100</td>\n",
       "      <td>2020-12-24T03:51:28</td>\n",
       "      <td>2</td>\n",
       "      <td>urn:newsml:reuters.com:20201222:nGLF2DBhZz:2</td>\n",
       "      <td>True</td>\n",
       "      <td>2020-12-24 03:51:37.079818</td>\n",
       "    </tr>\n",
       "    <tr>\n",
       "      <th>3</th>\n",
       "      <td>0</td>\n",
       "      <td>DTEGn.DE</td>\n",
       "      <td>0</td>\n",
       "      <td>100</td>\n",
       "      <td>2020-12-24T03:51:28</td>\n",
       "      <td>3</td>\n",
       "      <td>urn:newsml:reuters.com:20201221:nBw3VPZ4Qa:1</td>\n",
       "      <td>True</td>\n",
       "      <td>2020-12-24 03:51:37.803316</td>\n",
       "    </tr>\n",
       "    <tr>\n",
       "      <th>4</th>\n",
       "      <td>0</td>\n",
       "      <td>DTEGn.DE</td>\n",
       "      <td>0</td>\n",
       "      <td>100</td>\n",
       "      <td>2020-12-24T03:51:28</td>\n",
       "      <td>4</td>\n",
       "      <td>urn:newsml:reuters.com:20201219:nL8N2IY3D9:1</td>\n",
       "      <td>True</td>\n",
       "      <td>2020-12-24 03:51:38.957981</td>\n",
       "    </tr>\n",
       "    <tr>\n",
       "      <th>...</th>\n",
       "      <td>...</td>\n",
       "      <td>...</td>\n",
       "      <td>...</td>\n",
       "      <td>...</td>\n",
       "      <td>...</td>\n",
       "      <td>...</td>\n",
       "      <td>...</td>\n",
       "      <td>...</td>\n",
       "      <td>...</td>\n",
       "    </tr>\n",
       "    <tr>\n",
       "      <th>47603</th>\n",
       "      <td>9</td>\n",
       "      <td>BAYGn.DE</td>\n",
       "      <td>0</td>\n",
       "      <td>93</td>\n",
       "      <td>None</td>\n",
       "      <td>95</td>\n",
       "      <td>urn:newsml:reuters.com:20201218:nNRAdt1n41:1</td>\n",
       "      <td>True</td>\n",
       "      <td>2021-01-05 01:02:54.642019</td>\n",
       "    </tr>\n",
       "    <tr>\n",
       "      <th>47604</th>\n",
       "      <td>9</td>\n",
       "      <td>BAYGn.DE</td>\n",
       "      <td>0</td>\n",
       "      <td>93</td>\n",
       "      <td>None</td>\n",
       "      <td>96</td>\n",
       "      <td>urn:newsml:reuters.com:20201217:nNRAdsgj4j:1</td>\n",
       "      <td>True</td>\n",
       "      <td>2021-01-05 01:02:55.444882</td>\n",
       "    </tr>\n",
       "    <tr>\n",
       "      <th>47605</th>\n",
       "      <td>9</td>\n",
       "      <td>BAYGn.DE</td>\n",
       "      <td>0</td>\n",
       "      <td>93</td>\n",
       "      <td>None</td>\n",
       "      <td>97</td>\n",
       "      <td>urn:newsml:reuters.com:20201217:nNRAdsuxrf:1</td>\n",
       "      <td>True</td>\n",
       "      <td>2021-01-05 01:02:57.405627</td>\n",
       "    </tr>\n",
       "    <tr>\n",
       "      <th>47606</th>\n",
       "      <td>9</td>\n",
       "      <td>BAYGn.DE</td>\n",
       "      <td>0</td>\n",
       "      <td>93</td>\n",
       "      <td>None</td>\n",
       "      <td>98</td>\n",
       "      <td>urn:newsml:reuters.com:20201217:nPLA1ZGZm4:1</td>\n",
       "      <td>True</td>\n",
       "      <td>2021-01-05 01:02:59.010354</td>\n",
       "    </tr>\n",
       "    <tr>\n",
       "      <th>47607</th>\n",
       "      <td>9</td>\n",
       "      <td>BAYGn.DE</td>\n",
       "      <td>0</td>\n",
       "      <td>93</td>\n",
       "      <td>None</td>\n",
       "      <td>99</td>\n",
       "      <td>urn:newsml:reuters.com:20201217:nNRAdsq618:1</td>\n",
       "      <td>True</td>\n",
       "      <td>2021-01-05 01:03:00.548221</td>\n",
       "    </tr>\n",
       "  </tbody>\n",
       "</table>\n",
       "<p>47608 rows × 9 columns</p>\n",
       "</div>"
      ],
      "text/plain": [
       "       ric_i   ric_now  headlines_slice_i  headlines_number  \\\n",
       "0          0  DTEGn.DE                  0               100   \n",
       "1          0  DTEGn.DE                  0               100   \n",
       "2          0  DTEGn.DE                  0               100   \n",
       "3          0  DTEGn.DE                  0               100   \n",
       "4          0  DTEGn.DE                  0               100   \n",
       "...      ...       ...                ...               ...   \n",
       "47603      9  BAYGn.DE                  0                93   \n",
       "47604      9  BAYGn.DE                  0                93   \n",
       "47605      9  BAYGn.DE                  0                93   \n",
       "47606      9  BAYGn.DE                  0                93   \n",
       "47607      9  BAYGn.DE                  0                93   \n",
       "\n",
       "            up_to_date_ric  story_i  \\\n",
       "0      2020-12-24T03:51:28        0   \n",
       "1      2020-12-24T03:51:28        1   \n",
       "2      2020-12-24T03:51:28        2   \n",
       "3      2020-12-24T03:51:28        3   \n",
       "4      2020-12-24T03:51:28        4   \n",
       "...                    ...      ...   \n",
       "47603                 None       95   \n",
       "47604                 None       96   \n",
       "47605                 None       97   \n",
       "47606                 None       98   \n",
       "47607                 None       99   \n",
       "\n",
       "                                       story_id_now  story_is_success  \\\n",
       "0      urn:newsml:reuters.com:20201223:nNRAdspppv:1              True   \n",
       "1      urn:newsml:reuters.com:20201222:nGLF4Kt1L3:2              True   \n",
       "2      urn:newsml:reuters.com:20201222:nGLF2DBhZz:2              True   \n",
       "3      urn:newsml:reuters.com:20201221:nBw3VPZ4Qa:1              True   \n",
       "4      urn:newsml:reuters.com:20201219:nL8N2IY3D9:1              True   \n",
       "...                                             ...               ...   \n",
       "47603  urn:newsml:reuters.com:20201218:nNRAdt1n41:1              True   \n",
       "47604  urn:newsml:reuters.com:20201217:nNRAdsgj4j:1              True   \n",
       "47605  urn:newsml:reuters.com:20201217:nNRAdsuxrf:1              True   \n",
       "47606  urn:newsml:reuters.com:20201217:nPLA1ZGZm4:1              True   \n",
       "47607  urn:newsml:reuters.com:20201217:nNRAdsq618:1              True   \n",
       "\n",
       "                        date_time  \n",
       "0      2020-12-24 03:51:31.939240  \n",
       "1      2020-12-24 03:51:33.740708  \n",
       "2      2020-12-24 03:51:37.079818  \n",
       "3      2020-12-24 03:51:37.803316  \n",
       "4      2020-12-24 03:51:38.957981  \n",
       "...                           ...  \n",
       "47603  2021-01-05 01:02:54.642019  \n",
       "47604  2021-01-05 01:02:55.444882  \n",
       "47605  2021-01-05 01:02:57.405627  \n",
       "47606  2021-01-05 01:02:59.010354  \n",
       "47607  2021-01-05 01:03:00.548221  \n",
       "\n",
       "[47608 rows x 9 columns]"
      ]
     },
     "execution_count": 39,
     "metadata": {},
     "output_type": "execute_result"
    }
   ],
   "source": [
    "quasi_logger"
   ]
  },
  {
   "cell_type": "code",
   "execution_count": 43,
   "metadata": {},
   "outputs": [
    {
     "name": "stdout",
     "output_type": "stream",
     "text": [
      "C:/DAN/t_systems/trade_project/backup_headlines/all_headlines_df_2021-01-05_v6.csv\n"
     ]
    }
   ],
   "source": [
    "# Сохранить версию all_headlines_df\n",
    "file_version = 1\n",
    "folder_name = path_project_folder + folder_name_headlines\n",
    "date_now = datetime.today().strftime(\"%Y-%m-%d\")\n",
    "file_name = 'all_headlines_df' + '_' + str(date_now) + '_v' + str(file_version) + '.csv'\n",
    "while file_name in os.listdir(folder_name):\n",
    "    file_name = 'all_headlines_df' + '_' + str(date_now) + '_v' + str(file_version) + '.csv'\n",
    "    file_version = file_version + 1\n",
    "# C:/DAN/t_systems/trade_project/backup_headlines/all_headlines_df_2020-12-24_v6.csv\n",
    "file_path = folder_name + file_name\n",
    "all_headlines_df.to_csv(file_path, sep = '~', index=False)\n",
    "print(file_path)"
   ]
  },
  {
   "cell_type": "code",
   "execution_count": 44,
   "metadata": {},
   "outputs": [
    {
     "name": "stdout",
     "output_type": "stream",
     "text": [
      "C:/DAN/t_systems/trade_project/logger/quasi_logger_2021-01-05_v6.csv\n"
     ]
    }
   ],
   "source": [
    "# Сохранить версию логгера\n",
    "file_version = 1\n",
    "folder_name = path_project_folder + folder_name_logger\n",
    "date_now = datetime.today().strftime(\"%Y-%m-%d\")\n",
    "file_name = 'quasi_logger' + '_' + str(date_now) + '_v' + str(file_version) + '.csv'\n",
    "while file_name in os.listdir(folder_name):\n",
    "    file_name = 'quasi_logger' + '_' + str(date_now) + '_v' + str(file_version) + '.csv'\n",
    "    file_version = file_version + 1\n",
    "file_path = folder_name + file_name\n",
    "quasi_logger.to_csv(file_path, sep = ';', index=False)\n",
    "print(file_path)"
   ]
  },
  {
   "cell_type": "code",
   "execution_count": 121,
   "metadata": {},
   "outputs": [
    {
     "name": "stdout",
     "output_type": "stream",
     "text": [
      "df shape: (57785, 6) ,  Num of rics: 22\n",
      "StoryId duplicated: 7438\n",
      "Rows in df duplicated: 638\n",
      "\n",
      "status error_when_trying_to_collect_story: 275\n",
      "\n",
      "    Number of NA:\n",
      "ric                 0\n",
      "versionCreated      0\n",
      "headline            0\n",
      "storyId             0\n",
      "sourceCode          0\n",
      "story             153\n",
      "dtype: int64\n"
     ]
    }
   ],
   "source": [
    "print('df shape:', all_headlines_df.shape, ',  Num of rics:', all_headlines_df.groupby('ric')['ric'].nunique().sort_values(ascending=False).count())\n",
    "print('StoryId duplicated:', all_headlines_df['storyId'].duplicated().sum())\n",
    "print('Rows in df duplicated:', all_headlines_df.duplicated().sum())\n",
    "print()\n",
    "print('status error_when_trying_to_collect_story:', all_headlines_df[all_headlines_df['story'] == 'error_when_trying_to_collect_story']['story'].count())\n",
    "print()\n",
    "print('    Number of NA:')\n",
    "print(len(all_headlines_df) - all_headlines_df.notna().sum())"
   ]
  }
 ],
 "metadata": {
  "kernelspec": {
   "display_name": "Python 3",
   "language": "python",
   "name": "python3"
  },
  "language_info": {
   "codemirror_mode": {
    "name": "ipython",
    "version": 3
   },
   "file_extension": ".py",
   "mimetype": "text/x-python",
   "name": "python",
   "nbconvert_exporter": "python",
   "pygments_lexer": "ipython3",
   "version": "3.7.9"
  }
 },
 "nbformat": 4,
 "nbformat_minor": 4
}
