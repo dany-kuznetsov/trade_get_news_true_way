{
 "cells": [
  {
   "cell_type": "code",
   "execution_count": 1,
   "metadata": {},
   "outputs": [],
   "source": [
    "from pandas_datareader import data\n",
    "from pandas_datareader._utils import RemoteDataError\n",
    "import matplotlib.pyplot as plt\n",
    "import pandas as pd\n",
    "import numpy as np\n",
    "import math\n",
    "import csv\n",
    "import re\n",
    "from datetime import datetime\n",
    "\n",
    "import os.path\n",
    "from os import path\n",
    "import time\n",
    "\n",
    "# import sklearn\n",
    "# import scipy\n",
    "\n",
    "# from sklearn.naive_bayes import GaussianNB\n",
    "# import lightgbm as lightgbm\n",
    "# from xgboost import XGBClassifier\n",
    "# import keras\n",
    "\n",
    "# Get Started\n",
    "# https://github.com/Refinitiv-API-Samples/Article.EikonDataAPI.DotNet.Library\n",
    "# API limits\n",
    "# https://developers.refinitiv.com/en/api-catalog/eikon/eikon-data-api/documentation?content=49692&type=documentation_item\n",
    "import eikon as ek \n",
    "\n",
    "from pylab import rcParams\n",
    "plt.rcParams['figure.figsize'] = 16, 8"
   ]
  },
  {
   "cell_type": "code",
   "execution_count": 2,
   "metadata": {},
   "outputs": [],
   "source": [
    "fontsize_reg = 12\n",
    "fontsize_title = 16\n",
    "from pylab import rcParams\n",
    "rcParams['figure.facecolor'] = '1'\n",
    "rcParams['figure.figsize'] = [8.0, 3.5]\n",
    "rcParams['figure.dpi'] = 80\n",
    "rcParams['savefig.dpi'] = 600\n",
    "\n",
    "rcParams['font.size'] = 12\n",
    "rcParams['legend.fontsize'] = 'large'\n",
    "rcParams['figure.titlesize'] = 'large'"
   ]
  },
  {
   "cell_type": "code",
   "execution_count": 4,
   "metadata": {},
   "outputs": [],
   "source": [
    "# зададим API ключ\n",
    "ek.set_app_key('ccebd1ff788d4574818be93e35c4741925ac214e')"
   ]
  },
  {
   "cell_type": "code",
   "execution_count": 5,
   "metadata": {},
   "outputs": [
    {
     "data": {
      "text/html": [
       "<div>\n",
       "<style scoped>\n",
       "    .dataframe tbody tr th:only-of-type {\n",
       "        vertical-align: middle;\n",
       "    }\n",
       "\n",
       "    .dataframe tbody tr th {\n",
       "        vertical-align: top;\n",
       "    }\n",
       "\n",
       "    .dataframe thead th {\n",
       "        text-align: right;\n",
       "    }\n",
       "</style>\n",
       "<table border=\"1\" class=\"dataframe\">\n",
       "  <thead>\n",
       "    <tr style=\"text-align: right;\">\n",
       "      <th></th>\n",
       "      <th>ric</th>\n",
       "      <th>Company Common Name</th>\n",
       "      <th>Country of Exchange</th>\n",
       "      <th>Primary Country of Risk</th>\n",
       "      <th>TRBC Industry Group Name</th>\n",
       "      <th>TRBC Industry Name</th>\n",
       "      <th>Price Close</th>\n",
       "      <th>Company Market Cap</th>\n",
       "      <th>DAX</th>\n",
       "      <th>German_telecom</th>\n",
       "    </tr>\n",
       "  </thead>\n",
       "  <tbody>\n",
       "    <tr>\n",
       "      <th>0</th>\n",
       "      <td>DTEGn.DE</td>\n",
       "      <td>Deutsche Telekom AG</td>\n",
       "      <td>Germany</td>\n",
       "      <td>Germany</td>\n",
       "      <td>Telecommunications Services</td>\n",
       "      <td>Integrated Telecommunications Services</td>\n",
       "      <td>18.032030</td>\n",
       "      <td>8.580246e+10</td>\n",
       "      <td>1</td>\n",
       "      <td>1</td>\n",
       "    </tr>\n",
       "    <tr>\n",
       "      <th>1</th>\n",
       "      <td>SAPG.DE</td>\n",
       "      <td>SAP SE</td>\n",
       "      <td>Germany</td>\n",
       "      <td>Germany</td>\n",
       "      <td>Software &amp; IT Services</td>\n",
       "      <td>Software</td>\n",
       "      <td>122.335901</td>\n",
       "      <td>1.501916e+11</td>\n",
       "      <td>1</td>\n",
       "      <td>0</td>\n",
       "    </tr>\n",
       "    <tr>\n",
       "      <th>2</th>\n",
       "      <td>SIEGn.DE</td>\n",
       "      <td>Siemens AG</td>\n",
       "      <td>Germany</td>\n",
       "      <td>Germany</td>\n",
       "      <td>Consumer Goods Conglomerates</td>\n",
       "      <td>Consumer Goods Conglomerates</td>\n",
       "      <td>139.347250</td>\n",
       "      <td>1.183675e+11</td>\n",
       "      <td>1</td>\n",
       "      <td>0</td>\n",
       "    </tr>\n",
       "    <tr>\n",
       "      <th>3</th>\n",
       "      <td>ALVG.DE</td>\n",
       "      <td>Allianz SE</td>\n",
       "      <td>Germany</td>\n",
       "      <td>Germany</td>\n",
       "      <td>Insurance</td>\n",
       "      <td>Multiline Insurance &amp; Brokers</td>\n",
       "      <td>235.534278</td>\n",
       "      <td>9.704549e+10</td>\n",
       "      <td>1</td>\n",
       "      <td>0</td>\n",
       "    </tr>\n",
       "    <tr>\n",
       "      <th>4</th>\n",
       "      <td>VOWG_p.DE</td>\n",
       "      <td>Volkswagen AG</td>\n",
       "      <td>Germany</td>\n",
       "      <td>Germany</td>\n",
       "      <td>Automobiles &amp; Auto Parts</td>\n",
       "      <td>Auto &amp; Truck Manufacturers</td>\n",
       "      <td>182.653284</td>\n",
       "      <td>9.619011e+10</td>\n",
       "      <td>1</td>\n",
       "      <td>0</td>\n",
       "    </tr>\n",
       "    <tr>\n",
       "      <th>...</th>\n",
       "      <td>...</td>\n",
       "      <td>...</td>\n",
       "      <td>...</td>\n",
       "      <td>...</td>\n",
       "      <td>...</td>\n",
       "      <td>...</td>\n",
       "      <td>...</td>\n",
       "      <td>...</td>\n",
       "      <td>...</td>\n",
       "      <td>...</td>\n",
       "    </tr>\n",
       "    <tr>\n",
       "      <th>1486</th>\n",
       "      <td>IXM0392.DE</td>\n",
       "      <td>MSCI Pac ex Jap ETF</td>\n",
       "      <td>Germany</td>\n",
       "      <td>NaN</td>\n",
       "      <td>NaN</td>\n",
       "      <td>NaN</td>\n",
       "      <td>164.045417</td>\n",
       "      <td>NaN</td>\n",
       "      <td>0</td>\n",
       "      <td>0</td>\n",
       "    </tr>\n",
       "    <tr>\n",
       "      <th>1487</th>\n",
       "      <td>IXM0402.DE</td>\n",
       "      <td>MSCI Canada ETF</td>\n",
       "      <td>Germany</td>\n",
       "      <td>NaN</td>\n",
       "      <td>NaN</td>\n",
       "      <td>NaN</td>\n",
       "      <td>147.258410</td>\n",
       "      <td>NaN</td>\n",
       "      <td>0</td>\n",
       "      <td>0</td>\n",
       "    </tr>\n",
       "    <tr>\n",
       "      <th>1488</th>\n",
       "      <td>IXM0422.DE</td>\n",
       "      <td>MSCI USA ETF</td>\n",
       "      <td>Germany</td>\n",
       "      <td>NaN</td>\n",
       "      <td>NaN</td>\n",
       "      <td>NaN</td>\n",
       "      <td>368.704250</td>\n",
       "      <td>NaN</td>\n",
       "      <td>0</td>\n",
       "      <td>0</td>\n",
       "    </tr>\n",
       "    <tr>\n",
       "      <th>1489</th>\n",
       "      <td>IXM0432.DE</td>\n",
       "      <td>MSCI Jap ETF</td>\n",
       "      <td>Germany</td>\n",
       "      <td>NaN</td>\n",
       "      <td>NaN</td>\n",
       "      <td>NaN</td>\n",
       "      <td>179.058138</td>\n",
       "      <td>NaN</td>\n",
       "      <td>0</td>\n",
       "      <td>0</td>\n",
       "    </tr>\n",
       "    <tr>\n",
       "      <th>1490</th>\n",
       "      <td>VOLSIN.DE</td>\n",
       "      <td>Nomura Voltage Short-term Source</td>\n",
       "      <td>Germany</td>\n",
       "      <td>NaN</td>\n",
       "      <td>NaN</td>\n",
       "      <td>NaN</td>\n",
       "      <td>NaN</td>\n",
       "      <td>NaN</td>\n",
       "      <td>0</td>\n",
       "      <td>0</td>\n",
       "    </tr>\n",
       "  </tbody>\n",
       "</table>\n",
       "<p>1491 rows × 10 columns</p>\n",
       "</div>"
      ],
      "text/plain": [
       "             ric               Company Common Name Country of Exchange  \\\n",
       "0       DTEGn.DE               Deutsche Telekom AG             Germany   \n",
       "1        SAPG.DE                            SAP SE             Germany   \n",
       "2       SIEGn.DE                        Siemens AG             Germany   \n",
       "3        ALVG.DE                        Allianz SE             Germany   \n",
       "4      VOWG_p.DE                     Volkswagen AG             Germany   \n",
       "...          ...                               ...                 ...   \n",
       "1486  IXM0392.DE               MSCI Pac ex Jap ETF             Germany   \n",
       "1487  IXM0402.DE                   MSCI Canada ETF             Germany   \n",
       "1488  IXM0422.DE                      MSCI USA ETF             Germany   \n",
       "1489  IXM0432.DE                      MSCI Jap ETF             Germany   \n",
       "1490   VOLSIN.DE  Nomura Voltage Short-term Source             Germany   \n",
       "\n",
       "     Primary Country of Risk      TRBC Industry Group Name  \\\n",
       "0                    Germany   Telecommunications Services   \n",
       "1                    Germany        Software & IT Services   \n",
       "2                    Germany  Consumer Goods Conglomerates   \n",
       "3                    Germany                     Insurance   \n",
       "4                    Germany      Automobiles & Auto Parts   \n",
       "...                      ...                           ...   \n",
       "1486                     NaN                           NaN   \n",
       "1487                     NaN                           NaN   \n",
       "1488                     NaN                           NaN   \n",
       "1489                     NaN                           NaN   \n",
       "1490                     NaN                           NaN   \n",
       "\n",
       "                          TRBC Industry Name  Price Close  Company Market Cap  \\\n",
       "0     Integrated Telecommunications Services    18.032030        8.580246e+10   \n",
       "1                                   Software   122.335901        1.501916e+11   \n",
       "2               Consumer Goods Conglomerates   139.347250        1.183675e+11   \n",
       "3              Multiline Insurance & Brokers   235.534278        9.704549e+10   \n",
       "4                 Auto & Truck Manufacturers   182.653284        9.619011e+10   \n",
       "...                                      ...          ...                 ...   \n",
       "1486                                     NaN   164.045417                 NaN   \n",
       "1487                                     NaN   147.258410                 NaN   \n",
       "1488                                     NaN   368.704250                 NaN   \n",
       "1489                                     NaN   179.058138                 NaN   \n",
       "1490                                     NaN          NaN                 NaN   \n",
       "\n",
       "      DAX  German_telecom  \n",
       "0       1               1  \n",
       "1       1               0  \n",
       "2       1               0  \n",
       "3       1               0  \n",
       "4       1               0  \n",
       "...   ...             ...  \n",
       "1486    0               0  \n",
       "1487    0               0  \n",
       "1488    0               0  \n",
       "1489    0               0  \n",
       "1490    0               0  \n",
       "\n",
       "[1491 rows x 10 columns]"
      ]
     },
     "execution_count": 5,
     "metadata": {},
     "output_type": "execute_result"
    }
   ],
   "source": [
    "rics_german_df = pd.read_excel('C:/DAN/t_systems/trade_project/rics_german_excel.xlsx')\n",
    "sort_cols = ['DAX', 'German_telecom', 'Company Market Cap']\n",
    "rics_german_df = rics_german_df.sort_values(by=sort_cols, ascending=False) # .reset_index(drop=True)\n",
    "rics_german_df.index = range(0, len(rics_german_df))\n",
    "rics_german_df"
   ]
  },
  {
   "cell_type": "code",
   "execution_count": 6,
   "metadata": {},
   "outputs": [
    {
     "data": {
      "text/html": [
       "<div>\n",
       "<style scoped>\n",
       "    .dataframe tbody tr th:only-of-type {\n",
       "        vertical-align: middle;\n",
       "    }\n",
       "\n",
       "    .dataframe tbody tr th {\n",
       "        vertical-align: top;\n",
       "    }\n",
       "\n",
       "    .dataframe thead th {\n",
       "        text-align: right;\n",
       "    }\n",
       "</style>\n",
       "<table border=\"1\" class=\"dataframe\">\n",
       "  <thead>\n",
       "    <tr style=\"text-align: right;\">\n",
       "      <th></th>\n",
       "      <th>ric</th>\n",
       "      <th>Company Common Name</th>\n",
       "      <th>Company Market Cap</th>\n",
       "      <th>DAX</th>\n",
       "      <th>German_telecom</th>\n",
       "    </tr>\n",
       "  </thead>\n",
       "  <tbody>\n",
       "    <tr>\n",
       "      <th>0</th>\n",
       "      <td>DTEGn.DE</td>\n",
       "      <td>Deutsche Telekom AG</td>\n",
       "      <td>8.580246e+10</td>\n",
       "      <td>1</td>\n",
       "      <td>1</td>\n",
       "    </tr>\n",
       "    <tr>\n",
       "      <th>27</th>\n",
       "      <td>O2Dn.DE</td>\n",
       "      <td>Telefonica Deutschland Holding AG</td>\n",
       "      <td>8.088962e+09</td>\n",
       "      <td>0</td>\n",
       "      <td>1</td>\n",
       "    </tr>\n",
       "    <tr>\n",
       "      <th>28</th>\n",
       "      <td>UTDI.DE</td>\n",
       "      <td>United Internet AG</td>\n",
       "      <td>7.962405e+09</td>\n",
       "      <td>0</td>\n",
       "      <td>1</td>\n",
       "    </tr>\n",
       "    <tr>\n",
       "      <th>29</th>\n",
       "      <td>DRIG.DE</td>\n",
       "      <td>1&amp;1 Drillisch AG</td>\n",
       "      <td>4.331541e+09</td>\n",
       "      <td>0</td>\n",
       "      <td>1</td>\n",
       "    </tr>\n",
       "    <tr>\n",
       "      <th>30</th>\n",
       "      <td>FNTGn.DE</td>\n",
       "      <td>freenet AG</td>\n",
       "      <td>2.614030e+09</td>\n",
       "      <td>0</td>\n",
       "      <td>1</td>\n",
       "    </tr>\n",
       "    <tr>\n",
       "      <th>31</th>\n",
       "      <td>TC1n.DE</td>\n",
       "      <td>Tele Columbus AG</td>\n",
       "      <td>3.688837e+08</td>\n",
       "      <td>0</td>\n",
       "      <td>1</td>\n",
       "    </tr>\n",
       "    <tr>\n",
       "      <th>32</th>\n",
       "      <td>NFN.DE</td>\n",
       "      <td>NFON AG</td>\n",
       "      <td>3.245050e+08</td>\n",
       "      <td>0</td>\n",
       "      <td>1</td>\n",
       "    </tr>\n",
       "    <tr>\n",
       "      <th>33</th>\n",
       "      <td>E4CG.DE</td>\n",
       "      <td>Ecotel Communication AG</td>\n",
       "      <td>3.558930e+07</td>\n",
       "      <td>0</td>\n",
       "      <td>1</td>\n",
       "    </tr>\n",
       "    <tr>\n",
       "      <th>34</th>\n",
       "      <td>PH6.F</td>\n",
       "      <td>Philion SE</td>\n",
       "      <td>2.065664e+05</td>\n",
       "      <td>0</td>\n",
       "      <td>1</td>\n",
       "    </tr>\n",
       "  </tbody>\n",
       "</table>\n",
       "</div>"
      ],
      "text/plain": [
       "         ric                Company Common Name  Company Market Cap  DAX  \\\n",
       "0   DTEGn.DE                Deutsche Telekom AG        8.580246e+10    1   \n",
       "27   O2Dn.DE  Telefonica Deutschland Holding AG        8.088962e+09    0   \n",
       "28   UTDI.DE                 United Internet AG        7.962405e+09    0   \n",
       "29   DRIG.DE                   1&1 Drillisch AG        4.331541e+09    0   \n",
       "30  FNTGn.DE                         freenet AG        2.614030e+09    0   \n",
       "31   TC1n.DE                   Tele Columbus AG        3.688837e+08    0   \n",
       "32    NFN.DE                            NFON AG        3.245050e+08    0   \n",
       "33   E4CG.DE            Ecotel Communication AG        3.558930e+07    0   \n",
       "34     PH6.F                         Philion SE        2.065664e+05    0   \n",
       "\n",
       "    German_telecom  \n",
       "0                1  \n",
       "27               1  \n",
       "28               1  \n",
       "29               1  \n",
       "30               1  \n",
       "31               1  \n",
       "32               1  \n",
       "33               1  \n",
       "34               1  "
      ]
     },
     "execution_count": 6,
     "metadata": {},
     "output_type": "execute_result"
    }
   ],
   "source": [
    "condition_german = rics_german_df['Country of Exchange'] == 'Germany'\n",
    "condition_telecom = rics_german_df['TRBC Industry Group Name'] == 'Telecommunications Services'\n",
    "rics_german_telekom_df = rics_german_df[condition_german & condition_telecom]\n",
    "rics_german_telekom_df[['ric', 'Company Common Name', 'Company Market Cap', 'DAX', 'German_telecom']]"
   ]
  },
  {
   "cell_type": "code",
   "execution_count": 46,
   "metadata": {},
   "outputs": [
    {
     "data": {
      "text/html": [
       "<div>\n",
       "<style scoped>\n",
       "    .dataframe tbody tr th:only-of-type {\n",
       "        vertical-align: middle;\n",
       "    }\n",
       "\n",
       "    .dataframe tbody tr th {\n",
       "        vertical-align: top;\n",
       "    }\n",
       "\n",
       "    .dataframe thead th {\n",
       "        text-align: right;\n",
       "    }\n",
       "</style>\n",
       "<table border=\"1\" class=\"dataframe\">\n",
       "  <thead>\n",
       "    <tr style=\"text-align: right;\">\n",
       "      <th></th>\n",
       "      <th>ric</th>\n",
       "      <th>Company Common Name</th>\n",
       "      <th>Company Market Cap</th>\n",
       "      <th>DAX</th>\n",
       "      <th>German_telecom</th>\n",
       "    </tr>\n",
       "  </thead>\n",
       "  <tbody>\n",
       "    <tr>\n",
       "      <th>1</th>\n",
       "      <td>SAPG.DE</td>\n",
       "      <td>SAP SE</td>\n",
       "      <td>1.501916e+11</td>\n",
       "      <td>1</td>\n",
       "      <td>0</td>\n",
       "    </tr>\n",
       "    <tr>\n",
       "      <th>2</th>\n",
       "      <td>SIEGn.DE</td>\n",
       "      <td>Siemens AG</td>\n",
       "      <td>1.183675e+11</td>\n",
       "      <td>1</td>\n",
       "      <td>0</td>\n",
       "    </tr>\n",
       "    <tr>\n",
       "      <th>3</th>\n",
       "      <td>ALVG.DE</td>\n",
       "      <td>Allianz SE</td>\n",
       "      <td>9.704549e+10</td>\n",
       "      <td>1</td>\n",
       "      <td>0</td>\n",
       "    </tr>\n",
       "    <tr>\n",
       "      <th>4</th>\n",
       "      <td>VOWG_p.DE</td>\n",
       "      <td>Volkswagen AG</td>\n",
       "      <td>9.619011e+10</td>\n",
       "      <td>1</td>\n",
       "      <td>0</td>\n",
       "    </tr>\n",
       "    <tr>\n",
       "      <th>5</th>\n",
       "      <td>DAIGn.DE</td>\n",
       "      <td>Daimler AG</td>\n",
       "      <td>7.532200e+10</td>\n",
       "      <td>1</td>\n",
       "      <td>0</td>\n",
       "    </tr>\n",
       "    <tr>\n",
       "      <th>6</th>\n",
       "      <td>BASFn.DE</td>\n",
       "      <td>BASF SE</td>\n",
       "      <td>7.222737e+10</td>\n",
       "      <td>1</td>\n",
       "      <td>0</td>\n",
       "    </tr>\n",
       "    <tr>\n",
       "      <th>7</th>\n",
       "      <td>ADSGn.DE</td>\n",
       "      <td>Adidas AG</td>\n",
       "      <td>7.062461e+10</td>\n",
       "      <td>1</td>\n",
       "      <td>0</td>\n",
       "    </tr>\n",
       "    <tr>\n",
       "      <th>8</th>\n",
       "      <td>DPWGn.DE</td>\n",
       "      <td>Deutsche Post AG</td>\n",
       "      <td>5.932596e+10</td>\n",
       "      <td>1</td>\n",
       "      <td>0</td>\n",
       "    </tr>\n",
       "    <tr>\n",
       "      <th>9</th>\n",
       "      <td>BMWG.DE</td>\n",
       "      <td>Bayerische Motoren Werke AG</td>\n",
       "      <td>5.780708e+10</td>\n",
       "      <td>1</td>\n",
       "      <td>0</td>\n",
       "    </tr>\n",
       "    <tr>\n",
       "      <th>10</th>\n",
       "      <td>BAYGn.DE</td>\n",
       "      <td>Bayer AG</td>\n",
       "      <td>5.621811e+10</td>\n",
       "      <td>1</td>\n",
       "      <td>0</td>\n",
       "    </tr>\n",
       "    <tr>\n",
       "      <th>11</th>\n",
       "      <td>IFXGn.DE</td>\n",
       "      <td>Infineon Technologies AG</td>\n",
       "      <td>4.791433e+10</td>\n",
       "      <td>1</td>\n",
       "      <td>0</td>\n",
       "    </tr>\n",
       "    <tr>\n",
       "      <th>12</th>\n",
       "      <td>HNKG_p.DE</td>\n",
       "      <td>Henkel AG &amp; Co KgaA</td>\n",
       "      <td>4.400469e+10</td>\n",
       "      <td>1</td>\n",
       "      <td>0</td>\n",
       "    </tr>\n",
       "    <tr>\n",
       "      <th>13</th>\n",
       "      <td>VNAn.DE</td>\n",
       "      <td>Vonovia SE</td>\n",
       "      <td>3.941367e+10</td>\n",
       "      <td>1</td>\n",
       "      <td>0</td>\n",
       "    </tr>\n",
       "    <tr>\n",
       "      <th>14</th>\n",
       "      <td>EONGn.DE</td>\n",
       "      <td>E.ON SE</td>\n",
       "      <td>2.849412e+10</td>\n",
       "      <td>1</td>\n",
       "      <td>0</td>\n",
       "    </tr>\n",
       "    <tr>\n",
       "      <th>15</th>\n",
       "      <td>BEIG.DE</td>\n",
       "      <td>Beiersdorf AG</td>\n",
       "      <td>2.817068e+10</td>\n",
       "      <td>1</td>\n",
       "      <td>0</td>\n",
       "    </tr>\n",
       "    <tr>\n",
       "      <th>16</th>\n",
       "      <td>CONG.DE</td>\n",
       "      <td>Continental AG</td>\n",
       "      <td>2.749257e+10</td>\n",
       "      <td>1</td>\n",
       "      <td>0</td>\n",
       "    </tr>\n",
       "    <tr>\n",
       "      <th>17</th>\n",
       "      <td>RWEG.DE</td>\n",
       "      <td>RWE AG</td>\n",
       "      <td>2.733554e+10</td>\n",
       "      <td>1</td>\n",
       "      <td>0</td>\n",
       "    </tr>\n",
       "    <tr>\n",
       "      <th>18</th>\n",
       "      <td>FREG.DE</td>\n",
       "      <td>Fresenius SE &amp; Co KGaA</td>\n",
       "      <td>2.581399e+10</td>\n",
       "      <td>1</td>\n",
       "      <td>0</td>\n",
       "    </tr>\n",
       "    <tr>\n",
       "      <th>19</th>\n",
       "      <td>FMEG.DE</td>\n",
       "      <td>Fresenius Medical Care AG &amp; Co KGaA</td>\n",
       "      <td>2.399858e+10</td>\n",
       "      <td>1</td>\n",
       "      <td>0</td>\n",
       "    </tr>\n",
       "    <tr>\n",
       "      <th>20</th>\n",
       "      <td>DBKGn.DE</td>\n",
       "      <td>Deutsche Bank AG</td>\n",
       "      <td>2.238385e+10</td>\n",
       "      <td>1</td>\n",
       "      <td>0</td>\n",
       "    </tr>\n",
       "    <tr>\n",
       "      <th>21</th>\n",
       "      <td>MRCG.DE</td>\n",
       "      <td>Merck KGaA</td>\n",
       "      <td>2.106119e+10</td>\n",
       "      <td>1</td>\n",
       "      <td>0</td>\n",
       "    </tr>\n",
       "    <tr>\n",
       "      <th>22</th>\n",
       "      <td>HEIG.DE</td>\n",
       "      <td>HeidelbergCement AG</td>\n",
       "      <td>1.422492e+10</td>\n",
       "      <td>1</td>\n",
       "      <td>0</td>\n",
       "    </tr>\n",
       "    <tr>\n",
       "      <th>23</th>\n",
       "      <td>CBKG.DE</td>\n",
       "      <td>Commerzbank AG</td>\n",
       "      <td>8.044701e+09</td>\n",
       "      <td>1</td>\n",
       "      <td>0</td>\n",
       "    </tr>\n",
       "    <tr>\n",
       "      <th>24</th>\n",
       "      <td>LHAG.DE</td>\n",
       "      <td>Deutsche Lufthansa AG</td>\n",
       "      <td>6.818937e+09</td>\n",
       "      <td>1</td>\n",
       "      <td>0</td>\n",
       "    </tr>\n",
       "    <tr>\n",
       "      <th>25</th>\n",
       "      <td>TKAG.DE</td>\n",
       "      <td>Thyssenkrupp AG</td>\n",
       "      <td>5.276461e+09</td>\n",
       "      <td>1</td>\n",
       "      <td>0</td>\n",
       "    </tr>\n",
       "    <tr>\n",
       "      <th>26</th>\n",
       "      <td>PSMGn.DE</td>\n",
       "      <td>Prosiebensat 1 Media SE</td>\n",
       "      <td>3.836555e+09</td>\n",
       "      <td>1</td>\n",
       "      <td>0</td>\n",
       "    </tr>\n",
       "  </tbody>\n",
       "</table>\n",
       "</div>"
      ],
      "text/plain": [
       "          ric                  Company Common Name  Company Market Cap  DAX  \\\n",
       "1     SAPG.DE                               SAP SE        1.501916e+11    1   \n",
       "2    SIEGn.DE                           Siemens AG        1.183675e+11    1   \n",
       "3     ALVG.DE                           Allianz SE        9.704549e+10    1   \n",
       "4   VOWG_p.DE                        Volkswagen AG        9.619011e+10    1   \n",
       "5    DAIGn.DE                           Daimler AG        7.532200e+10    1   \n",
       "6    BASFn.DE                              BASF SE        7.222737e+10    1   \n",
       "7    ADSGn.DE                            Adidas AG        7.062461e+10    1   \n",
       "8    DPWGn.DE                     Deutsche Post AG        5.932596e+10    1   \n",
       "9     BMWG.DE          Bayerische Motoren Werke AG        5.780708e+10    1   \n",
       "10   BAYGn.DE                             Bayer AG        5.621811e+10    1   \n",
       "11   IFXGn.DE             Infineon Technologies AG        4.791433e+10    1   \n",
       "12  HNKG_p.DE                  Henkel AG & Co KgaA        4.400469e+10    1   \n",
       "13    VNAn.DE                           Vonovia SE        3.941367e+10    1   \n",
       "14   EONGn.DE                              E.ON SE        2.849412e+10    1   \n",
       "15    BEIG.DE                        Beiersdorf AG        2.817068e+10    1   \n",
       "16    CONG.DE                       Continental AG        2.749257e+10    1   \n",
       "17    RWEG.DE                               RWE AG        2.733554e+10    1   \n",
       "18    FREG.DE               Fresenius SE & Co KGaA        2.581399e+10    1   \n",
       "19    FMEG.DE  Fresenius Medical Care AG & Co KGaA        2.399858e+10    1   \n",
       "20   DBKGn.DE                     Deutsche Bank AG        2.238385e+10    1   \n",
       "21    MRCG.DE                           Merck KGaA        2.106119e+10    1   \n",
       "22    HEIG.DE                  HeidelbergCement AG        1.422492e+10    1   \n",
       "23    CBKG.DE                       Commerzbank AG        8.044701e+09    1   \n",
       "24    LHAG.DE                Deutsche Lufthansa AG        6.818937e+09    1   \n",
       "25    TKAG.DE                      Thyssenkrupp AG        5.276461e+09    1   \n",
       "26   PSMGn.DE              Prosiebensat 1 Media SE        3.836555e+09    1   \n",
       "\n",
       "    German_telecom  \n",
       "1                0  \n",
       "2                0  \n",
       "3                0  \n",
       "4                0  \n",
       "5                0  \n",
       "6                0  \n",
       "7                0  \n",
       "8                0  \n",
       "9                0  \n",
       "10               0  \n",
       "11               0  \n",
       "12               0  \n",
       "13               0  \n",
       "14               0  \n",
       "15               0  \n",
       "16               0  \n",
       "17               0  \n",
       "18               0  \n",
       "19               0  \n",
       "20               0  \n",
       "21               0  \n",
       "22               0  \n",
       "23               0  \n",
       "24               0  \n",
       "25               0  \n",
       "26               0  "
      ]
     },
     "execution_count": 46,
     "metadata": {},
     "output_type": "execute_result"
    }
   ],
   "source": [
    "condition_dax = (rics_german_df['DAX'] == 1) & (rics_german_df['German_telecom'] != 1)\n",
    "rics_dax = rics_german_df[condition_dax]\n",
    "rics_dax[['ric', 'Company Common Name', 'Company Market Cap', 'DAX', 'German_telecom']]"
   ]
  },
  {
   "cell_type": "code",
   "execution_count": 8,
   "metadata": {},
   "outputs": [],
   "source": [
    "def get_name_of_latest_file_in_folder(folder_name):\n",
    "    files_creation_dates = pd.DataFrame(data = [], columns=[\n",
    "        \"folder_name\", \"file_name\", \"num_time\", \"str_time\"\n",
    "    ])\n",
    "\n",
    "    files_creation_dates['file_name'] = os.listdir(folder_name)\n",
    "    files_creation_dates['folder_name'] = folder_name\n",
    "    files_creation_dates['file_folder_and_name'] = files_creation_dates['folder_name'] + files_creation_dates['file_name']\n",
    "    files_creation_dates\n",
    "    for i in range(0, len(files_creation_dates)):\n",
    "        file_folder_and_name = files_creation_dates['file_folder_and_name'][i]\n",
    "        files_creation_dates['num_time'][i] = os.path.getctime(file_folder_and_name)\n",
    "        files_creation_dates['str_time'][i] = time.ctime(os.path.getctime(file_folder_and_name))\n",
    "\n",
    "    most_latest_file_dir = files_creation_dates.sort_values(by=['num_time'], ascending=False)['file_folder_and_name'].iloc[0]\n",
    "    \n",
    "    return most_latest_file_dir"
   ]
  },
  {
   "cell_type": "code",
   "execution_count": 9,
   "metadata": {},
   "outputs": [
    {
     "name": "stdout",
     "output_type": "stream",
     "text": [
      "(14018, 6) C:/DAN/t_systems/trade_project/backup_headlines/all_headlines_df_2020-12-29_v11.csv\n"
     ]
    }
   ],
   "source": [
    "# Создадим df, в который будем сохранять вообще все новости.\n",
    "\n",
    "# Можем создать пустой df, куда будем добавлять все новости\n",
    "# all_headlines_df = pd.DataFrame(data = [], columns=[\"ric\", \"versionCreated\", \"headline\", \"storyId\", \"sourceCode\", \"story\"])\n",
    "\n",
    "# Но если мы уже сохраняли файл, достанем самый свежий из папки\n",
    "most_latest_file = get_name_of_latest_file_in_folder('C:/DAN/t_systems/trade_project/backup_headlines/')\n",
    "all_headlines_df = pd.read_csv(most_latest_file, sep='~')\n",
    "all_headlines_df['versionCreated'] = pd.to_datetime(all_headlines_df['versionCreated'])\n",
    "print(all_headlines_df.shape, most_latest_file)"
   ]
  },
  {
   "cell_type": "code",
   "execution_count": 10,
   "metadata": {},
   "outputs": [
    {
     "name": "stdout",
     "output_type": "stream",
     "text": [
      "(10844, 9) C:/DAN/t_systems/trade_project/logger/quasi_logger_2020-12-29_v10.csv\n"
     ]
    }
   ],
   "source": [
    "# Создадим подобие logger'а \n",
    "\n",
    "# quasi_logger = pd.DataFrame(data = [], columns=[\n",
    "#     'ric_i', 'ric_now', 'headlines_slice_i', 'headlines_number',\n",
    "#     'up_to_date_ric', 'story_i', 'story_id_now', 'story_is_success', \n",
    "#     'date_time',\n",
    "# ])\n",
    "\n",
    "# Так как у нас уже есть созданный logger, подгрузим его\n",
    "most_latest_file = get_name_of_latest_file_in_folder('C:/DAN/t_systems/trade_project/logger/')\n",
    "quasi_logger = pd.read_csv(most_latest_file, sep=';')\n",
    "print(quasi_logger.shape, most_latest_file)"
   ]
  },
  {
   "cell_type": "code",
   "execution_count": 13,
   "metadata": {},
   "outputs": [
    {
     "name": "stdout",
     "output_type": "stream",
     "text": [
      "0 SAPG.DE\n",
      "\n",
      "is_this_ric_in_all: True   up_to_date_ric: 2019-09-30 05:19:23+00:00 news_get_df.shape: 1\n",
      "0; \n",
      "2020-12-30 00:29:05.388419 SAPG.DE  ric_i: 0  headline_slice_i: 1  headline_number: 1  not null: 1 2019-09-30 05:19:23+00:00\n",
      "C:/DAN/t_systems/trade_project/logger/quasi_logger_2020-12-30_v1.csv\n",
      "C:/DAN/t_systems/trade_project/backup_headlines/all_headlines_df_2020-12-30_v1.csv\n",
      "1 SIEGn.DE\n",
      "\n",
      "is_this_ric_in_all: True   up_to_date_ric: 2020-06-24 09:12:52.866000+00:00 news_get_df.shape: 100\n",
      "0; 1; 2; 3; 4; 5; 6; 7; 8; 9; 10; 11; 12; 13; 14; 15; 16; 17; 18; 19; 20; 21; 22; 23; 24; 25; 26; 27; 28; 29; 30; 31; 32; 33; 34; 35; 36; 37; 38; 39; 40; 41; 42; 43; 44; 45; 46; 47; 48; 49; 50; 51; 52; 53; 54; 55; 56; 57; 58; 59; 60; \n",
      "STORY IS OK: False   ric_now: SIEGn.DE   ric_i: 1   story_i: 61\n",
      "62; 63; 64; 65; 66; 67; 68; 69; 70; 71; 72; 73; 74; 75; 76; 77; 78; 79; 80; 81; 82; 83; 84; 85; 86; 87; 88; 89; 90; 91; 92; \n",
      "STORY IS OK: False   ric_now: SIEGn.DE   ric_i: 1   story_i: 93\n",
      "94; 95; 96; 97; 98; 99; \n",
      "2020-12-30 00:32:09.747193 SIEGn.DE  ric_i: 1  headline_slice_i: 1  headline_number: 100  not null: 98 2020-06-24 09:12:52.866000+00:00\n",
      "\n",
      "is_this_ric_in_all: True   up_to_date_ric: 2020-06-19 03:37:13.663000+00:00 news_get_df.shape: 100\n",
      "0; 1; 2; 3; 4; 5; 6; 7; 8; 9; 10; 11; 12; 13; 14; 15; 16; 17; 18; 19; 20; 21; 22; 23; 24; 25; 26; 27; 28; 29; 30; 31; 32; 33; 34; 35; 36; 37; 38; 39; 40; 41; 42; 43; 44; 45; 46; 47; 48; 49; 50; 51; 52; 53; 54; 55; 56; 57; 58; 59; 60; 61; 62; 63; 64; 65; 66; 67; 68; 69; 70; 71; 72; 73; 74; 75; 76; 77; 78; 79; 80; 81; 82; 83; 84; 85; 86; 87; 88; 89; 90; 91; 92; 93; 94; 95; 96; 97; 98; 99; \n",
      "2020-12-30 00:35:16.901453 SIEGn.DE  ric_i: 1  headline_slice_i: 2  headline_number: 100  not null: 100 2020-06-19 03:37:13.663000+00:00\n",
      "\n",
      "is_this_ric_in_all: True   up_to_date_ric: 2020-06-16 09:50:42.958000+00:00 news_get_df.shape: 100\n",
      "0; 1; 2; 3; 4; 5; 6; 7; 8; 9; 10; 11; 12; 13; 14; 15; 16; 17; 18; 19; 20; 21; 22; 23; 24; 25; 26; 27; 28; 29; 30; 31; 32; 33; 34; 35; 36; 37; 38; 39; 40; 41; 42; 43; 44; 45; 46; 47; 48; 49; 50; 51; 52; 53; 54; 55; 56; 57; 58; 59; 60; 61; 62; 63; 64; 65; 66; 67; 68; 69; 70; 71; 72; 73; 74; 75; 76; 77; 78; 79; 80; 81; 82; 83; 84; 85; 86; 87; 88; 89; 90; 91; 92; 93; 94; 95; 96; 97; 98; 99; \n",
      "2020-12-30 00:38:15.503017 SIEGn.DE  ric_i: 1  headline_slice_i: 3  headline_number: 100  not null: 100 2020-06-16 09:50:42.958000+00:00\n",
      "\n",
      "is_this_ric_in_all: True   up_to_date_ric: 2020-06-09 07:14:52.213000+00:00 news_get_df.shape: 100\n",
      "0; 1; 2; 3; 4; 5; 6; 7; 8; 9; 10; 11; 12; 13; 14; 15; 16; 17; 18; 19; 20; 21; 22; 23; 24; 25; 26; 27; 28; 29; 30; 31; 32; 33; 34; 35; 36; 37; 38; 39; 40; 41; 42; 43; 44; 45; 46; 47; 48; 49; 50; 51; 52; 53; 54; 55; 56; 57; 58; 59; 60; 61; 62; 63; 64; 65; 66; 67; 68; 69; 70; 71; 72; 73; 74; 75; 76; 77; 78; 79; 80; 81; 82; 83; 84; 85; 86; 87; 88; 89; 90; 91; 92; 93; 94; 95; 96; 97; 98; 99; \n",
      "2020-12-30 00:40:47.196908 SIEGn.DE  ric_i: 1  headline_slice_i: 4  headline_number: 100  not null: 100 2020-06-09 07:14:52.213000+00:00\n",
      "\n",
      "is_this_ric_in_all: True   up_to_date_ric: 2020-06-01 14:04:25.425000+00:00 news_get_df.shape: 100\n",
      "0; 1; 2; 3; 4; 5; 6; 7; 8; 9; 10; 11; 12; 13; 14; 15; 16; 17; 18; 19; \n",
      "STORY IS OK: False   ric_now: SIEGn.DE   ric_i: 1   story_i: 20\n",
      "21; 22; 23; 24; 25; 26; 27; 28; 29; 30; 31; 32; 33; 34; 35; 36; 37; 38; 39; 40; 41; 42; 43; 44; 45; 46; 47; 48; 49; 50; 51; 52; 53; 54; 55; 56; 57; 58; 59; 60; 61; 62; 63; 64; 65; 66; 67; 68; 69; 70; 71; 72; 73; 74; 75; 76; 77; 78; 79; 80; 81; 82; 83; 84; 85; 86; 87; 88; 89; 90; 91; 92; 93; 94; 95; 96; 97; 98; 99; \n",
      "2020-12-30 00:43:37.220751 SIEGn.DE  ric_i: 1  headline_slice_i: 5  headline_number: 100  not null: 99 2020-06-01 14:04:25.425000+00:00\n",
      "\n",
      "is_this_ric_in_all: True   up_to_date_ric: 2020-05-26 13:16:05+00:00 news_get_df.shape: 100\n",
      "0; 1; 2; 3; 4; 5; 6; 7; 8; 9; 10; 11; 12; 13; 14; 15; 16; 17; 18; 19; 20; 21; 22; 23; 24; 25; 26; 27; 28; 29; 30; 31; 32; 33; 34; 35; 36; 37; 38; 39; 40; 41; 42; 43; 44; 45; 46; 47; 48; 49; 50; 51; 52; 53; 54; 55; 56; 57; 58; 59; 60; 61; 62; 63; 64; 65; 66; 67; 68; 69; 70; 71; 72; 73; 74; 75; 76; 77; 78; 79; 80; 81; 82; 83; 84; 85; 86; 87; 88; 89; 90; 91; 92; 93; 94; 95; 96; 97; 98; 99; \n",
      "2020-12-30 00:47:50.083933 SIEGn.DE  ric_i: 1  headline_slice_i: 6  headline_number: 100  not null: 100 2020-05-26 13:16:05+00:00\n",
      "\n",
      "is_this_ric_in_all: True   up_to_date_ric: 2020-05-20 14:12:18.214000+00:00 news_get_df.shape: 100\n",
      "0; 1; 2; 3; 4; 5; 6; 7; 8; 9; 10; 11; 12; 13; 14; 15; 16; 17; 18; 19; 20; 21; 22; 23; 24; 25; 26; 27; 28; 29; 30; 31; 32; 33; 34; 35; 36; 37; 38; 39; 40; 41; 42; 43; 44; 45; 46; 47; 48; 49; 50; 51; 52; 53; 54; 55; 56; 57; 58; 59; 60; 61; 62; 63; 64; 65; 66; 67; 68; 69; 70; 71; 72; 73; 74; 75; 76; 77; 78; 79; 80; 81; 82; 83; 84; 85; 86; 87; 88; 89; 90; 91; 92; 93; 94; 95; 96; 97; 98; 99; \n",
      "2020-12-30 00:50:40.403753 SIEGn.DE  ric_i: 1  headline_slice_i: 7  headline_number: 100  not null: 100 2020-05-20 14:12:18.214000+00:00\n",
      "\n",
      "is_this_ric_in_all: True   up_to_date_ric: 2020-05-12 13:04:08+00:00 news_get_df.shape: 100\n",
      "0; 1; 2; 3; 4; 5; 6; 7; 8; 9; 10; 11; 12; 13; 14; 15; 16; 17; 18; 19; 20; 21; 22; 23; 24; 25; 26; 27; 28; 29; 30; 31; 32; 33; 34; 35; 36; 37; 38; 39; 40; 41; 42; 43; 44; 45; 46; 47; 48; 49; 50; 51; 52; 53; 54; 55; 56; 57; 58; 59; 60; 61; 62; 63; 64; 65; 66; 67; 68; 69; 70; 71; 72; 73; \n",
      "STORY IS OK: False   ric_now: SIEGn.DE   ric_i: 1   story_i: 74\n",
      "75; 76; 77; 78; 79; 80; 81; 82; 83; 84; 85; 86; \n",
      "STORY IS OK: False   ric_now: SIEGn.DE   ric_i: 1   story_i: 87\n",
      "88; 89; 90; 91; 92; 93; 94; 95; 96; 97; 98; 99; \n",
      "2020-12-30 00:53:43.172857 SIEGn.DE  ric_i: 1  headline_slice_i: 8  headline_number: 100  not null: 98 2020-05-12 13:04:08+00:00\n",
      "\n",
      "is_this_ric_in_all: True   up_to_date_ric: 2020-05-08 06:31:28+00:00 news_get_df.shape: 100\n",
      "0; 1; 2; 3; 4; 5; 6; 7; 8; 9; 10; 11; 12; 13; 14; 15; 16; 17; 18; 19; 20; 21; 22; 23; 24; 25; 26; 27; 28; 29; 30; 31; 32; 33; 34; 35; 36; 37; 38; 39; 40; 41; 42; 43; 44; \n",
      "STORY IS OK: False   ric_now: SIEGn.DE   ric_i: 1   story_i: 45\n",
      "46; 47; 48; 49; 50; 51; 52; 53; 54; 55; 56; 57; 58; 59; 60; 61; 62; 63; 64; 65; 66; 67; 68; 69; 70; 71; 72; 73; 74; 75; 76; 77; 78; 79; 80; 81; 82; 83; 84; 85; 86; 87; 88; 89; 90; 91; 92; 93; 94; 95; 96; 97; 98; \n",
      "STORY IS OK: False   ric_now: SIEGn.DE   ric_i: 1   story_i: 99\n",
      "\n",
      "2020-12-30 00:58:47.350283 SIEGn.DE  ric_i: 1  headline_slice_i: 9  headline_number: 100  not null: 98 2020-05-08 06:31:28+00:00\n",
      "\n",
      "is_this_ric_in_all: True   up_to_date_ric: 2020-05-06 16:59:26.129000+00:00 news_get_df.shape: 100\n",
      "0; 1; 2; 3; 4; 5; 6; 7; 8; 9; 10; 11; 12; 13; 14; 15; 16; 17; 18; 19; 20; 21; 22; 23; 24; 25; 26; 27; 28; 29; 30; 31; 32; 33; 34; 35; 36; 37; 38; 39; 40; 41; 42; 43; 44; 45; 46; 47; 48; 49; 50; 51; 52; 53; 54; 55; 56; 57; 58; 59; 60; 61; 62; 63; 64; 65; 66; 67; 68; 69; 70; 71; 72; 73; 74; 75; 76; 77; 78; 79; 80; 81; 82; 83; 84; 85; 86; 87; 88; 89; 90; 91; 92; 93; 94; 95; 96; 97; 98; 99; \n",
      "2020-12-30 01:02:16.712465 SIEGn.DE  ric_i: 1  headline_slice_i: 10  headline_number: 100  not null: 100 2020-05-06 16:59:26.129000+00:00\n",
      "\n",
      "is_this_ric_in_all: True   up_to_date_ric: 2020-04-28 08:05:20+00:00 news_get_df.shape: 100\n",
      "0; 1; 2; 3; 4; 5; 6; 7; 8; 9; 10; 11; 12; 13; 14; 15; 16; 17; 18; 19; 20; 21; 22; 23; 24; 25; 26; 27; 28; 29; 30; 31; 32; 33; 34; 35; 36; 37; 38; 39; 40; 41; 42; 43; 44; 45; 46; 47; 48; 49; 50; 51; 52; 53; 54; 55; 56; 57; 58; 59; 60; 61; 62; 63; 64; 65; 66; 67; 68; 69; 70; 71; 72; 73; 74; 75; 76; 77; 78; \n",
      "STORY IS OK: False   ric_now: SIEGn.DE   ric_i: 1   story_i: 79\n",
      "\n",
      "STORY IS OK: False   ric_now: SIEGn.DE   ric_i: 1   story_i: 80\n",
      "81; 82; 83; 84; 85; 86; 87; 88; 89; 90; 91; 92; 93; 94; 95; 96; 97; 98; 99; \n",
      "2020-12-30 01:05:55.178547 SIEGn.DE  ric_i: 1  headline_slice_i: 11  headline_number: 100  not null: 98 2020-04-28 08:05:20+00:00\n",
      "\n",
      "is_this_ric_in_all: True   up_to_date_ric: 2020-04-16 09:03:21.879000+00:00 news_get_df.shape: 100\n",
      "0; 1; 2; 3; 4; 5; 6; 7; 8; 9; 10; 11; 12; 13; 14; 15; 16; 17; 18; 19; 20; 21; 22; 23; 24; 25; 26; 27; 28; 29; 30; 31; 32; 33; 34; 35; 36; 37; 38; 39; 40; 41; 42; 43; 44; 45; 46; 47; 48; 49; 50; 51; 52; 53; 54; 55; 56; 57; 58; 59; 60; 61; 62; 63; 64; 65; 66; 67; 68; 69; 70; 71; 72; 73; 74; 75; 76; 77; 78; 79; 80; 81; 82; 83; 84; 85; 86; 87; 88; 89; 90; 91; 92; 93; 94; 95; 96; 97; 98; 99; \n",
      "2020-12-30 01:09:35.110956 SIEGn.DE  ric_i: 1  headline_slice_i: 12  headline_number: 100  not null: 100 2020-04-16 09:03:21.879000+00:00\n",
      "\n",
      "is_this_ric_in_all: True   up_to_date_ric: 2020-04-03 11:38:58.287000+00:00 news_get_df.shape: 100\n",
      "0; 1; 2; 3; 4; 5; 6; 7; 8; 9; \n",
      "STORY IS OK: False   ric_now: SIEGn.DE   ric_i: 1   story_i: 10\n",
      "11; 12; 13; 14; 15; 16; 17; 18; 19; 20; 21; 22; 23; 24; 25; 26; 27; 28; 29; 30; 31; 32; 33; 34; 35; 36; 37; 38; 39; 40; 41; 42; 43; 44; 45; 46; 47; 48; 49; 50; 51; \n",
      "STORY IS OK: False   ric_now: SIEGn.DE   ric_i: 1   story_i: 52\n",
      "53; 54; 55; 56; 57; 58; 59; 60; 61; 62; 63; 64; \n",
      "STORY IS OK: False   ric_now: SIEGn.DE   ric_i: 1   story_i: 65\n",
      "66; 67; 68; 69; 70; 71; 72; 73; 74; 75; 76; 77; 78; 79; 80; 81; 82; 83; 84; 85; 86; 87; 88; 89; 90; 91; 92; 93; 94; 95; 96; 97; 98; 99; \n",
      "2020-12-30 01:12:52.595266 SIEGn.DE  ric_i: 1  headline_slice_i: 13  headline_number: 100  not null: 97 2020-04-03 11:38:58.287000+00:00\n",
      "\n",
      "is_this_ric_in_all: True   up_to_date_ric: 2020-03-24 01:53:09.727000+00:00 news_get_df.shape: 100\n",
      "0; 1; 2; 3; 4; 5; 6; 7; 8; 9; 10; 11; 12; 13; 14; 15; 16; 17; 18; 19; 20; 21; 22; 23; 24; 25; 26; 27; 28; 29; 30; 31; 32; 33; 34; 35; 36; 37; 38; 39; 40; 41; 42; 43; 44; 45; 46; 47; 48; 49; 50; 51; 52; 53; 54; 55; 56; 57; 58; 59; 60; 61; 62; 63; 64; 65; 66; 67; 68; 69; 70; 71; 72; 73; 74; 75; 76; 77; 78; 79; 80; 81; 82; 83; 84; 85; 86; 87; 88; 89; 90; 91; 92; 93; 94; 95; 96; 97; 98; 99; \n",
      "2020-12-30 01:16:37.332238 SIEGn.DE  ric_i: 1  headline_slice_i: 14  headline_number: 100  not null: 100 2020-03-24 01:53:09.727000+00:00\n",
      "\n",
      "is_this_ric_in_all: True   up_to_date_ric: 2020-03-19 18:28:34.209000+00:00 news_get_df.shape: 100\n",
      "0; 1; 2; 3; 4; 5; 6; 7; 8; 9; 10; 11; 12; 13; 14; 15; 16; 17; 18; 19; 20; 21; 22; 23; 24; 25; 26; 27; 28; 29; 30; 31; 32; 33; 34; 35; 36; 37; 38; 39; 40; 41; 42; 43; 44; 45; 46; 47; 48; 49; 50; 51; 52; 53; 54; 55; 56; 57; 58; 59; 60; 61; 62; 63; 64; 65; 66; 67; 68; 69; 70; 71; 72; 73; 74; 75; 76; 77; 78; 79; 80; 81; 82; 83; 84; 85; 86; 87; 88; 89; 90; 91; 92; 93; 94; 95; 96; 97; 98; 99; \n",
      "2020-12-30 01:19:43.531627 SIEGn.DE  ric_i: 1  headline_slice_i: 15  headline_number: 100  not null: 100 2020-03-19 18:28:34.209000+00:00\n",
      "\n",
      "is_this_ric_in_all: True   up_to_date_ric: 2020-03-12 17:31:48.647000+00:00 news_get_df.shape: 100\n",
      "0; 1; 2; 3; 4; 5; 6; 7; 8; 9; 10; 11; 12; 13; 14; 15; 16; 17; 18; 19; 20; 21; 22; 23; 24; 25; 26; 27; 28; 29; 30; 31; 32; 33; 34; 35; 36; 37; 38; 39; 40; 41; 42; 43; 44; 45; 46; 47; 48; 49; 50; 51; 52; 53; 54; 55; 56; 57; \n",
      "STORY IS OK: False   ric_now: SIEGn.DE   ric_i: 1   story_i: 58\n",
      "59; 60; 61; 62; 63; 64; 65; 66; 67; \n",
      "STORY IS OK: False   ric_now: SIEGn.DE   ric_i: 1   story_i: 68\n",
      "69; 70; 71; 72; 73; 74; 75; 76; 77; 78; 79; 80; 81; 82; 83; 84; 85; 86; 87; 88; 89; 90; 91; 92; 93; 94; 95; 96; 97; 98; 99; \n",
      "2020-12-30 01:23:10.702307 SIEGn.DE  ric_i: 1  headline_slice_i: 16  headline_number: 100  not null: 98 2020-03-12 17:31:48.647000+00:00\n",
      "\n",
      "is_this_ric_in_all: True   up_to_date_ric: 2020-03-05 18:48:12.618000+00:00 news_get_df.shape: 100\n",
      "0; 1; 2; 3; 4; 5; 6; 7; 8; 9; 10; 11; 12; 13; 14; 15; 16; 17; 18; 19; 20; 21; 22; 23; 24; 25; 26; 27; 28; 29; 30; 31; 32; 33; 34; 35; 36; 37; 38; 39; 40; 41; 42; 43; 44; 45; 46; 47; 48; 49; 50; 51; 52; 53; 54; 55; 56; 57; 58; 59; 60; 61; 62; 63; 64; 65; 66; 67; 68; 69; 70; 71; 72; 73; 74; 75; 76; 77; 78; 79; \n",
      "STORY IS OK: False   ric_now: SIEGn.DE   ric_i: 1   story_i: 80\n",
      "81; 82; 83; 84; 85; 86; 87; 88; 89; 90; 91; 92; 93; 94; 95; 96; 97; 98; 99; \n",
      "2020-12-30 01:27:11.927202 SIEGn.DE  ric_i: 1  headline_slice_i: 17  headline_number: 100  not null: 99 2020-03-05 18:48:12.618000+00:00\n",
      "\n",
      "is_this_ric_in_all: True   up_to_date_ric: 2020-02-28 03:52:52.531000+00:00 news_get_df.shape: 100\n",
      "0; 1; 2; 3; 4; 5; 6; 7; 8; 9; 10; \n",
      "STORY IS OK: False   ric_now: SIEGn.DE   ric_i: 1   story_i: 11\n",
      "12; 13; 14; 15; 16; 17; 18; 19; 20; 21; 22; 23; 24; 25; 26; 27; 28; 29; 30; 31; 32; 33; 34; 35; 36; 37; 38; 39; 40; 41; 42; 43; 44; 45; 46; 47; 48; 49; 50; 51; 52; 53; 54; 55; 56; 57; 58; 59; 60; 61; 62; 63; 64; 65; 66; 67; 68; 69; 70; 71; 72; 73; 74; 75; 76; 77; 78; 79; 80; 81; 82; 83; 84; 85; 86; 87; 88; 89; 90; 91; 92; 93; 94; 95; 96; 97; 98; 99; \n",
      "2020-12-30 01:30:07.598399 SIEGn.DE  ric_i: 1  headline_slice_i: 18  headline_number: 100  not null: 99 2020-02-28 03:52:52.531000+00:00\n",
      "\n",
      "is_this_ric_in_all: True   up_to_date_ric: 2020-02-20 11:35:24.298000+00:00 news_get_df.shape: 100\n",
      "0; 1; 2; 3; 4; 5; 6; 7; 8; 9; 10; 11; 12; 13; 14; 15; 16; 17; 18; 19; 20; 21; 22; 23; 24; 25; 26; 27; 28; 29; 30; 31; 32; 33; 34; 35; 36; 37; 38; 39; 40; 41; 42; 43; 44; \n",
      "STORY IS OK: False   ric_now: SIEGn.DE   ric_i: 1   story_i: 45\n",
      "46; 47; 48; 49; 50; 51; 52; 53; 54; 55; 56; 57; 58; 59; 60; 61; 62; 63; \n",
      "STORY IS OK: False   ric_now: SIEGn.DE   ric_i: 1   story_i: 64\n",
      "65; 66; 67; 68; 69; 70; 71; 72; 73; 74; 75; 76; 77; 78; 79; 80; 81; 82; 83; 84; 85; 86; 87; 88; 89; 90; 91; 92; 93; 94; 95; 96; 97; 98; 99; \n",
      "2020-12-30 01:33:49.956869 SIEGn.DE  ric_i: 1  headline_slice_i: 19  headline_number: 100  not null: 98 2020-02-20 11:35:24.298000+00:00\n",
      "\n",
      "is_this_ric_in_all: True   up_to_date_ric: 2020-02-17 12:01:05.633000+00:00 news_get_df.shape: 100\n",
      "0; 1; 2; 3; 4; 5; 6; 7; 8; 9; 10; 11; 12; 13; 14; 15; 16; 17; 18; 19; 20; 21; 22; 23; 24; 25; 26; 27; 28; 29; 30; 31; 32; 33; 34; 35; 36; 37; 38; 39; 40; 41; 42; 43; 44; 45; 46; 47; 48; 49; 50; 51; 52; 53; 54; 55; 56; 57; 58; 59; 60; 61; 62; 63; 64; 65; 66; 67; 68; 69; 70; 71; 72; 73; 74; 75; 76; 77; 78; 79; 80; 81; 82; 83; 84; 85; 86; 87; 88; 89; 90; 91; 92; 93; 94; 95; 96; 97; 98; 99; \n",
      "2020-12-30 01:37:24.143964 SIEGn.DE  ric_i: 1  headline_slice_i: 20  headline_number: 100  not null: 100 2020-02-17 12:01:05.633000+00:00\n",
      "\n",
      "is_this_ric_in_all: True   up_to_date_ric: 2020-02-12 11:51:01.877000+00:00 news_get_df.shape: 100\n",
      "0; 1; 2; 3; 4; 5; 6; 7; 8; 9; 10; 11; 12; 13; 14; 15; 16; 17; 18; 19; 20; 21; 22; 23; 24; 25; 26; 27; 28; 29; 30; 31; 32; 33; 34; 35; 36; 37; 38; 39; 40; 41; 42; 43; 44; 45; 46; 47; 48; 49; 50; 51; 52; 53; 54; 55; 56; 57; 58; 59; 60; 61; 62; 63; 64; 65; 66; 67; 68; 69; 70; 71; 72; 73; 74; 75; 76; 77; 78; 79; 80; 81; 82; 83; 84; 85; 86; 87; 88; 89; 90; 91; 92; 93; 94; 95; 96; 97; 98; 99; \n",
      "2020-12-30 01:40:06.874141 SIEGn.DE  ric_i: 1  headline_slice_i: 21  headline_number: 100  not null: 100 2020-02-12 11:51:01.877000+00:00\n",
      "\n",
      "is_this_ric_in_all: True   up_to_date_ric: 2020-02-06 16:18:45+00:00 news_get_df.shape: 100\n",
      "0; 1; 2; 3; 4; 5; 6; 7; 8; 9; 10; 11; 12; 13; 14; 15; 16; 17; 18; 19; 20; 21; 22; 23; 24; 25; 26; 27; 28; 29; 30; 31; 32; 33; 34; 35; 36; 37; 38; 39; 40; 41; 42; 43; 44; 45; 46; 47; 48; 49; 50; 51; 52; 53; 54; 55; 56; 57; 58; 59; 60; 61; 62; 63; 64; 65; 66; 67; 68; 69; 70; 71; 72; 73; 74; 75; 76; 77; 78; 79; 80; 81; 82; 83; 84; 85; 86; 87; 88; 89; 90; 91; 92; 93; 94; 95; 96; 97; 98; 99; \n",
      "2020-12-30 01:43:21.637505 SIEGn.DE  ric_i: 1  headline_slice_i: 22  headline_number: 100  not null: 100 2020-02-06 16:18:45+00:00\n",
      "\n",
      "is_this_ric_in_all: True   up_to_date_ric: 2020-02-05 08:02:43.706000+00:00 news_get_df.shape: 100\n",
      "0; 1; 2; 3; 4; 5; 6; 7; 8; 9; 10; 11; 12; 13; 14; 15; 16; 17; 18; 19; 20; 21; 22; 23; 24; 25; 26; 27; 28; 29; 30; 31; 32; 33; 34; 35; 36; 37; 38; 39; 40; 41; 42; 43; 44; 45; 46; 47; 48; 49; 50; 51; 52; 53; 54; 55; 56; 57; 58; 59; 60; 61; 62; 63; 64; 65; 66; 67; 68; 69; 70; 71; 72; 73; 74; 75; 76; 77; 78; 79; 80; 81; 82; 83; 84; 85; 86; 87; 88; 89; 90; 91; 92; 93; 94; 95; 96; 97; 98; 99; \n",
      "2020-12-30 01:47:12.891559 SIEGn.DE  ric_i: 1  headline_slice_i: 23  headline_number: 100  not null: 100 2020-02-05 08:02:43.706000+00:00\n",
      "\n",
      "is_this_ric_in_all: True   up_to_date_ric: 2020-02-04 17:29:02.654000+00:00 news_get_df.shape: 100\n",
      "0; 1; 2; 3; 4; 5; 6; 7; 8; 9; 10; 11; 12; 13; 14; 15; 16; 17; 18; 19; 20; 21; 22; 23; 24; 25; 26; 27; 28; 29; 30; 31; 32; 33; 34; 35; 36; 37; 38; 39; 40; 41; 42; \n",
      "STORY IS OK: False   ric_now: SIEGn.DE   ric_i: 1   story_i: 43\n",
      "44; 45; 46; 47; 48; 49; 50; 51; 52; 53; 54; 55; 56; 57; 58; 59; 60; 61; 62; 63; 64; 65; 66; 67; 68; 69; 70; 71; 72; 73; 74; 75; 76; 77; 78; 79; 80; 81; 82; 83; 84; 85; 86; 87; 88; 89; 90; 91; 92; 93; 94; \n",
      "STORY IS OK: False   ric_now: SIEGn.DE   ric_i: 1   story_i: 95\n",
      "96; 97; 98; 99; \n",
      "2020-12-30 01:50:30.825938 SIEGn.DE  ric_i: 1  headline_slice_i: 24  headline_number: 100  not null: 98 2020-02-04 17:29:02.654000+00:00\n",
      "\n",
      "is_this_ric_in_all: True   up_to_date_ric: 2020-01-31 17:48:45.551000+00:00 news_get_df.shape: 100\n",
      "0; 1; 2; 3; \n",
      "STORY IS OK: False   ric_now: SIEGn.DE   ric_i: 1   story_i: 4\n",
      "5; 6; 7; 8; 9; 10; 11; 12; 13; 14; 15; 16; 17; 18; 19; 20; 21; 22; 23; 24; 25; 26; \n",
      "STORY IS OK: False   ric_now: SIEGn.DE   ric_i: 1   story_i: 27\n",
      "28; 29; 30; 31; 32; 33; 34; 35; 36; 37; 38; 39; 40; 41; 42; 43; 44; 45; 46; 47; 48; 49; 50; 51; 52; 53; 54; 55; 56; 57; 58; 59; 60; 61; 62; 63; 64; 65; 66; 67; 68; 69; 70; 71; 72; 73; 74; 75; 76; 77; 78; 79; 80; 81; 82; 83; 84; 85; 86; 87; 88; 89; 90; 91; 92; 93; 94; 95; 96; 97; 98; 99; \n",
      "2020-12-30 01:53:54.416861 SIEGn.DE  ric_i: 1  headline_slice_i: 25  headline_number: 100  not null: 98 2020-01-31 17:48:45.551000+00:00\n",
      "\n",
      "is_this_ric_in_all: True   up_to_date_ric: 2020-01-27 10:51:39.976000+00:00 news_get_df.shape: 100\n",
      "0; 1; 2; 3; 4; 5; 6; 7; 8; 9; 10; 11; 12; 13; 14; 15; 16; 17; 18; 19; 20; 21; 22; 23; 24; 25; 26; 27; 28; 29; 30; 31; 32; 33; 34; 35; 36; 37; 38; 39; 40; 41; 42; \n",
      "STORY IS OK: False   ric_now: SIEGn.DE   ric_i: 1   story_i: 43\n",
      "44; 45; 46; 47; 48; 49; 50; 51; 52; 53; 54; 55; 56; 57; 58; 59; 60; 61; \n",
      "STORY IS OK: False   ric_now: SIEGn.DE   ric_i: 1   story_i: 62\n",
      "63; 64; 65; 66; 67; 68; 69; 70; 71; 72; 73; 74; 75; 76; 77; 78; 79; 80; 81; 82; 83; 84; 85; 86; 87; 88; 89; 90; 91; 92; 93; 94; 95; 96; 97; 98; 99; \n",
      "2020-12-30 01:57:32.227033 SIEGn.DE  ric_i: 1  headline_slice_i: 26  headline_number: 100  not null: 98 2020-01-27 10:51:39.976000+00:00\n",
      "\n",
      "is_this_ric_in_all: True   up_to_date_ric: 2020-01-21 17:12:30.169000+00:00 news_get_df.shape: 100\n",
      "0; 1; 2; 3; 4; 5; 6; 7; 8; 9; 10; 11; 12; 13; 14; 15; 16; 17; 18; 19; 20; 21; 22; 23; 24; 25; 26; 27; 28; 29; 30; 31; 32; 33; 34; 35; 36; 37; 38; 39; 40; 41; 42; 43; 44; 45; 46; 47; 48; 49; 50; 51; 52; 53; 54; 55; 56; 57; 58; 59; 60; 61; 62; 63; 64; 65; 66; 67; 68; 69; 70; 71; 72; 73; 74; 75; 76; 77; 78; 79; 80; 81; 82; 83; 84; 85; 86; 87; 88; 89; 90; 91; 92; 93; 94; 95; 96; 97; 98; 99; \n",
      "2020-12-30 02:00:43.537448 SIEGn.DE  ric_i: 1  headline_slice_i: 27  headline_number: 100  not null: 100 2020-01-21 17:12:30.169000+00:00\n",
      "\n",
      "is_this_ric_in_all: True   up_to_date_ric: 2020-01-14 10:03:51.145000+00:00 news_get_df.shape: 100\n",
      "0; 1; 2; 3; 4; 5; 6; 7; 8; 9; 10; 11; \n",
      "STORY IS OK: False   ric_now: SIEGn.DE   ric_i: 1   story_i: 12\n",
      "13; 14; 15; 16; 17; 18; 19; 20; 21; 22; 23; 24; 25; 26; 27; 28; 29; 30; 31; 32; 33; 34; 35; 36; 37; 38; 39; 40; 41; 42; 43; 44; 45; 46; 47; 48; 49; 50; 51; 52; 53; 54; 55; 56; 57; 58; 59; 60; 61; 62; 63; 64; 65; 66; 67; 68; 69; 70; 71; 72; 73; 74; 75; 76; 77; 78; 79; 80; 81; 82; 83; 84; 85; 86; 87; 88; 89; 90; 91; 92; 93; 94; 95; 96; 97; 98; 99; \n",
      "2020-12-30 02:04:18.075482 SIEGn.DE  ric_i: 1  headline_slice_i: 28  headline_number: 100  not null: 99 2020-01-14 10:03:51.145000+00:00\n",
      "\n",
      "is_this_ric_in_all: True   up_to_date_ric: 2020-01-10 16:43:43.272000+00:00 news_get_df.shape: 100\n",
      "0; 1; 2; 3; 4; 5; 6; 7; 8; 9; 10; 11; 12; 13; 14; 15; 16; 17; \n",
      "STORY IS OK: False   ric_now: SIEGn.DE   ric_i: 1   story_i: 18\n",
      "19; 20; 21; 22; 23; 24; 25; 26; 27; 28; 29; 30; 31; 32; 33; 34; 35; 36; 37; 38; 39; 40; 41; 42; 43; 44; 45; 46; 47; 48; 49; 50; 51; 52; 53; 54; 55; 56; 57; 58; 59; 60; 61; 62; 63; 64; 65; 66; 67; 68; 69; 70; 71; 72; 73; 74; 75; 76; 77; 78; 79; 80; 81; 82; 83; 84; 85; 86; 87; 88; 89; 90; 91; 92; 93; 94; 95; 96; 97; 98; 99; \n",
      "2020-12-30 02:08:02.682781 SIEGn.DE  ric_i: 1  headline_slice_i: 29  headline_number: 100  not null: 99 2020-01-10 16:43:43.272000+00:00\n",
      "\n",
      "is_this_ric_in_all: True   up_to_date_ric: 2020-01-07 23:09:29+00:00 news_get_df.shape: 100\n",
      "0; 1; 2; 3; 4; 5; 6; 7; 8; 9; 10; 11; 12; 13; 14; 15; 16; 17; 18; 19; 20; 21; 22; 23; \n",
      "STORY IS OK: False   ric_now: SIEGn.DE   ric_i: 1   story_i: 24\n",
      "25; 26; 27; 28; 29; 30; 31; 32; 33; 34; 35; 36; 37; 38; 39; 40; 41; 42; 43; 44; 45; 46; 47; 48; 49; 50; 51; 52; 53; 54; 55; 56; 57; 58; 59; 60; 61; 62; 63; 64; 65; 66; 67; 68; 69; 70; 71; 72; 73; 74; 75; 76; 77; 78; 79; 80; 81; 82; 83; 84; 85; 86; \n",
      "STORY IS OK: False   ric_now: SIEGn.DE   ric_i: 1   story_i: 87\n",
      "88; 89; 90; 91; 92; 93; 94; 95; 96; 97; 98; 99; \n",
      "2020-12-30 02:11:24.455435 SIEGn.DE  ric_i: 1  headline_slice_i: 30  headline_number: 100  not null: 98 2020-01-07 23:09:29+00:00\n",
      "\n",
      "is_this_ric_in_all: True   up_to_date_ric: 2019-12-27 17:11:25.211000+00:00 news_get_df.shape: 100\n",
      "0; 1; 2; 3; 4; 5; 6; 7; 8; 9; 10; 11; 12; 13; 14; 15; 16; 17; 18; 19; 20; 21; 22; 23; 24; 25; \n",
      "STORY IS OK: False   ric_now: SIEGn.DE   ric_i: 1   story_i: 26\n",
      "27; 28; 29; 30; 31; 32; 33; 34; 35; 36; 37; 38; 39; 40; 41; 42; 43; 44; 45; 46; 47; 48; 49; 50; 51; 52; 53; 54; 55; 56; 57; 58; 59; 60; 61; 62; 63; 64; 65; 66; 67; 68; 69; 70; 71; 72; 73; 74; 75; 76; 77; 78; 79; \n",
      "STORY IS OK: False   ric_now: SIEGn.DE   ric_i: 1   story_i: 80\n",
      "81; 82; 83; 84; 85; 86; 87; 88; 89; 90; 91; 92; 93; 94; 95; 96; 97; 98; 99; \n",
      "2020-12-30 02:14:30.311774 SIEGn.DE  ric_i: 1  headline_slice_i: 31  headline_number: 100  not null: 98 2019-12-27 17:11:25.211000+00:00\n",
      "\n",
      "is_this_ric_in_all: True   up_to_date_ric: 2019-12-16 12:48:56+00:00 news_get_df.shape: 100\n",
      "0; 1; 2; 3; 4; 5; 6; 7; 8; 9; 10; 11; 12; 13; 14; 15; 16; 17; 18; 19; 20; 21; 22; 23; 24; 25; 26; 27; 28; 29; 30; 31; 32; 33; 34; 35; 36; 37; 38; 39; 40; 41; 42; 43; 44; 45; 46; 47; 48; 49; 50; 51; 52; 53; 54; 55; 56; 57; 58; 59; 60; 61; 62; 63; 64; 65; 66; 67; 68; 69; 70; 71; 72; 73; 74; 75; 76; 77; 78; 79; 80; 81; 82; 83; 84; 85; 86; 87; 88; 89; 90; 91; 92; 93; 94; 95; 96; 97; 98; 99; \n",
      "2020-12-30 02:17:35.224496 SIEGn.DE  ric_i: 1  headline_slice_i: 32  headline_number: 100  not null: 100 2019-12-16 12:48:56+00:00\n",
      "\n",
      "is_this_ric_in_all: True   up_to_date_ric: 2019-12-10 11:37:58+00:00 news_get_df.shape: 100\n",
      "0; 1; 2; 3; 4; 5; 6; 7; 8; 9; 10; 11; 12; 13; 14; 15; 16; 17; 18; 19; 20; 21; 22; 23; 24; 25; 26; 27; 28; 29; 30; 31; 32; 33; 34; 35; 36; 37; 38; 39; 40; 41; 42; 43; 44; 45; 46; 47; 48; 49; 50; 51; 52; 53; 54; 55; 56; 57; 58; 59; 60; 61; 62; 63; 64; 65; 66; 67; 68; 69; 70; 71; 72; 73; 74; 75; 76; 77; 78; 79; 80; 81; 82; 83; 84; 85; 86; 87; 88; 89; 90; 91; 92; 93; 94; 95; 96; 97; 98; 99; \n",
      "2020-12-30 02:20:57.302356 SIEGn.DE  ric_i: 1  headline_slice_i: 33  headline_number: 100  not null: 100 2019-12-10 11:37:58+00:00\n",
      "\n",
      "is_this_ric_in_all: True   up_to_date_ric: 2019-12-05 08:11:49.097000+00:00 news_get_df.shape: 100\n",
      "0; 1; 2; 3; 4; 5; 6; 7; 8; 9; 10; 11; 12; 13; 14; 15; 16; 17; 18; 19; 20; 21; 22; 23; 24; 25; 26; 27; 28; 29; 30; 31; 32; 33; 34; 35; 36; 37; 38; 39; 40; 41; 42; 43; 44; 45; 46; 47; 48; 49; 50; 51; 52; 53; 54; 55; 56; 57; 58; 59; 60; 61; 62; 63; 64; 65; 66; 67; 68; 69; 70; 71; 72; 73; 74; 75; 76; 77; 78; 79; 80; 81; 82; 83; 84; 85; 86; 87; 88; 89; 90; 91; 92; 93; 94; 95; 96; 97; 98; 99; \n",
      "2020-12-30 02:24:10.361720 SIEGn.DE  ric_i: 1  headline_slice_i: 34  headline_number: 100  not null: 100 2019-12-05 08:11:49.097000+00:00\n",
      "\n",
      "is_this_ric_in_all: True   up_to_date_ric: 2019-11-29 15:31:55.022000+00:00 news_get_df.shape: 100\n",
      "0; 1; 2; 3; 4; 5; 6; 7; 8; 9; 10; 11; 12; 13; 14; 15; 16; 17; 18; 19; 20; 21; 22; 23; 24; 25; 26; 27; 28; 29; 30; 31; 32; 33; 34; 35; 36; 37; 38; 39; 40; 41; 42; 43; 44; 45; 46; 47; 48; 49; 50; 51; 52; 53; 54; 55; 56; 57; 58; 59; 60; 61; 62; 63; 64; 65; 66; 67; 68; 69; 70; 71; 72; 73; 74; 75; 76; 77; 78; 79; 80; 81; 82; 83; 84; 85; 86; 87; 88; 89; 90; 91; 92; 93; 94; 95; 96; 97; 98; 99; \n",
      "2020-12-30 02:27:12.126205 SIEGn.DE  ric_i: 1  headline_slice_i: 35  headline_number: 100  not null: 100 2019-11-29 15:31:55.022000+00:00\n",
      "\n",
      "is_this_ric_in_all: True   up_to_date_ric: 2019-11-25 18:15:30+00:00 news_get_df.shape: 100\n",
      "0; 1; 2; 3; 4; 5; 6; 7; 8; 9; 10; 11; 12; 13; 14; 15; 16; 17; 18; 19; 20; 21; 22; 23; 24; 25; 26; 27; 28; 29; 30; 31; 32; 33; 34; 35; 36; 37; 38; 39; 40; 41; 42; 43; 44; 45; 46; 47; 48; 49; 50; 51; 52; 53; 54; 55; 56; 57; 58; 59; 60; 61; 62; 63; 64; 65; 66; 67; 68; 69; 70; 71; 72; 73; 74; 75; 76; 77; 78; 79; 80; 81; 82; 83; 84; 85; 86; 87; 88; 89; 90; 91; 92; 93; 94; 95; 96; 97; 98; 99; \n",
      "2020-12-30 02:29:53.911857 SIEGn.DE  ric_i: 1  headline_slice_i: 36  headline_number: 100  not null: 100 2019-11-25 18:15:30+00:00\n",
      "\n",
      "is_this_ric_in_all: True   up_to_date_ric: 2019-11-19 17:22:20.877000+00:00 news_get_df.shape: 100\n",
      "0; 1; 2; 3; 4; 5; 6; 7; 8; 9; 10; 11; 12; 13; 14; 15; 16; 17; 18; 19; 20; 21; 22; 23; 24; 25; 26; 27; 28; 29; 30; 31; 32; 33; 34; 35; 36; 37; 38; 39; 40; 41; 42; 43; 44; 45; 46; 47; 48; 49; 50; 51; 52; 53; 54; 55; 56; 57; 58; 59; 60; 61; 62; 63; 64; 65; 66; 67; 68; 69; 70; 71; 72; 73; 74; 75; 76; 77; 78; 79; 80; 81; 82; 83; 84; 85; 86; 87; 88; 89; 90; 91; 92; 93; 94; 95; 96; 97; 98; 99; \n",
      "2020-12-30 02:33:28.165895 SIEGn.DE  ric_i: 1  headline_slice_i: 37  headline_number: 100  not null: 100 2019-11-19 17:22:20.877000+00:00\n",
      "\n",
      "is_this_ric_in_all: True   up_to_date_ric: 2019-11-13 23:51:10.910000+00:00 news_get_df.shape: 100\n",
      "0; 1; 2; 3; 4; 5; 6; 7; 8; 9; 10; 11; 12; 13; 14; 15; 16; 17; 18; 19; 20; 21; 22; 23; 24; 25; 26; 27; 28; 29; 30; 31; 32; 33; 34; 35; 36; 37; 38; 39; 40; 41; 42; 43; 44; 45; 46; 47; 48; 49; 50; 51; 52; 53; 54; 55; 56; 57; 58; 59; 60; 61; 62; 63; 64; 65; 66; 67; 68; 69; 70; 71; 72; 73; 74; 75; 76; 77; 78; 79; 80; \n",
      "STORY IS OK: False   ric_now: SIEGn.DE   ric_i: 1   story_i: 81\n",
      "82; 83; 84; 85; 86; 87; 88; 89; 90; 91; 92; 93; 94; 95; 96; 97; 98; 99; \n",
      "2020-12-30 02:37:04.505152 SIEGn.DE  ric_i: 1  headline_slice_i: 38  headline_number: 100  not null: 99 2019-11-13 23:51:10.910000+00:00\n",
      "\n",
      "is_this_ric_in_all: True   up_to_date_ric: 2019-11-11 06:17:06+00:00 news_get_df.shape: 100\n",
      "0; 1; 2; 3; 4; 5; 6; 7; 8; 9; 10; 11; 12; 13; 14; 15; 16; 17; 18; 19; 20; 21; 22; 23; 24; 25; 26; 27; 28; 29; 30; 31; 32; 33; 34; 35; 36; 37; 38; 39; 40; 41; 42; 43; 44; 45; 46; 47; 48; 49; 50; 51; 52; 53; 54; 55; 56; 57; 58; 59; 60; 61; 62; 63; 64; 65; 66; 67; 68; 69; 70; 71; 72; 73; 74; 75; 76; 77; 78; 79; 80; 81; 82; 83; 84; 85; 86; 87; 88; 89; 90; 91; 92; 93; 94; 95; 96; 97; 98; 99; \n",
      "2020-12-30 02:40:50.140016 SIEGn.DE  ric_i: 1  headline_slice_i: 39  headline_number: 100  not null: 100 2019-11-11 06:17:06+00:00\n",
      "\n",
      "is_this_ric_in_all: True   up_to_date_ric: 2019-11-07 06:54:23.116000+00:00 news_get_df.shape: 100\n",
      "0; 1; 2; 3; 4; 5; 6; 7; 8; 9; 10; 11; 12; 13; 14; 15; 16; 17; 18; 19; 20; 21; 22; 23; 24; 25; 26; 27; 28; 29; 30; 31; 32; 33; 34; 35; 36; 37; 38; 39; 40; 41; 42; 43; 44; 45; 46; 47; 48; 49; 50; 51; 52; 53; 54; 55; 56; 57; 58; 59; 60; 61; 62; 63; 64; 65; 66; 67; 68; 69; 70; 71; 72; 73; 74; 75; 76; 77; 78; 79; 80; 81; 82; 83; 84; 85; 86; 87; 88; 89; 90; 91; 92; 93; 94; 95; 96; 97; 98; 99; \n",
      "2020-12-30 02:45:24.377184 SIEGn.DE  ric_i: 1  headline_slice_i: 40  headline_number: 100  not null: 100 2019-11-07 06:54:23.116000+00:00\n",
      "\n",
      "is_this_ric_in_all: True   up_to_date_ric: 2019-11-05 16:02:18.425000+00:00 news_get_df.shape: 100\n",
      "0; 1; 2; 3; 4; 5; 6; 7; 8; 9; 10; 11; 12; 13; 14; 15; 16; 17; 18; 19; 20; 21; 22; 23; 24; 25; 26; 27; 28; 29; 30; 31; 32; 33; 34; 35; 36; 37; 38; 39; 40; 41; 42; 43; 44; 45; 46; 47; 48; 49; 50; 51; 52; 53; 54; 55; 56; 57; 58; 59; 60; 61; 62; 63; 64; 65; 66; 67; 68; 69; 70; 71; 72; 73; 74; 75; 76; 77; 78; 79; 80; 81; 82; 83; 84; 85; \n",
      "STORY IS OK: False   ric_now: SIEGn.DE   ric_i: 1   story_i: 86\n",
      "87; 88; 89; 90; 91; 92; 93; 94; 95; 96; 97; 98; 99; \n",
      "2020-12-30 02:48:44.795415 SIEGn.DE  ric_i: 1  headline_slice_i: 41  headline_number: 100  not null: 99 2019-11-05 16:02:18.425000+00:00\n",
      "\n",
      "is_this_ric_in_all: True   up_to_date_ric: 2019-10-31 17:06:01.555000+00:00 news_get_df.shape: 100\n",
      "0; 1; 2; 3; 4; 5; 6; 7; 8; 9; 10; 11; 12; 13; 14; 15; 16; 17; 18; 19; 20; 21; 22; 23; 24; 25; 26; 27; 28; 29; 30; 31; 32; 33; 34; 35; 36; 37; 38; 39; 40; 41; 42; 43; 44; 45; 46; 47; 48; 49; 50; 51; 52; 53; 54; 55; 56; 57; 58; 59; 60; 61; 62; 63; 64; 65; 66; 67; 68; 69; 70; 71; 72; 73; 74; 75; 76; 77; 78; 79; 80; 81; 82; 83; 84; 85; 86; 87; 88; 89; 90; 91; 92; 93; 94; 95; 96; 97; 98; 99; \n",
      "2020-12-30 02:51:48.537750 SIEGn.DE  ric_i: 1  headline_slice_i: 42  headline_number: 100  not null: 100 2019-10-31 17:06:01.555000+00:00\n",
      "\n",
      "is_this_ric_in_all: True   up_to_date_ric: 2019-10-24 20:04:07.140000+00:00 news_get_df.shape: 100\n",
      "0; 1; 2; 3; 4; 5; 6; 7; 8; 9; 10; 11; 12; 13; 14; 15; 16; 17; 18; 19; 20; 21; 22; 23; 24; 25; 26; 27; 28; 29; 30; 31; 32; 33; 34; 35; 36; 37; 38; 39; 40; 41; 42; 43; 44; 45; 46; 47; 48; 49; 50; 51; 52; 53; 54; 55; 56; 57; 58; 59; 60; 61; 62; 63; 64; 65; 66; 67; 68; 69; 70; 71; 72; 73; 74; 75; \n",
      "STORY IS OK: False   ric_now: SIEGn.DE   ric_i: 1   story_i: 76\n",
      "77; 78; 79; 80; 81; 82; 83; 84; 85; 86; 87; 88; 89; 90; 91; 92; 93; 94; 95; 96; 97; 98; 99; \n",
      "2020-12-30 02:55:31.362953 SIEGn.DE  ric_i: 1  headline_slice_i: 43  headline_number: 100  not null: 99 2019-10-24 20:04:07.140000+00:00\n",
      "\n",
      "is_this_ric_in_all: True   up_to_date_ric: 2019-10-21 09:45:47.217000+00:00 news_get_df.shape: 100\n",
      "0; 1; 2; 3; 4; 5; 6; 7; 8; 9; 10; 11; 12; 13; 14; 15; 16; 17; 18; 19; 20; 21; 22; 23; 24; 25; 26; 27; 28; 29; 30; 31; 32; 33; 34; 35; 36; 37; 38; 39; 40; 41; 42; 43; 44; 45; 46; 47; 48; 49; 50; 51; 52; 53; 54; 55; 56; 57; 58; 59; 60; 61; 62; 63; 64; 65; 66; 67; 68; 69; 70; 71; 72; 73; 74; 75; 76; 77; 78; 79; 80; 81; 82; 83; 84; 85; 86; 87; 88; 89; 90; 91; 92; 93; 94; 95; 96; 97; 98; 99; \n",
      "2020-12-30 02:58:41.296732 SIEGn.DE  ric_i: 1  headline_slice_i: 44  headline_number: 100  not null: 100 2019-10-21 09:45:47.217000+00:00\n",
      "\n",
      "is_this_ric_in_all: True   up_to_date_ric: 2019-10-16 07:43:08.392000+00:00 news_get_df.shape: 100\n",
      "0; 1; 2; 3; 4; 5; 6; 7; 8; 9; 10; 11; 12; 13; 14; 15; 16; 17; 18; 19; 20; 21; 22; 23; 24; 25; 26; 27; 28; 29; 30; 31; 32; 33; 34; 35; 36; 37; 38; 39; 40; 41; 42; 43; 44; 45; 46; 47; 48; 49; 50; 51; 52; 53; 54; 55; 56; 57; 58; 59; 60; 61; 62; 63; 64; 65; 66; 67; 68; 69; 70; 71; 72; 73; 74; 75; 76; 77; 78; 79; 80; 81; 82; 83; 84; 85; 86; 87; 88; 89; 90; 91; 92; 93; 94; 95; 96; 97; 98; 99; \n",
      "2020-12-30 03:01:45.062675 SIEGn.DE  ric_i: 1  headline_slice_i: 45  headline_number: 100  not null: 100 2019-10-16 07:43:08.392000+00:00\n",
      "\n",
      "is_this_ric_in_all: True   up_to_date_ric: 2019-10-08 13:03:24+00:00 news_get_df.shape: 100\n",
      "0; 1; 2; 3; 4; 5; 6; 7; 8; 9; 10; 11; 12; 13; 14; 15; 16; 17; 18; 19; 20; 21; 22; 23; 24; 25; 26; 27; 28; 29; 30; 31; 32; 33; 34; 35; 36; 37; 38; 39; 40; 41; 42; 43; 44; 45; 46; 47; 48; 49; 50; 51; 52; 53; 54; 55; 56; 57; 58; 59; 60; 61; 62; 63; 64; 65; 66; 67; 68; 69; 70; 71; 72; 73; 74; 75; 76; 77; 78; 79; 80; 81; 82; 83; 84; 85; 86; \n",
      "STORY IS OK: False   ric_now: SIEGn.DE   ric_i: 1   story_i: 87\n",
      "88; 89; 90; 91; 92; 93; \n",
      "STORY IS OK: False   ric_now: SIEGn.DE   ric_i: 1   story_i: 94\n",
      "95; 96; 97; 98; 99; \n",
      "2020-12-30 03:06:01.942257 SIEGn.DE  ric_i: 1  headline_slice_i: 46  headline_number: 100  not null: 98 2019-10-08 13:03:24+00:00\n",
      "\n",
      "is_this_ric_in_all: True   up_to_date_ric: 2019-10-03 13:10:26.486000+00:00 news_get_df.shape: 100\n",
      "0; 1; 2; 3; 4; 5; 6; 7; 8; 9; 10; 11; 12; 13; 14; 15; 16; 17; 18; 19; 20; 21; 22; 23; 24; 25; 26; 27; 28; 29; 30; \n",
      "STORY IS OK: False   ric_now: SIEGn.DE   ric_i: 1   story_i: 31\n",
      "32; 33; 34; 35; 36; \n",
      "STORY IS OK: False   ric_now: SIEGn.DE   ric_i: 1   story_i: 37\n",
      "38; 39; 40; 41; 42; 43; 44; 45; 46; 47; 48; 49; 50; 51; 52; 53; 54; 55; 56; 57; 58; 59; 60; 61; 62; 63; 64; 65; 66; 67; 68; 69; 70; 71; 72; 73; 74; 75; 76; 77; 78; 79; 80; 81; 82; 83; 84; 85; 86; 87; 88; 89; 90; 91; 92; 93; 94; 95; 96; 97; 98; 99; \n",
      "2020-12-30 03:09:50.497917 SIEGn.DE  ric_i: 1  headline_slice_i: 47  headline_number: 100  not null: 98 2019-10-03 13:10:26.486000+00:00\n",
      "\n",
      "is_this_ric_in_all: True   up_to_date_ric: 2019-09-30 15:19:19+00:00 news_get_df.shape: 16\n",
      "\n",
      "STORY IS OK: False   ric_now: SIEGn.DE   ric_i: 1   story_i: 0\n",
      "1; 2; 3; 4; 5; 6; 7; 8; 9; 10; 11; 12; 13; 14; 15; \n",
      "2020-12-30 03:10:28.997818 SIEGn.DE  ric_i: 1  headline_slice_i: 48  headline_number: 16  not null: 15 2019-09-30 15:19:19+00:00\n",
      "C:/DAN/t_systems/trade_project/logger/quasi_logger_2020-12-30_v2.csv\n",
      "C:/DAN/t_systems/trade_project/backup_headlines/all_headlines_df_2020-12-30_v2.csv\n",
      "2 ALVG.DE\n",
      "\n",
      "is_this_ric_in_all: False   up_to_date_ric: None news_get_df.shape: 100\n",
      "0; 1; 2; 3; 4; 5; 6; 7; 8; 9; 10; 11; 12; \n",
      "STORY IS OK: False   ric_now: ALVG.DE   ric_i: 2   story_i: 13\n",
      "14; 15; 16; 17; 18; 19; 20; 21; 22; 23; 24; 25; 26; 27; 28; 29; 30; 31; 32; 33; 34; 35; 36; 37; 38; 39; 40; 41; 42; 43; 44; 45; 46; 47; 48; 49; 50; 51; 52; 53; 54; 55; 56; 57; 58; 59; 60; 61; 62; 63; 64; 65; 66; 67; 68; 69; 70; 71; 72; 73; 74; 75; 76; 77; 78; 79; 80; 81; 82; 83; 84; 85; 86; 87; 88; 89; 90; 91; 92; 93; 94; 95; 96; 97; 98; 99; \n",
      "2020-12-30 03:14:24.331921 ALVG.DE  ric_i: 2  headline_slice_i: 1  headline_number: 100  not null: 99 None\n",
      "\n",
      "is_this_ric_in_all: True   up_to_date_ric: 2020-12-11 20:03:46.102000+00:00 news_get_df.shape: 100\n",
      "0; 1; 2; 3; 4; 5; 6; 7; 8; 9; 10; 11; 12; 13; 14; 15; 16; 17; 18; 19; 20; 21; 22; 23; 24; 25; 26; 27; 28; 29; 30; 31; 32; 33; 34; 35; 36; 37; 38; 39; 40; 41; 42; 43; 44; 45; 46; 47; 48; 49; 50; 51; 52; 53; 54; 55; 56; 57; 58; 59; 60; 61; 62; 63; 64; 65; 66; 67; 68; 69; 70; 71; 72; 73; 74; 75; 76; 77; 78; 79; 80; 81; 82; 83; 84; 85; 86; 87; 88; 89; 90; 91; 92; 93; 94; 95; 96; 97; 98; 99; \n",
      "2020-12-30 03:18:12.360068 ALVG.DE  ric_i: 2  headline_slice_i: 2  headline_number: 100  not null: 100 2020-12-11 20:03:46.102000+00:00\n",
      "\n",
      "is_this_ric_in_all: True   up_to_date_ric: 2020-12-02 07:46:06+00:00 news_get_df.shape: 100\n",
      "0; 1; 2; 3; 4; 5; 6; 7; 8; 9; 10; 11; 12; 13; 14; 15; 16; 17; 18; 19; 20; 21; 22; 23; 24; 25; 26; 27; 28; 29; 30; 31; 32; 33; 34; 35; 36; 37; 38; 39; 40; 41; 42; 43; 44; 45; 46; 47; 48; 49; 50; 51; 52; 53; 54; 55; 56; 57; 58; \n",
      "STORY IS OK: False   ric_now: ALVG.DE   ric_i: 2   story_i: 59\n",
      "60; 61; 62; 63; 64; 65; 66; 67; 68; 69; 70; 71; 72; 73; 74; 75; 76; 77; 78; 79; 80; 81; 82; 83; 84; 85; 86; 87; 88; 89; 90; 91; 92; 93; 94; 95; 96; 97; 98; 99; \n",
      "2020-12-30 03:21:56.334184 ALVG.DE  ric_i: 2  headline_slice_i: 3  headline_number: 100  not null: 99 2020-12-02 07:46:06+00:00\n",
      "\n",
      "is_this_ric_in_all: True   up_to_date_ric: 2020-11-16 18:52:04.172000+00:00 news_get_df.shape: 100\n",
      "0; 1; 2; 3; 4; 5; 6; 7; 8; 9; 10; 11; 12; 13; 14; 15; 16; 17; 18; 19; 20; 21; 22; 23; 24; 25; 26; 27; 28; 29; 30; 31; 32; 33; 34; 35; 36; 37; 38; 39; 40; 41; 42; 43; 44; 45; 46; 47; 48; 49; 50; "
     ]
    },
    {
     "name": "stderr",
     "output_type": "stream",
     "text": [
      "2020-12-30 03:23:47,106 P[18872] [MainThread 7824] Error code 503 | Server Error: <html>\n",
      "<head>\n",
      "<title>Service unavailable</title>\n",
      "<style type=\"text/css\">\n",
      "body {\n",
      "  background-color: #242424;\n",
      "  color: #c8c7c7;\n",
      "  font-family: Calibri, Helvetica, Arial, sans-serif;\n",
      "  font-size: 16px;\n",
      "}\n",
      "</style>\n",
      "</head>\n",
      "<!-- Request\n",
      "Referer: (null)\n",
      "User-Agent: axios/0.19.2\n",
      "-->\n",
      "<!-- Beresponse\n",
      "Date: Wed, 30 Dec 2020 00:23:46 GMT\n",
      "HTTP Code: 503\n",
      "HTTP Beresponse: Backend fetch failed\n",
      "X-Varnish: 150083685\n",
      "Backend: AppServerCLD\n",
      "-->\n",
      "<body>\n",
      " <h1>Service unavailable</h1>\n",
      " <p>Service is not available right now, please retry later.</p>\n",
      "</body>\n",
      "</html>\n",
      "2020-12-30 03:23:47,107 P[18872] [MainThread 7824] HTTP request failed: EikonError-Server Error: <html>\n",
      "<head>\n",
      "<title>Service unavailable</title>\n",
      "<style type=\"text/css\">\n",
      "body {\n",
      "  background-color: #242424;\n",
      "  color: #c8c7c7;\n",
      "  font-family: Calibri, Helvetica, Arial, sans-serif;\n",
      "  font-size: 16px;\n",
      "}\n",
      "</style>\n",
      "</head>\n",
      "<!-- Request\n",
      "Referer: (null)\n",
      "User-Agent: axios/0.19.2\n",
      "-->\n",
      "<!-- Beresponse\n",
      "Date: Wed, 30 Dec 2020 00:23:46 GMT\n",
      "HTTP Code: 503\n",
      "HTTP Beresponse: Backend fetch failed\n",
      "X-Varnish: 150083685\n",
      "Backend: AppServerCLD\n",
      "-->\n",
      "<body>\n",
      " <h1>Service unavailable</h1>\n",
      " <p>Service is not available right now, please retry later.</p>\n",
      "</body>\n",
      "</html>\n"
     ]
    },
    {
     "name": "stdout",
     "output_type": "stream",
     "text": [
      "\n",
      "STORY IS OK: False   ric_now: ALVG.DE   ric_i: 2   story_i: 51\n",
      "52; 53; 54; 55; 56; 57; 58; 59; 60; 61; 62; 63; 64; 65; 66; 67; 68; 69; 70; 71; 72; 73; 74; 75; 76; 77; 78; 79; 80; 81; 82; 83; 84; 85; 86; 87; 88; 89; 90; 91; 92; 93; 94; 95; 96; 97; 98; 99; \n",
      "2020-12-30 03:25:41.870653 ALVG.DE  ric_i: 2  headline_slice_i: 4  headline_number: 100  not null: 99 2020-11-16 18:52:04.172000+00:00\n",
      "\n",
      "is_this_ric_in_all: True   up_to_date_ric: 2020-11-06 11:52:06.726000+00:00 news_get_df.shape: 100\n",
      "0; 1; 2; 3; 4; 5; 6; 7; 8; 9; 10; 11; 12; 13; 14; 15; 16; 17; 18; 19; 20; 21; 22; 23; 24; 25; 26; 27; 28; 29; 30; 31; 32; 33; 34; 35; 36; 37; 38; 39; 40; 41; 42; 43; 44; 45; 46; 47; 48; 49; 50; 51; 52; 53; 54; 55; 56; 57; 58; 59; 60; 61; 62; 63; 64; 65; 66; 67; 68; 69; 70; 71; 72; 73; 74; 75; 76; 77; 78; 79; 80; 81; 82; 83; 84; 85; 86; 87; 88; 89; 90; 91; 92; 93; 94; 95; 96; 97; 98; 99; \n",
      "2020-12-30 03:30:08.242010 ALVG.DE  ric_i: 2  headline_slice_i: 5  headline_number: 100  not null: 100 2020-11-06 11:52:06.726000+00:00\n",
      "\n",
      "is_this_ric_in_all: True   up_to_date_ric: 2020-11-03 09:30:00+00:00 news_get_df.shape: 100\n",
      "0; 1; 2; 3; 4; 5; 6; 7; 8; 9; 10; 11; 12; 13; 14; 15; 16; 17; 18; 19; 20; 21; 22; 23; 24; 25; 26; 27; \n",
      "STORY IS OK: False   ric_now: ALVG.DE   ric_i: 2   story_i: 28\n",
      "29; 30; 31; 32; 33; 34; 35; 36; 37; 38; 39; 40; 41; 42; 43; 44; 45; "
     ]
    },
    {
     "name": "stderr",
     "output_type": "stream",
     "text": [
      "2020-12-30 03:32:26,876 P[18872] [MainThread 7824] UDF Core request failed. Gateway Time-out\n",
      "2020-12-30 03:32:26,877 P[18872] [MainThread 7824] HTTP request failed: EikonError-UDF Core request failed. Gateway Time-out\n"
     ]
    },
    {
     "name": "stdout",
     "output_type": "stream",
     "text": [
      "\n",
      "STORY IS OK: False   ric_now: ALVG.DE   ric_i: 2   story_i: 46\n",
      "47; 48; 49; 50; 51; 52; 53; 54; 55; 56; 57; 58; 59; 60; 61; 62; 63; 64; 65; 66; 67; 68; 69; 70; 71; 72; 73; 74; 75; 76; 77; 78; 79; 80; 81; 82; 83; 84; 85; 86; 87; 88; 89; 90; 91; 92; 93; 94; 95; 96; 97; 98; 99; \n",
      "2020-12-30 03:34:18.154524 ALVG.DE  ric_i: 2  headline_slice_i: 6  headline_number: 100  not null: 98 2020-11-03 09:30:00+00:00\n",
      "\n",
      "is_this_ric_in_all: True   up_to_date_ric: 2020-10-26 09:53:52+00:00 news_get_df.shape: 100\n",
      "0; 1; 2; 3; 4; 5; 6; 7; 8; 9; 10; 11; 12; 13; 14; 15; 16; 17; 18; 19; 20; 21; 22; 23; 24; 25; 26; 27; 28; 29; 30; 31; 32; 33; 34; 35; 36; 37; 38; 39; 40; 41; 42; 43; 44; 45; 46; 47; 48; 49; 50; 51; 52; 53; 54; 55; 56; 57; 58; 59; 60; 61; 62; 63; 64; 65; 66; 67; 68; 69; 70; 71; 72; 73; 74; 75; 76; 77; 78; 79; 80; 81; 82; 83; 84; 85; 86; 87; 88; 89; 90; 91; 92; 93; 94; 95; 96; 97; 98; 99; \n",
      "2020-12-30 03:38:27.145626 ALVG.DE  ric_i: 2  headline_slice_i: 7  headline_number: 100  not null: 100 2020-10-26 09:53:52+00:00\n",
      "\n",
      "is_this_ric_in_all: True   up_to_date_ric: 2020-10-09 15:11:24+00:00 news_get_df.shape: 100\n",
      "0; 1; 2; 3; 4; 5; 6; 7; 8; 9; 10; 11; 12; 13; 14; 15; 16; 17; 18; 19; 20; 21; 22; 23; 24; 25; 26; 27; 28; 29; 30; 31; 32; 33; 34; 35; 36; 37; 38; 39; 40; 41; 42; 43; 44; 45; 46; 47; 48; 49; 50; 51; 52; 53; 54; 55; 56; 57; 58; 59; 60; 61; 62; 63; 64; 65; 66; 67; 68; 69; 70; 71; 72; 73; 74; 75; 76; 77; 78; 79; 80; 81; 82; 83; 84; 85; 86; 87; 88; 89; 90; 91; 92; 93; 94; 95; 96; 97; 98; 99; \n",
      "2020-12-30 03:42:14.759409 ALVG.DE  ric_i: 2  headline_slice_i: 8  headline_number: 100  not null: 100 2020-10-09 15:11:24+00:00\n",
      "\n",
      "is_this_ric_in_all: True   up_to_date_ric: 2020-10-01 07:00:21+00:00 news_get_df.shape: 100\n",
      "0; 1; 2; 3; 4; 5; 6; 7; 8; 9; 10; 11; 12; 13; 14; 15; 16; 17; 18; 19; 20; 21; 22; 23; 24; 25; 26; 27; 28; 29; 30; 31; 32; 33; 34; 35; 36; 37; 38; 39; 40; 41; 42; 43; 44; 45; 46; 47; 48; 49; 50; 51; 52; 53; 54; 55; 56; 57; 58; 59; 60; 61; 62; 63; 64; 65; 66; 67; 68; 69; 70; 71; 72; 73; 74; 75; 76; 77; 78; 79; 80; 81; 82; 83; 84; 85; 86; 87; 88; 89; 90; 91; 92; 93; 94; 95; 96; 97; 98; 99; \n",
      "2020-12-30 03:45:08.310507 ALVG.DE  ric_i: 2  headline_slice_i: 9  headline_number: 100  not null: 100 2020-10-01 07:00:21+00:00\n",
      "\n",
      "is_this_ric_in_all: True   up_to_date_ric: 2020-09-24 21:32:35.833000+00:00 news_get_df.shape: 100\n",
      "0; 1; 2; 3; 4; 5; 6; 7; 8; 9; 10; 11; 12; 13; 14; 15; 16; 17; 18; 19; 20; 21; 22; 23; 24; 25; 26; 27; 28; 29; 30; 31; 32; \n",
      "STORY IS OK: False   ric_now: ALVG.DE   ric_i: 2   story_i: 33\n",
      "34; 35; 36; 37; 38; 39; 40; 41; 42; 43; 44; 45; 46; 47; 48; 49; 50; 51; 52; 53; 54; 55; 56; 57; 58; 59; 60; 61; 62; 63; 64; 65; 66; 67; 68; 69; 70; 71; 72; 73; 74; 75; 76; 77; 78; 79; 80; 81; 82; 83; 84; 85; 86; 87; 88; 89; 90; 91; 92; 93; 94; 95; 96; 97; 98; 99; \n",
      "2020-12-30 03:48:57.635160 ALVG.DE  ric_i: 2  headline_slice_i: 10  headline_number: 100  not null: 99 2020-09-24 21:32:35.833000+00:00\n",
      "\n",
      "is_this_ric_in_all: True   up_to_date_ric: 2020-09-07 15:04:20+00:00 news_get_df.shape: 100\n",
      "0; 1; 2; 3; 4; 5; 6; 7; 8; 9; 10; 11; 12; 13; 14; 15; 16; 17; 18; 19; 20; 21; 22; 23; 24; 25; 26; 27; 28; 29; 30; 31; 32; 33; 34; 35; 36; 37; 38; 39; 40; 41; 42; 43; 44; 45; 46; 47; 48; 49; 50; 51; 52; 53; 54; 55; 56; 57; 58; 59; 60; 61; 62; 63; 64; 65; 66; 67; 68; 69; 70; 71; 72; 73; 74; 75; 76; 77; 78; 79; 80; 81; 82; 83; 84; 85; 86; 87; 88; 89; 90; 91; 92; 93; 94; 95; 96; 97; 98; 99; \n",
      "2020-12-30 03:51:53.913836 ALVG.DE  ric_i: 2  headline_slice_i: 11  headline_number: 100  not null: 100 2020-09-07 15:04:20+00:00\n",
      "\n",
      "is_this_ric_in_all: True   up_to_date_ric: 2020-08-14 15:49:26.572000+00:00 news_get_df.shape: 100\n",
      "0; 1; 2; 3; 4; 5; 6; 7; 8; 9; 10; 11; 12; 13; 14; 15; 16; 17; 18; 19; 20; 21; 22; 23; 24; 25; 26; 27; 28; 29; 30; 31; 32; 33; 34; 35; 36; 37; 38; 39; 40; 41; 42; 43; 44; 45; 46; 47; 48; 49; 50; 51; 52; 53; 54; 55; 56; 57; 58; 59; 60; 61; 62; 63; 64; 65; 66; 67; 68; 69; 70; 71; 72; 73; 74; 75; 76; 77; 78; 79; 80; 81; 82; 83; 84; 85; 86; 87; 88; 89; 90; 91; 92; 93; 94; 95; 96; 97; 98; 99; \n",
      "2020-12-30 03:56:20.551996 ALVG.DE  ric_i: 2  headline_slice_i: 12  headline_number: 100  not null: 100 2020-08-14 15:49:26.572000+00:00\n",
      "\n",
      "is_this_ric_in_all: True   up_to_date_ric: 2020-08-05 05:00:13.740000+00:00 news_get_df.shape: 100\n",
      "0; 1; 2; 3; 4; 5; 6; 7; 8; 9; 10; 11; 12; 13; 14; 15; 16; 17; 18; 19; 20; 21; 22; 23; 24; 25; 26; 27; 28; 29; 30; \n",
      "STORY IS OK: False   ric_now: ALVG.DE   ric_i: 2   story_i: 31\n",
      "32; 33; 34; 35; 36; 37; 38; 39; 40; 41; 42; 43; 44; 45; 46; 47; 48; 49; 50; 51; 52; 53; 54; 55; 56; 57; 58; 59; 60; 61; 62; \n",
      "STORY IS OK: False   ric_now: ALVG.DE   ric_i: 2   story_i: 63\n",
      "64; 65; 66; 67; 68; 69; 70; 71; 72; 73; 74; 75; 76; 77; 78; 79; 80; 81; 82; 83; 84; 85; 86; 87; 88; 89; 90; 91; 92; 93; 94; 95; 96; 97; 98; 99; \n",
      "2020-12-30 03:59:34.297178 ALVG.DE  ric_i: 2  headline_slice_i: 13  headline_number: 100  not null: 98 2020-08-05 05:00:13.740000+00:00\n",
      "\n",
      "is_this_ric_in_all: True   up_to_date_ric: 2020-07-15 16:13:48+00:00 news_get_df.shape: 100\n",
      "0; 1; 2; 3; 4; 5; 6; 7; 8; 9; 10; 11; 12; 13; 14; 15; 16; 17; 18; 19; 20; 21; 22; 23; 24; 25; 26; 27; 28; 29; 30; 31; 32; 33; 34; 35; 36; 37; 38; 39; 40; 41; 42; 43; 44; 45; 46; 47; 48; 49; 50; 51; 52; 53; 54; 55; 56; 57; 58; 59; 60; 61; 62; 63; 64; 65; 66; 67; 68; 69; 70; 71; 72; 73; 74; \n",
      "STORY IS OK: False   ric_now: ALVG.DE   ric_i: 2   story_i: 75\n",
      "76; 77; 78; 79; 80; 81; 82; 83; 84; 85; 86; 87; 88; 89; 90; 91; 92; 93; 94; 95; 96; 97; 98; 99; \n",
      "2020-12-30 04:03:12.816582 ALVG.DE  ric_i: 2  headline_slice_i: 14  headline_number: 100  not null: 99 2020-07-15 16:13:48+00:00\n",
      "\n",
      "is_this_ric_in_all: True   up_to_date_ric: 2020-07-02 12:30:01+00:00 news_get_df.shape: 100\n",
      "0; 1; 2; 3; 4; 5; 6; 7; 8; 9; 10; 11; 12; 13; 14; 15; 16; 17; 18; 19; 20; 21; 22; 23; 24; 25; 26; 27; 28; 29; 30; 31; 32; 33; 34; 35; 36; 37; 38; 39; 40; 41; 42; 43; 44; 45; 46; 47; 48; 49; 50; 51; 52; 53; 54; 55; 56; 57; 58; 59; 60; 61; 62; 63; 64; 65; 66; 67; 68; 69; 70; 71; 72; 73; 74; 75; 76; 77; 78; 79; 80; 81; 82; 83; 84; 85; 86; 87; 88; 89; 90; 91; 92; 93; 94; 95; 96; 97; 98; 99; \n",
      "2020-12-30 04:06:44.105627 ALVG.DE  ric_i: 2  headline_slice_i: 15  headline_number: 100  not null: 100 2020-07-02 12:30:01+00:00\n",
      "\n",
      "is_this_ric_in_all: True   up_to_date_ric: 2020-06-16 18:30:23.112000+00:00 news_get_df.shape: 100\n",
      "0; 1; 2; 3; 4; 5; 6; 7; 8; 9; 10; 11; 12; 13; 14; 15; 16; 17; 18; 19; 20; 21; 22; 23; 24; 25; 26; 27; 28; 29; 30; 31; 32; 33; 34; 35; 36; 37; 38; 39; 40; 41; 42; 43; 44; 45; 46; 47; 48; 49; 50; 51; 52; 53; 54; 55; 56; 57; 58; 59; 60; 61; 62; 63; 64; 65; 66; 67; 68; 69; 70; 71; 72; 73; 74; 75; 76; 77; 78; 79; 80; 81; 82; 83; 84; 85; 86; 87; 88; 89; 90; 91; 92; 93; 94; 95; 96; 97; 98; 99; \n",
      "2020-12-30 04:10:58.599558 ALVG.DE  ric_i: 2  headline_slice_i: 16  headline_number: 100  not null: 100 2020-06-16 18:30:23.112000+00:00\n",
      "\n",
      "is_this_ric_in_all: True   up_to_date_ric: 2020-05-29 07:40:58+00:00 news_get_df.shape: 100\n",
      "0; 1; 2; 3; 4; 5; 6; 7; 8; 9; 10; 11; 12; 13; 14; 15; 16; 17; 18; 19; 20; 21; 22; 23; 24; 25; 26; 27; 28; 29; 30; 31; 32; 33; 34; 35; 36; 37; 38; 39; 40; 41; 42; 43; 44; 45; 46; 47; \n",
      "STORY IS OK: False   ric_now: ALVG.DE   ric_i: 2   story_i: 48\n",
      "49; 50; 51; 52; 53; 54; 55; 56; 57; 58; 59; 60; "
     ]
    },
    {
     "name": "stderr",
     "output_type": "stream",
     "text": [
      "2020-12-30 04:13:08,353 P[18872] [MainThread 7824] UDF Core request failed. Service Temporarily Unavailable\n",
      "2020-12-30 04:13:08,354 P[18872] [MainThread 7824] HTTP request failed: EikonError-UDF Core request failed. Service Temporarily Unavailable\n"
     ]
    },
    {
     "name": "stdout",
     "output_type": "stream",
     "text": [
      "\n",
      "STORY IS OK: False   ric_now: ALVG.DE   ric_i: 2   story_i: 61\n",
      "62; 63; 64; 65; 66; 67; 68; 69; 70; 71; 72; 73; 74; 75; 76; 77; 78; 79; 80; 81; 82; 83; 84; 85; 86; 87; 88; 89; 90; 91; 92; 93; 94; 95; 96; 97; 98; 99; \n",
      "2020-12-30 04:14:30.078621 ALVG.DE  ric_i: 2  headline_slice_i: 17  headline_number: 100  not null: 98 2020-05-29 07:40:58+00:00\n",
      "\n",
      "is_this_ric_in_all: True   up_to_date_ric: 2020-05-14 13:15:43+00:00 news_get_df.shape: 100\n",
      "0; 1; 2; 3; 4; 5; 6; 7; 8; 9; 10; 11; 12; 13; 14; 15; 16; 17; 18; 19; 20; 21; 22; 23; 24; 25; 26; 27; 28; 29; 30; 31; 32; 33; 34; 35; 36; 37; 38; 39; 40; 41; 42; 43; 44; 45; 46; 47; 48; 49; 50; 51; 52; 53; 54; 55; 56; 57; 58; 59; 60; 61; 62; 63; 64; 65; 66; 67; 68; 69; 70; 71; 72; 73; 74; 75; 76; 77; 78; 79; 80; 81; 82; 83; 84; 85; 86; 87; 88; 89; 90; 91; 92; 93; 94; 95; 96; 97; 98; 99; \n",
      "2020-12-30 04:18:43.588197 ALVG.DE  ric_i: 2  headline_slice_i: 18  headline_number: 100  not null: 100 2020-05-14 13:15:43+00:00\n",
      "\n",
      "is_this_ric_in_all: True   up_to_date_ric: 2020-05-12 05:00:16.996000+00:00 news_get_df.shape: 100\n",
      "0; 1; 2; 3; 4; 5; 6; 7; 8; 9; 10; 11; 12; 13; 14; 15; 16; 17; 18; 19; 20; 21; 22; 23; 24; 25; 26; 27; 28; 29; 30; 31; 32; 33; 34; 35; 36; 37; 38; 39; 40; 41; 42; 43; 44; 45; \n",
      "STORY IS OK: False   ric_now: ALVG.DE   ric_i: 2   story_i: 46\n",
      "47; 48; 49; 50; 51; 52; 53; 54; 55; 56; 57; 58; 59; 60; 61; 62; 63; 64; 65; 66; 67; 68; 69; 70; 71; 72; 73; 74; 75; 76; 77; 78; 79; 80; 81; 82; 83; 84; 85; 86; 87; 88; 89; 90; 91; 92; 93; 94; 95; 96; 97; 98; 99; \n",
      "2020-12-30 04:22:24.597383 ALVG.DE  ric_i: 2  headline_slice_i: 19  headline_number: 100  not null: 99 2020-05-12 05:00:16.996000+00:00\n",
      "\n",
      "is_this_ric_in_all: True   up_to_date_ric: 2020-05-04 10:02:16.589000+00:00 news_get_df.shape: 100\n",
      "0; 1; 2; 3; 4; 5; "
     ]
    },
    {
     "name": "stderr",
     "output_type": "stream",
     "text": [
      "2020-12-30 04:22:30,048 P[18872] [MainThread 7824] UDF Core request failed. Service Temporarily Unavailable\n",
      "2020-12-30 04:22:30,049 P[18872] [MainThread 7824] HTTP request failed: EikonError-UDF Core request failed. Service Temporarily Unavailable\n"
     ]
    },
    {
     "name": "stdout",
     "output_type": "stream",
     "text": [
      "\n",
      "STORY IS OK: False   ric_now: ALVG.DE   ric_i: 2   story_i: 6\n",
      "7; 8; 9; 10; 11; 12; 13; 14; 15; 16; 17; 18; 19; 20; 21; 22; 23; 24; 25; 26; 27; 28; 29; 30; 31; 32; 33; 34; 35; 36; 37; 38; 39; 40; 41; 42; 43; 44; 45; 46; 47; 48; \n",
      "STORY IS OK: False   ric_now: ALVG.DE   ric_i: 2   story_i: 49\n",
      "50; 51; 52; 53; 54; 55; 56; 57; 58; 59; 60; 61; 62; 63; 64; 65; 66; 67; 68; 69; 70; 71; 72; 73; 74; 75; 76; 77; 78; 79; 80; 81; 82; 83; 84; 85; 86; 87; 88; 89; 90; 91; 92; 93; 94; 95; 96; 97; 98; 99; \n",
      "2020-12-30 04:26:21.229100 ALVG.DE  ric_i: 2  headline_slice_i: 20  headline_number: 100  not null: 98 2020-05-04 10:02:16.589000+00:00\n",
      "\n",
      "is_this_ric_in_all: True   up_to_date_ric: 2020-04-27 18:45:48+00:00 news_get_df.shape: 100\n",
      "0; 1; 2; 3; 4; 5; 6; 7; "
     ]
    },
    {
     "name": "stderr",
     "output_type": "stream",
     "text": [
      "2020-12-30 04:27:14,052 P[18872] [MainThread 7824] Error code 518 | Server Error: Server Side Timeout - Do Not Resubmit\n",
      "2020-12-30 04:27:14,053 P[18872] [MainThread 7824] HTTP request failed: EikonError-Server Error: Server Side Timeout - Do Not Resubmit\n"
     ]
    },
    {
     "name": "stdout",
     "output_type": "stream",
     "text": [
      "\n",
      "STORY IS OK: False   ric_now: ALVG.DE   ric_i: 2   story_i: 8\n",
      "9; 10; 11; 12; 13; 14; 15; 16; 17; 18; 19; 20; 21; 22; 23; 24; 25; 26; 27; 28; 29; 30; 31; 32; 33; 34; 35; 36; 37; 38; 39; 40; 41; 42; 43; 44; 45; 46; 47; 48; 49; 50; 51; 52; 53; 54; 55; 56; 57; 58; 59; 60; 61; 62; 63; 64; 65; 66; 67; 68; 69; 70; 71; 72; 73; 74; 75; 76; 77; 78; 79; 80; 81; 82; 83; 84; 85; 86; 87; 88; 89; 90; 91; 92; 93; 94; 95; 96; 97; 98; 99; \n",
      "2020-12-30 04:30:39.899169 ALVG.DE  ric_i: 2  headline_slice_i: 21  headline_number: 100  not null: 99 2020-04-27 18:45:48+00:00\n",
      "\n",
      "is_this_ric_in_all: True   up_to_date_ric: 2020-04-09 20:07:01.971000+00:00 news_get_df.shape: 100\n",
      "0; 1; 2; 3; 4; 5; 6; 7; 8; 9; 10; 11; 12; 13; 14; 15; 16; 17; 18; 19; 20; 21; 22; 23; 24; 25; 26; 27; 28; 29; 30; 31; 32; 33; 34; 35; 36; 37; 38; 39; 40; 41; 42; 43; 44; 45; 46; 47; 48; 49; 50; 51; 52; 53; 54; 55; 56; 57; 58; 59; 60; 61; 62; 63; 64; 65; 66; 67; 68; 69; 70; 71; 72; 73; 74; 75; 76; 77; 78; 79; 80; 81; 82; 83; 84; 85; 86; 87; 88; 89; 90; 91; 92; 93; 94; 95; 96; 97; 98; 99; \n",
      "2020-12-30 04:33:43.284290 ALVG.DE  ric_i: 2  headline_slice_i: 22  headline_number: 100  not null: 100 2020-04-09 20:07:01.971000+00:00\n",
      "\n",
      "is_this_ric_in_all: True   up_to_date_ric: 2020-04-03 07:13:14+00:00 news_get_df.shape: 100\n",
      "0; 1; 2; 3; 4; 5; 6; 7; 8; 9; 10; 11; 12; 13; 14; 15; 16; 17; 18; 19; 20; 21; 22; 23; 24; 25; 26; 27; 28; 29; 30; 31; 32; 33; 34; 35; 36; 37; 38; 39; 40; 41; 42; 43; 44; 45; 46; 47; 48; 49; 50; 51; 52; 53; 54; 55; 56; 57; 58; 59; 60; 61; 62; 63; 64; 65; 66; 67; 68; 69; 70; 71; 72; 73; 74; 75; 76; "
     ]
    },
    {
     "name": "stderr",
     "output_type": "stream",
     "text": [
      "2020-12-30 04:36:40,037 P[18872] [MainThread 7824] Backend error. 404 Not Found\n",
      "2020-12-30 04:36:40,037 P[18872] [MainThread 7824] HTTP request failed: EikonError-Backend error. 404 Not Found\n"
     ]
    },
    {
     "name": "stdout",
     "output_type": "stream",
     "text": [
      "\n",
      "STORY IS OK: False   ric_now: ALVG.DE   ric_i: 2   story_i: 77\n",
      "78; 79; 80; 81; 82; 83; 84; 85; 86; 87; 88; 89; 90; 91; 92; 93; 94; 95; 96; 97; 98; 99; \n",
      "2020-12-30 04:37:25.076580 ALVG.DE  ric_i: 2  headline_slice_i: 23  headline_number: 100  not null: 99 2020-04-03 07:13:14+00:00\n",
      "\n",
      "is_this_ric_in_all: True   up_to_date_ric: 2020-03-24 10:04:23+00:00 news_get_df.shape: 100\n",
      "0; 1; 2; 3; 4; 5; 6; 7; 8; 9; 10; 11; 12; 13; 14; 15; 16; 17; 18; 19; 20; 21; 22; 23; 24; 25; 26; 27; 28; 29; 30; 31; 32; 33; 34; 35; 36; 37; 38; 39; 40; 41; 42; 43; 44; 45; 46; 47; 48; 49; 50; 51; 52; 53; 54; 55; 56; 57; 58; 59; 60; 61; 62; 63; 64; 65; 66; 67; 68; 69; 70; 71; 72; 73; 74; 75; 76; 77; 78; 79; 80; 81; 82; 83; 84; 85; 86; 87; 88; \n",
      "STORY IS OK: False   ric_now: ALVG.DE   ric_i: 2   story_i: 89\n",
      "90; 91; 92; 93; 94; 95; 96; 97; 98; 99; \n",
      "2020-12-30 04:40:48.338487 ALVG.DE  ric_i: 2  headline_slice_i: 24  headline_number: 100  not null: 99 2020-03-24 10:04:23+00:00\n",
      "\n",
      "is_this_ric_in_all: True   up_to_date_ric: 2020-03-08 18:32:32+00:00 news_get_df.shape: 100\n",
      "0; 1; 2; 3; 4; 5; 6; 7; 8; 9; 10; 11; 12; 13; 14; \n",
      "STORY IS OK: False   ric_now: ALVG.DE   ric_i: 2   story_i: 15\n",
      "16; 17; 18; 19; 20; 21; \n",
      "STORY IS OK: False   ric_now: ALVG.DE   ric_i: 2   story_i: 22\n",
      "23; 24; 25; 26; 27; 28; 29; 30; 31; 32; 33; 34; 35; 36; 37; 38; 39; 40; 41; 42; 43; 44; 45; 46; 47; 48; 49; 50; 51; 52; 53; 54; 55; 56; 57; 58; 59; 60; 61; 62; 63; 64; 65; 66; 67; 68; 69; 70; 71; 72; 73; 74; 75; 76; 77; 78; 79; 80; 81; 82; 83; 84; 85; 86; 87; 88; 89; 90; 91; 92; 93; 94; 95; 96; 97; 98; 99; \n",
      "2020-12-30 04:44:39.649085 ALVG.DE  ric_i: 2  headline_slice_i: 25  headline_number: 100  not null: 98 2020-03-08 18:32:32+00:00\n",
      "\n",
      "is_this_ric_in_all: True   up_to_date_ric: 2020-02-25 15:20:28.915000+00:00 news_get_df.shape: 100\n",
      "0; 1; 2; 3; 4; 5; 6; 7; 8; 9; 10; 11; 12; 13; 14; 15; 16; 17; 18; 19; 20; 21; 22; 23; 24; 25; 26; 27; 28; 29; 30; 31; 32; 33; 34; 35; 36; 37; 38; 39; 40; 41; 42; 43; 44; 45; 46; 47; 48; 49; 50; 51; 52; 53; 54; 55; 56; 57; 58; 59; 60; 61; 62; 63; 64; 65; 66; 67; 68; 69; 70; 71; 72; 73; 74; 75; 76; 77; 78; 79; 80; 81; 82; 83; 84; 85; 86; 87; 88; 89; 90; 91; 92; 93; 94; 95; 96; 97; 98; 99; \n",
      "2020-12-30 04:48:41.280573 ALVG.DE  ric_i: 2  headline_slice_i: 26  headline_number: 100  not null: 100 2020-02-25 15:20:28.915000+00:00\n",
      "\n",
      "is_this_ric_in_all: True   up_to_date_ric: 2020-02-20 16:38:19.377000+00:00 news_get_df.shape: 100\n",
      "0; 1; 2; 3; 4; 5; 6; 7; 8; 9; 10; 11; 12; 13; 14; 15; 16; 17; 18; 19; 20; 21; 22; 23; 24; 25; 26; 27; 28; 29; 30; 31; 32; 33; 34; 35; 36; 37; 38; 39; 40; 41; 42; 43; 44; 45; 46; 47; 48; 49; 50; 51; 52; 53; 54; 55; 56; 57; 58; 59; 60; 61; 62; 63; 64; 65; 66; 67; 68; 69; 70; 71; 72; 73; 74; 75; 76; 77; 78; 79; 80; 81; 82; 83; 84; 85; 86; 87; 88; 89; 90; 91; 92; 93; 94; 95; 96; 97; 98; 99; \n",
      "2020-12-30 04:51:28.138633 ALVG.DE  ric_i: 2  headline_slice_i: 27  headline_number: 100  not null: 100 2020-02-20 16:38:19.377000+00:00\n",
      "\n",
      "is_this_ric_in_all: True   up_to_date_ric: 2020-02-04 06:54:16+00:00 news_get_df.shape: 100\n",
      "0; 1; 2; 3; 4; 5; 6; 7; 8; 9; 10; \n",
      "STORY IS OK: False   ric_now: ALVG.DE   ric_i: 2   story_i: 11\n",
      "12; 13; 14; 15; 16; 17; 18; 19; 20; 21; "
     ]
    },
    {
     "name": "stderr",
     "output_type": "stream",
     "text": [
      "2020-12-30 04:52:13,023 P[18872] [MainThread 7824] UDF Core request failed. Service Temporarily Unavailable\n",
      "2020-12-30 04:52:13,024 P[18872] [MainThread 7824] HTTP request failed: EikonError-UDF Core request failed. Service Temporarily Unavailable\n"
     ]
    },
    {
     "name": "stdout",
     "output_type": "stream",
     "text": [
      "\n",
      "STORY IS OK: False   ric_now: ALVG.DE   ric_i: 2   story_i: 22\n",
      "23; 24; 25; 26; 27; 28; 29; 30; 31; 32; 33; 34; 35; 36; 37; 38; 39; 40; 41; 42; 43; 44; 45; 46; 47; 48; 49; 50; 51; 52; 53; 54; 55; 56; 57; 58; 59; 60; 61; 62; 63; 64; 65; 66; 67; 68; 69; 70; 71; 72; 73; 74; 75; 76; 77; 78; 79; 80; 81; 82; 83; 84; 85; 86; 87; 88; 89; 90; 91; 92; 93; 94; 95; 96; 97; 98; 99; \n",
      "2020-12-30 04:55:03.708451 ALVG.DE  ric_i: 2  headline_slice_i: 28  headline_number: 100  not null: 98 2020-02-04 06:54:16+00:00\n",
      "\n",
      "is_this_ric_in_all: True   up_to_date_ric: 2020-01-17 07:47:35.212000+00:00 news_get_df.shape: 100\n",
      "0; 1; 2; 3; 4; 5; 6; 7; 8; 9; 10; 11; 12; 13; 14; 15; 16; 17; 18; 19; 20; 21; 22; 23; 24; 25; 26; 27; 28; 29; 30; 31; 32; 33; 34; 35; 36; 37; 38; 39; 40; 41; 42; 43; 44; 45; 46; 47; 48; 49; 50; 51; 52; 53; 54; 55; 56; 57; 58; 59; 60; 61; 62; 63; 64; 65; 66; 67; 68; 69; 70; 71; 72; 73; 74; 75; 76; 77; 78; 79; 80; 81; 82; 83; 84; 85; 86; 87; 88; 89; 90; 91; 92; 93; 94; 95; 96; 97; 98; 99; \n",
      "2020-12-30 04:58:19.778685 ALVG.DE  ric_i: 2  headline_slice_i: 29  headline_number: 100  not null: 100 2020-01-17 07:47:35.212000+00:00\n",
      "\n",
      "is_this_ric_in_all: True   up_to_date_ric: 2020-01-07 07:47:16+00:00 news_get_df.shape: 100\n",
      "0; 1; 2; 3; 4; 5; 6; 7; 8; 9; 10; 11; 12; 13; 14; 15; 16; 17; 18; 19; 20; 21; 22; 23; 24; 25; 26; 27; 28; 29; 30; 31; 32; 33; 34; 35; 36; 37; 38; 39; 40; 41; 42; 43; 44; 45; 46; 47; 48; 49; 50; 51; 52; 53; 54; 55; 56; 57; 58; 59; 60; 61; 62; 63; 64; 65; 66; 67; 68; 69; 70; 71; 72; 73; 74; 75; 76; 77; 78; 79; 80; 81; 82; 83; 84; 85; 86; 87; 88; 89; 90; 91; 92; 93; 94; 95; 96; 97; 98; 99; \n",
      "2020-12-30 05:01:45.405083 ALVG.DE  ric_i: 2  headline_slice_i: 30  headline_number: 100  not null: 100 2020-01-07 07:47:16+00:00\n",
      "\n",
      "is_this_ric_in_all: True   up_to_date_ric: 2019-12-07 00:11:45.762000+00:00 news_get_df.shape: 100\n",
      "0; 1; 2; 3; 4; 5; 6; 7; 8; 9; 10; 11; 12; 13; 14; 15; 16; 17; 18; 19; 20; 21; 22; 23; 24; 25; 26; 27; 28; 29; 30; 31; 32; 33; 34; 35; 36; 37; 38; 39; 40; 41; 42; 43; 44; 45; 46; 47; 48; 49; 50; 51; 52; 53; 54; 55; 56; 57; 58; 59; 60; 61; 62; 63; 64; 65; 66; 67; 68; 69; 70; 71; 72; 73; 74; 75; 76; 77; 78; 79; 80; 81; 82; 83; 84; 85; 86; 87; 88; 89; 90; 91; 92; 93; 94; 95; 96; 97; 98; "
     ]
    },
    {
     "name": "stderr",
     "output_type": "stream",
     "text": [
      "2020-12-30 05:06:07,425 P[18872] [MainThread 7824] Backend error. 404 Not Found\n",
      "2020-12-30 05:06:07,426 P[18872] [MainThread 7824] HTTP request failed: EikonError-Backend error. 404 Not Found\n"
     ]
    },
    {
     "name": "stdout",
     "output_type": "stream",
     "text": [
      "\n",
      "STORY IS OK: False   ric_now: ALVG.DE   ric_i: 2   story_i: 99\n",
      "\n",
      "2020-12-30 05:06:12.446997 ALVG.DE  ric_i: 2  headline_slice_i: 31  headline_number: 100  not null: 99 2019-12-07 00:11:45.762000+00:00\n",
      "\n",
      "is_this_ric_in_all: True   up_to_date_ric: 2019-11-15 20:02:44.107000+00:00 news_get_df.shape: 100\n",
      "0; 1; 2; 3; 4; 5; 6; 7; 8; 9; 10; 11; 12; 13; 14; 15; 16; 17; 18; 19; 20; 21; 22; 23; 24; 25; 26; 27; 28; 29; 30; 31; 32; 33; 34; 35; 36; 37; 38; 39; 40; 41; 42; 43; 44; 45; 46; 47; 48; 49; 50; 51; 52; 53; 54; 55; 56; 57; 58; 59; 60; 61; 62; 63; 64; 65; 66; 67; 68; 69; 70; 71; 72; 73; 74; 75; 76; 77; 78; 79; 80; 81; 82; 83; 84; 85; 86; 87; 88; 89; 90; 91; 92; 93; 94; 95; 96; 97; 98; 99; \n",
      "2020-12-30 05:09:59.399549 ALVG.DE  ric_i: 2  headline_slice_i: 32  headline_number: 100  not null: 100 2019-11-15 20:02:44.107000+00:00\n",
      "\n",
      "is_this_ric_in_all: True   up_to_date_ric: 2019-11-08 08:03:09+00:00 news_get_df.shape: 100\n",
      "0; 1; 2; 3; 4; 5; 6; 7; 8; 9; 10; 11; 12; 13; 14; 15; 16; 17; 18; 19; 20; 21; 22; 23; 24; 25; 26; 27; 28; 29; 30; 31; 32; 33; 34; 35; 36; 37; 38; 39; 40; 41; 42; 43; 44; 45; 46; 47; 48; 49; 50; 51; 52; 53; 54; 55; 56; 57; 58; 59; 60; 61; 62; 63; 64; 65; 66; 67; 68; 69; 70; 71; 72; 73; 74; 75; 76; 77; 78; 79; 80; 81; 82; 83; 84; 85; 86; 87; 88; 89; 90; 91; 92; 93; 94; 95; 96; 97; 98; 99; \n",
      "2020-12-30 05:14:06.644798 ALVG.DE  ric_i: 2  headline_slice_i: 33  headline_number: 100  not null: 100 2019-11-08 08:03:09+00:00\n",
      "\n",
      "is_this_ric_in_all: True   up_to_date_ric: 2019-10-24 09:42:45.760000+00:00 news_get_df.shape: 100\n",
      "0; 1; 2; 3; 4; 5; 6; 7; 8; 9; 10; 11; 12; 13; 14; 15; 16; 17; 18; 19; 20; 21; 22; 23; 24; 25; 26; 27; 28; 29; 30; 31; 32; 33; 34; 35; 36; 37; 38; 39; 40; 41; 42; 43; 44; 45; 46; 47; 48; 49; 50; 51; 52; 53; 54; 55; 56; \n",
      "STORY IS OK: False   ric_now: ALVG.DE   ric_i: 2   story_i: 57\n",
      "58; 59; 60; 61; 62; 63; 64; 65; 66; 67; 68; 69; 70; 71; 72; 73; 74; 75; 76; 77; 78; 79; 80; 81; 82; 83; 84; 85; 86; 87; 88; 89; 90; 91; 92; 93; 94; 95; 96; 97; 98; 99; \n",
      "2020-12-30 05:16:56.087211 ALVG.DE  ric_i: 2  headline_slice_i: 34  headline_number: 100  not null: 99 2019-10-24 09:42:45.760000+00:00\n",
      "\n",
      "is_this_ric_in_all: True   up_to_date_ric: 2019-10-04 04:15:53.156000+00:00 news_get_df.shape: 65\n",
      "0; 1; 2; 3; 4; 5; 6; 7; 8; 9; 10; 11; 12; 13; 14; 15; 16; 17; 18; 19; 20; 21; 22; 23; 24; 25; 26; 27; 28; 29; 30; 31; 32; 33; 34; 35; 36; 37; 38; 39; 40; 41; 42; 43; 44; 45; 46; 47; 48; 49; 50; 51; 52; 53; 54; 55; 56; 57; 58; 59; \n",
      "STORY IS OK: False   ric_now: ALVG.DE   ric_i: 2   story_i: 60\n",
      "61; 62; 63; 64; \n",
      "2020-12-30 05:18:42.060161 ALVG.DE  ric_i: 2  headline_slice_i: 35  headline_number: 65  not null: 64 2019-10-04 04:15:53.156000+00:00\n",
      "C:/DAN/t_systems/trade_project/logger/quasi_logger_2020-12-30_v3.csv\n",
      "C:/DAN/t_systems/trade_project/backup_headlines/all_headlines_df_2020-12-30_v3.csv\n",
      "3 VOWG_p.DE\n",
      "\n",
      "is_this_ric_in_all: False   up_to_date_ric: None news_get_df.shape: 100\n",
      "0; 1; 2; 3; 4; 5; 6; 7; 8; 9; 10; 11; 12; 13; 14; 15; 16; 17; 18; 19; 20; 21; 22; 23; 24; 25; 26; 27; 28; 29; 30; 31; 32; 33; 34; 35; 36; 37; 38; 39; 40; 41; 42; 43; 44; 45; 46; 47; 48; 49; 50; 51; 52; 53; 54; 55; 56; 57; 58; 59; 60; 61; 62; 63; 64; 65; 66; 67; 68; 69; 70; 71; 72; 73; 74; 75; 76; 77; 78; 79; 80; 81; 82; 83; 84; 85; 86; 87; 88; 89; 90; 91; 92; 93; 94; 95; 96; 97; 98; 99; \n",
      "2020-12-30 05:21:44.921031 VOWG_p.DE  ric_i: 3  headline_slice_i: 1  headline_number: 100  not null: 100 None\n",
      "\n",
      "is_this_ric_in_all: True   up_to_date_ric: 2020-12-18 14:51:18.774000+00:00 news_get_df.shape: 100\n",
      "0; 1; 2; 3; 4; 5; 6; 7; 8; 9; 10; 11; 12; 13; 14; 15; 16; 17; 18; 19; 20; 21; 22; 23; 24; 25; 26; 27; 28; 29; 30; 31; 32; 33; 34; 35; 36; 37; 38; 39; 40; 41; 42; 43; 44; 45; 46; 47; 48; 49; 50; 51; 52; 53; 54; 55; 56; 57; 58; 59; 60; 61; 62; 63; 64; 65; 66; 67; 68; 69; 70; 71; 72; 73; 74; 75; 76; 77; 78; 79; 80; 81; 82; 83; 84; 85; 86; 87; 88; 89; 90; 91; 92; 93; \n",
      "STORY IS OK: False   ric_now: VOWG_p.DE   ric_i: 3   story_i: 94\n",
      "95; 96; 97; 98; 99; \n",
      "2020-12-30 05:24:30.362016 VOWG_p.DE  ric_i: 3  headline_slice_i: 2  headline_number: 100  not null: 99 2020-12-18 14:51:18.774000+00:00\n",
      "\n",
      "is_this_ric_in_all: True   up_to_date_ric: 2020-12-15 08:10:46+00:00 news_get_df.shape: 100\n",
      "0; 1; 2; 3; 4; 5; 6; 7; 8; 9; 10; 11; 12; 13; 14; 15; 16; 17; 18; 19; 20; 21; 22; 23; \n",
      "STORY IS OK: False   ric_now: VOWG_p.DE   ric_i: 3   story_i: 24\n",
      "25; 26; 27; 28; 29; 30; 31; 32; 33; 34; 35; 36; 37; 38; 39; 40; 41; 42; 43; 44; 45; 46; 47; 48; 49; 50; 51; 52; 53; 54; 55; 56; 57; 58; 59; 60; 61; 62; 63; 64; 65; 66; 67; 68; 69; 70; 71; 72; 73; 74; 75; 76; 77; 78; 79; 80; 81; 82; 83; 84; 85; 86; 87; 88; 89; 90; 91; 92; 93; 94; 95; 96; 97; 98; 99; \n",
      "2020-12-30 05:28:13.446528 VOWG_p.DE  ric_i: 3  headline_slice_i: 3  headline_number: 100  not null: 99 2020-12-15 08:10:46+00:00\n",
      "\n",
      "is_this_ric_in_all: True   up_to_date_ric: 2020-12-10 04:51:22.885000+00:00 news_get_df.shape: 100\n",
      "0; 1; 2; 3; 4; 5; 6; 7; 8; 9; 10; 11; 12; 13; 14; 15; 16; 17; 18; 19; 20; 21; 22; 23; 24; 25; 26; 27; 28; 29; 30; 31; 32; 33; 34; 35; 36; 37; 38; 39; 40; 41; 42; 43; 44; 45; 46; 47; 48; 49; 50; 51; 52; 53; 54; 55; 56; 57; 58; 59; 60; 61; 62; 63; 64; 65; 66; 67; 68; 69; 70; 71; 72; 73; 74; 75; 76; 77; 78; 79; 80; 81; 82; 83; 84; 85; 86; 87; 88; 89; 90; 91; 92; 93; 94; 95; 96; 97; 98; 99; \n",
      "2020-12-30 05:31:28.479619 VOWG_p.DE  ric_i: 3  headline_slice_i: 4  headline_number: 100  not null: 100 2020-12-10 04:51:22.885000+00:00\n",
      "\n",
      "is_this_ric_in_all: True   up_to_date_ric: 2020-12-05 01:11:05.552000+00:00 news_get_df.shape: 100\n",
      "0; 1; 2; 3; 4; 5; 6; 7; 8; 9; 10; 11; 12; 13; 14; 15; 16; 17; 18; 19; 20; 21; 22; 23; 24; 25; 26; 27; 28; 29; 30; 31; 32; 33; 34; 35; 36; 37; 38; 39; 40; 41; 42; 43; 44; 45; 46; 47; 48; 49; 50; 51; 52; 53; 54; 55; 56; 57; 58; \n",
      "STORY IS OK: False   ric_now: VOWG_p.DE   ric_i: 3   story_i: 59\n",
      "60; 61; 62; 63; 64; 65; 66; 67; 68; 69; 70; 71; 72; 73; 74; 75; 76; 77; 78; 79; 80; 81; 82; 83; 84; 85; 86; 87; 88; 89; 90; 91; 92; 93; 94; 95; 96; 97; 98; 99; \n",
      "2020-12-30 05:34:32.195987 VOWG_p.DE  ric_i: 3  headline_slice_i: 5  headline_number: 100  not null: 99 2020-12-05 01:11:05.552000+00:00\n",
      "\n",
      "is_this_ric_in_all: True   up_to_date_ric: 2020-12-01 20:35:45+00:00 news_get_df.shape: 100\n",
      "0; 1; 2; 3; 4; 5; 6; 7; 8; 9; 10; 11; 12; 13; 14; 15; 16; 17; 18; 19; 20; 21; 22; 23; 24; 25; 26; 27; 28; 29; 30; 31; 32; 33; 34; 35; 36; 37; 38; 39; 40; 41; 42; 43; 44; 45; 46; 47; 48; 49; 50; 51; 52; 53; 54; 55; 56; 57; 58; 59; 60; 61; 62; \n",
      "STORY IS OK: False   ric_now: VOWG_p.DE   ric_i: 3   story_i: 63\n",
      "64; 65; 66; 67; 68; 69; 70; 71; 72; 73; 74; 75; 76; 77; 78; 79; 80; 81; 82; 83; 84; 85; 86; 87; 88; 89; 90; 91; 92; 93; 94; 95; 96; 97; 98; 99; \n",
      "2020-12-30 05:37:42.887857 VOWG_p.DE  ric_i: 3  headline_slice_i: 6  headline_number: 100  not null: 99 2020-12-01 20:35:45+00:00\n",
      "\n",
      "is_this_ric_in_all: True   up_to_date_ric: 2020-11-27 12:33:59+00:00 news_get_df.shape: 100\n",
      "0; 1; 2; 3; 4; 5; 6; 7; 8; 9; 10; 11; 12; 13; 14; 15; 16; 17; 18; 19; 20; 21; 22; 23; 24; 25; 26; 27; 28; 29; 30; 31; 32; 33; 34; 35; 36; 37; 38; 39; 40; 41; 42; 43; 44; 45; 46; 47; 48; 49; 50; 51; 52; 53; 54; 55; 56; 57; 58; 59; 60; 61; 62; 63; 64; 65; 66; 67; 68; 69; 70; 71; 72; 73; 74; 75; 76; 77; 78; 79; 80; 81; 82; 83; 84; 85; 86; 87; 88; 89; 90; 91; 92; 93; 94; 95; 96; 97; 98; 99; \n",
      "2020-12-30 05:41:10.866819 VOWG_p.DE  ric_i: 3  headline_slice_i: 7  headline_number: 100  not null: 100 2020-11-27 12:33:59+00:00\n",
      "\n",
      "is_this_ric_in_all: True   up_to_date_ric: 2020-11-18 13:07:34.053000+00:00 news_get_df.shape: 100\n",
      "0; 1; 2; 3; 4; 5; 6; 7; 8; 9; 10; 11; 12; 13; 14; 15; 16; 17; 18; 19; 20; 21; 22; 23; 24; 25; 26; 27; 28; 29; 30; 31; 32; 33; 34; 35; 36; 37; 38; 39; 40; 41; 42; 43; 44; 45; 46; 47; 48; 49; 50; 51; 52; 53; 54; 55; 56; 57; 58; 59; 60; 61; 62; 63; 64; 65; 66; 67; 68; 69; 70; 71; 72; 73; 74; 75; 76; 77; 78; 79; 80; 81; 82; 83; 84; 85; 86; 87; 88; 89; 90; 91; 92; 93; 94; 95; 96; 97; 98; 99; \n",
      "2020-12-30 05:44:47.397107 VOWG_p.DE  ric_i: 3  headline_slice_i: 8  headline_number: 100  not null: 100 2020-11-18 13:07:34.053000+00:00\n",
      "\n",
      "is_this_ric_in_all: True   up_to_date_ric: 2020-11-14 12:22:25+00:00 news_get_df.shape: 100\n",
      "0; 1; 2; 3; 4; 5; 6; 7; 8; 9; 10; 11; 12; 13; 14; 15; 16; 17; 18; 19; 20; 21; 22; 23; 24; 25; 26; 27; 28; 29; 30; 31; 32; 33; 34; 35; 36; 37; 38; 39; 40; 41; 42; 43; 44; 45; 46; 47; 48; 49; 50; 51; 52; 53; 54; 55; 56; 57; 58; 59; 60; 61; 62; 63; 64; 65; 66; 67; 68; 69; 70; 71; 72; 73; 74; 75; 76; 77; 78; 79; 80; 81; 82; 83; 84; 85; 86; 87; 88; 89; 90; 91; 92; 93; 94; 95; 96; 97; 98; 99; \n",
      "2020-12-30 05:48:33.681065 VOWG_p.DE  ric_i: 3  headline_slice_i: 9  headline_number: 100  not null: 100 2020-11-14 12:22:25+00:00\n",
      "\n",
      "is_this_ric_in_all: True   up_to_date_ric: 2020-11-11 16:23:48+00:00 news_get_df.shape: 100\n",
      "0; 1; 2; 3; 4; 5; 6; 7; 8; 9; 10; 11; 12; 13; 14; 15; 16; 17; 18; 19; 20; 21; 22; 23; 24; 25; 26; 27; 28; 29; 30; 31; 32; 33; 34; 35; 36; 37; 38; 39; 40; 41; 42; 43; 44; 45; 46; 47; 48; 49; 50; 51; 52; 53; 54; 55; 56; 57; 58; 59; 60; 61; 62; 63; 64; 65; 66; 67; 68; 69; 70; 71; 72; 73; 74; 75; 76; 77; 78; 79; 80; 81; 82; 83; 84; 85; 86; 87; 88; 89; 90; 91; 92; 93; 94; 95; 96; 97; 98; 99; \n",
      "2020-12-30 05:51:51.391181 VOWG_p.DE  ric_i: 3  headline_slice_i: 10  headline_number: 100  not null: 100 2020-11-11 16:23:48+00:00\n",
      "\n",
      "is_this_ric_in_all: True   up_to_date_ric: 2020-11-04 15:18:47+00:00 news_get_df.shape: 100\n",
      "0; 1; 2; 3; 4; 5; 6; 7; 8; 9; 10; 11; 12; 13; 14; 15; 16; 17; 18; 19; 20; 21; 22; 23; 24; 25; 26; 27; 28; 29; 30; 31; 32; 33; 34; 35; 36; 37; 38; 39; 40; 41; 42; 43; 44; 45; 46; 47; 48; 49; 50; 51; 52; 53; 54; 55; 56; 57; 58; 59; 60; 61; 62; 63; 64; 65; 66; 67; 68; 69; 70; 71; 72; 73; 74; 75; 76; 77; 78; 79; 80; 81; 82; 83; 84; 85; 86; 87; 88; 89; 90; 91; 92; 93; 94; 95; 96; 97; 98; 99; \n",
      "2020-12-30 05:54:31.303459 VOWG_p.DE  ric_i: 3  headline_slice_i: 11  headline_number: 100  not null: 100 2020-11-04 15:18:47+00:00\n",
      "\n",
      "is_this_ric_in_all: True   up_to_date_ric: 2020-10-29 15:00:02+00:00 news_get_df.shape: 100\n",
      "0; 1; 2; 3; 4; 5; 6; 7; 8; 9; 10; 11; 12; 13; 14; 15; 16; 17; 18; 19; 20; 21; 22; 23; 24; 25; 26; 27; 28; 29; 30; 31; 32; 33; 34; 35; 36; 37; 38; 39; 40; 41; 42; 43; 44; 45; 46; 47; \n",
      "STORY IS OK: False   ric_now: VOWG_p.DE   ric_i: 3   story_i: 48\n",
      "49; 50; 51; 52; 53; 54; 55; 56; 57; \n",
      "STORY IS OK: False   ric_now: VOWG_p.DE   ric_i: 3   story_i: 58\n",
      "59; 60; 61; 62; 63; 64; 65; 66; 67; 68; 69; 70; 71; 72; 73; 74; 75; 76; 77; 78; 79; 80; 81; 82; 83; 84; 85; 86; 87; 88; 89; 90; 91; 92; 93; 94; 95; 96; 97; 98; 99; \n",
      "2020-12-30 05:59:35.202191 VOWG_p.DE  ric_i: 3  headline_slice_i: 12  headline_number: 100  not null: 98 2020-10-29 15:00:02+00:00\n",
      "\n",
      "is_this_ric_in_all: True   up_to_date_ric: 2020-10-27 14:08:42.924000+00:00 news_get_df.shape: 100\n",
      "0; 1; 2; 3; 4; 5; 6; 7; 8; 9; 10; 11; 12; 13; 14; 15; 16; 17; 18; 19; 20; 21; 22; 23; 24; 25; 26; 27; 28; 29; 30; 31; 32; 33; 34; 35; 36; 37; 38; 39; 40; 41; 42; 43; 44; 45; 46; 47; 48; 49; 50; 51; 52; 53; 54; 55; 56; 57; 58; 59; 60; 61; 62; 63; 64; 65; 66; 67; 68; 69; 70; 71; 72; 73; 74; 75; 76; 77; 78; 79; 80; 81; 82; 83; 84; 85; 86; 87; 88; 89; 90; 91; 92; 93; 94; 95; 96; 97; 98; 99; \n",
      "2020-12-30 06:03:20.339205 VOWG_p.DE  ric_i: 3  headline_slice_i: 13  headline_number: 100  not null: 100 2020-10-27 14:08:42.924000+00:00\n",
      "\n",
      "is_this_ric_in_all: True   up_to_date_ric: 2020-10-17 03:15:21.279000+00:00 news_get_df.shape: 100\n",
      "0; 1; 2; 3; 4; 5; 6; 7; 8; 9; 10; 11; 12; 13; 14; 15; 16; 17; 18; 19; 20; 21; 22; 23; 24; 25; 26; 27; 28; 29; 30; 31; 32; 33; 34; 35; 36; 37; 38; 39; 40; 41; 42; 43; 44; 45; 46; 47; 48; 49; 50; 51; 52; 53; 54; 55; 56; 57; 58; 59; 60; 61; 62; 63; 64; 65; 66; 67; 68; 69; 70; 71; 72; 73; 74; 75; 76; 77; 78; 79; 80; 81; 82; 83; 84; 85; 86; 87; 88; 89; 90; 91; 92; 93; 94; 95; 96; 97; 98; 99; \n",
      "2020-12-30 06:07:04.069417 VOWG_p.DE  ric_i: 3  headline_slice_i: 14  headline_number: 100  not null: 100 2020-10-17 03:15:21.279000+00:00\n",
      "\n",
      "is_this_ric_in_all: True   up_to_date_ric: 2020-10-13 10:06:42+00:00 news_get_df.shape: 100\n",
      "0; 1; 2; 3; 4; 5; 6; 7; 8; 9; 10; 11; 12; 13; 14; 15; 16; 17; 18; 19; 20; 21; 22; 23; 24; 25; 26; 27; 28; 29; 30; 31; 32; 33; 34; 35; 36; 37; 38; 39; 40; 41; 42; 43; 44; 45; 46; 47; 48; 49; 50; 51; 52; 53; 54; 55; 56; 57; 58; 59; 60; 61; 62; 63; 64; 65; 66; 67; 68; 69; 70; 71; 72; 73; 74; 75; 76; 77; 78; 79; 80; 81; 82; 83; 84; 85; 86; 87; 88; 89; 90; 91; 92; 93; 94; 95; 96; 97; 98; 99; \n",
      "2020-12-30 06:10:44.265456 VOWG_p.DE  ric_i: 3  headline_slice_i: 15  headline_number: 100  not null: 100 2020-10-13 10:06:42+00:00\n",
      "\n",
      "is_this_ric_in_all: True   up_to_date_ric: 2020-10-04 08:52:31.250000+00:00 news_get_df.shape: 100\n",
      "0; 1; 2; 3; 4; 5; 6; 7; 8; 9; 10; 11; 12; 13; 14; 15; 16; 17; 18; 19; 20; 21; 22; 23; 24; 25; 26; 27; 28; 29; 30; 31; 32; \n",
      "STORY IS OK: False   ric_now: VOWG_p.DE   ric_i: 3   story_i: 33\n",
      "34; 35; 36; 37; 38; 39; 40; 41; 42; 43; 44; 45; 46; 47; 48; 49; 50; 51; 52; 53; 54; 55; 56; 57; 58; 59; 60; 61; 62; 63; 64; 65; 66; 67; 68; 69; 70; 71; 72; 73; 74; 75; 76; 77; 78; 79; 80; 81; 82; 83; 84; 85; 86; 87; 88; 89; 90; 91; 92; 93; 94; 95; 96; 97; 98; 99; \n",
      "2020-12-30 06:15:06.290173 VOWG_p.DE  ric_i: 3  headline_slice_i: 16  headline_number: 100  not null: 99 2020-10-04 08:52:31.250000+00:00\n",
      "\n",
      "is_this_ric_in_all: True   up_to_date_ric: 2020-09-30 08:02:51+00:00 news_get_df.shape: 100\n",
      "0; 1; 2; 3; 4; 5; 6; 7; 8; 9; 10; 11; 12; 13; 14; 15; 16; 17; 18; 19; 20; 21; 22; 23; 24; 25; 26; 27; 28; 29; 30; 31; 32; 33; 34; 35; 36; 37; 38; 39; 40; 41; 42; 43; 44; 45; 46; 47; 48; 49; 50; 51; 52; 53; 54; 55; 56; 57; 58; 59; 60; 61; 62; 63; 64; 65; 66; 67; 68; 69; 70; 71; 72; 73; 74; 75; 76; 77; 78; 79; 80; 81; 82; 83; 84; 85; 86; 87; 88; 89; 90; 91; 92; 93; 94; 95; 96; 97; 98; 99; \n",
      "2020-12-30 06:18:45.509036 VOWG_p.DE  ric_i: 3  headline_slice_i: 17  headline_number: 100  not null: 100 2020-09-30 08:02:51+00:00\n",
      "\n",
      "is_this_ric_in_all: True   up_to_date_ric: 2020-09-25 10:21:08.163000+00:00 news_get_df.shape: 100\n",
      "0; 1; 2; 3; 4; 5; 6; 7; 8; 9; 10; 11; 12; 13; 14; "
     ]
    },
    {
     "name": "stderr",
     "output_type": "stream",
     "text": [
      "2020-12-30 06:19:14,768 P[18872] [MainThread 7824] Error code 429 | Client Error: Too many requests, please try again later. Wait for 63646 seconds.\n",
      "2020-12-30 06:19:14,769 P[18872] [MainThread 7824] HTTP request failed: EikonError-Client Error: Too many requests, please try again later. Wait for 63646 seconds.\n"
     ]
    },
    {
     "name": "stdout",
     "output_type": "stream",
     "text": [
      "15; \n",
      "STORY IS OK: False   ric_now: VOWG_p.DE   ric_i: 3   story_i: 16\n"
     ]
    },
    {
     "name": "stderr",
     "output_type": "stream",
     "text": [
      "2020-12-30 06:19:19,792 P[18872] [MainThread 7824] Error code 429 | Client Error: Too many requests, please try again later. Wait for 63641 seconds.\n",
      "2020-12-30 06:19:19,792 P[18872] [MainThread 7824] HTTP request failed: EikonError-Client Error: Too many requests, please try again later. Wait for 63641 seconds.\n"
     ]
    },
    {
     "name": "stdout",
     "output_type": "stream",
     "text": [
      "\n",
      "STORY IS OK: False   ric_now: VOWG_p.DE   ric_i: 3   story_i: 17\n"
     ]
    },
    {
     "name": "stderr",
     "output_type": "stream",
     "text": [
      "2020-12-30 06:19:24,807 P[18872] [MainThread 7824] Error code 429 | Client Error: Too many requests, please try again later. Wait for 63636 seconds.\n",
      "2020-12-30 06:19:24,808 P[18872] [MainThread 7824] HTTP request failed: EikonError-Client Error: Too many requests, please try again later. Wait for 63636 seconds.\n"
     ]
    },
    {
     "name": "stdout",
     "output_type": "stream",
     "text": [
      "\n",
      "STORY IS OK: False   ric_now: VOWG_p.DE   ric_i: 3   story_i: 18\n"
     ]
    },
    {
     "name": "stderr",
     "output_type": "stream",
     "text": [
      "2020-12-30 06:19:29,829 P[18872] [MainThread 7824] Error code 429 | Client Error: Too many requests, please try again later. Wait for 63631 seconds.\n",
      "2020-12-30 06:19:29,830 P[18872] [MainThread 7824] HTTP request failed: EikonError-Client Error: Too many requests, please try again later. Wait for 63631 seconds.\n"
     ]
    },
    {
     "name": "stdout",
     "output_type": "stream",
     "text": [
      "\n",
      "STORY IS OK: False   ric_now: VOWG_p.DE   ric_i: 3   story_i: 19\n"
     ]
    },
    {
     "name": "stderr",
     "output_type": "stream",
     "text": [
      "2020-12-30 06:19:34,848 P[18872] [MainThread 7824] Error code 429 | Client Error: Too many requests, please try again later. Wait for 63626 seconds.\n",
      "2020-12-30 06:19:34,849 P[18872] [MainThread 7824] HTTP request failed: EikonError-Client Error: Too many requests, please try again later. Wait for 63626 seconds.\n"
     ]
    },
    {
     "name": "stdout",
     "output_type": "stream",
     "text": [
      "\n",
      "STORY IS OK: False   ric_now: VOWG_p.DE   ric_i: 3   story_i: 20\n"
     ]
    },
    {
     "name": "stderr",
     "output_type": "stream",
     "text": [
      "2020-12-30 06:19:39,871 P[18872] [MainThread 7824] Error code 429 | Client Error: Too many requests, please try again later. Wait for 63621 seconds.\n",
      "2020-12-30 06:19:39,872 P[18872] [MainThread 7824] HTTP request failed: EikonError-Client Error: Too many requests, please try again later. Wait for 63621 seconds.\n"
     ]
    },
    {
     "name": "stdout",
     "output_type": "stream",
     "text": [
      "\n",
      "STORY IS OK: False   ric_now: VOWG_p.DE   ric_i: 3   story_i: 21\n"
     ]
    },
    {
     "name": "stderr",
     "output_type": "stream",
     "text": [
      "2020-12-30 06:19:44,897 P[18872] [MainThread 7824] Error code 429 | Client Error: Too many requests, please try again later. Wait for 63616 seconds.\n",
      "2020-12-30 06:19:44,898 P[18872] [MainThread 7824] HTTP request failed: EikonError-Client Error: Too many requests, please try again later. Wait for 63616 seconds.\n"
     ]
    },
    {
     "name": "stdout",
     "output_type": "stream",
     "text": [
      "\n",
      "STORY IS OK: False   ric_now: VOWG_p.DE   ric_i: 3   story_i: 22\n"
     ]
    },
    {
     "name": "stderr",
     "output_type": "stream",
     "text": [
      "2020-12-30 06:19:49,915 P[18872] [MainThread 7824] Error code 429 | Client Error: Too many requests, please try again later. Wait for 63611 seconds.\n",
      "2020-12-30 06:19:49,916 P[18872] [MainThread 7824] HTTP request failed: EikonError-Client Error: Too many requests, please try again later. Wait for 63611 seconds.\n"
     ]
    },
    {
     "name": "stdout",
     "output_type": "stream",
     "text": [
      "\n",
      "STORY IS OK: False   ric_now: VOWG_p.DE   ric_i: 3   story_i: 23\n"
     ]
    },
    {
     "name": "stderr",
     "output_type": "stream",
     "text": [
      "2020-12-30 06:19:54,930 P[18872] [MainThread 7824] Error code 429 | Client Error: Too many requests, please try again later. Wait for 63606 seconds.\n",
      "2020-12-30 06:19:54,931 P[18872] [MainThread 7824] HTTP request failed: EikonError-Client Error: Too many requests, please try again later. Wait for 63606 seconds.\n"
     ]
    },
    {
     "name": "stdout",
     "output_type": "stream",
     "text": [
      "\n",
      "STORY IS OK: False   ric_now: VOWG_p.DE   ric_i: 3   story_i: 24\n"
     ]
    },
    {
     "name": "stderr",
     "output_type": "stream",
     "text": [
      "2020-12-30 06:19:59,948 P[18872] [MainThread 7824] Error code 429 | Client Error: Too many requests, please try again later. Wait for 63601 seconds.\n",
      "2020-12-30 06:19:59,948 P[18872] [MainThread 7824] HTTP request failed: EikonError-Client Error: Too many requests, please try again later. Wait for 63601 seconds.\n"
     ]
    },
    {
     "name": "stdout",
     "output_type": "stream",
     "text": [
      "\n",
      "STORY IS OK: False   ric_now: VOWG_p.DE   ric_i: 3   story_i: 25\n"
     ]
    },
    {
     "name": "stderr",
     "output_type": "stream",
     "text": [
      "2020-12-30 06:20:04,966 P[18872] [MainThread 7824] Error code 429 | Client Error: Too many requests, please try again later. Wait for 63596 seconds.\n",
      "2020-12-30 06:20:04,967 P[18872] [MainThread 7824] HTTP request failed: EikonError-Client Error: Too many requests, please try again later. Wait for 63596 seconds.\n"
     ]
    },
    {
     "name": "stdout",
     "output_type": "stream",
     "text": [
      "\n",
      "STORY IS OK: False   ric_now: VOWG_p.DE   ric_i: 3   story_i: 26\n"
     ]
    },
    {
     "name": "stderr",
     "output_type": "stream",
     "text": [
      "2020-12-30 06:20:09,988 P[18872] [MainThread 7824] Error code 429 | Client Error: Too many requests, please try again later. Wait for 63591 seconds.\n",
      "2020-12-30 06:20:09,989 P[18872] [MainThread 7824] HTTP request failed: EikonError-Client Error: Too many requests, please try again later. Wait for 63591 seconds.\n"
     ]
    },
    {
     "name": "stdout",
     "output_type": "stream",
     "text": [
      "\n",
      "STORY IS OK: False   ric_now: VOWG_p.DE   ric_i: 3   story_i: 27\n"
     ]
    },
    {
     "name": "stderr",
     "output_type": "stream",
     "text": [
      "2020-12-30 06:20:15,010 P[18872] [MainThread 7824] Error code 429 | Client Error: Too many requests, please try again later. Wait for 63585 seconds.\n",
      "2020-12-30 06:20:15,010 P[18872] [MainThread 7824] HTTP request failed: EikonError-Client Error: Too many requests, please try again later. Wait for 63585 seconds.\n"
     ]
    },
    {
     "name": "stdout",
     "output_type": "stream",
     "text": [
      "\n",
      "STORY IS OK: False   ric_now: VOWG_p.DE   ric_i: 3   story_i: 28\n"
     ]
    },
    {
     "name": "stderr",
     "output_type": "stream",
     "text": [
      "2020-12-30 06:20:20,028 P[18872] [MainThread 7824] Error code 429 | Client Error: Too many requests, please try again later. Wait for 63580 seconds.\n",
      "2020-12-30 06:20:20,028 P[18872] [MainThread 7824] HTTP request failed: EikonError-Client Error: Too many requests, please try again later. Wait for 63580 seconds.\n"
     ]
    },
    {
     "name": "stdout",
     "output_type": "stream",
     "text": [
      "\n",
      "STORY IS OK: False   ric_now: VOWG_p.DE   ric_i: 3   story_i: 29\n"
     ]
    },
    {
     "name": "stderr",
     "output_type": "stream",
     "text": [
      "2020-12-30 06:20:25,055 P[18872] [MainThread 7824] Error code 429 | Client Error: Too many requests, please try again later. Wait for 63575 seconds.\n",
      "2020-12-30 06:20:25,056 P[18872] [MainThread 7824] HTTP request failed: EikonError-Client Error: Too many requests, please try again later. Wait for 63575 seconds.\n"
     ]
    },
    {
     "name": "stdout",
     "output_type": "stream",
     "text": [
      "\n",
      "STORY IS OK: False   ric_now: VOWG_p.DE   ric_i: 3   story_i: 30\n"
     ]
    },
    {
     "name": "stderr",
     "output_type": "stream",
     "text": [
      "2020-12-30 06:20:30,083 P[18872] [MainThread 7824] Error code 429 | Client Error: Too many requests, please try again later. Wait for 63570 seconds.\n",
      "2020-12-30 06:20:30,083 P[18872] [MainThread 7824] HTTP request failed: EikonError-Client Error: Too many requests, please try again later. Wait for 63570 seconds.\n"
     ]
    },
    {
     "name": "stdout",
     "output_type": "stream",
     "text": [
      "\n",
      "STORY IS OK: False   ric_now: VOWG_p.DE   ric_i: 3   story_i: 31\n"
     ]
    },
    {
     "name": "stderr",
     "output_type": "stream",
     "text": [
      "2020-12-30 06:20:35,105 P[18872] [MainThread 7824] Error code 429 | Client Error: Too many requests, please try again later. Wait for 63565 seconds.\n",
      "2020-12-30 06:20:35,106 P[18872] [MainThread 7824] HTTP request failed: EikonError-Client Error: Too many requests, please try again later. Wait for 63565 seconds.\n"
     ]
    },
    {
     "name": "stdout",
     "output_type": "stream",
     "text": [
      "\n",
      "STORY IS OK: False   ric_now: VOWG_p.DE   ric_i: 3   story_i: 32\n"
     ]
    },
    {
     "name": "stderr",
     "output_type": "stream",
     "text": [
      "2020-12-30 06:20:40,120 P[18872] [MainThread 7824] Error code 429 | Client Error: Too many requests, please try again later. Wait for 63560 seconds.\n",
      "2020-12-30 06:20:40,120 P[18872] [MainThread 7824] HTTP request failed: EikonError-Client Error: Too many requests, please try again later. Wait for 63560 seconds.\n"
     ]
    },
    {
     "name": "stdout",
     "output_type": "stream",
     "text": [
      "\n",
      "STORY IS OK: False   ric_now: VOWG_p.DE   ric_i: 3   story_i: 33\n"
     ]
    },
    {
     "name": "stderr",
     "output_type": "stream",
     "text": [
      "2020-12-30 06:20:45,133 P[18872] [MainThread 7824] Error code 429 | Client Error: Too many requests, please try again later. Wait for 63555 seconds.\n",
      "2020-12-30 06:20:45,134 P[18872] [MainThread 7824] HTTP request failed: EikonError-Client Error: Too many requests, please try again later. Wait for 63555 seconds.\n"
     ]
    },
    {
     "name": "stdout",
     "output_type": "stream",
     "text": [
      "\n",
      "STORY IS OK: False   ric_now: VOWG_p.DE   ric_i: 3   story_i: 34\n"
     ]
    },
    {
     "name": "stderr",
     "output_type": "stream",
     "text": [
      "2020-12-30 06:20:50,159 P[18872] [MainThread 7824] Error code 429 | Client Error: Too many requests, please try again later. Wait for 63550 seconds.\n",
      "2020-12-30 06:20:50,160 P[18872] [MainThread 7824] HTTP request failed: EikonError-Client Error: Too many requests, please try again later. Wait for 63550 seconds.\n"
     ]
    },
    {
     "name": "stdout",
     "output_type": "stream",
     "text": [
      "\n",
      "STORY IS OK: False   ric_now: VOWG_p.DE   ric_i: 3   story_i: 35\n"
     ]
    },
    {
     "name": "stderr",
     "output_type": "stream",
     "text": [
      "2020-12-30 06:20:55,181 P[18872] [MainThread 7824] Error code 429 | Client Error: Too many requests, please try again later. Wait for 63545 seconds.\n",
      "2020-12-30 06:20:55,182 P[18872] [MainThread 7824] HTTP request failed: EikonError-Client Error: Too many requests, please try again later. Wait for 63545 seconds.\n"
     ]
    },
    {
     "name": "stdout",
     "output_type": "stream",
     "text": [
      "\n",
      "STORY IS OK: False   ric_now: VOWG_p.DE   ric_i: 3   story_i: 36\n"
     ]
    },
    {
     "name": "stderr",
     "output_type": "stream",
     "text": [
      "2020-12-30 06:21:00,197 P[18872] [MainThread 7824] Error code 429 | Client Error: Too many requests, please try again later. Wait for 63540 seconds.\n",
      "2020-12-30 06:21:00,198 P[18872] [MainThread 7824] HTTP request failed: EikonError-Client Error: Too many requests, please try again later. Wait for 63540 seconds.\n"
     ]
    },
    {
     "name": "stdout",
     "output_type": "stream",
     "text": [
      "\n",
      "STORY IS OK: False   ric_now: VOWG_p.DE   ric_i: 3   story_i: 37\n"
     ]
    },
    {
     "name": "stderr",
     "output_type": "stream",
     "text": [
      "2020-12-30 06:21:05,219 P[18872] [MainThread 7824] Error code 429 | Client Error: Too many requests, please try again later. Wait for 63535 seconds.\n",
      "2020-12-30 06:21:05,220 P[18872] [MainThread 7824] HTTP request failed: EikonError-Client Error: Too many requests, please try again later. Wait for 63535 seconds.\n"
     ]
    },
    {
     "name": "stdout",
     "output_type": "stream",
     "text": [
      "\n",
      "STORY IS OK: False   ric_now: VOWG_p.DE   ric_i: 3   story_i: 38\n"
     ]
    },
    {
     "name": "stderr",
     "output_type": "stream",
     "text": [
      "2020-12-30 06:21:10,251 P[18872] [MainThread 7824] Error code 429 | Client Error: Too many requests, please try again later. Wait for 63530 seconds.\n",
      "2020-12-30 06:21:10,252 P[18872] [MainThread 7824] HTTP request failed: EikonError-Client Error: Too many requests, please try again later. Wait for 63530 seconds.\n"
     ]
    },
    {
     "name": "stdout",
     "output_type": "stream",
     "text": [
      "\n",
      "STORY IS OK: False   ric_now: VOWG_p.DE   ric_i: 3   story_i: 39\n"
     ]
    },
    {
     "name": "stderr",
     "output_type": "stream",
     "text": [
      "2020-12-30 06:21:15,272 P[18872] [MainThread 7824] Error code 429 | Client Error: Too many requests, please try again later. Wait for 63525 seconds.\n",
      "2020-12-30 06:21:15,273 P[18872] [MainThread 7824] HTTP request failed: EikonError-Client Error: Too many requests, please try again later. Wait for 63525 seconds.\n"
     ]
    },
    {
     "name": "stdout",
     "output_type": "stream",
     "text": [
      "\n",
      "STORY IS OK: False   ric_now: VOWG_p.DE   ric_i: 3   story_i: 40\n"
     ]
    },
    {
     "name": "stderr",
     "output_type": "stream",
     "text": [
      "2020-12-30 06:21:20,294 P[18872] [MainThread 7824] Error code 429 | Client Error: Too many requests, please try again later. Wait for 63520 seconds.\n",
      "2020-12-30 06:21:20,294 P[18872] [MainThread 7824] HTTP request failed: EikonError-Client Error: Too many requests, please try again later. Wait for 63520 seconds.\n"
     ]
    },
    {
     "name": "stdout",
     "output_type": "stream",
     "text": [
      "\n",
      "STORY IS OK: False   ric_now: VOWG_p.DE   ric_i: 3   story_i: 41\n"
     ]
    },
    {
     "name": "stderr",
     "output_type": "stream",
     "text": [
      "2020-12-30 06:21:25,333 P[18872] [MainThread 7824] Error code 429 | Client Error: Too many requests, please try again later. Wait for 63515 seconds.\n",
      "2020-12-30 06:21:25,333 P[18872] [MainThread 7824] HTTP request failed: EikonError-Client Error: Too many requests, please try again later. Wait for 63515 seconds.\n"
     ]
    },
    {
     "name": "stdout",
     "output_type": "stream",
     "text": [
      "\n",
      "STORY IS OK: False   ric_now: VOWG_p.DE   ric_i: 3   story_i: 42\n"
     ]
    },
    {
     "name": "stderr",
     "output_type": "stream",
     "text": [
      "2020-12-30 06:21:30,347 P[18872] [MainThread 7824] Error code 429 | Client Error: Too many requests, please try again later. Wait for 63510 seconds.\n",
      "2020-12-30 06:21:30,347 P[18872] [MainThread 7824] HTTP request failed: EikonError-Client Error: Too many requests, please try again later. Wait for 63510 seconds.\n"
     ]
    },
    {
     "name": "stdout",
     "output_type": "stream",
     "text": [
      "\n",
      "STORY IS OK: False   ric_now: VOWG_p.DE   ric_i: 3   story_i: 43\n"
     ]
    },
    {
     "name": "stderr",
     "output_type": "stream",
     "text": [
      "2020-12-30 06:21:35,373 P[18872] [MainThread 7824] Error code 429 | Client Error: Too many requests, please try again later. Wait for 63505 seconds.\n",
      "2020-12-30 06:21:35,374 P[18872] [MainThread 7824] HTTP request failed: EikonError-Client Error: Too many requests, please try again later. Wait for 63505 seconds.\n"
     ]
    },
    {
     "name": "stdout",
     "output_type": "stream",
     "text": [
      "\n",
      "STORY IS OK: False   ric_now: VOWG_p.DE   ric_i: 3   story_i: 44\n"
     ]
    },
    {
     "name": "stderr",
     "output_type": "stream",
     "text": [
      "2020-12-30 06:21:40,405 P[18872] [MainThread 7824] Error code 429 | Client Error: Too many requests, please try again later. Wait for 63500 seconds.\n",
      "2020-12-30 06:21:40,406 P[18872] [MainThread 7824] HTTP request failed: EikonError-Client Error: Too many requests, please try again later. Wait for 63500 seconds.\n"
     ]
    },
    {
     "name": "stdout",
     "output_type": "stream",
     "text": [
      "\n",
      "STORY IS OK: False   ric_now: VOWG_p.DE   ric_i: 3   story_i: 45\n"
     ]
    },
    {
     "name": "stderr",
     "output_type": "stream",
     "text": [
      "2020-12-30 06:21:45,430 P[18872] [MainThread 7824] Error code 429 | Client Error: Too many requests, please try again later. Wait for 63495 seconds.\n",
      "2020-12-30 06:21:45,431 P[18872] [MainThread 7824] HTTP request failed: EikonError-Client Error: Too many requests, please try again later. Wait for 63495 seconds.\n"
     ]
    },
    {
     "name": "stdout",
     "output_type": "stream",
     "text": [
      "\n",
      "STORY IS OK: False   ric_now: VOWG_p.DE   ric_i: 3   story_i: 46\n"
     ]
    },
    {
     "name": "stderr",
     "output_type": "stream",
     "text": [
      "2020-12-30 06:21:50,456 P[18872] [MainThread 7824] Error code 429 | Client Error: Too many requests, please try again later. Wait for 63490 seconds.\n",
      "2020-12-30 06:21:50,457 P[18872] [MainThread 7824] HTTP request failed: EikonError-Client Error: Too many requests, please try again later. Wait for 63490 seconds.\n"
     ]
    },
    {
     "name": "stdout",
     "output_type": "stream",
     "text": [
      "\n",
      "STORY IS OK: False   ric_now: VOWG_p.DE   ric_i: 3   story_i: 47\n"
     ]
    },
    {
     "name": "stderr",
     "output_type": "stream",
     "text": [
      "2020-12-30 06:21:55,479 P[18872] [MainThread 7824] Error code 429 | Client Error: Too many requests, please try again later. Wait for 63485 seconds.\n",
      "2020-12-30 06:21:55,480 P[18872] [MainThread 7824] HTTP request failed: EikonError-Client Error: Too many requests, please try again later. Wait for 63485 seconds.\n"
     ]
    },
    {
     "name": "stdout",
     "output_type": "stream",
     "text": [
      "\n",
      "STORY IS OK: False   ric_now: VOWG_p.DE   ric_i: 3   story_i: 48\n"
     ]
    },
    {
     "name": "stderr",
     "output_type": "stream",
     "text": [
      "2020-12-30 06:22:00,498 P[18872] [MainThread 7824] Error code 429 | Client Error: Too many requests, please try again later. Wait for 63480 seconds.\n",
      "2020-12-30 06:22:00,499 P[18872] [MainThread 7824] HTTP request failed: EikonError-Client Error: Too many requests, please try again later. Wait for 63480 seconds.\n"
     ]
    },
    {
     "name": "stdout",
     "output_type": "stream",
     "text": [
      "\n",
      "STORY IS OK: False   ric_now: VOWG_p.DE   ric_i: 3   story_i: 49\n"
     ]
    },
    {
     "name": "stderr",
     "output_type": "stream",
     "text": [
      "2020-12-30 06:22:05,523 P[18872] [MainThread 7824] Error code 429 | Client Error: Too many requests, please try again later. Wait for 63475 seconds.\n",
      "2020-12-30 06:22:05,524 P[18872] [MainThread 7824] HTTP request failed: EikonError-Client Error: Too many requests, please try again later. Wait for 63475 seconds.\n"
     ]
    },
    {
     "name": "stdout",
     "output_type": "stream",
     "text": [
      "\n",
      "STORY IS OK: False   ric_now: VOWG_p.DE   ric_i: 3   story_i: 50\n"
     ]
    },
    {
     "name": "stderr",
     "output_type": "stream",
     "text": [
      "2020-12-30 06:22:10,538 P[18872] [MainThread 7824] Error code 429 | Client Error: Too many requests, please try again later. Wait for 63470 seconds.\n",
      "2020-12-30 06:22:10,539 P[18872] [MainThread 7824] HTTP request failed: EikonError-Client Error: Too many requests, please try again later. Wait for 63470 seconds.\n"
     ]
    },
    {
     "name": "stdout",
     "output_type": "stream",
     "text": [
      "\n",
      "STORY IS OK: False   ric_now: VOWG_p.DE   ric_i: 3   story_i: 51\n"
     ]
    },
    {
     "name": "stderr",
     "output_type": "stream",
     "text": [
      "2020-12-30 06:22:15,566 P[18872] [MainThread 7824] Error code 429 | Client Error: Too many requests, please try again later. Wait for 63465 seconds.\n",
      "2020-12-30 06:22:15,567 P[18872] [MainThread 7824] HTTP request failed: EikonError-Client Error: Too many requests, please try again later. Wait for 63465 seconds.\n"
     ]
    },
    {
     "name": "stdout",
     "output_type": "stream",
     "text": [
      "\n",
      "STORY IS OK: False   ric_now: VOWG_p.DE   ric_i: 3   story_i: 52\n"
     ]
    },
    {
     "name": "stderr",
     "output_type": "stream",
     "text": [
      "2020-12-30 06:22:20,587 P[18872] [MainThread 7824] Error code 429 | Client Error: Too many requests, please try again later. Wait for 63460 seconds.\n",
      "2020-12-30 06:22:20,588 P[18872] [MainThread 7824] HTTP request failed: EikonError-Client Error: Too many requests, please try again later. Wait for 63460 seconds.\n"
     ]
    },
    {
     "name": "stdout",
     "output_type": "stream",
     "text": [
      "\n",
      "STORY IS OK: False   ric_now: VOWG_p.DE   ric_i: 3   story_i: 53\n"
     ]
    },
    {
     "name": "stderr",
     "output_type": "stream",
     "text": [
      "2020-12-30 06:22:25,604 P[18872] [MainThread 7824] Error code 429 | Client Error: Too many requests, please try again later. Wait for 63455 seconds.\n",
      "2020-12-30 06:22:25,605 P[18872] [MainThread 7824] HTTP request failed: EikonError-Client Error: Too many requests, please try again later. Wait for 63455 seconds.\n"
     ]
    },
    {
     "name": "stdout",
     "output_type": "stream",
     "text": [
      "\n",
      "STORY IS OK: False   ric_now: VOWG_p.DE   ric_i: 3   story_i: 54\n"
     ]
    },
    {
     "name": "stderr",
     "output_type": "stream",
     "text": [
      "2020-12-30 06:22:30,633 P[18872] [MainThread 7824] Error code 429 | Client Error: Too many requests, please try again later. Wait for 63450 seconds.\n",
      "2020-12-30 06:22:30,633 P[18872] [MainThread 7824] HTTP request failed: EikonError-Client Error: Too many requests, please try again later. Wait for 63450 seconds.\n"
     ]
    },
    {
     "name": "stdout",
     "output_type": "stream",
     "text": [
      "\n",
      "STORY IS OK: False   ric_now: VOWG_p.DE   ric_i: 3   story_i: 55\n"
     ]
    },
    {
     "name": "stderr",
     "output_type": "stream",
     "text": [
      "2020-12-30 06:22:35,656 P[18872] [MainThread 7824] Error code 429 | Client Error: Too many requests, please try again later. Wait for 63445 seconds.\n",
      "2020-12-30 06:22:35,657 P[18872] [MainThread 7824] HTTP request failed: EikonError-Client Error: Too many requests, please try again later. Wait for 63445 seconds.\n"
     ]
    },
    {
     "name": "stdout",
     "output_type": "stream",
     "text": [
      "\n",
      "STORY IS OK: False   ric_now: VOWG_p.DE   ric_i: 3   story_i: 56\n"
     ]
    },
    {
     "name": "stderr",
     "output_type": "stream",
     "text": [
      "2020-12-30 06:22:40,669 P[18872] [MainThread 7824] Error code 429 | Client Error: Too many requests, please try again later. Wait for 63440 seconds.\n",
      "2020-12-30 06:22:40,670 P[18872] [MainThread 7824] HTTP request failed: EikonError-Client Error: Too many requests, please try again later. Wait for 63440 seconds.\n"
     ]
    },
    {
     "name": "stdout",
     "output_type": "stream",
     "text": [
      "\n",
      "STORY IS OK: False   ric_now: VOWG_p.DE   ric_i: 3   story_i: 57\n"
     ]
    },
    {
     "name": "stderr",
     "output_type": "stream",
     "text": [
      "2020-12-30 06:22:45,694 P[18872] [MainThread 7824] Error code 429 | Client Error: Too many requests, please try again later. Wait for 63435 seconds.\n",
      "2020-12-30 06:22:45,695 P[18872] [MainThread 7824] HTTP request failed: EikonError-Client Error: Too many requests, please try again later. Wait for 63435 seconds.\n"
     ]
    },
    {
     "name": "stdout",
     "output_type": "stream",
     "text": [
      "\n",
      "STORY IS OK: False   ric_now: VOWG_p.DE   ric_i: 3   story_i: 58\n"
     ]
    },
    {
     "name": "stderr",
     "output_type": "stream",
     "text": [
      "2020-12-30 06:22:50,721 P[18872] [MainThread 7824] Error code 429 | Client Error: Too many requests, please try again later. Wait for 63430 seconds.\n",
      "2020-12-30 06:22:50,721 P[18872] [MainThread 7824] HTTP request failed: EikonError-Client Error: Too many requests, please try again later. Wait for 63430 seconds.\n"
     ]
    },
    {
     "name": "stdout",
     "output_type": "stream",
     "text": [
      "\n",
      "STORY IS OK: False   ric_now: VOWG_p.DE   ric_i: 3   story_i: 59\n"
     ]
    },
    {
     "name": "stderr",
     "output_type": "stream",
     "text": [
      "2020-12-30 06:22:55,748 P[18872] [MainThread 7824] Error code 429 | Client Error: Too many requests, please try again later. Wait for 63425 seconds.\n",
      "2020-12-30 06:22:55,749 P[18872] [MainThread 7824] HTTP request failed: EikonError-Client Error: Too many requests, please try again later. Wait for 63425 seconds.\n"
     ]
    },
    {
     "name": "stdout",
     "output_type": "stream",
     "text": [
      "\n",
      "STORY IS OK: False   ric_now: VOWG_p.DE   ric_i: 3   story_i: 60\n"
     ]
    },
    {
     "name": "stderr",
     "output_type": "stream",
     "text": [
      "2020-12-30 06:23:00,773 P[18872] [MainThread 7824] Error code 429 | Client Error: Too many requests, please try again later. Wait for 63420 seconds.\n",
      "2020-12-30 06:23:00,773 P[18872] [MainThread 7824] HTTP request failed: EikonError-Client Error: Too many requests, please try again later. Wait for 63420 seconds.\n"
     ]
    },
    {
     "name": "stdout",
     "output_type": "stream",
     "text": [
      "\n",
      "STORY IS OK: False   ric_now: VOWG_p.DE   ric_i: 3   story_i: 61\n"
     ]
    },
    {
     "name": "stderr",
     "output_type": "stream",
     "text": [
      "2020-12-30 06:23:05,803 P[18872] [MainThread 7824] Error code 429 | Client Error: Too many requests, please try again later. Wait for 63415 seconds.\n",
      "2020-12-30 06:23:05,803 P[18872] [MainThread 7824] HTTP request failed: EikonError-Client Error: Too many requests, please try again later. Wait for 63415 seconds.\n"
     ]
    },
    {
     "name": "stdout",
     "output_type": "stream",
     "text": [
      "\n",
      "STORY IS OK: False   ric_now: VOWG_p.DE   ric_i: 3   story_i: 62\n"
     ]
    },
    {
     "name": "stderr",
     "output_type": "stream",
     "text": [
      "2020-12-30 06:23:10,823 P[18872] [MainThread 7824] Error code 429 | Client Error: Too many requests, please try again later. Wait for 63410 seconds.\n",
      "2020-12-30 06:23:10,824 P[18872] [MainThread 7824] HTTP request failed: EikonError-Client Error: Too many requests, please try again later. Wait for 63410 seconds.\n"
     ]
    },
    {
     "name": "stdout",
     "output_type": "stream",
     "text": [
      "\n",
      "STORY IS OK: False   ric_now: VOWG_p.DE   ric_i: 3   story_i: 63\n"
     ]
    },
    {
     "name": "stderr",
     "output_type": "stream",
     "text": [
      "2020-12-30 06:23:15,843 P[18872] [MainThread 7824] Error code 429 | Client Error: Too many requests, please try again later. Wait for 63405 seconds.\n",
      "2020-12-30 06:23:15,844 P[18872] [MainThread 7824] HTTP request failed: EikonError-Client Error: Too many requests, please try again later. Wait for 63405 seconds.\n"
     ]
    },
    {
     "name": "stdout",
     "output_type": "stream",
     "text": [
      "\n",
      "STORY IS OK: False   ric_now: VOWG_p.DE   ric_i: 3   story_i: 64\n"
     ]
    },
    {
     "name": "stderr",
     "output_type": "stream",
     "text": [
      "2020-12-30 06:23:20,863 P[18872] [MainThread 7824] Error code 429 | Client Error: Too many requests, please try again later. Wait for 63400 seconds.\n",
      "2020-12-30 06:23:20,864 P[18872] [MainThread 7824] HTTP request failed: EikonError-Client Error: Too many requests, please try again later. Wait for 63400 seconds.\n"
     ]
    },
    {
     "name": "stdout",
     "output_type": "stream",
     "text": [
      "\n",
      "STORY IS OK: False   ric_now: VOWG_p.DE   ric_i: 3   story_i: 65\n"
     ]
    },
    {
     "name": "stderr",
     "output_type": "stream",
     "text": [
      "2020-12-30 06:23:25,875 P[18872] [MainThread 7824] Error code 429 | Client Error: Too many requests, please try again later. Wait for 63395 seconds.\n",
      "2020-12-30 06:23:25,876 P[18872] [MainThread 7824] HTTP request failed: EikonError-Client Error: Too many requests, please try again later. Wait for 63395 seconds.\n"
     ]
    },
    {
     "name": "stdout",
     "output_type": "stream",
     "text": [
      "\n",
      "STORY IS OK: False   ric_now: VOWG_p.DE   ric_i: 3   story_i: 66\n"
     ]
    },
    {
     "name": "stderr",
     "output_type": "stream",
     "text": [
      "2020-12-30 06:23:30,891 P[18872] [MainThread 7824] Error code 429 | Client Error: Too many requests, please try again later. Wait for 63390 seconds.\n",
      "2020-12-30 06:23:30,891 P[18872] [MainThread 7824] HTTP request failed: EikonError-Client Error: Too many requests, please try again later. Wait for 63390 seconds.\n"
     ]
    },
    {
     "name": "stdout",
     "output_type": "stream",
     "text": [
      "\n",
      "STORY IS OK: False   ric_now: VOWG_p.DE   ric_i: 3   story_i: 67\n"
     ]
    },
    {
     "name": "stderr",
     "output_type": "stream",
     "text": [
      "2020-12-30 06:23:35,916 P[18872] [MainThread 7824] Error code 429 | Client Error: Too many requests, please try again later. Wait for 63385 seconds.\n",
      "2020-12-30 06:23:35,916 P[18872] [MainThread 7824] HTTP request failed: EikonError-Client Error: Too many requests, please try again later. Wait for 63385 seconds.\n"
     ]
    },
    {
     "name": "stdout",
     "output_type": "stream",
     "text": [
      "\n",
      "STORY IS OK: False   ric_now: VOWG_p.DE   ric_i: 3   story_i: 68\n"
     ]
    },
    {
     "name": "stderr",
     "output_type": "stream",
     "text": [
      "2020-12-30 06:23:40,931 P[18872] [MainThread 7824] Error code 429 | Client Error: Too many requests, please try again later. Wait for 63380 seconds.\n",
      "2020-12-30 06:23:40,932 P[18872] [MainThread 7824] HTTP request failed: EikonError-Client Error: Too many requests, please try again later. Wait for 63380 seconds.\n"
     ]
    },
    {
     "name": "stdout",
     "output_type": "stream",
     "text": [
      "\n",
      "STORY IS OK: False   ric_now: VOWG_p.DE   ric_i: 3   story_i: 69\n"
     ]
    },
    {
     "name": "stderr",
     "output_type": "stream",
     "text": [
      "2020-12-30 06:23:45,949 P[18872] [MainThread 7824] Error code 429 | Client Error: Too many requests, please try again later. Wait for 63375 seconds.\n",
      "2020-12-30 06:23:45,949 P[18872] [MainThread 7824] HTTP request failed: EikonError-Client Error: Too many requests, please try again later. Wait for 63375 seconds.\n"
     ]
    },
    {
     "name": "stdout",
     "output_type": "stream",
     "text": [
      "\n",
      "STORY IS OK: False   ric_now: VOWG_p.DE   ric_i: 3   story_i: 70\n"
     ]
    },
    {
     "name": "stderr",
     "output_type": "stream",
     "text": [
      "2020-12-30 06:23:50,963 P[18872] [MainThread 7824] Error code 429 | Client Error: Too many requests, please try again later. Wait for 63370 seconds.\n",
      "2020-12-30 06:23:50,964 P[18872] [MainThread 7824] HTTP request failed: EikonError-Client Error: Too many requests, please try again later. Wait for 63370 seconds.\n"
     ]
    },
    {
     "name": "stdout",
     "output_type": "stream",
     "text": [
      "\n",
      "STORY IS OK: False   ric_now: VOWG_p.DE   ric_i: 3   story_i: 71\n"
     ]
    },
    {
     "name": "stderr",
     "output_type": "stream",
     "text": [
      "2020-12-30 06:23:55,991 P[18872] [MainThread 7824] Error code 429 | Client Error: Too many requests, please try again later. Wait for 63365 seconds.\n",
      "2020-12-30 06:23:55,992 P[18872] [MainThread 7824] HTTP request failed: EikonError-Client Error: Too many requests, please try again later. Wait for 63365 seconds.\n"
     ]
    },
    {
     "name": "stdout",
     "output_type": "stream",
     "text": [
      "\n",
      "STORY IS OK: False   ric_now: VOWG_p.DE   ric_i: 3   story_i: 72\n"
     ]
    },
    {
     "name": "stderr",
     "output_type": "stream",
     "text": [
      "2020-12-30 06:24:01,019 P[18872] [MainThread 7824] Error code 429 | Client Error: Too many requests, please try again later. Wait for 63359 seconds.\n",
      "2020-12-30 06:24:01,019 P[18872] [MainThread 7824] HTTP request failed: EikonError-Client Error: Too many requests, please try again later. Wait for 63359 seconds.\n"
     ]
    },
    {
     "name": "stdout",
     "output_type": "stream",
     "text": [
      "\n",
      "STORY IS OK: False   ric_now: VOWG_p.DE   ric_i: 3   story_i: 73\n"
     ]
    },
    {
     "name": "stderr",
     "output_type": "stream",
     "text": [
      "2020-12-30 06:24:06,035 P[18872] [MainThread 7824] Error code 429 | Client Error: Too many requests, please try again later. Wait for 63354 seconds.\n",
      "2020-12-30 06:24:06,035 P[18872] [MainThread 7824] HTTP request failed: EikonError-Client Error: Too many requests, please try again later. Wait for 63354 seconds.\n"
     ]
    },
    {
     "name": "stdout",
     "output_type": "stream",
     "text": [
      "\n",
      "STORY IS OK: False   ric_now: VOWG_p.DE   ric_i: 3   story_i: 74\n"
     ]
    },
    {
     "name": "stderr",
     "output_type": "stream",
     "text": [
      "2020-12-30 06:24:11,051 P[18872] [MainThread 7824] Error code 429 | Client Error: Too many requests, please try again later. Wait for 63349 seconds.\n",
      "2020-12-30 06:24:11,052 P[18872] [MainThread 7824] HTTP request failed: EikonError-Client Error: Too many requests, please try again later. Wait for 63349 seconds.\n"
     ]
    },
    {
     "name": "stdout",
     "output_type": "stream",
     "text": [
      "\n",
      "STORY IS OK: False   ric_now: VOWG_p.DE   ric_i: 3   story_i: 75\n"
     ]
    },
    {
     "name": "stderr",
     "output_type": "stream",
     "text": [
      "2020-12-30 06:24:16,069 P[18872] [MainThread 7824] Error code 429 | Client Error: Too many requests, please try again later. Wait for 63344 seconds.\n",
      "2020-12-30 06:24:16,069 P[18872] [MainThread 7824] HTTP request failed: EikonError-Client Error: Too many requests, please try again later. Wait for 63344 seconds.\n"
     ]
    },
    {
     "name": "stdout",
     "output_type": "stream",
     "text": [
      "\n",
      "STORY IS OK: False   ric_now: VOWG_p.DE   ric_i: 3   story_i: 76\n"
     ]
    },
    {
     "name": "stderr",
     "output_type": "stream",
     "text": [
      "2020-12-30 06:24:21,096 P[18872] [MainThread 7824] Error code 429 | Client Error: Too many requests, please try again later. Wait for 63339 seconds.\n",
      "2020-12-30 06:24:21,096 P[18872] [MainThread 7824] HTTP request failed: EikonError-Client Error: Too many requests, please try again later. Wait for 63339 seconds.\n"
     ]
    },
    {
     "name": "stdout",
     "output_type": "stream",
     "text": [
      "\n",
      "STORY IS OK: False   ric_now: VOWG_p.DE   ric_i: 3   story_i: 77\n"
     ]
    },
    {
     "name": "stderr",
     "output_type": "stream",
     "text": [
      "2020-12-30 06:24:26,125 P[18872] [MainThread 7824] Error code 429 | Client Error: Too many requests, please try again later. Wait for 63334 seconds.\n",
      "2020-12-30 06:24:26,126 P[18872] [MainThread 7824] HTTP request failed: EikonError-Client Error: Too many requests, please try again later. Wait for 63334 seconds.\n"
     ]
    },
    {
     "name": "stdout",
     "output_type": "stream",
     "text": [
      "\n",
      "STORY IS OK: False   ric_now: VOWG_p.DE   ric_i: 3   story_i: 78\n"
     ]
    },
    {
     "name": "stderr",
     "output_type": "stream",
     "text": [
      "2020-12-30 06:24:31,145 P[18872] [MainThread 7824] Error code 429 | Client Error: Too many requests, please try again later. Wait for 63329 seconds.\n",
      "2020-12-30 06:24:31,145 P[18872] [MainThread 7824] HTTP request failed: EikonError-Client Error: Too many requests, please try again later. Wait for 63329 seconds.\n"
     ]
    },
    {
     "name": "stdout",
     "output_type": "stream",
     "text": [
      "\n",
      "STORY IS OK: False   ric_now: VOWG_p.DE   ric_i: 3   story_i: 79\n"
     ]
    },
    {
     "name": "stderr",
     "output_type": "stream",
     "text": [
      "2020-12-30 06:24:36,163 P[18872] [MainThread 7824] Error code 429 | Client Error: Too many requests, please try again later. Wait for 63324 seconds.\n",
      "2020-12-30 06:24:36,163 P[18872] [MainThread 7824] HTTP request failed: EikonError-Client Error: Too many requests, please try again later. Wait for 63324 seconds.\n"
     ]
    },
    {
     "name": "stdout",
     "output_type": "stream",
     "text": [
      "\n",
      "STORY IS OK: False   ric_now: VOWG_p.DE   ric_i: 3   story_i: 80\n"
     ]
    },
    {
     "name": "stderr",
     "output_type": "stream",
     "text": [
      "2020-12-30 06:24:41,187 P[18872] [MainThread 7824] Error code 429 | Client Error: Too many requests, please try again later. Wait for 63319 seconds.\n",
      "2020-12-30 06:24:41,187 P[18872] [MainThread 7824] HTTP request failed: EikonError-Client Error: Too many requests, please try again later. Wait for 63319 seconds.\n"
     ]
    },
    {
     "name": "stdout",
     "output_type": "stream",
     "text": [
      "\n",
      "STORY IS OK: False   ric_now: VOWG_p.DE   ric_i: 3   story_i: 81\n"
     ]
    },
    {
     "name": "stderr",
     "output_type": "stream",
     "text": [
      "2020-12-30 06:24:46,216 P[18872] [MainThread 7824] Error code 429 | Client Error: Too many requests, please try again later. Wait for 63314 seconds.\n",
      "2020-12-30 06:24:46,217 P[18872] [MainThread 7824] HTTP request failed: EikonError-Client Error: Too many requests, please try again later. Wait for 63314 seconds.\n"
     ]
    },
    {
     "name": "stdout",
     "output_type": "stream",
     "text": [
      "\n",
      "STORY IS OK: False   ric_now: VOWG_p.DE   ric_i: 3   story_i: 82\n"
     ]
    },
    {
     "name": "stderr",
     "output_type": "stream",
     "text": [
      "2020-12-30 06:24:51,244 P[18872] [MainThread 7824] Error code 429 | Client Error: Too many requests, please try again later. Wait for 63309 seconds.\n",
      "2020-12-30 06:24:51,245 P[18872] [MainThread 7824] HTTP request failed: EikonError-Client Error: Too many requests, please try again later. Wait for 63309 seconds.\n"
     ]
    },
    {
     "name": "stdout",
     "output_type": "stream",
     "text": [
      "\n",
      "STORY IS OK: False   ric_now: VOWG_p.DE   ric_i: 3   story_i: 83\n"
     ]
    },
    {
     "name": "stderr",
     "output_type": "stream",
     "text": [
      "2020-12-30 06:24:56,265 P[18872] [MainThread 7824] Error code 429 | Client Error: Too many requests, please try again later. Wait for 63304 seconds.\n",
      "2020-12-30 06:24:56,265 P[18872] [MainThread 7824] HTTP request failed: EikonError-Client Error: Too many requests, please try again later. Wait for 63304 seconds.\n"
     ]
    },
    {
     "name": "stdout",
     "output_type": "stream",
     "text": [
      "\n",
      "STORY IS OK: False   ric_now: VOWG_p.DE   ric_i: 3   story_i: 84\n"
     ]
    },
    {
     "name": "stderr",
     "output_type": "stream",
     "text": [
      "2020-12-30 06:25:01,282 P[18872] [MainThread 7824] Error code 429 | Client Error: Too many requests, please try again later. Wait for 63299 seconds.\n",
      "2020-12-30 06:25:01,283 P[18872] [MainThread 7824] HTTP request failed: EikonError-Client Error: Too many requests, please try again later. Wait for 63299 seconds.\n"
     ]
    },
    {
     "name": "stdout",
     "output_type": "stream",
     "text": [
      "\n",
      "STORY IS OK: False   ric_now: VOWG_p.DE   ric_i: 3   story_i: 85\n"
     ]
    },
    {
     "name": "stderr",
     "output_type": "stream",
     "text": [
      "2020-12-30 06:25:06,304 P[18872] [MainThread 7824] Error code 429 | Client Error: Too many requests, please try again later. Wait for 63294 seconds.\n",
      "2020-12-30 06:25:06,305 P[18872] [MainThread 7824] HTTP request failed: EikonError-Client Error: Too many requests, please try again later. Wait for 63294 seconds.\n"
     ]
    },
    {
     "name": "stdout",
     "output_type": "stream",
     "text": [
      "\n",
      "STORY IS OK: False   ric_now: VOWG_p.DE   ric_i: 3   story_i: 86\n"
     ]
    },
    {
     "name": "stderr",
     "output_type": "stream",
     "text": [
      "2020-12-30 06:25:11,331 P[18872] [MainThread 7824] Error code 429 | Client Error: Too many requests, please try again later. Wait for 63289 seconds.\n",
      "2020-12-30 06:25:11,331 P[18872] [MainThread 7824] HTTP request failed: EikonError-Client Error: Too many requests, please try again later. Wait for 63289 seconds.\n"
     ]
    },
    {
     "name": "stdout",
     "output_type": "stream",
     "text": [
      "\n",
      "STORY IS OK: False   ric_now: VOWG_p.DE   ric_i: 3   story_i: 87\n"
     ]
    },
    {
     "name": "stderr",
     "output_type": "stream",
     "text": [
      "2020-12-30 06:25:16,345 P[18872] [MainThread 7824] Error code 429 | Client Error: Too many requests, please try again later. Wait for 63284 seconds.\n",
      "2020-12-30 06:25:16,346 P[18872] [MainThread 7824] HTTP request failed: EikonError-Client Error: Too many requests, please try again later. Wait for 63284 seconds.\n"
     ]
    },
    {
     "name": "stdout",
     "output_type": "stream",
     "text": [
      "\n",
      "STORY IS OK: False   ric_now: VOWG_p.DE   ric_i: 3   story_i: 88\n"
     ]
    },
    {
     "name": "stderr",
     "output_type": "stream",
     "text": [
      "2020-12-30 06:25:21,368 P[18872] [MainThread 7824] Error code 429 | Client Error: Too many requests, please try again later. Wait for 63279 seconds.\n",
      "2020-12-30 06:25:21,368 P[18872] [MainThread 7824] HTTP request failed: EikonError-Client Error: Too many requests, please try again later. Wait for 63279 seconds.\n"
     ]
    },
    {
     "name": "stdout",
     "output_type": "stream",
     "text": [
      "\n",
      "STORY IS OK: False   ric_now: VOWG_p.DE   ric_i: 3   story_i: 89\n"
     ]
    },
    {
     "name": "stderr",
     "output_type": "stream",
     "text": [
      "2020-12-30 06:25:26,382 P[18872] [MainThread 7824] Error code 429 | Client Error: Too many requests, please try again later. Wait for 63274 seconds.\n",
      "2020-12-30 06:25:26,382 P[18872] [MainThread 7824] HTTP request failed: EikonError-Client Error: Too many requests, please try again later. Wait for 63274 seconds.\n"
     ]
    },
    {
     "name": "stdout",
     "output_type": "stream",
     "text": [
      "\n",
      "STORY IS OK: False   ric_now: VOWG_p.DE   ric_i: 3   story_i: 90\n"
     ]
    },
    {
     "name": "stderr",
     "output_type": "stream",
     "text": [
      "2020-12-30 06:25:31,409 P[18872] [MainThread 7824] Error code 429 | Client Error: Too many requests, please try again later. Wait for 63269 seconds.\n",
      "2020-12-30 06:25:31,409 P[18872] [MainThread 7824] HTTP request failed: EikonError-Client Error: Too many requests, please try again later. Wait for 63269 seconds.\n"
     ]
    },
    {
     "name": "stdout",
     "output_type": "stream",
     "text": [
      "\n",
      "STORY IS OK: False   ric_now: VOWG_p.DE   ric_i: 3   story_i: 91\n"
     ]
    },
    {
     "name": "stderr",
     "output_type": "stream",
     "text": [
      "2020-12-30 06:25:36,427 P[18872] [MainThread 7824] Error code 429 | Client Error: Too many requests, please try again later. Wait for 63264 seconds.\n",
      "2020-12-30 06:25:36,428 P[18872] [MainThread 7824] HTTP request failed: EikonError-Client Error: Too many requests, please try again later. Wait for 63264 seconds.\n"
     ]
    },
    {
     "name": "stdout",
     "output_type": "stream",
     "text": [
      "\n",
      "STORY IS OK: False   ric_now: VOWG_p.DE   ric_i: 3   story_i: 92\n"
     ]
    },
    {
     "name": "stderr",
     "output_type": "stream",
     "text": [
      "2020-12-30 06:25:41,442 P[18872] [MainThread 7824] Error code 429 | Client Error: Too many requests, please try again later. Wait for 63259 seconds.\n",
      "2020-12-30 06:25:41,443 P[18872] [MainThread 7824] HTTP request failed: EikonError-Client Error: Too many requests, please try again later. Wait for 63259 seconds.\n"
     ]
    },
    {
     "name": "stdout",
     "output_type": "stream",
     "text": [
      "\n",
      "STORY IS OK: False   ric_now: VOWG_p.DE   ric_i: 3   story_i: 93\n"
     ]
    },
    {
     "name": "stderr",
     "output_type": "stream",
     "text": [
      "2020-12-30 06:25:46,464 P[18872] [MainThread 7824] Error code 429 | Client Error: Too many requests, please try again later. Wait for 63254 seconds.\n",
      "2020-12-30 06:25:46,466 P[18872] [MainThread 7824] HTTP request failed: EikonError-Client Error: Too many requests, please try again later. Wait for 63254 seconds.\n"
     ]
    },
    {
     "name": "stdout",
     "output_type": "stream",
     "text": [
      "\n",
      "STORY IS OK: False   ric_now: VOWG_p.DE   ric_i: 3   story_i: 94\n"
     ]
    },
    {
     "name": "stderr",
     "output_type": "stream",
     "text": [
      "2020-12-30 06:25:51,495 P[18872] [MainThread 7824] Error code 429 | Client Error: Too many requests, please try again later. Wait for 63249 seconds.\n",
      "2020-12-30 06:25:51,496 P[18872] [MainThread 7824] HTTP request failed: EikonError-Client Error: Too many requests, please try again later. Wait for 63249 seconds.\n"
     ]
    },
    {
     "name": "stdout",
     "output_type": "stream",
     "text": [
      "\n",
      "STORY IS OK: False   ric_now: VOWG_p.DE   ric_i: 3   story_i: 95\n"
     ]
    },
    {
     "name": "stderr",
     "output_type": "stream",
     "text": [
      "2020-12-30 06:25:56,520 P[18872] [MainThread 7824] Error code 429 | Client Error: Too many requests, please try again later. Wait for 63244 seconds.\n",
      "2020-12-30 06:25:56,521 P[18872] [MainThread 7824] HTTP request failed: EikonError-Client Error: Too many requests, please try again later. Wait for 63244 seconds.\n"
     ]
    },
    {
     "name": "stdout",
     "output_type": "stream",
     "text": [
      "\n",
      "STORY IS OK: False   ric_now: VOWG_p.DE   ric_i: 3   story_i: 96\n"
     ]
    },
    {
     "name": "stderr",
     "output_type": "stream",
     "text": [
      "2020-12-30 06:26:01,532 P[18872] [MainThread 7824] Error code 429 | Client Error: Too many requests, please try again later. Wait for 63239 seconds.\n",
      "2020-12-30 06:26:01,533 P[18872] [MainThread 7824] HTTP request failed: EikonError-Client Error: Too many requests, please try again later. Wait for 63239 seconds.\n"
     ]
    },
    {
     "name": "stdout",
     "output_type": "stream",
     "text": [
      "\n",
      "STORY IS OK: False   ric_now: VOWG_p.DE   ric_i: 3   story_i: 97\n"
     ]
    },
    {
     "name": "stderr",
     "output_type": "stream",
     "text": [
      "2020-12-30 06:26:06,557 P[18872] [MainThread 7824] Error code 429 | Client Error: Too many requests, please try again later. Wait for 63234 seconds.\n",
      "2020-12-30 06:26:06,557 P[18872] [MainThread 7824] HTTP request failed: EikonError-Client Error: Too many requests, please try again later. Wait for 63234 seconds.\n"
     ]
    },
    {
     "name": "stdout",
     "output_type": "stream",
     "text": [
      "\n",
      "STORY IS OK: False   ric_now: VOWG_p.DE   ric_i: 3   story_i: 98\n"
     ]
    },
    {
     "name": "stderr",
     "output_type": "stream",
     "text": [
      "2020-12-30 06:26:11,580 P[18872] [MainThread 7824] Error code 429 | Client Error: Too many requests, please try again later. Wait for 63229 seconds.\n",
      "2020-12-30 06:26:11,581 P[18872] [MainThread 7824] HTTP request failed: EikonError-Client Error: Too many requests, please try again later. Wait for 63229 seconds.\n"
     ]
    },
    {
     "name": "stdout",
     "output_type": "stream",
     "text": [
      "\n",
      "STORY IS OK: False   ric_now: VOWG_p.DE   ric_i: 3   story_i: 99\n"
     ]
    },
    {
     "name": "stderr",
     "output_type": "stream",
     "text": [
      "2020-12-30 06:26:16,620 P[18872] [MainThread 7824] Error code 429 | Client Error: Too many requests, please try again later. Wait for 63224 seconds.\n",
      "2020-12-30 06:26:16,620 P[18872] [MainThread 7824] HTTP request failed: EikonError-Client Error: Too many requests, please try again later. Wait for 63224 seconds.\n"
     ]
    },
    {
     "name": "stdout",
     "output_type": "stream",
     "text": [
      "\n",
      "2020-12-30 06:26:16.607097 VOWG_p.DE  ric_i: 3  headline_slice_i: 18  headline_number: 100  not null: 16 2020-09-25 10:21:08.163000+00:00\n",
      "\n",
      "is_this_ric_in_all: True   up_to_date_ric: 2020-09-23 09:45:58.922000+00:00 "
     ]
    },
    {
     "ename": "TypeError",
     "evalue": "'NoneType' object is not subscriptable",
     "output_type": "error",
     "traceback": [
      "\u001b[1;31m---------------------------------------------------------------------------\u001b[0m",
      "\u001b[1;31mTypeError\u001b[0m                                 Traceback (most recent call last)",
      "\u001b[1;32m<ipython-input-13-5792dbb8e3a4>\u001b[0m in \u001b[0;36m<module>\u001b[1;34m\u001b[0m\n\u001b[0;32m     44\u001b[0m             \u001b[0mquery\u001b[0m\u001b[1;33m=\u001b[0m\u001b[0mric_now\u001b[0m\u001b[1;33m,\u001b[0m\u001b[1;33m\u001b[0m\u001b[1;33m\u001b[0m\u001b[0m\n\u001b[0;32m     45\u001b[0m             \u001b[0mcount\u001b[0m\u001b[1;33m=\u001b[0m\u001b[0mheadlines_count_to_request\u001b[0m\u001b[1;33m,\u001b[0m\u001b[1;33m\u001b[0m\u001b[1;33m\u001b[0m\u001b[0m\n\u001b[1;32m---> 46\u001b[1;33m             \u001b[0mdate_to\u001b[0m\u001b[1;33m=\u001b[0m\u001b[0mup_to_date_ric\u001b[0m\u001b[1;33m\u001b[0m\u001b[1;33m\u001b[0m\u001b[0m\n\u001b[0m\u001b[0;32m     47\u001b[0m         )\n\u001b[0;32m     48\u001b[0m         \u001b[0mprint\u001b[0m\u001b[1;33m(\u001b[0m\u001b[1;34m'news_get_df.shape:'\u001b[0m\u001b[1;33m,\u001b[0m \u001b[0mnews_get_df\u001b[0m\u001b[1;33m.\u001b[0m\u001b[0mshape\u001b[0m\u001b[1;33m[\u001b[0m\u001b[1;36m0\u001b[0m\u001b[1;33m]\u001b[0m\u001b[1;33m)\u001b[0m\u001b[1;33m\u001b[0m\u001b[1;33m\u001b[0m\u001b[0m\n",
      "\u001b[1;32mc:\\python37\\lib\\site-packages\\eikon\\news_request.py\u001b[0m in \u001b[0;36mget_news_headlines\u001b[1;34m(query, count, date_from, date_to, raw_output, debug)\u001b[0m\n\u001b[0;32m    127\u001b[0m         \u001b[1;32mreturn\u001b[0m \u001b[0mresult\u001b[0m\u001b[1;33m\u001b[0m\u001b[1;33m\u001b[0m\u001b[0m\n\u001b[0;32m    128\u001b[0m     \u001b[1;32melse\u001b[0m\u001b[1;33m:\u001b[0m\u001b[1;33m\u001b[0m\u001b[1;33m\u001b[0m\u001b[0m\n\u001b[1;32m--> 129\u001b[1;33m         \u001b[1;32mreturn\u001b[0m \u001b[0mget_data_frame\u001b[0m\u001b[1;33m(\u001b[0m\u001b[0mresult\u001b[0m\u001b[1;33m)\u001b[0m\u001b[1;33m\u001b[0m\u001b[1;33m\u001b[0m\u001b[0m\n\u001b[0m\u001b[0;32m    130\u001b[0m \u001b[1;33m\u001b[0m\u001b[0m\n\u001b[0;32m    131\u001b[0m \u001b[1;33m\u001b[0m\u001b[0m\n",
      "\u001b[1;32mc:\\python37\\lib\\site-packages\\eikon\\news_request.py\u001b[0m in \u001b[0;36mget_data_frame\u001b[1;34m(json_data)\u001b[0m\n\u001b[0;32m    136\u001b[0m                              'sourceName', 'versionCreated']\n\u001b[0;32m    137\u001b[0m \u001b[1;33m\u001b[0m\u001b[0m\n\u001b[1;32m--> 138\u001b[1;33m     \u001b[0mjson_headlines_array\u001b[0m \u001b[1;33m=\u001b[0m \u001b[0mjson_data\u001b[0m\u001b[1;33m[\u001b[0m\u001b[1;34m'headlines'\u001b[0m\u001b[1;33m]\u001b[0m\u001b[1;33m\u001b[0m\u001b[1;33m\u001b[0m\u001b[0m\n\u001b[0m\u001b[0;32m    139\u001b[0m     \u001b[0mfirst_created\u001b[0m \u001b[1;33m=\u001b[0m \u001b[1;33m[\u001b[0m\u001b[0mtz_replacer\u001b[0m\u001b[1;33m(\u001b[0m\u001b[0mheadline\u001b[0m\u001b[1;33m[\u001b[0m\u001b[1;34m'firstCreated'\u001b[0m\u001b[1;33m]\u001b[0m\u001b[1;33m)\u001b[0m \u001b[1;32mfor\u001b[0m \u001b[0mheadline\u001b[0m \u001b[1;32min\u001b[0m \u001b[0mjson_headlines_array\u001b[0m\u001b[1;33m]\u001b[0m\u001b[1;33m\u001b[0m\u001b[1;33m\u001b[0m\u001b[0m\n\u001b[0;32m    140\u001b[0m     headlines = [[headline[field] for field in Headline_Selected_Fields]\n",
      "\u001b[1;31mTypeError\u001b[0m: 'NoneType' object is not subscriptable"
     ]
    }
   ],
   "source": [
    "# Зададим, по какому df мы будет итерировать ric компании (её код на бирже).\n",
    "rics_to_loop_df = rics_dax\n",
    "rics_to_loop_df = rics_to_loop_df.reset_index(drop=True) # чтобы юзать .loc()\n",
    "\n",
    "# Зададим переменную, котролирующую количество выгружаемых за раз заголовков\n",
    "headlines_count_to_request = 100\n",
    "\n",
    "# Необходимо задать переменную до цикла как 100, далее она будет изменяться\n",
    "headlines_number = 100\n",
    "\n",
    "# Первый цикл будет итерировать компании.\n",
    "for ric_i in range(0, len(rics_to_loop_df)): # range(0, len(rics_to_loop_df))\n",
    "    \n",
    "    # Зададим переменную, которая скажет, какой сейчас итерируется ric.\n",
    "    ric_now = rics_to_loop_df.loc[ric_i, \"ric\"]\n",
    "    print(ric_i, ric_now)\n",
    "    \n",
    "    # Цикл, который прогоняет запросы заголовков.\n",
    "    # Зададим для него параметр. Прибавим +1, если исчерпали новости.\n",
    "    last_headlines_request = False\n",
    "    # Будем вести счёт итерацию цикла While для выгрузки заголовков\n",
    "    headlines_slice_i = 0\n",
    "    # Для выкачивания заголовков нужно задать дату, до которой делаем запрос.\n",
    "    # Если такого ric нет в all_headlines_df со всеми новостями,\n",
    "    # то не будет задавать дату, до которой выкачивать заголовки.\n",
    "    # Если такой ric есть в all_headlines_df со всеми новостями,\n",
    "    # то возьмём минимальную дату из all_headlines_df со всеми новостями\n",
    "    while not last_headlines_request:\n",
    "        # Проверим, содержит ли all_headlines_df наш текущий ric\n",
    "        is_this_ric_in_all = ric_now in list(all_headlines_df['ric'])\n",
    "        print()\n",
    "        print('is_this_ric_in_all:', is_this_ric_in_all, end=' ')\n",
    "        if is_this_ric_in_all:\n",
    "            # Если в нашем датасете присутствует этот ric,\n",
    "            # то продолжаем по нему выгружать, берём мин имеющуюся дату.\n",
    "            up_to_date_ric = str(all_headlines_df[all_headlines_df['ric'] == ric_now]['versionCreated'].min())\n",
    "            print('  up_to_date_ric:', up_to_date_ric, end=' ')\n",
    "        else:\n",
    "            # None означает, что метод возьмёт текущий момент времени.\n",
    "            up_to_date_ric = None\n",
    "            print('  up_to_date_ric:', up_to_date_ric, end=' ')\n",
    "        \n",
    "        news_get_df = ek.get_news_headlines(\n",
    "            query=ric_now,\n",
    "            count=headlines_count_to_request,\n",
    "            date_to=up_to_date_ric\n",
    "        )\n",
    "        print('news_get_df.shape:', news_get_df.shape[0])\n",
    "        \n",
    "        # Подготовим news_get_df для добавления текст новостей story\n",
    "        # Для этого добавим столбцы ric, story, тзменим название для headline.\n",
    "        news_get_df = news_get_df.reset_index(drop=True) # чтобы юзать .loc()\n",
    "        news_get_df['ric'] = ric_now\n",
    "        news_get_df['story'] = np.nan\n",
    "        news_get_df['headline'] = news_get_df['text']\n",
    "        news_get_df = news_get_df.drop(columns=['text'])\n",
    "        \n",
    "        # Добавим тексты новостей к news_get_df по storyId\n",
    "        for story_i in range(0, len(news_get_df)): # range(0, len(news_get_df))\n",
    "            story_id_now = news_get_df.loc[story_i, 'storyId']\n",
    "            \n",
    "            try:\n",
    "                story_now = ek.get_news_story(story_id_now)\n",
    "                # Удалим из истории все тильды на всякий случай.\n",
    "                story_now = story_now.replace(\"~\",\"!tilda!\")\n",
    "                # Внесём выкаченную историю в df\n",
    "                news_get_df.loc[story_i, 'story'] = story_now\n",
    "                # Пометим, что мы успешно выкачали текст новости\n",
    "                story_is_success = True\n",
    "                print(story_i, end='; ')\n",
    "            \n",
    "            except: # Exception e\n",
    "                story_is_success = False\n",
    "                # Заменим NA на текст ошибки\n",
    "                news_get_df.loc[story_i, 'story'] = 'error_when_trying_to_collect_story'\n",
    "                # Выведем story с ошибкой\n",
    "                print() # e.message\n",
    "                print(\n",
    "                    'STORY IS OK:', story_is_success, \n",
    "                    '  ric_now:', ric_now,\n",
    "                    '  ric_i:', ric_i,\n",
    "                    '  story_i:', story_i\n",
    "                    )\n",
    "                time.sleep(5)\n",
    "            \n",
    "            finally:\n",
    "                # В любом случае внесём в наш квази-логгер наблюдение story.\n",
    "                quasi_logger = quasi_logger.append({\n",
    "                    \"ric_i\": ric_i,\n",
    "                    \"ric_now\": ric_now,\n",
    "                    \"headlines_slice_i\": headlines_slice_i,\n",
    "                    \"headlines_number\": headlines_number,\n",
    "                    \"up_to_date_ric\": up_to_date_ric,\n",
    "                    \"story_i\": story_i,\n",
    "                    \"story_id_now\": story_id_now,\n",
    "                    \"story_is_success\": story_is_success,\n",
    "                    \"date_time\": str(datetime.today())\n",
    "                }, ignore_index = True)\n",
    "        \n",
    "        # Если загруженных заголовков меньше 100, то мы исчерпали новости\n",
    "        # и нужно переключиться на ric следующей компании.\n",
    "        headlines_number = news_get_df.shape[0]\n",
    "        if headlines_number < 100:\n",
    "            last_headlines_request = True\n",
    "        \n",
    "        headlines_slice_i = headlines_slice_i + 1\n",
    "        \n",
    "        # На данный момент news_get_df состоит из заголовков и текстов к ним.\n",
    "        # Добавим их к большому df со всеми статьями.\n",
    "        all_headlines_df = all_headlines_df.append(news_get_df, ignore_index = True)\n",
    "        print()\n",
    "        print(str(datetime.today()), ric_now, \n",
    "              ' ric_i:', ric_i,\n",
    "              ' headline_slice_i:', headlines_slice_i,\n",
    "              ' headline_number:', headlines_number,\n",
    "              ' not null:', news_get_df['story'].notna().sum(),\n",
    "              up_to_date_ric)\n",
    "    \n",
    "    # Сохраним версию логгера\n",
    "    # Подберём такое название, которого нет в dir, чтобы не переписывать файл.\n",
    "    file_version = 1\n",
    "    folder_name = 'C:/DAN/t_systems/trade_project/logger/'\n",
    "    date_now = datetime.today().strftime(\"%Y-%m-%d\")\n",
    "    file_name = 'quasi_logger' + '_' + str(date_now) + '_v' + str(file_version) + '.csv'\n",
    "    while file_name in os.listdir(folder_name):\n",
    "        file_name = 'quasi_logger' + '_' + str(date_now) + '_v' + str(file_version) + '.csv'\n",
    "        file_version = file_version + 1\n",
    "    file_path = folder_name + file_name\n",
    "    quasi_logger.to_csv(file_path, sep = ';', index=False)\n",
    "    print(file_path)\n",
    "    \n",
    "    # Сохраним версию all_headlines_df со всеми новостями\n",
    "    # Подберём такое название, которого нет в dir, чтобы не переписывать файл.\n",
    "    file_version = 1\n",
    "    folder_name = 'C:/DAN/t_systems/trade_project/backup_headlines/'\n",
    "    date_now = datetime.today().strftime(\"%Y-%m-%d\")\n",
    "    file_name = 'all_headlines_df' + '_' + str(date_now) + '_v' + str(file_version) + '.csv'\n",
    "    while file_name in os.listdir(folder_name):\n",
    "        file_name = 'all_headlines_df' + '_' + str(date_now) + '_v' + str(file_version) + '.csv'\n",
    "        file_version = file_version + 1\n",
    "    # C:/DAN/t_systems/trade_project/backup_headlines/all_headlines_df_2020-12-24_v6.csv\n",
    "    file_path = folder_name + file_name\n",
    "    all_headlines_df.to_csv(file_path, sep = '~', index=False)\n",
    "    print(file_path)"
   ]
  },
  {
   "cell_type": "code",
   "execution_count": 51,
   "metadata": {},
   "outputs": [
    {
     "data": {
      "text/html": [
       "<div>\n",
       "<style scoped>\n",
       "    .dataframe tbody tr th:only-of-type {\n",
       "        vertical-align: middle;\n",
       "    }\n",
       "\n",
       "    .dataframe tbody tr th {\n",
       "        vertical-align: top;\n",
       "    }\n",
       "\n",
       "    .dataframe thead th {\n",
       "        text-align: right;\n",
       "    }\n",
       "</style>\n",
       "<table border=\"1\" class=\"dataframe\">\n",
       "  <thead>\n",
       "    <tr style=\"text-align: right;\">\n",
       "      <th></th>\n",
       "      <th>ric</th>\n",
       "      <th>versionCreated</th>\n",
       "      <th>headline</th>\n",
       "      <th>storyId</th>\n",
       "      <th>sourceCode</th>\n",
       "      <th>story</th>\n",
       "    </tr>\n",
       "  </thead>\n",
       "  <tbody>\n",
       "    <tr>\n",
       "      <th>0</th>\n",
       "      <td>DTEGn.DE</td>\n",
       "      <td>2020-12-23 18:25:27.865000+00:00</td>\n",
       "      <td>IGN Igen Networks joins T-Mobile partner program</td>\n",
       "      <td>urn:newsml:reuters.com:20201223:nNRAdspppv:1</td>\n",
       "      <td>NS:CNSWCH</td>\n",
       "      <td>&lt;div class=\"storyContent\" lang=\"en\"&gt;&lt;style typ...</td>\n",
       "    </tr>\n",
       "    <tr>\n",
       "      <th>1</th>\n",
       "      <td>DTEGn.DE</td>\n",
       "      <td>2020-12-22 08:35:59.285000+00:00</td>\n",
       "      <td>(EN) Makedonski Telekom AD - Skopje Board Chan...</td>\n",
       "      <td>urn:newsml:reuters.com:20201222:nGLF4Kt1L3:2</td>\n",
       "      <td>NS:GLFILE</td>\n",
       "      <td>&lt;div class=\"storyContent\" lang=\"en\"&gt;&lt;p&gt;&lt;a href...</td>\n",
       "    </tr>\n",
       "    <tr>\n",
       "      <th>2</th>\n",
       "      <td>DTEGn.DE</td>\n",
       "      <td>2020-12-22 08:35:53.014000+00:00</td>\n",
       "      <td>(EN) Makedonski Telekom AD - Skopje Board Chan...</td>\n",
       "      <td>urn:newsml:reuters.com:20201222:nGLF2DBhZz:2</td>\n",
       "      <td>NS:GLFILE</td>\n",
       "      <td>&lt;div class=\"storyContent\" lang=\"en\"&gt;&lt;p&gt;&lt;a href...</td>\n",
       "    </tr>\n",
       "    <tr>\n",
       "      <th>3</th>\n",
       "      <td>DTEGn.DE</td>\n",
       "      <td>2020-12-21 13:08:03.993000+00:00</td>\n",
       "      <td>WFB (Bus), Anyone? T-Mobile Turns Red Rose Tra...</td>\n",
       "      <td>urn:newsml:reuters.com:20201221:nBw3VPZ4Qa:1</td>\n",
       "      <td>NS:BSW</td>\n",
       "      <td>&lt;div class=\"storyContent\" lang=\"en\"&gt;&lt;style typ...</td>\n",
       "    </tr>\n",
       "    <tr>\n",
       "      <th>4</th>\n",
       "      <td>DTEGn.DE</td>\n",
       "      <td>2020-12-19 09:00:00+00:00</td>\n",
       "      <td>HINTERGRUND-Internet überall dank Satellit und...</td>\n",
       "      <td>urn:newsml:reuters.com:20201219:nL8N2IY3D9:1</td>\n",
       "      <td>NS:RTRS</td>\n",
       "      <td>&lt;div class=\"storyContent\" lang=\"de\"&gt;&lt;style typ...</td>\n",
       "    </tr>\n",
       "    <tr>\n",
       "      <th>...</th>\n",
       "      <td>...</td>\n",
       "      <td>...</td>\n",
       "      <td>...</td>\n",
       "      <td>...</td>\n",
       "      <td>...</td>\n",
       "      <td>...</td>\n",
       "    </tr>\n",
       "    <tr>\n",
       "      <th>23911</th>\n",
       "      <td>VOWG_p.DE</td>\n",
       "      <td>2020-09-25 03:15:07.929000+00:00</td>\n",
       "      <td>Ein paar Millionen, aber kein Perdão Ein paar ...</td>\n",
       "      <td>urn:newsml:reuters.com:20200925:nNRAd0xxwj:1</td>\n",
       "      <td>NS:SUEDDE</td>\n",
       "      <td>&lt;div class=\"storyContent\" lang=\"de\"&gt;&lt;style typ...</td>\n",
       "    </tr>\n",
       "    <tr>\n",
       "      <th>23912</th>\n",
       "      <td>VOWG_p.DE</td>\n",
       "      <td>2020-09-24 21:06:56.425000+00:00</td>\n",
       "      <td>Former VW boss Winterkorn faces trial on 2nd s...</td>\n",
       "      <td>urn:newsml:reuters.com:20200924:nNRAd0vbnx:1</td>\n",
       "      <td>NS:INDEPE</td>\n",
       "      <td>&lt;div class=\"storyContent\" lang=\"en\"&gt;&lt;style typ...</td>\n",
       "    </tr>\n",
       "    <tr>\n",
       "      <th>23913</th>\n",
       "      <td>VOWG_p.DE</td>\n",
       "      <td>2020-09-24 17:30:16.816000+00:00</td>\n",
       "      <td>New SUV is next step in VW's post-scandal elec...</td>\n",
       "      <td>urn:newsml:reuters.com:20200924:nNRAd0l7nl:1</td>\n",
       "      <td>NS:INDEPE</td>\n",
       "      <td>&lt;div class=\"storyContent\" lang=\"en\"&gt;&lt;style typ...</td>\n",
       "    </tr>\n",
       "    <tr>\n",
       "      <th>23914</th>\n",
       "      <td>VOWG_p.DE</td>\n",
       "      <td>2020-09-24 17:13:00.838000+00:00</td>\n",
       "      <td>Dieselgate: l'ancien PDG de Volkswagen sera au...</td>\n",
       "      <td>urn:newsml:reuters.com:20200924:nNRAd0tw3y:1</td>\n",
       "      <td>NS:LATRIB</td>\n",
       "      <td>&lt;div class=\"storyContent\" lang=\"fr\"&gt;&lt;style typ...</td>\n",
       "    </tr>\n",
       "    <tr>\n",
       "      <th>23915</th>\n",
       "      <td>VOWG_p.DE</td>\n",
       "      <td>2020-09-24 16:54:11.095000+00:00</td>\n",
       "      <td>Germany: 8 more charged in Volkswagen diesel s...</td>\n",
       "      <td>urn:newsml:reuters.com:20200924:nNRAd0kb5c:1</td>\n",
       "      <td>NS:INDEPE</td>\n",
       "      <td>&lt;div class=\"storyContent\" lang=\"en\"&gt;&lt;style typ...</td>\n",
       "    </tr>\n",
       "  </tbody>\n",
       "</table>\n",
       "<p>23916 rows × 6 columns</p>\n",
       "</div>"
      ],
      "text/plain": [
       "             ric                   versionCreated  \\\n",
       "0       DTEGn.DE 2020-12-23 18:25:27.865000+00:00   \n",
       "1       DTEGn.DE 2020-12-22 08:35:59.285000+00:00   \n",
       "2       DTEGn.DE 2020-12-22 08:35:53.014000+00:00   \n",
       "3       DTEGn.DE 2020-12-21 13:08:03.993000+00:00   \n",
       "4       DTEGn.DE        2020-12-19 09:00:00+00:00   \n",
       "...          ...                              ...   \n",
       "23911  VOWG_p.DE 2020-09-25 03:15:07.929000+00:00   \n",
       "23912  VOWG_p.DE 2020-09-24 21:06:56.425000+00:00   \n",
       "23913  VOWG_p.DE 2020-09-24 17:30:16.816000+00:00   \n",
       "23914  VOWG_p.DE 2020-09-24 17:13:00.838000+00:00   \n",
       "23915  VOWG_p.DE 2020-09-24 16:54:11.095000+00:00   \n",
       "\n",
       "                                                headline  \\\n",
       "0       IGN Igen Networks joins T-Mobile partner program   \n",
       "1      (EN) Makedonski Telekom AD - Skopje Board Chan...   \n",
       "2      (EN) Makedonski Telekom AD - Skopje Board Chan...   \n",
       "3      WFB (Bus), Anyone? T-Mobile Turns Red Rose Tra...   \n",
       "4      HINTERGRUND-Internet überall dank Satellit und...   \n",
       "...                                                  ...   \n",
       "23911  Ein paar Millionen, aber kein Perdão Ein paar ...   \n",
       "23912  Former VW boss Winterkorn faces trial on 2nd s...   \n",
       "23913  New SUV is next step in VW's post-scandal elec...   \n",
       "23914  Dieselgate: l'ancien PDG de Volkswagen sera au...   \n",
       "23915  Germany: 8 more charged in Volkswagen diesel s...   \n",
       "\n",
       "                                            storyId sourceCode  \\\n",
       "0      urn:newsml:reuters.com:20201223:nNRAdspppv:1  NS:CNSWCH   \n",
       "1      urn:newsml:reuters.com:20201222:nGLF4Kt1L3:2  NS:GLFILE   \n",
       "2      urn:newsml:reuters.com:20201222:nGLF2DBhZz:2  NS:GLFILE   \n",
       "3      urn:newsml:reuters.com:20201221:nBw3VPZ4Qa:1     NS:BSW   \n",
       "4      urn:newsml:reuters.com:20201219:nL8N2IY3D9:1    NS:RTRS   \n",
       "...                                             ...        ...   \n",
       "23911  urn:newsml:reuters.com:20200925:nNRAd0xxwj:1  NS:SUEDDE   \n",
       "23912  urn:newsml:reuters.com:20200924:nNRAd0vbnx:1  NS:INDEPE   \n",
       "23913  urn:newsml:reuters.com:20200924:nNRAd0l7nl:1  NS:INDEPE   \n",
       "23914  urn:newsml:reuters.com:20200924:nNRAd0tw3y:1  NS:LATRIB   \n",
       "23915  urn:newsml:reuters.com:20200924:nNRAd0kb5c:1  NS:INDEPE   \n",
       "\n",
       "                                                   story  \n",
       "0      <div class=\"storyContent\" lang=\"en\"><style typ...  \n",
       "1      <div class=\"storyContent\" lang=\"en\"><p><a href...  \n",
       "2      <div class=\"storyContent\" lang=\"en\"><p><a href...  \n",
       "3      <div class=\"storyContent\" lang=\"en\"><style typ...  \n",
       "4      <div class=\"storyContent\" lang=\"de\"><style typ...  \n",
       "...                                                  ...  \n",
       "23911  <div class=\"storyContent\" lang=\"de\"><style typ...  \n",
       "23912  <div class=\"storyContent\" lang=\"en\"><style typ...  \n",
       "23913  <div class=\"storyContent\" lang=\"en\"><style typ...  \n",
       "23914  <div class=\"storyContent\" lang=\"fr\"><style typ...  \n",
       "23915  <div class=\"storyContent\" lang=\"en\"><style typ...  \n",
       "\n",
       "[23916 rows x 6 columns]"
      ]
     },
     "execution_count": 51,
     "metadata": {},
     "output_type": "execute_result"
    }
   ],
   "source": [
    "all_headlines_df"
   ]
  },
  {
   "cell_type": "code",
   "execution_count": 15,
   "metadata": {},
   "outputs": [
    {
     "data": {
      "text/plain": [
       "<AxesSubplot:>"
      ]
     },
     "execution_count": 15,
     "metadata": {},
     "output_type": "execute_result"
    },
    {
     "data": {
      "image/png": "[encoded data removed]",
      "text/plain": [
       "<Figure size 640x280 with 1 Axes>"
      ]
     },
     "metadata": {},
     "output_type": "display_data"
    }
   ],
   "source": [
    "all_headlines_df['versionCreated'].plot()"
   ]
  },
  {
   "cell_type": "code",
   "execution_count": 27,
   "metadata": {},
   "outputs": [
    {
     "name": "stdout",
     "output_type": "stream",
     "text": [
      "C:/DAN/t_systems/trade_project/backup_headlines/all_headlines_df_2020-12-30_v5.csv\n"
     ]
    }
   ],
   "source": [
    "# Сохранить версию all_headlines_df\n",
    "file_version = 1\n",
    "folder_name = 'C:/DAN/t_systems/trade_project/backup_headlines/'\n",
    "date_now = datetime.today().strftime(\"%Y-%m-%d\")\n",
    "file_name = 'all_headlines_df' + '_' + str(date_now) + '_v' + str(file_version) + '.csv'\n",
    "while file_name in os.listdir(folder_name):\n",
    "    file_name = 'all_headlines_df' + '_' + str(date_now) + '_v' + str(file_version) + '.csv'\n",
    "    file_version = file_version + 1\n",
    "# C:/DAN/t_systems/trade_project/backup_headlines/all_headlines_df_2020-12-24_v6.csv\n",
    "file_path = folder_name + file_name\n",
    "all_headlines_df.to_csv(file_path, sep = '~', index=False)\n",
    "print(file_path)"
   ]
  },
  {
   "cell_type": "code",
   "execution_count": 28,
   "metadata": {},
   "outputs": [
    {
     "name": "stdout",
     "output_type": "stream",
     "text": [
      "C:/DAN/t_systems/trade_project/logger/quasi_logger_2020-12-30_v4.csv\n"
     ]
    }
   ],
   "source": [
    "# Сохранить версию логгера\n",
    "file_version = 1\n",
    "folder_name = 'C:/DAN/t_systems/trade_project/logger/'\n",
    "date_now = datetime.today().strftime(\"%Y-%m-%d\")\n",
    "file_name = 'quasi_logger' + '_' + str(date_now) + '_v' + str(file_version) + '.csv'\n",
    "while file_name in os.listdir(folder_name):\n",
    "    file_name = 'quasi_logger' + '_' + str(date_now) + '_v' + str(file_version) + '.csv'\n",
    "    file_version = file_version + 1\n",
    "file_path = folder_name + file_name\n",
    "quasi_logger.to_csv(file_path, sep = ';', index=False)\n",
    "print(file_path)"
   ]
  },
  {
   "cell_type": "code",
   "execution_count": 65,
   "metadata": {},
   "outputs": [
    {
     "name": "stdout",
     "output_type": "stream",
     "text": [
      "StoryId duplicated: 1897\n",
      "Rows in df duplicated: 247\n",
      "\n",
      "    Number of NA:\n",
      "ric                 0\n",
      "versionCreated      0\n",
      "headline            0\n",
      "storyId             0\n",
      "sourceCode          0\n",
      "story             153\n",
      "dtype: int64\n"
     ]
    }
   ],
   "source": [
    "print('StoryId duplicated:', all_headlines_df['storyId'].duplicated().sum())\n",
    "print('Rows in df duplicated:', all_headlines_df.duplicated().sum())\n",
    "print()\n",
    "print('    Number of NA:')\n",
    "print(len(all_headlines_df) - all_headlines_df.notna().sum())"
   ]
  }
 ],
 "metadata": {
  "kernelspec": {
   "display_name": "Python 3",
   "language": "python",
   "name": "python3"
  },
  "language_info": {
   "codemirror_mode": {
    "name": "ipython",
    "version": 3
   },
   "file_extension": ".py",
   "mimetype": "text/x-python",
   "name": "python",
   "nbconvert_exporter": "python",
   "pygments_lexer": "ipython3",
   "version": "3.7.9"
  }
 },
 "nbformat": 4,
 "nbformat_minor": 4
}
