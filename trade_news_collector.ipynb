{
 "cells": [
  {
   "cell_type": "markdown",
   "metadata": {},
   "source": [
    "# Collector"
   ]
  },
  {
   "cell_type": "code",
   "execution_count": 122,
   "metadata": {},
   "outputs": [],
   "source": [
    "from pandas_datareader import data\n",
    "from pandas_datareader._utils import RemoteDataError\n",
    "import matplotlib.pyplot as plt\n",
    "import pandas as pd\n",
    "import numpy as np\n",
    "import math\n",
    "import csv\n",
    "import re\n",
    "from datetime import datetime\n",
    "\n",
    "import openpyxl\n",
    "\n",
    "import os.path\n",
    "from os import path\n",
    "import time\n",
    "\n",
    "# import sklearn\n",
    "# import scipy\n",
    "\n",
    "# from sklearn.naive_bayes import GaussianNB\n",
    "# import lightgbm as lightgbm\n",
    "# from xgboost import XGBClassifier\n",
    "# import keras\n",
    "\n",
    "# Get Started\n",
    "# https://github.com/Refinitiv-API-Samples/Article.EikonDataAPI.DotNet.Library\n",
    "# API limits\n",
    "# https://developers.refinitiv.com/en/api-catalog/eikon/eikon-data-api/documentation?content=49692&type=documentation_item\n",
    "import eikon as ek \n",
    "\n",
    "from pylab import rcParams\n",
    "plt.rcParams['figure.figsize'] = 16, 8"
   ]
  },
  {
   "cell_type": "code",
   "execution_count": 123,
   "metadata": {},
   "outputs": [],
   "source": [
    "fontsize_reg = 12\n",
    "fontsize_title = 16\n",
    "from pylab import rcParams\n",
    "rcParams['figure.facecolor'] = '1'\n",
    "rcParams['figure.figsize'] = [8.0, 3.5]\n",
    "rcParams['figure.dpi'] = 80\n",
    "rcParams['savefig.dpi'] = 600\n",
    "\n",
    "rcParams['font.size'] = 12\n",
    "rcParams['legend.fontsize'] = 'large'\n",
    "rcParams['figure.titlesize'] = 'large'"
   ]
  },
  {
   "cell_type": "code",
   "execution_count": 124,
   "metadata": {},
   "outputs": [],
   "source": [
    "# Зададим path для папки проекта и для папок файлов\n",
    "path_project_folder = 'C:/DAN/t_systems/trade_project/'\n",
    "folder_name_headlines = 'backup_headlines/'\n",
    "folder_name_logger = 'logger/'"
   ]
  },
  {
   "cell_type": "code",
   "execution_count": 125,
   "metadata": {},
   "outputs": [],
   "source": [
    "# Для работы с API нужен запущенный терминал Thomson Reuters Eikon\n",
    "# Зададим API ключ - не даёт доступ сам по себе\n",
    "ek.set_app_key('ccebd1ff788d4574818be93e35c4741925ac214e') # df6c94f7d0fb4b4e80533d1c2f86daf402ce52c0"
   ]
  },
  {
   "cell_type": "code",
   "execution_count": 126,
   "metadata": {},
   "outputs": [],
   "source": [
    "# https://community.developers.refinitiv.com/questions/67592/eikon-json-requests-incorrect-and-eikon-data-api-h.html\n",
    "# httpx 0.15.x or 0.16.x => need to downgrade to 0.14.3 (pip install httpx==0.14.3)\n",
    "# nest-asyncio 1.4.x => need to downgrade to 1.3.3 (pip install nest-asyncio==1.3.3)"
   ]
  },
  {
   "cell_type": "markdown",
   "metadata": {},
   "source": [
    "# Подгрузим файлы с компаниями, которые хотим выгружать"
   ]
  },
  {
   "cell_type": "code",
   "execution_count": 127,
   "metadata": {},
   "outputs": [
    {
     "data": {
      "text/html": [
       "<div>\n",
       "<style scoped>\n",
       "    .dataframe tbody tr th:only-of-type {\n",
       "        vertical-align: middle;\n",
       "    }\n",
       "\n",
       "    .dataframe tbody tr th {\n",
       "        vertical-align: top;\n",
       "    }\n",
       "\n",
       "    .dataframe thead th {\n",
       "        text-align: right;\n",
       "    }\n",
       "</style>\n",
       "<table border=\"1\" class=\"dataframe\">\n",
       "  <thead>\n",
       "    <tr style=\"text-align: right;\">\n",
       "      <th></th>\n",
       "      <th>ric</th>\n",
       "      <th>Company Common Name</th>\n",
       "      <th>Country of Exchange</th>\n",
       "      <th>Primary Country of Risk</th>\n",
       "      <th>TRBC Industry Group Name</th>\n",
       "      <th>TRBC Industry Name</th>\n",
       "      <th>Price Close</th>\n",
       "      <th>Company Market Cap</th>\n",
       "      <th>DAX</th>\n",
       "      <th>German_telecom</th>\n",
       "    </tr>\n",
       "  </thead>\n",
       "  <tbody>\n",
       "    <tr>\n",
       "      <th>0</th>\n",
       "      <td>DTEGn.DE</td>\n",
       "      <td>Deutsche Telekom AG</td>\n",
       "      <td>Germany</td>\n",
       "      <td>Germany</td>\n",
       "      <td>Telecommunications Services</td>\n",
       "      <td>Integrated Telecommunications Services</td>\n",
       "      <td>18.032030</td>\n",
       "      <td>8.580246e+10</td>\n",
       "      <td>1</td>\n",
       "      <td>1</td>\n",
       "    </tr>\n",
       "    <tr>\n",
       "      <th>1</th>\n",
       "      <td>SAPG.DE</td>\n",
       "      <td>SAP SE</td>\n",
       "      <td>Germany</td>\n",
       "      <td>Germany</td>\n",
       "      <td>Software &amp; IT Services</td>\n",
       "      <td>Software</td>\n",
       "      <td>122.335901</td>\n",
       "      <td>1.501916e+11</td>\n",
       "      <td>1</td>\n",
       "      <td>0</td>\n",
       "    </tr>\n",
       "    <tr>\n",
       "      <th>2</th>\n",
       "      <td>SIEGn.DE</td>\n",
       "      <td>Siemens AG</td>\n",
       "      <td>Germany</td>\n",
       "      <td>Germany</td>\n",
       "      <td>Consumer Goods Conglomerates</td>\n",
       "      <td>Consumer Goods Conglomerates</td>\n",
       "      <td>139.347250</td>\n",
       "      <td>1.183675e+11</td>\n",
       "      <td>1</td>\n",
       "      <td>0</td>\n",
       "    </tr>\n",
       "    <tr>\n",
       "      <th>3</th>\n",
       "      <td>ALVG.DE</td>\n",
       "      <td>Allianz SE</td>\n",
       "      <td>Germany</td>\n",
       "      <td>Germany</td>\n",
       "      <td>Insurance</td>\n",
       "      <td>Multiline Insurance &amp; Brokers</td>\n",
       "      <td>235.534278</td>\n",
       "      <td>9.704549e+10</td>\n",
       "      <td>1</td>\n",
       "      <td>0</td>\n",
       "    </tr>\n",
       "    <tr>\n",
       "      <th>4</th>\n",
       "      <td>VOWG_p.DE</td>\n",
       "      <td>Volkswagen AG</td>\n",
       "      <td>Germany</td>\n",
       "      <td>Germany</td>\n",
       "      <td>Automobiles &amp; Auto Parts</td>\n",
       "      <td>Auto &amp; Truck Manufacturers</td>\n",
       "      <td>182.653284</td>\n",
       "      <td>9.619011e+10</td>\n",
       "      <td>1</td>\n",
       "      <td>0</td>\n",
       "    </tr>\n",
       "    <tr>\n",
       "      <th>...</th>\n",
       "      <td>...</td>\n",
       "      <td>...</td>\n",
       "      <td>...</td>\n",
       "      <td>...</td>\n",
       "      <td>...</td>\n",
       "      <td>...</td>\n",
       "      <td>...</td>\n",
       "      <td>...</td>\n",
       "      <td>...</td>\n",
       "      <td>...</td>\n",
       "    </tr>\n",
       "    <tr>\n",
       "      <th>1486</th>\n",
       "      <td>IXM0392.DE</td>\n",
       "      <td>MSCI Pac ex Jap ETF</td>\n",
       "      <td>Germany</td>\n",
       "      <td>NaN</td>\n",
       "      <td>NaN</td>\n",
       "      <td>NaN</td>\n",
       "      <td>164.045417</td>\n",
       "      <td>NaN</td>\n",
       "      <td>0</td>\n",
       "      <td>0</td>\n",
       "    </tr>\n",
       "    <tr>\n",
       "      <th>1487</th>\n",
       "      <td>IXM0402.DE</td>\n",
       "      <td>MSCI Canada ETF</td>\n",
       "      <td>Germany</td>\n",
       "      <td>NaN</td>\n",
       "      <td>NaN</td>\n",
       "      <td>NaN</td>\n",
       "      <td>147.258410</td>\n",
       "      <td>NaN</td>\n",
       "      <td>0</td>\n",
       "      <td>0</td>\n",
       "    </tr>\n",
       "    <tr>\n",
       "      <th>1488</th>\n",
       "      <td>IXM0422.DE</td>\n",
       "      <td>MSCI USA ETF</td>\n",
       "      <td>Germany</td>\n",
       "      <td>NaN</td>\n",
       "      <td>NaN</td>\n",
       "      <td>NaN</td>\n",
       "      <td>368.704250</td>\n",
       "      <td>NaN</td>\n",
       "      <td>0</td>\n",
       "      <td>0</td>\n",
       "    </tr>\n",
       "    <tr>\n",
       "      <th>1489</th>\n",
       "      <td>IXM0432.DE</td>\n",
       "      <td>MSCI Jap ETF</td>\n",
       "      <td>Germany</td>\n",
       "      <td>NaN</td>\n",
       "      <td>NaN</td>\n",
       "      <td>NaN</td>\n",
       "      <td>179.058138</td>\n",
       "      <td>NaN</td>\n",
       "      <td>0</td>\n",
       "      <td>0</td>\n",
       "    </tr>\n",
       "    <tr>\n",
       "      <th>1490</th>\n",
       "      <td>VOLSIN.DE</td>\n",
       "      <td>Nomura Voltage Short-term Source</td>\n",
       "      <td>Germany</td>\n",
       "      <td>NaN</td>\n",
       "      <td>NaN</td>\n",
       "      <td>NaN</td>\n",
       "      <td>NaN</td>\n",
       "      <td>NaN</td>\n",
       "      <td>0</td>\n",
       "      <td>0</td>\n",
       "    </tr>\n",
       "  </tbody>\n",
       "</table>\n",
       "<p>1491 rows × 10 columns</p>\n",
       "</div>"
      ],
      "text/plain": [
       "             ric               Company Common Name Country of Exchange  \\\n",
       "0       DTEGn.DE               Deutsche Telekom AG             Germany   \n",
       "1        SAPG.DE                            SAP SE             Germany   \n",
       "2       SIEGn.DE                        Siemens AG             Germany   \n",
       "3        ALVG.DE                        Allianz SE             Germany   \n",
       "4      VOWG_p.DE                     Volkswagen AG             Germany   \n",
       "...          ...                               ...                 ...   \n",
       "1486  IXM0392.DE               MSCI Pac ex Jap ETF             Germany   \n",
       "1487  IXM0402.DE                   MSCI Canada ETF             Germany   \n",
       "1488  IXM0422.DE                      MSCI USA ETF             Germany   \n",
       "1489  IXM0432.DE                      MSCI Jap ETF             Germany   \n",
       "1490   VOLSIN.DE  Nomura Voltage Short-term Source             Germany   \n",
       "\n",
       "     Primary Country of Risk      TRBC Industry Group Name  \\\n",
       "0                    Germany   Telecommunications Services   \n",
       "1                    Germany        Software & IT Services   \n",
       "2                    Germany  Consumer Goods Conglomerates   \n",
       "3                    Germany                     Insurance   \n",
       "4                    Germany      Automobiles & Auto Parts   \n",
       "...                      ...                           ...   \n",
       "1486                     NaN                           NaN   \n",
       "1487                     NaN                           NaN   \n",
       "1488                     NaN                           NaN   \n",
       "1489                     NaN                           NaN   \n",
       "1490                     NaN                           NaN   \n",
       "\n",
       "                          TRBC Industry Name  Price Close  Company Market Cap  \\\n",
       "0     Integrated Telecommunications Services    18.032030        8.580246e+10   \n",
       "1                                   Software   122.335901        1.501916e+11   \n",
       "2               Consumer Goods Conglomerates   139.347250        1.183675e+11   \n",
       "3              Multiline Insurance & Brokers   235.534278        9.704549e+10   \n",
       "4                 Auto & Truck Manufacturers   182.653284        9.619011e+10   \n",
       "...                                      ...          ...                 ...   \n",
       "1486                                     NaN   164.045417                 NaN   \n",
       "1487                                     NaN   147.258410                 NaN   \n",
       "1488                                     NaN   368.704250                 NaN   \n",
       "1489                                     NaN   179.058138                 NaN   \n",
       "1490                                     NaN          NaN                 NaN   \n",
       "\n",
       "      DAX  German_telecom  \n",
       "0       1               1  \n",
       "1       1               0  \n",
       "2       1               0  \n",
       "3       1               0  \n",
       "4       1               0  \n",
       "...   ...             ...  \n",
       "1486    0               0  \n",
       "1487    0               0  \n",
       "1488    0               0  \n",
       "1489    0               0  \n",
       "1490    0               0  \n",
       "\n",
       "[1491 rows x 10 columns]"
      ]
     },
     "execution_count": 127,
     "metadata": {},
     "output_type": "execute_result"
    }
   ],
   "source": [
    "rics_german_df = pd.read_excel(path_project_folder + 'rics_german_excel.xlsx', engine='openpyxl')\n",
    "sort_cols = ['DAX', 'German_telecom', 'Company Market Cap']\n",
    "rics_german_df = rics_german_df.sort_values(by=sort_cols, ascending=False) # .reset_index(drop=True)\n",
    "rics_german_df.index = range(0, len(rics_german_df))\n",
    "rics_german_df"
   ]
  },
  {
   "cell_type": "code",
   "execution_count": 128,
   "metadata": {},
   "outputs": [
    {
     "data": {
      "text/html": [
       "<div>\n",
       "<style scoped>\n",
       "    .dataframe tbody tr th:only-of-type {\n",
       "        vertical-align: middle;\n",
       "    }\n",
       "\n",
       "    .dataframe tbody tr th {\n",
       "        vertical-align: top;\n",
       "    }\n",
       "\n",
       "    .dataframe thead th {\n",
       "        text-align: right;\n",
       "    }\n",
       "</style>\n",
       "<table border=\"1\" class=\"dataframe\">\n",
       "  <thead>\n",
       "    <tr style=\"text-align: right;\">\n",
       "      <th></th>\n",
       "      <th>ric</th>\n",
       "      <th>Company Common Name</th>\n",
       "      <th>Company Market Cap</th>\n",
       "      <th>DAX</th>\n",
       "      <th>German_telecom</th>\n",
       "    </tr>\n",
       "  </thead>\n",
       "  <tbody>\n",
       "    <tr>\n",
       "      <th>0</th>\n",
       "      <td>DTEGn.DE</td>\n",
       "      <td>Deutsche Telekom AG</td>\n",
       "      <td>8.580246e+10</td>\n",
       "      <td>1</td>\n",
       "      <td>1</td>\n",
       "    </tr>\n",
       "    <tr>\n",
       "      <th>27</th>\n",
       "      <td>O2Dn.DE</td>\n",
       "      <td>Telefonica Deutschland Holding AG</td>\n",
       "      <td>8.088962e+09</td>\n",
       "      <td>0</td>\n",
       "      <td>1</td>\n",
       "    </tr>\n",
       "    <tr>\n",
       "      <th>28</th>\n",
       "      <td>UTDI.DE</td>\n",
       "      <td>United Internet AG</td>\n",
       "      <td>7.962405e+09</td>\n",
       "      <td>0</td>\n",
       "      <td>1</td>\n",
       "    </tr>\n",
       "    <tr>\n",
       "      <th>29</th>\n",
       "      <td>DRIG.DE</td>\n",
       "      <td>1&amp;1 Drillisch AG</td>\n",
       "      <td>4.331541e+09</td>\n",
       "      <td>0</td>\n",
       "      <td>1</td>\n",
       "    </tr>\n",
       "    <tr>\n",
       "      <th>30</th>\n",
       "      <td>FNTGn.DE</td>\n",
       "      <td>freenet AG</td>\n",
       "      <td>2.614030e+09</td>\n",
       "      <td>0</td>\n",
       "      <td>1</td>\n",
       "    </tr>\n",
       "    <tr>\n",
       "      <th>31</th>\n",
       "      <td>TC1n.DE</td>\n",
       "      <td>Tele Columbus AG</td>\n",
       "      <td>3.688837e+08</td>\n",
       "      <td>0</td>\n",
       "      <td>1</td>\n",
       "    </tr>\n",
       "    <tr>\n",
       "      <th>32</th>\n",
       "      <td>NFN.DE</td>\n",
       "      <td>NFON AG</td>\n",
       "      <td>3.245050e+08</td>\n",
       "      <td>0</td>\n",
       "      <td>1</td>\n",
       "    </tr>\n",
       "    <tr>\n",
       "      <th>33</th>\n",
       "      <td>E4CG.DE</td>\n",
       "      <td>Ecotel Communication AG</td>\n",
       "      <td>3.558930e+07</td>\n",
       "      <td>0</td>\n",
       "      <td>1</td>\n",
       "    </tr>\n",
       "    <tr>\n",
       "      <th>34</th>\n",
       "      <td>PH6.F</td>\n",
       "      <td>Philion SE</td>\n",
       "      <td>2.065664e+05</td>\n",
       "      <td>0</td>\n",
       "      <td>1</td>\n",
       "    </tr>\n",
       "  </tbody>\n",
       "</table>\n",
       "</div>"
      ],
      "text/plain": [
       "         ric                Company Common Name  Company Market Cap  DAX  \\\n",
       "0   DTEGn.DE                Deutsche Telekom AG        8.580246e+10    1   \n",
       "27   O2Dn.DE  Telefonica Deutschland Holding AG        8.088962e+09    0   \n",
       "28   UTDI.DE                 United Internet AG        7.962405e+09    0   \n",
       "29   DRIG.DE                   1&1 Drillisch AG        4.331541e+09    0   \n",
       "30  FNTGn.DE                         freenet AG        2.614030e+09    0   \n",
       "31   TC1n.DE                   Tele Columbus AG        3.688837e+08    0   \n",
       "32    NFN.DE                            NFON AG        3.245050e+08    0   \n",
       "33   E4CG.DE            Ecotel Communication AG        3.558930e+07    0   \n",
       "34     PH6.F                         Philion SE        2.065664e+05    0   \n",
       "\n",
       "    German_telecom  \n",
       "0                1  \n",
       "27               1  \n",
       "28               1  \n",
       "29               1  \n",
       "30               1  \n",
       "31               1  \n",
       "32               1  \n",
       "33               1  \n",
       "34               1  "
      ]
     },
     "execution_count": 128,
     "metadata": {},
     "output_type": "execute_result"
    }
   ],
   "source": [
    "condition_german = rics_german_df['Country of Exchange'] == 'Germany'\n",
    "condition_telecom = rics_german_df['TRBC Industry Group Name'] == 'Telecommunications Services'\n",
    "rics_german_telekom_df = rics_german_df[condition_german & condition_telecom]\n",
    "rics_german_telekom_df[['ric', 'Company Common Name', 'Company Market Cap', 'DAX', 'German_telecom']]"
   ]
  },
  {
   "cell_type": "code",
   "execution_count": 129,
   "metadata": {},
   "outputs": [
    {
     "data": {
      "text/html": [
       "<div>\n",
       "<style scoped>\n",
       "    .dataframe tbody tr th:only-of-type {\n",
       "        vertical-align: middle;\n",
       "    }\n",
       "\n",
       "    .dataframe tbody tr th {\n",
       "        vertical-align: top;\n",
       "    }\n",
       "\n",
       "    .dataframe thead th {\n",
       "        text-align: right;\n",
       "    }\n",
       "</style>\n",
       "<table border=\"1\" class=\"dataframe\">\n",
       "  <thead>\n",
       "    <tr style=\"text-align: right;\">\n",
       "      <th></th>\n",
       "      <th>ric</th>\n",
       "      <th>Company Common Name</th>\n",
       "      <th>Company Market Cap</th>\n",
       "      <th>DAX</th>\n",
       "      <th>German_telecom</th>\n",
       "    </tr>\n",
       "  </thead>\n",
       "  <tbody>\n",
       "    <tr>\n",
       "      <th>1</th>\n",
       "      <td>SAPG.DE</td>\n",
       "      <td>SAP SE</td>\n",
       "      <td>1.501916e+11</td>\n",
       "      <td>1</td>\n",
       "      <td>0</td>\n",
       "    </tr>\n",
       "    <tr>\n",
       "      <th>2</th>\n",
       "      <td>SIEGn.DE</td>\n",
       "      <td>Siemens AG</td>\n",
       "      <td>1.183675e+11</td>\n",
       "      <td>1</td>\n",
       "      <td>0</td>\n",
       "    </tr>\n",
       "    <tr>\n",
       "      <th>3</th>\n",
       "      <td>ALVG.DE</td>\n",
       "      <td>Allianz SE</td>\n",
       "      <td>9.704549e+10</td>\n",
       "      <td>1</td>\n",
       "      <td>0</td>\n",
       "    </tr>\n",
       "    <tr>\n",
       "      <th>4</th>\n",
       "      <td>VOWG_p.DE</td>\n",
       "      <td>Volkswagen AG</td>\n",
       "      <td>9.619011e+10</td>\n",
       "      <td>1</td>\n",
       "      <td>0</td>\n",
       "    </tr>\n",
       "    <tr>\n",
       "      <th>5</th>\n",
       "      <td>DAIGn.DE</td>\n",
       "      <td>Daimler AG</td>\n",
       "      <td>7.532200e+10</td>\n",
       "      <td>1</td>\n",
       "      <td>0</td>\n",
       "    </tr>\n",
       "    <tr>\n",
       "      <th>6</th>\n",
       "      <td>BASFn.DE</td>\n",
       "      <td>BASF SE</td>\n",
       "      <td>7.222737e+10</td>\n",
       "      <td>1</td>\n",
       "      <td>0</td>\n",
       "    </tr>\n",
       "    <tr>\n",
       "      <th>7</th>\n",
       "      <td>ADSGn.DE</td>\n",
       "      <td>Adidas AG</td>\n",
       "      <td>7.062461e+10</td>\n",
       "      <td>1</td>\n",
       "      <td>0</td>\n",
       "    </tr>\n",
       "    <tr>\n",
       "      <th>8</th>\n",
       "      <td>DPWGn.DE</td>\n",
       "      <td>Deutsche Post AG</td>\n",
       "      <td>5.932596e+10</td>\n",
       "      <td>1</td>\n",
       "      <td>0</td>\n",
       "    </tr>\n",
       "    <tr>\n",
       "      <th>9</th>\n",
       "      <td>BMWG.DE</td>\n",
       "      <td>Bayerische Motoren Werke AG</td>\n",
       "      <td>5.780708e+10</td>\n",
       "      <td>1</td>\n",
       "      <td>0</td>\n",
       "    </tr>\n",
       "    <tr>\n",
       "      <th>10</th>\n",
       "      <td>BAYGn.DE</td>\n",
       "      <td>Bayer AG</td>\n",
       "      <td>5.621811e+10</td>\n",
       "      <td>1</td>\n",
       "      <td>0</td>\n",
       "    </tr>\n",
       "    <tr>\n",
       "      <th>11</th>\n",
       "      <td>IFXGn.DE</td>\n",
       "      <td>Infineon Technologies AG</td>\n",
       "      <td>4.791433e+10</td>\n",
       "      <td>1</td>\n",
       "      <td>0</td>\n",
       "    </tr>\n",
       "    <tr>\n",
       "      <th>12</th>\n",
       "      <td>HNKG_p.DE</td>\n",
       "      <td>Henkel AG &amp; Co KgaA</td>\n",
       "      <td>4.400469e+10</td>\n",
       "      <td>1</td>\n",
       "      <td>0</td>\n",
       "    </tr>\n",
       "    <tr>\n",
       "      <th>13</th>\n",
       "      <td>VNAn.DE</td>\n",
       "      <td>Vonovia SE</td>\n",
       "      <td>3.941367e+10</td>\n",
       "      <td>1</td>\n",
       "      <td>0</td>\n",
       "    </tr>\n",
       "    <tr>\n",
       "      <th>14</th>\n",
       "      <td>EONGn.DE</td>\n",
       "      <td>E.ON SE</td>\n",
       "      <td>2.849412e+10</td>\n",
       "      <td>1</td>\n",
       "      <td>0</td>\n",
       "    </tr>\n",
       "    <tr>\n",
       "      <th>15</th>\n",
       "      <td>BEIG.DE</td>\n",
       "      <td>Beiersdorf AG</td>\n",
       "      <td>2.817068e+10</td>\n",
       "      <td>1</td>\n",
       "      <td>0</td>\n",
       "    </tr>\n",
       "    <tr>\n",
       "      <th>16</th>\n",
       "      <td>CONG.DE</td>\n",
       "      <td>Continental AG</td>\n",
       "      <td>2.749257e+10</td>\n",
       "      <td>1</td>\n",
       "      <td>0</td>\n",
       "    </tr>\n",
       "    <tr>\n",
       "      <th>17</th>\n",
       "      <td>RWEG.DE</td>\n",
       "      <td>RWE AG</td>\n",
       "      <td>2.733554e+10</td>\n",
       "      <td>1</td>\n",
       "      <td>0</td>\n",
       "    </tr>\n",
       "    <tr>\n",
       "      <th>18</th>\n",
       "      <td>FREG.DE</td>\n",
       "      <td>Fresenius SE &amp; Co KGaA</td>\n",
       "      <td>2.581399e+10</td>\n",
       "      <td>1</td>\n",
       "      <td>0</td>\n",
       "    </tr>\n",
       "    <tr>\n",
       "      <th>19</th>\n",
       "      <td>FMEG.DE</td>\n",
       "      <td>Fresenius Medical Care AG &amp; Co KGaA</td>\n",
       "      <td>2.399858e+10</td>\n",
       "      <td>1</td>\n",
       "      <td>0</td>\n",
       "    </tr>\n",
       "    <tr>\n",
       "      <th>20</th>\n",
       "      <td>DBKGn.DE</td>\n",
       "      <td>Deutsche Bank AG</td>\n",
       "      <td>2.238385e+10</td>\n",
       "      <td>1</td>\n",
       "      <td>0</td>\n",
       "    </tr>\n",
       "    <tr>\n",
       "      <th>21</th>\n",
       "      <td>MRCG.DE</td>\n",
       "      <td>Merck KGaA</td>\n",
       "      <td>2.106119e+10</td>\n",
       "      <td>1</td>\n",
       "      <td>0</td>\n",
       "    </tr>\n",
       "    <tr>\n",
       "      <th>22</th>\n",
       "      <td>HEIG.DE</td>\n",
       "      <td>HeidelbergCement AG</td>\n",
       "      <td>1.422492e+10</td>\n",
       "      <td>1</td>\n",
       "      <td>0</td>\n",
       "    </tr>\n",
       "    <tr>\n",
       "      <th>23</th>\n",
       "      <td>CBKG.DE</td>\n",
       "      <td>Commerzbank AG</td>\n",
       "      <td>8.044701e+09</td>\n",
       "      <td>1</td>\n",
       "      <td>0</td>\n",
       "    </tr>\n",
       "    <tr>\n",
       "      <th>24</th>\n",
       "      <td>LHAG.DE</td>\n",
       "      <td>Deutsche Lufthansa AG</td>\n",
       "      <td>6.818937e+09</td>\n",
       "      <td>1</td>\n",
       "      <td>0</td>\n",
       "    </tr>\n",
       "    <tr>\n",
       "      <th>25</th>\n",
       "      <td>TKAG.DE</td>\n",
       "      <td>Thyssenkrupp AG</td>\n",
       "      <td>5.276461e+09</td>\n",
       "      <td>1</td>\n",
       "      <td>0</td>\n",
       "    </tr>\n",
       "    <tr>\n",
       "      <th>26</th>\n",
       "      <td>PSMGn.DE</td>\n",
       "      <td>Prosiebensat 1 Media SE</td>\n",
       "      <td>3.836555e+09</td>\n",
       "      <td>1</td>\n",
       "      <td>0</td>\n",
       "    </tr>\n",
       "  </tbody>\n",
       "</table>\n",
       "</div>"
      ],
      "text/plain": [
       "          ric                  Company Common Name  Company Market Cap  DAX  \\\n",
       "1     SAPG.DE                               SAP SE        1.501916e+11    1   \n",
       "2    SIEGn.DE                           Siemens AG        1.183675e+11    1   \n",
       "3     ALVG.DE                           Allianz SE        9.704549e+10    1   \n",
       "4   VOWG_p.DE                        Volkswagen AG        9.619011e+10    1   \n",
       "5    DAIGn.DE                           Daimler AG        7.532200e+10    1   \n",
       "6    BASFn.DE                              BASF SE        7.222737e+10    1   \n",
       "7    ADSGn.DE                            Adidas AG        7.062461e+10    1   \n",
       "8    DPWGn.DE                     Deutsche Post AG        5.932596e+10    1   \n",
       "9     BMWG.DE          Bayerische Motoren Werke AG        5.780708e+10    1   \n",
       "10   BAYGn.DE                             Bayer AG        5.621811e+10    1   \n",
       "11   IFXGn.DE             Infineon Technologies AG        4.791433e+10    1   \n",
       "12  HNKG_p.DE                  Henkel AG & Co KgaA        4.400469e+10    1   \n",
       "13    VNAn.DE                           Vonovia SE        3.941367e+10    1   \n",
       "14   EONGn.DE                              E.ON SE        2.849412e+10    1   \n",
       "15    BEIG.DE                        Beiersdorf AG        2.817068e+10    1   \n",
       "16    CONG.DE                       Continental AG        2.749257e+10    1   \n",
       "17    RWEG.DE                               RWE AG        2.733554e+10    1   \n",
       "18    FREG.DE               Fresenius SE & Co KGaA        2.581399e+10    1   \n",
       "19    FMEG.DE  Fresenius Medical Care AG & Co KGaA        2.399858e+10    1   \n",
       "20   DBKGn.DE                     Deutsche Bank AG        2.238385e+10    1   \n",
       "21    MRCG.DE                           Merck KGaA        2.106119e+10    1   \n",
       "22    HEIG.DE                  HeidelbergCement AG        1.422492e+10    1   \n",
       "23    CBKG.DE                       Commerzbank AG        8.044701e+09    1   \n",
       "24    LHAG.DE                Deutsche Lufthansa AG        6.818937e+09    1   \n",
       "25    TKAG.DE                      Thyssenkrupp AG        5.276461e+09    1   \n",
       "26   PSMGn.DE              Prosiebensat 1 Media SE        3.836555e+09    1   \n",
       "\n",
       "    German_telecom  \n",
       "1                0  \n",
       "2                0  \n",
       "3                0  \n",
       "4                0  \n",
       "5                0  \n",
       "6                0  \n",
       "7                0  \n",
       "8                0  \n",
       "9                0  \n",
       "10               0  \n",
       "11               0  \n",
       "12               0  \n",
       "13               0  \n",
       "14               0  \n",
       "15               0  \n",
       "16               0  \n",
       "17               0  \n",
       "18               0  \n",
       "19               0  \n",
       "20               0  \n",
       "21               0  \n",
       "22               0  \n",
       "23               0  \n",
       "24               0  \n",
       "25               0  \n",
       "26               0  "
      ]
     },
     "execution_count": 129,
     "metadata": {},
     "output_type": "execute_result"
    }
   ],
   "source": [
    "condition_dax = (rics_german_df['DAX'] == 1) & (rics_german_df['German_telecom'] != 1)\n",
    "rics_dax = rics_german_df[condition_dax]\n",
    "rics_dax[['ric', 'Company Common Name', 'Company Market Cap', 'DAX', 'German_telecom']]"
   ]
  },
  {
   "cell_type": "code",
   "execution_count": 130,
   "metadata": {},
   "outputs": [
    {
     "name": "stdout",
     "output_type": "stream",
     "text": [
      "fisrt top-200 companies by market cap: \n",
      " ['Apple Inc', 'Microsoft Corp', 'Amazon.com Inc', 'Alphabet Inc', 'Tesla Inc', 'Facebook Inc', 'Alibaba Group Holding Ltd', 'Berkshire Hathaway Inc', 'Visa Inc', 'Johnson & Johnson', 'Walmart Inc', 'JPMorgan Chase & Co', 'Mastercard Inc', 'UnitedHealth Group Inc', 'Procter & Gamble Co', 'NVIDIA Corp', 'Walt Disney Co', 'Home Depot Inc', 'PayPal Holdings Inc', 'Bank of America Corp', 'Ishares S&P 500', 'Verizon Communications Inc', 'Comcast Corp', 'Adobe Inc', 'Nike Inc', 'Netflix Inc', 'Pinduoduo Inc', 'Coca-Cola Co', 'Intel Corp', 'Merck & Co Inc', 'Vanguard Idx Fund', 'AT&T Inc', 'Pfizer Inc', 'Salesforce.Com Inc', 'Thermo Fisher Scientific Inc', 'PepsiCo Inc', 'Abbott Laboratories', 'Exxon Mobil Corp', 'Cisco Systems Inc', 'Abbvie Inc', 'Oracle Corp', 'Vanguard 500 Index Fund', 'Broadcom Inc', 'Qualcomm Inc', 'Chevron Corp', 'Accenture PLC', 'Danaher Corp', 'T-Mobile US Inc', 'Costco Wholesale Corp', 'Medtronic PLC', \"Mcdonald's Corp\", 'Eli Lilly and Co', 'Nextera Energy Inc', 'Texas Instruments Inc', 'Invesco QQQ Trust Series 1', 'Union Pacific Corp', 'Honeywell International Inc', 'Shopify Inc', 'Linde PLC', 'Bristol-Myers Squibb Co', 'Amgen Inc', 'Wells Fargo & Co', 'United Parcel Service Inc', 'Morgan Stanley', 'Citigroup Inc', 'Philip Morris International Inc', 'Charter Communications Inc', 'Starbucks Corp', \"Lowe's Companies Inc\", 'Boeing Co', 'BlackRock Inc', 'International Business Machines Corp', 'Advanced Micro Devices Inc', 'Charles Schwab Corp', 'Square Inc', 'Sea Ltd', 'Raytheon Technologies Corp', 'Caterpillar Inc', 'ServiceNow Inc', 'Zoom Video Communications Inc', 'Goldman Sachs Group Inc', 'General Electric Co', 'American Tower Corp', 'Intuit Inc', 'American Express Co', 'CVS Health Corp', 'Target Corp', 'Intuitive Surgical Inc', '3M Co', 'Estee Lauder Companies Inc', 'Lockheed Martin Corp', 'Uber Technologies Inc', 'Booking Holdings Inc', 'NIO Inc', 'Deere & Co', 'Stryker Corp', 'Airbnb Inc', 'Applied Materials Inc', 'iShares Core MSCI EAFE ETF', 'Micron Technology Inc']\n"
     ]
    }
   ],
   "source": [
    "rics_usa_df = pd.read_excel(path_project_folder + 'rics_usa_excel.xlsx', engine='openpyxl')\n",
    "print('fisrt top-200 companies by market cap:', '\\n', list(rics_usa_df['Company Common Name'])[:100])"
   ]
  },
  {
   "cell_type": "code",
   "execution_count": 131,
   "metadata": {},
   "outputs": [
    {
     "data": {
      "text/html": [
       "<div>\n",
       "<style scoped>\n",
       "    .dataframe tbody tr th:only-of-type {\n",
       "        vertical-align: middle;\n",
       "    }\n",
       "\n",
       "    .dataframe tbody tr th {\n",
       "        vertical-align: top;\n",
       "    }\n",
       "\n",
       "    .dataframe thead th {\n",
       "        text-align: right;\n",
       "    }\n",
       "</style>\n",
       "<table border=\"1\" class=\"dataframe\">\n",
       "  <thead>\n",
       "    <tr style=\"text-align: right;\">\n",
       "      <th></th>\n",
       "      <th>rics_count</th>\n",
       "    </tr>\n",
       "    <tr>\n",
       "      <th>TRBC Industry Group Name</th>\n",
       "      <th></th>\n",
       "    </tr>\n",
       "  </thead>\n",
       "  <tbody>\n",
       "    <tr>\n",
       "      <th>Software &amp; IT Services</th>\n",
       "      <td>303</td>\n",
       "    </tr>\n",
       "    <tr>\n",
       "      <th>Biotechnology &amp; Medical Research</th>\n",
       "      <td>257</td>\n",
       "    </tr>\n",
       "    <tr>\n",
       "      <th>Banking Services</th>\n",
       "      <td>232</td>\n",
       "    </tr>\n",
       "    <tr>\n",
       "      <th>Residential &amp; Commercial REITs</th>\n",
       "      <td>174</td>\n",
       "    </tr>\n",
       "    <tr>\n",
       "      <th>Collective Investments</th>\n",
       "      <td>172</td>\n",
       "    </tr>\n",
       "  </tbody>\n",
       "</table>\n",
       "</div>"
      ],
      "text/plain": [
       "                                  rics_count\n",
       "TRBC Industry Group Name                    \n",
       "Software & IT Services                   303\n",
       "Biotechnology & Medical Research         257\n",
       "Banking Services                         232\n",
       "Residential & Commercial REITs           174\n",
       "Collective Investments                   172"
      ]
     },
     "execution_count": 131,
     "metadata": {},
     "output_type": "execute_result"
    }
   ],
   "source": [
    "rics_usa_df[['TRBC Industry Group Name', 'ric']].groupby(['TRBC Industry Group Name']).agg(\n",
    "    rics_count=('ric', 'count')\n",
    ").sort_values(by='rics_count', ascending=False).head(5)"
   ]
  },
  {
   "cell_type": "markdown",
   "metadata": {},
   "source": [
    "# Подгрузим функции, которые использую в большом цикле"
   ]
  },
  {
   "cell_type": "code",
   "execution_count": 132,
   "metadata": {},
   "outputs": [],
   "source": [
    "def get_name_of_latest_file_in_folder(folder_name):\n",
    "    \"\"\"\n",
    "    Get all file names in selected direction.\n",
    "    Return the latest file in that directory.\n",
    "    \"\"\"\n",
    "    files_creation_dates = pd.DataFrame(data = [], columns=[\n",
    "        \"folder_name\", \"file_name\", \"num_time\", \"str_time\"\n",
    "    ])\n",
    "\n",
    "    files_creation_dates['file_name'] = os.listdir(folder_name)\n",
    "    files_creation_dates['folder_name'] = folder_name\n",
    "    files_creation_dates['file_folder_and_name'] = files_creation_dates['folder_name'] + files_creation_dates['file_name']\n",
    "    files_creation_dates\n",
    "    for i in range(0, len(files_creation_dates)):\n",
    "        file_folder_and_name = files_creation_dates['file_folder_and_name'][i]\n",
    "        files_creation_dates['num_time'][i] = os.path.getctime(file_folder_and_name)\n",
    "        files_creation_dates['str_time'][i] = time.ctime(os.path.getctime(file_folder_and_name))\n",
    "\n",
    "    latest_file_dir = files_creation_dates.sort_values(by=['num_time'], ascending=False)['file_folder_and_name'].iloc[0]\n",
    "    \n",
    "    return latest_file_dir"
   ]
  },
  {
   "cell_type": "code",
   "execution_count": 133,
   "metadata": {},
   "outputs": [
    {
     "name": "stdout",
     "output_type": "stream",
     "text": [
      "(389246, 6) C:/DAN/t_systems/trade_project/backup_headlines/all_headlines_df_2021-03-11_v5.csv\n"
     ]
    }
   ],
   "source": [
    "# Создадим df, в который будем сохранять вообще все новости.\n",
    "\n",
    "# Можем создать пустой df, куда будем добавлять все новости\n",
    "# all_headlines_df = pd.DataFrame(data = [], columns=[\"ric\", \"versionCreated\", \"headline\", \"storyId\", \"sourceCode\", \"story\"])\n",
    "\n",
    "# Но если мы уже сохраняли файл, достанем самый свежий из папки\n",
    "latest_file = get_name_of_latest_file_in_folder(path_project_folder + folder_name_headlines)\n",
    "all_headlines_df = pd.read_csv(latest_file, sep=';')\n",
    "all_headlines_df['versionCreated'] = pd.to_datetime(all_headlines_df['versionCreated'])\n",
    "print(all_headlines_df.shape, latest_file)"
   ]
  },
  {
   "cell_type": "code",
   "execution_count": 134,
   "metadata": {},
   "outputs": [
    {
     "name": "stderr",
     "output_type": "stream",
     "text": [
      "c:\\python37\\lib\\site-packages\\IPython\\core\\interactiveshell.py:3147: DtypeWarning: Columns (0,7,8) have mixed types.Specify dtype option on import or set low_memory=False.\n",
      "  interactivity=interactivity, compiler=compiler, result=result)\n"
     ]
    }
   ],
   "source": [
    "# Создадим подобие logger'а \n",
    "\n",
    "# quasi_logger = pd.DataFrame(data = [], columns=[\n",
    "#     'ric_i', 'ric_now', 'headlines_slice_i', 'headlines_number',\n",
    "#     'up_to_date_ric', 'story_i', 'story_id_now', 'story_is_success', \n",
    "#     'date_time',\n",
    "# ])\n",
    "\n",
    "# Так как у нас уже есть созданный logger, подгрузим его\n",
    "latest_file = get_name_of_latest_file_in_folder(path_project_folder + folder_name_logger)\n",
    "quasi_logger = pd.read_csv(latest_file, sep=';')\n",
    "# quasi_logger['date_time'] = pd.to_datetime(quasi_logger['date_time'])\n",
    "# print(quasi_logger.shape, latest_file)"
   ]
  },
  {
   "cell_type": "code",
   "execution_count": 135,
   "metadata": {},
   "outputs": [
    {
     "data": {
      "text/html": [
       "<div>\n",
       "<style scoped>\n",
       "    .dataframe tbody tr th:only-of-type {\n",
       "        vertical-align: middle;\n",
       "    }\n",
       "\n",
       "    .dataframe tbody tr th {\n",
       "        vertical-align: top;\n",
       "    }\n",
       "\n",
       "    .dataframe thead th {\n",
       "        text-align: right;\n",
       "    }\n",
       "</style>\n",
       "<table border=\"1\" class=\"dataframe\">\n",
       "  <thead>\n",
       "    <tr style=\"text-align: right;\">\n",
       "      <th></th>\n",
       "      <th>ric_i</th>\n",
       "      <th>ric_now</th>\n",
       "      <th>headlines_slice_i</th>\n",
       "      <th>headlines_number</th>\n",
       "      <th>up_to_date_ric</th>\n",
       "      <th>story_i</th>\n",
       "      <th>story_id_now</th>\n",
       "      <th>story_is_success</th>\n",
       "      <th>date_time</th>\n",
       "    </tr>\n",
       "  </thead>\n",
       "  <tbody>\n",
       "    <tr>\n",
       "      <th>358580</th>\n",
       "      <td>37</td>\n",
       "      <td>XOM.N</td>\n",
       "      <td>32.0</td>\n",
       "      <td>100.0</td>\n",
       "      <td>2020-07-31 13:55:37+00:00</td>\n",
       "      <td>95.0</td>\n",
       "      <td>urn:newsml:reuters.com:20200730:nRTV9GwS1R:5</td>\n",
       "      <td>False</td>\n",
       "      <td>2021-03-11 04:10:07.763471</td>\n",
       "    </tr>\n",
       "    <tr>\n",
       "      <th>358581</th>\n",
       "      <td>37</td>\n",
       "      <td>XOM.N</td>\n",
       "      <td>32.0</td>\n",
       "      <td>100.0</td>\n",
       "      <td>2020-07-31 13:55:37+00:00</td>\n",
       "      <td>96.0</td>\n",
       "      <td>urn:newsml:reuters.com:20200730:nL5N2F1515:1</td>\n",
       "      <td>False</td>\n",
       "      <td>2021-03-11 04:10:13.032374</td>\n",
       "    </tr>\n",
       "    <tr>\n",
       "      <th>358582</th>\n",
       "      <td>37</td>\n",
       "      <td>XOM.N</td>\n",
       "      <td>32.0</td>\n",
       "      <td>100.0</td>\n",
       "      <td>2020-07-31 13:55:37+00:00</td>\n",
       "      <td>97.0</td>\n",
       "      <td>urn:newsml:reuters.com:20200730:nL5N2F15C4:3</td>\n",
       "      <td>False</td>\n",
       "      <td>2021-03-11 04:10:18.302284</td>\n",
       "    </tr>\n",
       "    <tr>\n",
       "      <th>358583</th>\n",
       "      <td>37</td>\n",
       "      <td>XOM.N</td>\n",
       "      <td>32.0</td>\n",
       "      <td>100.0</td>\n",
       "      <td>2020-07-31 13:55:37+00:00</td>\n",
       "      <td>98.0</td>\n",
       "      <td>urn:newsml:reuters.com:20200730:nL5N2F14OY:5</td>\n",
       "      <td>False</td>\n",
       "      <td>2021-03-11 04:10:23.588161</td>\n",
       "    </tr>\n",
       "    <tr>\n",
       "      <th>358584</th>\n",
       "      <td>37</td>\n",
       "      <td>XOM.N</td>\n",
       "      <td>32.0</td>\n",
       "      <td>100.0</td>\n",
       "      <td>2020-07-31 13:55:37+00:00</td>\n",
       "      <td>99.0</td>\n",
       "      <td>urn:newsml:reuters.com:20200730:nL5N2F13E8:9</td>\n",
       "      <td>False</td>\n",
       "      <td>2021-03-11 04:10:28.861063</td>\n",
       "    </tr>\n",
       "  </tbody>\n",
       "</table>\n",
       "</div>"
      ],
      "text/plain": [
       "       ric_i ric_now  headlines_slice_i  headlines_number  \\\n",
       "358580    37   XOM.N               32.0             100.0   \n",
       "358581    37   XOM.N               32.0             100.0   \n",
       "358582    37   XOM.N               32.0             100.0   \n",
       "358583    37   XOM.N               32.0             100.0   \n",
       "358584    37   XOM.N               32.0             100.0   \n",
       "\n",
       "                   up_to_date_ric  story_i  \\\n",
       "358580  2020-07-31 13:55:37+00:00     95.0   \n",
       "358581  2020-07-31 13:55:37+00:00     96.0   \n",
       "358582  2020-07-31 13:55:37+00:00     97.0   \n",
       "358583  2020-07-31 13:55:37+00:00     98.0   \n",
       "358584  2020-07-31 13:55:37+00:00     99.0   \n",
       "\n",
       "                                        story_id_now story_is_success  \\\n",
       "358580  urn:newsml:reuters.com:20200730:nRTV9GwS1R:5            False   \n",
       "358581  urn:newsml:reuters.com:20200730:nL5N2F1515:1            False   \n",
       "358582  urn:newsml:reuters.com:20200730:nL5N2F15C4:3            False   \n",
       "358583  urn:newsml:reuters.com:20200730:nL5N2F14OY:5            False   \n",
       "358584  urn:newsml:reuters.com:20200730:nL5N2F13E8:9            False   \n",
       "\n",
       "                         date_time  \n",
       "358580  2021-03-11 04:10:07.763471  \n",
       "358581  2021-03-11 04:10:13.032374  \n",
       "358582  2021-03-11 04:10:18.302284  \n",
       "358583  2021-03-11 04:10:23.588161  \n",
       "358584  2021-03-11 04:10:28.861063  "
      ]
     },
     "execution_count": 135,
     "metadata": {},
     "output_type": "execute_result"
    }
   ],
   "source": [
    "quasi_logger[-5:]"
   ]
  },
  {
   "cell_type": "code",
   "execution_count": 136,
   "metadata": {},
   "outputs": [],
   "source": [
    "# Проверим, содержит ли all_headlines_df наш текущий ric\n",
    "def set_value_of_up_to_date_ric(\n",
    "        ric_now, # ric to check of existence in df\n",
    "        df_with_news_to_check,\n",
    "        column_name_with_rics = 'ric',\n",
    "        column_name_with_dates = 'versionCreated'):\n",
    "    \"\"\"\n",
    "    This function is checking the existance of ric in chosen df.\n",
    "    If some news are in df, then function returns the oldest date in df.\n",
    "    If no news are in df, then function returns 'None' for ek.get_news_headlines.\n",
    "    \"\"\"\n",
    "\n",
    "    is_this_ric_in_all = ric_now in list(df_with_news_to_check[column_name_with_rics])\n",
    "    print()\n",
    "    print('is_this_ric_in_all:', is_this_ric_in_all, end=' ')\n",
    "    if is_this_ric_in_all:\n",
    "        # Если в нашем датасете присутствует этот ric,\n",
    "        # то продолжаем по нему выгружать, берём мин имеющуюся дату.\n",
    "        up_to_date_ric = str(df_with_news_to_check[df_with_news_to_check[column_name_with_rics] == ric_now][column_name_with_dates].min())\n",
    "        print('  up_to_date_ric:', up_to_date_ric, end=' ')\n",
    "    else:\n",
    "        # None означает, что метод ek.get_news_headlines возьмёт текущий момент времени.\n",
    "        up_to_date_ric = None\n",
    "        print('  up_to_date_ric:', up_to_date_ric, end=' ')\n",
    "        \n",
    "    return up_to_date_ric"
   ]
  },
  {
   "cell_type": "code",
   "execution_count": 137,
   "metadata": {},
   "outputs": [],
   "source": [
    "def get_news_headlines_with_some_tries(\n",
    "        ric_now,\n",
    "        headlines_count_to_request,\n",
    "        up_to_date_ric,\n",
    "        max_num_tries=5):\n",
    "    \"\"\"\n",
    "    We trying to get df with headlines from eikon API with several tries\n",
    "    \"\"\"\n",
    "    \n",
    "    tries_num = 0\n",
    "    while tries_num < max_num_tries:\n",
    "        try:\n",
    "            news_get_df = ek.get_news_headlines(\n",
    "                query=ric_now,\n",
    "                count=headlines_count_to_request,\n",
    "                date_to=up_to_date_ric\n",
    "            )\n",
    "            print('got successfully', end=' ')\n",
    "            break\n",
    "        except Exception as e:\n",
    "            print()\n",
    "            print('Error when trying to get news headlines', tries_num)\n",
    "            print(e)\n",
    "            time.sleep(5)\n",
    "            tries_num = tries_num + 1\n",
    "\n",
    "    print('news_get_df.shape:', news_get_df.shape[0])\n",
    "\n",
    "    return news_get_df"
   ]
  },
  {
   "cell_type": "code",
   "execution_count": 138,
   "metadata": {},
   "outputs": [],
   "source": [
    "def prepare_headlines_df_to_adding_news_story(\n",
    "        ric_now,\n",
    "        news_get_df):\n",
    "    \"\"\"\n",
    "    Now: news_get_df is collected df from ek.get_news_headlines method.\n",
    "    And we want to add news story (full news text) to that df.\n",
    "    So we should prepare that df for iterations with ek.get_news_story method.\n",
    "    For that puspose we should add ric and story columns,\n",
    "    and change the column name with headlines from text to headlines.\n",
    "    \"\"\"\n",
    "    \n",
    "    news_get_df = news_get_df.reset_index(drop=True) # чтобы юзать .loc()\n",
    "    news_get_df['ric'] = ric_now\n",
    "    news_get_df['story'] = np.nan\n",
    "    news_get_df['headline'] = news_get_df['text']\n",
    "    news_get_df = news_get_df.drop(columns=['text'])\n",
    "    \n",
    "    return news_get_df"
   ]
  },
  {
   "cell_type": "code",
   "execution_count": 139,
   "metadata": {},
   "outputs": [],
   "source": [
    "def adding_news_stories_to_df_with_headlines(\n",
    "        news_get_df,\n",
    "        quasi_logger,\n",
    "        ric_i,\n",
    "        ric_now,\n",
    "        headlines_slice_i,\n",
    "        headlines_number,\n",
    "        up_to_date_ric,\n",
    "        col_name_with_story_id = 'storyId'):\n",
    "    \"\"\"\n",
    "    The function adds full text news story to df with headlines using storyId.\n",
    "    The function just prints the error in a case of error (they are rare).\n",
    "    In any case the function logs results of API request to logger df.\n",
    "    \"\"\"\n",
    "\n",
    "    for story_i in range(0, len(news_get_df)): # range(0, len(news_get_df))\n",
    "        story_id_now = news_get_df['storyId'][story_i]\n",
    "\n",
    "        try:\n",
    "            story_now = ek.get_news_story(story_id_now)\n",
    "            # Удалим из истории все тильды на всякий случай, будет sep='~'\n",
    "            story_now = story_now.replace(\"~\", \"!tilda!\")\n",
    "            # Внесём выкаченную историю в df\n",
    "            news_get_df.loc[story_i, 'story'] = story_now\n",
    "            # Пометим, что мы успешно выкачали текст новости\n",
    "            story_is_success = True\n",
    "            print(story_i, end='; ')\n",
    "\n",
    "        except Exception as e:\n",
    "            story_is_success = False\n",
    "            # Заменим NA на текст ошибки\n",
    "            news_get_df.loc[story_i, 'story'] = 'error_when_trying_to_collect_story'\n",
    "            # Выведем story с ошибкой\n",
    "            print() # e.message\n",
    "            print(\n",
    "                'STORY IS OK:', story_is_success, \n",
    "                '  ric_now:', ric_now, # input to function\n",
    "                '  ric_i:', ric_i, # input to function\n",
    "                '  story_i:', story_i\n",
    "                )\n",
    "            print(e)\n",
    "            time.sleep(5)\n",
    "\n",
    "        finally:\n",
    "            # В любом случае внесём в наш квази-логгер наблюдение story.\n",
    "            quasi_logger = quasi_logger.append({\n",
    "                \"ric_i\": ric_i, # input to function\n",
    "                \"ric_now\": ric_now, # input to function\n",
    "                \"headlines_slice_i\": headlines_slice_i, # input to function\n",
    "                \"headlines_number\": headlines_number, # input to function\n",
    "                \"up_to_date_ric\": up_to_date_ric, # input to function\n",
    "                \"story_i\": story_i,\n",
    "                \"story_id_now\": story_id_now,\n",
    "                \"story_is_success\": story_is_success,\n",
    "                \"date_time\": str(datetime.today())\n",
    "            }, ignore_index = True)\n",
    "    # At that moment the df has full text of news in col story\n",
    "    return news_get_df, quasi_logger"
   ]
  },
  {
   "cell_type": "code",
   "execution_count": 140,
   "metadata": {},
   "outputs": [],
   "source": [
    "def save_file_as_new_file_without_replacing(\n",
    "        path_project_folder,\n",
    "        folder_name_to_save,\n",
    "        file_to_save,\n",
    "        file_short_name_add_to_path):\n",
    "    \"\"\"\n",
    "    Save the file to selected folder without replacing,\n",
    "    but changing file name as a number of version at date now\n",
    "    \"\"\"\n",
    "    # Сохраним версию all_headlines_df со всеми новостями\n",
    "    # Подберём такое название, которого нет в dir, чтобы не переписывать файл.\n",
    "    file_version = 1\n",
    "    folder_name = path_project_folder + folder_name_to_save\n",
    "    date_now = datetime.today().strftime(\"%Y-%m-%d\")\n",
    "    file_name = file_short_name_add_to_path + '_' + str(date_now) + '_v' + str(file_version) + '.csv'\n",
    "    while file_name in os.listdir(folder_name):\n",
    "        file_name = file_short_name_add_to_path + '_' + str(date_now) + '_v' + str(file_version) + '.csv'\n",
    "        file_version = file_version + 1\n",
    "    # C:/DAN/t_systems/trade_project/backup_headlines/all_headlines_df_2020-12-24_v6.csv\n",
    "    file_path = folder_name + file_name\n",
    "    file_to_save.to_csv(file_path, sep = ';', index=False)\n",
    "    print(file_path)"
   ]
  },
  {
   "cell_type": "markdown",
   "metadata": {},
   "source": [
    "# Цикл, который выкачивает новости и сохраняет их"
   ]
  },
  {
   "cell_type": "code",
   "execution_count": 142,
   "metadata": {},
   "outputs": [
    {
     "name": "stdout",
     "output_type": "stream",
     "text": [
      "33 CRM.N\n",
      "\n",
      "is_this_ric_in_all: True   up_to_date_ric: 2019-12-10 23:41:59.546000+00:00 got successfully news_get_df.shape: 0\n",
      "\n",
      "2021-03-13 00:51:41.760289 CRM.N  ric_i: 33  headline_slice_i: 1  headline_number: 0  not null: 0 2019-12-10 23:41:59.546000+00:00\n",
      "(389246, 6)\n",
      "C:/DAN/t_systems/trade_project/logger/quasi_logger_2021-03-13_v1.csv\n",
      "34 TMO.N\n",
      "\n",
      "is_this_ric_in_all: True   up_to_date_ric: 2019-12-11 08:00:00+00:00 got successfully news_get_df.shape: 0\n",
      "\n",
      "2021-03-13 00:51:44.094743 TMO.N  ric_i: 34  headline_slice_i: 1  headline_number: 0  not null: 0 2019-12-11 08:00:00+00:00\n",
      "(389246, 6)\n",
      "C:/DAN/t_systems/trade_project/logger/quasi_logger_2021-03-13_v2.csv\n",
      "35 PEP.OQ\n",
      "\n",
      "is_this_ric_in_all: True   up_to_date_ric: 2019-12-11 05:26:22.698000+00:00 got successfully news_get_df.shape: 0\n",
      "\n",
      "2021-03-13 00:51:46.360825 PEP.OQ  ric_i: 35  headline_slice_i: 1  headline_number: 0  not null: 0 2019-12-11 05:26:22.698000+00:00\n",
      "(389246, 6)\n",
      "C:/DAN/t_systems/trade_project/logger/quasi_logger_2021-03-13_v3.csv\n",
      "36 ABT.N\n",
      "\n",
      "is_this_ric_in_all: True   up_to_date_ric: 2019-12-11 00:27:19.782000+00:00 got successfully news_get_df.shape: 0\n",
      "\n",
      "2021-03-13 00:51:48.588154 ABT.N  ric_i: 36  headline_slice_i: 1  headline_number: 0  not null: 0 2019-12-11 00:27:19.782000+00:00\n",
      "(389246, 6)\n",
      "C:/DAN/t_systems/trade_project/logger/quasi_logger_2021-03-13_v4.csv\n",
      "37 XOM.N\n",
      "\n",
      "is_this_ric_in_all: True   up_to_date_ric: 2020-07-31 11:45:39.373000+00:00 got successfully news_get_df.shape: 100\n",
      "0; 1; 2; 3; 4; 5; 6; 7; 8; 9; 10; 11; 12; 13; 14; 15; 16; 17; 18; 19; 20; 21; 22; 23; 24; 25; 26; 27; 28; 29; 30; 31; 32; 33; 34; 35; 36; 37; 38; 39; 40; 41; 42; 43; 44; 45; 46; 47; 48; 49; 50; 51; 52; 53; 54; 55; 56; 57; 58; 59; 60; 61; 62; 63; 64; 65; 66; 67; 68; 69; 70; 71; 72; 73; 74; 75; 76; 77; 78; 79; 80; 81; 82; 83; 84; 85; 86; 87; 88; 89; 90; 91; 92; 93; 94; 95; 96; 97; 98; 99; \n",
      "2021-03-13 00:54:21.664227 XOM.N  ric_i: 37  headline_slice_i: 1  headline_number: 100  not null: 100 2020-07-31 11:45:39.373000+00:00\n",
      "(389346, 6)\n",
      "\n",
      "is_this_ric_in_all: True   up_to_date_ric: 2020-07-24 12:06:57+00:00 got successfully news_get_df.shape: 100\n",
      "0; 1; 2; 3; 4; 5; 6; 7; 8; 9; 10; 11; 12; 13; 14; 15; 16; 17; 18; 19; 20; 21; 22; 23; 24; 25; 26; 27; 28; 29; 30; 31; 32; 33; 34; 35; 36; 37; 38; 39; 40; 41; 42; 43; 44; 45; 46; 47; 48; 49; 50; 51; 52; 53; 54; 55; 56; 57; 58; 59; 60; 61; 62; 63; 64; 65; 66; 67; 68; 69; 70; 71; 72; 73; 74; 75; 76; 77; 78; 79; 80; 81; 82; 83; 84; 85; 86; 87; 88; 89; 90; 91; 92; 93; 94; 95; 96; 97; 98; 99; \n",
      "2021-03-13 00:55:57.046740 XOM.N  ric_i: 37  headline_slice_i: 2  headline_number: 100  not null: 100 2020-07-24 12:06:57+00:00\n",
      "(389446, 6)\n",
      "\n",
      "is_this_ric_in_all: True   up_to_date_ric: 2020-07-10 12:48:09+00:00 got successfully news_get_df.shape: 100\n",
      "0; 1; 2; 3; 4; 5; 6; 7; 8; 9; 10; 11; 12; 13; 14; 15; 16; 17; 18; 19; 20; 21; 22; 23; 24; 25; 26; 27; 28; 29; 30; 31; 32; 33; 34; 35; 36; 37; 38; 39; 40; 41; 42; 43; 44; 45; 46; 47; 48; 49; 50; 51; 52; 53; 54; 55; 56; 57; 58; 59; 60; 61; 62; 63; 64; 65; 66; 67; 68; 69; 70; 71; 72; 73; 74; 75; 76; 77; 78; 79; 80; 81; 82; 83; 84; 85; 86; 87; 88; 89; 90; 91; 92; 93; 94; 95; 96; 97; 98; 99; \n",
      "2021-03-13 00:57:42.124049 XOM.N  ric_i: 37  headline_slice_i: 3  headline_number: 100  not null: 100 2020-07-10 12:48:09+00:00\n",
      "(389546, 6)\n",
      "\n",
      "is_this_ric_in_all: True   up_to_date_ric: 2020-06-30 09:55:34+00:00 got successfully news_get_df.shape: 100\n",
      "0; 1; 2; 3; 4; 5; 6; 7; 8; 9; 10; 11; 12; 13; 14; 15; 16; 17; 18; 19; 20; 21; 22; 23; 24; 25; 26; 27; 28; 29; 30; 31; 32; 33; 34; 35; 36; 37; 38; 39; 40; 41; 42; 43; 44; 45; 46; 47; 48; 49; 50; 51; 52; 53; 54; 55; 56; 57; 58; 59; 60; 61; 62; 63; 64; 65; 66; 67; 68; 69; 70; 71; 72; 73; 74; 75; 76; 77; 78; 79; 80; 81; 82; 83; 84; 85; 86; 87; 88; 89; 90; 91; 92; 93; 94; 95; 96; 97; 98; 99; \n",
      "2021-03-13 00:59:16.634552 XOM.N  ric_i: 37  headline_slice_i: 4  headline_number: 100  not null: 100 2020-06-30 09:55:34+00:00\n",
      "(389646, 6)\n",
      "\n",
      "is_this_ric_in_all: True   up_to_date_ric: 2020-06-22 14:01:08.287000+00:00 got successfully news_get_df.shape: 100\n",
      "0; 1; 2; 3; 4; 5; 6; 7; 8; 9; 10; 11; 12; 13; 14; 15; 16; 17; 18; 19; 20; 21; 22; 23; 24; 25; 26; 27; 28; 29; 30; 31; 32; 33; 34; 35; 36; 37; 38; 39; 40; 41; 42; 43; 44; 45; 46; 47; 48; 49; 50; 51; 52; 53; 54; 55; 56; 57; 58; 59; 60; 61; 62; 63; 64; 65; 66; 67; 68; 69; 70; 71; 72; 73; 74; 75; 76; 77; 78; 79; 80; 81; 82; 83; 84; 85; 86; 87; 88; 89; 90; 91; 92; 93; 94; 95; 96; 97; 98; 99; \n",
      "2021-03-13 01:00:58.333473 XOM.N  ric_i: 37  headline_slice_i: 5  headline_number: 100  not null: 100 2020-06-22 14:01:08.287000+00:00\n",
      "(389746, 6)\n",
      "\n",
      "is_this_ric_in_all: True   up_to_date_ric: 2020-06-11 13:57:20+00:00 got successfully news_get_df.shape: 100\n",
      "0; 1; 2; 3; 4; 5; 6; 7; 8; 9; 10; 11; 12; 13; 14; 15; 16; 17; 18; 19; 20; 21; 22; 23; 24; 25; 26; 27; 28; 29; 30; 31; 32; 33; 34; 35; 36; 37; 38; 39; 40; 41; 42; 43; 44; 45; 46; 47; 48; 49; 50; 51; 52; 53; 54; 55; 56; 57; 58; 59; 60; 61; 62; 63; 64; 65; 66; 67; 68; 69; 70; 71; 72; 73; 74; 75; 76; 77; 78; 79; 80; 81; 82; 83; 84; 85; 86; 87; 88; 89; 90; 91; 92; 93; 94; 95; 96; 97; 98; 99; \n",
      "2021-03-13 01:02:42.639526 XOM.N  ric_i: 37  headline_slice_i: 6  headline_number: 100  not null: 100 2020-06-11 13:57:20+00:00\n",
      "(389846, 6)\n",
      "\n",
      "is_this_ric_in_all: True   up_to_date_ric: 2020-06-01 02:29:09+00:00 got successfully news_get_df.shape: 100\n",
      "0; 1; 2; 3; 4; 5; 6; 7; 8; 9; 10; 11; 12; 13; 14; 15; 16; 17; 18; 19; 20; 21; 22; 23; 24; 25; 26; 27; 28; 29; 30; 31; 32; 33; 34; 35; 36; 37; 38; 39; 40; 41; 42; 43; 44; 45; 46; 47; 48; 49; 50; 51; 52; 53; 54; 55; 56; 57; 58; 59; 60; 61; 62; 63; 64; 65; 66; 67; 68; 69; 70; 71; 72; 73; 74; 75; 76; 77; 78; 79; 80; 81; 82; 83; 84; 85; 86; 87; 88; 89; 90; 91; 92; 93; 94; 95; 96; 97; 98; 99; \n",
      "2021-03-13 01:04:26.898156 XOM.N  ric_i: 37  headline_slice_i: 7  headline_number: 100  not null: 100 2020-06-01 02:29:09+00:00\n",
      "(389946, 6)\n",
      "\n",
      "is_this_ric_in_all: True   up_to_date_ric: 2020-05-20 17:06:43+00:00 got successfully news_get_df.shape: 100\n",
      "0; 1; 2; 3; 4; 5; 6; 7; 8; 9; 10; 11; 12; 13; 14; 15; 16; 17; 18; 19; 20; 21; 22; 23; 24; 25; 26; 27; 28; 29; 30; 31; 32; 33; 34; 35; 36; 37; 38; 39; 40; 41; 42; 43; 44; 45; 46; 47; 48; 49; 50; 51; 52; 53; 54; 55; 56; 57; 58; 59; 60; 61; 62; 63; 64; 65; 66; 67; 68; 69; 70; 71; 72; 73; 74; 75; 76; 77; 78; 79; 80; 81; 82; 83; 84; 85; 86; 87; 88; 89; 90; 91; 92; 93; 94; 95; 96; 97; 98; 99; \n",
      "2021-03-13 01:06:10.710967 XOM.N  ric_i: 37  headline_slice_i: 8  headline_number: 100  not null: 100 2020-05-20 17:06:43+00:00\n",
      "(390046, 6)\n",
      "\n",
      "is_this_ric_in_all: True   up_to_date_ric: 2020-05-13 13:58:20.582000+00:00 got successfully news_get_df.shape: 100\n",
      "0; 1; 2; 3; 4; 5; 6; 7; 8; 9; 10; 11; 12; 13; 14; 15; 16; 17; 18; 19; 20; 21; 22; 23; 24; 25; 26; 27; 28; 29; 30; 31; 32; 33; 34; 35; 36; 37; 38; 39; 40; 41; 42; 43; 44; 45; 46; 47; 48; 49; 50; 51; 52; 53; 54; 55; 56; 57; 58; 59; 60; 61; 62; 63; 64; 65; 66; 67; 68; 69; 70; 71; 72; 73; 74; 75; 76; 77; 78; 79; 80; 81; 82; 83; 84; 85; 86; 87; 88; 89; 90; 91; 92; 93; 94; 95; 96; 97; 98; 99; \n",
      "2021-03-13 01:07:56.851435 XOM.N  ric_i: 37  headline_slice_i: 9  headline_number: 100  not null: 100 2020-05-13 13:58:20.582000+00:00\n",
      "(390146, 6)\n",
      "\n",
      "is_this_ric_in_all: True   up_to_date_ric: 2020-05-07 03:07:08.556000+00:00 got successfully news_get_df.shape: 100\n",
      "0; 1; 2; 3; 4; 5; 6; 7; 8; 9; 10; 11; 12; 13; 14; 15; 16; 17; 18; 19; 20; 21; 22; 23; 24; 25; 26; 27; 28; 29; 30; 31; 32; 33; 34; 35; 36; 37; 38; 39; 40; 41; 42; 43; 44; 45; 46; 47; 48; 49; 50; 51; 52; 53; 54; 55; 56; 57; 58; 59; 60; 61; 62; 63; 64; 65; 66; 67; 68; 69; 70; 71; 72; 73; 74; 75; 76; 77; 78; 79; 80; 81; 82; 83; 84; 85; 86; 87; 88; 89; 90; 91; 92; 93; 94; 95; 96; 97; 98; 99; \n",
      "2021-03-13 01:09:37.127863 XOM.N  ric_i: 37  headline_slice_i: 10  headline_number: 100  not null: 100 2020-05-07 03:07:08.556000+00:00\n",
      "(390246, 6)\n",
      "\n",
      "is_this_ric_in_all: True   up_to_date_ric: 2020-05-01 18:16:59.982000+00:00 got successfully news_get_df.shape: 100\n",
      "0; 1; 2; 3; 4; 5; 6; 7; 8; 9; 10; 11; 12; 13; 14; 15; 16; 17; 18; 19; 20; 21; 22; 23; 24; 25; 26; 27; 28; 29; 30; 31; 32; 33; 34; 35; 36; 37; 38; 39; 40; 41; 42; "
     ]
    },
    {
     "name": "stderr",
     "output_type": "stream",
     "text": [
      "2021-03-13 01:10:50,035 P[3528] [MainThread 10712] UDF Core request failed. Gateway Time-out\n",
      "2021-03-13 01:10:50,037 P[3528] [MainThread 10712] HTTP request failed: EikonError-UDF Core request failed. Gateway Time-out\n"
     ]
    },
    {
     "name": "stdout",
     "output_type": "stream",
     "text": [
      "\n",
      "STORY IS OK: False   ric_now: XOM.N   ric_i: 37   story_i: 43\n",
      "'NoneType' object has no attribute 'replace'\n",
      "44; 45; 46; 47; 48; 49; 50; 51; 52; 53; 54; 55; 56; 57; 58; 59; 60; 61; 62; 63; 64; 65; 66; 67; 68; 69; 70; 71; 72; 73; 74; 75; 76; 77; 78; 79; 80; 81; 82; 83; 84; 85; 86; 87; 88; 89; 90; 91; 92; 93; 94; 95; 96; 97; 98; 99; \n",
      "2021-03-13 01:12:42.923892 XOM.N  ric_i: 37  headline_slice_i: 11  headline_number: 100  not null: 100 2020-05-01 18:16:59.982000+00:00\n",
      "(390346, 6)\n",
      "\n",
      "is_this_ric_in_all: True   up_to_date_ric: 2020-05-01 11:36:45.271000+00:00 got successfully news_get_df.shape: 100\n",
      "0; 1; 2; 3; 4; 5; 6; 7; 8; 9; 10; 11; 12; 13; 14; 15; 16; 17; 18; 19; 20; 21; 22; 23; 24; 25; 26; 27; 28; 29; 30; 31; 32; 33; 34; 35; 36; 37; 38; 39; 40; 41; 42; 43; 44; 45; 46; 47; 48; 49; 50; 51; 52; 53; 54; 55; 56; 57; 58; 59; 60; 61; 62; 63; 64; 65; 66; 67; 68; 69; 70; 71; 72; 73; 74; 75; 76; 77; 78; 79; 80; 81; 82; 83; 84; 85; 86; 87; 88; 89; 90; 91; 92; 93; 94; 95; 96; 97; 98; 99; \n",
      "2021-03-13 01:14:56.721974 XOM.N  ric_i: 37  headline_slice_i: 12  headline_number: 100  not null: 100 2020-05-01 11:36:45.271000+00:00\n",
      "(390446, 6)\n",
      "\n",
      "is_this_ric_in_all: True   up_to_date_ric: 2020-04-28 17:48:36+00:00 got successfully news_get_df.shape: 100\n",
      "0; 1; 2; 3; 4; 5; 6; 7; 8; 9; 10; 11; 12; 13; 14; 15; 16; 17; 18; 19; 20; 21; 22; 23; 24; 25; 26; 27; 28; 29; 30; 31; 32; 33; 34; 35; 36; 37; 38; 39; 40; 41; 42; 43; 44; 45; 46; 47; 48; 49; 50; 51; 52; 53; 54; 55; 56; 57; 58; 59; 60; 61; 62; 63; 64; 65; 66; 67; 68; 69; 70; 71; 72; 73; 74; 75; 76; 77; 78; 79; 80; 81; 82; 83; 84; 85; 86; 87; 88; 89; 90; 91; 92; 93; 94; 95; 96; 97; 98; 99; \n",
      "2021-03-13 01:16:32.990209 XOM.N  ric_i: 37  headline_slice_i: 13  headline_number: 100  not null: 100 2020-04-28 17:48:36+00:00\n",
      "(390546, 6)\n",
      "\n",
      "is_this_ric_in_all: True   up_to_date_ric: 2020-04-23 19:11:22+00:00 got successfully news_get_df.shape: 100\n",
      "0; 1; 2; 3; 4; 5; 6; 7; \n",
      "STORY IS OK: False   ric_now: XOM.N   ric_i: 37   story_i: 8\n",
      "'NoneType' object has no attribute 'replace'\n",
      "9; 10; 11; 12; 13; 14; 15; 16; 17; 18; 19; 20; 21; 22; 23; 24; 25; 26; 27; 28; 29; 30; 31; 32; 33; 34; 35; 36; 37; 38; 39; 40; 41; 42; 43; 44; 45; 46; 47; 48; 49; 50; 51; 52; 53; 54; \n",
      "STORY IS OK: False   ric_now: XOM.N   ric_i: 37   story_i: 55\n",
      "'NoneType' object has no attribute 'replace'\n",
      "56; 57; 58; 59; 60; 61; 62; 63; 64; 65; 66; 67; 68; 69; 70; 71; 72; 73; 74; 75; 76; 77; 78; 79; 80; 81; 82; 83; 84; 85; 86; 87; 88; 89; 90; 91; 92; 93; 94; 95; 96; 97; 98; 99; \n",
      "2021-03-13 01:18:26.608364 XOM.N  ric_i: 37  headline_slice_i: 14  headline_number: 100  not null: 100 2020-04-23 19:11:22+00:00\n",
      "(390646, 6)\n",
      "\n",
      "is_this_ric_in_all: True   up_to_date_ric: 2020-04-20 15:44:47+00:00 got successfully news_get_df.shape: 100\n",
      "0; 1; 2; 3; 4; 5; 6; 7; 8; 9; 10; 11; 12; 13; 14; 15; 16; 17; 18; 19; 20; 21; 22; 23; 24; 25; 26; 27; 28; 29; 30; 31; 32; 33; 34; 35; 36; 37; 38; 39; 40; 41; 42; 43; 44; 45; 46; 47; 48; 49; 50; 51; 52; 53; 54; 55; 56; 57; 58; 59; 60; 61; 62; 63; 64; 65; 66; 67; 68; 69; 70; 71; 72; 73; 74; 75; 76; 77; 78; 79; 80; 81; 82; 83; 84; 85; 86; 87; 88; 89; 90; 91; 92; 93; 94; 95; 96; 97; 98; 99; \n",
      "2021-03-13 01:20:07.934501 XOM.N  ric_i: 37  headline_slice_i: 15  headline_number: 100  not null: 100 2020-04-20 15:44:47+00:00\n",
      "(390746, 6)\n",
      "\n",
      "is_this_ric_in_all: True   up_to_date_ric: 2020-04-14 10:44:11+00:00 got successfully news_get_df.shape: 100\n",
      "0; 1; 2; 3; 4; 5; 6; 7; 8; 9; 10; 11; 12; 13; 14; 15; 16; 17; 18; 19; 20; 21; 22; 23; 24; 25; 26; 27; 28; 29; 30; 31; 32; 33; 34; 35; 36; 37; 38; 39; 40; 41; 42; 43; 44; 45; 46; 47; 48; 49; 50; 51; 52; 53; 54; 55; 56; 57; 58; 59; 60; 61; 62; 63; 64; 65; 66; \n",
      "STORY IS OK: False   ric_now: XOM.N   ric_i: 37   story_i: 67\n",
      "'NoneType' object has no attribute 'replace'\n",
      "68; 69; 70; 71; 72; 73; 74; 75; 76; 77; 78; 79; 80; 81; 82; 83; 84; 85; 86; 87; 88; 89; 90; 91; 92; 93; 94; 95; 96; 97; 98; 99; \n",
      "2021-03-13 01:22:08.513544 XOM.N  ric_i: 37  headline_slice_i: 16  headline_number: 100  not null: 100 2020-04-14 10:44:11+00:00\n",
      "(390846, 6)\n",
      "\n",
      "is_this_ric_in_all: True   up_to_date_ric: 2020-04-08 16:43:01+00:00 got successfully news_get_df.shape: 100\n",
      "0; 1; 2; 3; 4; 5; 6; 7; 8; 9; 10; 11; 12; 13; 14; 15; 16; 17; 18; 19; 20; 21; 22; 23; 24; 25; 26; 27; 28; 29; 30; 31; 32; 33; 34; 35; 36; 37; 38; 39; 40; 41; 42; 43; 44; 45; 46; 47; 48; 49; 50; 51; 52; 53; 54; 55; 56; 57; 58; 59; 60; 61; 62; 63; 64; 65; 66; 67; 68; 69; 70; 71; 72; 73; 74; 75; 76; 77; 78; 79; 80; 81; 82; 83; 84; 85; 86; 87; 88; 89; 90; 91; 92; 93; 94; 95; 96; 97; 98; 99; \n",
      "2021-03-13 01:24:52.691631 XOM.N  ric_i: 37  headline_slice_i: 17  headline_number: 100  not null: 100 2020-04-08 16:43:01+00:00\n",
      "(390946, 6)\n",
      "\n",
      "is_this_ric_in_all: True   up_to_date_ric: 2020-04-06 22:41:58.434000+00:00 got successfully news_get_df.shape: 100\n",
      "0; 1; 2; 3; 4; 5; 6; 7; 8; 9; 10; 11; 12; 13; 14; 15; 16; 17; 18; 19; 20; 21; 22; 23; 24; 25; 26; 27; 28; 29; 30; 31; 32; 33; 34; 35; 36; 37; 38; 39; 40; 41; 42; 43; 44; 45; 46; 47; 48; 49; 50; 51; 52; 53; 54; 55; 56; 57; 58; 59; 60; 61; 62; 63; 64; 65; 66; 67; 68; 69; 70; 71; 72; 73; 74; 75; 76; 77; 78; 79; 80; 81; 82; 83; 84; 85; 86; 87; 88; 89; 90; 91; 92; 93; 94; 95; 96; 97; 98; 99; \n",
      "2021-03-13 01:26:52.070780 XOM.N  ric_i: 37  headline_slice_i: 18  headline_number: 100  not null: 100 2020-04-06 22:41:58.434000+00:00\n",
      "(391046, 6)\n",
      "\n",
      "is_this_ric_in_all: True   up_to_date_ric: 2020-04-01 07:03:19+00:00 got successfully news_get_df.shape: 100\n",
      "0; 1; 2; 3; 4; 5; 6; 7; 8; 9; 10; 11; 12; 13; 14; 15; 16; 17; 18; 19; 20; 21; 22; 23; 24; 25; 26; 27; 28; 29; 30; 31; 32; 33; 34; 35; 36; 37; 38; 39; 40; 41; 42; 43; 44; 45; 46; 47; 48; 49; 50; 51; 52; 53; 54; 55; 56; 57; 58; 59; 60; 61; 62; 63; 64; 65; 66; 67; 68; 69; 70; 71; 72; 73; 74; 75; 76; 77; 78; 79; 80; 81; 82; 83; 84; 85; 86; 87; 88; 89; 90; 91; 92; 93; 94; 95; 96; 97; 98; 99; \n",
      "2021-03-13 01:28:43.840219 XOM.N  ric_i: 37  headline_slice_i: 19  headline_number: 100  not null: 100 2020-04-01 07:03:19+00:00\n",
      "(391146, 6)\n",
      "\n",
      "is_this_ric_in_all: True   up_to_date_ric: 2020-03-25 07:00:00+00:00 got successfully news_get_df.shape: 100\n",
      "0; 1; 2; 3; 4; 5; 6; 7; 8; 9; 10; 11; 12; 13; 14; 15; 16; 17; 18; 19; 20; 21; 22; 23; 24; 25; 26; 27; 28; 29; 30; 31; 32; 33; 34; 35; 36; 37; 38; 39; 40; 41; 42; 43; 44; 45; 46; 47; 48; 49; 50; 51; 52; 53; 54; 55; 56; 57; 58; 59; 60; 61; 62; 63; 64; 65; 66; 67; 68; 69; 70; 71; 72; 73; 74; 75; 76; 77; 78; 79; 80; 81; 82; 83; 84; 85; 86; 87; 88; 89; 90; 91; 92; 93; 94; 95; 96; 97; 98; 99; \n",
      "2021-03-13 01:30:25.540785 XOM.N  ric_i: 37  headline_slice_i: 20  headline_number: 100  not null: 100 2020-03-25 07:00:00+00:00\n",
      "(391246, 6)\n",
      "\n",
      "is_this_ric_in_all: True   up_to_date_ric: 2020-03-18 20:56:50.019000+00:00 got successfully news_get_df.shape: 100\n",
      "0; 1; 2; 3; 4; 5; 6; 7; 8; 9; 10; 11; 12; 13; 14; 15; 16; 17; 18; 19; 20; 21; 22; 23; 24; 25; 26; 27; 28; 29; 30; 31; 32; 33; 34; 35; 36; 37; 38; 39; 40; 41; 42; 43; 44; 45; 46; 47; 48; 49; 50; 51; 52; 53; 54; 55; 56; 57; 58; 59; 60; 61; 62; 63; 64; 65; 66; 67; 68; 69; 70; 71; 72; 73; 74; 75; 76; 77; 78; 79; 80; 81; 82; 83; 84; 85; 86; 87; 88; 89; 90; 91; 92; 93; 94; 95; 96; 97; 98; 99; \n",
      "2021-03-13 01:32:12.963536 XOM.N  ric_i: 37  headline_slice_i: 21  headline_number: 100  not null: 100 2020-03-18 20:56:50.019000+00:00\n",
      "(391346, 6)\n",
      "\n",
      "is_this_ric_in_all: True   up_to_date_ric: 2020-03-12 16:12:53+00:00 got successfully news_get_df.shape: 100\n",
      "0; 1; 2; 3; 4; 5; 6; 7; 8; 9; 10; 11; 12; 13; 14; 15; 16; 17; 18; 19; 20; 21; 22; 23; 24; 25; 26; 27; 28; 29; 30; 31; 32; 33; 34; 35; 36; 37; 38; 39; 40; 41; 42; 43; 44; 45; 46; 47; 48; 49; 50; 51; 52; 53; 54; 55; 56; 57; 58; 59; 60; 61; 62; 63; 64; 65; 66; 67; 68; 69; 70; 71; 72; 73; 74; 75; 76; 77; 78; 79; 80; 81; 82; 83; 84; 85; 86; 87; 88; 89; 90; 91; 92; 93; 94; 95; 96; 97; 98; 99; \n",
      "2021-03-13 01:33:50.046741 XOM.N  ric_i: 37  headline_slice_i: 22  headline_number: 100  not null: 100 2020-03-12 16:12:53+00:00\n",
      "(391446, 6)\n",
      "\n",
      "is_this_ric_in_all: True   up_to_date_ric: 2020-03-06 15:56:32+00:00 got successfully news_get_df.shape: 100\n",
      "0; 1; 2; 3; 4; 5; 6; 7; 8; 9; 10; 11; 12; 13; 14; 15; 16; 17; 18; 19; 20; 21; 22; 23; 24; 25; 26; 27; 28; 29; 30; 31; 32; 33; 34; 35; 36; 37; 38; 39; 40; 41; 42; 43; 44; 45; 46; 47; 48; 49; 50; 51; 52; 53; 54; 55; 56; 57; 58; 59; 60; 61; 62; 63; 64; 65; 66; 67; 68; 69; 70; 71; 72; 73; 74; 75; 76; 77; 78; 79; 80; 81; 82; 83; 84; 85; 86; 87; 88; 89; 90; 91; 92; 93; 94; 95; 96; 97; 98; 99; \n",
      "2021-03-13 01:36:00.713648 XOM.N  ric_i: 37  headline_slice_i: 23  headline_number: 100  not null: 100 2020-03-06 15:56:32+00:00\n",
      "(391546, 6)\n",
      "\n",
      "is_this_ric_in_all: True   up_to_date_ric: 2020-03-03 15:35:20+00:00 got successfully news_get_df.shape: 100\n",
      "0; 1; 2; 3; 4; 5; 6; 7; 8; 9; 10; 11; 12; 13; 14; 15; 16; 17; 18; 19; 20; 21; 22; 23; 24; 25; 26; 27; 28; 29; 30; 31; 32; 33; 34; 35; 36; 37; 38; \n",
      "STORY IS OK: False   ric_now: XOM.N   ric_i: 37   story_i: 39\n",
      "'NoneType' object has no attribute 'replace'\n",
      "40; 41; 42; 43; 44; 45; 46; 47; 48; 49; 50; 51; 52; 53; 54; 55; 56; 57; 58; 59; 60; 61; 62; 63; 64; 65; 66; 67; 68; 69; 70; 71; 72; 73; 74; 75; 76; 77; 78; 79; 80; 81; 82; 83; 84; 85; 86; 87; 88; 89; 90; 91; 92; 93; 94; 95; 96; 97; 98; 99; \n",
      "2021-03-13 01:37:33.768885 XOM.N  ric_i: 37  headline_slice_i: 24  headline_number: 100  not null: 100 2020-03-03 15:35:20+00:00\n",
      "(391646, 6)\n",
      "\n",
      "is_this_ric_in_all: True   up_to_date_ric: 2020-02-25 06:52:06.635000+00:00 got successfully news_get_df.shape: 100\n",
      "0; 1; 2; 3; 4; 5; 6; 7; 8; 9; 10; 11; 12; 13; 14; 15; 16; 17; 18; 19; 20; 21; 22; 23; 24; 25; 26; 27; 28; 29; 30; 31; 32; 33; 34; 35; 36; 37; 38; 39; 40; 41; 42; 43; 44; 45; 46; 47; 48; 49; 50; 51; 52; 53; 54; 55; 56; 57; 58; 59; 60; 61; 62; 63; 64; 65; 66; 67; 68; 69; 70; 71; 72; 73; 74; 75; 76; 77; 78; 79; 80; 81; 82; 83; 84; 85; 86; 87; 88; 89; 90; 91; 92; 93; 94; 95; 96; 97; 98; 99; \n",
      "2021-03-13 01:39:14.421959 XOM.N  ric_i: 37  headline_slice_i: 25  headline_number: 100  not null: 100 2020-02-25 06:52:06.635000+00:00\n",
      "(391746, 6)\n",
      "\n",
      "is_this_ric_in_all: True   up_to_date_ric: 2020-02-14 21:51:18+00:00 got successfully news_get_df.shape: 100\n",
      "0; 1; 2; 3; 4; 5; 6; 7; 8; 9; 10; 11; 12; 13; 14; 15; 16; 17; 18; 19; 20; 21; 22; 23; 24; 25; 26; 27; 28; 29; 30; 31; 32; 33; 34; 35; 36; 37; 38; 39; 40; 41; 42; 43; 44; 45; 46; 47; 48; 49; 50; 51; 52; 53; 54; 55; 56; 57; 58; 59; 60; 61; 62; 63; 64; 65; 66; 67; 68; 69; 70; 71; 72; 73; 74; 75; 76; 77; 78; 79; 80; 81; 82; 83; 84; 85; 86; 87; 88; 89; 90; 91; 92; 93; 94; 95; 96; 97; 98; 99; \n",
      "2021-03-13 01:40:47.409972 XOM.N  ric_i: 37  headline_slice_i: 26  headline_number: 100  not null: 100 2020-02-14 21:51:18+00:00\n",
      "(391846, 6)\n",
      "\n",
      "is_this_ric_in_all: True   up_to_date_ric: 2020-02-06 20:54:52.760000+00:00 got successfully news_get_df.shape: 100\n",
      "0; 1; 2; 3; 4; 5; 6; 7; 8; 9; 10; 11; 12; 13; 14; 15; 16; 17; 18; 19; 20; 21; 22; 23; 24; 25; 26; 27; 28; 29; 30; 31; 32; 33; 34; 35; 36; 37; 38; 39; 40; 41; 42; 43; 44; 45; 46; 47; 48; 49; 50; 51; 52; 53; 54; 55; 56; 57; 58; 59; 60; 61; 62; 63; 64; 65; 66; 67; 68; 69; 70; 71; 72; 73; 74; 75; 76; 77; 78; 79; 80; 81; 82; 83; 84; 85; 86; 87; 88; 89; 90; 91; 92; 93; 94; 95; 96; 97; 98; 99; \n",
      "2021-03-13 01:42:36.119792 XOM.N  ric_i: 37  headline_slice_i: 27  headline_number: 100  not null: 100 2020-02-06 20:54:52.760000+00:00\n",
      "(391946, 6)\n",
      "\n",
      "is_this_ric_in_all: True   up_to_date_ric: 2020-01-31 21:21:44+00:00 got successfully news_get_df.shape: 100\n",
      "0; 1; 2; 3; 4; 5; 6; 7; 8; 9; 10; 11; 12; 13; 14; 15; 16; 17; 18; 19; 20; 21; 22; 23; 24; 25; 26; 27; 28; 29; 30; 31; 32; 33; 34; 35; 36; 37; 38; 39; 40; 41; 42; 43; 44; 45; 46; 47; 48; 49; 50; 51; 52; 53; 54; 55; 56; 57; 58; 59; 60; 61; 62; 63; 64; 65; 66; 67; 68; 69; 70; 71; 72; 73; 74; 75; 76; 77; 78; 79; 80; 81; 82; 83; 84; 85; 86; 87; 88; 89; 90; 91; 92; 93; 94; 95; 96; 97; 98; 99; \n",
      "2021-03-13 01:45:07.121154 XOM.N  ric_i: 37  headline_slice_i: 28  headline_number: 100  not null: 100 2020-01-31 21:21:44+00:00\n",
      "(392046, 6)\n",
      "\n",
      "is_this_ric_in_all: True   up_to_date_ric: 2020-01-31 12:00:00+00:00 got successfully news_get_df.shape: 100\n",
      "0; 1; 2; 3; 4; 5; 6; 7; 8; 9; 10; 11; 12; 13; 14; 15; 16; 17; 18; 19; 20; 21; 22; 23; 24; 25; 26; 27; 28; 29; 30; 31; 32; 33; 34; 35; 36; 37; 38; 39; 40; 41; 42; 43; 44; 45; 46; 47; 48; 49; 50; 51; 52; 53; 54; 55; 56; 57; 58; 59; 60; 61; 62; 63; 64; 65; 66; 67; 68; 69; 70; 71; 72; 73; 74; 75; 76; 77; 78; 79; 80; 81; 82; 83; 84; 85; 86; 87; 88; 89; 90; 91; 92; 93; 94; 95; 96; 97; 98; 99; \n",
      "2021-03-13 01:46:44.117080 XOM.N  ric_i: 37  headline_slice_i: 29  headline_number: 100  not null: 100 2020-01-31 12:00:00+00:00\n",
      "(392146, 6)\n",
      "\n",
      "is_this_ric_in_all: True   up_to_date_ric: 2020-01-23 16:30:00+00:00 got successfully news_get_df.shape: 100\n",
      "0; 1; 2; 3; 4; 5; 6; 7; 8; 9; 10; 11; 12; 13; 14; 15; 16; 17; 18; 19; 20; 21; 22; 23; 24; 25; 26; 27; 28; 29; 30; 31; 32; 33; 34; 35; 36; 37; 38; 39; 40; 41; 42; 43; 44; 45; 46; 47; 48; 49; 50; 51; 52; 53; 54; 55; 56; 57; 58; 59; 60; 61; 62; 63; 64; 65; 66; 67; 68; 69; 70; 71; 72; 73; 74; 75; 76; 77; 78; 79; 80; 81; 82; 83; 84; 85; 86; 87; 88; 89; 90; 91; 92; 93; 94; 95; 96; 97; 98; 99; \n",
      "2021-03-13 01:48:20.540163 XOM.N  ric_i: 37  headline_slice_i: 30  headline_number: 100  not null: 100 2020-01-23 16:30:00+00:00\n",
      "(392246, 6)\n",
      "\n",
      "is_this_ric_in_all: True   up_to_date_ric: 2020-01-12 07:18:31+00:00 got successfully news_get_df.shape: 100\n",
      "0; 1; 2; 3; 4; 5; 6; 7; 8; 9; 10; 11; 12; 13; 14; 15; 16; 17; 18; 19; 20; 21; 22; 23; 24; 25; 26; 27; 28; 29; 30; 31; 32; 33; 34; 35; 36; 37; 38; 39; 40; 41; 42; 43; 44; 45; 46; 47; 48; "
     ]
    },
    {
     "name": "stderr",
     "output_type": "stream",
     "text": [
      "2021-03-13 01:49:18,991 P[3528] [MainThread 10712] Backend error. 404 Not Found\n",
      "2021-03-13 01:49:18,992 P[3528] [MainThread 10712] HTTP request failed: EikonError-Backend error. 404 Not Found\n"
     ]
    },
    {
     "name": "stdout",
     "output_type": "stream",
     "text": [
      "\n",
      "STORY IS OK: False   ric_now: XOM.N   ric_i: 37   story_i: 49\n",
      "'NoneType' object has no attribute 'replace'\n",
      "50; 51; 52; 53; 54; 55; 56; 57; 58; 59; 60; 61; 62; 63; 64; 65; 66; 67; 68; 69; 70; 71; 72; 73; 74; 75; 76; 77; 78; 79; 80; 81; 82; 83; 84; 85; 86; 87; 88; 89; 90; 91; 92; 93; 94; 95; 96; 97; 98; 99; \n",
      "2021-03-13 01:50:08.637749 XOM.N  ric_i: 37  headline_slice_i: 31  headline_number: 100  not null: 100 2020-01-12 07:18:31+00:00\n",
      "(392346, 6)\n",
      "\n",
      "is_this_ric_in_all: True   up_to_date_ric: 2020-01-03 21:13:22.050000+00:00 got successfully news_get_df.shape: 100\n",
      "0; 1; 2; 3; 4; 5; 6; 7; 8; 9; 10; 11; 12; 13; 14; 15; 16; 17; 18; 19; 20; 21; 22; 23; 24; 25; 26; 27; 28; 29; 30; 31; 32; 33; 34; 35; 36; 37; 38; 39; 40; 41; 42; 43; 44; 45; 46; 47; 48; 49; 50; 51; 52; 53; 54; 55; 56; 57; 58; 59; 60; 61; 62; 63; 64; 65; 66; 67; 68; 69; 70; 71; 72; 73; 74; 75; 76; 77; 78; 79; 80; 81; 82; 83; 84; 85; 86; 87; 88; 89; 90; 91; 92; 93; 94; 95; 96; 97; 98; 99; \n",
      "2021-03-13 01:51:45.899411 XOM.N  ric_i: 37  headline_slice_i: 32  headline_number: 100  not null: 100 2020-01-03 21:13:22.050000+00:00\n",
      "(392446, 6)\n",
      "\n",
      "is_this_ric_in_all: True   up_to_date_ric: 2019-12-23 22:59:58.230000+00:00 got successfully news_get_df.shape: 86\n",
      "0; 1; 2; 3; 4; 5; 6; 7; 8; 9; 10; 11; 12; 13; 14; 15; 16; 17; 18; 19; 20; 21; 22; 23; 24; 25; 26; 27; 28; 29; 30; 31; 32; 33; 34; 35; 36; 37; 38; 39; 40; 41; 42; 43; 44; 45; 46; 47; 48; 49; 50; 51; 52; 53; 54; 55; 56; 57; 58; 59; 60; 61; 62; 63; 64; 65; 66; 67; 68; 69; 70; 71; 72; 73; 74; 75; 76; 77; 78; 79; 80; 81; 82; 83; 84; 85; \n",
      "2021-03-13 01:53:10.803471 XOM.N  ric_i: 37  headline_slice_i: 33  headline_number: 86  not null: 86 2019-12-23 22:59:58.230000+00:00\n",
      "(392532, 6)\n",
      "C:/DAN/t_systems/trade_project/logger/quasi_logger_2021-03-13_v5.csv\n",
      "38 CSCO.OQ\n",
      "\n",
      "is_this_ric_in_all: False   up_to_date_ric: None got successfully news_get_df.shape: 100\n",
      "0; 1; 2; 3; 4; 5; 6; 7; 8; 9; 10; 11; 12; 13; 14; 15; 16; 17; 18; 19; 20; 21; 22; 23; 24; 25; 26; 27; 28; 29; 30; 31; 32; 33; 34; 35; 36; 37; 38; 39; 40; 41; 42; 43; 44; 45; 46; 47; 48; 49; 50; 51; 52; 53; 54; 55; 56; 57; 58; 59; 60; 61; 62; 63; 64; 65; 66; 67; 68; 69; 70; 71; 72; 73; 74; 75; 76; 77; 78; 79; 80; 81; 82; 83; 84; 85; 86; 87; 88; 89; 90; 91; 92; 93; 94; 95; 96; 97; 98; 99; \n",
      "2021-03-13 01:54:45.880723 CSCO.OQ  ric_i: 38  headline_slice_i: 1  headline_number: 100  not null: 100 None\n",
      "(392632, 6)\n",
      "\n",
      "is_this_ric_in_all: True   up_to_date_ric: 2021-03-03 11:09:19+00:00 got successfully news_get_df.shape: 100\n",
      "0; 1; 2; 3; 4; 5; 6; 7; 8; 9; 10; 11; 12; 13; 14; 15; 16; 17; 18; 19; 20; 21; 22; 23; 24; 25; 26; 27; 28; 29; 30; 31; 32; 33; 34; 35; 36; 37; 38; 39; 40; 41; 42; 43; 44; 45; 46; 47; 48; 49; 50; 51; 52; 53; 54; 55; 56; 57; 58; 59; 60; 61; 62; 63; 64; 65; 66; 67; 68; 69; 70; 71; 72; 73; 74; 75; 76; 77; 78; 79; 80; 81; 82; 83; 84; 85; 86; 87; 88; 89; 90; 91; 92; 93; 94; 95; 96; 97; 98; 99; \n",
      "2021-03-13 01:56:10.015150 CSCO.OQ  ric_i: 38  headline_slice_i: 2  headline_number: 100  not null: 100 2021-03-03 11:09:19+00:00\n",
      "(392732, 6)\n",
      "\n",
      "is_this_ric_in_all: True   up_to_date_ric: 2021-02-23 00:39:48+00:00 got successfully news_get_df.shape: 100\n",
      "0; 1; 2; 3; 4; 5; 6; 7; 8; 9; 10; 11; 12; 13; 14; 15; 16; 17; 18; 19; 20; 21; 22; 23; 24; 25; 26; 27; 28; 29; 30; 31; 32; 33; 34; 35; 36; 37; 38; 39; 40; 41; 42; 43; 44; 45; 46; 47; 48; 49; 50; 51; 52; 53; 54; 55; 56; 57; 58; 59; 60; 61; 62; 63; 64; 65; 66; 67; 68; 69; 70; 71; 72; 73; 74; 75; 76; 77; 78; 79; 80; 81; 82; 83; 84; 85; 86; 87; 88; 89; 90; 91; 92; 93; 94; 95; 96; 97; 98; 99; \n",
      "2021-03-13 01:57:48.659582 CSCO.OQ  ric_i: 38  headline_slice_i: 3  headline_number: 100  not null: 100 2021-02-23 00:39:48+00:00\n",
      "(392832, 6)\n",
      "\n",
      "is_this_ric_in_all: True   up_to_date_ric: 2021-02-11 17:36:12.129000+00:00 got successfully news_get_df.shape: 100\n",
      "0; 1; 2; 3; 4; 5; 6; 7; 8; 9; 10; 11; 12; 13; 14; 15; 16; 17; 18; 19; 20; 21; 22; 23; 24; 25; 26; 27; 28; 29; 30; 31; 32; 33; 34; 35; 36; 37; 38; 39; 40; 41; 42; 43; 44; 45; 46; 47; 48; 49; 50; 51; 52; 53; 54; 55; 56; 57; 58; 59; 60; 61; 62; 63; 64; 65; 66; 67; 68; 69; 70; 71; 72; 73; 74; 75; 76; 77; 78; 79; 80; 81; 82; 83; 84; 85; 86; 87; 88; 89; 90; 91; 92; 93; 94; 95; 96; 97; 98; 99; \n",
      "2021-03-13 01:59:59.190323 CSCO.OQ  ric_i: 38  headline_slice_i: 4  headline_number: 100  not null: 100 2021-02-11 17:36:12.129000+00:00\n",
      "(392932, 6)\n",
      "\n",
      "is_this_ric_in_all: True   up_to_date_ric: 2021-02-09 07:50:00.330000+00:00 got successfully news_get_df.shape: 100\n",
      "0; 1; 2; 3; 4; 5; 6; 7; 8; 9; 10; 11; 12; 13; 14; 15; 16; 17; 18; 19; 20; 21; 22; 23; 24; 25; 26; 27; 28; 29; 30; 31; 32; 33; 34; 35; 36; 37; 38; 39; 40; 41; 42; 43; 44; 45; 46; 47; 48; 49; 50; 51; 52; 53; 54; 55; 56; 57; 58; 59; 60; 61; 62; 63; 64; 65; 66; 67; 68; 69; 70; 71; 72; 73; 74; 75; 76; 77; 78; 79; 80; 81; 82; 83; 84; 85; 86; 87; 88; 89; 90; 91; 92; 93; 94; 95; 96; 97; 98; 99; \n",
      "2021-03-13 02:01:36.864365 CSCO.OQ  ric_i: 38  headline_slice_i: 5  headline_number: 100  not null: 100 2021-02-09 07:50:00.330000+00:00\n",
      "(393032, 6)\n",
      "\n",
      "is_this_ric_in_all: True   up_to_date_ric: 2021-01-30 01:32:55.617000+00:00 got successfully news_get_df.shape: 100\n",
      "0; 1; 2; 3; 4; 5; 6; 7; 8; 9; 10; 11; 12; 13; 14; 15; 16; 17; 18; 19; 20; 21; 22; 23; 24; 25; 26; 27; 28; 29; 30; 31; 32; 33; 34; 35; 36; 37; 38; 39; 40; 41; 42; 43; 44; 45; 46; 47; 48; 49; 50; 51; 52; 53; 54; 55; 56; 57; 58; 59; 60; 61; 62; 63; 64; 65; 66; 67; 68; 69; 70; 71; 72; 73; 74; 75; 76; 77; 78; 79; 80; 81; 82; 83; 84; 85; 86; 87; 88; 89; 90; 91; 92; 93; 94; 95; 96; 97; 98; 99; \n",
      "2021-03-13 02:03:08.053570 CSCO.OQ  ric_i: 38  headline_slice_i: 6  headline_number: 100  not null: 100 2021-01-30 01:32:55.617000+00:00\n",
      "(393132, 6)\n",
      "\n",
      "is_this_ric_in_all: True   up_to_date_ric: 2021-01-25 22:04:36.735000+00:00 got successfully news_get_df.shape: 100\n",
      "0; 1; 2; 3; 4; 5; 6; 7; 8; 9; 10; 11; 12; 13; 14; 15; 16; 17; 18; 19; 20; 21; 22; 23; 24; 25; 26; 27; 28; 29; 30; 31; 32; 33; 34; 35; 36; 37; 38; 39; 40; 41; 42; 43; 44; 45; 46; 47; 48; 49; 50; 51; 52; 53; 54; 55; 56; 57; 58; 59; 60; 61; 62; 63; 64; 65; 66; 67; 68; 69; 70; 71; 72; 73; 74; 75; 76; 77; 78; 79; 80; 81; 82; 83; 84; 85; 86; 87; 88; 89; 90; 91; 92; 93; 94; 95; 96; 97; 98; 99; \n",
      "2021-03-13 02:04:46.224224 CSCO.OQ  ric_i: 38  headline_slice_i: 7  headline_number: 100  not null: 100 2021-01-25 22:04:36.735000+00:00\n",
      "(393232, 6)\n",
      "\n",
      "is_this_ric_in_all: True   up_to_date_ric: 2021-01-17 23:23:25.557000+00:00 got successfully news_get_df.shape: 100\n",
      "0; 1; 2; 3; 4; 5; 6; 7; 8; 9; 10; 11; 12; 13; 14; 15; 16; 17; 18; 19; 20; 21; 22; 23; 24; 25; 26; 27; 28; 29; 30; 31; 32; 33; 34; 35; 36; 37; 38; 39; 40; 41; 42; 43; 44; 45; 46; 47; 48; 49; 50; 51; 52; 53; 54; 55; 56; 57; 58; 59; 60; 61; 62; 63; 64; 65; 66; 67; 68; 69; 70; 71; 72; 73; 74; 75; 76; 77; 78; 79; 80; 81; 82; 83; 84; 85; 86; 87; 88; 89; 90; 91; 92; 93; 94; 95; 96; 97; 98; 99; \n",
      "2021-03-13 02:06:34.875303 CSCO.OQ  ric_i: 38  headline_slice_i: 8  headline_number: 100  not null: 100 2021-01-17 23:23:25.557000+00:00\n",
      "(393332, 6)\n",
      "\n",
      "is_this_ric_in_all: True   up_to_date_ric: 2021-01-10 22:17:45.668000+00:00 got successfully news_get_df.shape: 100\n",
      "0; 1; 2; 3; 4; 5; 6; 7; 8; 9; 10; 11; 12; 13; 14; 15; 16; 17; 18; 19; 20; 21; 22; 23; 24; 25; 26; 27; 28; 29; 30; 31; 32; 33; 34; 35; 36; 37; 38; 39; 40; 41; 42; 43; 44; 45; 46; 47; 48; 49; 50; 51; 52; 53; 54; 55; 56; 57; 58; 59; 60; 61; 62; 63; 64; 65; 66; 67; 68; 69; 70; 71; 72; 73; 74; 75; 76; 77; 78; 79; 80; 81; 82; 83; 84; 85; 86; 87; 88; 89; 90; 91; 92; 93; 94; 95; 96; 97; 98; 99; \n",
      "2021-03-13 02:08:26.835387 CSCO.OQ  ric_i: 38  headline_slice_i: 9  headline_number: 100  not null: 100 2021-01-10 22:17:45.668000+00:00\n",
      "(393432, 6)\n",
      "\n",
      "is_this_ric_in_all: True   up_to_date_ric: 2020-12-29 17:26:09.692000+00:00 got successfully news_get_df.shape: 100\n",
      "0; 1; 2; 3; 4; 5; 6; 7; 8; 9; 10; 11; 12; 13; 14; 15; 16; 17; 18; 19; 20; 21; 22; 23; 24; 25; 26; 27; 28; 29; 30; 31; 32; 33; 34; 35; 36; 37; 38; 39; 40; 41; 42; 43; 44; 45; 46; 47; 48; 49; 50; 51; 52; 53; 54; 55; 56; 57; 58; 59; 60; 61; 62; 63; 64; 65; 66; 67; 68; 69; 70; 71; 72; 73; 74; 75; 76; 77; 78; 79; 80; 81; 82; 83; 84; 85; 86; 87; 88; 89; 90; 91; 92; 93; 94; 95; 96; 97; 98; 99; \n",
      "2021-03-13 02:10:02.414353 CSCO.OQ  ric_i: 38  headline_slice_i: 10  headline_number: 100  not null: 100 2020-12-29 17:26:09.692000+00:00\n",
      "(393532, 6)\n",
      "\n",
      "is_this_ric_in_all: True   up_to_date_ric: 2020-12-18 09:55:42+00:00 got successfully news_get_df.shape: 100\n",
      "0; 1; 2; 3; 4; 5; 6; 7; 8; 9; 10; 11; 12; 13; 14; 15; 16; 17; 18; 19; 20; 21; 22; 23; 24; 25; 26; 27; 28; 29; 30; 31; 32; 33; 34; 35; 36; 37; 38; 39; 40; 41; 42; 43; 44; 45; 46; 47; 48; 49; 50; 51; 52; 53; 54; 55; 56; 57; 58; 59; 60; 61; 62; 63; 64; 65; 66; 67; 68; 69; 70; 71; 72; 73; 74; 75; 76; 77; 78; 79; 80; 81; 82; 83; 84; 85; 86; 87; 88; 89; 90; 91; 92; 93; 94; 95; 96; 97; 98; 99; \n",
      "2021-03-13 02:11:22.372330 CSCO.OQ  ric_i: 38  headline_slice_i: 11  headline_number: 100  not null: 100 2020-12-18 09:55:42+00:00\n",
      "(393632, 6)\n",
      "\n",
      "is_this_ric_in_all: True   up_to_date_ric: 2020-12-09 22:21:30.503000+00:00 got successfully news_get_df.shape: 100\n",
      "0; 1; 2; 3; 4; 5; 6; 7; 8; 9; 10; 11; 12; 13; 14; 15; 16; 17; 18; 19; 20; 21; 22; 23; 24; 25; 26; 27; 28; 29; 30; 31; 32; 33; 34; 35; 36; 37; 38; 39; 40; 41; 42; 43; 44; 45; 46; 47; 48; 49; 50; 51; 52; 53; 54; 55; 56; 57; 58; 59; 60; 61; 62; 63; 64; 65; 66; 67; 68; 69; 70; 71; 72; 73; 74; 75; 76; 77; 78; 79; 80; 81; 82; 83; 84; 85; 86; 87; 88; 89; 90; 91; 92; 93; 94; 95; 96; 97; 98; 99; \n",
      "2021-03-13 02:12:56.293797 CSCO.OQ  ric_i: 38  headline_slice_i: 12  headline_number: 100  not null: 100 2020-12-09 22:21:30.503000+00:00\n",
      "(393732, 6)\n",
      "\n",
      "is_this_ric_in_all: True   up_to_date_ric: 2020-12-01 12:45:57+00:00 got successfully news_get_df.shape: 100\n",
      "0; 1; 2; 3; 4; 5; 6; 7; 8; 9; 10; 11; 12; 13; 14; 15; 16; 17; 18; 19; 20; 21; 22; 23; 24; 25; 26; 27; 28; 29; 30; 31; 32; 33; 34; 35; 36; 37; 38; 39; 40; 41; 42; 43; 44; 45; 46; 47; 48; 49; 50; 51; 52; 53; 54; 55; 56; 57; 58; 59; 60; 61; 62; 63; 64; 65; 66; 67; 68; 69; 70; 71; 72; 73; 74; 75; 76; 77; 78; 79; 80; 81; 82; 83; 84; 85; 86; 87; 88; 89; 90; 91; 92; 93; 94; 95; 96; 97; 98; 99; \n",
      "2021-03-13 02:14:26.007542 CSCO.OQ  ric_i: 38  headline_slice_i: 13  headline_number: 100  not null: 100 2020-12-01 12:45:57+00:00\n",
      "(393832, 6)\n",
      "\n",
      "is_this_ric_in_all: True   up_to_date_ric: 2020-11-19 13:00:01.083000+00:00 got successfully news_get_df.shape: 100\n",
      "0; 1; 2; 3; 4; 5; 6; 7; 8; 9; 10; 11; 12; 13; 14; 15; 16; 17; 18; 19; 20; 21; 22; 23; 24; 25; 26; 27; 28; 29; 30; 31; 32; 33; 34; 35; 36; 37; 38; 39; 40; 41; 42; 43; 44; 45; 46; 47; 48; 49; 50; 51; 52; 53; 54; 55; 56; 57; 58; 59; 60; 61; 62; 63; 64; 65; 66; 67; 68; 69; 70; 71; 72; 73; 74; 75; 76; 77; 78; 79; 80; 81; 82; 83; 84; 85; 86; 87; 88; 89; 90; 91; 92; 93; 94; 95; 96; 97; 98; 99; \n",
      "2021-03-13 02:16:00.141363 CSCO.OQ  ric_i: 38  headline_slice_i: 14  headline_number: 100  not null: 100 2020-11-19 13:00:01.083000+00:00\n",
      "(393932, 6)\n",
      "\n",
      "is_this_ric_in_all: True   up_to_date_ric: 2020-11-13 13:54:58+00:00 got successfully news_get_df.shape: 100\n",
      "0; 1; 2; 3; 4; 5; 6; 7; 8; 9; 10; 11; 12; 13; 14; 15; 16; 17; 18; 19; 20; 21; 22; 23; 24; 25; 26; 27; 28; 29; 30; 31; 32; 33; 34; 35; 36; 37; 38; 39; 40; 41; 42; 43; 44; 45; 46; 47; 48; 49; 50; 51; 52; 53; 54; 55; 56; 57; 58; 59; 60; 61; 62; 63; 64; 65; 66; 67; 68; 69; 70; 71; 72; 73; 74; 75; 76; 77; 78; 79; 80; 81; 82; 83; 84; 85; 86; 87; 88; 89; 90; 91; 92; 93; 94; 95; 96; 97; 98; 99; \n",
      "2021-03-13 02:18:01.606502 CSCO.OQ  ric_i: 38  headline_slice_i: 15  headline_number: 100  not null: 100 2020-11-13 13:54:58+00:00\n",
      "(394032, 6)\n",
      "\n",
      "is_this_ric_in_all: True   up_to_date_ric: 2020-11-09 20:00:59+00:00 got successfully news_get_df.shape: 100\n",
      "0; 1; 2; 3; 4; 5; 6; 7; 8; 9; 10; 11; 12; 13; 14; 15; 16; 17; 18; 19; 20; 21; 22; 23; 24; 25; 26; 27; 28; 29; 30; 31; 32; 33; 34; 35; 36; 37; 38; 39; 40; 41; 42; 43; 44; 45; 46; 47; 48; 49; 50; 51; 52; 53; 54; 55; 56; 57; 58; 59; 60; 61; 62; 63; 64; 65; 66; 67; 68; 69; 70; 71; 72; 73; 74; 75; 76; 77; 78; 79; 80; 81; 82; 83; 84; 85; 86; 87; 88; 89; 90; 91; 92; 93; 94; 95; 96; 97; 98; 99; \n",
      "2021-03-13 02:19:26.209541 CSCO.OQ  ric_i: 38  headline_slice_i: 16  headline_number: 100  not null: 100 2020-11-09 20:00:59+00:00\n",
      "(394132, 6)\n",
      "\n",
      "is_this_ric_in_all: True   up_to_date_ric: 2020-10-29 06:16:51.231000+00:00 got successfully news_get_df.shape: 100\n",
      "0; 1; 2; 3; 4; 5; 6; 7; 8; 9; 10; 11; 12; 13; 14; 15; 16; 17; 18; 19; 20; 21; 22; 23; 24; 25; 26; 27; 28; 29; 30; 31; 32; 33; 34; 35; 36; 37; 38; 39; 40; 41; 42; 43; 44; 45; 46; 47; 48; 49; 50; 51; 52; 53; 54; 55; 56; 57; 58; 59; 60; 61; 62; 63; 64; 65; 66; 67; 68; 69; 70; 71; 72; 73; 74; 75; 76; 77; 78; 79; 80; 81; 82; 83; 84; 85; 86; 87; 88; 89; 90; 91; 92; 93; 94; 95; 96; 97; 98; 99; \n",
      "2021-03-13 02:21:00.910035 CSCO.OQ  ric_i: 38  headline_slice_i: 17  headline_number: 100  not null: 100 2020-10-29 06:16:51.231000+00:00\n",
      "(394232, 6)\n",
      "\n",
      "is_this_ric_in_all: True   up_to_date_ric: 2020-10-19 04:14:36.849000+00:00 got successfully news_get_df.shape: 100\n",
      "0; 1; 2; 3; 4; 5; 6; 7; 8; 9; 10; 11; 12; 13; 14; 15; 16; 17; 18; 19; 20; 21; 22; 23; 24; 25; 26; 27; 28; 29; 30; 31; 32; 33; 34; 35; 36; 37; 38; 39; 40; 41; 42; 43; 44; 45; 46; 47; 48; 49; 50; 51; 52; 53; 54; 55; 56; 57; 58; 59; 60; 61; 62; 63; 64; 65; 66; 67; 68; 69; 70; 71; 72; 73; 74; 75; 76; 77; 78; 79; 80; 81; 82; 83; 84; 85; 86; 87; 88; 89; 90; 91; 92; 93; 94; 95; 96; 97; 98; 99; \n",
      "2021-03-13 02:22:35.764501 CSCO.OQ  ric_i: 38  headline_slice_i: 18  headline_number: 100  not null: 100 2020-10-19 04:14:36.849000+00:00\n",
      "(394332, 6)\n",
      "\n",
      "is_this_ric_in_all: True   up_to_date_ric: 2020-10-06 16:25:57+00:00 got successfully news_get_df.shape: 100\n",
      "0; 1; 2; 3; 4; 5; 6; 7; 8; 9; 10; 11; 12; 13; 14; 15; 16; 17; 18; 19; 20; 21; 22; 23; 24; 25; 26; 27; 28; 29; 30; 31; 32; 33; 34; 35; 36; 37; 38; 39; 40; 41; 42; 43; 44; 45; 46; 47; 48; 49; 50; 51; 52; 53; 54; 55; 56; 57; 58; 59; 60; 61; 62; 63; 64; 65; 66; 67; 68; 69; 70; 71; 72; 73; 74; 75; 76; 77; 78; 79; 80; 81; 82; 83; 84; 85; 86; 87; 88; 89; 90; 91; 92; 93; 94; 95; 96; 97; 98; 99; \n",
      "2021-03-13 02:24:03.468788 CSCO.OQ  ric_i: 38  headline_slice_i: 19  headline_number: 100  not null: 100 2020-10-06 16:25:57+00:00\n",
      "(394432, 6)\n",
      "\n",
      "is_this_ric_in_all: True   up_to_date_ric: 2020-09-24 11:15:00.347000+00:00 got successfully news_get_df.shape: 100\n",
      "0; 1; 2; 3; 4; 5; 6; 7; 8; 9; 10; 11; 12; 13; 14; 15; 16; 17; 18; 19; 20; 21; 22; 23; 24; 25; 26; 27; 28; 29; 30; 31; 32; 33; 34; 35; 36; 37; 38; 39; 40; 41; 42; 43; 44; 45; 46; 47; 48; 49; 50; 51; 52; 53; 54; 55; 56; 57; 58; 59; 60; 61; 62; 63; 64; 65; 66; 67; 68; 69; 70; 71; 72; 73; 74; 75; 76; 77; 78; 79; 80; 81; 82; 83; 84; 85; 86; 87; 88; 89; 90; 91; 92; 93; 94; 95; 96; 97; 98; 99; \n",
      "2021-03-13 02:25:38.397977 CSCO.OQ  ric_i: 38  headline_slice_i: 20  headline_number: 100  not null: 100 2020-09-24 11:15:00.347000+00:00\n",
      "(394532, 6)\n",
      "\n",
      "is_this_ric_in_all: True   up_to_date_ric: 2020-09-11 06:30:08.548000+00:00 got successfully news_get_df.shape: 100\n",
      "0; 1; 2; 3; 4; 5; 6; 7; 8; 9; 10; 11; 12; 13; 14; 15; 16; 17; 18; 19; 20; 21; 22; 23; 24; 25; 26; 27; 28; 29; 30; 31; 32; 33; 34; 35; 36; 37; 38; 39; 40; 41; 42; 43; 44; 45; 46; 47; 48; 49; 50; 51; 52; 53; 54; 55; 56; 57; 58; 59; 60; 61; 62; 63; 64; 65; 66; 67; 68; 69; 70; 71; 72; 73; 74; 75; 76; 77; 78; 79; 80; 81; 82; 83; 84; 85; 86; 87; 88; 89; 90; 91; 92; 93; 94; 95; 96; 97; 98; 99; \n",
      "2021-03-13 02:27:01.435381 CSCO.OQ  ric_i: 38  headline_slice_i: 21  headline_number: 100  not null: 100 2020-09-11 06:30:08.548000+00:00\n",
      "(394632, 6)\n",
      "\n",
      "is_this_ric_in_all: True   up_to_date_ric: 2020-08-28 02:38:56.447000+00:00 got successfully news_get_df.shape: 100\n",
      "0; 1; 2; 3; 4; 5; 6; 7; 8; 9; 10; 11; 12; 13; 14; 15; 16; 17; 18; 19; 20; 21; 22; 23; 24; 25; 26; 27; 28; 29; 30; 31; 32; 33; 34; 35; 36; 37; 38; 39; 40; 41; 42; 43; 44; 45; 46; 47; 48; 49; 50; 51; 52; 53; 54; 55; 56; 57; 58; 59; 60; 61; 62; 63; 64; 65; 66; 67; 68; 69; 70; 71; 72; 73; 74; 75; 76; 77; 78; 79; 80; 81; 82; 83; 84; 85; 86; 87; 88; 89; 90; 91; 92; 93; 94; 95; 96; 97; 98; 99; \n",
      "2021-03-13 02:28:24.097114 CSCO.OQ  ric_i: 38  headline_slice_i: 22  headline_number: 100  not null: 100 2020-08-28 02:38:56.447000+00:00\n",
      "(394732, 6)\n",
      "\n",
      "is_this_ric_in_all: True   up_to_date_ric: 2020-08-17 08:00:00.621000+00:00 got successfully news_get_df.shape: 100\n",
      "0; 1; 2; 3; 4; 5; 6; 7; 8; 9; 10; 11; 12; 13; 14; 15; 16; 17; 18; 19; 20; 21; 22; 23; 24; 25; 26; 27; 28; 29; 30; 31; 32; 33; 34; 35; 36; 37; 38; 39; 40; 41; 42; 43; 44; 45; 46; 47; 48; 49; 50; 51; 52; 53; 54; 55; 56; 57; 58; 59; 60; 61; 62; 63; 64; 65; 66; 67; 68; 69; 70; 71; 72; 73; 74; 75; 76; 77; 78; 79; 80; 81; 82; 83; 84; 85; 86; 87; 88; 89; 90; 91; 92; 93; 94; 95; 96; 97; 98; 99; \n",
      "2021-03-13 02:30:11.612103 CSCO.OQ  ric_i: 38  headline_slice_i: 23  headline_number: 100  not null: 100 2020-08-17 08:00:00.621000+00:00\n",
      "(394832, 6)\n",
      "\n",
      "is_this_ric_in_all: True   up_to_date_ric: 2020-08-12 20:46:52+00:00 got successfully news_get_df.shape: 100\n",
      "0; 1; 2; 3; 4; 5; 6; 7; 8; 9; 10; 11; 12; 13; 14; 15; 16; 17; 18; 19; 20; 21; 22; 23; 24; 25; 26; 27; 28; 29; 30; 31; 32; 33; 34; 35; 36; 37; 38; 39; 40; 41; 42; 43; 44; 45; 46; 47; 48; 49; 50; 51; 52; 53; 54; 55; 56; 57; 58; 59; 60; 61; 62; 63; 64; 65; 66; 67; 68; 69; 70; 71; 72; 73; 74; 75; 76; 77; 78; 79; 80; 81; 82; 83; 84; 85; 86; 87; 88; 89; 90; 91; 92; 93; 94; 95; 96; 97; 98; 99; \n",
      "2021-03-13 02:32:08.723364 CSCO.OQ  ric_i: 38  headline_slice_i: 24  headline_number: 100  not null: 100 2020-08-12 20:46:52+00:00\n",
      "(394932, 6)\n",
      "\n",
      "is_this_ric_in_all: True   up_to_date_ric: 2020-08-03 23:17:15.221000+00:00 got successfully news_get_df.shape: 100\n",
      "0; 1; 2; 3; 4; 5; 6; 7; 8; 9; 10; 11; 12; 13; 14; 15; 16; 17; 18; 19; 20; 21; 22; 23; 24; 25; 26; 27; 28; 29; 30; 31; 32; 33; 34; 35; 36; 37; 38; 39; 40; 41; 42; 43; 44; 45; 46; 47; 48; 49; 50; 51; 52; 53; 54; 55; 56; 57; 58; 59; 60; 61; 62; 63; 64; 65; 66; 67; 68; 69; 70; 71; 72; 73; 74; 75; 76; 77; 78; 79; 80; 81; 82; 83; 84; 85; 86; 87; 88; 89; 90; 91; 92; 93; 94; 95; 96; 97; 98; 99; \n",
      "2021-03-13 02:33:37.462102 CSCO.OQ  ric_i: 38  headline_slice_i: 25  headline_number: 100  not null: 100 2020-08-03 23:17:15.221000+00:00\n",
      "(395032, 6)\n",
      "\n",
      "is_this_ric_in_all: True   up_to_date_ric: 2020-07-17 20:09:08+00:00 got successfully news_get_df.shape: 100\n",
      "0; 1; 2; 3; 4; 5; 6; 7; 8; 9; 10; 11; 12; 13; 14; 15; 16; 17; 18; 19; 20; 21; 22; 23; 24; 25; 26; 27; 28; 29; 30; 31; 32; 33; 34; 35; 36; 37; 38; 39; 40; 41; 42; 43; 44; 45; 46; 47; 48; 49; 50; 51; 52; 53; 54; 55; 56; 57; 58; 59; 60; 61; 62; 63; 64; 65; 66; 67; 68; 69; 70; 71; 72; 73; 74; 75; 76; 77; 78; 79; 80; 81; 82; 83; 84; 85; 86; 87; 88; 89; 90; 91; 92; 93; 94; 95; 96; 97; 98; 99; \n",
      "2021-03-13 02:35:01.990145 CSCO.OQ  ric_i: 38  headline_slice_i: 26  headline_number: 100  not null: 100 2020-07-17 20:09:08+00:00\n",
      "(395132, 6)\n",
      "\n",
      "is_this_ric_in_all: True   up_to_date_ric: 2020-07-08 23:23:44.192000+00:00 got successfully news_get_df.shape: 100\n",
      "0; 1; 2; 3; 4; 5; 6; 7; 8; 9; 10; 11; 12; 13; 14; 15; 16; 17; 18; 19; 20; 21; 22; 23; 24; 25; 26; 27; 28; 29; 30; 31; 32; 33; 34; 35; 36; 37; 38; 39; 40; 41; 42; 43; 44; 45; 46; 47; 48; 49; 50; 51; 52; 53; 54; 55; 56; 57; 58; 59; 60; 61; 62; 63; 64; 65; 66; 67; 68; 69; 70; 71; 72; 73; 74; 75; 76; 77; 78; 79; 80; 81; 82; 83; 84; 85; 86; 87; 88; 89; 90; 91; 92; 93; 94; 95; 96; 97; 98; 99; \n",
      "2021-03-13 02:36:24.445681 CSCO.OQ  ric_i: 38  headline_slice_i: 27  headline_number: 100  not null: 100 2020-07-08 23:23:44.192000+00:00\n",
      "(395232, 6)\n",
      "\n",
      "is_this_ric_in_all: True   up_to_date_ric: 2020-06-25 16:36:35.588000+00:00 got successfully news_get_df.shape: 100\n",
      "0; 1; 2; 3; 4; 5; 6; 7; 8; 9; 10; 11; 12; 13; 14; 15; 16; 17; 18; 19; 20; 21; 22; 23; 24; 25; 26; 27; 28; 29; 30; 31; 32; 33; 34; 35; 36; 37; 38; 39; 40; 41; 42; 43; 44; 45; 46; 47; 48; 49; 50; 51; 52; 53; 54; 55; 56; 57; 58; 59; 60; 61; 62; 63; 64; 65; 66; 67; 68; 69; 70; 71; 72; 73; 74; 75; 76; 77; 78; 79; 80; 81; 82; 83; 84; 85; 86; 87; 88; 89; 90; 91; 92; 93; 94; 95; 96; 97; 98; 99; \n",
      "2021-03-13 02:37:43.983409 CSCO.OQ  ric_i: 38  headline_slice_i: 28  headline_number: 100  not null: 100 2020-06-25 16:36:35.588000+00:00\n",
      "(395332, 6)\n",
      "\n",
      "is_this_ric_in_all: True   up_to_date_ric: 2020-06-18 19:08:28.058000+00:00 got successfully news_get_df.shape: 100\n",
      "0; 1; 2; 3; 4; 5; 6; 7; 8; 9; 10; 11; 12; 13; 14; 15; 16; 17; 18; 19; 20; 21; 22; 23; 24; 25; 26; 27; 28; 29; 30; 31; 32; 33; 34; 35; 36; 37; 38; 39; 40; 41; 42; 43; 44; 45; 46; 47; 48; 49; 50; 51; 52; 53; 54; 55; 56; 57; 58; 59; 60; 61; 62; 63; 64; 65; 66; 67; 68; 69; 70; 71; 72; 73; 74; 75; 76; 77; 78; 79; 80; 81; 82; 83; 84; 85; 86; 87; 88; 89; 90; 91; 92; 93; 94; 95; 96; 97; 98; 99; \n",
      "2021-03-13 02:39:14.962693 CSCO.OQ  ric_i: 38  headline_slice_i: 29  headline_number: 100  not null: 100 2020-06-18 19:08:28.058000+00:00\n",
      "(395432, 6)\n",
      "\n",
      "is_this_ric_in_all: True   up_to_date_ric: 2020-06-07 23:17:18.089000+00:00 got successfully news_get_df.shape: 100\n",
      "0; 1; 2; 3; 4; 5; 6; 7; 8; 9; 10; 11; 12; 13; 14; 15; 16; 17; 18; 19; 20; 21; 22; 23; 24; 25; 26; 27; 28; 29; 30; 31; 32; 33; 34; 35; 36; 37; 38; 39; 40; 41; 42; 43; 44; 45; 46; 47; 48; 49; 50; 51; 52; 53; 54; 55; 56; 57; 58; 59; 60; 61; 62; 63; 64; 65; 66; 67; 68; 69; 70; 71; 72; 73; 74; 75; 76; 77; 78; 79; 80; 81; 82; 83; 84; 85; 86; 87; 88; 89; 90; 91; 92; 93; 94; 95; 96; 97; 98; 99; \n",
      "2021-03-13 02:40:42.451376 CSCO.OQ  ric_i: 38  headline_slice_i: 30  headline_number: 100  not null: 100 2020-06-07 23:17:18.089000+00:00\n",
      "(395532, 6)\n",
      "\n",
      "is_this_ric_in_all: True   up_to_date_ric: 2020-05-26 13:05:39.736000+00:00 got successfully news_get_df.shape: 100\n",
      "0; 1; 2; 3; 4; 5; 6; 7; 8; 9; 10; 11; 12; 13; 14; 15; 16; 17; 18; 19; 20; 21; 22; 23; 24; 25; 26; 27; 28; 29; 30; 31; 32; 33; 34; 35; 36; 37; 38; 39; 40; 41; 42; 43; 44; 45; 46; 47; 48; 49; 50; 51; 52; 53; 54; 55; 56; 57; 58; 59; 60; 61; 62; 63; 64; 65; 66; 67; 68; 69; 70; 71; 72; 73; 74; 75; 76; 77; 78; 79; 80; 81; 82; 83; 84; 85; 86; 87; 88; 89; 90; 91; 92; 93; 94; 95; 96; 97; 98; 99; \n",
      "2021-03-13 02:42:04.377591 CSCO.OQ  ric_i: 38  headline_slice_i: 31  headline_number: 100  not null: 100 2020-05-26 13:05:39.736000+00:00\n",
      "(395632, 6)\n",
      "\n",
      "is_this_ric_in_all: True   up_to_date_ric: 2020-05-14 13:57:32+00:00 got successfully news_get_df.shape: 100\n",
      "0; 1; 2; 3; 4; 5; 6; 7; 8; 9; 10; 11; 12; 13; 14; 15; 16; 17; 18; 19; 20; 21; 22; 23; 24; 25; 26; 27; 28; 29; 30; 31; 32; 33; 34; 35; 36; 37; 38; 39; 40; 41; 42; 43; 44; 45; 46; 47; 48; 49; 50; 51; 52; 53; 54; 55; 56; 57; 58; 59; 60; 61; 62; 63; 64; 65; 66; 67; 68; 69; 70; 71; 72; 73; 74; 75; 76; 77; 78; 79; 80; 81; 82; 83; 84; 85; 86; 87; 88; 89; 90; 91; 92; 93; 94; 95; 96; 97; 98; 99; \n",
      "2021-03-13 02:44:12.807781 CSCO.OQ  ric_i: 38  headline_slice_i: 32  headline_number: 100  not null: 100 2020-05-14 13:57:32+00:00\n",
      "(395732, 6)\n",
      "\n",
      "is_this_ric_in_all: True   up_to_date_ric: 2020-05-08 16:36:07.306000+00:00 got successfully news_get_df.shape: 100\n",
      "0; 1; 2; 3; 4; 5; 6; 7; 8; 9; 10; 11; 12; 13; 14; 15; 16; 17; 18; 19; 20; 21; 22; 23; 24; 25; 26; 27; 28; 29; 30; 31; 32; 33; 34; 35; 36; 37; 38; 39; 40; 41; 42; 43; 44; 45; 46; 47; 48; 49; 50; 51; 52; 53; 54; 55; 56; 57; 58; 59; 60; 61; 62; 63; 64; 65; 66; 67; 68; 69; 70; 71; 72; 73; 74; 75; 76; 77; 78; 79; 80; 81; 82; 83; 84; 85; 86; 87; 88; 89; 90; 91; 92; 93; 94; 95; 96; 97; 98; 99; \n",
      "2021-03-13 02:45:39.388373 CSCO.OQ  ric_i: 38  headline_slice_i: 33  headline_number: 100  not null: 100 2020-05-08 16:36:07.306000+00:00\n",
      "(395832, 6)\n",
      "\n",
      "is_this_ric_in_all: True   up_to_date_ric: 2020-04-24 02:00:23.314000+00:00 got successfully news_get_df.shape: 100\n",
      "0; 1; 2; 3; 4; 5; 6; 7; 8; 9; 10; 11; 12; 13; 14; 15; 16; 17; 18; 19; 20; 21; 22; 23; 24; 25; 26; 27; 28; 29; 30; 31; 32; 33; 34; 35; 36; 37; 38; 39; 40; 41; 42; 43; 44; 45; 46; 47; 48; 49; 50; 51; 52; 53; 54; 55; 56; 57; 58; 59; 60; 61; 62; 63; 64; 65; 66; 67; 68; 69; 70; 71; 72; 73; 74; 75; 76; 77; 78; 79; 80; 81; 82; 83; 84; 85; 86; 87; 88; 89; 90; 91; 92; 93; 94; 95; 96; 97; 98; 99; \n",
      "2021-03-13 02:47:09.053335 CSCO.OQ  ric_i: 38  headline_slice_i: 34  headline_number: 100  not null: 100 2020-04-24 02:00:23.314000+00:00\n",
      "(395932, 6)\n",
      "\n",
      "is_this_ric_in_all: True   up_to_date_ric: 2020-04-09 22:30:54.767000+00:00 got successfully news_get_df.shape: 100\n",
      "0; 1; 2; 3; 4; 5; 6; 7; 8; 9; 10; 11; 12; 13; 14; 15; 16; 17; 18; 19; 20; 21; 22; 23; 24; 25; 26; 27; 28; 29; 30; 31; 32; 33; 34; 35; 36; 37; 38; 39; 40; 41; 42; 43; 44; 45; 46; 47; 48; 49; 50; 51; 52; 53; 54; 55; 56; 57; 58; 59; 60; 61; 62; 63; 64; 65; 66; 67; 68; 69; 70; 71; 72; 73; 74; 75; 76; 77; 78; 79; 80; 81; 82; 83; 84; 85; 86; 87; 88; 89; 90; 91; 92; 93; 94; 95; 96; 97; 98; 99; \n",
      "2021-03-13 02:48:37.793191 CSCO.OQ  ric_i: 38  headline_slice_i: 35  headline_number: 100  not null: 100 2020-04-09 22:30:54.767000+00:00\n",
      "(396032, 6)\n",
      "\n",
      "is_this_ric_in_all: True   up_to_date_ric: 2020-03-31 08:19:21.892000+00:00 got successfully news_get_df.shape: 100\n",
      "0; 1; 2; 3; 4; 5; 6; 7; 8; 9; 10; 11; 12; 13; 14; 15; 16; 17; 18; 19; 20; 21; 22; 23; 24; 25; 26; 27; 28; 29; 30; 31; 32; 33; 34; 35; 36; 37; 38; 39; 40; 41; 42; 43; 44; 45; 46; 47; 48; 49; 50; 51; 52; 53; 54; 55; 56; 57; 58; 59; 60; 61; 62; 63; 64; 65; 66; 67; 68; 69; 70; 71; 72; 73; 74; 75; 76; 77; 78; 79; 80; 81; 82; 83; 84; 85; 86; 87; 88; 89; 90; 91; 92; 93; 94; 95; 96; 97; 98; 99; \n",
      "2021-03-13 02:50:06.622072 CSCO.OQ  ric_i: 38  headline_slice_i: 36  headline_number: 100  not null: 100 2020-03-31 08:19:21.892000+00:00\n",
      "(396132, 6)\n",
      "\n",
      "is_this_ric_in_all: True   up_to_date_ric: 2020-03-13 20:53:03.797000+00:00 got successfully news_get_df.shape: 100\n",
      "0; 1; 2; 3; 4; 5; 6; 7; 8; 9; 10; 11; 12; 13; 14; 15; 16; 17; 18; 19; 20; 21; 22; 23; 24; 25; 26; 27; 28; 29; 30; 31; 32; 33; 34; 35; 36; 37; 38; 39; 40; 41; 42; 43; 44; 45; 46; 47; 48; 49; 50; 51; 52; 53; 54; 55; 56; 57; 58; 59; 60; 61; 62; 63; 64; 65; 66; 67; 68; 69; 70; 71; 72; 73; 74; 75; 76; 77; 78; 79; 80; 81; 82; 83; 84; 85; 86; 87; 88; 89; 90; 91; 92; 93; 94; 95; 96; 97; 98; 99; \n",
      "2021-03-13 02:51:40.169294 CSCO.OQ  ric_i: 38  headline_slice_i: 37  headline_number: 100  not null: 100 2020-03-13 20:53:03.797000+00:00\n",
      "(396232, 6)\n",
      "\n",
      "is_this_ric_in_all: True   up_to_date_ric: 2020-02-29 22:17:08.175000+00:00 got successfully news_get_df.shape: 100\n",
      "0; 1; 2; 3; 4; 5; 6; 7; 8; 9; 10; 11; 12; 13; 14; 15; 16; 17; 18; 19; 20; 21; 22; 23; 24; 25; 26; 27; 28; 29; 30; 31; 32; 33; 34; 35; 36; 37; 38; 39; 40; 41; 42; 43; 44; 45; 46; 47; 48; 49; 50; 51; 52; 53; 54; 55; 56; 57; 58; 59; 60; 61; 62; 63; 64; 65; 66; 67; 68; 69; 70; 71; 72; 73; 74; 75; 76; 77; 78; 79; 80; 81; 82; 83; 84; 85; 86; 87; 88; 89; 90; 91; 92; 93; 94; 95; 96; 97; 98; 99; \n",
      "2021-03-13 02:53:08.118776 CSCO.OQ  ric_i: 38  headline_slice_i: 38  headline_number: 100  not null: 100 2020-02-29 22:17:08.175000+00:00\n",
      "(396332, 6)\n",
      "\n",
      "is_this_ric_in_all: True   up_to_date_ric: 2020-02-20 20:13:51.560000+00:00 got successfully news_get_df.shape: 100\n",
      "0; 1; 2; 3; 4; 5; 6; 7; 8; 9; 10; 11; 12; 13; 14; 15; 16; 17; 18; 19; 20; 21; 22; 23; 24; 25; 26; 27; 28; 29; 30; 31; 32; 33; 34; 35; 36; 37; 38; 39; 40; 41; 42; 43; 44; 45; 46; 47; 48; 49; 50; 51; 52; 53; 54; 55; 56; 57; 58; 59; 60; 61; 62; 63; 64; 65; 66; 67; 68; 69; 70; 71; 72; 73; 74; 75; 76; 77; 78; 79; 80; 81; 82; 83; 84; 85; 86; 87; 88; 89; 90; 91; 92; 93; 94; 95; 96; 97; 98; 99; \n",
      "2021-03-13 02:54:45.481573 CSCO.OQ  ric_i: 38  headline_slice_i: 39  headline_number: 100  not null: 100 2020-02-20 20:13:51.560000+00:00\n",
      "(396432, 6)\n",
      "\n",
      "is_this_ric_in_all: True   up_to_date_ric: 2020-02-13 11:32:02.442000+00:00 got successfully news_get_df.shape: 100\n",
      "0; 1; 2; 3; 4; 5; 6; 7; 8; 9; 10; 11; 12; 13; 14; 15; 16; 17; 18; 19; 20; 21; 22; 23; 24; 25; 26; 27; 28; 29; 30; 31; 32; 33; 34; 35; 36; 37; 38; 39; 40; 41; 42; 43; 44; 45; 46; 47; 48; 49; 50; 51; 52; 53; 54; 55; 56; 57; 58; 59; 60; 61; 62; 63; 64; 65; 66; 67; 68; 69; 70; 71; 72; 73; 74; 75; 76; 77; 78; 79; 80; 81; 82; 83; 84; 85; 86; 87; 88; 89; 90; 91; 92; 93; 94; 95; 96; 97; 98; 99; \n",
      "2021-03-13 02:56:59.594467 CSCO.OQ  ric_i: 38  headline_slice_i: 40  headline_number: 100  not null: 100 2020-02-13 11:32:02.442000+00:00\n",
      "(396532, 6)\n",
      "\n",
      "is_this_ric_in_all: True   up_to_date_ric: 2020-02-11 00:10:14.909000+00:00 got successfully news_get_df.shape: 100\n",
      "0; 1; 2; 3; 4; 5; 6; 7; 8; 9; 10; 11; 12; 13; 14; 15; 16; 17; 18; 19; 20; 21; 22; 23; 24; 25; 26; 27; 28; 29; 30; 31; 32; 33; 34; 35; 36; 37; 38; 39; 40; 41; 42; 43; 44; 45; 46; 47; 48; 49; 50; 51; 52; 53; 54; 55; 56; 57; 58; 59; 60; 61; 62; 63; 64; 65; 66; 67; 68; 69; 70; 71; 72; 73; 74; 75; 76; 77; 78; 79; 80; 81; 82; 83; 84; 85; 86; 87; 88; 89; 90; 91; 92; 93; 94; 95; 96; 97; 98; 99; \n",
      "2021-03-13 02:58:26.877189 CSCO.OQ  ric_i: 38  headline_slice_i: 41  headline_number: 100  not null: 100 2020-02-11 00:10:14.909000+00:00\n",
      "(396632, 6)\n",
      "\n",
      "is_this_ric_in_all: True   up_to_date_ric: 2020-01-28 23:25:22.448000+00:00 got successfully news_get_df.shape: 100\n",
      "0; 1; 2; 3; 4; 5; 6; 7; 8; 9; 10; 11; 12; 13; 14; 15; 16; 17; 18; 19; 20; 21; 22; 23; 24; 25; 26; 27; 28; 29; 30; 31; 32; 33; 34; 35; 36; 37; 38; 39; 40; 41; 42; 43; 44; 45; 46; 47; 48; 49; 50; 51; 52; 53; 54; 55; 56; 57; 58; 59; 60; 61; 62; 63; 64; 65; 66; 67; 68; 69; 70; 71; 72; 73; 74; 75; 76; 77; 78; 79; 80; 81; 82; 83; 84; 85; 86; 87; 88; 89; 90; 91; 92; 93; 94; 95; 96; 97; 98; 99; \n",
      "2021-03-13 02:59:52.228376 CSCO.OQ  ric_i: 38  headline_slice_i: 42  headline_number: 100  not null: 100 2020-01-28 23:25:22.448000+00:00\n",
      "(396732, 6)\n",
      "\n",
      "is_this_ric_in_all: True   up_to_date_ric: 2020-01-13 14:53:04.440000+00:00 got successfully news_get_df.shape: 100\n",
      "0; 1; 2; 3; 4; 5; 6; 7; 8; 9; 10; 11; 12; 13; 14; 15; 16; 17; 18; 19; 20; 21; 22; 23; 24; 25; 26; 27; 28; 29; 30; 31; 32; 33; 34; 35; 36; 37; 38; 39; 40; 41; 42; 43; 44; 45; 46; 47; 48; 49; 50; 51; 52; 53; 54; 55; 56; 57; 58; 59; 60; 61; 62; 63; 64; 65; 66; 67; 68; 69; 70; 71; 72; 73; 74; 75; 76; 77; 78; 79; 80; 81; 82; 83; 84; 85; 86; 87; 88; 89; 90; 91; 92; 93; 94; 95; 96; 97; 98; 99; \n",
      "2021-03-13 03:01:20.191107 CSCO.OQ  ric_i: 38  headline_slice_i: 43  headline_number: 100  not null: 100 2020-01-13 14:53:04.440000+00:00\n",
      "(396832, 6)\n",
      "\n",
      "is_this_ric_in_all: True   up_to_date_ric: 2019-12-20 11:39:38.492000+00:00 got successfully news_get_df.shape: 71\n",
      "0; 1; 2; 3; 4; 5; 6; 7; 8; 9; 10; 11; 12; 13; 14; 15; 16; 17; 18; 19; 20; 21; 22; 23; 24; 25; 26; 27; 28; 29; 30; 31; 32; 33; 34; 35; 36; 37; 38; 39; 40; 41; 42; 43; 44; 45; 46; 47; 48; 49; 50; 51; 52; 53; 54; 55; 56; 57; 58; 59; 60; 61; 62; 63; 64; 65; 66; 67; 68; 69; 70; \n",
      "2021-03-13 03:02:19.458470 CSCO.OQ  ric_i: 38  headline_slice_i: 44  headline_number: 71  not null: 71 2019-12-20 11:39:38.492000+00:00\n",
      "(396903, 6)\n",
      "C:/DAN/t_systems/trade_project/logger/quasi_logger_2021-03-13_v6.csv\n",
      "39 ABBV.N\n",
      "\n",
      "is_this_ric_in_all: False   up_to_date_ric: None got successfully news_get_df.shape: 100\n",
      "0; 1; 2; 3; 4; 5; 6; 7; 8; 9; 10; 11; 12; 13; 14; 15; 16; 17; 18; 19; 20; 21; 22; 23; 24; 25; 26; 27; 28; 29; 30; 31; 32; 33; 34; 35; 36; 37; 38; 39; 40; 41; 42; 43; 44; 45; 46; 47; 48; 49; 50; 51; 52; 53; 54; 55; 56; 57; 58; 59; 60; 61; 62; 63; 64; 65; 66; 67; 68; 69; 70; 71; 72; 73; 74; 75; 76; 77; 78; 79; 80; 81; 82; 83; 84; 85; 86; 87; 88; 89; 90; 91; 92; 93; 94; 95; 96; 97; 98; 99; \n",
      "2021-03-13 03:03:52.598882 ABBV.N  ric_i: 39  headline_slice_i: 1  headline_number: 100  not null: 100 None\n",
      "(397003, 6)\n",
      "\n",
      "is_this_ric_in_all: True   up_to_date_ric: 2021-02-22 23:18:36.228000+00:00 got successfully news_get_df.shape: 100\n",
      "0; 1; 2; 3; 4; 5; 6; 7; 8; 9; 10; 11; 12; 13; 14; 15; 16; 17; 18; 19; 20; 21; 22; 23; 24; 25; 26; 27; 28; 29; 30; 31; 32; 33; 34; 35; 36; 37; 38; 39; 40; 41; 42; 43; 44; 45; 46; 47; 48; 49; 50; 51; 52; 53; 54; 55; 56; 57; 58; 59; 60; 61; 62; 63; 64; 65; 66; 67; 68; 69; 70; 71; 72; 73; 74; 75; 76; 77; 78; 79; 80; 81; 82; 83; 84; 85; 86; 87; 88; 89; 90; 91; 92; 93; 94; 95; 96; 97; 98; 99; \n",
      "2021-03-13 03:06:03.988518 ABBV.N  ric_i: 39  headline_slice_i: 2  headline_number: 100  not null: 100 2021-02-22 23:18:36.228000+00:00\n",
      "(397103, 6)\n",
      "\n",
      "is_this_ric_in_all: True   up_to_date_ric: 2021-02-08 12:19:48+00:00 got successfully news_get_df.shape: 100\n",
      "0; 1; 2; 3; 4; 5; 6; 7; 8; 9; 10; 11; 12; 13; 14; 15; 16; 17; 18; 19; 20; 21; 22; 23; 24; 25; 26; 27; 28; 29; 30; 31; 32; 33; 34; 35; 36; 37; 38; 39; 40; 41; 42; 43; 44; 45; 46; 47; 48; 49; 50; 51; 52; 53; 54; 55; 56; 57; 58; 59; 60; 61; 62; 63; 64; 65; 66; 67; 68; 69; 70; 71; 72; 73; 74; 75; 76; 77; 78; 79; 80; 81; 82; 83; 84; 85; 86; 87; 88; 89; 90; 91; 92; 93; 94; 95; 96; 97; 98; 99; \n",
      "2021-03-13 03:08:41.850679 ABBV.N  ric_i: 39  headline_slice_i: 3  headline_number: 100  not null: 100 2021-02-08 12:19:48+00:00\n",
      "(397203, 6)\n",
      "\n",
      "is_this_ric_in_all: True   up_to_date_ric: 2021-01-25 18:31:58+00:00 got successfully news_get_df.shape: 100\n",
      "0; 1; 2; 3; 4; 5; 6; 7; 8; 9; 10; 11; 12; 13; 14; 15; 16; 17; 18; 19; 20; 21; 22; 23; 24; 25; 26; 27; 28; 29; 30; 31; 32; 33; 34; 35; 36; 37; 38; 39; 40; 41; 42; 43; 44; 45; 46; 47; 48; 49; 50; 51; 52; 53; 54; 55; 56; 57; 58; 59; 60; 61; 62; 63; 64; 65; 66; 67; 68; 69; 70; 71; 72; 73; 74; 75; 76; 77; 78; 79; 80; 81; 82; 83; 84; 85; 86; 87; 88; 89; 90; 91; 92; 93; 94; 95; 96; 97; 98; 99; \n",
      "2021-03-13 03:10:23.796531 ABBV.N  ric_i: 39  headline_slice_i: 4  headline_number: 100  not null: 100 2021-01-25 18:31:58+00:00\n",
      "(397303, 6)\n",
      "\n",
      "is_this_ric_in_all: True   up_to_date_ric: 2021-01-05 15:11:32.869000+00:00 got successfully news_get_df.shape: 100\n",
      "0; 1; 2; 3; 4; 5; 6; 7; 8; 9; 10; 11; 12; 13; 14; 15; 16; 17; 18; 19; 20; 21; 22; 23; 24; 25; 26; 27; 28; 29; 30; 31; 32; 33; 34; 35; 36; 37; 38; 39; 40; 41; 42; 43; 44; 45; 46; 47; 48; 49; 50; 51; 52; 53; 54; 55; 56; 57; 58; 59; 60; 61; 62; 63; 64; 65; 66; 67; 68; 69; 70; 71; 72; 73; 74; 75; 76; 77; 78; 79; 80; 81; 82; 83; 84; 85; 86; 87; 88; 89; 90; 91; 92; 93; 94; 95; 96; 97; 98; 99; \n",
      "2021-03-13 03:12:20.054303 ABBV.N  ric_i: 39  headline_slice_i: 5  headline_number: 100  not null: 100 2021-01-05 15:11:32.869000+00:00\n",
      "(397403, 6)\n",
      "\n",
      "is_this_ric_in_all: True   up_to_date_ric: 2020-12-10 14:55:38.884000+00:00 got successfully news_get_df.shape: 100\n",
      "0; 1; 2; 3; 4; 5; 6; 7; 8; 9; 10; 11; 12; 13; 14; 15; 16; 17; 18; 19; 20; 21; 22; 23; 24; 25; 26; 27; 28; 29; 30; 31; 32; 33; 34; 35; 36; 37; 38; 39; 40; 41; 42; 43; 44; 45; 46; 47; 48; 49; 50; 51; 52; 53; 54; 55; 56; 57; 58; 59; 60; 61; 62; 63; 64; 65; 66; 67; 68; 69; 70; 71; 72; 73; 74; 75; 76; 77; 78; 79; 80; 81; 82; 83; 84; 85; 86; 87; 88; 89; 90; 91; 92; 93; 94; 95; 96; 97; 98; 99; \n",
      "2021-03-13 03:14:04.545977 ABBV.N  ric_i: 39  headline_slice_i: 6  headline_number: 100  not null: 100 2020-12-10 14:55:38.884000+00:00\n",
      "(397503, 6)\n",
      "\n",
      "is_this_ric_in_all: True   up_to_date_ric: 2020-11-19 22:13:39.406000+00:00 got successfully news_get_df.shape: 100\n",
      "0; 1; 2; 3; 4; 5; 6; 7; 8; 9; 10; 11; 12; 13; 14; 15; 16; 17; 18; 19; 20; 21; 22; 23; 24; 25; 26; 27; 28; 29; 30; 31; 32; 33; 34; 35; 36; 37; 38; 39; 40; 41; 42; 43; 44; 45; 46; 47; 48; 49; 50; 51; 52; 53; 54; 55; 56; 57; 58; 59; 60; 61; 62; 63; 64; 65; 66; 67; 68; 69; 70; 71; 72; 73; 74; 75; 76; 77; 78; 79; 80; 81; 82; 83; 84; 85; 86; 87; 88; 89; 90; 91; 92; 93; 94; 95; 96; 97; 98; 99; \n",
      "2021-03-13 03:15:48.568799 ABBV.N  ric_i: 39  headline_slice_i: 7  headline_number: 100  not null: 100 2020-11-19 22:13:39.406000+00:00\n",
      "(397603, 6)\n",
      "\n",
      "is_this_ric_in_all: True   up_to_date_ric: 2020-11-02 16:21:40.325000+00:00 got successfully news_get_df.shape: 100\n",
      "0; 1; 2; 3; 4; 5; 6; 7; 8; 9; 10; 11; 12; 13; 14; 15; 16; 17; 18; 19; 20; 21; 22; 23; 24; 25; 26; 27; 28; 29; 30; 31; 32; 33; 34; 35; 36; 37; 38; 39; 40; 41; 42; 43; 44; 45; 46; 47; 48; 49; 50; 51; 52; 53; 54; 55; 56; 57; 58; 59; 60; 61; 62; 63; 64; 65; 66; 67; 68; 69; 70; 71; 72; 73; 74; 75; 76; 77; 78; 79; 80; 81; 82; 83; 84; 85; 86; 87; 88; 89; 90; 91; 92; 93; 94; 95; 96; 97; 98; 99; \n",
      "2021-03-13 03:18:07.058821 ABBV.N  ric_i: 39  headline_slice_i: 8  headline_number: 100  not null: 100 2020-11-02 16:21:40.325000+00:00\n",
      "(397703, 6)\n",
      "\n",
      "is_this_ric_in_all: True   up_to_date_ric: 2020-10-20 21:47:19.384000+00:00 got successfully news_get_df.shape: 100\n",
      "0; 1; 2; 3; 4; 5; 6; 7; 8; 9; 10; 11; 12; 13; 14; 15; 16; 17; 18; 19; 20; 21; 22; 23; 24; 25; 26; 27; 28; 29; 30; 31; 32; 33; 34; 35; 36; 37; 38; 39; 40; 41; 42; 43; 44; 45; 46; 47; 48; 49; 50; 51; 52; 53; 54; 55; 56; 57; 58; 59; 60; 61; 62; 63; 64; 65; 66; 67; 68; 69; 70; 71; 72; 73; 74; 75; 76; 77; 78; 79; 80; 81; 82; 83; 84; 85; 86; 87; 88; 89; 90; 91; 92; 93; 94; 95; 96; 97; 98; 99; \n",
      "2021-03-13 03:19:36.596387 ABBV.N  ric_i: 39  headline_slice_i: 9  headline_number: 100  not null: 100 2020-10-20 21:47:19.384000+00:00\n",
      "(397803, 6)\n",
      "\n",
      "is_this_ric_in_all: True   up_to_date_ric: 2020-09-30 19:51:11.519000+00:00 got successfully news_get_df.shape: 100\n",
      "0; 1; 2; 3; 4; 5; 6; 7; 8; 9; 10; 11; 12; 13; 14; 15; 16; 17; 18; 19; 20; 21; 22; 23; 24; 25; 26; 27; 28; 29; 30; 31; 32; 33; 34; 35; 36; 37; 38; 39; 40; 41; 42; 43; 44; 45; 46; 47; 48; 49; 50; 51; 52; 53; 54; 55; 56; 57; 58; 59; 60; 61; 62; 63; 64; 65; 66; 67; 68; 69; 70; 71; 72; 73; 74; 75; 76; 77; 78; 79; 80; 81; 82; 83; 84; 85; 86; 87; 88; 89; 90; 91; 92; 93; 94; 95; 96; 97; 98; 99; \n",
      "2021-03-13 03:21:06.573240 ABBV.N  ric_i: 39  headline_slice_i: 10  headline_number: 100  not null: 100 2020-09-30 19:51:11.519000+00:00\n",
      "(397903, 6)\n",
      "\n",
      "is_this_ric_in_all: True   up_to_date_ric: 2020-09-07 17:15:04.290000+00:00 got successfully news_get_df.shape: 100\n",
      "0; 1; 2; 3; 4; 5; 6; 7; 8; 9; 10; 11; 12; 13; 14; 15; 16; 17; 18; 19; 20; 21; 22; 23; 24; 25; 26; 27; 28; 29; 30; 31; 32; 33; 34; 35; 36; 37; 38; 39; 40; 41; 42; 43; 44; 45; 46; 47; 48; 49; 50; 51; 52; 53; 54; 55; 56; 57; 58; 59; 60; 61; 62; 63; 64; 65; 66; 67; 68; 69; 70; 71; 72; 73; 74; 75; 76; 77; 78; 79; 80; 81; 82; 83; 84; 85; 86; 87; 88; 89; 90; 91; 92; 93; 94; 95; 96; 97; 98; 99; \n",
      "2021-03-13 03:23:14.745296 ABBV.N  ric_i: 39  headline_slice_i: 11  headline_number: 100  not null: 100 2020-09-07 17:15:04.290000+00:00\n",
      "(398003, 6)\n",
      "\n",
      "is_this_ric_in_all: True   up_to_date_ric: 2020-08-18 19:51:04+00:00 got successfully news_get_df.shape: 100\n",
      "0; 1; 2; 3; 4; 5; 6; 7; 8; 9; 10; 11; 12; 13; 14; 15; 16; 17; 18; 19; 20; 21; 22; 23; 24; 25; 26; 27; 28; 29; 30; 31; 32; 33; 34; 35; 36; 37; 38; 39; 40; 41; 42; 43; 44; 45; 46; 47; 48; 49; 50; 51; 52; 53; 54; 55; 56; 57; 58; 59; 60; 61; 62; 63; 64; 65; 66; 67; 68; 69; 70; 71; 72; 73; 74; 75; 76; 77; 78; 79; 80; 81; 82; 83; 84; 85; 86; 87; 88; 89; 90; 91; 92; 93; 94; 95; 96; 97; 98; 99; \n",
      "2021-03-13 03:25:27.323093 ABBV.N  ric_i: 39  headline_slice_i: 12  headline_number: 100  not null: 100 2020-08-18 19:51:04+00:00\n",
      "(398103, 6)\n",
      "\n",
      "is_this_ric_in_all: True   up_to_date_ric: 2020-07-31 11:45:57+00:00 got successfully news_get_df.shape: 100\n",
      "0; 1; 2; 3; 4; 5; 6; 7; 8; 9; 10; 11; 12; 13; 14; 15; 16; 17; 18; 19; 20; 21; 22; 23; 24; 25; 26; 27; 28; 29; 30; 31; 32; 33; 34; 35; 36; 37; 38; 39; 40; 41; 42; 43; 44; 45; 46; 47; 48; 49; 50; 51; 52; 53; 54; 55; 56; 57; 58; 59; 60; 61; 62; 63; 64; 65; 66; 67; 68; 69; 70; 71; 72; 73; 74; 75; 76; 77; 78; 79; 80; 81; 82; 83; 84; 85; 86; 87; 88; 89; 90; 91; 92; 93; 94; 95; 96; 97; 98; 99; \n",
      "2021-03-13 03:27:35.471479 ABBV.N  ric_i: 39  headline_slice_i: 13  headline_number: 100  not null: 100 2020-07-31 11:45:57+00:00\n",
      "(398203, 6)\n",
      "\n",
      "is_this_ric_in_all: True   up_to_date_ric: 2020-07-09 19:17:33.926000+00:00 got successfully news_get_df.shape: 100\n",
      "0; 1; 2; 3; 4; 5; 6; 7; 8; 9; 10; 11; 12; 13; 14; 15; 16; 17; 18; 19; 20; 21; 22; 23; 24; 25; 26; 27; 28; 29; 30; 31; 32; 33; 34; 35; 36; 37; 38; 39; 40; 41; 42; 43; 44; 45; 46; 47; 48; 49; 50; 51; 52; 53; 54; 55; 56; 57; 58; 59; 60; 61; 62; 63; 64; 65; 66; 67; 68; 69; 70; 71; 72; 73; 74; 75; 76; 77; 78; 79; 80; 81; 82; 83; 84; 85; 86; 87; 88; 89; 90; 91; 92; 93; 94; 95; 96; 97; 98; 99; \n",
      "2021-03-13 03:29:25.048457 ABBV.N  ric_i: 39  headline_slice_i: 14  headline_number: 100  not null: 100 2020-07-09 19:17:33.926000+00:00\n",
      "(398303, 6)\n",
      "\n",
      "is_this_ric_in_all: True   up_to_date_ric: 2020-06-19 16:21:56.757000+00:00 got successfully news_get_df.shape: 100\n",
      "0; 1; 2; 3; 4; 5; 6; 7; 8; 9; 10; 11; 12; 13; 14; 15; 16; 17; 18; 19; 20; 21; 22; 23; 24; 25; 26; 27; 28; 29; 30; 31; 32; 33; 34; 35; 36; 37; 38; 39; 40; 41; 42; 43; 44; 45; 46; 47; 48; 49; 50; 51; 52; 53; 54; 55; 56; 57; 58; 59; 60; 61; 62; 63; 64; 65; 66; 67; 68; 69; 70; 71; 72; 73; 74; 75; 76; 77; 78; 79; 80; 81; 82; 83; 84; 85; 86; 87; 88; 89; 90; 91; 92; 93; 94; 95; 96; 97; 98; 99; \n",
      "2021-03-13 03:31:45.585515 ABBV.N  ric_i: 39  headline_slice_i: 15  headline_number: 100  not null: 100 2020-06-19 16:21:56.757000+00:00\n",
      "(398403, 6)\n",
      "\n",
      "is_this_ric_in_all: True   up_to_date_ric: 2020-06-11 15:37:30.028000+00:00 got successfully news_get_df.shape: 100\n",
      "0; 1; 2; 3; 4; 5; 6; 7; 8; 9; 10; 11; 12; 13; 14; 15; 16; 17; 18; 19; 20; 21; 22; 23; 24; 25; 26; 27; 28; 29; 30; 31; 32; 33; 34; 35; 36; 37; 38; 39; 40; 41; 42; 43; 44; 45; 46; 47; 48; 49; 50; 51; 52; 53; 54; 55; 56; 57; 58; 59; 60; 61; 62; 63; 64; 65; 66; 67; 68; 69; 70; 71; 72; 73; 74; 75; 76; 77; 78; 79; 80; 81; 82; 83; 84; 85; 86; 87; 88; 89; 90; 91; 92; 93; 94; 95; 96; 97; 98; 99; \n",
      "2021-03-13 03:34:02.518409 ABBV.N  ric_i: 39  headline_slice_i: 16  headline_number: 100  not null: 100 2020-06-11 15:37:30.028000+00:00\n",
      "(398503, 6)\n",
      "\n",
      "is_this_ric_in_all: True   up_to_date_ric: 2020-06-03 16:25:09.337000+00:00 got successfully news_get_df.shape: 100\n",
      "0; 1; 2; 3; 4; 5; 6; 7; 8; 9; 10; 11; 12; 13; 14; 15; 16; 17; 18; 19; 20; 21; 22; 23; 24; 25; 26; 27; 28; 29; 30; 31; 32; 33; 34; 35; 36; 37; 38; 39; 40; 41; 42; 43; 44; 45; 46; 47; 48; 49; 50; 51; 52; 53; 54; 55; 56; 57; 58; 59; 60; 61; 62; 63; 64; 65; 66; 67; 68; 69; 70; 71; 72; 73; 74; 75; 76; 77; 78; 79; 80; 81; 82; 83; 84; 85; 86; 87; 88; 89; 90; 91; 92; 93; 94; 95; 96; 97; 98; 99; \n",
      "2021-03-13 03:35:50.471324 ABBV.N  ric_i: 39  headline_slice_i: 17  headline_number: 100  not null: 100 2020-06-03 16:25:09.337000+00:00\n",
      "(398603, 6)\n",
      "\n",
      "is_this_ric_in_all: True   up_to_date_ric: 2020-05-15 22:22:02.368000+00:00 got successfully news_get_df.shape: 100\n",
      "0; 1; 2; 3; 4; 5; 6; 7; 8; 9; 10; 11; 12; 13; 14; 15; 16; 17; 18; 19; 20; 21; 22; 23; 24; 25; 26; 27; 28; 29; 30; 31; 32; 33; 34; 35; 36; 37; 38; 39; 40; 41; 42; 43; 44; 45; 46; 47; 48; 49; 50; 51; 52; 53; 54; 55; 56; 57; 58; 59; 60; 61; 62; 63; 64; 65; 66; 67; 68; 69; 70; 71; 72; 73; 74; 75; 76; 77; 78; 79; 80; 81; 82; 83; 84; 85; 86; 87; 88; 89; 90; 91; 92; 93; 94; 95; 96; 97; 98; 99; \n",
      "2021-03-13 03:38:12.755549 ABBV.N  ric_i: 39  headline_slice_i: 18  headline_number: 100  not null: 100 2020-05-15 22:22:02.368000+00:00\n",
      "(398703, 6)\n",
      "\n",
      "is_this_ric_in_all: True   up_to_date_ric: 2020-05-11 09:47:43.171000+00:00 got successfully news_get_df.shape: 100\n",
      "0; 1; 2; 3; 4; 5; 6; 7; 8; 9; 10; 11; 12; 13; 14; 15; 16; 17; 18; 19; 20; 21; 22; 23; 24; 25; 26; 27; 28; 29; 30; 31; 32; 33; 34; 35; 36; 37; 38; 39; 40; 41; 42; 43; 44; 45; 46; 47; 48; 49; 50; 51; 52; 53; 54; 55; 56; 57; 58; 59; 60; 61; 62; 63; 64; 65; 66; 67; 68; 69; 70; 71; 72; 73; 74; 75; 76; 77; 78; 79; 80; 81; 82; 83; 84; 85; 86; 87; 88; 89; 90; 91; 92; 93; 94; 95; 96; 97; 98; 99; \n",
      "2021-03-13 03:41:12.381586 ABBV.N  ric_i: 39  headline_slice_i: 19  headline_number: 100  not null: 100 2020-05-11 09:47:43.171000+00:00\n",
      "(398803, 6)\n",
      "\n",
      "is_this_ric_in_all: True   up_to_date_ric: 2020-05-06 12:07:00.467000+00:00 got successfully news_get_df.shape: 100\n",
      "0; 1; 2; 3; 4; 5; 6; 7; 8; 9; 10; 11; 12; 13; 14; 15; 16; 17; 18; 19; 20; 21; 22; 23; 24; 25; 26; 27; 28; 29; 30; 31; 32; 33; 34; 35; 36; 37; 38; 39; 40; 41; 42; 43; 44; 45; 46; 47; 48; 49; 50; 51; 52; 53; 54; 55; 56; 57; 58; 59; 60; 61; 62; 63; 64; 65; 66; 67; 68; 69; 70; 71; 72; 73; 74; 75; 76; 77; 78; 79; 80; 81; 82; 83; 84; 85; 86; 87; 88; 89; 90; 91; 92; 93; 94; 95; 96; 97; 98; 99; \n",
      "2021-03-13 03:43:58.984498 ABBV.N  ric_i: 39  headline_slice_i: 20  headline_number: 100  not null: 100 2020-05-06 12:07:00.467000+00:00\n",
      "(398903, 6)\n",
      "\n",
      "is_this_ric_in_all: True   up_to_date_ric: 2020-05-04 09:51:01.031000+00:00 got successfully news_get_df.shape: 100\n",
      "0; 1; 2; 3; 4; 5; 6; 7; 8; 9; 10; 11; 12; 13; 14; 15; 16; 17; 18; 19; 20; 21; 22; 23; 24; 25; 26; 27; 28; 29; 30; 31; 32; 33; 34; 35; 36; 37; 38; 39; 40; 41; 42; 43; 44; 45; 46; 47; 48; 49; 50; 51; 52; 53; 54; 55; 56; 57; 58; 59; 60; 61; 62; 63; 64; 65; 66; 67; 68; 69; 70; 71; 72; 73; 74; 75; 76; 77; 78; 79; 80; 81; 82; 83; 84; 85; 86; 87; 88; 89; 90; 91; 92; 93; 94; 95; 96; 97; 98; 99; \n",
      "2021-03-13 03:47:25.731036 ABBV.N  ric_i: 39  headline_slice_i: 21  headline_number: 100  not null: 100 2020-05-04 09:51:01.031000+00:00\n",
      "(399003, 6)\n",
      "\n",
      "is_this_ric_in_all: True   up_to_date_ric: 2020-04-30 12:47:15+00:00 got successfully news_get_df.shape: 100\n",
      "0; 1; 2; 3; 4; 5; 6; 7; 8; 9; 10; 11; 12; 13; 14; 15; 16; 17; 18; 19; 20; 21; 22; 23; 24; 25; 26; 27; 28; 29; 30; 31; 32; 33; 34; 35; 36; 37; 38; 39; 40; 41; 42; 43; 44; 45; 46; 47; 48; 49; 50; 51; 52; 53; 54; 55; 56; 57; 58; 59; 60; 61; 62; 63; 64; 65; 66; 67; 68; 69; 70; 71; 72; 73; 74; 75; 76; 77; 78; 79; 80; 81; 82; 83; 84; 85; 86; 87; 88; 89; 90; 91; 92; 93; 94; 95; 96; 97; 98; 99; \n",
      "2021-03-13 03:50:27.597635 ABBV.N  ric_i: 39  headline_slice_i: 22  headline_number: 100  not null: 100 2020-04-30 12:47:15+00:00\n",
      "(399103, 6)\n",
      "\n",
      "is_this_ric_in_all: True   up_to_date_ric: 2020-04-27 17:03:55.441000+00:00 got successfully news_get_df.shape: 100\n",
      "0; 1; 2; 3; 4; 5; 6; 7; 8; 9; 10; 11; 12; 13; 14; 15; 16; 17; 18; 19; 20; 21; 22; 23; 24; 25; 26; 27; 28; 29; 30; 31; 32; 33; 34; 35; 36; "
     ]
    },
    {
     "name": "stderr",
     "output_type": "stream",
     "text": [
      "2021-03-13 03:51:30,271 P[3528] [MainThread 10712] Error code 429 | Client Error: Too many requests, please try again later. Wait for 72510 seconds.\n",
      "2021-03-13 03:51:30,272 P[3528] [MainThread 10712] HTTP request failed: EikonError-Client Error: Too many requests, please try again later. Wait for 72510 seconds.\n"
     ]
    },
    {
     "name": "stdout",
     "output_type": "stream",
     "text": [
      "37; \n",
      "STORY IS OK: False   ric_now: ABBV.N   ric_i: 39   story_i: 38\n",
      "'NoneType' object has no attribute 'replace'\n"
     ]
    },
    {
     "name": "stderr",
     "output_type": "stream",
     "text": [
      "2021-03-13 03:51:35,372 P[3528] [MainThread 10712] Error code 429 | Client Error: Too many requests, please try again later. Wait for 72505 seconds.\n",
      "2021-03-13 03:51:35,373 P[3528] [MainThread 10712] HTTP request failed: EikonError-Client Error: Too many requests, please try again later. Wait for 72505 seconds.\n"
     ]
    },
    {
     "name": "stdout",
     "output_type": "stream",
     "text": [
      "\n",
      "STORY IS OK: False   ric_now: ABBV.N   ric_i: 39   story_i: 39\n",
      "'NoneType' object has no attribute 'replace'\n"
     ]
    },
    {
     "name": "stderr",
     "output_type": "stream",
     "text": [
      "2021-03-13 03:51:40,470 P[3528] [MainThread 10712] Error code 429 | Client Error: Too many requests, please try again later. Wait for 72500 seconds.\n",
      "2021-03-13 03:51:40,470 P[3528] [MainThread 10712] HTTP request failed: EikonError-Client Error: Too many requests, please try again later. Wait for 72500 seconds.\n"
     ]
    },
    {
     "name": "stdout",
     "output_type": "stream",
     "text": [
      "\n",
      "STORY IS OK: False   ric_now: ABBV.N   ric_i: 39   story_i: 40\n",
      "'NoneType' object has no attribute 'replace'\n"
     ]
    },
    {
     "name": "stderr",
     "output_type": "stream",
     "text": [
      "2021-03-13 03:51:45,575 P[3528] [MainThread 10712] Error code 429 | Client Error: Too many requests, please try again later. Wait for 72495 seconds.\n",
      "2021-03-13 03:51:45,576 P[3528] [MainThread 10712] HTTP request failed: EikonError-Client Error: Too many requests, please try again later. Wait for 72495 seconds.\n"
     ]
    },
    {
     "name": "stdout",
     "output_type": "stream",
     "text": [
      "\n",
      "STORY IS OK: False   ric_now: ABBV.N   ric_i: 39   story_i: 41\n",
      "'NoneType' object has no attribute 'replace'\n"
     ]
    },
    {
     "name": "stderr",
     "output_type": "stream",
     "text": [
      "2021-03-13 03:51:50,677 P[3528] [MainThread 10712] Error code 429 | Client Error: Too many requests, please try again later. Wait for 72490 seconds.\n",
      "2021-03-13 03:51:50,677 P[3528] [MainThread 10712] HTTP request failed: EikonError-Client Error: Too many requests, please try again later. Wait for 72490 seconds.\n"
     ]
    },
    {
     "name": "stdout",
     "output_type": "stream",
     "text": [
      "\n",
      "STORY IS OK: False   ric_now: ABBV.N   ric_i: 39   story_i: 42\n",
      "'NoneType' object has no attribute 'replace'\n"
     ]
    },
    {
     "name": "stderr",
     "output_type": "stream",
     "text": [
      "2021-03-13 03:51:55,776 P[3528] [MainThread 10712] Error code 429 | Client Error: Too many requests, please try again later. Wait for 72485 seconds.\n",
      "2021-03-13 03:51:55,777 P[3528] [MainThread 10712] HTTP request failed: EikonError-Client Error: Too many requests, please try again later. Wait for 72485 seconds.\n"
     ]
    },
    {
     "name": "stdout",
     "output_type": "stream",
     "text": [
      "\n",
      "STORY IS OK: False   ric_now: ABBV.N   ric_i: 39   story_i: 43\n",
      "'NoneType' object has no attribute 'replace'\n"
     ]
    },
    {
     "name": "stderr",
     "output_type": "stream",
     "text": [
      "2021-03-13 03:52:00,878 P[3528] [MainThread 10712] Error code 429 | Client Error: Too many requests, please try again later. Wait for 72480 seconds.\n",
      "2021-03-13 03:52:00,879 P[3528] [MainThread 10712] HTTP request failed: EikonError-Client Error: Too many requests, please try again later. Wait for 72480 seconds.\n"
     ]
    },
    {
     "name": "stdout",
     "output_type": "stream",
     "text": [
      "\n",
      "STORY IS OK: False   ric_now: ABBV.N   ric_i: 39   story_i: 44\n",
      "'NoneType' object has no attribute 'replace'\n"
     ]
    },
    {
     "name": "stderr",
     "output_type": "stream",
     "text": [
      "2021-03-13 03:52:05,972 P[3528] [MainThread 10712] Error code 429 | Client Error: Too many requests, please try again later. Wait for 72475 seconds.\n",
      "2021-03-13 03:52:05,972 P[3528] [MainThread 10712] HTTP request failed: EikonError-Client Error: Too many requests, please try again later. Wait for 72475 seconds.\n"
     ]
    },
    {
     "name": "stdout",
     "output_type": "stream",
     "text": [
      "\n",
      "STORY IS OK: False   ric_now: ABBV.N   ric_i: 39   story_i: 45\n",
      "'NoneType' object has no attribute 'replace'\n"
     ]
    },
    {
     "name": "stderr",
     "output_type": "stream",
     "text": [
      "2021-03-13 03:52:11,067 P[3528] [MainThread 10712] Error code 429 | Client Error: Too many requests, please try again later. Wait for 72469 seconds.\n",
      "2021-03-13 03:52:11,067 P[3528] [MainThread 10712] HTTP request failed: EikonError-Client Error: Too many requests, please try again later. Wait for 72469 seconds.\n"
     ]
    },
    {
     "name": "stdout",
     "output_type": "stream",
     "text": [
      "\n",
      "STORY IS OK: False   ric_now: ABBV.N   ric_i: 39   story_i: 46\n",
      "'NoneType' object has no attribute 'replace'\n"
     ]
    },
    {
     "name": "stderr",
     "output_type": "stream",
     "text": [
      "2021-03-13 03:52:16,173 P[3528] [MainThread 10712] Error code 429 | Client Error: Too many requests, please try again later. Wait for 72464 seconds.\n",
      "2021-03-13 03:52:16,175 P[3528] [MainThread 10712] HTTP request failed: EikonError-Client Error: Too many requests, please try again later. Wait for 72464 seconds.\n"
     ]
    },
    {
     "name": "stdout",
     "output_type": "stream",
     "text": [
      "\n",
      "STORY IS OK: False   ric_now: ABBV.N   ric_i: 39   story_i: 47\n",
      "'NoneType' object has no attribute 'replace'\n"
     ]
    },
    {
     "name": "stderr",
     "output_type": "stream",
     "text": [
      "2021-03-13 03:52:21,281 P[3528] [MainThread 10712] Error code 429 | Client Error: Too many requests, please try again later. Wait for 72459 seconds.\n",
      "2021-03-13 03:52:21,282 P[3528] [MainThread 10712] HTTP request failed: EikonError-Client Error: Too many requests, please try again later. Wait for 72459 seconds.\n"
     ]
    },
    {
     "name": "stdout",
     "output_type": "stream",
     "text": [
      "\n",
      "STORY IS OK: False   ric_now: ABBV.N   ric_i: 39   story_i: 48\n",
      "'NoneType' object has no attribute 'replace'\n"
     ]
    },
    {
     "name": "stderr",
     "output_type": "stream",
     "text": [
      "2021-03-13 03:52:26,383 P[3528] [MainThread 10712] Error code 429 | Client Error: Too many requests, please try again later. Wait for 72454 seconds.\n",
      "2021-03-13 03:52:26,384 P[3528] [MainThread 10712] HTTP request failed: EikonError-Client Error: Too many requests, please try again later. Wait for 72454 seconds.\n"
     ]
    },
    {
     "name": "stdout",
     "output_type": "stream",
     "text": [
      "\n",
      "STORY IS OK: False   ric_now: ABBV.N   ric_i: 39   story_i: 49\n",
      "'NoneType' object has no attribute 'replace'\n"
     ]
    },
    {
     "name": "stderr",
     "output_type": "stream",
     "text": [
      "2021-03-13 03:52:31,478 P[3528] [MainThread 10712] Error code 429 | Client Error: Too many requests, please try again later. Wait for 72449 seconds.\n",
      "2021-03-13 03:52:31,479 P[3528] [MainThread 10712] HTTP request failed: EikonError-Client Error: Too many requests, please try again later. Wait for 72449 seconds.\n"
     ]
    },
    {
     "name": "stdout",
     "output_type": "stream",
     "text": [
      "\n",
      "STORY IS OK: False   ric_now: ABBV.N   ric_i: 39   story_i: 50\n",
      "'NoneType' object has no attribute 'replace'\n"
     ]
    },
    {
     "name": "stderr",
     "output_type": "stream",
     "text": [
      "2021-03-13 03:52:36,576 P[3528] [MainThread 10712] Error code 429 | Client Error: Too many requests, please try again later. Wait for 72444 seconds.\n",
      "2021-03-13 03:52:36,577 P[3528] [MainThread 10712] HTTP request failed: EikonError-Client Error: Too many requests, please try again later. Wait for 72444 seconds.\n"
     ]
    },
    {
     "name": "stdout",
     "output_type": "stream",
     "text": [
      "\n",
      "STORY IS OK: False   ric_now: ABBV.N   ric_i: 39   story_i: 51\n",
      "'NoneType' object has no attribute 'replace'\n"
     ]
    },
    {
     "name": "stderr",
     "output_type": "stream",
     "text": [
      "2021-03-13 03:52:41,682 P[3528] [MainThread 10712] Error code 429 | Client Error: Too many requests, please try again later. Wait for 72439 seconds.\n",
      "2021-03-13 03:52:41,683 P[3528] [MainThread 10712] HTTP request failed: EikonError-Client Error: Too many requests, please try again later. Wait for 72439 seconds.\n"
     ]
    },
    {
     "name": "stdout",
     "output_type": "stream",
     "text": [
      "\n",
      "STORY IS OK: False   ric_now: ABBV.N   ric_i: 39   story_i: 52\n",
      "'NoneType' object has no attribute 'replace'\n"
     ]
    },
    {
     "name": "stderr",
     "output_type": "stream",
     "text": [
      "2021-03-13 03:52:46,785 P[3528] [MainThread 10712] Error code 429 | Client Error: Too many requests, please try again later. Wait for 72434 seconds.\n",
      "2021-03-13 03:52:46,785 P[3528] [MainThread 10712] HTTP request failed: EikonError-Client Error: Too many requests, please try again later. Wait for 72434 seconds.\n"
     ]
    },
    {
     "name": "stdout",
     "output_type": "stream",
     "text": [
      "\n",
      "STORY IS OK: False   ric_now: ABBV.N   ric_i: 39   story_i: 53\n",
      "'NoneType' object has no attribute 'replace'\n"
     ]
    },
    {
     "name": "stderr",
     "output_type": "stream",
     "text": [
      "2021-03-13 03:52:51,879 P[3528] [MainThread 10712] Error code 429 | Client Error: Too many requests, please try again later. Wait for 72429 seconds.\n",
      "2021-03-13 03:52:51,880 P[3528] [MainThread 10712] HTTP request failed: EikonError-Client Error: Too many requests, please try again later. Wait for 72429 seconds.\n"
     ]
    },
    {
     "name": "stdout",
     "output_type": "stream",
     "text": [
      "\n",
      "STORY IS OK: False   ric_now: ABBV.N   ric_i: 39   story_i: 54\n",
      "'NoneType' object has no attribute 'replace'\n"
     ]
    },
    {
     "name": "stderr",
     "output_type": "stream",
     "text": [
      "2021-03-13 03:52:56,988 P[3528] [MainThread 10712] Error code 429 | Client Error: Too many requests, please try again later. Wait for 72424 seconds.\n",
      "2021-03-13 03:52:56,988 P[3528] [MainThread 10712] HTTP request failed: EikonError-Client Error: Too many requests, please try again later. Wait for 72424 seconds.\n"
     ]
    },
    {
     "name": "stdout",
     "output_type": "stream",
     "text": [
      "\n",
      "STORY IS OK: False   ric_now: ABBV.N   ric_i: 39   story_i: 55\n",
      "'NoneType' object has no attribute 'replace'\n"
     ]
    },
    {
     "name": "stderr",
     "output_type": "stream",
     "text": [
      "2021-03-13 03:53:02,099 P[3528] [MainThread 10712] Error code 429 | Client Error: Too many requests, please try again later. Wait for 72418 seconds.\n",
      "2021-03-13 03:53:02,099 P[3528] [MainThread 10712] HTTP request failed: EikonError-Client Error: Too many requests, please try again later. Wait for 72418 seconds.\n"
     ]
    },
    {
     "name": "stdout",
     "output_type": "stream",
     "text": [
      "\n",
      "STORY IS OK: False   ric_now: ABBV.N   ric_i: 39   story_i: 56\n",
      "'NoneType' object has no attribute 'replace'\n"
     ]
    },
    {
     "name": "stderr",
     "output_type": "stream",
     "text": [
      "2021-03-13 03:53:07,208 P[3528] [MainThread 10712] Error code 429 | Client Error: Too many requests, please try again later. Wait for 72413 seconds.\n",
      "2021-03-13 03:53:07,209 P[3528] [MainThread 10712] HTTP request failed: EikonError-Client Error: Too many requests, please try again later. Wait for 72413 seconds.\n"
     ]
    },
    {
     "name": "stdout",
     "output_type": "stream",
     "text": [
      "\n",
      "STORY IS OK: False   ric_now: ABBV.N   ric_i: 39   story_i: 57\n",
      "'NoneType' object has no attribute 'replace'\n"
     ]
    },
    {
     "name": "stderr",
     "output_type": "stream",
     "text": [
      "2021-03-13 03:53:12,311 P[3528] [MainThread 10712] Error code 429 | Client Error: Too many requests, please try again later. Wait for 72408 seconds.\n",
      "2021-03-13 03:53:12,312 P[3528] [MainThread 10712] HTTP request failed: EikonError-Client Error: Too many requests, please try again later. Wait for 72408 seconds.\n"
     ]
    },
    {
     "name": "stdout",
     "output_type": "stream",
     "text": [
      "\n",
      "STORY IS OK: False   ric_now: ABBV.N   ric_i: 39   story_i: 58\n",
      "'NoneType' object has no attribute 'replace'\n"
     ]
    },
    {
     "name": "stderr",
     "output_type": "stream",
     "text": [
      "2021-03-13 03:53:17,409 P[3528] [MainThread 10712] Error code 429 | Client Error: Too many requests, please try again later. Wait for 72403 seconds.\n",
      "2021-03-13 03:53:17,410 P[3528] [MainThread 10712] HTTP request failed: EikonError-Client Error: Too many requests, please try again later. Wait for 72403 seconds.\n"
     ]
    },
    {
     "name": "stdout",
     "output_type": "stream",
     "text": [
      "\n",
      "STORY IS OK: False   ric_now: ABBV.N   ric_i: 39   story_i: 59\n",
      "'NoneType' object has no attribute 'replace'\n"
     ]
    },
    {
     "name": "stderr",
     "output_type": "stream",
     "text": [
      "2021-03-13 03:53:22,506 P[3528] [MainThread 10712] Error code 429 | Client Error: Too many requests, please try again later. Wait for 72398 seconds.\n",
      "2021-03-13 03:53:22,507 P[3528] [MainThread 10712] HTTP request failed: EikonError-Client Error: Too many requests, please try again later. Wait for 72398 seconds.\n"
     ]
    },
    {
     "name": "stdout",
     "output_type": "stream",
     "text": [
      "\n",
      "STORY IS OK: False   ric_now: ABBV.N   ric_i: 39   story_i: 60\n",
      "'NoneType' object has no attribute 'replace'\n"
     ]
    },
    {
     "name": "stderr",
     "output_type": "stream",
     "text": [
      "2021-03-13 03:53:27,608 P[3528] [MainThread 10712] Error code 429 | Client Error: Too many requests, please try again later. Wait for 72393 seconds.\n",
      "2021-03-13 03:53:27,608 P[3528] [MainThread 10712] HTTP request failed: EikonError-Client Error: Too many requests, please try again later. Wait for 72393 seconds.\n"
     ]
    },
    {
     "name": "stdout",
     "output_type": "stream",
     "text": [
      "\n",
      "STORY IS OK: False   ric_now: ABBV.N   ric_i: 39   story_i: 61\n",
      "'NoneType' object has no attribute 'replace'\n"
     ]
    },
    {
     "name": "stderr",
     "output_type": "stream",
     "text": [
      "2021-03-13 03:53:32,707 P[3528] [MainThread 10712] Error code 429 | Client Error: Too many requests, please try again later. Wait for 72388 seconds.\n",
      "2021-03-13 03:53:32,707 P[3528] [MainThread 10712] HTTP request failed: EikonError-Client Error: Too many requests, please try again later. Wait for 72388 seconds.\n"
     ]
    },
    {
     "name": "stdout",
     "output_type": "stream",
     "text": [
      "\n",
      "STORY IS OK: False   ric_now: ABBV.N   ric_i: 39   story_i: 62\n",
      "'NoneType' object has no attribute 'replace'\n"
     ]
    },
    {
     "name": "stderr",
     "output_type": "stream",
     "text": [
      "2021-03-13 03:53:37,809 P[3528] [MainThread 10712] Error code 429 | Client Error: Too many requests, please try again later. Wait for 72383 seconds.\n",
      "2021-03-13 03:53:37,809 P[3528] [MainThread 10712] HTTP request failed: EikonError-Client Error: Too many requests, please try again later. Wait for 72383 seconds.\n"
     ]
    },
    {
     "name": "stdout",
     "output_type": "stream",
     "text": [
      "\n",
      "STORY IS OK: False   ric_now: ABBV.N   ric_i: 39   story_i: 63\n",
      "'NoneType' object has no attribute 'replace'\n"
     ]
    },
    {
     "name": "stderr",
     "output_type": "stream",
     "text": [
      "2021-03-13 03:53:42,907 P[3528] [MainThread 10712] Error code 429 | Client Error: Too many requests, please try again later. Wait for 72378 seconds.\n",
      "2021-03-13 03:53:42,908 P[3528] [MainThread 10712] HTTP request failed: EikonError-Client Error: Too many requests, please try again later. Wait for 72378 seconds.\n"
     ]
    },
    {
     "name": "stdout",
     "output_type": "stream",
     "text": [
      "\n",
      "STORY IS OK: False   ric_now: ABBV.N   ric_i: 39   story_i: 64\n",
      "'NoneType' object has no attribute 'replace'\n"
     ]
    },
    {
     "name": "stderr",
     "output_type": "stream",
     "text": [
      "2021-03-13 03:53:48,014 P[3528] [MainThread 10712] Error code 429 | Client Error: Too many requests, please try again later. Wait for 72372 seconds.\n",
      "2021-03-13 03:53:48,015 P[3528] [MainThread 10712] HTTP request failed: EikonError-Client Error: Too many requests, please try again later. Wait for 72372 seconds.\n"
     ]
    },
    {
     "name": "stdout",
     "output_type": "stream",
     "text": [
      "\n",
      "STORY IS OK: False   ric_now: ABBV.N   ric_i: 39   story_i: 65\n",
      "'NoneType' object has no attribute 'replace'\n"
     ]
    },
    {
     "name": "stderr",
     "output_type": "stream",
     "text": [
      "2021-03-13 03:53:53,115 P[3528] [MainThread 10712] Error code 429 | Client Error: Too many requests, please try again later. Wait for 72367 seconds.\n",
      "2021-03-13 03:53:53,116 P[3528] [MainThread 10712] HTTP request failed: EikonError-Client Error: Too many requests, please try again later. Wait for 72367 seconds.\n"
     ]
    },
    {
     "name": "stdout",
     "output_type": "stream",
     "text": [
      "\n",
      "STORY IS OK: False   ric_now: ABBV.N   ric_i: 39   story_i: 66\n",
      "'NoneType' object has no attribute 'replace'\n"
     ]
    },
    {
     "name": "stderr",
     "output_type": "stream",
     "text": [
      "2021-03-13 03:53:58,220 P[3528] [MainThread 10712] Error code 429 | Client Error: Too many requests, please try again later. Wait for 72362 seconds.\n",
      "2021-03-13 03:53:58,221 P[3528] [MainThread 10712] HTTP request failed: EikonError-Client Error: Too many requests, please try again later. Wait for 72362 seconds.\n"
     ]
    },
    {
     "name": "stdout",
     "output_type": "stream",
     "text": [
      "\n",
      "STORY IS OK: False   ric_now: ABBV.N   ric_i: 39   story_i: 67\n",
      "'NoneType' object has no attribute 'replace'\n"
     ]
    },
    {
     "name": "stderr",
     "output_type": "stream",
     "text": [
      "2021-03-13 03:54:03,318 P[3528] [MainThread 10712] Error code 429 | Client Error: Too many requests, please try again later. Wait for 72357 seconds.\n",
      "2021-03-13 03:54:03,318 P[3528] [MainThread 10712] HTTP request failed: EikonError-Client Error: Too many requests, please try again later. Wait for 72357 seconds.\n"
     ]
    },
    {
     "name": "stdout",
     "output_type": "stream",
     "text": [
      "\n",
      "STORY IS OK: False   ric_now: ABBV.N   ric_i: 39   story_i: 68\n",
      "'NoneType' object has no attribute 'replace'\n"
     ]
    },
    {
     "name": "stderr",
     "output_type": "stream",
     "text": [
      "2021-03-13 03:54:08,424 P[3528] [MainThread 10712] Error code 429 | Client Error: Too many requests, please try again later. Wait for 72352 seconds.\n",
      "2021-03-13 03:54:08,425 P[3528] [MainThread 10712] HTTP request failed: EikonError-Client Error: Too many requests, please try again later. Wait for 72352 seconds.\n"
     ]
    },
    {
     "name": "stdout",
     "output_type": "stream",
     "text": [
      "\n",
      "STORY IS OK: False   ric_now: ABBV.N   ric_i: 39   story_i: 69\n",
      "'NoneType' object has no attribute 'replace'\n"
     ]
    },
    {
     "name": "stderr",
     "output_type": "stream",
     "text": [
      "2021-03-13 03:54:13,524 P[3528] [MainThread 10712] Error code 429 | Client Error: Too many requests, please try again later. Wait for 72347 seconds.\n",
      "2021-03-13 03:54:13,525 P[3528] [MainThread 10712] HTTP request failed: EikonError-Client Error: Too many requests, please try again later. Wait for 72347 seconds.\n"
     ]
    },
    {
     "name": "stdout",
     "output_type": "stream",
     "text": [
      "\n",
      "STORY IS OK: False   ric_now: ABBV.N   ric_i: 39   story_i: 70\n",
      "'NoneType' object has no attribute 'replace'\n"
     ]
    },
    {
     "name": "stderr",
     "output_type": "stream",
     "text": [
      "2021-03-13 03:54:18,622 P[3528] [MainThread 10712] Error code 429 | Client Error: Too many requests, please try again later. Wait for 72342 seconds.\n",
      "2021-03-13 03:54:18,622 P[3528] [MainThread 10712] HTTP request failed: EikonError-Client Error: Too many requests, please try again later. Wait for 72342 seconds.\n"
     ]
    },
    {
     "name": "stdout",
     "output_type": "stream",
     "text": [
      "\n",
      "STORY IS OK: False   ric_now: ABBV.N   ric_i: 39   story_i: 71\n",
      "'NoneType' object has no attribute 'replace'\n"
     ]
    },
    {
     "name": "stderr",
     "output_type": "stream",
     "text": [
      "2021-03-13 03:54:23,721 P[3528] [MainThread 10712] Error code 429 | Client Error: Too many requests, please try again later. Wait for 72337 seconds.\n",
      "2021-03-13 03:54:23,721 P[3528] [MainThread 10712] HTTP request failed: EikonError-Client Error: Too many requests, please try again later. Wait for 72337 seconds.\n"
     ]
    },
    {
     "name": "stdout",
     "output_type": "stream",
     "text": [
      "\n",
      "STORY IS OK: False   ric_now: ABBV.N   ric_i: 39   story_i: 72\n",
      "'NoneType' object has no attribute 'replace'\n"
     ]
    },
    {
     "name": "stderr",
     "output_type": "stream",
     "text": [
      "2021-03-13 03:54:28,814 P[3528] [MainThread 10712] Error code 429 | Client Error: Too many requests, please try again later. Wait for 72332 seconds.\n",
      "2021-03-13 03:54:28,815 P[3528] [MainThread 10712] HTTP request failed: EikonError-Client Error: Too many requests, please try again later. Wait for 72332 seconds.\n"
     ]
    },
    {
     "name": "stdout",
     "output_type": "stream",
     "text": [
      "\n",
      "STORY IS OK: False   ric_now: ABBV.N   ric_i: 39   story_i: 73\n",
      "'NoneType' object has no attribute 'replace'\n"
     ]
    },
    {
     "name": "stderr",
     "output_type": "stream",
     "text": [
      "2021-03-13 03:54:33,914 P[3528] [MainThread 10712] Error code 429 | Client Error: Too many requests, please try again later. Wait for 72327 seconds.\n",
      "2021-03-13 03:54:33,914 P[3528] [MainThread 10712] HTTP request failed: EikonError-Client Error: Too many requests, please try again later. Wait for 72327 seconds.\n"
     ]
    },
    {
     "name": "stdout",
     "output_type": "stream",
     "text": [
      "\n",
      "STORY IS OK: False   ric_now: ABBV.N   ric_i: 39   story_i: 74\n",
      "'NoneType' object has no attribute 'replace'\n"
     ]
    },
    {
     "name": "stderr",
     "output_type": "stream",
     "text": [
      "2021-03-13 03:54:39,015 P[3528] [MainThread 10712] Error code 429 | Client Error: Too many requests, please try again later. Wait for 72321 seconds.\n",
      "2021-03-13 03:54:39,015 P[3528] [MainThread 10712] HTTP request failed: EikonError-Client Error: Too many requests, please try again later. Wait for 72321 seconds.\n"
     ]
    },
    {
     "name": "stdout",
     "output_type": "stream",
     "text": [
      "\n",
      "STORY IS OK: False   ric_now: ABBV.N   ric_i: 39   story_i: 75\n",
      "'NoneType' object has no attribute 'replace'\n"
     ]
    },
    {
     "name": "stderr",
     "output_type": "stream",
     "text": [
      "2021-03-13 03:54:44,110 P[3528] [MainThread 10712] Error code 429 | Client Error: Too many requests, please try again later. Wait for 72316 seconds.\n",
      "2021-03-13 03:54:44,110 P[3528] [MainThread 10712] HTTP request failed: EikonError-Client Error: Too many requests, please try again later. Wait for 72316 seconds.\n"
     ]
    },
    {
     "name": "stdout",
     "output_type": "stream",
     "text": [
      "\n",
      "STORY IS OK: False   ric_now: ABBV.N   ric_i: 39   story_i: 76\n",
      "'NoneType' object has no attribute 'replace'\n"
     ]
    },
    {
     "name": "stderr",
     "output_type": "stream",
     "text": [
      "2021-03-13 03:54:49,212 P[3528] [MainThread 10712] Error code 429 | Client Error: Too many requests, please try again later. Wait for 72311 seconds.\n",
      "2021-03-13 03:54:49,213 P[3528] [MainThread 10712] HTTP request failed: EikonError-Client Error: Too many requests, please try again later. Wait for 72311 seconds.\n"
     ]
    },
    {
     "name": "stdout",
     "output_type": "stream",
     "text": [
      "\n",
      "STORY IS OK: False   ric_now: ABBV.N   ric_i: 39   story_i: 77\n",
      "'NoneType' object has no attribute 'replace'\n"
     ]
    },
    {
     "name": "stderr",
     "output_type": "stream",
     "text": [
      "2021-03-13 03:54:54,311 P[3528] [MainThread 10712] Error code 429 | Client Error: Too many requests, please try again later. Wait for 72306 seconds.\n",
      "2021-03-13 03:54:54,312 P[3528] [MainThread 10712] HTTP request failed: EikonError-Client Error: Too many requests, please try again later. Wait for 72306 seconds.\n"
     ]
    },
    {
     "name": "stdout",
     "output_type": "stream",
     "text": [
      "\n",
      "STORY IS OK: False   ric_now: ABBV.N   ric_i: 39   story_i: 78\n",
      "'NoneType' object has no attribute 'replace'\n"
     ]
    },
    {
     "name": "stderr",
     "output_type": "stream",
     "text": [
      "2021-03-13 03:54:59,419 P[3528] [MainThread 10712] Error code 429 | Client Error: Too many requests, please try again later. Wait for 72301 seconds.\n",
      "2021-03-13 03:54:59,419 P[3528] [MainThread 10712] HTTP request failed: EikonError-Client Error: Too many requests, please try again later. Wait for 72301 seconds.\n"
     ]
    },
    {
     "name": "stdout",
     "output_type": "stream",
     "text": [
      "\n",
      "STORY IS OK: False   ric_now: ABBV.N   ric_i: 39   story_i: 79\n",
      "'NoneType' object has no attribute 'replace'\n"
     ]
    },
    {
     "name": "stderr",
     "output_type": "stream",
     "text": [
      "2021-03-13 03:55:04,526 P[3528] [MainThread 10712] Error code 429 | Client Error: Too many requests, please try again later. Wait for 72296 seconds.\n",
      "2021-03-13 03:55:04,526 P[3528] [MainThread 10712] HTTP request failed: EikonError-Client Error: Too many requests, please try again later. Wait for 72296 seconds.\n"
     ]
    },
    {
     "name": "stdout",
     "output_type": "stream",
     "text": [
      "\n",
      "STORY IS OK: False   ric_now: ABBV.N   ric_i: 39   story_i: 80\n",
      "'NoneType' object has no attribute 'replace'\n"
     ]
    },
    {
     "name": "stderr",
     "output_type": "stream",
     "text": [
      "2021-03-13 03:55:09,635 P[3528] [MainThread 10712] Error code 429 | Client Error: Too many requests, please try again later. Wait for 72291 seconds.\n",
      "2021-03-13 03:55:09,636 P[3528] [MainThread 10712] HTTP request failed: EikonError-Client Error: Too many requests, please try again later. Wait for 72291 seconds.\n"
     ]
    },
    {
     "name": "stdout",
     "output_type": "stream",
     "text": [
      "\n",
      "STORY IS OK: False   ric_now: ABBV.N   ric_i: 39   story_i: 81\n",
      "'NoneType' object has no attribute 'replace'\n"
     ]
    },
    {
     "name": "stderr",
     "output_type": "stream",
     "text": [
      "2021-03-13 03:55:14,739 P[3528] [MainThread 10712] Error code 429 | Client Error: Too many requests, please try again later. Wait for 72286 seconds.\n",
      "2021-03-13 03:55:14,740 P[3528] [MainThread 10712] HTTP request failed: EikonError-Client Error: Too many requests, please try again later. Wait for 72286 seconds.\n"
     ]
    },
    {
     "name": "stdout",
     "output_type": "stream",
     "text": [
      "\n",
      "STORY IS OK: False   ric_now: ABBV.N   ric_i: 39   story_i: 82\n",
      "'NoneType' object has no attribute 'replace'\n"
     ]
    },
    {
     "name": "stderr",
     "output_type": "stream",
     "text": [
      "2021-03-13 03:55:19,849 P[3528] [MainThread 10712] Error code 429 | Client Error: Too many requests, please try again later. Wait for 72281 seconds.\n",
      "2021-03-13 03:55:19,850 P[3528] [MainThread 10712] HTTP request failed: EikonError-Client Error: Too many requests, please try again later. Wait for 72281 seconds.\n"
     ]
    },
    {
     "name": "stdout",
     "output_type": "stream",
     "text": [
      "\n",
      "STORY IS OK: False   ric_now: ABBV.N   ric_i: 39   story_i: 83\n",
      "'NoneType' object has no attribute 'replace'\n"
     ]
    },
    {
     "name": "stderr",
     "output_type": "stream",
     "text": [
      "2021-03-13 03:55:24,956 P[3528] [MainThread 10712] Error code 429 | Client Error: Too many requests, please try again later. Wait for 72276 seconds.\n",
      "2021-03-13 03:55:24,957 P[3528] [MainThread 10712] HTTP request failed: EikonError-Client Error: Too many requests, please try again later. Wait for 72276 seconds.\n"
     ]
    },
    {
     "name": "stdout",
     "output_type": "stream",
     "text": [
      "\n",
      "STORY IS OK: False   ric_now: ABBV.N   ric_i: 39   story_i: 84\n",
      "'NoneType' object has no attribute 'replace'\n"
     ]
    },
    {
     "name": "stderr",
     "output_type": "stream",
     "text": [
      "2021-03-13 03:55:30,062 P[3528] [MainThread 10712] Error code 429 | Client Error: Too many requests, please try again later. Wait for 72270 seconds.\n",
      "2021-03-13 03:55:30,062 P[3528] [MainThread 10712] HTTP request failed: EikonError-Client Error: Too many requests, please try again later. Wait for 72270 seconds.\n"
     ]
    },
    {
     "name": "stdout",
     "output_type": "stream",
     "text": [
      "\n",
      "STORY IS OK: False   ric_now: ABBV.N   ric_i: 39   story_i: 85\n",
      "'NoneType' object has no attribute 'replace'\n"
     ]
    },
    {
     "name": "stderr",
     "output_type": "stream",
     "text": [
      "2021-03-13 03:55:35,167 P[3528] [MainThread 10712] Error code 429 | Client Error: Too many requests, please try again later. Wait for 72265 seconds.\n",
      "2021-03-13 03:55:35,168 P[3528] [MainThread 10712] HTTP request failed: EikonError-Client Error: Too many requests, please try again later. Wait for 72265 seconds.\n"
     ]
    },
    {
     "name": "stdout",
     "output_type": "stream",
     "text": [
      "\n",
      "STORY IS OK: False   ric_now: ABBV.N   ric_i: 39   story_i: 86\n",
      "'NoneType' object has no attribute 'replace'\n"
     ]
    },
    {
     "name": "stderr",
     "output_type": "stream",
     "text": [
      "2021-03-13 03:55:40,271 P[3528] [MainThread 10712] Error code 429 | Client Error: Too many requests, please try again later. Wait for 72260 seconds.\n",
      "2021-03-13 03:55:40,272 P[3528] [MainThread 10712] HTTP request failed: EikonError-Client Error: Too many requests, please try again later. Wait for 72260 seconds.\n"
     ]
    },
    {
     "name": "stdout",
     "output_type": "stream",
     "text": [
      "\n",
      "STORY IS OK: False   ric_now: ABBV.N   ric_i: 39   story_i: 87\n",
      "'NoneType' object has no attribute 'replace'\n"
     ]
    },
    {
     "name": "stderr",
     "output_type": "stream",
     "text": [
      "2021-03-13 03:55:45,378 P[3528] [MainThread 10712] Error code 429 | Client Error: Too many requests, please try again later. Wait for 72255 seconds.\n",
      "2021-03-13 03:55:45,378 P[3528] [MainThread 10712] HTTP request failed: EikonError-Client Error: Too many requests, please try again later. Wait for 72255 seconds.\n"
     ]
    },
    {
     "name": "stdout",
     "output_type": "stream",
     "text": [
      "\n",
      "STORY IS OK: False   ric_now: ABBV.N   ric_i: 39   story_i: 88\n",
      "'NoneType' object has no attribute 'replace'\n"
     ]
    },
    {
     "name": "stderr",
     "output_type": "stream",
     "text": [
      "2021-03-13 03:55:50,487 P[3528] [MainThread 10712] Error code 429 | Client Error: Too many requests, please try again later. Wait for 72250 seconds.\n",
      "2021-03-13 03:55:50,487 P[3528] [MainThread 10712] HTTP request failed: EikonError-Client Error: Too many requests, please try again later. Wait for 72250 seconds.\n"
     ]
    },
    {
     "name": "stdout",
     "output_type": "stream",
     "text": [
      "\n",
      "STORY IS OK: False   ric_now: ABBV.N   ric_i: 39   story_i: 89\n",
      "'NoneType' object has no attribute 'replace'\n"
     ]
    },
    {
     "name": "stderr",
     "output_type": "stream",
     "text": [
      "2021-03-13 03:55:55,594 P[3528] [MainThread 10712] Error code 429 | Client Error: Too many requests, please try again later. Wait for 72245 seconds.\n",
      "2021-03-13 03:55:55,595 P[3528] [MainThread 10712] HTTP request failed: EikonError-Client Error: Too many requests, please try again later. Wait for 72245 seconds.\n"
     ]
    },
    {
     "name": "stdout",
     "output_type": "stream",
     "text": [
      "\n",
      "STORY IS OK: False   ric_now: ABBV.N   ric_i: 39   story_i: 90\n",
      "'NoneType' object has no attribute 'replace'\n"
     ]
    },
    {
     "name": "stderr",
     "output_type": "stream",
     "text": [
      "2021-03-13 03:56:00,688 P[3528] [MainThread 10712] Error code 429 | Client Error: Too many requests, please try again later. Wait for 72240 seconds.\n",
      "2021-03-13 03:56:00,689 P[3528] [MainThread 10712] HTTP request failed: EikonError-Client Error: Too many requests, please try again later. Wait for 72240 seconds.\n"
     ]
    },
    {
     "name": "stdout",
     "output_type": "stream",
     "text": [
      "\n",
      "STORY IS OK: False   ric_now: ABBV.N   ric_i: 39   story_i: 91\n",
      "'NoneType' object has no attribute 'replace'\n"
     ]
    },
    {
     "name": "stderr",
     "output_type": "stream",
     "text": [
      "2021-03-13 03:56:05,795 P[3528] [MainThread 10712] Error code 429 | Client Error: Too many requests, please try again later. Wait for 72235 seconds.\n",
      "2021-03-13 03:56:05,796 P[3528] [MainThread 10712] HTTP request failed: EikonError-Client Error: Too many requests, please try again later. Wait for 72235 seconds.\n"
     ]
    },
    {
     "name": "stdout",
     "output_type": "stream",
     "text": [
      "\n",
      "STORY IS OK: False   ric_now: ABBV.N   ric_i: 39   story_i: 92\n",
      "'NoneType' object has no attribute 'replace'\n"
     ]
    },
    {
     "name": "stderr",
     "output_type": "stream",
     "text": [
      "2021-03-13 03:56:10,896 P[3528] [MainThread 10712] Error code 429 | Client Error: Too many requests, please try again later. Wait for 72230 seconds.\n",
      "2021-03-13 03:56:10,897 P[3528] [MainThread 10712] HTTP request failed: EikonError-Client Error: Too many requests, please try again later. Wait for 72230 seconds.\n"
     ]
    },
    {
     "name": "stdout",
     "output_type": "stream",
     "text": [
      "\n",
      "STORY IS OK: False   ric_now: ABBV.N   ric_i: 39   story_i: 93\n",
      "'NoneType' object has no attribute 'replace'\n"
     ]
    },
    {
     "name": "stderr",
     "output_type": "stream",
     "text": [
      "2021-03-13 03:56:15,996 P[3528] [MainThread 10712] Error code 429 | Client Error: Too many requests, please try again later. Wait for 72225 seconds.\n",
      "2021-03-13 03:56:15,997 P[3528] [MainThread 10712] HTTP request failed: EikonError-Client Error: Too many requests, please try again later. Wait for 72225 seconds.\n"
     ]
    },
    {
     "name": "stdout",
     "output_type": "stream",
     "text": [
      "\n",
      "STORY IS OK: False   ric_now: ABBV.N   ric_i: 39   story_i: 94\n",
      "'NoneType' object has no attribute 'replace'\n"
     ]
    },
    {
     "name": "stderr",
     "output_type": "stream",
     "text": [
      "2021-03-13 03:56:21,102 P[3528] [MainThread 10712] Error code 429 | Client Error: Too many requests, please try again later. Wait for 72219 seconds.\n",
      "2021-03-13 03:56:21,103 P[3528] [MainThread 10712] HTTP request failed: EikonError-Client Error: Too many requests, please try again later. Wait for 72219 seconds.\n"
     ]
    },
    {
     "name": "stdout",
     "output_type": "stream",
     "text": [
      "\n",
      "STORY IS OK: False   ric_now: ABBV.N   ric_i: 39   story_i: 95\n",
      "'NoneType' object has no attribute 'replace'\n"
     ]
    },
    {
     "name": "stderr",
     "output_type": "stream",
     "text": [
      "2021-03-13 03:56:26,201 P[3528] [MainThread 10712] Error code 429 | Client Error: Too many requests, please try again later. Wait for 72214 seconds.\n",
      "2021-03-13 03:56:26,201 P[3528] [MainThread 10712] HTTP request failed: EikonError-Client Error: Too many requests, please try again later. Wait for 72214 seconds.\n"
     ]
    },
    {
     "name": "stdout",
     "output_type": "stream",
     "text": [
      "\n",
      "STORY IS OK: False   ric_now: ABBV.N   ric_i: 39   story_i: 96\n",
      "'NoneType' object has no attribute 'replace'\n"
     ]
    },
    {
     "name": "stderr",
     "output_type": "stream",
     "text": [
      "2021-03-13 03:56:31,304 P[3528] [MainThread 10712] Error code 429 | Client Error: Too many requests, please try again later. Wait for 72209 seconds.\n",
      "2021-03-13 03:56:31,304 P[3528] [MainThread 10712] HTTP request failed: EikonError-Client Error: Too many requests, please try again later. Wait for 72209 seconds.\n"
     ]
    },
    {
     "name": "stdout",
     "output_type": "stream",
     "text": [
      "\n",
      "STORY IS OK: False   ric_now: ABBV.N   ric_i: 39   story_i: 97\n",
      "'NoneType' object has no attribute 'replace'\n"
     ]
    },
    {
     "name": "stderr",
     "output_type": "stream",
     "text": [
      "2021-03-13 03:56:36,404 P[3528] [MainThread 10712] Error code 429 | Client Error: Too many requests, please try again later. Wait for 72204 seconds.\n",
      "2021-03-13 03:56:36,404 P[3528] [MainThread 10712] HTTP request failed: EikonError-Client Error: Too many requests, please try again later. Wait for 72204 seconds.\n"
     ]
    },
    {
     "name": "stdout",
     "output_type": "stream",
     "text": [
      "\n",
      "STORY IS OK: False   ric_now: ABBV.N   ric_i: 39   story_i: 98\n",
      "'NoneType' object has no attribute 'replace'\n"
     ]
    },
    {
     "name": "stderr",
     "output_type": "stream",
     "text": [
      "2021-03-13 03:56:41,508 P[3528] [MainThread 10712] Error code 429 | Client Error: Too many requests, please try again later. Wait for 72199 seconds.\n",
      "2021-03-13 03:56:41,508 P[3528] [MainThread 10712] HTTP request failed: EikonError-Client Error: Too many requests, please try again later. Wait for 72199 seconds.\n"
     ]
    },
    {
     "name": "stdout",
     "output_type": "stream",
     "text": [
      "\n",
      "STORY IS OK: False   ric_now: ABBV.N   ric_i: 39   story_i: 99\n",
      "'NoneType' object has no attribute 'replace'\n"
     ]
    },
    {
     "name": "stderr",
     "output_type": "stream",
     "text": [
      "2021-03-13 03:56:46,791 P[3528] [MainThread 10712] Error code 429 | Client Error: Too many requests, please try again later. Wait for 72194 seconds.\n",
      "2021-03-13 03:56:46,792 P[3528] [MainThread 10712] HTTP request failed: EikonError-Client Error: Too many requests, please try again later. Wait for 72194 seconds.\n"
     ]
    },
    {
     "name": "stdout",
     "output_type": "stream",
     "text": [
      "\n",
      "2021-03-13 03:56:46.688619 ABBV.N  ric_i: 39  headline_slice_i: 23  headline_number: 100  not null: 100 2020-04-27 17:03:55.441000+00:00\n",
      "(399203, 6)\n",
      "\n",
      "is_this_ric_in_all: True   up_to_date_ric: 2020-04-23 10:55:47.925000+00:00 \n",
      "Error when trying to get news headlines 0\n",
      "'NoneType' object is not subscriptable\n"
     ]
    },
    {
     "name": "stderr",
     "output_type": "stream",
     "text": [
      "2021-03-13 03:56:51,804 P[3528] [MainThread 10712] Error code 429 | Client Error: Too many requests, please try again later. Wait for 72189 seconds.\n",
      "2021-03-13 03:56:51,805 P[3528] [MainThread 10712] HTTP request failed: EikonError-Client Error: Too many requests, please try again later. Wait for 72189 seconds.\n"
     ]
    },
    {
     "name": "stdout",
     "output_type": "stream",
     "text": [
      "\n",
      "Error when trying to get news headlines 1\n",
      "'NoneType' object is not subscriptable\n"
     ]
    },
    {
     "name": "stderr",
     "output_type": "stream",
     "text": [
      "2021-03-13 03:56:56,820 P[3528] [MainThread 10712] Error code 429 | Client Error: Too many requests, please try again later. Wait for 72184 seconds.\n",
      "2021-03-13 03:56:56,821 P[3528] [MainThread 10712] HTTP request failed: EikonError-Client Error: Too many requests, please try again later. Wait for 72184 seconds.\n"
     ]
    },
    {
     "name": "stdout",
     "output_type": "stream",
     "text": [
      "\n",
      "Error when trying to get news headlines 2\n",
      "'NoneType' object is not subscriptable\n"
     ]
    },
    {
     "name": "stderr",
     "output_type": "stream",
     "text": [
      "2021-03-13 03:57:01,833 P[3528] [MainThread 10712] Error code 429 | Client Error: Too many requests, please try again later. Wait for 72179 seconds.\n",
      "2021-03-13 03:57:01,834 P[3528] [MainThread 10712] HTTP request failed: EikonError-Client Error: Too many requests, please try again later. Wait for 72179 seconds.\n"
     ]
    },
    {
     "name": "stdout",
     "output_type": "stream",
     "text": [
      "\n",
      "Error when trying to get news headlines 3\n",
      "'NoneType' object is not subscriptable\n"
     ]
    },
    {
     "name": "stderr",
     "output_type": "stream",
     "text": [
      "2021-03-13 03:57:06,848 P[3528] [MainThread 10712] Error code 429 | Client Error: Too many requests, please try again later. Wait for 72174 seconds.\n",
      "2021-03-13 03:57:06,849 P[3528] [MainThread 10712] HTTP request failed: EikonError-Client Error: Too many requests, please try again later. Wait for 72174 seconds.\n"
     ]
    },
    {
     "name": "stdout",
     "output_type": "stream",
     "text": [
      "\n",
      "Error when trying to get news headlines 4\n",
      "'NoneType' object is not subscriptable\n"
     ]
    },
    {
     "ename": "UnboundLocalError",
     "evalue": "local variable 'news_get_df' referenced before assignment",
     "output_type": "error",
     "traceback": [
      "\u001b[1;31m---------------------------------------------------------------------------\u001b[0m",
      "\u001b[1;31mUnboundLocalError\u001b[0m                         Traceback (most recent call last)",
      "\u001b[1;32m<ipython-input-142-fa67984758ec>\u001b[0m in \u001b[0;36m<module>\u001b[1;34m\u001b[0m\n\u001b[0;32m     42\u001b[0m             \u001b[0mric_now\u001b[0m\u001b[1;33m=\u001b[0m\u001b[0mric_now\u001b[0m\u001b[1;33m,\u001b[0m\u001b[1;33m\u001b[0m\u001b[1;33m\u001b[0m\u001b[0m\n\u001b[0;32m     43\u001b[0m             \u001b[0mheadlines_count_to_request\u001b[0m\u001b[1;33m=\u001b[0m\u001b[0mheadlines_count_to_request\u001b[0m\u001b[1;33m,\u001b[0m\u001b[1;33m\u001b[0m\u001b[1;33m\u001b[0m\u001b[0m\n\u001b[1;32m---> 44\u001b[1;33m             \u001b[0mup_to_date_ric\u001b[0m\u001b[1;33m=\u001b[0m\u001b[0mup_to_date_ric\u001b[0m\u001b[1;33m\u001b[0m\u001b[1;33m\u001b[0m\u001b[0m\n\u001b[0m\u001b[0;32m     45\u001b[0m         )\n\u001b[0;32m     46\u001b[0m \u001b[1;33m\u001b[0m\u001b[0m\n",
      "\u001b[1;32m<ipython-input-137-b6d7e417a66c>\u001b[0m in \u001b[0;36mget_news_headlines_with_some_tries\u001b[1;34m(ric_now, headlines_count_to_request, up_to_date_ric, max_num_tries)\u001b[0m\n\u001b[0;32m     25\u001b[0m             \u001b[0mtries_num\u001b[0m \u001b[1;33m=\u001b[0m \u001b[0mtries_num\u001b[0m \u001b[1;33m+\u001b[0m \u001b[1;36m1\u001b[0m\u001b[1;33m\u001b[0m\u001b[1;33m\u001b[0m\u001b[0m\n\u001b[0;32m     26\u001b[0m \u001b[1;33m\u001b[0m\u001b[0m\n\u001b[1;32m---> 27\u001b[1;33m     \u001b[0mprint\u001b[0m\u001b[1;33m(\u001b[0m\u001b[1;34m'news_get_df.shape:'\u001b[0m\u001b[1;33m,\u001b[0m \u001b[0mnews_get_df\u001b[0m\u001b[1;33m.\u001b[0m\u001b[0mshape\u001b[0m\u001b[1;33m[\u001b[0m\u001b[1;36m0\u001b[0m\u001b[1;33m]\u001b[0m\u001b[1;33m)\u001b[0m\u001b[1;33m\u001b[0m\u001b[1;33m\u001b[0m\u001b[0m\n\u001b[0m\u001b[0;32m     28\u001b[0m \u001b[1;33m\u001b[0m\u001b[0m\n\u001b[0;32m     29\u001b[0m     \u001b[1;32mreturn\u001b[0m \u001b[0mnews_get_df\u001b[0m\u001b[1;33m\u001b[0m\u001b[1;33m\u001b[0m\u001b[0m\n",
      "\u001b[1;31mUnboundLocalError\u001b[0m: local variable 'news_get_df' referenced before assignment"
     ]
    }
   ],
   "source": [
    "# Зададим, по какому df мы будет итерировать ric компании (её код на бирже).\n",
    "rics_to_loop_df = rics_usa_df\n",
    "rics_to_loop_df = rics_to_loop_df.reset_index(drop=True) # чтобы юзать .loc()\n",
    "\n",
    "# Зададим переменную, котролирующую количество выгружаемых за раз заголовков\n",
    "headlines_count_to_request = 100\n",
    "\n",
    "# Необходимо задать переменную до цикла как 100, далее она будет изменяться\n",
    "headlines_number = 100\n",
    "\n",
    "# Первый цикл будет итерировать компании.\n",
    "for ric_i in range(33, len(rics_to_loop_df)): # range(0, len(rics_to_loop_df))\n",
    "    \n",
    "    # Зададим переменную, которая скажет, какой сейчас итерируется ric.\n",
    "    ric_now = rics_to_loop_df.loc[ric_i, \"ric\"]\n",
    "    print(ric_i, ric_now)\n",
    "    \n",
    "    # Цикл, который прогоняет запросы заголовков.\n",
    "    # Зададим для него параметр. Прибавим +1, если исчерпали новости.\n",
    "    last_headlines_request = False\n",
    "    # Будем вести счёт итерацию цикла While для выгрузки заголовков\n",
    "    headlines_slice_i = 0\n",
    "    # Для выкачивания заголовков нужно задать дату, до которой делаем запрос.\n",
    "    # Если такого ric нет в all_headlines_df со всеми новостями,\n",
    "    # то не будет задавать дату, до которой выкачивать заголовки.\n",
    "    # Если такой ric есть в all_headlines_df со всеми новостями,\n",
    "    # то возьмём минимальную дату из all_headlines_df со всеми новостями\n",
    "    while not last_headlines_request:\n",
    "        \n",
    "        # That function returns the param for ek.get_news_headlines method\n",
    "        # That param means the datetime slice of news to be collected\n",
    "        up_to_date_ric = set_value_of_up_to_date_ric(\n",
    "            ric_now=ric_now,\n",
    "            df_with_news_to_check=all_headlines_df,\n",
    "            column_name_with_rics='ric',\n",
    "            column_name_with_dates='versionCreated'\n",
    "        )\n",
    "        \n",
    "        # That function returns df with news headlines after several tries\n",
    "        news_get_df = get_news_headlines_with_some_tries(\n",
    "            max_num_tries=5,\n",
    "            ric_now=ric_now,\n",
    "            headlines_count_to_request=headlines_count_to_request,\n",
    "            up_to_date_ric=up_to_date_ric\n",
    "        )\n",
    "        \n",
    "        # Some df changes before adding full news text to that df\n",
    "        news_get_df = prepare_headlines_df_to_adding_news_story(\n",
    "            ric_now, news_get_df)\n",
    "        \n",
    "        # Adding full text of news (stories) to df with headlines\n",
    "        news_get_df, quasi_logger = adding_news_stories_to_df_with_headlines(\n",
    "            news_get_df,\n",
    "            quasi_logger,\n",
    "            ric_i,\n",
    "            ric_now,\n",
    "            headlines_slice_i,\n",
    "            headlines_number,\n",
    "            up_to_date_ric,\n",
    "            col_name_with_story_id = 'storyId')\n",
    "        \n",
    "        # If at that moment news_get_df has less than 100 news,\n",
    "        # than it means we have exhausted news for that ric because of dates limitation.\n",
    "        # And we need to change ric_now that we iterate.\n",
    "        headlines_number = news_get_df.shape[0]\n",
    "        if headlines_number < 100:\n",
    "            last_headlines_request = True\n",
    "        \n",
    "        headlines_slice_i = headlines_slice_i + 1\n",
    "        \n",
    "        # At that moment news_get_df has the slice with headlines & full-text.\n",
    "        # Let's add that slice to all_headlines_df that has all news.\n",
    "        all_headlines_df = all_headlines_df.append(news_get_df, ignore_index = True)\n",
    "        print()\n",
    "        print(str(datetime.today()), ric_now, \n",
    "              ' ric_i:', ric_i,\n",
    "              ' headline_slice_i:', headlines_slice_i,\n",
    "              ' headline_number:', headlines_number,\n",
    "              ' not null:', news_get_df['story'].notna().sum(),\n",
    "              up_to_date_ric)\n",
    "        print(all_headlines_df.shape)\n",
    "        \n",
    "        # End of headlines iterations for one selected ric\n",
    "    \n",
    "#     # Save the version of all_headlines_df at every ric iteration\n",
    "#     save_file_as_new_file_without_replacing(\n",
    "#         path_project_folder=path_project_folder,\n",
    "#         folder_name_to_save=folder_name_headlines,\n",
    "#         file_to_save=all_headlines_df,\n",
    "#         file_short_name_add_to_path='all_headlines_df')\n",
    "    \n",
    "    # Save the version of quasi_logger at every ric iteration\n",
    "    save_file_as_new_file_without_replacing(\n",
    "        path_project_folder=path_project_folder,\n",
    "        folder_name_to_save=folder_name_logger,\n",
    "        file_to_save=quasi_logger,\n",
    "        file_short_name_add_to_path='quasi_logger')"
   ]
  },
  {
   "cell_type": "markdown",
   "metadata": {},
   "source": [
    "# Что выгрузили?"
   ]
  },
  {
   "cell_type": "code",
   "execution_count": 149,
   "metadata": {},
   "outputs": [
    {
     "data": {
      "text/html": [
       "<div>\n",
       "<style scoped>\n",
       "    .dataframe tbody tr th:only-of-type {\n",
       "        vertical-align: middle;\n",
       "    }\n",
       "\n",
       "    .dataframe tbody tr th {\n",
       "        vertical-align: top;\n",
       "    }\n",
       "\n",
       "    .dataframe thead th {\n",
       "        text-align: right;\n",
       "    }\n",
       "</style>\n",
       "<table border=\"1\" class=\"dataframe\">\n",
       "  <thead>\n",
       "    <tr style=\"text-align: right;\">\n",
       "      <th></th>\n",
       "      <th>ric</th>\n",
       "      <th>versionCreated</th>\n",
       "      <th>headline</th>\n",
       "      <th>storyId</th>\n",
       "      <th>sourceCode</th>\n",
       "      <th>story</th>\n",
       "    </tr>\n",
       "  </thead>\n",
       "  <tbody>\n",
       "    <tr>\n",
       "      <th>0</th>\n",
       "      <td>DTEGn.DE</td>\n",
       "      <td>2020-12-23 18:25:27.865000+00:00</td>\n",
       "      <td>IGN Igen Networks joins T-Mobile partner program</td>\n",
       "      <td>urn:newsml:reuters.com:20201223:nNRAdspppv:1</td>\n",
       "      <td>NS:CNSWCH</td>\n",
       "      <td>&lt;div class=\"storyContent\" lang=\"en\"&gt;&lt;style typ...</td>\n",
       "    </tr>\n",
       "    <tr>\n",
       "      <th>1</th>\n",
       "      <td>DTEGn.DE</td>\n",
       "      <td>2020-12-22 08:35:59.285000+00:00</td>\n",
       "      <td>(EN) Makedonski Telekom AD - Skopje Board Chan...</td>\n",
       "      <td>urn:newsml:reuters.com:20201222:nGLF4Kt1L3:2</td>\n",
       "      <td>NS:GLFILE</td>\n",
       "      <td>&lt;div class=\"storyContent\" lang=\"en\"&gt;&lt;p&gt;&lt;a href...</td>\n",
       "    </tr>\n",
       "    <tr>\n",
       "      <th>2</th>\n",
       "      <td>DTEGn.DE</td>\n",
       "      <td>2020-12-22 08:35:53.014000+00:00</td>\n",
       "      <td>(EN) Makedonski Telekom AD - Skopje Board Chan...</td>\n",
       "      <td>urn:newsml:reuters.com:20201222:nGLF2DBhZz:2</td>\n",
       "      <td>NS:GLFILE</td>\n",
       "      <td>&lt;div class=\"storyContent\" lang=\"en\"&gt;&lt;p&gt;&lt;a href...</td>\n",
       "    </tr>\n",
       "    <tr>\n",
       "      <th>3</th>\n",
       "      <td>DTEGn.DE</td>\n",
       "      <td>2020-12-21 13:08:03.993000+00:00</td>\n",
       "      <td>WFB (Bus), Anyone? T-Mobile Turns Red Rose Tra...</td>\n",
       "      <td>urn:newsml:reuters.com:20201221:nBw3VPZ4Qa:1</td>\n",
       "      <td>NS:BSW</td>\n",
       "      <td>&lt;div class=\"storyContent\" lang=\"en\"&gt;&lt;style typ...</td>\n",
       "    </tr>\n",
       "    <tr>\n",
       "      <th>4</th>\n",
       "      <td>DTEGn.DE</td>\n",
       "      <td>2020-12-19 09:00:00+00:00</td>\n",
       "      <td>HINTERGRUND-Internet überall dank Satellit und...</td>\n",
       "      <td>urn:newsml:reuters.com:20201219:nL8N2IY3D9:1</td>\n",
       "      <td>NS:RTRS</td>\n",
       "      <td>&lt;div class=\"storyContent\" lang=\"de\"&gt;&lt;style typ...</td>\n",
       "    </tr>\n",
       "    <tr>\n",
       "      <th>...</th>\n",
       "      <td>...</td>\n",
       "      <td>...</td>\n",
       "      <td>...</td>\n",
       "      <td>...</td>\n",
       "      <td>...</td>\n",
       "      <td>...</td>\n",
       "    </tr>\n",
       "    <tr>\n",
       "      <th>399136</th>\n",
       "      <td>ABBV.N</td>\n",
       "      <td>2020-04-27 10:33:15.133000+00:00</td>\n",
       "      <td>REG - BkofA Merrill Lynch AbbVie Inc. - Form 3...</td>\n",
       "      <td>urn:newsml:newsroom:20200427:nRSa9776Ka:0</td>\n",
       "      <td>NS:LSE</td>\n",
       "      <td>&lt;div class=\"storyContent\" lang=\"en\"&gt;&lt;style typ...</td>\n",
       "    </tr>\n",
       "    <tr>\n",
       "      <th>399137</th>\n",
       "      <td>ABBV.N</td>\n",
       "      <td>2020-04-27 10:33:13+00:00</td>\n",
       "      <td>REG - BkofA Merrill Lynch AbbVie Inc.  - Form ...</td>\n",
       "      <td>urn:newsml:reuters.com:20200427:nRSa9776Ka:1</td>\n",
       "      <td>NS:LSE</td>\n",
       "      <td>&lt;div class=\"storyContent\" lang=\"en\"&gt;&lt;style typ...</td>\n",
       "    </tr>\n",
       "    <tr>\n",
       "      <th>399138</th>\n",
       "      <td>ABBV.N</td>\n",
       "      <td>2020-04-27 10:27:04.641000+00:00</td>\n",
       "      <td>REG - Morgan Stanley Cap - Rule 38.5 - ABBVIE ...</td>\n",
       "      <td>urn:newsml:newsroom:20200427:nRSa9756Ka:0</td>\n",
       "      <td>NS:LSE</td>\n",
       "      <td>&lt;div class=\"storyContent\" lang=\"en\"&gt;&lt;style typ...</td>\n",
       "    </tr>\n",
       "    <tr>\n",
       "      <th>399139</th>\n",
       "      <td>ABBV.N</td>\n",
       "      <td>2020-04-27 10:23:34+00:00</td>\n",
       "      <td>REG - Morgan Stanley&amp;CoLLC - Rule 38.5 - Repla...</td>\n",
       "      <td>urn:newsml:newsroom:20200427:nRSa9749Ka:0</td>\n",
       "      <td>NS:LSE</td>\n",
       "      <td>&lt;div class=\"storyContent\" lang=\"en\"&gt;&lt;style typ...</td>\n",
       "    </tr>\n",
       "    <tr>\n",
       "      <th>399140</th>\n",
       "      <td>ABBV.N</td>\n",
       "      <td>2020-04-27 10:21:41+00:00</td>\n",
       "      <td>REG - Morgan Stanley &amp; Co. - Rule 38.5 - Repla...</td>\n",
       "      <td>urn:newsml:newsroom:20200427:nRSa9735Ka:0</td>\n",
       "      <td>NS:LSE</td>\n",
       "      <td>&lt;div class=\"storyContent\" lang=\"en\"&gt;&lt;style typ...</td>\n",
       "    </tr>\n",
       "  </tbody>\n",
       "</table>\n",
       "<p>399141 rows × 6 columns</p>\n",
       "</div>"
      ],
      "text/plain": [
       "             ric                   versionCreated  \\\n",
       "0       DTEGn.DE 2020-12-23 18:25:27.865000+00:00   \n",
       "1       DTEGn.DE 2020-12-22 08:35:59.285000+00:00   \n",
       "2       DTEGn.DE 2020-12-22 08:35:53.014000+00:00   \n",
       "3       DTEGn.DE 2020-12-21 13:08:03.993000+00:00   \n",
       "4       DTEGn.DE        2020-12-19 09:00:00+00:00   \n",
       "...          ...                              ...   \n",
       "399136    ABBV.N 2020-04-27 10:33:15.133000+00:00   \n",
       "399137    ABBV.N        2020-04-27 10:33:13+00:00   \n",
       "399138    ABBV.N 2020-04-27 10:27:04.641000+00:00   \n",
       "399139    ABBV.N        2020-04-27 10:23:34+00:00   \n",
       "399140    ABBV.N        2020-04-27 10:21:41+00:00   \n",
       "\n",
       "                                                 headline  \\\n",
       "0        IGN Igen Networks joins T-Mobile partner program   \n",
       "1       (EN) Makedonski Telekom AD - Skopje Board Chan...   \n",
       "2       (EN) Makedonski Telekom AD - Skopje Board Chan...   \n",
       "3       WFB (Bus), Anyone? T-Mobile Turns Red Rose Tra...   \n",
       "4       HINTERGRUND-Internet überall dank Satellit und...   \n",
       "...                                                   ...   \n",
       "399136  REG - BkofA Merrill Lynch AbbVie Inc. - Form 3...   \n",
       "399137  REG - BkofA Merrill Lynch AbbVie Inc.  - Form ...   \n",
       "399138  REG - Morgan Stanley Cap - Rule 38.5 - ABBVIE ...   \n",
       "399139  REG - Morgan Stanley&CoLLC - Rule 38.5 - Repla...   \n",
       "399140  REG - Morgan Stanley & Co. - Rule 38.5 - Repla...   \n",
       "\n",
       "                                             storyId sourceCode  \\\n",
       "0       urn:newsml:reuters.com:20201223:nNRAdspppv:1  NS:CNSWCH   \n",
       "1       urn:newsml:reuters.com:20201222:nGLF4Kt1L3:2  NS:GLFILE   \n",
       "2       urn:newsml:reuters.com:20201222:nGLF2DBhZz:2  NS:GLFILE   \n",
       "3       urn:newsml:reuters.com:20201221:nBw3VPZ4Qa:1     NS:BSW   \n",
       "4       urn:newsml:reuters.com:20201219:nL8N2IY3D9:1    NS:RTRS   \n",
       "...                                              ...        ...   \n",
       "399136     urn:newsml:newsroom:20200427:nRSa9776Ka:0     NS:LSE   \n",
       "399137  urn:newsml:reuters.com:20200427:nRSa9776Ka:1     NS:LSE   \n",
       "399138     urn:newsml:newsroom:20200427:nRSa9756Ka:0     NS:LSE   \n",
       "399139     urn:newsml:newsroom:20200427:nRSa9749Ka:0     NS:LSE   \n",
       "399140     urn:newsml:newsroom:20200427:nRSa9735Ka:0     NS:LSE   \n",
       "\n",
       "                                                    story  \n",
       "0       <div class=\"storyContent\" lang=\"en\"><style typ...  \n",
       "1       <div class=\"storyContent\" lang=\"en\"><p><a href...  \n",
       "2       <div class=\"storyContent\" lang=\"en\"><p><a href...  \n",
       "3       <div class=\"storyContent\" lang=\"en\"><style typ...  \n",
       "4       <div class=\"storyContent\" lang=\"de\"><style typ...  \n",
       "...                                                   ...  \n",
       "399136  <div class=\"storyContent\" lang=\"en\"><style typ...  \n",
       "399137  <div class=\"storyContent\" lang=\"en\"><style typ...  \n",
       "399138  <div class=\"storyContent\" lang=\"en\"><style typ...  \n",
       "399139  <div class=\"storyContent\" lang=\"en\"><style typ...  \n",
       "399140  <div class=\"storyContent\" lang=\"en\"><style typ...  \n",
       "\n",
       "[399141 rows x 6 columns]"
      ]
     },
     "execution_count": 149,
     "metadata": {},
     "output_type": "execute_result"
    }
   ],
   "source": [
    "all_headlines_df"
   ]
  },
  {
   "cell_type": "code",
   "execution_count": 150,
   "metadata": {},
   "outputs": [
    {
     "data": {
      "image/png": "[encoded data removed]",
      "text/plain": [
       "<Figure size 1440x480 with 1 Axes>"
      ]
     },
     "metadata": {},
     "output_type": "display_data"
    }
   ],
   "source": [
    "all_headlines_df['versionCreated'].plot(figsize=(18,6))\n",
    "plt.xlabel('Index of object in df')\n",
    "plt.ylabel('Release date')\n",
    "plt.title('News release dates of obtained texts')\n",
    "# plt.grid(True, axis='x')\n",
    "plt.savefig(path_project_folder + 'exhibits_saved/'+ 'News release dates of obtained texts', bbox_inches = \"tight\")"
   ]
  },
  {
   "cell_type": "code",
   "execution_count": 163,
   "metadata": {},
   "outputs": [
    {
     "name": "stderr",
     "output_type": "stream",
     "text": [
      "c:\\python37\\lib\\site-packages\\IPython\\core\\interactiveshell.py:3147: DtypeWarning: Columns (0,7,9,10) have mixed types.Specify dtype option on import or set low_memory=False.\n",
      "  interactivity=interactivity, compiler=compiler, result=result)\n"
     ]
    }
   ],
   "source": [
    "quasi_logger2 = pd.read_csv('C:/DAN/t_systems/trade_project/logger/' + 'quasi_logger_2021-02-18_v1.csv', sep=';')"
   ]
  },
  {
   "cell_type": "code",
   "execution_count": 164,
   "metadata": {},
   "outputs": [
    {
     "name": "stderr",
     "output_type": "stream",
     "text": [
      "c:\\python37\\lib\\site-packages\\ipykernel_launcher.py:1: SettingWithCopyWarning: \n",
      "A value is trying to be set on a copy of a slice from a DataFrame\n",
      "\n",
      "See the caveats in the documentation: https://pandas.pydata.org/pandas-docs/stable/user_guide/indexing.html#returning-a-view-versus-a-copy\n",
      "  \"\"\"Entry point for launching an IPython kernel.\n"
     ]
    }
   ],
   "source": [
    "quasi_logger['date_time'][:338269] = quasi_logger2['date_time']"
   ]
  },
  {
   "cell_type": "code",
   "execution_count": null,
   "metadata": {},
   "outputs": [],
   "source": []
  },
  {
   "cell_type": "code",
   "execution_count": 171,
   "metadata": {},
   "outputs": [
    {
     "data": {
      "text/html": [
       "<div>\n",
       "<style scoped>\n",
       "    .dataframe tbody tr th:only-of-type {\n",
       "        vertical-align: middle;\n",
       "    }\n",
       "\n",
       "    .dataframe tbody tr th {\n",
       "        vertical-align: top;\n",
       "    }\n",
       "\n",
       "    .dataframe thead th {\n",
       "        text-align: right;\n",
       "    }\n",
       "</style>\n",
       "<table border=\"1\" class=\"dataframe\">\n",
       "  <thead>\n",
       "    <tr style=\"text-align: right;\">\n",
       "      <th></th>\n",
       "      <th>ric_i</th>\n",
       "      <th>ric_now</th>\n",
       "      <th>headlines_slice_i</th>\n",
       "      <th>headlines_number</th>\n",
       "      <th>up_to_date_ric</th>\n",
       "      <th>story_i</th>\n",
       "      <th>story_id_now</th>\n",
       "      <th>story_is_success</th>\n",
       "      <th>date_time</th>\n",
       "      <th>date_only</th>\n",
       "      <th>exec_seconds</th>\n",
       "    </tr>\n",
       "  </thead>\n",
       "  <tbody>\n",
       "    <tr>\n",
       "      <th>0</th>\n",
       "      <td>0</td>\n",
       "      <td>DTEGn.DE</td>\n",
       "      <td>0.0</td>\n",
       "      <td>100.0</td>\n",
       "      <td>2020-12-24T03:51:28</td>\n",
       "      <td>0.0</td>\n",
       "      <td>urn:newsml:reuters.com:20201223:nNRAdspppv:1</td>\n",
       "      <td>True</td>\n",
       "      <td>2020-12-24 03:51:31.939240</td>\n",
       "      <td>2020-12-24</td>\n",
       "      <td>NaN</td>\n",
       "    </tr>\n",
       "    <tr>\n",
       "      <th>1</th>\n",
       "      <td>0</td>\n",
       "      <td>DTEGn.DE</td>\n",
       "      <td>0.0</td>\n",
       "      <td>100.0</td>\n",
       "      <td>2020-12-24T03:51:28</td>\n",
       "      <td>1.0</td>\n",
       "      <td>urn:newsml:reuters.com:20201222:nGLF4Kt1L3:2</td>\n",
       "      <td>True</td>\n",
       "      <td>2020-12-24 03:51:33.740708</td>\n",
       "      <td>2020-12-24</td>\n",
       "      <td>1.801468</td>\n",
       "    </tr>\n",
       "    <tr>\n",
       "      <th>2</th>\n",
       "      <td>0</td>\n",
       "      <td>DTEGn.DE</td>\n",
       "      <td>0.0</td>\n",
       "      <td>100.0</td>\n",
       "      <td>2020-12-24T03:51:28</td>\n",
       "      <td>2.0</td>\n",
       "      <td>urn:newsml:reuters.com:20201222:nGLF2DBhZz:2</td>\n",
       "      <td>True</td>\n",
       "      <td>2020-12-24 03:51:37.079818</td>\n",
       "      <td>2020-12-24</td>\n",
       "      <td>3.339110</td>\n",
       "    </tr>\n",
       "    <tr>\n",
       "      <th>3</th>\n",
       "      <td>0</td>\n",
       "      <td>DTEGn.DE</td>\n",
       "      <td>0.0</td>\n",
       "      <td>100.0</td>\n",
       "      <td>2020-12-24T03:51:28</td>\n",
       "      <td>3.0</td>\n",
       "      <td>urn:newsml:reuters.com:20201221:nBw3VPZ4Qa:1</td>\n",
       "      <td>True</td>\n",
       "      <td>2020-12-24 03:51:37.803316</td>\n",
       "      <td>2020-12-24</td>\n",
       "      <td>0.723498</td>\n",
       "    </tr>\n",
       "    <tr>\n",
       "      <th>4</th>\n",
       "      <td>0</td>\n",
       "      <td>DTEGn.DE</td>\n",
       "      <td>0.0</td>\n",
       "      <td>100.0</td>\n",
       "      <td>2020-12-24T03:51:28</td>\n",
       "      <td>4.0</td>\n",
       "      <td>urn:newsml:reuters.com:20201219:nL8N2IY3D9:1</td>\n",
       "      <td>True</td>\n",
       "      <td>2020-12-24 03:51:38.957981</td>\n",
       "      <td>2020-12-24</td>\n",
       "      <td>1.154665</td>\n",
       "    </tr>\n",
       "    <tr>\n",
       "      <th>...</th>\n",
       "      <td>...</td>\n",
       "      <td>...</td>\n",
       "      <td>...</td>\n",
       "      <td>...</td>\n",
       "      <td>...</td>\n",
       "      <td>...</td>\n",
       "      <td>...</td>\n",
       "      <td>...</td>\n",
       "      <td>...</td>\n",
       "      <td>...</td>\n",
       "      <td>...</td>\n",
       "    </tr>\n",
       "    <tr>\n",
       "      <th>368537</th>\n",
       "      <td>39</td>\n",
       "      <td>ABBV.N</td>\n",
       "      <td>22.0</td>\n",
       "      <td>100.0</td>\n",
       "      <td>2020-04-27 17:03:55.441000+00:00</td>\n",
       "      <td>95.0</td>\n",
       "      <td>urn:newsml:reuters.com:20200423:nRSW6841Ka:1</td>\n",
       "      <td>False</td>\n",
       "      <td>2021-03-13 03:56:26.107769</td>\n",
       "      <td>2021-03-13</td>\n",
       "      <td>5.098304</td>\n",
       "    </tr>\n",
       "    <tr>\n",
       "      <th>368538</th>\n",
       "      <td>39</td>\n",
       "      <td>ABBV.N</td>\n",
       "      <td>22.0</td>\n",
       "      <td>100.0</td>\n",
       "      <td>2020-04-27 17:03:55.441000+00:00</td>\n",
       "      <td>96.0</td>\n",
       "      <td>urn:newsml:reuters.com:20200423:nBwbHxSr1a:1</td>\n",
       "      <td>False</td>\n",
       "      <td>2021-03-13 03:56:31.211766</td>\n",
       "      <td>2021-03-13</td>\n",
       "      <td>5.103997</td>\n",
       "    </tr>\n",
       "    <tr>\n",
       "      <th>368539</th>\n",
       "      <td>39</td>\n",
       "      <td>ABBV.N</td>\n",
       "      <td>22.0</td>\n",
       "      <td>100.0</td>\n",
       "      <td>2020-04-27 17:03:55.441000+00:00</td>\n",
       "      <td>97.0</td>\n",
       "      <td>urn:newsml:reuters.com:20200423:nBw24F12Wa:1</td>\n",
       "      <td>False</td>\n",
       "      <td>2021-03-13 03:56:36.310899</td>\n",
       "      <td>2021-03-13</td>\n",
       "      <td>5.099133</td>\n",
       "    </tr>\n",
       "    <tr>\n",
       "      <th>368540</th>\n",
       "      <td>39</td>\n",
       "      <td>ABBV.N</td>\n",
       "      <td>22.0</td>\n",
       "      <td>100.0</td>\n",
       "      <td>2020-04-27 17:03:55.441000+00:00</td>\n",
       "      <td>98.0</td>\n",
       "      <td>urn:newsml:newsroom:20200423:nRSW6746Ka:0</td>\n",
       "      <td>False</td>\n",
       "      <td>2021-03-13 03:56:41.415444</td>\n",
       "      <td>2021-03-13</td>\n",
       "      <td>5.104545</td>\n",
       "    </tr>\n",
       "    <tr>\n",
       "      <th>368541</th>\n",
       "      <td>39</td>\n",
       "      <td>ABBV.N</td>\n",
       "      <td>22.0</td>\n",
       "      <td>100.0</td>\n",
       "      <td>2020-04-27 17:03:55.441000+00:00</td>\n",
       "      <td>99.0</td>\n",
       "      <td>urn:newsml:newsroom:20200423:nRSW6744Ka:0</td>\n",
       "      <td>False</td>\n",
       "      <td>2021-03-13 03:56:46.520119</td>\n",
       "      <td>2021-03-13</td>\n",
       "      <td>5.104675</td>\n",
       "    </tr>\n",
       "  </tbody>\n",
       "</table>\n",
       "<p>368542 rows × 11 columns</p>\n",
       "</div>"
      ],
      "text/plain": [
       "       ric_i   ric_now  headlines_slice_i  headlines_number  \\\n",
       "0          0  DTEGn.DE                0.0             100.0   \n",
       "1          0  DTEGn.DE                0.0             100.0   \n",
       "2          0  DTEGn.DE                0.0             100.0   \n",
       "3          0  DTEGn.DE                0.0             100.0   \n",
       "4          0  DTEGn.DE                0.0             100.0   \n",
       "...      ...       ...                ...               ...   \n",
       "368537    39    ABBV.N               22.0             100.0   \n",
       "368538    39    ABBV.N               22.0             100.0   \n",
       "368539    39    ABBV.N               22.0             100.0   \n",
       "368540    39    ABBV.N               22.0             100.0   \n",
       "368541    39    ABBV.N               22.0             100.0   \n",
       "\n",
       "                          up_to_date_ric  story_i  \\\n",
       "0                    2020-12-24T03:51:28      0.0   \n",
       "1                    2020-12-24T03:51:28      1.0   \n",
       "2                    2020-12-24T03:51:28      2.0   \n",
       "3                    2020-12-24T03:51:28      3.0   \n",
       "4                    2020-12-24T03:51:28      4.0   \n",
       "...                                  ...      ...   \n",
       "368537  2020-04-27 17:03:55.441000+00:00     95.0   \n",
       "368538  2020-04-27 17:03:55.441000+00:00     96.0   \n",
       "368539  2020-04-27 17:03:55.441000+00:00     97.0   \n",
       "368540  2020-04-27 17:03:55.441000+00:00     98.0   \n",
       "368541  2020-04-27 17:03:55.441000+00:00     99.0   \n",
       "\n",
       "                                        story_id_now story_is_success  \\\n",
       "0       urn:newsml:reuters.com:20201223:nNRAdspppv:1             True   \n",
       "1       urn:newsml:reuters.com:20201222:nGLF4Kt1L3:2             True   \n",
       "2       urn:newsml:reuters.com:20201222:nGLF2DBhZz:2             True   \n",
       "3       urn:newsml:reuters.com:20201221:nBw3VPZ4Qa:1             True   \n",
       "4       urn:newsml:reuters.com:20201219:nL8N2IY3D9:1             True   \n",
       "...                                              ...              ...   \n",
       "368537  urn:newsml:reuters.com:20200423:nRSW6841Ka:1            False   \n",
       "368538  urn:newsml:reuters.com:20200423:nBwbHxSr1a:1            False   \n",
       "368539  urn:newsml:reuters.com:20200423:nBw24F12Wa:1            False   \n",
       "368540     urn:newsml:newsroom:20200423:nRSW6746Ka:0            False   \n",
       "368541     urn:newsml:newsroom:20200423:nRSW6744Ka:0            False   \n",
       "\n",
       "                        date_time   date_only  exec_seconds  \n",
       "0      2020-12-24 03:51:31.939240  2020-12-24           NaN  \n",
       "1      2020-12-24 03:51:33.740708  2020-12-24      1.801468  \n",
       "2      2020-12-24 03:51:37.079818  2020-12-24      3.339110  \n",
       "3      2020-12-24 03:51:37.803316  2020-12-24      0.723498  \n",
       "4      2020-12-24 03:51:38.957981  2020-12-24      1.154665  \n",
       "...                           ...         ...           ...  \n",
       "368537 2021-03-13 03:56:26.107769  2021-03-13      5.098304  \n",
       "368538 2021-03-13 03:56:31.211766  2021-03-13      5.103997  \n",
       "368539 2021-03-13 03:56:36.310899  2021-03-13      5.099133  \n",
       "368540 2021-03-13 03:56:41.415444  2021-03-13      5.104545  \n",
       "368541 2021-03-13 03:56:46.520119  2021-03-13      5.104675  \n",
       "\n",
       "[368542 rows x 11 columns]"
      ]
     },
     "execution_count": 171,
     "metadata": {},
     "output_type": "execute_result"
    }
   ],
   "source": [
    "quasi_logger"
   ]
  },
  {
   "cell_type": "code",
   "execution_count": 172,
   "metadata": {},
   "outputs": [
    {
     "name": "stdout",
     "output_type": "stream",
     "text": [
      "C:/DAN/t_systems/trade_project/backup_headlines/all_headlines_df_2021-03-13_v3.csv\n"
     ]
    }
   ],
   "source": [
    "# Сохранить версию all_headlines_df вручную\n",
    "save_file_as_new_file_without_replacing(\n",
    "    path_project_folder=path_project_folder,\n",
    "    folder_name_to_save=folder_name_headlines,\n",
    "    file_to_save=all_headlines_df,\n",
    "    file_short_name_add_to_path='all_headlines_df')"
   ]
  },
  {
   "cell_type": "code",
   "execution_count": 173,
   "metadata": {},
   "outputs": [
    {
     "name": "stdout",
     "output_type": "stream",
     "text": [
      "C:/DAN/t_systems/trade_project/logger/quasi_logger_2021-03-13_v8.csv\n"
     ]
    }
   ],
   "source": [
    "# Сохранить версию логгера вручную\n",
    "save_file_as_new_file_without_replacing(\n",
    "    path_project_folder=path_project_folder,\n",
    "    folder_name_to_save=folder_name_logger,\n",
    "    file_to_save=quasi_logger,\n",
    "    file_short_name_add_to_path='quasi_logger')"
   ]
  },
  {
   "cell_type": "code",
   "execution_count": 166,
   "metadata": {},
   "outputs": [
    {
     "name": "stdout",
     "output_type": "stream",
     "text": [
      "df shape: (399141, 6) ,  Num of rics: 87\n",
      "StoryId duplicated: 68132\n",
      "Rows in df duplicated: 4343\n",
      "\n",
      "status error_when_trying_to_collect_story: 1709\n",
      "\n",
      "    Number of NA:\n",
      "ric                 0\n",
      "versionCreated      0\n",
      "headline            0\n",
      "storyId             0\n",
      "sourceCode          0\n",
      "story             153\n",
      "dtype: int64\n"
     ]
    }
   ],
   "source": [
    "print('df shape:', all_headlines_df.shape, ',  Num of rics:', all_headlines_df.groupby('ric')['ric'].nunique().sort_values(ascending=False).count())\n",
    "print('StoryId duplicated:', all_headlines_df['storyId'].duplicated().sum())\n",
    "print('Rows in df duplicated:', all_headlines_df.duplicated().sum())\n",
    "print()\n",
    "print('status error_when_trying_to_collect_story:', all_headlines_df[all_headlines_df['story'] == 'error_when_trying_to_collect_story']['story'].count())\n",
    "print()\n",
    "print('    Number of NA:')\n",
    "print(len(all_headlines_df) - all_headlines_df.notna().sum())"
   ]
  },
  {
   "cell_type": "code",
   "execution_count": 167,
   "metadata": {},
   "outputs": [
    {
     "name": "stdout",
     "output_type": "stream",
     "text": [
      "Median query time execution: 0.633312\n"
     ]
    },
    {
     "data": {
      "image/png": "[encoded data removed]",
      "text/plain": [
       "<Figure size 640x280 with 1 Axes>"
      ]
     },
     "metadata": {},
     "output_type": "display_data"
    }
   ],
   "source": [
    "quasi_logger['date_time'] = pd.to_datetime(quasi_logger['date_time'])\n",
    "quasi_logger['date_only'] = quasi_logger['date_time'].dt.date\n",
    "quasi_logger['exec_seconds'] = quasi_logger['date_time'].diff() / np.timedelta64(1, 's')\n",
    "exec_time_q99 = quasi_logger[\n",
    "    (quasi_logger['exec_seconds'] < quasi_logger['exec_seconds'].quantile(0.99))\n",
    "    & (quasi_logger['exec_seconds'] > 0)\n",
    "]\n",
    "exec_time_q99['exec_seconds'].plot(kind='hist', bins = 100)\n",
    "plt.title('Histogram of query time execution without drawouts (seconds)')\n",
    "plt.xlabel('Seconds per query')\n",
    "plt.ylabel('Frequency')\n",
    "# plt.grid(True, axis='x')\n",
    "plt.savefig(path_project_folder + 'exhibits_saved/'+ 'Histogram of query time execution without drawouts (seconds)', bbox_inches = \"tight\")\n",
    "print('Median query time execution:', quasi_logger['exec_seconds'].median())"
   ]
  },
  {
   "cell_type": "code",
   "execution_count": 168,
   "metadata": {},
   "outputs": [
    {
     "data": {
      "text/plain": [
       "<AxesSubplot:ylabel='ric_now'>"
      ]
     },
     "execution_count": 168,
     "metadata": {},
     "output_type": "execute_result"
    },
    {
     "data": {
      "image/png": "[encoded data removed]",
      "text/plain": [
       "<Figure size 480x960 with 1 Axes>"
      ]
     },
     "metadata": {},
     "output_type": "display_data"
    }
   ],
   "source": [
    "exec_time_q99.groupby(by='ric_now').agg(\n",
    "    median_time=('exec_seconds', 'median')\n",
    ").sort_values(by='median_time', ascending=False).plot(\n",
    "    kind='barh', width=0.8, figsize=(6,12)\n",
    ")"
   ]
  },
  {
   "cell_type": "code",
   "execution_count": 169,
   "metadata": {},
   "outputs": [
    {
     "data": {
      "text/plain": [
       "<AxesSubplot:ylabel='date_only'>"
      ]
     },
     "execution_count": 169,
     "metadata": {},
     "output_type": "execute_result"
    },
    {
     "data": {
      "image/png": "[encoded data removed]",
      "text/plain": [
       "<Figure size 480x800 with 1 Axes>"
      ]
     },
     "metadata": {},
     "output_type": "display_data"
    }
   ],
   "source": [
    "exec_time_q99.groupby(by='date_only').agg(\n",
    "    median_time=('exec_seconds', 'median')\n",
    ").plot(\n",
    "    kind='barh', width=0.8, figsize=(6,10)\n",
    ")"
   ]
  },
  {
   "cell_type": "code",
   "execution_count": 170,
   "metadata": {},
   "outputs": [
    {
     "data": {
      "text/plain": [
       "<AxesSubplot:ylabel='ric_now'>"
      ]
     },
     "execution_count": 170,
     "metadata": {},
     "output_type": "execute_result"
    },
    {
     "data": {
      "image/png": "[encoded data removed]",
      "text/plain": [
       "<Figure size 480x1120 with 1 Axes>"
      ]
     },
     "metadata": {},
     "output_type": "display_data"
    }
   ],
   "source": [
    "exec_time_q99.groupby(by='ric_now').agg(\n",
    "    story_count=('story_id_now', 'count')\n",
    ").sort_values(by='story_count', ascending=False).plot(\n",
    "    kind='barh', width=0.8, figsize=(6,14)\n",
    ")"
   ]
  },
  {
   "cell_type": "code",
   "execution_count": null,
   "metadata": {},
   "outputs": [],
   "source": []
  },
  {
   "cell_type": "code",
   "execution_count": null,
   "metadata": {},
   "outputs": [],
   "source": []
  }
 ],
 "metadata": {
  "kernelspec": {
   "display_name": "Python 3",
   "language": "python",
   "name": "python3"
  },
  "language_info": {
   "codemirror_mode": {
    "name": "ipython",
    "version": 3
   },
   "file_extension": ".py",
   "mimetype": "text/x-python",
   "name": "python",
   "nbconvert_exporter": "python",
   "pygments_lexer": "ipython3",
   "version": "3.7.9"
  }
 },
 "nbformat": 4,
 "nbformat_minor": 4
}
