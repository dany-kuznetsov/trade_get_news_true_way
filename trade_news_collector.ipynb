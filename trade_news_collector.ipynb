{
 "cells": [
  {
   "cell_type": "code",
   "execution_count": 2,
   "metadata": {},
   "outputs": [],
   "source": [
    "from pandas_datareader import data\n",
    "from pandas_datareader._utils import RemoteDataError\n",
    "import matplotlib.pyplot as plt\n",
    "import pandas as pd\n",
    "import numpy as np\n",
    "import math\n",
    "import csv\n",
    "import re\n",
    "from datetime import datetime\n",
    "\n",
    "import os.path\n",
    "from os import path\n",
    "import time\n",
    "\n",
    "# import sklearn\n",
    "# import scipy\n",
    "\n",
    "# from sklearn.naive_bayes import GaussianNB\n",
    "# import lightgbm as lightgbm\n",
    "# from xgboost import XGBClassifier\n",
    "# import keras\n",
    "\n",
    "# Get Started\n",
    "# https://github.com/Refinitiv-API-Samples/Article.EikonDataAPI.DotNet.Library\n",
    "# API limits\n",
    "# https://developers.refinitiv.com/en/api-catalog/eikon/eikon-data-api/documentation?content=49692&type=documentation_item\n",
    "import eikon as ek \n",
    "\n",
    "from pylab import rcParams\n",
    "plt.rcParams['figure.figsize'] = 16, 8"
   ]
  },
  {
   "cell_type": "code",
   "execution_count": 3,
   "metadata": {},
   "outputs": [],
   "source": [
    "fontsize_reg = 12\n",
    "fontsize_title = 16\n",
    "from pylab import rcParams\n",
    "rcParams['figure.facecolor'] = '1'\n",
    "rcParams['figure.figsize'] = [8.0, 3.5]\n",
    "rcParams['figure.dpi'] = 80\n",
    "rcParams['savefig.dpi'] = 600\n",
    "\n",
    "rcParams['font.size'] = 12\n",
    "rcParams['legend.fontsize'] = 'large'\n",
    "rcParams['figure.titlesize'] = 'large'"
   ]
  },
  {
   "cell_type": "code",
   "execution_count": 4,
   "metadata": {},
   "outputs": [],
   "source": [
    "# Зададим path для папки проекта и для папок файлов\n",
    "path_project_folder = 'C:/DAN/t_systems/trade_project/'\n",
    "folder_name_headlines = 'backup_headlines/'\n",
    "folder_name_logger = 'logger/'"
   ]
  },
  {
   "cell_type": "code",
   "execution_count": 6,
   "metadata": {},
   "outputs": [],
   "source": [
    "# зададим API ключ\n",
    "ek.set_app_key('ccebd1ff788d4574818be93e35c4741925ac214e')"
   ]
  },
  {
   "cell_type": "code",
   "execution_count": 5,
   "metadata": {},
   "outputs": [
    {
     "data": {
      "text/html": [
       "<div>\n",
       "<style scoped>\n",
       "    .dataframe tbody tr th:only-of-type {\n",
       "        vertical-align: middle;\n",
       "    }\n",
       "\n",
       "    .dataframe tbody tr th {\n",
       "        vertical-align: top;\n",
       "    }\n",
       "\n",
       "    .dataframe thead th {\n",
       "        text-align: right;\n",
       "    }\n",
       "</style>\n",
       "<table border=\"1\" class=\"dataframe\">\n",
       "  <thead>\n",
       "    <tr style=\"text-align: right;\">\n",
       "      <th></th>\n",
       "      <th>ric</th>\n",
       "      <th>Company Common Name</th>\n",
       "      <th>Country of Exchange</th>\n",
       "      <th>Primary Country of Risk</th>\n",
       "      <th>TRBC Industry Group Name</th>\n",
       "      <th>TRBC Industry Name</th>\n",
       "      <th>Price Close</th>\n",
       "      <th>Company Market Cap</th>\n",
       "      <th>DAX</th>\n",
       "      <th>German_telecom</th>\n",
       "    </tr>\n",
       "  </thead>\n",
       "  <tbody>\n",
       "    <tr>\n",
       "      <th>0</th>\n",
       "      <td>DTEGn.DE</td>\n",
       "      <td>Deutsche Telekom AG</td>\n",
       "      <td>Germany</td>\n",
       "      <td>Germany</td>\n",
       "      <td>Telecommunications Services</td>\n",
       "      <td>Integrated Telecommunications Services</td>\n",
       "      <td>18.032030</td>\n",
       "      <td>8.580246e+10</td>\n",
       "      <td>1</td>\n",
       "      <td>1</td>\n",
       "    </tr>\n",
       "    <tr>\n",
       "      <th>1</th>\n",
       "      <td>SAPG.DE</td>\n",
       "      <td>SAP SE</td>\n",
       "      <td>Germany</td>\n",
       "      <td>Germany</td>\n",
       "      <td>Software &amp; IT Services</td>\n",
       "      <td>Software</td>\n",
       "      <td>122.335901</td>\n",
       "      <td>1.501916e+11</td>\n",
       "      <td>1</td>\n",
       "      <td>0</td>\n",
       "    </tr>\n",
       "    <tr>\n",
       "      <th>2</th>\n",
       "      <td>SIEGn.DE</td>\n",
       "      <td>Siemens AG</td>\n",
       "      <td>Germany</td>\n",
       "      <td>Germany</td>\n",
       "      <td>Consumer Goods Conglomerates</td>\n",
       "      <td>Consumer Goods Conglomerates</td>\n",
       "      <td>139.347250</td>\n",
       "      <td>1.183675e+11</td>\n",
       "      <td>1</td>\n",
       "      <td>0</td>\n",
       "    </tr>\n",
       "    <tr>\n",
       "      <th>3</th>\n",
       "      <td>ALVG.DE</td>\n",
       "      <td>Allianz SE</td>\n",
       "      <td>Germany</td>\n",
       "      <td>Germany</td>\n",
       "      <td>Insurance</td>\n",
       "      <td>Multiline Insurance &amp; Brokers</td>\n",
       "      <td>235.534278</td>\n",
       "      <td>9.704549e+10</td>\n",
       "      <td>1</td>\n",
       "      <td>0</td>\n",
       "    </tr>\n",
       "    <tr>\n",
       "      <th>4</th>\n",
       "      <td>VOWG_p.DE</td>\n",
       "      <td>Volkswagen AG</td>\n",
       "      <td>Germany</td>\n",
       "      <td>Germany</td>\n",
       "      <td>Automobiles &amp; Auto Parts</td>\n",
       "      <td>Auto &amp; Truck Manufacturers</td>\n",
       "      <td>182.653284</td>\n",
       "      <td>9.619011e+10</td>\n",
       "      <td>1</td>\n",
       "      <td>0</td>\n",
       "    </tr>\n",
       "    <tr>\n",
       "      <th>...</th>\n",
       "      <td>...</td>\n",
       "      <td>...</td>\n",
       "      <td>...</td>\n",
       "      <td>...</td>\n",
       "      <td>...</td>\n",
       "      <td>...</td>\n",
       "      <td>...</td>\n",
       "      <td>...</td>\n",
       "      <td>...</td>\n",
       "      <td>...</td>\n",
       "    </tr>\n",
       "    <tr>\n",
       "      <th>1486</th>\n",
       "      <td>IXM0392.DE</td>\n",
       "      <td>MSCI Pac ex Jap ETF</td>\n",
       "      <td>Germany</td>\n",
       "      <td>NaN</td>\n",
       "      <td>NaN</td>\n",
       "      <td>NaN</td>\n",
       "      <td>164.045417</td>\n",
       "      <td>NaN</td>\n",
       "      <td>0</td>\n",
       "      <td>0</td>\n",
       "    </tr>\n",
       "    <tr>\n",
       "      <th>1487</th>\n",
       "      <td>IXM0402.DE</td>\n",
       "      <td>MSCI Canada ETF</td>\n",
       "      <td>Germany</td>\n",
       "      <td>NaN</td>\n",
       "      <td>NaN</td>\n",
       "      <td>NaN</td>\n",
       "      <td>147.258410</td>\n",
       "      <td>NaN</td>\n",
       "      <td>0</td>\n",
       "      <td>0</td>\n",
       "    </tr>\n",
       "    <tr>\n",
       "      <th>1488</th>\n",
       "      <td>IXM0422.DE</td>\n",
       "      <td>MSCI USA ETF</td>\n",
       "      <td>Germany</td>\n",
       "      <td>NaN</td>\n",
       "      <td>NaN</td>\n",
       "      <td>NaN</td>\n",
       "      <td>368.704250</td>\n",
       "      <td>NaN</td>\n",
       "      <td>0</td>\n",
       "      <td>0</td>\n",
       "    </tr>\n",
       "    <tr>\n",
       "      <th>1489</th>\n",
       "      <td>IXM0432.DE</td>\n",
       "      <td>MSCI Jap ETF</td>\n",
       "      <td>Germany</td>\n",
       "      <td>NaN</td>\n",
       "      <td>NaN</td>\n",
       "      <td>NaN</td>\n",
       "      <td>179.058138</td>\n",
       "      <td>NaN</td>\n",
       "      <td>0</td>\n",
       "      <td>0</td>\n",
       "    </tr>\n",
       "    <tr>\n",
       "      <th>1490</th>\n",
       "      <td>VOLSIN.DE</td>\n",
       "      <td>Nomura Voltage Short-term Source</td>\n",
       "      <td>Germany</td>\n",
       "      <td>NaN</td>\n",
       "      <td>NaN</td>\n",
       "      <td>NaN</td>\n",
       "      <td>NaN</td>\n",
       "      <td>NaN</td>\n",
       "      <td>0</td>\n",
       "      <td>0</td>\n",
       "    </tr>\n",
       "  </tbody>\n",
       "</table>\n",
       "<p>1491 rows × 10 columns</p>\n",
       "</div>"
      ],
      "text/plain": [
       "             ric               Company Common Name Country of Exchange  \\\n",
       "0       DTEGn.DE               Deutsche Telekom AG             Germany   \n",
       "1        SAPG.DE                            SAP SE             Germany   \n",
       "2       SIEGn.DE                        Siemens AG             Germany   \n",
       "3        ALVG.DE                        Allianz SE             Germany   \n",
       "4      VOWG_p.DE                     Volkswagen AG             Germany   \n",
       "...          ...                               ...                 ...   \n",
       "1486  IXM0392.DE               MSCI Pac ex Jap ETF             Germany   \n",
       "1487  IXM0402.DE                   MSCI Canada ETF             Germany   \n",
       "1488  IXM0422.DE                      MSCI USA ETF             Germany   \n",
       "1489  IXM0432.DE                      MSCI Jap ETF             Germany   \n",
       "1490   VOLSIN.DE  Nomura Voltage Short-term Source             Germany   \n",
       "\n",
       "     Primary Country of Risk      TRBC Industry Group Name  \\\n",
       "0                    Germany   Telecommunications Services   \n",
       "1                    Germany        Software & IT Services   \n",
       "2                    Germany  Consumer Goods Conglomerates   \n",
       "3                    Germany                     Insurance   \n",
       "4                    Germany      Automobiles & Auto Parts   \n",
       "...                      ...                           ...   \n",
       "1486                     NaN                           NaN   \n",
       "1487                     NaN                           NaN   \n",
       "1488                     NaN                           NaN   \n",
       "1489                     NaN                           NaN   \n",
       "1490                     NaN                           NaN   \n",
       "\n",
       "                          TRBC Industry Name  Price Close  Company Market Cap  \\\n",
       "0     Integrated Telecommunications Services    18.032030        8.580246e+10   \n",
       "1                                   Software   122.335901        1.501916e+11   \n",
       "2               Consumer Goods Conglomerates   139.347250        1.183675e+11   \n",
       "3              Multiline Insurance & Brokers   235.534278        9.704549e+10   \n",
       "4                 Auto & Truck Manufacturers   182.653284        9.619011e+10   \n",
       "...                                      ...          ...                 ...   \n",
       "1486                                     NaN   164.045417                 NaN   \n",
       "1487                                     NaN   147.258410                 NaN   \n",
       "1488                                     NaN   368.704250                 NaN   \n",
       "1489                                     NaN   179.058138                 NaN   \n",
       "1490                                     NaN          NaN                 NaN   \n",
       "\n",
       "      DAX  German_telecom  \n",
       "0       1               1  \n",
       "1       1               0  \n",
       "2       1               0  \n",
       "3       1               0  \n",
       "4       1               0  \n",
       "...   ...             ...  \n",
       "1486    0               0  \n",
       "1487    0               0  \n",
       "1488    0               0  \n",
       "1489    0               0  \n",
       "1490    0               0  \n",
       "\n",
       "[1491 rows x 10 columns]"
      ]
     },
     "execution_count": 5,
     "metadata": {},
     "output_type": "execute_result"
    }
   ],
   "source": [
    "rics_german_df = pd.read_excel(path_project_folder + 'rics_german_excel.xlsx')\n",
    "sort_cols = ['DAX', 'German_telecom', 'Company Market Cap']\n",
    "rics_german_df = rics_german_df.sort_values(by=sort_cols, ascending=False) # .reset_index(drop=True)\n",
    "rics_german_df.index = range(0, len(rics_german_df))\n",
    "rics_german_df"
   ]
  },
  {
   "cell_type": "code",
   "execution_count": 6,
   "metadata": {},
   "outputs": [
    {
     "data": {
      "text/html": [
       "<div>\n",
       "<style scoped>\n",
       "    .dataframe tbody tr th:only-of-type {\n",
       "        vertical-align: middle;\n",
       "    }\n",
       "\n",
       "    .dataframe tbody tr th {\n",
       "        vertical-align: top;\n",
       "    }\n",
       "\n",
       "    .dataframe thead th {\n",
       "        text-align: right;\n",
       "    }\n",
       "</style>\n",
       "<table border=\"1\" class=\"dataframe\">\n",
       "  <thead>\n",
       "    <tr style=\"text-align: right;\">\n",
       "      <th></th>\n",
       "      <th>ric</th>\n",
       "      <th>Company Common Name</th>\n",
       "      <th>Company Market Cap</th>\n",
       "      <th>DAX</th>\n",
       "      <th>German_telecom</th>\n",
       "    </tr>\n",
       "  </thead>\n",
       "  <tbody>\n",
       "    <tr>\n",
       "      <th>0</th>\n",
       "      <td>DTEGn.DE</td>\n",
       "      <td>Deutsche Telekom AG</td>\n",
       "      <td>8.580246e+10</td>\n",
       "      <td>1</td>\n",
       "      <td>1</td>\n",
       "    </tr>\n",
       "    <tr>\n",
       "      <th>27</th>\n",
       "      <td>O2Dn.DE</td>\n",
       "      <td>Telefonica Deutschland Holding AG</td>\n",
       "      <td>8.088962e+09</td>\n",
       "      <td>0</td>\n",
       "      <td>1</td>\n",
       "    </tr>\n",
       "    <tr>\n",
       "      <th>28</th>\n",
       "      <td>UTDI.DE</td>\n",
       "      <td>United Internet AG</td>\n",
       "      <td>7.962405e+09</td>\n",
       "      <td>0</td>\n",
       "      <td>1</td>\n",
       "    </tr>\n",
       "    <tr>\n",
       "      <th>29</th>\n",
       "      <td>DRIG.DE</td>\n",
       "      <td>1&amp;1 Drillisch AG</td>\n",
       "      <td>4.331541e+09</td>\n",
       "      <td>0</td>\n",
       "      <td>1</td>\n",
       "    </tr>\n",
       "    <tr>\n",
       "      <th>30</th>\n",
       "      <td>FNTGn.DE</td>\n",
       "      <td>freenet AG</td>\n",
       "      <td>2.614030e+09</td>\n",
       "      <td>0</td>\n",
       "      <td>1</td>\n",
       "    </tr>\n",
       "    <tr>\n",
       "      <th>31</th>\n",
       "      <td>TC1n.DE</td>\n",
       "      <td>Tele Columbus AG</td>\n",
       "      <td>3.688837e+08</td>\n",
       "      <td>0</td>\n",
       "      <td>1</td>\n",
       "    </tr>\n",
       "    <tr>\n",
       "      <th>32</th>\n",
       "      <td>NFN.DE</td>\n",
       "      <td>NFON AG</td>\n",
       "      <td>3.245050e+08</td>\n",
       "      <td>0</td>\n",
       "      <td>1</td>\n",
       "    </tr>\n",
       "    <tr>\n",
       "      <th>33</th>\n",
       "      <td>E4CG.DE</td>\n",
       "      <td>Ecotel Communication AG</td>\n",
       "      <td>3.558930e+07</td>\n",
       "      <td>0</td>\n",
       "      <td>1</td>\n",
       "    </tr>\n",
       "    <tr>\n",
       "      <th>34</th>\n",
       "      <td>PH6.F</td>\n",
       "      <td>Philion SE</td>\n",
       "      <td>2.065664e+05</td>\n",
       "      <td>0</td>\n",
       "      <td>1</td>\n",
       "    </tr>\n",
       "  </tbody>\n",
       "</table>\n",
       "</div>"
      ],
      "text/plain": [
       "         ric                Company Common Name  Company Market Cap  DAX  \\\n",
       "0   DTEGn.DE                Deutsche Telekom AG        8.580246e+10    1   \n",
       "27   O2Dn.DE  Telefonica Deutschland Holding AG        8.088962e+09    0   \n",
       "28   UTDI.DE                 United Internet AG        7.962405e+09    0   \n",
       "29   DRIG.DE                   1&1 Drillisch AG        4.331541e+09    0   \n",
       "30  FNTGn.DE                         freenet AG        2.614030e+09    0   \n",
       "31   TC1n.DE                   Tele Columbus AG        3.688837e+08    0   \n",
       "32    NFN.DE                            NFON AG        3.245050e+08    0   \n",
       "33   E4CG.DE            Ecotel Communication AG        3.558930e+07    0   \n",
       "34     PH6.F                         Philion SE        2.065664e+05    0   \n",
       "\n",
       "    German_telecom  \n",
       "0                1  \n",
       "27               1  \n",
       "28               1  \n",
       "29               1  \n",
       "30               1  \n",
       "31               1  \n",
       "32               1  \n",
       "33               1  \n",
       "34               1  "
      ]
     },
     "execution_count": 6,
     "metadata": {},
     "output_type": "execute_result"
    }
   ],
   "source": [
    "condition_german = rics_german_df['Country of Exchange'] == 'Germany'\n",
    "condition_telecom = rics_german_df['TRBC Industry Group Name'] == 'Telecommunications Services'\n",
    "rics_german_telekom_df = rics_german_df[condition_german & condition_telecom]\n",
    "rics_german_telekom_df[['ric', 'Company Common Name', 'Company Market Cap', 'DAX', 'German_telecom']]"
   ]
  },
  {
   "cell_type": "code",
   "execution_count": 7,
   "metadata": {},
   "outputs": [
    {
     "data": {
      "text/html": [
       "<div>\n",
       "<style scoped>\n",
       "    .dataframe tbody tr th:only-of-type {\n",
       "        vertical-align: middle;\n",
       "    }\n",
       "\n",
       "    .dataframe tbody tr th {\n",
       "        vertical-align: top;\n",
       "    }\n",
       "\n",
       "    .dataframe thead th {\n",
       "        text-align: right;\n",
       "    }\n",
       "</style>\n",
       "<table border=\"1\" class=\"dataframe\">\n",
       "  <thead>\n",
       "    <tr style=\"text-align: right;\">\n",
       "      <th></th>\n",
       "      <th>ric</th>\n",
       "      <th>Company Common Name</th>\n",
       "      <th>Company Market Cap</th>\n",
       "      <th>DAX</th>\n",
       "      <th>German_telecom</th>\n",
       "    </tr>\n",
       "  </thead>\n",
       "  <tbody>\n",
       "    <tr>\n",
       "      <th>1</th>\n",
       "      <td>SAPG.DE</td>\n",
       "      <td>SAP SE</td>\n",
       "      <td>1.501916e+11</td>\n",
       "      <td>1</td>\n",
       "      <td>0</td>\n",
       "    </tr>\n",
       "    <tr>\n",
       "      <th>2</th>\n",
       "      <td>SIEGn.DE</td>\n",
       "      <td>Siemens AG</td>\n",
       "      <td>1.183675e+11</td>\n",
       "      <td>1</td>\n",
       "      <td>0</td>\n",
       "    </tr>\n",
       "    <tr>\n",
       "      <th>3</th>\n",
       "      <td>ALVG.DE</td>\n",
       "      <td>Allianz SE</td>\n",
       "      <td>9.704549e+10</td>\n",
       "      <td>1</td>\n",
       "      <td>0</td>\n",
       "    </tr>\n",
       "    <tr>\n",
       "      <th>4</th>\n",
       "      <td>VOWG_p.DE</td>\n",
       "      <td>Volkswagen AG</td>\n",
       "      <td>9.619011e+10</td>\n",
       "      <td>1</td>\n",
       "      <td>0</td>\n",
       "    </tr>\n",
       "    <tr>\n",
       "      <th>5</th>\n",
       "      <td>DAIGn.DE</td>\n",
       "      <td>Daimler AG</td>\n",
       "      <td>7.532200e+10</td>\n",
       "      <td>1</td>\n",
       "      <td>0</td>\n",
       "    </tr>\n",
       "    <tr>\n",
       "      <th>6</th>\n",
       "      <td>BASFn.DE</td>\n",
       "      <td>BASF SE</td>\n",
       "      <td>7.222737e+10</td>\n",
       "      <td>1</td>\n",
       "      <td>0</td>\n",
       "    </tr>\n",
       "    <tr>\n",
       "      <th>7</th>\n",
       "      <td>ADSGn.DE</td>\n",
       "      <td>Adidas AG</td>\n",
       "      <td>7.062461e+10</td>\n",
       "      <td>1</td>\n",
       "      <td>0</td>\n",
       "    </tr>\n",
       "    <tr>\n",
       "      <th>8</th>\n",
       "      <td>DPWGn.DE</td>\n",
       "      <td>Deutsche Post AG</td>\n",
       "      <td>5.932596e+10</td>\n",
       "      <td>1</td>\n",
       "      <td>0</td>\n",
       "    </tr>\n",
       "    <tr>\n",
       "      <th>9</th>\n",
       "      <td>BMWG.DE</td>\n",
       "      <td>Bayerische Motoren Werke AG</td>\n",
       "      <td>5.780708e+10</td>\n",
       "      <td>1</td>\n",
       "      <td>0</td>\n",
       "    </tr>\n",
       "    <tr>\n",
       "      <th>10</th>\n",
       "      <td>BAYGn.DE</td>\n",
       "      <td>Bayer AG</td>\n",
       "      <td>5.621811e+10</td>\n",
       "      <td>1</td>\n",
       "      <td>0</td>\n",
       "    </tr>\n",
       "    <tr>\n",
       "      <th>11</th>\n",
       "      <td>IFXGn.DE</td>\n",
       "      <td>Infineon Technologies AG</td>\n",
       "      <td>4.791433e+10</td>\n",
       "      <td>1</td>\n",
       "      <td>0</td>\n",
       "    </tr>\n",
       "    <tr>\n",
       "      <th>12</th>\n",
       "      <td>HNKG_p.DE</td>\n",
       "      <td>Henkel AG &amp; Co KgaA</td>\n",
       "      <td>4.400469e+10</td>\n",
       "      <td>1</td>\n",
       "      <td>0</td>\n",
       "    </tr>\n",
       "    <tr>\n",
       "      <th>13</th>\n",
       "      <td>VNAn.DE</td>\n",
       "      <td>Vonovia SE</td>\n",
       "      <td>3.941367e+10</td>\n",
       "      <td>1</td>\n",
       "      <td>0</td>\n",
       "    </tr>\n",
       "    <tr>\n",
       "      <th>14</th>\n",
       "      <td>EONGn.DE</td>\n",
       "      <td>E.ON SE</td>\n",
       "      <td>2.849412e+10</td>\n",
       "      <td>1</td>\n",
       "      <td>0</td>\n",
       "    </tr>\n",
       "    <tr>\n",
       "      <th>15</th>\n",
       "      <td>BEIG.DE</td>\n",
       "      <td>Beiersdorf AG</td>\n",
       "      <td>2.817068e+10</td>\n",
       "      <td>1</td>\n",
       "      <td>0</td>\n",
       "    </tr>\n",
       "    <tr>\n",
       "      <th>16</th>\n",
       "      <td>CONG.DE</td>\n",
       "      <td>Continental AG</td>\n",
       "      <td>2.749257e+10</td>\n",
       "      <td>1</td>\n",
       "      <td>0</td>\n",
       "    </tr>\n",
       "    <tr>\n",
       "      <th>17</th>\n",
       "      <td>RWEG.DE</td>\n",
       "      <td>RWE AG</td>\n",
       "      <td>2.733554e+10</td>\n",
       "      <td>1</td>\n",
       "      <td>0</td>\n",
       "    </tr>\n",
       "    <tr>\n",
       "      <th>18</th>\n",
       "      <td>FREG.DE</td>\n",
       "      <td>Fresenius SE &amp; Co KGaA</td>\n",
       "      <td>2.581399e+10</td>\n",
       "      <td>1</td>\n",
       "      <td>0</td>\n",
       "    </tr>\n",
       "    <tr>\n",
       "      <th>19</th>\n",
       "      <td>FMEG.DE</td>\n",
       "      <td>Fresenius Medical Care AG &amp; Co KGaA</td>\n",
       "      <td>2.399858e+10</td>\n",
       "      <td>1</td>\n",
       "      <td>0</td>\n",
       "    </tr>\n",
       "    <tr>\n",
       "      <th>20</th>\n",
       "      <td>DBKGn.DE</td>\n",
       "      <td>Deutsche Bank AG</td>\n",
       "      <td>2.238385e+10</td>\n",
       "      <td>1</td>\n",
       "      <td>0</td>\n",
       "    </tr>\n",
       "    <tr>\n",
       "      <th>21</th>\n",
       "      <td>MRCG.DE</td>\n",
       "      <td>Merck KGaA</td>\n",
       "      <td>2.106119e+10</td>\n",
       "      <td>1</td>\n",
       "      <td>0</td>\n",
       "    </tr>\n",
       "    <tr>\n",
       "      <th>22</th>\n",
       "      <td>HEIG.DE</td>\n",
       "      <td>HeidelbergCement AG</td>\n",
       "      <td>1.422492e+10</td>\n",
       "      <td>1</td>\n",
       "      <td>0</td>\n",
       "    </tr>\n",
       "    <tr>\n",
       "      <th>23</th>\n",
       "      <td>CBKG.DE</td>\n",
       "      <td>Commerzbank AG</td>\n",
       "      <td>8.044701e+09</td>\n",
       "      <td>1</td>\n",
       "      <td>0</td>\n",
       "    </tr>\n",
       "    <tr>\n",
       "      <th>24</th>\n",
       "      <td>LHAG.DE</td>\n",
       "      <td>Deutsche Lufthansa AG</td>\n",
       "      <td>6.818937e+09</td>\n",
       "      <td>1</td>\n",
       "      <td>0</td>\n",
       "    </tr>\n",
       "    <tr>\n",
       "      <th>25</th>\n",
       "      <td>TKAG.DE</td>\n",
       "      <td>Thyssenkrupp AG</td>\n",
       "      <td>5.276461e+09</td>\n",
       "      <td>1</td>\n",
       "      <td>0</td>\n",
       "    </tr>\n",
       "    <tr>\n",
       "      <th>26</th>\n",
       "      <td>PSMGn.DE</td>\n",
       "      <td>Prosiebensat 1 Media SE</td>\n",
       "      <td>3.836555e+09</td>\n",
       "      <td>1</td>\n",
       "      <td>0</td>\n",
       "    </tr>\n",
       "  </tbody>\n",
       "</table>\n",
       "</div>"
      ],
      "text/plain": [
       "          ric                  Company Common Name  Company Market Cap  DAX  \\\n",
       "1     SAPG.DE                               SAP SE        1.501916e+11    1   \n",
       "2    SIEGn.DE                           Siemens AG        1.183675e+11    1   \n",
       "3     ALVG.DE                           Allianz SE        9.704549e+10    1   \n",
       "4   VOWG_p.DE                        Volkswagen AG        9.619011e+10    1   \n",
       "5    DAIGn.DE                           Daimler AG        7.532200e+10    1   \n",
       "6    BASFn.DE                              BASF SE        7.222737e+10    1   \n",
       "7    ADSGn.DE                            Adidas AG        7.062461e+10    1   \n",
       "8    DPWGn.DE                     Deutsche Post AG        5.932596e+10    1   \n",
       "9     BMWG.DE          Bayerische Motoren Werke AG        5.780708e+10    1   \n",
       "10   BAYGn.DE                             Bayer AG        5.621811e+10    1   \n",
       "11   IFXGn.DE             Infineon Technologies AG        4.791433e+10    1   \n",
       "12  HNKG_p.DE                  Henkel AG & Co KgaA        4.400469e+10    1   \n",
       "13    VNAn.DE                           Vonovia SE        3.941367e+10    1   \n",
       "14   EONGn.DE                              E.ON SE        2.849412e+10    1   \n",
       "15    BEIG.DE                        Beiersdorf AG        2.817068e+10    1   \n",
       "16    CONG.DE                       Continental AG        2.749257e+10    1   \n",
       "17    RWEG.DE                               RWE AG        2.733554e+10    1   \n",
       "18    FREG.DE               Fresenius SE & Co KGaA        2.581399e+10    1   \n",
       "19    FMEG.DE  Fresenius Medical Care AG & Co KGaA        2.399858e+10    1   \n",
       "20   DBKGn.DE                     Deutsche Bank AG        2.238385e+10    1   \n",
       "21    MRCG.DE                           Merck KGaA        2.106119e+10    1   \n",
       "22    HEIG.DE                  HeidelbergCement AG        1.422492e+10    1   \n",
       "23    CBKG.DE                       Commerzbank AG        8.044701e+09    1   \n",
       "24    LHAG.DE                Deutsche Lufthansa AG        6.818937e+09    1   \n",
       "25    TKAG.DE                      Thyssenkrupp AG        5.276461e+09    1   \n",
       "26   PSMGn.DE              Prosiebensat 1 Media SE        3.836555e+09    1   \n",
       "\n",
       "    German_telecom  \n",
       "1                0  \n",
       "2                0  \n",
       "3                0  \n",
       "4                0  \n",
       "5                0  \n",
       "6                0  \n",
       "7                0  \n",
       "8                0  \n",
       "9                0  \n",
       "10               0  \n",
       "11               0  \n",
       "12               0  \n",
       "13               0  \n",
       "14               0  \n",
       "15               0  \n",
       "16               0  \n",
       "17               0  \n",
       "18               0  \n",
       "19               0  \n",
       "20               0  \n",
       "21               0  \n",
       "22               0  \n",
       "23               0  \n",
       "24               0  \n",
       "25               0  \n",
       "26               0  "
      ]
     },
     "execution_count": 7,
     "metadata": {},
     "output_type": "execute_result"
    }
   ],
   "source": [
    "condition_dax = (rics_german_df['DAX'] == 1) & (rics_german_df['German_telecom'] != 1)\n",
    "rics_dax = rics_german_df[condition_dax]\n",
    "rics_dax[['ric', 'Company Common Name', 'Company Market Cap', 'DAX', 'German_telecom']]"
   ]
  },
  {
   "cell_type": "code",
   "execution_count": 8,
   "metadata": {},
   "outputs": [
    {
     "name": "stdout",
     "output_type": "stream",
     "text": [
      "fisrt top-200 companies by market cap: \n",
      " ['Apple Inc', 'Microsoft Corp', 'Amazon.com Inc', 'Alphabet Inc', 'Tesla Inc', 'Facebook Inc', 'Alibaba Group Holding Ltd', 'Berkshire Hathaway Inc', 'Visa Inc', 'Johnson & Johnson', 'Walmart Inc', 'JPMorgan Chase & Co', 'Mastercard Inc', 'UnitedHealth Group Inc', 'Procter & Gamble Co', 'NVIDIA Corp', 'Walt Disney Co', 'Home Depot Inc', 'PayPal Holdings Inc', 'Bank of America Corp', 'Ishares S&P 500', 'Verizon Communications Inc', 'Comcast Corp', 'Adobe Inc', 'Nike Inc', 'Netflix Inc', 'Pinduoduo Inc', 'Coca-Cola Co', 'Intel Corp', 'Merck & Co Inc', 'Vanguard Idx Fund', 'AT&T Inc', 'Pfizer Inc', 'Salesforce.Com Inc', 'Thermo Fisher Scientific Inc', 'PepsiCo Inc', 'Abbott Laboratories', 'Exxon Mobil Corp', 'Cisco Systems Inc', 'Abbvie Inc', 'Oracle Corp', 'Vanguard 500 Index Fund', 'Broadcom Inc', 'Qualcomm Inc', 'Chevron Corp', 'Accenture PLC', 'Danaher Corp', 'T-Mobile US Inc', 'Costco Wholesale Corp', 'Medtronic PLC', \"Mcdonald's Corp\", 'Eli Lilly and Co', 'Nextera Energy Inc', 'Texas Instruments Inc', 'Invesco QQQ Trust Series 1', 'Union Pacific Corp', 'Honeywell International Inc', 'Shopify Inc', 'Linde PLC', 'Bristol-Myers Squibb Co', 'Amgen Inc', 'Wells Fargo & Co', 'United Parcel Service Inc', 'Morgan Stanley', 'Citigroup Inc', 'Philip Morris International Inc', 'Charter Communications Inc', 'Starbucks Corp', \"Lowe's Companies Inc\", 'Boeing Co', 'BlackRock Inc', 'International Business Machines Corp', 'Advanced Micro Devices Inc', 'Charles Schwab Corp', 'Square Inc', 'Sea Ltd', 'Raytheon Technologies Corp', 'Caterpillar Inc', 'ServiceNow Inc', 'Zoom Video Communications Inc', 'Goldman Sachs Group Inc', 'General Electric Co', 'American Tower Corp', 'Intuit Inc', 'American Express Co', 'CVS Health Corp', 'Target Corp', 'Intuitive Surgical Inc', '3M Co', 'Estee Lauder Companies Inc', 'Lockheed Martin Corp', 'Uber Technologies Inc', 'Booking Holdings Inc', 'NIO Inc', 'Deere & Co', 'Stryker Corp', 'Airbnb Inc', 'Applied Materials Inc', 'iShares Core MSCI EAFE ETF', 'Micron Technology Inc']\n"
     ]
    }
   ],
   "source": [
    "rics_usa_df = pd.read_excel(path_project_folder + 'rics_usa_excel.xlsx')\n",
    "print('fisrt top-200 companies by market cap:', '\\n', list(rics_usa_df['Company Common Name'])[:100])"
   ]
  },
  {
   "cell_type": "code",
   "execution_count": 9,
   "metadata": {},
   "outputs": [],
   "source": [
    "def get_name_of_latest_file_in_folder(folder_name):\n",
    "    files_creation_dates = pd.DataFrame(data = [], columns=[\n",
    "        \"folder_name\", \"file_name\", \"num_time\", \"str_time\"\n",
    "    ])\n",
    "\n",
    "    files_creation_dates['file_name'] = os.listdir(folder_name)\n",
    "    files_creation_dates['folder_name'] = folder_name\n",
    "    files_creation_dates['file_folder_and_name'] = files_creation_dates['folder_name'] + files_creation_dates['file_name']\n",
    "    files_creation_dates\n",
    "    for i in range(0, len(files_creation_dates)):\n",
    "        file_folder_and_name = files_creation_dates['file_folder_and_name'][i]\n",
    "        files_creation_dates['num_time'][i] = os.path.getctime(file_folder_and_name)\n",
    "        files_creation_dates['str_time'][i] = time.ctime(os.path.getctime(file_folder_and_name))\n",
    "\n",
    "    most_latest_file_dir = files_creation_dates.sort_values(by=['num_time'], ascending=False)['file_folder_and_name'].iloc[0]\n",
    "    \n",
    "    return most_latest_file_dir"
   ]
  },
  {
   "cell_type": "code",
   "execution_count": 10,
   "metadata": {},
   "outputs": [
    {
     "name": "stdout",
     "output_type": "stream",
     "text": [
      "(112941, 6) C:/DAN/t_systems/trade_project/backup_headlines/all_headlines_df_2021-01-11_v1.csv\n"
     ]
    }
   ],
   "source": [
    "# Создадим df, в который будем сохранять вообще все новости.\n",
    "\n",
    "# Можем создать пустой df, куда будем добавлять все новости\n",
    "# all_headlines_df = pd.DataFrame(data = [], columns=[\"ric\", \"versionCreated\", \"headline\", \"storyId\", \"sourceCode\", \"story\"])\n",
    "\n",
    "# Но если мы уже сохраняли файл, достанем самый свежий из папки\n",
    "most_latest_file = get_name_of_latest_file_in_folder(path_project_folder + folder_name_headlines)\n",
    "all_headlines_df = pd.read_csv(most_latest_file, sep='~')\n",
    "all_headlines_df['versionCreated'] = pd.to_datetime(all_headlines_df['versionCreated'])\n",
    "print(all_headlines_df.shape, most_latest_file)"
   ]
  },
  {
   "cell_type": "code",
   "execution_count": 11,
   "metadata": {},
   "outputs": [
    {
     "name": "stdout",
     "output_type": "stream",
     "text": [
      "(79359, 11) C:/DAN/t_systems/trade_project/logger/quasi_logger_2021-01-11_v1.csv\n"
     ]
    }
   ],
   "source": [
    "# Создадим подобие logger'а \n",
    "\n",
    "# quasi_logger = pd.DataFrame(data = [], columns=[\n",
    "#     'ric_i', 'ric_now', 'headlines_slice_i', 'headlines_number',\n",
    "#     'up_to_date_ric', 'story_i', 'story_id_now', 'story_is_success', \n",
    "#     'date_time',\n",
    "# ])\n",
    "\n",
    "# Так как у нас уже есть созданный logger, подгрузим его\n",
    "most_latest_file = get_name_of_latest_file_in_folder(path_project_folder + folder_name_logger)\n",
    "quasi_logger = pd.read_csv(most_latest_file, sep=';')\n",
    "quasi_logger['date_time'] = pd.to_datetime(quasi_logger['date_time'])\n",
    "print(quasi_logger.shape, most_latest_file)"
   ]
  },
  {
   "cell_type": "code",
   "execution_count": 32,
   "metadata": {},
   "outputs": [],
   "source": [
    "# Проверим, содержит ли all_headlines_df наш текущий ric\n",
    "def set_value_of_up_to_date_ric(\n",
    "        ric_now, # ric to check of existence in df\n",
    "        df_with_news_to_check,\n",
    "        column_name_with_rics = 'ric',\n",
    "        column_name_with_dates = 'versionCreated'):\n",
    "    \"\"\"\n",
    "    This function is checking the existance of ric in chosen df.\n",
    "    If some news are in df, then function returns the oldest date in df.\n",
    "    If no news are in df, then function returns 'None' for ek.get_news_headlines.\n",
    "    \"\"\"\n",
    "\n",
    "    is_this_ric_in_all = ric_now in list(df_with_news_to_check[column_name_with_rics])\n",
    "    print()\n",
    "    print('is_this_ric_in_all:', is_this_ric_in_all, end=' ')\n",
    "    if is_this_ric_in_all:\n",
    "        # Если в нашем датасете присутствует этот ric,\n",
    "        # то продолжаем по нему выгружать, берём мин имеющуюся дату.\n",
    "        up_to_date_ric = str(df_with_news_to_check[df_with_news_to_check[column_name_with_rics] == ric_now][column_name_with_dates].min())\n",
    "        print('  up_to_date_ric:', up_to_date_ric, end=' ')\n",
    "    else:\n",
    "        # None означает, что метод ek.get_news_headlines возьмёт текущий момент времени.\n",
    "        up_to_date_ric = None\n",
    "        print('  up_to_date_ric:', up_to_date_ric, end=' ')\n",
    "        \n",
    "    return up_to_date_ric"
   ]
  },
  {
   "cell_type": "code",
   "execution_count": 33,
   "metadata": {},
   "outputs": [],
   "source": [
    "def get_news_headlines_with_some_tries(\n",
    "        ric_now,\n",
    "        headlines_count_to_request,\n",
    "        up_to_date_ric,\n",
    "        max_num_tries=5):\n",
    "    \"\"\"\n",
    "    We trying to get df with headlines from eikon API with several tries\n",
    "    \"\"\"\n",
    "    \n",
    "    tries_num = 0\n",
    "    while tries_num < max_num_tries:\n",
    "        try:\n",
    "            news_get_df = ek.get_news_headlines(\n",
    "                query=ric_now,\n",
    "                count=headlines_count_to_request,\n",
    "                date_to=up_to_date_ric\n",
    "            )\n",
    "            print('got successfully', end=' ')\n",
    "            break\n",
    "        except Exception as e:\n",
    "            print()\n",
    "            print('Error when trying to get news headlines', tries_num)\n",
    "            print(e)\n",
    "            time.sleep(5)\n",
    "            tries_num = tries_num + 1\n",
    "\n",
    "    print('news_get_df.shape:', news_get_df.shape[0])\n",
    "\n",
    "    return news_get_df"
   ]
  },
  {
   "cell_type": "code",
   "execution_count": 34,
   "metadata": {},
   "outputs": [],
   "source": [
    "def prepare_headlines_df_to_adding_news_story(\n",
    "        ric_now,\n",
    "        news_get_df):\n",
    "    \"\"\"\n",
    "    Now: news_get_df is collected df from ek.get_news_headlines method.\n",
    "    And we want to add news story (full news text) to that df.\n",
    "    So we should prepare that df for iterations with ek.get_news_story method.\n",
    "    For that puspose we should add ric and story columns,\n",
    "    and change the column name with headlines from text to headlines.\n",
    "    \"\"\"\n",
    "    \n",
    "    news_get_df = news_get_df.reset_index(drop=True) # чтобы юзать .loc()\n",
    "    news_get_df['ric'] = ric_now\n",
    "    news_get_df['story'] = np.nan\n",
    "    news_get_df['headline'] = news_get_df['text']\n",
    "    news_get_df = news_get_df.drop(columns=['text'])\n",
    "    \n",
    "    return news_get_df"
   ]
  },
  {
   "cell_type": "code",
   "execution_count": 35,
   "metadata": {},
   "outputs": [],
   "source": [
    "def adding_news_stories_to_df_with_headlines(\n",
    "        news_get_df,\n",
    "        quasi_logger,\n",
    "        ric_i,\n",
    "        ric_now,\n",
    "        headlines_slice_i,\n",
    "        headlines_number,\n",
    "        up_to_date_ric,\n",
    "        col_name_with_story_id = 'storyId'):\n",
    "    \"\"\"\n",
    "    The function adds full text news story to df with headlines using storyId.\n",
    "    The function just prints the error in a case of error (they are rare).\n",
    "    In any case the function logs results of API request to logger df.\n",
    "    \"\"\"\n",
    "\n",
    "    for story_i in range(0, len(news_get_df)): # range(0, len(news_get_df))\n",
    "        story_id_now = news_get_df['storyId'][story_i]\n",
    "\n",
    "        try:\n",
    "            story_now = ek.get_news_story(story_id_now)\n",
    "            # Удалим из истории все тильды на всякий случай, будет sep='~'\n",
    "            story_now = story_now.replace(\"~\", \"!tilda!\")\n",
    "            # Внесём выкаченную историю в df\n",
    "            news_get_df.loc[story_i, 'story'] = story_now\n",
    "            # Пометим, что мы успешно выкачали текст новости\n",
    "            story_is_success = True\n",
    "            print(story_i, end='; ')\n",
    "\n",
    "        except Exception as e:\n",
    "            story_is_success = False\n",
    "            # Заменим NA на текст ошибки\n",
    "            news_get_df.loc[story_i, 'story'] = 'error_when_trying_to_collect_story'\n",
    "            # Выведем story с ошибкой\n",
    "            print() # e.message\n",
    "            print(\n",
    "                'STORY IS OK:', story_is_success, \n",
    "                '  ric_now:', ric_now, # input to function\n",
    "                '  ric_i:', ric_i, # input to function\n",
    "                '  story_i:', story_i\n",
    "                )\n",
    "            print(e)\n",
    "            time.sleep(5)\n",
    "\n",
    "        finally:\n",
    "            # В любом случае внесём в наш квази-логгер наблюдение story.\n",
    "            quasi_logger = quasi_logger.append({\n",
    "                \"ric_i\": ric_i, # input to function\n",
    "                \"ric_now\": ric_now, # input to function\n",
    "                \"headlines_slice_i\": headlines_slice_i, # input to function\n",
    "                \"headlines_number\": headlines_number, # input to function\n",
    "                \"up_to_date_ric\": up_to_date_ric, # input to function\n",
    "                \"story_i\": story_i,\n",
    "                \"story_id_now\": story_id_now,\n",
    "                \"story_is_success\": story_is_success,\n",
    "                \"date_time\": str(datetime.today())\n",
    "            }, ignore_index = True)\n",
    "    # At that moment the df has full text of news in col story\n",
    "    return news_get_df, quasi_logger"
   ]
  },
  {
   "cell_type": "code",
   "execution_count": 36,
   "metadata": {},
   "outputs": [],
   "source": [
    "def save_file_as_new_file_without_replacing(\n",
    "        path_project_folder,\n",
    "        folder_name_to_save,\n",
    "        file_to_save,\n",
    "        file_short_name_add_to_path):\n",
    "    \"\"\"\n",
    "    Save the file to selected folder without replacing,\n",
    "    but changing file name as a number of version at date now\n",
    "    \"\"\"\n",
    "    # Сохраним версию all_headlines_df со всеми новостями\n",
    "    # Подберём такое название, которого нет в dir, чтобы не переписывать файл.\n",
    "    file_version = 1\n",
    "    folder_name = path_project_folder + folder_name_to_save\n",
    "    date_now = datetime.today().strftime(\"%Y-%m-%d\")\n",
    "    file_name = file_short_name_add_to_path + '_' + str(date_now) + '_v' + str(file_version) + '.csv'\n",
    "    while file_name in os.listdir(folder_name):\n",
    "        file_name = file_short_name_add_to_path + '_' + str(date_now) + '_v' + str(file_version) + '.csv'\n",
    "        file_version = file_version + 1\n",
    "    # C:/DAN/t_systems/trade_project/backup_headlines/all_headlines_df_2020-12-24_v6.csv\n",
    "    file_path = folder_name + file_name\n",
    "    file_to_save.to_csv(file_path, sep = '~', index=False)\n",
    "    print(file_path)"
   ]
  },
  {
   "cell_type": "code",
   "execution_count": 43,
   "metadata": {},
   "outputs": [
    {
     "name": "stdout",
     "output_type": "stream",
     "text": [
      "0 AAPL.OQ\n",
      "\n",
      "is_this_ric_in_all: False   up_to_date_ric: None got successfully news_get_df.shape: 100\n",
      "0; 1; 2; 3; 4; 5; 6; 7; 8; 9; 10; 11; 12; 13; 14; 15; 16; 17; 18; 19; 20; 21; 22; 23; 24; 25; 26; 27; 28; 29; 30; 31; 32; 33; 34; 35; 36; 37; 38; 39; 40; 41; 42; 43; 44; 45; 46; 47; 48; 49; 50; 51; 52; 53; 54; 55; 56; 57; 58; 59; 60; 61; 62; 63; 64; 65; 66; 67; 68; 69; 70; 71; 72; 73; 74; 75; 76; 77; 78; 79; 80; 81; 82; 83; 84; 85; 86; 87; 88; 89; 90; 91; 92; 93; 94; 95; 96; 97; 98; 99; \n",
      "2021-01-11 02:22:47.093889 AAPL.OQ  ric_i: 0  headline_slice_i: 1  headline_number: 100  not null: 100 None\n",
      "\n",
      "is_this_ric_in_all: True   up_to_date_ric: 2021-01-07 14:17:17.973000+00:00 got successfully news_get_df.shape: 100\n",
      "0; 1; 2; 3; 4; 5; 6; 7; 8; 9; 10; 11; 12; 13; 14; 15; 16; 17; 18; 19; 20; 21; 22; 23; 24; 25; 26; 27; 28; 29; 30; 31; 32; 33; 34; 35; 36; 37; 38; 39; 40; 41; 42; 43; 44; 45; 46; 47; 48; 49; 50; 51; 52; 53; 54; 55; 56; 57; 58; 59; 60; 61; 62; 63; 64; 65; 66; 67; 68; 69; 70; 71; 72; 73; 74; 75; 76; 77; 78; 79; 80; 81; 82; 83; 84; 85; 86; 87; 88; 89; 90; 91; 92; 93; 94; 95; 96; 97; 98; 99; \n",
      "2021-01-11 02:24:02.501333 AAPL.OQ  ric_i: 0  headline_slice_i: 2  headline_number: 100  not null: 100 2021-01-07 14:17:17.973000+00:00\n",
      "\n",
      "is_this_ric_in_all: True   up_to_date_ric: 2021-01-05 11:57:20+00:00 got successfully news_get_df.shape: 100\n",
      "0; 1; 2; 3; 4; 5; 6; 7; 8; 9; 10; 11; 12; 13; 14; 15; 16; 17; 18; 19; 20; 21; 22; 23; 24; 25; 26; 27; 28; 29; 30; 31; 32; 33; 34; 35; 36; 37; 38; 39; 40; 41; 42; 43; 44; 45; 46; 47; 48; 49; 50; 51; 52; 53; 54; 55; 56; 57; 58; 59; 60; 61; 62; 63; 64; 65; 66; 67; 68; 69; 70; 71; 72; 73; 74; 75; 76; 77; 78; 79; 80; 81; 82; 83; 84; 85; 86; 87; 88; 89; 90; 91; 92; 93; 94; 95; 96; 97; 98; 99; \n",
      "2021-01-11 02:24:51.506851 AAPL.OQ  ric_i: 0  headline_slice_i: 3  headline_number: 100  not null: 100 2021-01-05 11:57:20+00:00\n",
      "\n",
      "is_this_ric_in_all: True   up_to_date_ric: 2020-12-29 09:51:30.199000+00:00 got successfully news_get_df.shape: 100\n",
      "0; 1; 2; 3; 4; 5; 6; 7; 8; 9; 10; 11; 12; 13; 14; 15; 16; 17; 18; 19; 20; 21; 22; 23; 24; 25; 26; 27; 28; 29; 30; 31; 32; 33; 34; 35; 36; 37; 38; 39; 40; 41; 42; 43; 44; 45; 46; 47; 48; 49; 50; 51; 52; 53; 54; 55; 56; 57; 58; 59; 60; 61; 62; 63; 64; 65; 66; 67; 68; 69; 70; 71; 72; 73; 74; 75; 76; 77; 78; 79; 80; 81; 82; 83; 84; 85; 86; 87; 88; 89; 90; 91; 92; 93; 94; 95; 96; 97; 98; 99; \n",
      "2021-01-11 02:25:34.388222 AAPL.OQ  ric_i: 0  headline_slice_i: 4  headline_number: 100  not null: 100 2020-12-29 09:51:30.199000+00:00\n",
      "\n",
      "is_this_ric_in_all: True   up_to_date_ric: 2020-12-23 04:15:18.280000+00:00 got successfully news_get_df.shape: 100\n",
      "0; 1; 2; 3; 4; 5; 6; 7; 8; 9; 10; 11; 12; 13; 14; 15; 16; 17; 18; 19; 20; 21; 22; 23; 24; 25; 26; 27; 28; 29; 30; 31; 32; 33; 34; 35; 36; 37; 38; 39; 40; 41; 42; 43; 44; 45; 46; 47; 48; 49; 50; 51; 52; 53; 54; 55; 56; 57; 58; 59; 60; 61; 62; 63; 64; 65; 66; 67; 68; 69; 70; 71; 72; 73; 74; 75; 76; 77; 78; 79; 80; 81; 82; 83; 84; 85; 86; 87; 88; 89; 90; 91; 92; 93; 94; 95; 96; 97; 98; 99; \n",
      "2021-01-11 02:26:25.369174 AAPL.OQ  ric_i: 0  headline_slice_i: 5  headline_number: 100  not null: 100 2020-12-23 04:15:18.280000+00:00\n",
      "\n",
      "is_this_ric_in_all: True   up_to_date_ric: 2020-12-21 21:35:46.230000+00:00 got successfully news_get_df.shape: 100\n",
      "0; 1; 2; 3; 4; 5; 6; 7; 8; 9; 10; 11; 12; 13; 14; 15; 16; 17; 18; 19; 20; 21; 22; 23; 24; 25; 26; 27; 28; 29; 30; 31; 32; 33; 34; 35; 36; 37; 38; 39; 40; 41; 42; 43; 44; 45; 46; 47; 48; 49; 50; 51; 52; 53; 54; 55; 56; 57; 58; 59; 60; 61; 62; 63; 64; 65; 66; 67; 68; 69; 70; 71; 72; 73; 74; 75; 76; 77; 78; 79; 80; 81; 82; 83; 84; 85; 86; 87; 88; 89; 90; 91; 92; 93; 94; 95; 96; 97; 98; 99; \n",
      "2021-01-11 02:27:42.364223 AAPL.OQ  ric_i: 0  headline_slice_i: 6  headline_number: 100  not null: 100 2020-12-21 21:35:46.230000+00:00\n",
      "\n",
      "is_this_ric_in_all: True   up_to_date_ric: 2020-12-19 02:00:21.594000+00:00 got successfully news_get_df.shape: 100\n",
      "0; 1; 2; 3; 4; 5; 6; 7; 8; 9; 10; 11; 12; 13; 14; 15; 16; 17; 18; 19; 20; 21; 22; 23; 24; 25; 26; 27; 28; 29; 30; 31; 32; 33; 34; 35; 36; 37; 38; 39; 40; 41; 42; 43; 44; 45; 46; 47; 48; 49; 50; 51; 52; 53; 54; 55; 56; 57; 58; 59; 60; 61; 62; 63; 64; 65; 66; 67; 68; 69; 70; 71; 72; 73; 74; 75; 76; 77; 78; 79; 80; 81; 82; 83; 84; 85; 86; 87; 88; 89; 90; 91; 92; 93; 94; 95; 96; 97; 98; 99; \n",
      "2021-01-11 02:28:31.161214 AAPL.OQ  ric_i: 0  headline_slice_i: 7  headline_number: 100  not null: 100 2020-12-19 02:00:21.594000+00:00\n",
      "\n",
      "is_this_ric_in_all: True   up_to_date_ric: 2020-12-16 18:25:14.325000+00:00 got successfully news_get_df.shape: 100\n",
      "0; 1; 2; 3; 4; 5; 6; 7; 8; 9; 10; 11; 12; 13; 14; 15; 16; 17; 18; 19; 20; 21; 22; 23; 24; 25; 26; 27; 28; 29; 30; 31; 32; 33; 34; 35; 36; 37; 38; 39; 40; 41; 42; 43; 44; 45; 46; 47; 48; 49; 50; 51; 52; 53; 54; 55; 56; 57; 58; 59; 60; 61; 62; 63; 64; 65; 66; 67; 68; 69; 70; 71; 72; 73; 74; 75; 76; 77; 78; 79; 80; 81; 82; 83; 84; 85; 86; 87; 88; 89; 90; 91; 92; 93; 94; 95; 96; 97; 98; 99; \n",
      "2021-01-11 02:29:22.708271 AAPL.OQ  ric_i: 0  headline_slice_i: 8  headline_number: 100  not null: 100 2020-12-16 18:25:14.325000+00:00\n",
      "\n",
      "is_this_ric_in_all: True   up_to_date_ric: 2020-12-15 17:14:03+00:00 got successfully news_get_df.shape: 100\n",
      "0; 1; 2; 3; 4; 5; 6; 7; 8; 9; 10; 11; 12; 13; 14; 15; 16; 17; 18; 19; 20; 21; 22; 23; 24; 25; 26; 27; 28; 29; 30; 31; 32; 33; 34; 35; 36; 37; 38; 39; 40; 41; 42; 43; 44; 45; 46; 47; 48; 49; 50; 51; 52; 53; 54; 55; 56; 57; 58; 59; 60; 61; 62; 63; 64; 65; 66; 67; 68; 69; 70; 71; 72; 73; 74; 75; 76; 77; 78; 79; 80; 81; 82; 83; 84; 85; 86; 87; 88; 89; 90; 91; 92; 93; 94; 95; 96; 97; 98; 99; \n",
      "2021-01-11 02:30:18.609426 AAPL.OQ  ric_i: 0  headline_slice_i: 9  headline_number: 100  not null: 100 2020-12-15 17:14:03+00:00\n",
      "\n",
      "is_this_ric_in_all: True   up_to_date_ric: 2020-12-14 21:53:08+00:00 got successfully news_get_df.shape: 100\n",
      "0; 1; 2; 3; 4; 5; 6; 7; 8; 9; 10; 11; 12; 13; 14; 15; 16; 17; 18; 19; 20; 21; 22; 23; 24; 25; 26; 27; 28; 29; 30; 31; 32; 33; 34; 35; 36; 37; 38; 39; 40; 41; 42; 43; 44; 45; 46; 47; 48; 49; 50; 51; 52; 53; 54; 55; 56; 57; 58; 59; 60; 61; 62; 63; 64; 65; 66; 67; 68; 69; 70; 71; 72; 73; 74; 75; 76; 77; 78; 79; 80; 81; 82; 83; 84; 85; 86; 87; 88; 89; 90; 91; 92; 93; 94; 95; 96; 97; 98; 99; \n",
      "2021-01-11 02:31:16.184816 AAPL.OQ  ric_i: 0  headline_slice_i: 10  headline_number: 100  not null: 100 2020-12-14 21:53:08+00:00\n",
      "\n",
      "is_this_ric_in_all: True   up_to_date_ric: 2020-12-12 14:04:15.451000+00:00 got successfully news_get_df.shape: 100\n",
      "0; 1; 2; 3; 4; 5; 6; 7; 8; 9; 10; 11; 12; 13; 14; 15; 16; 17; 18; 19; 20; 21; 22; 23; 24; 25; 26; 27; 28; 29; 30; 31; 32; 33; 34; 35; 36; 37; 38; 39; 40; 41; 42; 43; 44; 45; 46; 47; 48; 49; 50; 51; 52; 53; 54; 55; 56; 57; 58; 59; 60; 61; 62; 63; 64; 65; 66; 67; 68; 69; 70; 71; 72; 73; 74; 75; 76; 77; 78; 79; 80; 81; 82; 83; 84; 85; 86; 87; 88; 89; 90; 91; 92; 93; 94; 95; 96; 97; 98; 99; \n",
      "2021-01-11 02:32:03.379725 AAPL.OQ  ric_i: 0  headline_slice_i: 11  headline_number: 100  not null: 100 2020-12-12 14:04:15.451000+00:00\n",
      "\n",
      "is_this_ric_in_all: True   up_to_date_ric: 2020-12-09 21:59:14+00:00 got successfully news_get_df.shape: 100\n",
      "0; 1; 2; 3; 4; 5; 6; 7; 8; 9; 10; 11; 12; 13; 14; 15; 16; 17; 18; 19; 20; 21; 22; 23; 24; 25; 26; 27; 28; 29; 30; 31; 32; 33; 34; 35; 36; 37; 38; 39; 40; 41; 42; 43; 44; 45; 46; 47; 48; 49; 50; 51; 52; 53; 54; 55; 56; 57; 58; 59; 60; 61; 62; 63; 64; 65; 66; 67; 68; 69; 70; 71; 72; 73; 74; 75; 76; 77; 78; 79; 80; 81; 82; 83; 84; 85; 86; 87; 88; 89; 90; 91; 92; 93; 94; 95; 96; 97; 98; 99; \n",
      "2021-01-11 02:32:52.211866 AAPL.OQ  ric_i: 0  headline_slice_i: 12  headline_number: 100  not null: 100 2020-12-09 21:59:14+00:00\n",
      "\n",
      "is_this_ric_in_all: True   up_to_date_ric: 2020-12-08 15:12:33+00:00 got successfully news_get_df.shape: 100\n",
      "0; 1; 2; 3; 4; 5; 6; 7; 8; 9; 10; 11; 12; 13; 14; 15; 16; 17; 18; 19; 20; 21; 22; 23; 24; 25; 26; 27; 28; 29; 30; 31; 32; 33; 34; 35; 36; 37; 38; 39; 40; 41; 42; 43; 44; 45; 46; 47; 48; 49; 50; 51; 52; 53; 54; 55; 56; 57; 58; 59; 60; 61; 62; 63; 64; 65; 66; 67; 68; 69; 70; 71; 72; 73; 74; 75; 76; 77; 78; 79; 80; 81; 82; 83; 84; 85; 86; 87; 88; 89; 90; 91; 92; 93; 94; 95; 96; 97; 98; 99; \n",
      "2021-01-11 02:33:55.012677 AAPL.OQ  ric_i: 0  headline_slice_i: 13  headline_number: 100  not null: 100 2020-12-08 15:12:33+00:00\n",
      "\n",
      "is_this_ric_in_all: True   up_to_date_ric: 2020-12-06 09:00:08.350000+00:00 got successfully news_get_df.shape: 100\n",
      "0; 1; 2; 3; 4; 5; 6; 7; 8; 9; 10; 11; 12; 13; 14; 15; 16; 17; 18; 19; 20; 21; 22; 23; 24; 25; 26; 27; 28; 29; 30; 31; 32; 33; 34; 35; 36; 37; 38; 39; 40; 41; 42; 43; 44; 45; 46; 47; 48; 49; 50; 51; 52; 53; 54; 55; 56; 57; 58; 59; 60; 61; 62; 63; 64; 65; 66; 67; 68; 69; 70; 71; 72; 73; 74; 75; 76; 77; 78; 79; 80; 81; 82; 83; 84; 85; 86; 87; 88; 89; 90; 91; 92; 93; 94; 95; 96; 97; 98; 99; \n",
      "2021-01-11 02:34:48.621110 AAPL.OQ  ric_i: 0  headline_slice_i: 14  headline_number: 100  not null: 100 2020-12-06 09:00:08.350000+00:00\n",
      "\n",
      "is_this_ric_in_all: True   up_to_date_ric: 2020-12-02 12:06:56.979000+00:00 got successfully news_get_df.shape: 100\n",
      "0; 1; 2; 3; 4; 5; 6; 7; 8; 9; 10; 11; 12; 13; 14; 15; 16; 17; 18; 19; 20; 21; 22; 23; 24; 25; 26; 27; 28; 29; 30; 31; 32; 33; 34; 35; 36; 37; 38; 39; 40; 41; 42; 43; 44; 45; 46; 47; 48; 49; 50; 51; 52; 53; 54; 55; 56; 57; 58; 59; 60; 61; 62; 63; 64; 65; 66; 67; 68; 69; 70; 71; 72; 73; 74; 75; 76; 77; 78; 79; 80; 81; 82; 83; 84; 85; 86; 87; 88; 89; 90; 91; 92; 93; 94; 95; 96; 97; 98; 99; \n",
      "2021-01-11 02:35:38.988854 AAPL.OQ  ric_i: 0  headline_slice_i: 15  headline_number: 100  not null: 100 2020-12-02 12:06:56.979000+00:00\n",
      "\n",
      "is_this_ric_in_all: True   up_to_date_ric: 2020-11-30 18:01:09.898000+00:00 got successfully news_get_df.shape: 100\n",
      "0; 1; 2; 3; 4; 5; 6; 7; 8; 9; 10; 11; 12; 13; 14; 15; 16; 17; 18; 19; 20; 21; 22; 23; 24; 25; 26; 27; 28; 29; 30; 31; 32; 33; 34; 35; 36; 37; 38; 39; 40; 41; 42; 43; 44; 45; 46; 47; 48; 49; 50; 51; 52; 53; 54; 55; 56; 57; 58; 59; 60; 61; 62; 63; 64; 65; 66; 67; 68; 69; 70; 71; 72; 73; 74; 75; 76; 77; 78; 79; 80; 81; 82; 83; 84; 85; 86; 87; 88; 89; 90; 91; 92; 93; 94; 95; 96; 97; 98; 99; \n",
      "2021-01-11 02:36:40.311382 AAPL.OQ  ric_i: 0  headline_slice_i: 16  headline_number: 100  not null: 100 2020-11-30 18:01:09.898000+00:00\n",
      "\n",
      "is_this_ric_in_all: True   up_to_date_ric: 2020-11-27 16:14:53+00:00 got successfully news_get_df.shape: 100\n",
      "0; 1; 2; 3; 4; 5; 6; 7; 8; 9; 10; 11; 12; 13; 14; 15; 16; 17; 18; 19; 20; 21; 22; 23; 24; 25; 26; 27; 28; 29; 30; 31; 32; 33; 34; 35; 36; 37; 38; 39; 40; 41; 42; 43; 44; 45; 46; 47; 48; 49; 50; 51; 52; 53; 54; 55; 56; 57; 58; 59; 60; 61; 62; 63; 64; 65; 66; 67; 68; 69; 70; 71; 72; 73; 74; 75; 76; 77; 78; 79; 80; 81; 82; 83; 84; 85; 86; 87; 88; 89; 90; 91; 92; 93; 94; 95; 96; 97; 98; 99; \n",
      "2021-01-11 02:37:32.152046 AAPL.OQ  ric_i: 0  headline_slice_i: 17  headline_number: 100  not null: 100 2020-11-27 16:14:53+00:00\n",
      "\n",
      "is_this_ric_in_all: True   up_to_date_ric: 2020-11-25 20:30:00.340000+00:00 got successfully news_get_df.shape: 100\n",
      "0; 1; 2; 3; 4; 5; 6; 7; 8; 9; 10; 11; 12; 13; 14; 15; 16; 17; 18; 19; 20; 21; 22; 23; 24; 25; 26; 27; 28; 29; 30; 31; 32; 33; 34; 35; 36; 37; 38; 39; 40; 41; 42; 43; 44; 45; 46; 47; 48; 49; 50; 51; 52; 53; 54; 55; 56; 57; 58; 59; 60; 61; 62; 63; 64; 65; 66; 67; 68; 69; 70; 71; 72; 73; 74; 75; 76; 77; 78; 79; 80; 81; 82; 83; 84; 85; 86; 87; 88; 89; 90; 91; 92; 93; 94; 95; 96; 97; 98; 99; \n",
      "2021-01-11 02:38:21.590987 AAPL.OQ  ric_i: 0  headline_slice_i: 18  headline_number: 100  not null: 100 2020-11-25 20:30:00.340000+00:00\n",
      "\n",
      "is_this_ric_in_all: True   up_to_date_ric: 2020-11-23 20:20:50+00:00 got successfully news_get_df.shape: 100\n",
      "0; 1; 2; 3; 4; 5; 6; 7; 8; 9; 10; 11; 12; 13; 14; 15; 16; 17; 18; 19; 20; 21; 22; 23; 24; 25; 26; 27; 28; 29; 30; 31; 32; 33; 34; 35; 36; 37; 38; 39; 40; 41; 42; 43; 44; 45; 46; 47; 48; 49; 50; 51; 52; 53; 54; 55; 56; 57; 58; 59; 60; 61; 62; 63; 64; 65; 66; 67; 68; 69; 70; 71; 72; 73; 74; 75; 76; 77; 78; 79; 80; 81; 82; 83; 84; 85; 86; 87; 88; 89; 90; 91; 92; 93; 94; 95; 96; 97; 98; 99; \n",
      "2021-01-11 02:39:15.088435 AAPL.OQ  ric_i: 0  headline_slice_i: 19  headline_number: 100  not null: 100 2020-11-23 20:20:50+00:00\n",
      "\n",
      "is_this_ric_in_all: True   up_to_date_ric: 2020-11-20 20:46:56+00:00 got successfully news_get_df.shape: 100\n",
      "0; 1; 2; 3; 4; 5; 6; 7; 8; 9; 10; 11; 12; 13; 14; 15; 16; 17; 18; 19; 20; 21; 22; 23; 24; 25; 26; 27; 28; 29; 30; 31; 32; 33; 34; 35; 36; 37; 38; 39; 40; 41; 42; 43; 44; 45; 46; 47; 48; 49; 50; 51; 52; 53; 54; 55; 56; 57; 58; 59; 60; 61; 62; 63; 64; 65; 66; 67; 68; 69; 70; 71; 72; 73; 74; 75; 76; 77; 78; 79; 80; 81; 82; 83; 84; 85; 86; 87; 88; 89; 90; 91; 92; 93; 94; 95; 96; 97; 98; 99; \n",
      "2021-01-11 02:40:05.010107 AAPL.OQ  ric_i: 0  headline_slice_i: 20  headline_number: 100  not null: 100 2020-11-20 20:46:56+00:00\n",
      "\n",
      "is_this_ric_in_all: True   up_to_date_ric: 2020-11-19 06:12:12.992000+00:00 got successfully news_get_df.shape: 100\n",
      "0; 1; 2; 3; 4; 5; 6; 7; 8; 9; 10; 11; 12; 13; 14; 15; 16; 17; 18; 19; 20; 21; 22; 23; 24; 25; 26; 27; 28; 29; 30; 31; 32; 33; 34; 35; 36; 37; 38; 39; 40; 41; 42; 43; 44; 45; 46; 47; 48; 49; 50; 51; 52; 53; 54; 55; 56; 57; 58; 59; 60; 61; 62; 63; 64; 65; 66; 67; 68; 69; 70; 71; 72; 73; 74; 75; 76; 77; 78; 79; 80; 81; 82; 83; 84; 85; 86; 87; 88; 89; 90; 91; 92; 93; 94; 95; 96; 97; 98; 99; \n",
      "2021-01-11 02:41:01.348642 AAPL.OQ  ric_i: 0  headline_slice_i: 21  headline_number: 100  not null: 100 2020-11-19 06:12:12.992000+00:00\n",
      "\n",
      "is_this_ric_in_all: True   up_to_date_ric: 2020-11-17 18:16:50.387000+00:00 got successfully news_get_df.shape: 100\n",
      "0; 1; 2; 3; 4; 5; 6; 7; 8; 9; 10; 11; 12; 13; 14; 15; 16; 17; 18; 19; 20; 21; 22; 23; 24; 25; 26; 27; 28; 29; 30; 31; 32; 33; 34; 35; 36; 37; 38; 39; 40; 41; 42; 43; 44; 45; 46; 47; 48; 49; 50; 51; 52; 53; 54; 55; 56; 57; 58; 59; 60; 61; 62; 63; 64; 65; 66; 67; 68; 69; 70; 71; 72; 73; 74; 75; 76; 77; 78; 79; 80; 81; 82; 83; 84; 85; 86; 87; 88; 89; 90; 91; 92; 93; 94; 95; 96; 97; 98; 99; \n",
      "2021-01-11 02:41:54.660038 AAPL.OQ  ric_i: 0  headline_slice_i: 22  headline_number: 100  not null: 100 2020-11-17 18:16:50.387000+00:00\n",
      "\n",
      "is_this_ric_in_all: True   up_to_date_ric: 2020-11-13 21:34:14.196000+00:00 got successfully news_get_df.shape: 100\n",
      "0; 1; 2; 3; 4; 5; 6; 7; 8; 9; 10; 11; 12; 13; 14; 15; 16; 17; 18; 19; 20; 21; 22; 23; 24; 25; 26; 27; 28; 29; 30; 31; 32; 33; 34; 35; 36; 37; 38; 39; 40; 41; 42; 43; 44; 45; 46; 47; 48; 49; 50; 51; 52; 53; 54; \n",
      "STORY IS OK: False   ric_now: AAPL.OQ   ric_i: 0   story_i: 55\n",
      "'NoneType' object has no attribute 'replace'\n",
      "56; 57; 58; 59; 60; 61; 62; 63; 64; 65; 66; 67; 68; 69; 70; 71; 72; 73; 74; 75; 76; 77; 78; 79; 80; 81; 82; 83; 84; 85; 86; 87; 88; 89; 90; 91; 92; 93; 94; 95; 96; 97; 98; 99; \n",
      "2021-01-11 02:42:51.089503 AAPL.OQ  ric_i: 0  headline_slice_i: 23  headline_number: 100  not null: 100 2020-11-13 21:34:14.196000+00:00\n",
      "\n",
      "is_this_ric_in_all: True   up_to_date_ric: 2020-11-11 17:29:32+00:00 got successfully news_get_df.shape: 100\n",
      "0; 1; 2; 3; 4; 5; 6; 7; 8; 9; 10; 11; 12; 13; 14; 15; 16; 17; 18; 19; 20; 21; 22; 23; 24; 25; 26; 27; 28; 29; 30; 31; 32; 33; 34; 35; 36; 37; 38; 39; 40; 41; 42; 43; 44; 45; 46; 47; 48; 49; 50; 51; 52; 53; 54; 55; 56; 57; 58; 59; 60; 61; 62; 63; 64; 65; 66; 67; 68; 69; 70; 71; 72; 73; 74; 75; 76; 77; 78; 79; 80; 81; 82; 83; 84; 85; 86; 87; 88; 89; 90; 91; 92; 93; 94; 95; 96; 97; 98; 99; \n",
      "2021-01-11 02:43:35.824959 AAPL.OQ  ric_i: 0  headline_slice_i: 24  headline_number: 100  not null: 100 2020-11-11 17:29:32+00:00\n",
      "\n",
      "is_this_ric_in_all: True   up_to_date_ric: 2020-11-10 20:25:25+00:00 got successfully news_get_df.shape: 100\n",
      "0; 1; 2; 3; 4; 5; 6; 7; 8; 9; 10; 11; 12; 13; 14; 15; 16; 17; 18; 19; 20; 21; 22; 23; 24; 25; 26; 27; 28; 29; 30; 31; 32; 33; 34; 35; 36; 37; 38; 39; 40; 41; 42; 43; 44; 45; 46; 47; 48; 49; 50; 51; 52; 53; 54; 55; 56; 57; 58; 59; 60; 61; 62; 63; 64; 65; 66; 67; 68; 69; 70; 71; 72; 73; 74; 75; 76; 77; 78; 79; 80; 81; 82; 83; 84; 85; 86; 87; 88; 89; 90; 91; 92; 93; 94; 95; 96; 97; 98; 99; \n",
      "2021-01-11 02:45:05.568262 AAPL.OQ  ric_i: 0  headline_slice_i: 25  headline_number: 100  not null: 100 2020-11-10 20:25:25+00:00\n",
      "\n",
      "is_this_ric_in_all: True   up_to_date_ric: 2020-11-09 13:02:46.741000+00:00 got successfully news_get_df.shape: 100\n",
      "0; 1; 2; 3; 4; 5; 6; 7; 8; 9; 10; 11; 12; 13; 14; 15; 16; 17; 18; "
     ]
    },
    {
     "name": "stderr",
     "output_type": "stream",
     "text": [
      "2021-01-11 02:45:22,540 P[77476] [MainThread 77664] Backend error. 401 Unauthorized\n",
      "2021-01-11 02:45:22,541 P[77476] [MainThread 77664] HTTP request failed: EikonError-Backend error. 401 Unauthorized\n"
     ]
    },
    {
     "name": "stdout",
     "output_type": "stream",
     "text": [
      "\n",
      "STORY IS OK: False   ric_now: AAPL.OQ   ric_i: 0   story_i: 19\n",
      "'NoneType' object has no attribute 'replace'\n"
     ]
    },
    {
     "name": "stderr",
     "output_type": "stream",
     "text": [
      "2021-01-11 02:45:32,160 P[77476] [MainThread 77664] Backend error. 401 Unauthorized\n",
      "2021-01-11 02:45:32,161 P[77476] [MainThread 77664] HTTP request failed: EikonError-Backend error. 401 Unauthorized\n"
     ]
    },
    {
     "name": "stdout",
     "output_type": "stream",
     "text": [
      "\n",
      "STORY IS OK: False   ric_now: AAPL.OQ   ric_i: 0   story_i: 20\n",
      "'NoneType' object has no attribute 'replace'\n"
     ]
    },
    {
     "name": "stderr",
     "output_type": "stream",
     "text": [
      "2021-01-11 02:45:38,042 P[77476] [MainThread 77664] Backend error. 401 Unauthorized\n",
      "2021-01-11 02:45:38,043 P[77476] [MainThread 77664] HTTP request failed: EikonError-Backend error. 401 Unauthorized\n"
     ]
    },
    {
     "name": "stdout",
     "output_type": "stream",
     "text": [
      "\n",
      "STORY IS OK: False   ric_now: AAPL.OQ   ric_i: 0   story_i: 21\n",
      "'NoneType' object has no attribute 'replace'\n"
     ]
    },
    {
     "name": "stderr",
     "output_type": "stream",
     "text": [
      "2021-01-11 02:45:43,644 P[77476] [MainThread 77664] Backend error. 401 Unauthorized\n",
      "2021-01-11 02:45:43,645 P[77476] [MainThread 77664] HTTP request failed: EikonError-Backend error. 401 Unauthorized\n"
     ]
    },
    {
     "name": "stdout",
     "output_type": "stream",
     "text": [
      "\n",
      "STORY IS OK: False   ric_now: AAPL.OQ   ric_i: 0   story_i: 22\n",
      "'NoneType' object has no attribute 'replace'\n",
      "23; 24; 25; 26; 27; 28; 29; 30; 31; 32; 33; 34; 35; 36; 37; 38; 39; 40; 41; 42; 43; 44; 45; 46; 47; 48; 49; 50; 51; 52; 53; 54; 55; 56; 57; 58; 59; 60; 61; 62; 63; 64; 65; 66; 67; 68; 69; 70; 71; 72; 73; 74; 75; 76; 77; 78; 79; 80; 81; 82; 83; 84; 85; 86; 87; 88; 89; 90; 91; 92; 93; 94; 95; 96; 97; 98; 99; \n",
      "2021-01-11 02:46:35.637953 AAPL.OQ  ric_i: 0  headline_slice_i: 26  headline_number: 100  not null: 100 2020-11-09 13:02:46.741000+00:00\n",
      "\n",
      "is_this_ric_in_all: True   up_to_date_ric: 2020-11-06 06:13:18.551000+00:00 got successfully news_get_df.shape: 100\n",
      "0; 1; 2; 3; 4; 5; 6; 7; 8; 9; 10; 11; 12; 13; 14; 15; 16; 17; 18; 19; 20; 21; 22; 23; 24; 25; 26; 27; 28; 29; 30; 31; 32; 33; 34; 35; 36; 37; 38; 39; 40; 41; 42; 43; 44; 45; 46; 47; 48; 49; 50; 51; 52; 53; 54; 55; 56; 57; 58; 59; 60; 61; 62; 63; 64; 65; 66; 67; 68; 69; 70; 71; 72; 73; 74; 75; 76; 77; 78; 79; 80; 81; 82; 83; 84; 85; 86; 87; 88; 89; 90; 91; 92; 93; 94; 95; 96; 97; 98; 99; \n",
      "2021-01-11 02:47:26.962488 AAPL.OQ  ric_i: 0  headline_slice_i: 27  headline_number: 100  not null: 100 2020-11-06 06:13:18.551000+00:00\n",
      "\n",
      "is_this_ric_in_all: True   up_to_date_ric: 2020-11-03 15:40:37+00:00 got successfully news_get_df.shape: 100\n",
      "0; 1; 2; 3; 4; 5; 6; 7; 8; 9; 10; 11; 12; 13; 14; 15; 16; 17; 18; 19; 20; 21; 22; 23; 24; 25; 26; 27; 28; 29; 30; 31; 32; 33; 34; 35; 36; 37; 38; 39; 40; 41; 42; 43; 44; 45; 46; 47; 48; 49; 50; 51; 52; 53; 54; 55; 56; 57; 58; 59; 60; 61; 62; 63; 64; 65; 66; 67; 68; 69; 70; 71; 72; 73; 74; 75; 76; 77; 78; 79; 80; 81; 82; 83; 84; 85; 86; 87; 88; 89; 90; 91; 92; 93; 94; 95; 96; 97; 98; 99; \n",
      "2021-01-11 02:48:19.665112 AAPL.OQ  ric_i: 0  headline_slice_i: 28  headline_number: 100  not null: 100 2020-11-03 15:40:37+00:00\n",
      "\n",
      "is_this_ric_in_all: True   up_to_date_ric: 2020-10-30 22:45:46.859000+00:00 got successfully news_get_df.shape: 100\n",
      "0; 1; 2; 3; 4; 5; 6; 7; 8; 9; 10; 11; 12; 13; 14; 15; 16; 17; 18; 19; 20; 21; 22; 23; 24; 25; 26; 27; 28; 29; 30; 31; 32; 33; 34; 35; 36; 37; 38; 39; 40; 41; 42; 43; 44; 45; 46; 47; 48; 49; 50; 51; 52; 53; 54; 55; 56; 57; 58; 59; 60; 61; 62; 63; 64; 65; 66; 67; 68; 69; 70; 71; 72; 73; 74; 75; 76; 77; 78; 79; 80; 81; 82; 83; 84; 85; 86; 87; 88; 89; 90; 91; 92; 93; 94; 95; 96; 97; 98; 99; \n",
      "2021-01-11 02:49:22.223607 AAPL.OQ  ric_i: 0  headline_slice_i: 29  headline_number: 100  not null: 100 2020-10-30 22:45:46.859000+00:00\n",
      "\n",
      "is_this_ric_in_all: True   up_to_date_ric: 2020-10-30 02:30:01+00:00 got successfully news_get_df.shape: 100\n",
      "0; 1; 2; 3; 4; 5; 6; 7; 8; 9; 10; 11; 12; 13; 14; 15; 16; 17; 18; 19; 20; 21; 22; 23; 24; 25; 26; 27; 28; 29; 30; 31; 32; 33; 34; 35; 36; 37; 38; 39; 40; 41; 42; 43; 44; 45; 46; 47; 48; 49; 50; 51; 52; 53; 54; 55; 56; 57; 58; 59; 60; 61; 62; 63; 64; 65; 66; 67; 68; 69; 70; 71; 72; 73; 74; 75; 76; 77; 78; 79; 80; 81; 82; 83; 84; 85; 86; 87; 88; 89; 90; 91; 92; 93; 94; 95; 96; 97; 98; 99; \n",
      "2021-01-11 02:50:50.614946 AAPL.OQ  ric_i: 0  headline_slice_i: 30  headline_number: 100  not null: 100 2020-10-30 02:30:01+00:00\n",
      "\n",
      "is_this_ric_in_all: True   up_to_date_ric: 2020-10-29 10:20:45+00:00 got successfully news_get_df.shape: 100\n",
      "0; 1; 2; 3; 4; 5; 6; 7; 8; 9; 10; 11; 12; 13; 14; 15; 16; 17; 18; 19; 20; 21; 22; 23; 24; 25; 26; 27; 28; 29; 30; 31; 32; 33; 34; 35; 36; 37; 38; 39; 40; 41; 42; 43; 44; 45; 46; 47; 48; 49; 50; 51; 52; 53; 54; 55; 56; 57; 58; 59; 60; 61; 62; 63; 64; 65; 66; 67; 68; 69; 70; 71; 72; 73; 74; 75; 76; 77; 78; 79; 80; 81; 82; 83; 84; 85; 86; 87; 88; 89; 90; 91; 92; 93; 94; 95; 96; 97; 98; 99; \n",
      "2021-01-11 02:51:43.711500 AAPL.OQ  ric_i: 0  headline_slice_i: 31  headline_number: 100  not null: 100 2020-10-29 10:20:45+00:00\n",
      "\n",
      "is_this_ric_in_all: True   up_to_date_ric: 2020-10-27 14:53:35.878000+00:00 got successfully news_get_df.shape: 100\n",
      "0; 1; 2; 3; 4; 5; 6; 7; 8; 9; 10; 11; 12; 13; 14; 15; 16; 17; 18; 19; 20; 21; 22; 23; 24; 25; 26; 27; 28; 29; 30; 31; 32; 33; 34; 35; 36; 37; 38; 39; 40; 41; 42; 43; 44; 45; 46; 47; 48; 49; 50; 51; 52; 53; 54; 55; 56; 57; 58; 59; 60; 61; 62; 63; 64; 65; 66; 67; 68; 69; 70; 71; 72; 73; 74; 75; 76; 77; 78; 79; 80; 81; 82; 83; 84; 85; 86; 87; 88; 89; 90; 91; 92; 93; 94; 95; 96; 97; 98; 99; \n",
      "2021-01-11 02:52:33.130490 AAPL.OQ  ric_i: 0  headline_slice_i: 32  headline_number: 100  not null: 100 2020-10-27 14:53:35.878000+00:00\n",
      "\n",
      "is_this_ric_in_all: True   up_to_date_ric: 2020-10-23 21:34:04.257000+00:00 got successfully news_get_df.shape: 100\n",
      "0; 1; 2; 3; 4; 5; 6; 7; 8; 9; 10; 11; 12; 13; 14; 15; 16; 17; 18; 19; 20; 21; 22; 23; 24; 25; 26; 27; 28; 29; 30; 31; 32; 33; 34; 35; 36; 37; 38; 39; 40; 41; 42; 43; 44; 45; 46; 47; 48; 49; 50; 51; 52; 53; 54; 55; 56; 57; 58; 59; 60; 61; 62; 63; 64; 65; 66; 67; 68; 69; 70; 71; 72; 73; 74; 75; 76; 77; 78; 79; 80; 81; 82; 83; 84; 85; 86; 87; 88; 89; 90; 91; 92; 93; 94; 95; 96; 97; 98; 99; \n",
      "2021-01-11 02:53:49.074493 AAPL.OQ  ric_i: 0  headline_slice_i: 33  headline_number: 100  not null: 100 2020-10-23 21:34:04.257000+00:00\n",
      "\n",
      "is_this_ric_in_all: True   up_to_date_ric: 2020-10-21 21:52:51.350000+00:00 got successfully news_get_df.shape: 100\n",
      "0; 1; 2; 3; 4; 5; 6; 7; 8; 9; 10; 11; 12; 13; 14; 15; 16; 17; 18; 19; 20; 21; 22; 23; 24; 25; 26; 27; 28; 29; 30; 31; 32; 33; 34; 35; 36; 37; 38; 39; 40; 41; 42; 43; 44; 45; 46; 47; 48; 49; 50; 51; 52; 53; 54; 55; 56; 57; 58; 59; 60; 61; 62; 63; 64; 65; 66; 67; 68; 69; 70; 71; 72; 73; 74; 75; 76; 77; 78; 79; 80; 81; 82; 83; 84; 85; 86; 87; 88; 89; 90; 91; 92; 93; 94; 95; 96; 97; 98; 99; \n",
      "2021-01-11 02:54:39.384640 AAPL.OQ  ric_i: 0  headline_slice_i: 34  headline_number: 100  not null: 100 2020-10-21 21:52:51.350000+00:00\n",
      "\n",
      "is_this_ric_in_all: True   up_to_date_ric: 2020-10-19 18:57:32.082000+00:00 got successfully news_get_df.shape: 100\n",
      "0; 1; 2; 3; 4; 5; 6; 7; 8; 9; 10; 11; 12; 13; 14; 15; 16; 17; 18; 19; 20; 21; 22; 23; 24; 25; 26; 27; 28; 29; 30; 31; 32; 33; 34; 35; 36; 37; 38; 39; 40; 41; 42; 43; 44; 45; 46; 47; 48; 49; 50; 51; 52; 53; 54; 55; 56; 57; 58; 59; 60; 61; 62; 63; 64; 65; 66; 67; 68; 69; 70; 71; 72; 73; 74; 75; 76; 77; 78; 79; 80; 81; 82; 83; 84; 85; 86; 87; 88; 89; 90; 91; 92; 93; 94; 95; 96; 97; 98; 99; \n",
      "2021-01-11 02:55:37.402197 AAPL.OQ  ric_i: 0  headline_slice_i: 35  headline_number: 100  not null: 100 2020-10-19 18:57:32.082000+00:00\n",
      "\n",
      "is_this_ric_in_all: True   up_to_date_ric: 2020-10-15 18:59:17.717000+00:00 got successfully news_get_df.shape: 100\n",
      "0; 1; 2; 3; 4; 5; 6; 7; 8; 9; 10; \n",
      "STORY IS OK: False   ric_now: AAPL.OQ   ric_i: 0   story_i: 11\n",
      "'NoneType' object has no attribute 'replace'\n",
      "12; 13; 14; 15; 16; 17; 18; 19; 20; 21; 22; 23; 24; 25; 26; 27; 28; 29; 30; 31; 32; 33; 34; 35; 36; 37; 38; 39; 40; 41; 42; 43; 44; 45; 46; 47; 48; 49; 50; 51; 52; 53; 54; 55; 56; 57; 58; 59; 60; 61; 62; 63; 64; 65; 66; 67; 68; 69; 70; 71; 72; 73; 74; 75; 76; 77; 78; 79; 80; 81; 82; 83; 84; 85; 86; 87; 88; 89; 90; 91; 92; 93; 94; 95; 96; 97; 98; 99; \n",
      "2021-01-11 02:56:31.468208 AAPL.OQ  ric_i: 0  headline_slice_i: 36  headline_number: 100  not null: 100 2020-10-15 18:59:17.717000+00:00\n",
      "\n",
      "is_this_ric_in_all: True   up_to_date_ric: 2020-10-14 14:05:16.526000+00:00 got successfully news_get_df.shape: 100\n",
      "0; 1; 2; 3; 4; 5; 6; 7; 8; 9; 10; 11; 12; 13; 14; 15; 16; 17; 18; 19; 20; 21; 22; 23; 24; 25; 26; 27; 28; 29; 30; 31; 32; 33; 34; 35; 36; 37; 38; 39; 40; 41; 42; 43; 44; 45; 46; 47; 48; 49; 50; 51; 52; 53; 54; 55; 56; 57; 58; 59; 60; 61; 62; 63; 64; 65; 66; 67; 68; 69; 70; 71; 72; 73; 74; 75; 76; 77; 78; 79; 80; 81; 82; 83; 84; 85; 86; 87; 88; 89; 90; 91; 92; 93; 94; 95; 96; 97; 98; 99; \n",
      "2021-01-11 02:57:25.416243 AAPL.OQ  ric_i: 0  headline_slice_i: 37  headline_number: 100  not null: 100 2020-10-14 14:05:16.526000+00:00\n",
      "\n",
      "is_this_ric_in_all: True   up_to_date_ric: 2020-10-14 01:53:27+00:00 got successfully news_get_df.shape: 100\n",
      "0; 1; 2; 3; 4; 5; 6; 7; 8; 9; 10; 11; 12; 13; 14; 15; 16; 17; 18; 19; 20; 21; 22; 23; 24; 25; 26; 27; 28; 29; 30; 31; 32; 33; 34; 35; 36; 37; 38; 39; 40; 41; 42; 43; 44; 45; 46; 47; 48; 49; 50; 51; 52; 53; 54; 55; 56; 57; 58; 59; 60; 61; 62; 63; 64; 65; 66; 67; 68; 69; 70; 71; 72; 73; 74; 75; 76; 77; 78; 79; 80; 81; 82; 83; 84; 85; 86; 87; 88; 89; 90; 91; 92; 93; 94; 95; 96; 97; 98; 99; \n",
      "2021-01-11 02:58:15.498101 AAPL.OQ  ric_i: 0  headline_slice_i: 38  headline_number: 100  not null: 100 2020-10-14 01:53:27+00:00\n",
      "\n",
      "is_this_ric_in_all: True   up_to_date_ric: 2020-10-13 18:14:06+00:00 got successfully news_get_df.shape: 100\n",
      "0; 1; 2; 3; 4; 5; 6; 7; 8; 9; 10; 11; 12; 13; 14; 15; 16; 17; 18; 19; 20; 21; 22; 23; 24; 25; 26; 27; 28; 29; 30; 31; 32; 33; 34; 35; 36; 37; 38; 39; 40; 41; 42; 43; 44; 45; 46; 47; 48; 49; 50; 51; 52; 53; 54; 55; 56; 57; 58; 59; 60; 61; 62; 63; 64; 65; 66; 67; 68; 69; 70; 71; 72; 73; 74; 75; 76; 77; 78; 79; 80; 81; 82; 83; 84; 85; 86; 87; 88; 89; 90; 91; 92; 93; 94; 95; 96; 97; 98; 99; \n",
      "2021-01-11 03:01:21.803804 AAPL.OQ  ric_i: 0  headline_slice_i: 39  headline_number: 100  not null: 100 2020-10-13 18:14:06+00:00\n",
      "\n",
      "is_this_ric_in_all: True   up_to_date_ric: 2020-10-13 16:11:42+00:00 got successfully news_get_df.shape: 100\n",
      "0; 1; 2; 3; 4; 5; 6; 7; 8; 9; 10; 11; 12; 13; 14; 15; 16; 17; 18; 19; 20; 21; 22; 23; 24; 25; 26; 27; 28; 29; 30; 31; 32; 33; 34; 35; 36; 37; 38; 39; 40; 41; 42; 43; 44; 45; 46; 47; 48; 49; 50; 51; 52; 53; 54; 55; 56; 57; 58; 59; 60; 61; 62; 63; 64; 65; 66; 67; 68; 69; 70; 71; 72; 73; 74; 75; 76; 77; 78; 79; 80; 81; 82; 83; 84; 85; 86; 87; 88; 89; 90; 91; 92; 93; 94; 95; 96; 97; 98; 99; \n",
      "2021-01-11 03:02:15.489734 AAPL.OQ  ric_i: 0  headline_slice_i: 40  headline_number: 100  not null: 100 2020-10-13 16:11:42+00:00\n",
      "\n",
      "is_this_ric_in_all: True   up_to_date_ric: 2020-10-12 17:03:00+00:00 got successfully news_get_df.shape: 100\n",
      "0; 1; 2; 3; 4; 5; 6; 7; 8; 9; 10; 11; 12; 13; 14; 15; 16; 17; 18; 19; 20; 21; 22; 23; 24; 25; 26; 27; 28; 29; 30; 31; 32; 33; 34; 35; 36; 37; 38; 39; 40; 41; 42; 43; 44; 45; 46; 47; 48; 49; 50; 51; 52; 53; 54; 55; 56; 57; 58; 59; 60; 61; 62; 63; 64; 65; 66; 67; 68; 69; 70; 71; 72; 73; 74; 75; 76; 77; 78; 79; 80; 81; 82; 83; 84; 85; 86; 87; 88; 89; 90; 91; 92; 93; 94; 95; 96; 97; 98; 99; \n",
      "2021-01-11 03:03:10.513908 AAPL.OQ  ric_i: 0  headline_slice_i: 41  headline_number: 100  not null: 100 2020-10-12 17:03:00+00:00\n",
      "\n",
      "is_this_ric_in_all: True   up_to_date_ric: 2020-10-09 13:02:57.053000+00:00 got successfully news_get_df.shape: 100\n",
      "0; 1; 2; 3; 4; 5; 6; 7; 8; 9; 10; 11; 12; 13; 14; 15; 16; 17; 18; 19; 20; 21; 22; 23; 24; 25; 26; 27; 28; 29; 30; 31; 32; 33; 34; 35; 36; 37; 38; 39; 40; 41; 42; 43; 44; 45; 46; 47; 48; 49; 50; 51; 52; 53; 54; 55; 56; 57; 58; 59; 60; 61; 62; 63; 64; 65; 66; 67; 68; 69; 70; 71; 72; 73; 74; 75; 76; 77; 78; 79; 80; 81; 82; 83; 84; 85; 86; 87; 88; 89; 90; 91; 92; 93; 94; 95; 96; 97; 98; 99; \n",
      "2021-01-11 03:04:01.037225 AAPL.OQ  ric_i: 0  headline_slice_i: 42  headline_number: 100  not null: 100 2020-10-09 13:02:57.053000+00:00\n",
      "\n",
      "is_this_ric_in_all: True   up_to_date_ric: 2020-10-07 10:46:06.881000+00:00 got successfully news_get_df.shape: 100\n",
      "0; 1; 2; 3; 4; 5; 6; 7; 8; 9; 10; 11; 12; 13; 14; 15; 16; 17; 18; 19; 20; 21; 22; 23; 24; 25; 26; 27; 28; 29; 30; 31; 32; 33; 34; 35; 36; 37; 38; 39; 40; 41; 42; 43; 44; 45; 46; 47; 48; 49; 50; 51; 52; 53; 54; 55; 56; 57; 58; 59; 60; 61; 62; 63; 64; 65; 66; 67; 68; 69; 70; 71; 72; 73; 74; 75; 76; 77; 78; 79; 80; 81; 82; 83; 84; 85; 86; 87; 88; 89; 90; 91; 92; 93; 94; 95; 96; 97; 98; 99; \n",
      "2021-01-11 03:05:16.085721 AAPL.OQ  ric_i: 0  headline_slice_i: 43  headline_number: 100  not null: 100 2020-10-07 10:46:06.881000+00:00\n",
      "\n",
      "is_this_ric_in_all: True   up_to_date_ric: 2020-10-06 13:02:10+00:00 got successfully news_get_df.shape: 100\n",
      "0; 1; 2; 3; 4; 5; 6; 7; 8; 9; 10; 11; 12; 13; 14; 15; 16; 17; 18; 19; 20; 21; 22; 23; 24; 25; 26; 27; 28; 29; 30; 31; 32; 33; 34; 35; 36; 37; 38; 39; 40; 41; 42; 43; 44; 45; 46; 47; 48; 49; 50; 51; 52; 53; 54; 55; 56; 57; 58; 59; 60; 61; 62; 63; 64; 65; 66; 67; 68; 69; 70; 71; 72; 73; 74; 75; 76; 77; 78; 79; 80; 81; 82; 83; 84; 85; 86; 87; 88; 89; 90; 91; 92; 93; 94; 95; 96; 97; 98; 99; \n",
      "2021-01-11 03:06:03.822396 AAPL.OQ  ric_i: 0  headline_slice_i: 44  headline_number: 100  not null: 100 2020-10-06 13:02:10+00:00\n",
      "\n",
      "is_this_ric_in_all: True   up_to_date_ric: 2020-10-01 21:00:56.750000+00:00 got successfully news_get_df.shape: 100\n",
      "0; 1; 2; 3; 4; 5; 6; 7; 8; 9; 10; 11; 12; 13; 14; 15; 16; 17; 18; 19; 20; 21; 22; 23; 24; 25; 26; 27; 28; 29; 30; 31; 32; 33; 34; 35; 36; 37; 38; 39; 40; 41; 42; 43; 44; 45; 46; 47; 48; 49; 50; 51; 52; 53; 54; 55; 56; 57; 58; 59; 60; 61; 62; 63; 64; 65; 66; 67; 68; 69; 70; 71; 72; 73; 74; 75; 76; 77; 78; 79; 80; 81; 82; 83; 84; 85; 86; 87; 88; 89; 90; 91; 92; 93; 94; 95; 96; 97; 98; 99; \n",
      "2021-01-11 03:06:56.526502 AAPL.OQ  ric_i: 0  headline_slice_i: 45  headline_number: 100  not null: 100 2020-10-01 21:00:56.750000+00:00\n",
      "\n",
      "is_this_ric_in_all: True   up_to_date_ric: 2020-09-29 20:32:07.262000+00:00 got successfully news_get_df.shape: 100\n",
      "0; 1; 2; 3; 4; 5; 6; 7; 8; 9; 10; 11; 12; 13; 14; 15; 16; 17; 18; 19; 20; 21; 22; 23; 24; 25; 26; 27; 28; 29; 30; 31; 32; 33; 34; 35; 36; 37; 38; 39; 40; 41; 42; 43; 44; 45; 46; 47; 48; 49; 50; 51; 52; 53; 54; 55; 56; 57; 58; 59; 60; 61; 62; 63; 64; 65; 66; 67; 68; 69; 70; 71; 72; 73; 74; 75; 76; 77; 78; 79; 80; 81; 82; 83; 84; 85; 86; 87; 88; 89; 90; 91; 92; 93; 94; 95; 96; 97; 98; 99; \n",
      "2021-01-11 03:07:50.967180 AAPL.OQ  ric_i: 0  headline_slice_i: 46  headline_number: 100  not null: 100 2020-09-29 20:32:07.262000+00:00\n",
      "\n",
      "is_this_ric_in_all: True   up_to_date_ric: 2020-09-26 18:17:14.599000+00:00 got successfully news_get_df.shape: 100\n",
      "0; 1; 2; 3; 4; 5; 6; 7; 8; 9; 10; 11; 12; 13; 14; 15; 16; 17; 18; 19; 20; 21; 22; 23; 24; 25; 26; 27; 28; 29; 30; 31; 32; 33; 34; 35; 36; 37; 38; 39; 40; 41; 42; 43; 44; 45; 46; 47; 48; 49; 50; 51; 52; 53; 54; 55; 56; 57; 58; 59; 60; 61; 62; 63; 64; 65; 66; 67; 68; 69; 70; 71; 72; 73; 74; 75; 76; 77; 78; 79; 80; 81; 82; 83; 84; 85; 86; 87; 88; 89; 90; 91; 92; 93; 94; 95; 96; 97; 98; 99; \n",
      "2021-01-11 03:08:45.565188 AAPL.OQ  ric_i: 0  headline_slice_i: 47  headline_number: 100  not null: 100 2020-09-26 18:17:14.599000+00:00\n",
      "\n",
      "is_this_ric_in_all: True   up_to_date_ric: 2020-09-24 21:47:22.255000+00:00 got successfully news_get_df.shape: 100\n",
      "0; 1; 2; 3; 4; 5; 6; 7; 8; 9; 10; 11; 12; 13; 14; 15; 16; 17; 18; 19; 20; 21; 22; 23; 24; 25; 26; 27; 28; 29; 30; 31; 32; 33; 34; 35; 36; 37; 38; 39; 40; 41; 42; 43; 44; 45; 46; 47; 48; 49; 50; 51; 52; 53; 54; 55; 56; 57; 58; 59; 60; 61; 62; 63; 64; 65; 66; 67; 68; 69; 70; 71; 72; 73; 74; 75; 76; 77; 78; 79; 80; 81; 82; 83; 84; 85; 86; 87; 88; 89; 90; 91; 92; 93; 94; 95; 96; 97; 98; 99; \n",
      "2021-01-11 03:09:36.207630 AAPL.OQ  ric_i: 0  headline_slice_i: 48  headline_number: 100  not null: 100 2020-09-24 21:47:22.255000+00:00\n",
      "\n",
      "is_this_ric_in_all: True   up_to_date_ric: 2020-09-23 08:53:35+00:00 got successfully news_get_df.shape: 100\n",
      "0; 1; 2; 3; 4; 5; 6; 7; 8; 9; 10; 11; 12; 13; 14; 15; 16; 17; 18; 19; 20; 21; 22; 23; 24; 25; 26; 27; 28; 29; 30; 31; 32; 33; 34; 35; 36; 37; 38; 39; 40; 41; 42; 43; 44; 45; 46; 47; 48; 49; 50; 51; 52; 53; 54; 55; 56; 57; 58; 59; 60; 61; 62; 63; 64; 65; 66; 67; 68; 69; 70; 71; 72; 73; 74; 75; 76; 77; 78; 79; 80; 81; 82; 83; 84; 85; 86; 87; 88; 89; 90; 91; 92; 93; 94; 95; 96; 97; 98; 99; \n",
      "2021-01-11 03:10:27.685086 AAPL.OQ  ric_i: 0  headline_slice_i: 49  headline_number: 100  not null: 100 2020-09-23 08:53:35+00:00\n",
      "\n",
      "is_this_ric_in_all: True   up_to_date_ric: 2020-09-21 12:36:02.637000+00:00 got successfully news_get_df.shape: 100\n",
      "0; 1; 2; 3; 4; 5; 6; 7; 8; 9; 10; 11; 12; 13; 14; 15; 16; 17; 18; 19; 20; 21; 22; 23; 24; 25; 26; 27; 28; 29; 30; 31; 32; 33; 34; 35; 36; 37; 38; 39; 40; 41; 42; 43; 44; 45; 46; 47; 48; 49; 50; 51; 52; 53; 54; 55; 56; 57; 58; 59; 60; 61; 62; 63; 64; 65; 66; 67; 68; 69; 70; 71; 72; 73; 74; 75; 76; 77; 78; 79; 80; 81; 82; 83; 84; 85; 86; 87; 88; 89; 90; 91; 92; 93; 94; 95; 96; 97; 98; 99; \n",
      "2021-01-11 03:11:17.660883 AAPL.OQ  ric_i: 0  headline_slice_i: 50  headline_number: 100  not null: 100 2020-09-21 12:36:02.637000+00:00\n",
      "\n",
      "is_this_ric_in_all: True   up_to_date_ric: 2020-09-18 14:18:56+00:00 got successfully news_get_df.shape: 100\n",
      "0; 1; 2; 3; 4; 5; 6; 7; 8; 9; 10; 11; 12; 13; 14; 15; 16; 17; 18; 19; 20; 21; 22; 23; 24; 25; 26; 27; 28; 29; 30; 31; 32; 33; 34; 35; 36; 37; 38; 39; 40; 41; 42; 43; 44; 45; 46; 47; 48; 49; 50; 51; 52; 53; 54; 55; 56; 57; 58; 59; 60; 61; 62; 63; 64; 65; 66; 67; 68; 69; 70; 71; 72; 73; 74; 75; 76; 77; 78; 79; 80; 81; 82; 83; 84; 85; 86; 87; 88; 89; 90; 91; 92; 93; 94; 95; 96; 97; 98; 99; \n",
      "2021-01-11 03:12:07.422076 AAPL.OQ  ric_i: 0  headline_slice_i: 51  headline_number: 100  not null: 100 2020-09-18 14:18:56+00:00\n",
      "\n",
      "is_this_ric_in_all: True   up_to_date_ric: 2020-09-16 22:54:15.435000+00:00 got successfully news_get_df.shape: 100\n",
      "0; 1; 2; 3; 4; 5; 6; 7; 8; 9; 10; 11; 12; 13; 14; 15; 16; 17; 18; 19; 20; 21; 22; 23; 24; 25; 26; 27; 28; 29; 30; 31; 32; 33; 34; 35; 36; 37; 38; 39; 40; 41; 42; 43; 44; 45; 46; 47; 48; 49; 50; 51; 52; 53; 54; 55; 56; 57; 58; 59; 60; 61; 62; 63; 64; 65; 66; 67; 68; 69; 70; 71; 72; 73; 74; 75; 76; 77; 78; 79; 80; 81; 82; 83; \n",
      "STORY IS OK: False   ric_now: AAPL.OQ   ric_i: 0   story_i: 84\n",
      "'NoneType' object has no attribute 'replace'\n",
      "85; 86; 87; 88; 89; 90; 91; 92; 93; 94; 95; 96; 97; 98; 99; \n",
      "2021-01-11 03:13:12.071680 AAPL.OQ  ric_i: 0  headline_slice_i: 52  headline_number: 100  not null: 100 2020-09-16 22:54:15.435000+00:00\n",
      "\n",
      "is_this_ric_in_all: True   up_to_date_ric: 2020-09-16 03:00:12.652000+00:00 got successfully news_get_df.shape: 100\n",
      "0; 1; 2; 3; 4; 5; 6; 7; 8; 9; 10; 11; 12; 13; 14; 15; 16; 17; 18; 19; 20; 21; 22; 23; 24; 25; 26; 27; 28; 29; 30; 31; 32; 33; 34; 35; 36; 37; 38; 39; 40; 41; 42; 43; 44; 45; 46; 47; 48; 49; 50; 51; 52; 53; 54; 55; 56; 57; 58; 59; 60; 61; 62; 63; 64; 65; 66; 67; 68; 69; 70; 71; 72; 73; 74; 75; 76; 77; 78; 79; 80; 81; 82; 83; 84; 85; 86; 87; 88; 89; 90; 91; 92; 93; 94; 95; 96; 97; 98; 99; \n",
      "2021-01-11 03:14:23.901085 AAPL.OQ  ric_i: 0  headline_slice_i: 53  headline_number: 100  not null: 100 2020-09-16 03:00:12.652000+00:00\n",
      "\n",
      "is_this_ric_in_all: True   up_to_date_ric: 2020-09-15 17:53:29.757000+00:00 got successfully news_get_df.shape: 100\n",
      "0; 1; 2; 3; 4; 5; 6; 7; 8; 9; 10; 11; 12; 13; 14; 15; 16; 17; 18; 19; 20; 21; 22; 23; 24; 25; 26; 27; 28; 29; 30; 31; 32; 33; 34; 35; 36; 37; 38; 39; 40; 41; 42; 43; 44; 45; 46; 47; 48; 49; 50; 51; 52; 53; 54; 55; 56; 57; 58; 59; 60; 61; 62; 63; 64; 65; 66; 67; 68; 69; 70; 71; 72; 73; 74; 75; 76; 77; 78; 79; 80; 81; 82; 83; 84; 85; 86; 87; 88; 89; 90; 91; 92; 93; 94; 95; 96; 97; 98; 99; \n",
      "2021-01-11 03:16:57.093908 AAPL.OQ  ric_i: 0  headline_slice_i: 54  headline_number: 100  not null: 100 2020-09-15 17:53:29.757000+00:00\n",
      "\n",
      "is_this_ric_in_all: True   up_to_date_ric: 2020-09-15 08:41:54.991000+00:00 got successfully news_get_df.shape: 100\n",
      "0; 1; 2; 3; 4; 5; 6; 7; 8; 9; 10; 11; 12; 13; 14; 15; 16; 17; 18; 19; 20; 21; 22; 23; 24; 25; 26; 27; 28; 29; 30; 31; 32; 33; 34; 35; 36; 37; 38; 39; 40; 41; 42; 43; 44; 45; 46; 47; 48; 49; 50; 51; 52; 53; 54; 55; 56; 57; 58; 59; 60; 61; 62; 63; 64; 65; 66; 67; 68; 69; 70; 71; 72; 73; 74; 75; 76; 77; 78; 79; 80; 81; 82; 83; 84; 85; 86; 87; 88; 89; 90; 91; 92; 93; 94; 95; 96; 97; 98; 99; \n",
      "2021-01-11 03:17:44.090682 AAPL.OQ  ric_i: 0  headline_slice_i: 55  headline_number: 100  not null: 100 2020-09-15 08:41:54.991000+00:00\n",
      "\n",
      "is_this_ric_in_all: True   up_to_date_ric: 2020-09-11 22:23:35.136000+00:00 got successfully news_get_df.shape: 100\n",
      "0; 1; 2; 3; 4; 5; 6; 7; 8; 9; 10; 11; 12; 13; 14; 15; 16; 17; 18; 19; 20; 21; 22; 23; 24; 25; 26; 27; 28; 29; 30; 31; 32; 33; 34; 35; 36; 37; 38; 39; 40; 41; 42; 43; 44; 45; 46; 47; 48; 49; 50; 51; 52; 53; 54; 55; 56; 57; 58; 59; 60; 61; 62; 63; 64; 65; 66; 67; 68; 69; 70; 71; 72; 73; 74; 75; 76; 77; 78; 79; 80; 81; 82; 83; 84; 85; 86; 87; 88; 89; 90; 91; 92; 93; 94; 95; 96; 97; 98; 99; \n",
      "2021-01-11 03:18:48.918204 AAPL.OQ  ric_i: 0  headline_slice_i: 56  headline_number: 100  not null: 100 2020-09-11 22:23:35.136000+00:00\n",
      "\n",
      "is_this_ric_in_all: True   up_to_date_ric: 2020-09-10 20:14:34+00:00 got successfully news_get_df.shape: 100\n",
      "0; 1; 2; 3; 4; 5; 6; 7; 8; 9; 10; 11; 12; 13; 14; 15; 16; 17; 18; 19; 20; 21; 22; 23; 24; 25; 26; 27; 28; 29; 30; 31; 32; 33; 34; 35; 36; 37; 38; 39; 40; 41; 42; 43; 44; 45; 46; 47; 48; 49; 50; 51; 52; 53; 54; 55; 56; 57; 58; 59; 60; 61; 62; 63; 64; 65; 66; 67; 68; 69; 70; 71; 72; 73; 74; 75; 76; 77; 78; 79; 80; 81; 82; 83; 84; 85; 86; 87; 88; 89; 90; 91; 92; 93; 94; 95; 96; 97; 98; 99; \n",
      "2021-01-11 03:19:48.187798 AAPL.OQ  ric_i: 0  headline_slice_i: 57  headline_number: 100  not null: 100 2020-09-10 20:14:34+00:00\n",
      "\n",
      "is_this_ric_in_all: True   up_to_date_ric: 2020-09-09 08:05:54+00:00 got successfully news_get_df.shape: 100\n",
      "0; 1; 2; 3; 4; 5; 6; 7; 8; 9; 10; 11; 12; 13; 14; 15; 16; 17; 18; 19; 20; 21; 22; 23; 24; 25; 26; 27; 28; 29; 30; 31; 32; 33; 34; 35; 36; 37; 38; 39; 40; 41; 42; 43; 44; 45; 46; 47; 48; 49; 50; 51; 52; 53; 54; 55; 56; 57; 58; 59; 60; 61; 62; 63; 64; 65; 66; 67; 68; 69; 70; 71; 72; 73; 74; 75; 76; 77; 78; 79; 80; 81; 82; 83; 84; 85; 86; 87; 88; 89; 90; 91; 92; 93; 94; 95; 96; 97; 98; 99; \n",
      "2021-01-11 03:20:47.147315 AAPL.OQ  ric_i: 0  headline_slice_i: 58  headline_number: 100  not null: 100 2020-09-09 08:05:54+00:00\n",
      "\n",
      "is_this_ric_in_all: True   up_to_date_ric: 2020-09-07 09:14:33.338000+00:00 got successfully news_get_df.shape: 100\n",
      "0; 1; 2; 3; 4; 5; 6; 7; 8; 9; 10; 11; 12; 13; 14; 15; 16; 17; 18; 19; 20; 21; 22; 23; 24; 25; 26; 27; 28; 29; 30; 31; 32; 33; 34; 35; 36; 37; 38; 39; 40; 41; 42; 43; 44; 45; 46; 47; 48; 49; 50; 51; 52; 53; 54; 55; 56; 57; 58; 59; 60; 61; 62; 63; 64; 65; 66; 67; 68; 69; 70; 71; 72; 73; 74; 75; 76; 77; 78; 79; 80; 81; 82; 83; 84; 85; 86; 87; 88; 89; 90; 91; 92; 93; 94; 95; 96; 97; 98; 99; \n",
      "2021-01-11 03:21:37.738359 AAPL.OQ  ric_i: 0  headline_slice_i: 59  headline_number: 100  not null: 100 2020-09-07 09:14:33.338000+00:00\n",
      "\n",
      "is_this_ric_in_all: True   up_to_date_ric: 2020-09-04 03:20:47+00:00 got successfully news_get_df.shape: 100\n",
      "0; 1; 2; 3; 4; 5; 6; 7; 8; 9; 10; 11; 12; 13; 14; 15; 16; 17; 18; 19; 20; 21; 22; 23; 24; 25; 26; 27; 28; 29; 30; 31; 32; 33; 34; 35; 36; 37; 38; 39; 40; 41; 42; 43; 44; 45; 46; 47; 48; 49; 50; 51; 52; 53; 54; 55; 56; 57; 58; 59; 60; 61; 62; 63; 64; 65; 66; 67; 68; 69; 70; 71; 72; 73; 74; 75; 76; 77; 78; 79; 80; 81; 82; 83; 84; 85; 86; 87; 88; 89; 90; 91; 92; 93; 94; 95; 96; 97; 98; 99; \n",
      "2021-01-11 03:22:43.782778 AAPL.OQ  ric_i: 0  headline_slice_i: 60  headline_number: 100  not null: 100 2020-09-04 03:20:47+00:00\n",
      "\n",
      "is_this_ric_in_all: True   up_to_date_ric: 2020-09-02 17:47:10.466000+00:00 got successfully news_get_df.shape: 100\n",
      "0; 1; 2; 3; 4; 5; 6; 7; 8; 9; 10; 11; 12; 13; 14; 15; 16; 17; 18; 19; 20; 21; 22; 23; 24; 25; 26; 27; 28; 29; 30; 31; 32; 33; 34; 35; 36; 37; 38; 39; 40; 41; 42; 43; 44; 45; 46; 47; 48; 49; 50; 51; 52; 53; 54; 55; 56; 57; 58; 59; 60; 61; 62; 63; 64; 65; 66; 67; 68; 69; 70; 71; 72; 73; 74; 75; 76; 77; 78; 79; 80; 81; 82; 83; 84; 85; 86; 87; 88; 89; 90; 91; 92; 93; 94; 95; 96; 97; 98; 99; \n",
      "2021-01-11 03:23:35.345299 AAPL.OQ  ric_i: 0  headline_slice_i: 61  headline_number: 100  not null: 100 2020-09-02 17:47:10.466000+00:00\n",
      "\n",
      "is_this_ric_in_all: True   up_to_date_ric: 2020-09-01 13:05:54.855000+00:00 got successfully news_get_df.shape: 100\n",
      "0; 1; 2; 3; 4; 5; 6; 7; 8; 9; 10; 11; 12; 13; 14; 15; 16; 17; 18; 19; 20; 21; 22; 23; 24; 25; 26; 27; 28; 29; 30; 31; 32; 33; 34; 35; 36; 37; 38; 39; 40; 41; 42; 43; 44; 45; 46; 47; 48; 49; 50; 51; 52; 53; 54; 55; 56; 57; 58; 59; 60; 61; 62; 63; 64; 65; 66; 67; 68; 69; 70; 71; 72; 73; 74; 75; 76; 77; 78; 79; 80; 81; 82; 83; 84; 85; 86; 87; 88; 89; 90; 91; 92; 93; 94; 95; 96; 97; 98; 99; \n",
      "2021-01-11 03:24:30.372022 AAPL.OQ  ric_i: 0  headline_slice_i: 62  headline_number: 100  not null: 100 2020-09-01 13:05:54.855000+00:00\n",
      "\n",
      "is_this_ric_in_all: True   up_to_date_ric: 2020-08-31 13:28:32.923000+00:00 got successfully news_get_df.shape: 100\n",
      "0; 1; 2; 3; 4; 5; 6; 7; 8; 9; 10; 11; 12; 13; 14; 15; 16; 17; 18; 19; 20; 21; 22; 23; 24; 25; 26; 27; 28; 29; 30; 31; 32; 33; 34; 35; 36; 37; 38; 39; 40; 41; 42; 43; 44; 45; 46; 47; 48; 49; 50; 51; 52; 53; 54; 55; 56; 57; 58; 59; 60; 61; 62; 63; 64; 65; 66; 67; 68; 69; 70; 71; 72; 73; 74; 75; 76; 77; 78; 79; 80; 81; 82; 83; 84; 85; 86; 87; 88; 89; 90; 91; 92; 93; 94; 95; 96; 97; 98; 99; \n",
      "2021-01-11 03:25:21.373648 AAPL.OQ  ric_i: 0  headline_slice_i: 63  headline_number: 100  not null: 100 2020-08-31 13:28:32.923000+00:00\n",
      "\n",
      "is_this_ric_in_all: True   up_to_date_ric: 2020-08-27 23:25:40.934000+00:00 got successfully news_get_df.shape: 100\n",
      "0; 1; 2; 3; 4; 5; 6; 7; 8; 9; 10; 11; 12; 13; 14; 15; 16; 17; 18; 19; 20; 21; 22; 23; 24; 25; 26; 27; 28; 29; 30; 31; 32; 33; 34; 35; 36; 37; 38; 39; 40; 41; 42; 43; 44; 45; 46; 47; 48; 49; 50; 51; 52; 53; 54; 55; 56; 57; 58; 59; 60; 61; 62; 63; 64; 65; 66; 67; 68; 69; 70; 71; 72; 73; 74; 75; 76; 77; 78; 79; 80; 81; 82; 83; 84; 85; 86; 87; 88; 89; 90; 91; 92; 93; 94; 95; 96; 97; 98; 99; \n",
      "2021-01-11 03:26:18.184036 AAPL.OQ  ric_i: 0  headline_slice_i: 64  headline_number: 100  not null: 100 2020-08-27 23:25:40.934000+00:00\n",
      "\n",
      "is_this_ric_in_all: True   up_to_date_ric: 2020-08-26 10:27:38.207000+00:00 got successfully news_get_df.shape: 100\n",
      "0; 1; 2; 3; 4; 5; 6; 7; 8; 9; 10; 11; 12; 13; 14; 15; 16; 17; 18; 19; 20; 21; 22; 23; 24; 25; 26; 27; 28; 29; 30; 31; 32; 33; 34; 35; 36; 37; 38; 39; 40; 41; 42; 43; 44; 45; 46; 47; 48; 49; 50; 51; 52; 53; 54; 55; 56; 57; 58; 59; 60; 61; 62; 63; 64; 65; 66; 67; 68; 69; 70; 71; 72; 73; 74; 75; 76; 77; 78; 79; 80; 81; 82; 83; 84; 85; 86; 87; 88; 89; 90; 91; 92; 93; 94; 95; 96; 97; 98; 99; \n",
      "2021-01-11 03:27:12.979574 AAPL.OQ  ric_i: 0  headline_slice_i: 65  headline_number: 100  not null: 100 2020-08-26 10:27:38.207000+00:00\n",
      "\n",
      "is_this_ric_in_all: True   up_to_date_ric: 2020-08-24 23:27:07+00:00 got successfully news_get_df.shape: 100\n",
      "0; 1; 2; 3; 4; 5; 6; 7; 8; 9; 10; 11; 12; 13; 14; 15; 16; 17; 18; 19; 20; 21; 22; 23; 24; 25; 26; 27; 28; 29; 30; 31; 32; 33; 34; 35; 36; 37; 38; 39; 40; 41; 42; 43; 44; 45; 46; 47; 48; 49; 50; 51; 52; 53; 54; 55; 56; 57; 58; 59; 60; 61; 62; 63; 64; 65; 66; 67; 68; 69; 70; 71; 72; 73; 74; 75; 76; 77; 78; 79; 80; 81; 82; 83; 84; 85; 86; 87; 88; 89; 90; 91; 92; 93; 94; 95; 96; 97; 98; 99; \n",
      "2021-01-11 03:28:17.085093 AAPL.OQ  ric_i: 0  headline_slice_i: 66  headline_number: 100  not null: 100 2020-08-24 23:27:07+00:00\n",
      "\n",
      "is_this_ric_in_all: True   up_to_date_ric: 2020-08-24 09:15:23.631000+00:00 got successfully news_get_df.shape: 100\n",
      "0; 1; 2; 3; 4; 5; 6; 7; 8; 9; 10; 11; 12; 13; 14; 15; 16; 17; 18; 19; 20; 21; 22; 23; 24; 25; 26; 27; 28; 29; 30; 31; 32; 33; 34; 35; 36; 37; 38; 39; 40; 41; 42; 43; 44; 45; 46; 47; 48; 49; 50; 51; 52; 53; 54; 55; 56; 57; 58; 59; 60; 61; 62; 63; 64; 65; 66; 67; 68; 69; 70; 71; 72; 73; 74; 75; 76; 77; 78; 79; 80; 81; 82; 83; 84; 85; 86; 87; 88; 89; 90; 91; 92; 93; 94; 95; 96; 97; 98; 99; \n",
      "2021-01-11 03:29:15.753572 AAPL.OQ  ric_i: 0  headline_slice_i: 67  headline_number: 100  not null: 100 2020-08-24 09:15:23.631000+00:00\n",
      "\n",
      "is_this_ric_in_all: True   up_to_date_ric: 2020-08-21 07:12:07.241000+00:00 got successfully news_get_df.shape: 100\n",
      "0; 1; 2; 3; 4; 5; 6; 7; 8; 9; 10; 11; 12; 13; 14; 15; 16; 17; 18; 19; 20; 21; 22; 23; 24; 25; 26; 27; 28; 29; 30; 31; 32; 33; 34; 35; 36; 37; 38; 39; 40; 41; 42; 43; 44; 45; 46; 47; 48; 49; 50; 51; 52; 53; 54; 55; 56; 57; 58; 59; 60; 61; 62; 63; 64; 65; 66; 67; 68; 69; 70; 71; 72; 73; 74; 75; 76; 77; 78; 79; 80; 81; 82; 83; 84; 85; 86; 87; 88; 89; 90; 91; 92; 93; 94; 95; 96; 97; 98; 99; \n",
      "2021-01-11 03:30:07.775404 AAPL.OQ  ric_i: 0  headline_slice_i: 68  headline_number: 100  not null: 100 2020-08-21 07:12:07.241000+00:00\n",
      "\n",
      "is_this_ric_in_all: True   up_to_date_ric: 2020-08-19 23:36:00.316000+00:00 got successfully news_get_df.shape: 100\n",
      "0; 1; 2; 3; 4; 5; 6; 7; 8; 9; 10; 11; 12; 13; 14; 15; 16; 17; 18; 19; 20; 21; 22; 23; 24; 25; 26; 27; 28; 29; 30; 31; 32; 33; 34; 35; 36; 37; 38; 39; 40; 41; 42; 43; 44; 45; 46; 47; 48; 49; 50; 51; 52; 53; 54; 55; 56; 57; 58; 59; 60; 61; 62; 63; 64; 65; 66; 67; 68; 69; 70; 71; 72; 73; 74; 75; 76; 77; 78; 79; 80; 81; 82; 83; 84; 85; 86; 87; 88; 89; 90; 91; 92; 93; 94; 95; 96; 97; 98; 99; \n",
      "2021-01-11 03:31:02.264599 AAPL.OQ  ric_i: 0  headline_slice_i: 69  headline_number: 100  not null: 100 2020-08-19 23:36:00.316000+00:00\n",
      "\n",
      "is_this_ric_in_all: True   up_to_date_ric: 2020-08-18 16:41:26+00:00 got successfully news_get_df.shape: 100\n",
      "0; 1; 2; 3; 4; 5; 6; 7; 8; 9; 10; 11; 12; 13; 14; 15; 16; 17; 18; 19; 20; 21; 22; 23; 24; 25; 26; 27; 28; 29; 30; 31; 32; 33; 34; 35; 36; 37; 38; 39; 40; 41; 42; 43; 44; 45; 46; 47; 48; 49; 50; 51; 52; 53; 54; 55; 56; 57; 58; 59; 60; 61; 62; 63; 64; 65; 66; 67; 68; 69; 70; 71; 72; 73; 74; 75; 76; 77; 78; 79; 80; 81; 82; 83; 84; 85; 86; 87; 88; 89; 90; 91; 92; 93; 94; 95; 96; 97; 98; 99; \n",
      "2021-01-11 03:32:15.693714 AAPL.OQ  ric_i: 0  headline_slice_i: 70  headline_number: 100  not null: 100 2020-08-18 16:41:26+00:00\n",
      "\n",
      "is_this_ric_in_all: True   up_to_date_ric: 2020-08-17 06:02:51.629000+00:00 got successfully news_get_df.shape: 100\n",
      "0; 1; 2; 3; 4; 5; 6; 7; 8; 9; 10; 11; 12; 13; 14; 15; 16; 17; 18; 19; 20; 21; 22; 23; 24; 25; 26; 27; 28; 29; 30; 31; 32; 33; 34; 35; 36; 37; 38; 39; 40; 41; 42; 43; 44; 45; 46; 47; 48; 49; 50; 51; 52; 53; 54; 55; 56; 57; 58; 59; 60; 61; 62; 63; 64; 65; 66; 67; 68; 69; 70; 71; 72; 73; 74; 75; 76; 77; 78; 79; 80; 81; 82; 83; 84; 85; 86; 87; 88; 89; 90; 91; 92; 93; 94; 95; 96; 97; 98; 99; \n",
      "2021-01-11 03:33:07.202416 AAPL.OQ  ric_i: 0  headline_slice_i: 71  headline_number: 100  not null: 100 2020-08-17 06:02:51.629000+00:00\n",
      "\n",
      "is_this_ric_in_all: True   up_to_date_ric: 2020-08-14 12:53:43.645000+00:00 got successfully news_get_df.shape: 100\n",
      "0; 1; 2; 3; 4; 5; 6; 7; 8; 9; 10; 11; 12; 13; 14; 15; 16; 17; 18; 19; 20; 21; 22; 23; 24; 25; 26; 27; 28; 29; 30; 31; 32; 33; 34; 35; 36; 37; 38; 39; 40; 41; 42; 43; 44; 45; 46; 47; 48; 49; 50; 51; 52; 53; 54; 55; 56; 57; 58; 59; 60; 61; 62; 63; 64; 65; 66; 67; 68; 69; 70; 71; 72; 73; 74; 75; 76; 77; 78; 79; 80; 81; 82; 83; 84; 85; 86; 87; 88; 89; 90; 91; 92; 93; 94; 95; 96; 97; 98; 99; \n",
      "2021-01-11 03:34:23.559493 AAPL.OQ  ric_i: 0  headline_slice_i: 72  headline_number: 100  not null: 100 2020-08-14 12:53:43.645000+00:00\n",
      "\n",
      "is_this_ric_in_all: True   up_to_date_ric: 2020-08-13 15:38:38+00:00 got successfully news_get_df.shape: 100\n",
      "0; 1; 2; 3; 4; 5; 6; 7; 8; 9; 10; 11; 12; 13; 14; 15; 16; 17; 18; 19; 20; 21; 22; 23; 24; 25; 26; 27; 28; 29; 30; 31; 32; 33; 34; 35; 36; 37; 38; 39; 40; 41; 42; 43; 44; 45; 46; 47; 48; 49; 50; 51; 52; 53; 54; 55; 56; 57; 58; 59; 60; 61; 62; 63; 64; 65; 66; 67; 68; 69; 70; 71; 72; 73; 74; 75; 76; 77; 78; 79; 80; 81; 82; 83; 84; 85; 86; 87; 88; 89; 90; 91; 92; 93; 94; 95; 96; 97; 98; 99; \n",
      "2021-01-11 03:35:26.264203 AAPL.OQ  ric_i: 0  headline_slice_i: 73  headline_number: 100  not null: 100 2020-08-13 15:38:38+00:00\n",
      "\n",
      "is_this_ric_in_all: True   up_to_date_ric: 2020-08-12 08:42:21+00:00 got successfully news_get_df.shape: 100\n",
      "0; 1; 2; 3; 4; 5; 6; 7; 8; 9; 10; 11; 12; 13; 14; 15; 16; 17; 18; 19; 20; 21; 22; 23; 24; 25; 26; 27; 28; 29; 30; 31; 32; 33; 34; 35; 36; 37; 38; 39; 40; 41; 42; 43; 44; 45; 46; 47; 48; 49; 50; 51; 52; 53; 54; 55; 56; 57; 58; 59; 60; 61; 62; 63; 64; 65; 66; 67; 68; 69; 70; 71; 72; 73; 74; 75; 76; 77; 78; 79; 80; 81; 82; 83; 84; 85; 86; 87; 88; 89; 90; 91; 92; 93; 94; 95; 96; 97; 98; 99; \n",
      "2021-01-11 03:36:13.819220 AAPL.OQ  ric_i: 0  headline_slice_i: 74  headline_number: 100  not null: 100 2020-08-12 08:42:21+00:00\n",
      "\n",
      "is_this_ric_in_all: True   up_to_date_ric: 2020-08-10 14:36:36.126000+00:00 got successfully news_get_df.shape: 100\n",
      "0; 1; 2; 3; 4; 5; 6; 7; 8; 9; 10; 11; 12; 13; 14; 15; 16; 17; 18; 19; 20; 21; 22; 23; 24; 25; 26; 27; 28; 29; 30; 31; 32; 33; 34; 35; 36; 37; 38; 39; 40; 41; 42; 43; 44; 45; 46; 47; 48; 49; 50; 51; 52; 53; 54; 55; 56; 57; 58; 59; 60; 61; 62; 63; 64; 65; 66; 67; 68; 69; 70; 71; 72; 73; 74; 75; 76; 77; 78; 79; 80; 81; 82; 83; 84; 85; 86; 87; 88; 89; 90; 91; 92; 93; 94; 95; 96; 97; 98; 99; \n",
      "2021-01-11 03:37:06.331884 AAPL.OQ  ric_i: 0  headline_slice_i: 75  headline_number: 100  not null: 100 2020-08-10 14:36:36.126000+00:00\n",
      "\n",
      "is_this_ric_in_all: True   up_to_date_ric: 2020-08-06 18:55:39+00:00 got successfully news_get_df.shape: 100\n",
      "0; 1; 2; 3; 4; 5; 6; 7; 8; 9; 10; 11; 12; 13; 14; 15; 16; 17; 18; 19; 20; 21; 22; 23; 24; 25; 26; 27; 28; 29; 30; 31; 32; 33; 34; 35; 36; 37; 38; 39; 40; 41; 42; 43; 44; 45; 46; 47; 48; 49; 50; 51; 52; 53; 54; 55; 56; 57; 58; 59; 60; 61; 62; 63; 64; 65; 66; 67; 68; 69; 70; 71; 72; 73; 74; 75; 76; 77; 78; 79; 80; 81; 82; 83; 84; 85; 86; 87; 88; 89; 90; 91; 92; 93; 94; 95; 96; 97; 98; 99; \n",
      "2021-01-11 03:38:00.100596 AAPL.OQ  ric_i: 0  headline_slice_i: 76  headline_number: 100  not null: 100 2020-08-06 18:55:39+00:00\n",
      "\n",
      "is_this_ric_in_all: True   up_to_date_ric: 2020-08-04 20:18:52+00:00 got successfully news_get_df.shape: 100\n",
      "0; 1; 2; 3; 4; 5; 6; 7; 8; 9; 10; 11; 12; 13; 14; 15; 16; 17; 18; 19; 20; 21; 22; 23; 24; 25; 26; 27; 28; 29; 30; 31; 32; 33; 34; 35; 36; 37; 38; 39; 40; 41; 42; 43; 44; 45; 46; 47; 48; 49; 50; 51; 52; 53; 54; 55; 56; 57; 58; 59; 60; 61; 62; 63; 64; 65; 66; 67; 68; 69; 70; 71; 72; 73; 74; 75; 76; 77; 78; 79; 80; 81; 82; 83; 84; 85; 86; 87; 88; 89; 90; 91; 92; 93; 94; 95; 96; 97; 98; 99; \n",
      "2021-01-11 03:39:06.183082 AAPL.OQ  ric_i: 0  headline_slice_i: 77  headline_number: 100  not null: 100 2020-08-04 20:18:52+00:00\n",
      "\n",
      "is_this_ric_in_all: True   up_to_date_ric: 2020-08-03 16:33:30.798000+00:00 got successfully news_get_df.shape: 100\n",
      "0; 1; 2; 3; 4; 5; 6; 7; 8; 9; 10; 11; 12; 13; 14; 15; 16; 17; 18; 19; 20; 21; 22; 23; 24; 25; 26; 27; 28; 29; 30; 31; 32; 33; 34; 35; 36; 37; 38; 39; 40; 41; 42; 43; 44; 45; 46; 47; 48; 49; 50; 51; 52; 53; 54; 55; 56; 57; 58; 59; 60; 61; 62; 63; 64; 65; 66; 67; 68; 69; 70; 71; 72; 73; 74; 75; 76; 77; 78; 79; 80; 81; 82; 83; 84; 85; 86; 87; 88; 89; 90; 91; 92; 93; 94; 95; 96; 97; 98; 99; \n",
      "2021-01-11 03:39:52.834087 AAPL.OQ  ric_i: 0  headline_slice_i: 78  headline_number: 100  not null: 100 2020-08-03 16:33:30.798000+00:00\n",
      "\n",
      "is_this_ric_in_all: True   up_to_date_ric: 2020-08-01 00:26:12+00:00 got successfully news_get_df.shape: 100\n",
      "0; 1; 2; 3; 4; 5; 6; 7; 8; 9; 10; 11; 12; 13; 14; 15; 16; 17; 18; 19; 20; 21; 22; 23; 24; 25; 26; 27; 28; 29; 30; 31; 32; 33; 34; 35; 36; 37; 38; 39; 40; 41; 42; 43; 44; 45; 46; 47; 48; 49; 50; 51; 52; 53; 54; 55; 56; 57; 58; 59; 60; 61; 62; 63; 64; 65; 66; 67; 68; 69; 70; 71; 72; 73; 74; 75; 76; 77; 78; 79; 80; 81; 82; 83; 84; 85; 86; 87; 88; 89; 90; 91; 92; 93; 94; 95; 96; 97; 98; 99; \n",
      "2021-01-11 03:41:01.336185 AAPL.OQ  ric_i: 0  headline_slice_i: 79  headline_number: 100  not null: 100 2020-08-01 00:26:12+00:00\n",
      "\n",
      "is_this_ric_in_all: True   up_to_date_ric: 2020-07-31 13:04:02+00:00 got successfully news_get_df.shape: 100\n",
      "0; 1; 2; 3; 4; 5; 6; 7; 8; 9; 10; 11; 12; 13; 14; 15; 16; 17; 18; 19; 20; 21; 22; 23; 24; 25; 26; 27; 28; 29; 30; 31; 32; 33; 34; 35; 36; 37; 38; 39; 40; 41; 42; 43; 44; 45; 46; 47; 48; 49; 50; 51; 52; 53; 54; 55; 56; 57; 58; 59; 60; 61; 62; 63; 64; 65; 66; 67; 68; 69; 70; 71; 72; 73; 74; 75; 76; 77; 78; 79; 80; 81; 82; 83; 84; 85; 86; 87; 88; 89; 90; 91; 92; 93; 94; 95; 96; 97; 98; 99; \n",
      "2021-01-11 03:42:24.084093 AAPL.OQ  ric_i: 0  headline_slice_i: 80  headline_number: 100  not null: 100 2020-07-31 13:04:02+00:00\n",
      "\n",
      "is_this_ric_in_all: True   up_to_date_ric: 2020-07-30 21:32:59.559000+00:00 got successfully news_get_df.shape: 100\n",
      "0; 1; 2; 3; 4; 5; 6; 7; 8; 9; 10; 11; 12; 13; 14; 15; 16; 17; 18; 19; 20; 21; 22; 23; 24; 25; 26; 27; 28; 29; 30; 31; 32; 33; 34; 35; 36; 37; 38; 39; 40; 41; 42; 43; 44; 45; 46; 47; 48; 49; 50; 51; 52; 53; 54; 55; 56; 57; 58; 59; 60; 61; 62; 63; 64; 65; 66; 67; 68; 69; 70; 71; 72; 73; 74; 75; 76; 77; 78; 79; 80; 81; 82; 83; 84; 85; 86; 87; 88; 89; 90; 91; 92; 93; 94; 95; 96; 97; 98; 99; \n",
      "2021-01-11 03:44:04.083164 AAPL.OQ  ric_i: 0  headline_slice_i: 81  headline_number: 100  not null: 100 2020-07-30 21:32:59.559000+00:00\n",
      "\n",
      "is_this_ric_in_all: True   up_to_date_ric: 2020-07-30 01:07:34+00:00 got successfully news_get_df.shape: 100\n",
      "0; 1; 2; 3; 4; 5; 6; 7; 8; 9; 10; 11; 12; 13; 14; 15; 16; 17; 18; 19; 20; 21; 22; 23; 24; 25; 26; 27; 28; 29; 30; 31; 32; 33; 34; 35; 36; 37; 38; 39; 40; 41; 42; 43; 44; 45; 46; 47; 48; 49; 50; 51; 52; 53; 54; 55; 56; 57; 58; 59; 60; 61; 62; 63; 64; 65; 66; 67; 68; 69; 70; 71; 72; 73; 74; 75; 76; 77; 78; 79; 80; 81; 82; 83; 84; 85; 86; 87; 88; 89; 90; 91; 92; 93; 94; 95; 96; 97; 98; 99; \n",
      "2021-01-11 03:44:54.188054 AAPL.OQ  ric_i: 0  headline_slice_i: 82  headline_number: 100  not null: 100 2020-07-30 01:07:34+00:00\n",
      "\n",
      "is_this_ric_in_all: True   up_to_date_ric: 2020-07-28 15:43:32.615000+00:00 got successfully news_get_df.shape: 100\n",
      "0; 1; 2; 3; 4; 5; 6; 7; 8; 9; 10; 11; 12; 13; 14; 15; 16; 17; 18; 19; 20; 21; 22; 23; 24; 25; 26; 27; 28; 29; 30; 31; 32; 33; 34; 35; 36; 37; 38; 39; 40; 41; 42; 43; 44; 45; 46; 47; 48; 49; 50; 51; 52; 53; 54; 55; 56; 57; 58; 59; 60; 61; 62; 63; 64; 65; 66; 67; 68; 69; 70; 71; 72; 73; 74; 75; 76; 77; 78; 79; 80; 81; 82; 83; 84; 85; 86; 87; 88; 89; 90; 91; 92; 93; 94; 95; 96; 97; 98; 99; \n",
      "2021-01-11 03:45:43.920061 AAPL.OQ  ric_i: 0  headline_slice_i: 83  headline_number: 100  not null: 100 2020-07-28 15:43:32.615000+00:00\n",
      "\n",
      "is_this_ric_in_all: True   up_to_date_ric: 2020-07-24 21:34:13.969000+00:00 got successfully news_get_df.shape: 100\n",
      "0; 1; 2; 3; 4; 5; 6; 7; 8; 9; 10; 11; 12; 13; 14; 15; 16; 17; 18; 19; 20; 21; 22; 23; 24; 25; 26; 27; 28; 29; 30; 31; 32; 33; 34; 35; 36; 37; 38; 39; 40; 41; 42; 43; 44; 45; 46; 47; 48; 49; 50; 51; 52; 53; 54; 55; 56; 57; 58; 59; 60; 61; 62; 63; 64; 65; 66; 67; 68; 69; 70; 71; 72; 73; 74; 75; 76; 77; 78; 79; 80; 81; 82; 83; 84; 85; 86; 87; 88; 89; 90; 91; 92; 93; 94; 95; 96; 97; 98; 99; \n",
      "2021-01-11 03:46:36.498092 AAPL.OQ  ric_i: 0  headline_slice_i: 84  headline_number: 100  not null: 100 2020-07-24 21:34:13.969000+00:00\n",
      "\n",
      "is_this_ric_in_all: True   up_to_date_ric: 2020-07-23 12:10:48+00:00 got successfully news_get_df.shape: 100\n",
      "0; 1; 2; 3; 4; 5; 6; 7; 8; 9; 10; 11; 12; 13; 14; 15; 16; 17; 18; 19; 20; 21; 22; 23; 24; 25; 26; 27; 28; 29; 30; 31; 32; 33; 34; "
     ]
    },
    {
     "name": "stderr",
     "output_type": "stream",
     "text": [
      "2021-01-11 03:47:12,380 P[77476] [MainThread 77664] Backend error. 404 Not Found\n",
      "2021-01-11 03:47:12,381 P[77476] [MainThread 77664] HTTP request failed: EikonError-Backend error. 404 Not Found\n"
     ]
    },
    {
     "name": "stdout",
     "output_type": "stream",
     "text": [
      "\n",
      "STORY IS OK: False   ric_now: AAPL.OQ   ric_i: 0   story_i: 35\n",
      "'NoneType' object has no attribute 'replace'\n",
      "36; 37; 38; 39; 40; 41; 42; 43; 44; 45; 46; 47; 48; 49; 50; 51; 52; 53; 54; 55; 56; 57; 58; 59; 60; 61; 62; 63; 64; 65; 66; 67; 68; 69; 70; 71; 72; 73; 74; 75; 76; 77; 78; 79; 80; 81; 82; 83; 84; 85; 86; 87; 88; 89; 90; 91; 92; 93; 94; 95; 96; 97; 98; 99; \n",
      "2021-01-11 03:47:45.620347 AAPL.OQ  ric_i: 0  headline_slice_i: 85  headline_number: 100  not null: 100 2020-07-23 12:10:48+00:00\n",
      "\n",
      "is_this_ric_in_all: True   up_to_date_ric: 2020-07-21 17:58:26.320000+00:00 got successfully news_get_df.shape: 100\n",
      "0; 1; 2; 3; 4; 5; 6; 7; 8; 9; 10; 11; 12; 13; 14; 15; 16; 17; 18; 19; 20; 21; 22; 23; 24; 25; 26; 27; 28; 29; 30; 31; 32; 33; 34; 35; 36; 37; 38; 39; 40; 41; 42; 43; 44; 45; 46; 47; 48; 49; 50; 51; 52; 53; 54; 55; 56; 57; 58; 59; 60; 61; 62; 63; 64; 65; 66; 67; 68; 69; 70; 71; 72; 73; 74; 75; 76; 77; 78; 79; 80; 81; "
     ]
    },
    {
     "name": "stderr",
     "output_type": "stream",
     "text": [
      "2021-01-11 03:48:52,755 P[77476] [MainThread 77664] Backend error. 404 Not Found\n",
      "2021-01-11 03:48:52,756 P[77476] [MainThread 77664] HTTP request failed: EikonError-Backend error. 404 Not Found\n"
     ]
    },
    {
     "name": "stdout",
     "output_type": "stream",
     "text": [
      "\n",
      "STORY IS OK: False   ric_now: AAPL.OQ   ric_i: 0   story_i: 82\n",
      "'NoneType' object has no attribute 'replace'\n",
      "83; 84; 85; 86; 87; 88; 89; 90; 91; 92; 93; 94; 95; 96; 97; 98; 99; \n",
      "2021-01-11 03:49:05.685855 AAPL.OQ  ric_i: 0  headline_slice_i: 86  headline_number: 100  not null: 100 2020-07-21 17:58:26.320000+00:00\n",
      "\n",
      "is_this_ric_in_all: True   up_to_date_ric: 2020-07-17 12:02:45.491000+00:00 got successfully news_get_df.shape: 100\n",
      "0; 1; 2; 3; 4; 5; 6; 7; 8; 9; 10; 11; 12; 13; 14; 15; 16; 17; 18; 19; 20; 21; 22; 23; 24; 25; 26; 27; 28; 29; 30; 31; 32; 33; 34; 35; 36; 37; 38; 39; 40; 41; 42; 43; 44; 45; 46; 47; 48; 49; 50; 51; 52; 53; 54; 55; 56; 57; 58; 59; 60; 61; 62; 63; 64; 65; 66; 67; 68; 69; 70; 71; 72; 73; 74; 75; 76; 77; 78; 79; 80; 81; 82; 83; 84; 85; 86; 87; 88; 89; 90; 91; 92; 93; 94; 95; 96; 97; 98; 99; \n",
      "2021-01-11 03:50:07.862525 AAPL.OQ  ric_i: 0  headline_slice_i: 87  headline_number: 100  not null: 100 2020-07-17 12:02:45.491000+00:00\n",
      "\n",
      "is_this_ric_in_all: True   up_to_date_ric: 2020-07-16 03:15:15.554000+00:00 got successfully news_get_df.shape: 100\n",
      "0; 1; 2; 3; 4; 5; 6; 7; 8; 9; 10; 11; 12; 13; 14; 15; 16; 17; 18; 19; 20; 21; 22; 23; 24; 25; 26; 27; 28; 29; 30; 31; 32; "
     ]
    },
    {
     "name": "stderr",
     "output_type": "stream",
     "text": [
      "2021-01-11 03:50:28,450 P[77476] [MainThread 77664] Backend error. 404 Not Found\n",
      "2021-01-11 03:50:28,451 P[77476] [MainThread 77664] HTTP request failed: EikonError-Backend error. 404 Not Found\n"
     ]
    },
    {
     "name": "stdout",
     "output_type": "stream",
     "text": [
      "\n",
      "STORY IS OK: False   ric_now: AAPL.OQ   ric_i: 0   story_i: 33\n",
      "'NoneType' object has no attribute 'replace'\n"
     ]
    },
    {
     "name": "stderr",
     "output_type": "stream",
     "text": [
      "2021-01-11 03:50:37,994 P[77476] [MainThread 77664] Backend error. 404 Not Found\n",
      "2021-01-11 03:50:37,996 P[77476] [MainThread 77664] HTTP request failed: EikonError-Backend error. 404 Not Found\n"
     ]
    },
    {
     "name": "stdout",
     "output_type": "stream",
     "text": [
      "\n",
      "STORY IS OK: False   ric_now: AAPL.OQ   ric_i: 0   story_i: 34\n",
      "'NoneType' object has no attribute 'replace'\n",
      "35; 36; 37; 38; 39; 40; 41; 42; 43; 44; 45; 46; 47; 48; 49; 50; 51; 52; 53; 54; 55; 56; 57; 58; 59; 60; 61; 62; 63; 64; 65; 66; 67; 68; 69; 70; 71; 72; 73; 74; 75; 76; 77; 78; 79; 80; 81; 82; 83; 84; 85; 86; 87; 88; 89; 90; 91; 92; 93; 94; 95; 96; 97; 98; 99; \n",
      "2021-01-11 03:51:28.596210 AAPL.OQ  ric_i: 0  headline_slice_i: 88  headline_number: 100  not null: 100 2020-07-16 03:15:15.554000+00:00\n",
      "\n",
      "is_this_ric_in_all: True   up_to_date_ric: 2020-07-15 12:04:21.009000+00:00 got successfully news_get_df.shape: 100\n",
      "0; 1; 2; 3; 4; 5; 6; 7; 8; 9; 10; 11; 12; 13; 14; 15; 16; 17; 18; 19; 20; 21; 22; 23; 24; 25; 26; 27; 28; 29; 30; 31; 32; 33; 34; 35; 36; 37; 38; 39; 40; 41; 42; 43; 44; 45; 46; 47; 48; 49; 50; 51; 52; 53; 54; 55; 56; 57; 58; 59; 60; 61; 62; 63; 64; 65; 66; 67; 68; 69; 70; 71; 72; 73; 74; 75; 76; 77; 78; 79; 80; 81; 82; 83; 84; 85; 86; 87; 88; 89; 90; 91; 92; 93; 94; 95; 96; 97; 98; 99; \n",
      "2021-01-11 03:52:26.771143 AAPL.OQ  ric_i: 0  headline_slice_i: 89  headline_number: 100  not null: 100 2020-07-15 12:04:21.009000+00:00\n",
      "\n",
      "is_this_ric_in_all: True   up_to_date_ric: 2020-07-14 11:00:05.380000+00:00 got successfully news_get_df.shape: 100\n",
      "0; 1; 2; 3; 4; 5; 6; 7; 8; 9; 10; 11; 12; 13; 14; 15; 16; 17; 18; 19; 20; 21; 22; 23; 24; 25; 26; 27; 28; 29; 30; 31; 32; 33; 34; 35; 36; 37; 38; 39; 40; 41; 42; 43; 44; 45; 46; 47; 48; 49; "
     ]
    },
    {
     "name": "stderr",
     "output_type": "stream",
     "text": [
      "2021-01-11 03:53:01,455 P[77476] [MainThread 77664] Backend error. 404 Not Found\n",
      "2021-01-11 03:53:01,456 P[77476] [MainThread 77664] HTTP request failed: EikonError-Backend error. 404 Not Found\n"
     ]
    },
    {
     "name": "stdout",
     "output_type": "stream",
     "text": [
      "\n",
      "STORY IS OK: False   ric_now: AAPL.OQ   ric_i: 0   story_i: 50\n",
      "'NoneType' object has no attribute 'replace'\n",
      "51; 52; 53; 54; 55; 56; 57; 58; 59; 60; 61; 62; 63; 64; 65; 66; 67; 68; 69; 70; 71; 72; 73; 74; 75; 76; 77; 78; 79; 80; 81; 82; 83; 84; 85; 86; 87; 88; 89; 90; 91; 92; 93; 94; 95; 96; 97; 98; 99; \n",
      "2021-01-11 03:53:30.016435 AAPL.OQ  ric_i: 0  headline_slice_i: 90  headline_number: 100  not null: 100 2020-07-14 11:00:05.380000+00:00\n",
      "\n",
      "is_this_ric_in_all: True   up_to_date_ric: 2020-07-10 11:35:30.612000+00:00 got successfully news_get_df.shape: 100\n",
      "0; 1; 2; 3; 4; 5; 6; 7; 8; 9; 10; 11; 12; 13; 14; 15; 16; 17; 18; 19; 20; 21; 22; 23; 24; 25; 26; 27; 28; 29; 30; 31; 32; 33; 34; 35; 36; 37; 38; 39; 40; 41; 42; 43; 44; 45; 46; 47; 48; 49; 50; 51; 52; 53; 54; 55; 56; 57; 58; 59; 60; 61; 62; 63; 64; 65; 66; 67; 68; 69; 70; 71; 72; 73; 74; 75; 76; 77; 78; 79; 80; 81; 82; 83; 84; 85; 86; 87; 88; 89; 90; 91; 92; 93; 94; 95; 96; 97; 98; 99; \n",
      "2021-01-11 03:54:26.814459 AAPL.OQ  ric_i: 0  headline_slice_i: 91  headline_number: 100  not null: 100 2020-07-10 11:35:30.612000+00:00\n",
      "\n",
      "is_this_ric_in_all: True   up_to_date_ric: 2020-07-08 13:21:49+00:00 got successfully news_get_df.shape: 100\n",
      "0; 1; 2; 3; 4; 5; 6; 7; 8; 9; 10; 11; 12; 13; 14; 15; 16; 17; 18; 19; 20; 21; 22; 23; 24; 25; 26; 27; 28; 29; 30; 31; 32; "
     ]
    },
    {
     "name": "stderr",
     "output_type": "stream",
     "text": [
      "2021-01-11 03:54:51,181 P[77476] [MainThread 77664] Backend error. 404 Not Found\n",
      "2021-01-11 03:54:51,182 P[77476] [MainThread 77664] HTTP request failed: EikonError-Backend error. 404 Not Found\n"
     ]
    },
    {
     "name": "stdout",
     "output_type": "stream",
     "text": [
      "\n",
      "STORY IS OK: False   ric_now: AAPL.OQ   ric_i: 0   story_i: 33\n",
      "'NoneType' object has no attribute 'replace'\n",
      "34; 35; 36; 37; 38; 39; 40; 41; 42; 43; 44; 45; 46; 47; 48; 49; 50; 51; 52; 53; 54; 55; 56; 57; 58; 59; 60; 61; 62; 63; 64; 65; 66; 67; 68; 69; 70; 71; 72; 73; 74; 75; 76; 77; 78; 79; 80; 81; 82; 83; 84; 85; 86; 87; 88; 89; 90; 91; 92; 93; 94; 95; 96; 97; 98; 99; \n",
      "2021-01-11 03:55:28.166104 AAPL.OQ  ric_i: 0  headline_slice_i: 92  headline_number: 100  not null: 100 2020-07-08 13:21:49+00:00\n",
      "\n",
      "is_this_ric_in_all: True   up_to_date_ric: 2020-07-06 07:13:23.843000+00:00 got successfully news_get_df.shape: 100\n",
      "0; 1; 2; 3; 4; 5; 6; 7; 8; 9; 10; 11; 12; 13; 14; 15; 16; 17; 18; 19; 20; 21; 22; 23; 24; 25; 26; 27; 28; 29; 30; 31; 32; 33; 34; 35; 36; 37; 38; 39; 40; 41; 42; 43; 44; 45; 46; 47; 48; 49; 50; 51; 52; 53; 54; 55; 56; 57; 58; 59; 60; 61; 62; 63; 64; 65; 66; 67; 68; 69; 70; 71; 72; 73; 74; 75; 76; 77; 78; 79; 80; 81; 82; 83; 84; 85; 86; 87; 88; "
     ]
    },
    {
     "name": "stderr",
     "output_type": "stream",
     "text": [
      "2021-01-11 03:56:21,434 P[77476] [MainThread 77664] Backend error. 404 Not Found\n",
      "2021-01-11 03:56:21,435 P[77476] [MainThread 77664] HTTP request failed: EikonError-Backend error. 404 Not Found\n"
     ]
    },
    {
     "name": "stdout",
     "output_type": "stream",
     "text": [
      "\n",
      "STORY IS OK: False   ric_now: AAPL.OQ   ric_i: 0   story_i: 89\n",
      "'NoneType' object has no attribute 'replace'\n"
     ]
    },
    {
     "name": "stderr",
     "output_type": "stream",
     "text": [
      "2021-01-11 03:56:31,075 P[77476] [MainThread 77664] Backend error. 404 Not Found\n",
      "2021-01-11 03:56:31,077 P[77476] [MainThread 77664] HTTP request failed: EikonError-Backend error. 404 Not Found\n"
     ]
    },
    {
     "name": "stdout",
     "output_type": "stream",
     "text": [
      "\n",
      "STORY IS OK: False   ric_now: AAPL.OQ   ric_i: 0   story_i: 90\n",
      "'NoneType' object has no attribute 'replace'\n",
      "91; 92; 93; 94; 95; 96; 97; 98; 99; \n",
      "2021-01-11 03:56:45.136935 AAPL.OQ  ric_i: 0  headline_slice_i: 93  headline_number: 100  not null: 100 2020-07-06 07:13:23.843000+00:00\n",
      "\n",
      "is_this_ric_in_all: True   up_to_date_ric: 2020-07-01 18:22:13+00:00 got successfully news_get_df.shape: 100\n",
      "0; 1; 2; 3; 4; 5; 6; 7; 8; 9; 10; 11; 12; 13; 14; 15; 16; 17; 18; 19; 20; 21; 22; 23; 24; 25; 26; 27; 28; 29; 30; 31; 32; 33; 34; 35; 36; 37; 38; 39; 40; 41; 42; 43; 44; 45; 46; 47; 48; 49; 50; 51; 52; 53; 54; 55; 56; 57; 58; 59; 60; 61; 62; 63; 64; 65; 66; 67; 68; 69; 70; 71; 72; 73; 74; 75; 76; 77; 78; 79; 80; 81; 82; 83; 84; 85; 86; 87; 88; 89; 90; 91; 92; 93; 94; 95; 96; 97; 98; 99; \n",
      "2021-01-11 03:57:41.447337 AAPL.OQ  ric_i: 0  headline_slice_i: 94  headline_number: 100  not null: 100 2020-07-01 18:22:13+00:00\n",
      "\n",
      "is_this_ric_in_all: True   up_to_date_ric: 2020-06-26 21:33:58.565000+00:00 got successfully news_get_df.shape: 100\n",
      "0; 1; 2; 3; 4; 5; 6; 7; 8; 9; 10; 11; 12; 13; 14; 15; 16; 17; 18; 19; 20; 21; 22; 23; 24; 25; 26; 27; 28; 29; 30; 31; 32; 33; 34; 35; 36; 37; 38; 39; 40; 41; 42; 43; 44; 45; 46; 47; 48; 49; 50; 51; 52; 53; 54; "
     ]
    },
    {
     "name": "stderr",
     "output_type": "stream",
     "text": [
      "2021-01-11 03:58:22,225 P[77476] [MainThread 77664] Backend error. 503 Service Unavailable\n",
      "2021-01-11 03:58:22,226 P[77476] [MainThread 77664] HTTP request failed: EikonError-Backend error. 503 Service Unavailable\n"
     ]
    },
    {
     "name": "stdout",
     "output_type": "stream",
     "text": [
      "\n",
      "STORY IS OK: False   ric_now: AAPL.OQ   ric_i: 0   story_i: 55\n",
      "'NoneType' object has no attribute 'replace'\n",
      "56; 57; 58; 59; 60; 61; 62; 63; 64; 65; 66; 67; 68; 69; 70; 71; 72; 73; 74; 75; 76; 77; 78; 79; 80; 81; 82; 83; 84; 85; 86; 87; 88; 89; 90; 91; 92; 93; 94; 95; 96; 97; 98; 99; \n",
      "2021-01-11 03:58:54.710740 AAPL.OQ  ric_i: 0  headline_slice_i: 95  headline_number: 100  not null: 100 2020-06-26 21:33:58.565000+00:00\n",
      "\n",
      "is_this_ric_in_all: True   up_to_date_ric: 2020-06-24 09:03:25.920000+00:00 got successfully news_get_df.shape: 100\n",
      "0; 1; 2; 3; 4; 5; 6; 7; 8; 9; 10; 11; 12; 13; 14; 15; 16; 17; 18; 19; 20; 21; 22; 23; 24; 25; 26; 27; 28; 29; 30; 31; 32; 33; 34; 35; 36; 37; 38; 39; 40; 41; 42; 43; 44; 45; 46; 47; 48; 49; 50; 51; 52; 53; 54; 55; 56; 57; 58; 59; 60; 61; 62; 63; 64; 65; 66; 67; 68; 69; 70; 71; 72; 73; 74; 75; 76; 77; 78; 79; 80; 81; 82; 83; 84; 85; 86; 87; 88; 89; 90; 91; 92; 93; 94; 95; 96; 97; 98; 99; \n",
      "2021-01-11 03:59:50.966398 AAPL.OQ  ric_i: 0  headline_slice_i: 96  headline_number: 100  not null: 100 2020-06-24 09:03:25.920000+00:00\n",
      "\n",
      "is_this_ric_in_all: True   up_to_date_ric: 2020-06-23 09:59:52+00:00 got successfully news_get_df.shape: 100\n",
      "0; 1; 2; 3; 4; 5; 6; 7; 8; 9; 10; 11; 12; 13; 14; 15; 16; 17; 18; 19; 20; 21; 22; 23; 24; 25; 26; 27; 28; 29; 30; 31; 32; 33; 34; 35; 36; 37; 38; 39; 40; 41; 42; 43; 44; 45; 46; 47; 48; 49; 50; 51; 52; 53; 54; 55; 56; 57; 58; 59; 60; 61; 62; 63; 64; 65; 66; 67; 68; 69; 70; 71; 72; 73; 74; 75; 76; 77; 78; 79; 80; 81; 82; 83; 84; 85; 86; 87; 88; 89; 90; 91; 92; 93; 94; "
     ]
    },
    {
     "name": "stderr",
     "output_type": "stream",
     "text": [
      "2021-01-11 04:00:42,184 P[77476] [MainThread 77664] Backend error. 404 Not Found\n",
      "2021-01-11 04:00:42,185 P[77476] [MainThread 77664] HTTP request failed: EikonError-Backend error. 404 Not Found\n"
     ]
    },
    {
     "name": "stdout",
     "output_type": "stream",
     "text": [
      "\n",
      "STORY IS OK: False   ric_now: AAPL.OQ   ric_i: 0   story_i: 95\n",
      "'NoneType' object has no attribute 'replace'\n",
      "96; 97; 98; 99; \n",
      "2021-01-11 04:00:49.154047 AAPL.OQ  ric_i: 0  headline_slice_i: 97  headline_number: 100  not null: 100 2020-06-23 09:59:52+00:00\n",
      "\n",
      "is_this_ric_in_all: True   up_to_date_ric: 2020-06-22 19:43:58.030000+00:00 got successfully news_get_df.shape: 100\n",
      "0; 1; 2; 3; 4; 5; 6; 7; 8; 9; 10; 11; 12; 13; 14; 15; 16; 17; 18; 19; 20; 21; 22; 23; 24; 25; 26; 27; 28; 29; 30; 31; 32; 33; 34; 35; 36; 37; 38; 39; 40; 41; 42; 43; 44; 45; 46; 47; 48; 49; 50; 51; 52; 53; 54; 55; 56; 57; 58; 59; 60; 61; 62; 63; 64; 65; 66; 67; 68; 69; 70; 71; 72; 73; 74; 75; 76; 77; 78; 79; 80; 81; 82; 83; 84; 85; 86; 87; 88; 89; 90; 91; 92; 93; 94; 95; 96; 97; 98; 99; \n",
      "2021-01-11 04:02:24.897994 AAPL.OQ  ric_i: 0  headline_slice_i: 98  headline_number: 100  not null: 100 2020-06-22 19:43:58.030000+00:00\n",
      "\n",
      "is_this_ric_in_all: True   up_to_date_ric: 2020-06-22 06:02:23.533000+00:00 got successfully news_get_df.shape: 100\n",
      "0; 1; 2; 3; 4; 5; 6; 7; 8; 9; 10; 11; 12; 13; 14; 15; 16; 17; 18; 19; 20; 21; 22; 23; 24; 25; 26; 27; 28; 29; 30; 31; 32; 33; 34; 35; 36; 37; 38; 39; 40; 41; 42; 43; 44; 45; 46; 47; 48; 49; 50; 51; 52; 53; 54; 55; 56; 57; 58; 59; 60; 61; 62; 63; 64; 65; 66; 67; 68; 69; 70; 71; 72; 73; 74; 75; 76; 77; 78; 79; 80; 81; 82; 83; 84; 85; 86; 87; 88; 89; 90; 91; 92; 93; 94; 95; 96; 97; 98; 99; \n",
      "2021-01-11 04:03:15.359006 AAPL.OQ  ric_i: 0  headline_slice_i: 99  headline_number: 100  not null: 100 2020-06-22 06:02:23.533000+00:00\n",
      "\n",
      "is_this_ric_in_all: True   up_to_date_ric: 2020-06-19 16:51:29+00:00 "
     ]
    },
    {
     "name": "stderr",
     "output_type": "stream",
     "text": [
      "2021-01-11 04:03:16,347 P[77476] [MainThread 77664] Error code 429 | Client Error: Too many requests, please try again later. Wait for 71804 seconds.\n",
      "2021-01-11 04:03:16,348 P[77476] [MainThread 77664] HTTP request failed: EikonError-Client Error: Too many requests, please try again later. Wait for 71804 seconds.\n"
     ]
    },
    {
     "name": "stdout",
     "output_type": "stream",
     "text": [
      "got successfully news_get_df.shape: 100\n",
      "\n",
      "STORY IS OK: False   ric_now: AAPL.OQ   ric_i: 0   story_i: 0\n",
      "'NoneType' object has no attribute 'replace'\n"
     ]
    },
    {
     "name": "stderr",
     "output_type": "stream",
     "text": [
      "2021-01-11 04:03:21,391 P[77476] [MainThread 77664] Error code 429 | Client Error: Too many requests, please try again later. Wait for 71799 seconds.\n",
      "2021-01-11 04:03:21,392 P[77476] [MainThread 77664] HTTP request failed: EikonError-Client Error: Too many requests, please try again later. Wait for 71799 seconds.\n"
     ]
    },
    {
     "name": "stdout",
     "output_type": "stream",
     "text": [
      "\n",
      "STORY IS OK: False   ric_now: AAPL.OQ   ric_i: 0   story_i: 1\n",
      "'NoneType' object has no attribute 'replace'\n"
     ]
    },
    {
     "name": "stderr",
     "output_type": "stream",
     "text": [
      "2021-01-11 04:03:26,433 P[77476] [MainThread 77664] Error code 429 | Client Error: Too many requests, please try again later. Wait for 71794 seconds.\n",
      "2021-01-11 04:03:26,434 P[77476] [MainThread 77664] HTTP request failed: EikonError-Client Error: Too many requests, please try again later. Wait for 71794 seconds.\n"
     ]
    },
    {
     "name": "stdout",
     "output_type": "stream",
     "text": [
      "\n",
      "STORY IS OK: False   ric_now: AAPL.OQ   ric_i: 0   story_i: 2\n",
      "'NoneType' object has no attribute 'replace'\n"
     ]
    },
    {
     "name": "stderr",
     "output_type": "stream",
     "text": [
      "2021-01-11 04:03:31,476 P[77476] [MainThread 77664] Error code 429 | Client Error: Too many requests, please try again later. Wait for 71789 seconds.\n",
      "2021-01-11 04:03:31,476 P[77476] [MainThread 77664] HTTP request failed: EikonError-Client Error: Too many requests, please try again later. Wait for 71789 seconds.\n"
     ]
    },
    {
     "name": "stdout",
     "output_type": "stream",
     "text": [
      "\n",
      "STORY IS OK: False   ric_now: AAPL.OQ   ric_i: 0   story_i: 3\n",
      "'NoneType' object has no attribute 'replace'\n"
     ]
    },
    {
     "name": "stderr",
     "output_type": "stream",
     "text": [
      "2021-01-11 04:03:36,512 P[77476] [MainThread 77664] Error code 429 | Client Error: Too many requests, please try again later. Wait for 71784 seconds.\n",
      "2021-01-11 04:03:36,512 P[77476] [MainThread 77664] HTTP request failed: EikonError-Client Error: Too many requests, please try again later. Wait for 71784 seconds.\n"
     ]
    },
    {
     "name": "stdout",
     "output_type": "stream",
     "text": [
      "\n",
      "STORY IS OK: False   ric_now: AAPL.OQ   ric_i: 0   story_i: 4\n",
      "'NoneType' object has no attribute 'replace'\n"
     ]
    },
    {
     "name": "stderr",
     "output_type": "stream",
     "text": [
      "2021-01-11 04:03:41,544 P[77476] [MainThread 77664] Error code 429 | Client Error: Too many requests, please try again later. Wait for 71779 seconds.\n",
      "2021-01-11 04:03:41,544 P[77476] [MainThread 77664] HTTP request failed: EikonError-Client Error: Too many requests, please try again later. Wait for 71779 seconds.\n"
     ]
    },
    {
     "name": "stdout",
     "output_type": "stream",
     "text": [
      "\n",
      "STORY IS OK: False   ric_now: AAPL.OQ   ric_i: 0   story_i: 5\n",
      "'NoneType' object has no attribute 'replace'\n"
     ]
    },
    {
     "name": "stderr",
     "output_type": "stream",
     "text": [
      "2021-01-11 04:03:46,588 P[77476] [MainThread 77664] Error code 429 | Client Error: Too many requests, please try again later. Wait for 71774 seconds.\n",
      "2021-01-11 04:03:46,588 P[77476] [MainThread 77664] HTTP request failed: EikonError-Client Error: Too many requests, please try again later. Wait for 71774 seconds.\n"
     ]
    },
    {
     "name": "stdout",
     "output_type": "stream",
     "text": [
      "\n",
      "STORY IS OK: False   ric_now: AAPL.OQ   ric_i: 0   story_i: 6\n",
      "'NoneType' object has no attribute 'replace'\n"
     ]
    },
    {
     "name": "stderr",
     "output_type": "stream",
     "text": [
      "2021-01-11 04:03:51,633 P[77476] [MainThread 77664] Error code 429 | Client Error: Too many requests, please try again later. Wait for 71769 seconds.\n",
      "2021-01-11 04:03:51,634 P[77476] [MainThread 77664] HTTP request failed: EikonError-Client Error: Too many requests, please try again later. Wait for 71769 seconds.\n"
     ]
    },
    {
     "name": "stdout",
     "output_type": "stream",
     "text": [
      "\n",
      "STORY IS OK: False   ric_now: AAPL.OQ   ric_i: 0   story_i: 7\n",
      "'NoneType' object has no attribute 'replace'\n"
     ]
    },
    {
     "name": "stderr",
     "output_type": "stream",
     "text": [
      "2021-01-11 04:03:56,663 P[77476] [MainThread 77664] Error code 429 | Client Error: Too many requests, please try again later. Wait for 71764 seconds.\n",
      "2021-01-11 04:03:56,663 P[77476] [MainThread 77664] HTTP request failed: EikonError-Client Error: Too many requests, please try again later. Wait for 71764 seconds.\n"
     ]
    },
    {
     "name": "stdout",
     "output_type": "stream",
     "text": [
      "\n",
      "STORY IS OK: False   ric_now: AAPL.OQ   ric_i: 0   story_i: 8\n",
      "'NoneType' object has no attribute 'replace'\n"
     ]
    },
    {
     "name": "stderr",
     "output_type": "stream",
     "text": [
      "2021-01-11 04:04:01,704 P[77476] [MainThread 77664] Error code 429 | Client Error: Too many requests, please try again later. Wait for 71759 seconds.\n",
      "2021-01-11 04:04:01,705 P[77476] [MainThread 77664] HTTP request failed: EikonError-Client Error: Too many requests, please try again later. Wait for 71759 seconds.\n"
     ]
    },
    {
     "name": "stdout",
     "output_type": "stream",
     "text": [
      "\n",
      "STORY IS OK: False   ric_now: AAPL.OQ   ric_i: 0   story_i: 9\n",
      "'NoneType' object has no attribute 'replace'\n"
     ]
    },
    {
     "name": "stderr",
     "output_type": "stream",
     "text": [
      "2021-01-11 04:04:06,749 P[77476] [MainThread 77664] Error code 429 | Client Error: Too many requests, please try again later. Wait for 71754 seconds.\n",
      "2021-01-11 04:04:06,750 P[77476] [MainThread 77664] HTTP request failed: EikonError-Client Error: Too many requests, please try again later. Wait for 71754 seconds.\n"
     ]
    },
    {
     "name": "stdout",
     "output_type": "stream",
     "text": [
      "\n",
      "STORY IS OK: False   ric_now: AAPL.OQ   ric_i: 0   story_i: 10\n",
      "'NoneType' object has no attribute 'replace'\n"
     ]
    },
    {
     "name": "stderr",
     "output_type": "stream",
     "text": [
      "2021-01-11 04:04:11,781 P[77476] [MainThread 77664] Error code 429 | Client Error: Too many requests, please try again later. Wait for 71749 seconds.\n",
      "2021-01-11 04:04:11,782 P[77476] [MainThread 77664] HTTP request failed: EikonError-Client Error: Too many requests, please try again later. Wait for 71749 seconds.\n"
     ]
    },
    {
     "name": "stdout",
     "output_type": "stream",
     "text": [
      "\n",
      "STORY IS OK: False   ric_now: AAPL.OQ   ric_i: 0   story_i: 11\n",
      "'NoneType' object has no attribute 'replace'\n"
     ]
    },
    {
     "name": "stderr",
     "output_type": "stream",
     "text": [
      "2021-01-11 04:04:16,811 P[77476] [MainThread 77664] Error code 429 | Client Error: Too many requests, please try again later. Wait for 71744 seconds.\n",
      "2021-01-11 04:04:16,812 P[77476] [MainThread 77664] HTTP request failed: EikonError-Client Error: Too many requests, please try again later. Wait for 71744 seconds.\n"
     ]
    },
    {
     "name": "stdout",
     "output_type": "stream",
     "text": [
      "\n",
      "STORY IS OK: False   ric_now: AAPL.OQ   ric_i: 0   story_i: 12\n",
      "'NoneType' object has no attribute 'replace'\n"
     ]
    },
    {
     "name": "stderr",
     "output_type": "stream",
     "text": [
      "2021-01-11 04:04:21,850 P[77476] [MainThread 77664] Error code 429 | Client Error: Too many requests, please try again later. Wait for 71739 seconds.\n",
      "2021-01-11 04:04:21,851 P[77476] [MainThread 77664] HTTP request failed: EikonError-Client Error: Too many requests, please try again later. Wait for 71739 seconds.\n"
     ]
    },
    {
     "name": "stdout",
     "output_type": "stream",
     "text": [
      "\n",
      "STORY IS OK: False   ric_now: AAPL.OQ   ric_i: 0   story_i: 13\n",
      "'NoneType' object has no attribute 'replace'\n"
     ]
    },
    {
     "name": "stderr",
     "output_type": "stream",
     "text": [
      "2021-01-11 04:04:26,891 P[77476] [MainThread 77664] Error code 429 | Client Error: Too many requests, please try again later. Wait for 71734 seconds.\n",
      "2021-01-11 04:04:26,892 P[77476] [MainThread 77664] HTTP request failed: EikonError-Client Error: Too many requests, please try again later. Wait for 71734 seconds.\n"
     ]
    },
    {
     "name": "stdout",
     "output_type": "stream",
     "text": [
      "\n",
      "STORY IS OK: False   ric_now: AAPL.OQ   ric_i: 0   story_i: 14\n",
      "'NoneType' object has no attribute 'replace'\n"
     ]
    },
    {
     "name": "stderr",
     "output_type": "stream",
     "text": [
      "2021-01-11 04:04:31,932 P[77476] [MainThread 77664] Error code 429 | Client Error: Too many requests, please try again later. Wait for 71729 seconds.\n",
      "2021-01-11 04:04:31,933 P[77476] [MainThread 77664] HTTP request failed: EikonError-Client Error: Too many requests, please try again later. Wait for 71729 seconds.\n"
     ]
    },
    {
     "name": "stdout",
     "output_type": "stream",
     "text": [
      "\n",
      "STORY IS OK: False   ric_now: AAPL.OQ   ric_i: 0   story_i: 15\n",
      "'NoneType' object has no attribute 'replace'\n"
     ]
    },
    {
     "name": "stderr",
     "output_type": "stream",
     "text": [
      "2021-01-11 04:04:36,975 P[77476] [MainThread 77664] Error code 429 | Client Error: Too many requests, please try again later. Wait for 71724 seconds.\n",
      "2021-01-11 04:04:36,975 P[77476] [MainThread 77664] HTTP request failed: EikonError-Client Error: Too many requests, please try again later. Wait for 71724 seconds.\n"
     ]
    },
    {
     "name": "stdout",
     "output_type": "stream",
     "text": [
      "\n",
      "STORY IS OK: False   ric_now: AAPL.OQ   ric_i: 0   story_i: 16\n",
      "'NoneType' object has no attribute 'replace'\n"
     ]
    },
    {
     "name": "stderr",
     "output_type": "stream",
     "text": [
      "2021-01-11 04:04:42,015 P[77476] [MainThread 77664] Error code 429 | Client Error: Too many requests, please try again later. Wait for 71718 seconds.\n",
      "2021-01-11 04:04:42,015 P[77476] [MainThread 77664] HTTP request failed: EikonError-Client Error: Too many requests, please try again later. Wait for 71718 seconds.\n"
     ]
    },
    {
     "name": "stdout",
     "output_type": "stream",
     "text": [
      "\n",
      "STORY IS OK: False   ric_now: AAPL.OQ   ric_i: 0   story_i: 17\n",
      "'NoneType' object has no attribute 'replace'\n"
     ]
    },
    {
     "name": "stderr",
     "output_type": "stream",
     "text": [
      "2021-01-11 04:04:47,056 P[77476] [MainThread 77664] Error code 429 | Client Error: Too many requests, please try again later. Wait for 71713 seconds.\n",
      "2021-01-11 04:04:47,057 P[77476] [MainThread 77664] HTTP request failed: EikonError-Client Error: Too many requests, please try again later. Wait for 71713 seconds.\n"
     ]
    },
    {
     "name": "stdout",
     "output_type": "stream",
     "text": [
      "\n",
      "STORY IS OK: False   ric_now: AAPL.OQ   ric_i: 0   story_i: 18\n",
      "'NoneType' object has no attribute 'replace'\n"
     ]
    },
    {
     "name": "stderr",
     "output_type": "stream",
     "text": [
      "2021-01-11 04:04:52,090 P[77476] [MainThread 77664] Error code 429 | Client Error: Too many requests, please try again later. Wait for 71708 seconds.\n",
      "2021-01-11 04:04:52,091 P[77476] [MainThread 77664] HTTP request failed: EikonError-Client Error: Too many requests, please try again later. Wait for 71708 seconds.\n"
     ]
    },
    {
     "name": "stdout",
     "output_type": "stream",
     "text": [
      "\n",
      "STORY IS OK: False   ric_now: AAPL.OQ   ric_i: 0   story_i: 19\n",
      "'NoneType' object has no attribute 'replace'\n"
     ]
    },
    {
     "name": "stderr",
     "output_type": "stream",
     "text": [
      "2021-01-11 04:04:57,130 P[77476] [MainThread 77664] Error code 429 | Client Error: Too many requests, please try again later. Wait for 71703 seconds.\n",
      "2021-01-11 04:04:57,131 P[77476] [MainThread 77664] HTTP request failed: EikonError-Client Error: Too many requests, please try again later. Wait for 71703 seconds.\n"
     ]
    },
    {
     "name": "stdout",
     "output_type": "stream",
     "text": [
      "\n",
      "STORY IS OK: False   ric_now: AAPL.OQ   ric_i: 0   story_i: 20\n",
      "'NoneType' object has no attribute 'replace'\n"
     ]
    },
    {
     "name": "stderr",
     "output_type": "stream",
     "text": [
      "2021-01-11 04:05:02,160 P[77476] [MainThread 77664] Error code 429 | Client Error: Too many requests, please try again later. Wait for 71698 seconds.\n",
      "2021-01-11 04:05:02,161 P[77476] [MainThread 77664] HTTP request failed: EikonError-Client Error: Too many requests, please try again later. Wait for 71698 seconds.\n"
     ]
    },
    {
     "name": "stdout",
     "output_type": "stream",
     "text": [
      "\n",
      "STORY IS OK: False   ric_now: AAPL.OQ   ric_i: 0   story_i: 21\n",
      "'NoneType' object has no attribute 'replace'\n"
     ]
    },
    {
     "name": "stderr",
     "output_type": "stream",
     "text": [
      "2021-01-11 04:05:07,206 P[77476] [MainThread 77664] Error code 429 | Client Error: Too many requests, please try again later. Wait for 71693 seconds.\n",
      "2021-01-11 04:05:07,206 P[77476] [MainThread 77664] HTTP request failed: EikonError-Client Error: Too many requests, please try again later. Wait for 71693 seconds.\n"
     ]
    },
    {
     "name": "stdout",
     "output_type": "stream",
     "text": [
      "\n",
      "STORY IS OK: False   ric_now: AAPL.OQ   ric_i: 0   story_i: 22\n",
      "'NoneType' object has no attribute 'replace'\n"
     ]
    },
    {
     "name": "stderr",
     "output_type": "stream",
     "text": [
      "2021-01-11 04:05:12,250 P[77476] [MainThread 77664] Error code 429 | Client Error: Too many requests, please try again later. Wait for 71688 seconds.\n",
      "2021-01-11 04:05:12,251 P[77476] [MainThread 77664] HTTP request failed: EikonError-Client Error: Too many requests, please try again later. Wait for 71688 seconds.\n"
     ]
    },
    {
     "name": "stdout",
     "output_type": "stream",
     "text": [
      "\n",
      "STORY IS OK: False   ric_now: AAPL.OQ   ric_i: 0   story_i: 23\n",
      "'NoneType' object has no attribute 'replace'\n"
     ]
    },
    {
     "name": "stderr",
     "output_type": "stream",
     "text": [
      "2021-01-11 04:05:17,297 P[77476] [MainThread 77664] Error code 429 | Client Error: Too many requests, please try again later. Wait for 71683 seconds.\n",
      "2021-01-11 04:05:17,297 P[77476] [MainThread 77664] HTTP request failed: EikonError-Client Error: Too many requests, please try again later. Wait for 71683 seconds.\n"
     ]
    },
    {
     "name": "stdout",
     "output_type": "stream",
     "text": [
      "\n",
      "STORY IS OK: False   ric_now: AAPL.OQ   ric_i: 0   story_i: 24\n",
      "'NoneType' object has no attribute 'replace'\n"
     ]
    },
    {
     "name": "stderr",
     "output_type": "stream",
     "text": [
      "2021-01-11 04:05:22,339 P[77476] [MainThread 77664] Error code 429 | Client Error: Too many requests, please try again later. Wait for 71678 seconds.\n",
      "2021-01-11 04:05:22,341 P[77476] [MainThread 77664] HTTP request failed: EikonError-Client Error: Too many requests, please try again later. Wait for 71678 seconds.\n"
     ]
    },
    {
     "name": "stdout",
     "output_type": "stream",
     "text": [
      "\n",
      "STORY IS OK: False   ric_now: AAPL.OQ   ric_i: 0   story_i: 25\n",
      "'NoneType' object has no attribute 'replace'\n"
     ]
    },
    {
     "name": "stderr",
     "output_type": "stream",
     "text": [
      "2021-01-11 04:05:27,385 P[77476] [MainThread 77664] Error code 429 | Client Error: Too many requests, please try again later. Wait for 71673 seconds.\n",
      "2021-01-11 04:05:27,385 P[77476] [MainThread 77664] HTTP request failed: EikonError-Client Error: Too many requests, please try again later. Wait for 71673 seconds.\n"
     ]
    },
    {
     "name": "stdout",
     "output_type": "stream",
     "text": [
      "\n",
      "STORY IS OK: False   ric_now: AAPL.OQ   ric_i: 0   story_i: 26\n",
      "'NoneType' object has no attribute 'replace'\n"
     ]
    },
    {
     "name": "stderr",
     "output_type": "stream",
     "text": [
      "2021-01-11 04:05:32,427 P[77476] [MainThread 77664] Error code 429 | Client Error: Too many requests, please try again later. Wait for 71668 seconds.\n",
      "2021-01-11 04:05:32,428 P[77476] [MainThread 77664] HTTP request failed: EikonError-Client Error: Too many requests, please try again later. Wait for 71668 seconds.\n"
     ]
    },
    {
     "name": "stdout",
     "output_type": "stream",
     "text": [
      "\n",
      "STORY IS OK: False   ric_now: AAPL.OQ   ric_i: 0   story_i: 27\n",
      "'NoneType' object has no attribute 'replace'\n"
     ]
    },
    {
     "name": "stderr",
     "output_type": "stream",
     "text": [
      "2021-01-11 04:05:37,458 P[77476] [MainThread 77664] Error code 429 | Client Error: Too many requests, please try again later. Wait for 71663 seconds.\n",
      "2021-01-11 04:05:37,459 P[77476] [MainThread 77664] HTTP request failed: EikonError-Client Error: Too many requests, please try again later. Wait for 71663 seconds.\n"
     ]
    },
    {
     "name": "stdout",
     "output_type": "stream",
     "text": [
      "\n",
      "STORY IS OK: False   ric_now: AAPL.OQ   ric_i: 0   story_i: 28\n",
      "'NoneType' object has no attribute 'replace'\n"
     ]
    },
    {
     "name": "stderr",
     "output_type": "stream",
     "text": [
      "2021-01-11 04:05:42,499 P[77476] [MainThread 77664] Error code 429 | Client Error: Too many requests, please try again later. Wait for 71658 seconds.\n",
      "2021-01-11 04:05:42,500 P[77476] [MainThread 77664] HTTP request failed: EikonError-Client Error: Too many requests, please try again later. Wait for 71658 seconds.\n"
     ]
    },
    {
     "name": "stdout",
     "output_type": "stream",
     "text": [
      "\n",
      "STORY IS OK: False   ric_now: AAPL.OQ   ric_i: 0   story_i: 29\n",
      "'NoneType' object has no attribute 'replace'\n"
     ]
    },
    {
     "name": "stderr",
     "output_type": "stream",
     "text": [
      "2021-01-11 04:05:47,539 P[77476] [MainThread 77664] Error code 429 | Client Error: Too many requests, please try again later. Wait for 71653 seconds.\n",
      "2021-01-11 04:05:47,540 P[77476] [MainThread 77664] HTTP request failed: EikonError-Client Error: Too many requests, please try again later. Wait for 71653 seconds.\n"
     ]
    },
    {
     "name": "stdout",
     "output_type": "stream",
     "text": [
      "\n",
      "STORY IS OK: False   ric_now: AAPL.OQ   ric_i: 0   story_i: 30\n",
      "'NoneType' object has no attribute 'replace'\n"
     ]
    },
    {
     "name": "stderr",
     "output_type": "stream",
     "text": [
      "2021-01-11 04:05:52,581 P[77476] [MainThread 77664] Error code 429 | Client Error: Too many requests, please try again later. Wait for 71648 seconds.\n",
      "2021-01-11 04:05:52,582 P[77476] [MainThread 77664] HTTP request failed: EikonError-Client Error: Too many requests, please try again later. Wait for 71648 seconds.\n"
     ]
    },
    {
     "name": "stdout",
     "output_type": "stream",
     "text": [
      "\n",
      "STORY IS OK: False   ric_now: AAPL.OQ   ric_i: 0   story_i: 31\n",
      "'NoneType' object has no attribute 'replace'\n"
     ]
    },
    {
     "name": "stderr",
     "output_type": "stream",
     "text": [
      "2021-01-11 04:05:57,624 P[77476] [MainThread 77664] Error code 429 | Client Error: Too many requests, please try again later. Wait for 71643 seconds.\n",
      "2021-01-11 04:05:57,625 P[77476] [MainThread 77664] HTTP request failed: EikonError-Client Error: Too many requests, please try again later. Wait for 71643 seconds.\n"
     ]
    },
    {
     "name": "stdout",
     "output_type": "stream",
     "text": [
      "\n",
      "STORY IS OK: False   ric_now: AAPL.OQ   ric_i: 0   story_i: 32\n",
      "'NoneType' object has no attribute 'replace'\n"
     ]
    },
    {
     "name": "stderr",
     "output_type": "stream",
     "text": [
      "2021-01-11 04:06:02,663 P[77476] [MainThread 77664] Error code 429 | Client Error: Too many requests, please try again later. Wait for 71638 seconds.\n",
      "2021-01-11 04:06:02,664 P[77476] [MainThread 77664] HTTP request failed: EikonError-Client Error: Too many requests, please try again later. Wait for 71638 seconds.\n"
     ]
    },
    {
     "name": "stdout",
     "output_type": "stream",
     "text": [
      "\n",
      "STORY IS OK: False   ric_now: AAPL.OQ   ric_i: 0   story_i: 33\n",
      "'NoneType' object has no attribute 'replace'\n"
     ]
    },
    {
     "name": "stderr",
     "output_type": "stream",
     "text": [
      "2021-01-11 04:06:07,707 P[77476] [MainThread 77664] Error code 429 | Client Error: Too many requests, please try again later. Wait for 71633 seconds.\n",
      "2021-01-11 04:06:07,709 P[77476] [MainThread 77664] HTTP request failed: EikonError-Client Error: Too many requests, please try again later. Wait for 71633 seconds.\n"
     ]
    },
    {
     "name": "stdout",
     "output_type": "stream",
     "text": [
      "\n",
      "STORY IS OK: False   ric_now: AAPL.OQ   ric_i: 0   story_i: 34\n",
      "'NoneType' object has no attribute 'replace'\n"
     ]
    },
    {
     "name": "stderr",
     "output_type": "stream",
     "text": [
      "2021-01-11 04:06:12,741 P[77476] [MainThread 77664] Error code 429 | Client Error: Too many requests, please try again later. Wait for 71628 seconds.\n",
      "2021-01-11 04:06:12,742 P[77476] [MainThread 77664] HTTP request failed: EikonError-Client Error: Too many requests, please try again later. Wait for 71628 seconds.\n"
     ]
    },
    {
     "name": "stdout",
     "output_type": "stream",
     "text": [
      "\n",
      "STORY IS OK: False   ric_now: AAPL.OQ   ric_i: 0   story_i: 35\n",
      "'NoneType' object has no attribute 'replace'\n"
     ]
    },
    {
     "name": "stderr",
     "output_type": "stream",
     "text": [
      "2021-01-11 04:06:17,784 P[77476] [MainThread 77664] Error code 429 | Client Error: Too many requests, please try again later. Wait for 71623 seconds.\n",
      "2021-01-11 04:06:17,785 P[77476] [MainThread 77664] HTTP request failed: EikonError-Client Error: Too many requests, please try again later. Wait for 71623 seconds.\n"
     ]
    },
    {
     "name": "stdout",
     "output_type": "stream",
     "text": [
      "\n",
      "STORY IS OK: False   ric_now: AAPL.OQ   ric_i: 0   story_i: 36\n",
      "'NoneType' object has no attribute 'replace'\n"
     ]
    },
    {
     "name": "stderr",
     "output_type": "stream",
     "text": [
      "2021-01-11 04:06:22,816 P[77476] [MainThread 77664] Error code 429 | Client Error: Too many requests, please try again later. Wait for 71618 seconds.\n",
      "2021-01-11 04:06:22,817 P[77476] [MainThread 77664] HTTP request failed: EikonError-Client Error: Too many requests, please try again later. Wait for 71618 seconds.\n"
     ]
    },
    {
     "name": "stdout",
     "output_type": "stream",
     "text": [
      "\n",
      "STORY IS OK: False   ric_now: AAPL.OQ   ric_i: 0   story_i: 37\n",
      "'NoneType' object has no attribute 'replace'\n"
     ]
    },
    {
     "name": "stderr",
     "output_type": "stream",
     "text": [
      "2021-01-11 04:06:27,852 P[77476] [MainThread 77664] Error code 429 | Client Error: Too many requests, please try again later. Wait for 71613 seconds.\n",
      "2021-01-11 04:06:27,852 P[77476] [MainThread 77664] HTTP request failed: EikonError-Client Error: Too many requests, please try again later. Wait for 71613 seconds.\n"
     ]
    },
    {
     "name": "stdout",
     "output_type": "stream",
     "text": [
      "\n",
      "STORY IS OK: False   ric_now: AAPL.OQ   ric_i: 0   story_i: 38\n",
      "'NoneType' object has no attribute 'replace'\n"
     ]
    },
    {
     "name": "stderr",
     "output_type": "stream",
     "text": [
      "2021-01-11 04:06:32,885 P[77476] [MainThread 77664] Error code 429 | Client Error: Too many requests, please try again later. Wait for 71608 seconds.\n",
      "2021-01-11 04:06:32,886 P[77476] [MainThread 77664] HTTP request failed: EikonError-Client Error: Too many requests, please try again later. Wait for 71608 seconds.\n"
     ]
    },
    {
     "name": "stdout",
     "output_type": "stream",
     "text": [
      "\n",
      "STORY IS OK: False   ric_now: AAPL.OQ   ric_i: 0   story_i: 39\n",
      "'NoneType' object has no attribute 'replace'\n"
     ]
    },
    {
     "name": "stderr",
     "output_type": "stream",
     "text": [
      "2021-01-11 04:06:37,916 P[77476] [MainThread 77664] Error code 429 | Client Error: Too many requests, please try again later. Wait for 71603 seconds.\n",
      "2021-01-11 04:06:37,917 P[77476] [MainThread 77664] HTTP request failed: EikonError-Client Error: Too many requests, please try again later. Wait for 71603 seconds.\n"
     ]
    },
    {
     "name": "stdout",
     "output_type": "stream",
     "text": [
      "\n",
      "STORY IS OK: False   ric_now: AAPL.OQ   ric_i: 0   story_i: 40\n",
      "'NoneType' object has no attribute 'replace'\n"
     ]
    },
    {
     "name": "stderr",
     "output_type": "stream",
     "text": [
      "2021-01-11 04:06:42,959 P[77476] [MainThread 77664] Error code 429 | Client Error: Too many requests, please try again later. Wait for 71598 seconds.\n",
      "2021-01-11 04:06:42,960 P[77476] [MainThread 77664] HTTP request failed: EikonError-Client Error: Too many requests, please try again later. Wait for 71598 seconds.\n"
     ]
    },
    {
     "name": "stdout",
     "output_type": "stream",
     "text": [
      "\n",
      "STORY IS OK: False   ric_now: AAPL.OQ   ric_i: 0   story_i: 41\n",
      "'NoneType' object has no attribute 'replace'\n"
     ]
    },
    {
     "name": "stderr",
     "output_type": "stream",
     "text": [
      "2021-01-11 04:06:47,993 P[77476] [MainThread 77664] Error code 429 | Client Error: Too many requests, please try again later. Wait for 71593 seconds.\n",
      "2021-01-11 04:06:47,993 P[77476] [MainThread 77664] HTTP request failed: EikonError-Client Error: Too many requests, please try again later. Wait for 71593 seconds.\n"
     ]
    },
    {
     "name": "stdout",
     "output_type": "stream",
     "text": [
      "\n",
      "STORY IS OK: False   ric_now: AAPL.OQ   ric_i: 0   story_i: 42\n",
      "'NoneType' object has no attribute 'replace'\n"
     ]
    },
    {
     "name": "stderr",
     "output_type": "stream",
     "text": [
      "2021-01-11 04:06:53,024 P[77476] [MainThread 77664] Error code 429 | Client Error: Too many requests, please try again later. Wait for 71587 seconds.\n",
      "2021-01-11 04:06:53,025 P[77476] [MainThread 77664] HTTP request failed: EikonError-Client Error: Too many requests, please try again later. Wait for 71587 seconds.\n"
     ]
    },
    {
     "name": "stdout",
     "output_type": "stream",
     "text": [
      "\n",
      "STORY IS OK: False   ric_now: AAPL.OQ   ric_i: 0   story_i: 43\n",
      "'NoneType' object has no attribute 'replace'\n"
     ]
    },
    {
     "name": "stderr",
     "output_type": "stream",
     "text": [
      "2021-01-11 04:06:58,066 P[77476] [MainThread 77664] Error code 429 | Client Error: Too many requests, please try again later. Wait for 71582 seconds.\n",
      "2021-01-11 04:06:58,067 P[77476] [MainThread 77664] HTTP request failed: EikonError-Client Error: Too many requests, please try again later. Wait for 71582 seconds.\n"
     ]
    },
    {
     "name": "stdout",
     "output_type": "stream",
     "text": [
      "\n",
      "STORY IS OK: False   ric_now: AAPL.OQ   ric_i: 0   story_i: 44\n",
      "'NoneType' object has no attribute 'replace'\n"
     ]
    },
    {
     "name": "stderr",
     "output_type": "stream",
     "text": [
      "2021-01-11 04:07:03,110 P[77476] [MainThread 77664] Error code 429 | Client Error: Too many requests, please try again later. Wait for 71577 seconds.\n",
      "2021-01-11 04:07:03,111 P[77476] [MainThread 77664] HTTP request failed: EikonError-Client Error: Too many requests, please try again later. Wait for 71577 seconds.\n"
     ]
    },
    {
     "name": "stdout",
     "output_type": "stream",
     "text": [
      "\n",
      "STORY IS OK: False   ric_now: AAPL.OQ   ric_i: 0   story_i: 45\n",
      "'NoneType' object has no attribute 'replace'\n"
     ]
    },
    {
     "name": "stderr",
     "output_type": "stream",
     "text": [
      "2021-01-11 04:07:08,144 P[77476] [MainThread 77664] Error code 429 | Client Error: Too many requests, please try again later. Wait for 71572 seconds.\n",
      "2021-01-11 04:07:08,145 P[77476] [MainThread 77664] HTTP request failed: EikonError-Client Error: Too many requests, please try again later. Wait for 71572 seconds.\n"
     ]
    },
    {
     "name": "stdout",
     "output_type": "stream",
     "text": [
      "\n",
      "STORY IS OK: False   ric_now: AAPL.OQ   ric_i: 0   story_i: 46\n",
      "'NoneType' object has no attribute 'replace'\n"
     ]
    },
    {
     "name": "stderr",
     "output_type": "stream",
     "text": [
      "2021-01-11 04:07:13,182 P[77476] [MainThread 77664] Error code 429 | Client Error: Too many requests, please try again later. Wait for 71567 seconds.\n",
      "2021-01-11 04:07:13,184 P[77476] [MainThread 77664] HTTP request failed: EikonError-Client Error: Too many requests, please try again later. Wait for 71567 seconds.\n"
     ]
    },
    {
     "name": "stdout",
     "output_type": "stream",
     "text": [
      "\n",
      "STORY IS OK: False   ric_now: AAPL.OQ   ric_i: 0   story_i: 47\n",
      "'NoneType' object has no attribute 'replace'\n"
     ]
    },
    {
     "name": "stderr",
     "output_type": "stream",
     "text": [
      "2021-01-11 04:07:18,219 P[77476] [MainThread 77664] Error code 429 | Client Error: Too many requests, please try again later. Wait for 71562 seconds.\n",
      "2021-01-11 04:07:18,221 P[77476] [MainThread 77664] HTTP request failed: EikonError-Client Error: Too many requests, please try again later. Wait for 71562 seconds.\n"
     ]
    },
    {
     "name": "stdout",
     "output_type": "stream",
     "text": [
      "\n",
      "STORY IS OK: False   ric_now: AAPL.OQ   ric_i: 0   story_i: 48\n",
      "'NoneType' object has no attribute 'replace'\n"
     ]
    },
    {
     "name": "stderr",
     "output_type": "stream",
     "text": [
      "2021-01-11 04:07:23,263 P[77476] [MainThread 77664] Error code 429 | Client Error: Too many requests, please try again later. Wait for 71557 seconds.\n",
      "2021-01-11 04:07:23,264 P[77476] [MainThread 77664] HTTP request failed: EikonError-Client Error: Too many requests, please try again later. Wait for 71557 seconds.\n"
     ]
    },
    {
     "name": "stdout",
     "output_type": "stream",
     "text": [
      "\n",
      "STORY IS OK: False   ric_now: AAPL.OQ   ric_i: 0   story_i: 49\n",
      "'NoneType' object has no attribute 'replace'\n"
     ]
    },
    {
     "name": "stderr",
     "output_type": "stream",
     "text": [
      "2021-01-11 04:07:28,295 P[77476] [MainThread 77664] Error code 429 | Client Error: Too many requests, please try again later. Wait for 71552 seconds.\n",
      "2021-01-11 04:07:28,296 P[77476] [MainThread 77664] HTTP request failed: EikonError-Client Error: Too many requests, please try again later. Wait for 71552 seconds.\n"
     ]
    },
    {
     "name": "stdout",
     "output_type": "stream",
     "text": [
      "\n",
      "STORY IS OK: False   ric_now: AAPL.OQ   ric_i: 0   story_i: 50\n",
      "'NoneType' object has no attribute 'replace'\n"
     ]
    },
    {
     "name": "stderr",
     "output_type": "stream",
     "text": [
      "2021-01-11 04:07:33,338 P[77476] [MainThread 77664] Error code 429 | Client Error: Too many requests, please try again later. Wait for 71547 seconds.\n",
      "2021-01-11 04:07:33,338 P[77476] [MainThread 77664] HTTP request failed: EikonError-Client Error: Too many requests, please try again later. Wait for 71547 seconds.\n"
     ]
    },
    {
     "name": "stdout",
     "output_type": "stream",
     "text": [
      "\n",
      "STORY IS OK: False   ric_now: AAPL.OQ   ric_i: 0   story_i: 51\n",
      "'NoneType' object has no attribute 'replace'\n"
     ]
    },
    {
     "name": "stderr",
     "output_type": "stream",
     "text": [
      "2021-01-11 04:07:38,379 P[77476] [MainThread 77664] Error code 429 | Client Error: Too many requests, please try again later. Wait for 71542 seconds.\n",
      "2021-01-11 04:07:38,379 P[77476] [MainThread 77664] HTTP request failed: EikonError-Client Error: Too many requests, please try again later. Wait for 71542 seconds.\n"
     ]
    },
    {
     "name": "stdout",
     "output_type": "stream",
     "text": [
      "\n",
      "STORY IS OK: False   ric_now: AAPL.OQ   ric_i: 0   story_i: 52\n",
      "'NoneType' object has no attribute 'replace'\n"
     ]
    },
    {
     "name": "stderr",
     "output_type": "stream",
     "text": [
      "2021-01-11 04:07:43,419 P[77476] [MainThread 77664] Error code 429 | Client Error: Too many requests, please try again later. Wait for 71537 seconds.\n",
      "2021-01-11 04:07:43,419 P[77476] [MainThread 77664] HTTP request failed: EikonError-Client Error: Too many requests, please try again later. Wait for 71537 seconds.\n"
     ]
    },
    {
     "name": "stdout",
     "output_type": "stream",
     "text": [
      "\n",
      "STORY IS OK: False   ric_now: AAPL.OQ   ric_i: 0   story_i: 53\n",
      "'NoneType' object has no attribute 'replace'\n"
     ]
    },
    {
     "name": "stderr",
     "output_type": "stream",
     "text": [
      "2021-01-11 04:07:48,462 P[77476] [MainThread 77664] Error code 429 | Client Error: Too many requests, please try again later. Wait for 71532 seconds.\n",
      "2021-01-11 04:07:48,463 P[77476] [MainThread 77664] HTTP request failed: EikonError-Client Error: Too many requests, please try again later. Wait for 71532 seconds.\n"
     ]
    },
    {
     "name": "stdout",
     "output_type": "stream",
     "text": [
      "\n",
      "STORY IS OK: False   ric_now: AAPL.OQ   ric_i: 0   story_i: 54\n",
      "'NoneType' object has no attribute 'replace'\n"
     ]
    },
    {
     "name": "stderr",
     "output_type": "stream",
     "text": [
      "2021-01-11 04:07:53,506 P[77476] [MainThread 77664] Error code 429 | Client Error: Too many requests, please try again later. Wait for 71527 seconds.\n",
      "2021-01-11 04:07:53,506 P[77476] [MainThread 77664] HTTP request failed: EikonError-Client Error: Too many requests, please try again later. Wait for 71527 seconds.\n"
     ]
    },
    {
     "name": "stdout",
     "output_type": "stream",
     "text": [
      "\n",
      "STORY IS OK: False   ric_now: AAPL.OQ   ric_i: 0   story_i: 55\n",
      "'NoneType' object has no attribute 'replace'\n"
     ]
    },
    {
     "name": "stderr",
     "output_type": "stream",
     "text": [
      "2021-01-11 04:07:58,549 P[77476] [MainThread 77664] Error code 429 | Client Error: Too many requests, please try again later. Wait for 71522 seconds.\n",
      "2021-01-11 04:07:58,549 P[77476] [MainThread 77664] HTTP request failed: EikonError-Client Error: Too many requests, please try again later. Wait for 71522 seconds.\n"
     ]
    },
    {
     "name": "stdout",
     "output_type": "stream",
     "text": [
      "\n",
      "STORY IS OK: False   ric_now: AAPL.OQ   ric_i: 0   story_i: 56\n",
      "'NoneType' object has no attribute 'replace'\n"
     ]
    },
    {
     "name": "stderr",
     "output_type": "stream",
     "text": [
      "2021-01-11 04:08:03,591 P[77476] [MainThread 77664] Error code 429 | Client Error: Too many requests, please try again later. Wait for 71517 seconds.\n",
      "2021-01-11 04:08:03,593 P[77476] [MainThread 77664] HTTP request failed: EikonError-Client Error: Too many requests, please try again later. Wait for 71517 seconds.\n"
     ]
    },
    {
     "name": "stdout",
     "output_type": "stream",
     "text": [
      "\n",
      "STORY IS OK: False   ric_now: AAPL.OQ   ric_i: 0   story_i: 57\n",
      "'NoneType' object has no attribute 'replace'\n"
     ]
    },
    {
     "name": "stderr",
     "output_type": "stream",
     "text": [
      "2021-01-11 04:08:08,623 P[77476] [MainThread 77664] Error code 429 | Client Error: Too many requests, please try again later. Wait for 71512 seconds.\n",
      "2021-01-11 04:08:08,624 P[77476] [MainThread 77664] HTTP request failed: EikonError-Client Error: Too many requests, please try again later. Wait for 71512 seconds.\n"
     ]
    },
    {
     "name": "stdout",
     "output_type": "stream",
     "text": [
      "\n",
      "STORY IS OK: False   ric_now: AAPL.OQ   ric_i: 0   story_i: 58\n",
      "'NoneType' object has no attribute 'replace'\n"
     ]
    },
    {
     "name": "stderr",
     "output_type": "stream",
     "text": [
      "2021-01-11 04:08:13,657 P[77476] [MainThread 77664] Error code 429 | Client Error: Too many requests, please try again later. Wait for 71507 seconds.\n",
      "2021-01-11 04:08:13,658 P[77476] [MainThread 77664] HTTP request failed: EikonError-Client Error: Too many requests, please try again later. Wait for 71507 seconds.\n"
     ]
    },
    {
     "name": "stdout",
     "output_type": "stream",
     "text": [
      "\n",
      "STORY IS OK: False   ric_now: AAPL.OQ   ric_i: 0   story_i: 59\n",
      "'NoneType' object has no attribute 'replace'\n"
     ]
    },
    {
     "name": "stderr",
     "output_type": "stream",
     "text": [
      "2021-01-11 04:08:18,691 P[77476] [MainThread 77664] Error code 429 | Client Error: Too many requests, please try again later. Wait for 71502 seconds.\n",
      "2021-01-11 04:08:18,692 P[77476] [MainThread 77664] HTTP request failed: EikonError-Client Error: Too many requests, please try again later. Wait for 71502 seconds.\n"
     ]
    },
    {
     "name": "stdout",
     "output_type": "stream",
     "text": [
      "\n",
      "STORY IS OK: False   ric_now: AAPL.OQ   ric_i: 0   story_i: 60\n",
      "'NoneType' object has no attribute 'replace'\n"
     ]
    },
    {
     "name": "stderr",
     "output_type": "stream",
     "text": [
      "2021-01-11 04:08:23,724 P[77476] [MainThread 77664] Error code 429 | Client Error: Too many requests, please try again later. Wait for 71497 seconds.\n",
      "2021-01-11 04:08:23,724 P[77476] [MainThread 77664] HTTP request failed: EikonError-Client Error: Too many requests, please try again later. Wait for 71497 seconds.\n"
     ]
    },
    {
     "name": "stdout",
     "output_type": "stream",
     "text": [
      "\n",
      "STORY IS OK: False   ric_now: AAPL.OQ   ric_i: 0   story_i: 61\n",
      "'NoneType' object has no attribute 'replace'\n"
     ]
    },
    {
     "name": "stderr",
     "output_type": "stream",
     "text": [
      "2021-01-11 04:08:28,759 P[77476] [MainThread 77664] Error code 429 | Client Error: Too many requests, please try again later. Wait for 71492 seconds.\n",
      "2021-01-11 04:08:28,761 P[77476] [MainThread 77664] HTTP request failed: EikonError-Client Error: Too many requests, please try again later. Wait for 71492 seconds.\n"
     ]
    },
    {
     "name": "stdout",
     "output_type": "stream",
     "text": [
      "\n",
      "STORY IS OK: False   ric_now: AAPL.OQ   ric_i: 0   story_i: 62\n",
      "'NoneType' object has no attribute 'replace'\n"
     ]
    },
    {
     "name": "stderr",
     "output_type": "stream",
     "text": [
      "2021-01-11 04:08:33,804 P[77476] [MainThread 77664] Error code 429 | Client Error: Too many requests, please try again later. Wait for 71487 seconds.\n",
      "2021-01-11 04:08:33,805 P[77476] [MainThread 77664] HTTP request failed: EikonError-Client Error: Too many requests, please try again later. Wait for 71487 seconds.\n"
     ]
    },
    {
     "name": "stdout",
     "output_type": "stream",
     "text": [
      "\n",
      "STORY IS OK: False   ric_now: AAPL.OQ   ric_i: 0   story_i: 63\n",
      "'NoneType' object has no attribute 'replace'\n"
     ]
    },
    {
     "name": "stderr",
     "output_type": "stream",
     "text": [
      "2021-01-11 04:08:38,838 P[77476] [MainThread 77664] Error code 429 | Client Error: Too many requests, please try again later. Wait for 71482 seconds.\n",
      "2021-01-11 04:08:38,838 P[77476] [MainThread 77664] HTTP request failed: EikonError-Client Error: Too many requests, please try again later. Wait for 71482 seconds.\n"
     ]
    },
    {
     "name": "stdout",
     "output_type": "stream",
     "text": [
      "\n",
      "STORY IS OK: False   ric_now: AAPL.OQ   ric_i: 0   story_i: 64\n",
      "'NoneType' object has no attribute 'replace'\n"
     ]
    },
    {
     "name": "stderr",
     "output_type": "stream",
     "text": [
      "2021-01-11 04:08:43,881 P[77476] [MainThread 77664] Error code 429 | Client Error: Too many requests, please try again later. Wait for 71477 seconds.\n",
      "2021-01-11 04:08:43,882 P[77476] [MainThread 77664] HTTP request failed: EikonError-Client Error: Too many requests, please try again later. Wait for 71477 seconds.\n"
     ]
    },
    {
     "name": "stdout",
     "output_type": "stream",
     "text": [
      "\n",
      "STORY IS OK: False   ric_now: AAPL.OQ   ric_i: 0   story_i: 65\n",
      "'NoneType' object has no attribute 'replace'\n"
     ]
    },
    {
     "name": "stderr",
     "output_type": "stream",
     "text": [
      "2021-01-11 04:08:48,926 P[77476] [MainThread 77664] Error code 429 | Client Error: Too many requests, please try again later. Wait for 71472 seconds.\n",
      "2021-01-11 04:08:48,927 P[77476] [MainThread 77664] HTTP request failed: EikonError-Client Error: Too many requests, please try again later. Wait for 71472 seconds.\n"
     ]
    },
    {
     "name": "stdout",
     "output_type": "stream",
     "text": [
      "\n",
      "STORY IS OK: False   ric_now: AAPL.OQ   ric_i: 0   story_i: 66\n",
      "'NoneType' object has no attribute 'replace'\n"
     ]
    },
    {
     "name": "stderr",
     "output_type": "stream",
     "text": [
      "2021-01-11 04:08:53,959 P[77476] [MainThread 77664] Error code 429 | Client Error: Too many requests, please try again later. Wait for 71467 seconds.\n",
      "2021-01-11 04:08:53,960 P[77476] [MainThread 77664] HTTP request failed: EikonError-Client Error: Too many requests, please try again later. Wait for 71467 seconds.\n"
     ]
    },
    {
     "name": "stdout",
     "output_type": "stream",
     "text": [
      "\n",
      "STORY IS OK: False   ric_now: AAPL.OQ   ric_i: 0   story_i: 67\n",
      "'NoneType' object has no attribute 'replace'\n"
     ]
    },
    {
     "name": "stderr",
     "output_type": "stream",
     "text": [
      "2021-01-11 04:08:59,005 P[77476] [MainThread 77664] Error code 429 | Client Error: Too many requests, please try again later. Wait for 71461 seconds.\n",
      "2021-01-11 04:08:59,006 P[77476] [MainThread 77664] HTTP request failed: EikonError-Client Error: Too many requests, please try again later. Wait for 71461 seconds.\n"
     ]
    },
    {
     "name": "stdout",
     "output_type": "stream",
     "text": [
      "\n",
      "STORY IS OK: False   ric_now: AAPL.OQ   ric_i: 0   story_i: 68\n",
      "'NoneType' object has no attribute 'replace'\n"
     ]
    },
    {
     "name": "stderr",
     "output_type": "stream",
     "text": [
      "2021-01-11 04:09:04,047 P[77476] [MainThread 77664] Error code 429 | Client Error: Too many requests, please try again later. Wait for 71456 seconds.\n",
      "2021-01-11 04:09:04,048 P[77476] [MainThread 77664] HTTP request failed: EikonError-Client Error: Too many requests, please try again later. Wait for 71456 seconds.\n"
     ]
    },
    {
     "name": "stdout",
     "output_type": "stream",
     "text": [
      "\n",
      "STORY IS OK: False   ric_now: AAPL.OQ   ric_i: 0   story_i: 69\n",
      "'NoneType' object has no attribute 'replace'\n"
     ]
    },
    {
     "name": "stderr",
     "output_type": "stream",
     "text": [
      "2021-01-11 04:09:09,078 P[77476] [MainThread 77664] Error code 429 | Client Error: Too many requests, please try again later. Wait for 71451 seconds.\n",
      "2021-01-11 04:09:09,079 P[77476] [MainThread 77664] HTTP request failed: EikonError-Client Error: Too many requests, please try again later. Wait for 71451 seconds.\n"
     ]
    },
    {
     "name": "stdout",
     "output_type": "stream",
     "text": [
      "\n",
      "STORY IS OK: False   ric_now: AAPL.OQ   ric_i: 0   story_i: 70\n",
      "'NoneType' object has no attribute 'replace'\n"
     ]
    },
    {
     "name": "stderr",
     "output_type": "stream",
     "text": [
      "2021-01-11 04:09:14,114 P[77476] [MainThread 77664] Error code 429 | Client Error: Too many requests, please try again later. Wait for 71446 seconds.\n",
      "2021-01-11 04:09:14,116 P[77476] [MainThread 77664] HTTP request failed: EikonError-Client Error: Too many requests, please try again later. Wait for 71446 seconds.\n"
     ]
    },
    {
     "name": "stdout",
     "output_type": "stream",
     "text": [
      "\n",
      "STORY IS OK: False   ric_now: AAPL.OQ   ric_i: 0   story_i: 71\n",
      "'NoneType' object has no attribute 'replace'\n"
     ]
    },
    {
     "name": "stderr",
     "output_type": "stream",
     "text": [
      "2021-01-11 04:09:19,160 P[77476] [MainThread 77664] Error code 429 | Client Error: Too many requests, please try again later. Wait for 71441 seconds.\n",
      "2021-01-11 04:09:19,160 P[77476] [MainThread 77664] HTTP request failed: EikonError-Client Error: Too many requests, please try again later. Wait for 71441 seconds.\n"
     ]
    },
    {
     "name": "stdout",
     "output_type": "stream",
     "text": [
      "\n",
      "STORY IS OK: False   ric_now: AAPL.OQ   ric_i: 0   story_i: 72\n",
      "'NoneType' object has no attribute 'replace'\n"
     ]
    },
    {
     "name": "stderr",
     "output_type": "stream",
     "text": [
      "2021-01-11 04:09:24,198 P[77476] [MainThread 77664] Error code 429 | Client Error: Too many requests, please try again later. Wait for 71436 seconds.\n",
      "2021-01-11 04:09:24,198 P[77476] [MainThread 77664] HTTP request failed: EikonError-Client Error: Too many requests, please try again later. Wait for 71436 seconds.\n"
     ]
    },
    {
     "name": "stdout",
     "output_type": "stream",
     "text": [
      "\n",
      "STORY IS OK: False   ric_now: AAPL.OQ   ric_i: 0   story_i: 73\n",
      "'NoneType' object has no attribute 'replace'\n"
     ]
    },
    {
     "name": "stderr",
     "output_type": "stream",
     "text": [
      "2021-01-11 04:09:29,244 P[77476] [MainThread 77664] Error code 429 | Client Error: Too many requests, please try again later. Wait for 71431 seconds.\n",
      "2021-01-11 04:09:29,244 P[77476] [MainThread 77664] HTTP request failed: EikonError-Client Error: Too many requests, please try again later. Wait for 71431 seconds.\n"
     ]
    },
    {
     "name": "stdout",
     "output_type": "stream",
     "text": [
      "\n",
      "STORY IS OK: False   ric_now: AAPL.OQ   ric_i: 0   story_i: 74\n",
      "'NoneType' object has no attribute 'replace'\n"
     ]
    },
    {
     "name": "stderr",
     "output_type": "stream",
     "text": [
      "2021-01-11 04:09:34,284 P[77476] [MainThread 77664] Error code 429 | Client Error: Too many requests, please try again later. Wait for 71426 seconds.\n",
      "2021-01-11 04:09:34,285 P[77476] [MainThread 77664] HTTP request failed: EikonError-Client Error: Too many requests, please try again later. Wait for 71426 seconds.\n"
     ]
    },
    {
     "name": "stdout",
     "output_type": "stream",
     "text": [
      "\n",
      "STORY IS OK: False   ric_now: AAPL.OQ   ric_i: 0   story_i: 75\n",
      "'NoneType' object has no attribute 'replace'\n"
     ]
    },
    {
     "name": "stderr",
     "output_type": "stream",
     "text": [
      "2021-01-11 04:09:39,322 P[77476] [MainThread 77664] Error code 429 | Client Error: Too many requests, please try again later. Wait for 71421 seconds.\n",
      "2021-01-11 04:09:39,323 P[77476] [MainThread 77664] HTTP request failed: EikonError-Client Error: Too many requests, please try again later. Wait for 71421 seconds.\n"
     ]
    },
    {
     "name": "stdout",
     "output_type": "stream",
     "text": [
      "\n",
      "STORY IS OK: False   ric_now: AAPL.OQ   ric_i: 0   story_i: 76\n",
      "'NoneType' object has no attribute 'replace'\n"
     ]
    },
    {
     "name": "stderr",
     "output_type": "stream",
     "text": [
      "2021-01-11 04:09:44,366 P[77476] [MainThread 77664] Error code 429 | Client Error: Too many requests, please try again later. Wait for 71416 seconds.\n",
      "2021-01-11 04:09:44,366 P[77476] [MainThread 77664] HTTP request failed: EikonError-Client Error: Too many requests, please try again later. Wait for 71416 seconds.\n"
     ]
    },
    {
     "name": "stdout",
     "output_type": "stream",
     "text": [
      "\n",
      "STORY IS OK: False   ric_now: AAPL.OQ   ric_i: 0   story_i: 77\n",
      "'NoneType' object has no attribute 'replace'\n"
     ]
    },
    {
     "name": "stderr",
     "output_type": "stream",
     "text": [
      "2021-01-11 04:09:49,408 P[77476] [MainThread 77664] Error code 429 | Client Error: Too many requests, please try again later. Wait for 71411 seconds.\n",
      "2021-01-11 04:09:49,409 P[77476] [MainThread 77664] HTTP request failed: EikonError-Client Error: Too many requests, please try again later. Wait for 71411 seconds.\n"
     ]
    },
    {
     "name": "stdout",
     "output_type": "stream",
     "text": [
      "\n",
      "STORY IS OK: False   ric_now: AAPL.OQ   ric_i: 0   story_i: 78\n",
      "'NoneType' object has no attribute 'replace'\n"
     ]
    },
    {
     "name": "stderr",
     "output_type": "stream",
     "text": [
      "2021-01-11 04:09:54,447 P[77476] [MainThread 77664] Error code 429 | Client Error: Too many requests, please try again later. Wait for 71406 seconds.\n",
      "2021-01-11 04:09:54,448 P[77476] [MainThread 77664] HTTP request failed: EikonError-Client Error: Too many requests, please try again later. Wait for 71406 seconds.\n"
     ]
    },
    {
     "name": "stdout",
     "output_type": "stream",
     "text": [
      "\n",
      "STORY IS OK: False   ric_now: AAPL.OQ   ric_i: 0   story_i: 79\n",
      "'NoneType' object has no attribute 'replace'\n"
     ]
    },
    {
     "name": "stderr",
     "output_type": "stream",
     "text": [
      "2021-01-11 04:09:59,487 P[77476] [MainThread 77664] Error code 429 | Client Error: Too many requests, please try again later. Wait for 71401 seconds.\n",
      "2021-01-11 04:09:59,488 P[77476] [MainThread 77664] HTTP request failed: EikonError-Client Error: Too many requests, please try again later. Wait for 71401 seconds.\n"
     ]
    },
    {
     "name": "stdout",
     "output_type": "stream",
     "text": [
      "\n",
      "STORY IS OK: False   ric_now: AAPL.OQ   ric_i: 0   story_i: 80\n",
      "'NoneType' object has no attribute 'replace'\n"
     ]
    },
    {
     "name": "stderr",
     "output_type": "stream",
     "text": [
      "2021-01-11 04:10:04,521 P[77476] [MainThread 77664] Error code 429 | Client Error: Too many requests, please try again later. Wait for 71396 seconds.\n",
      "2021-01-11 04:10:04,521 P[77476] [MainThread 77664] HTTP request failed: EikonError-Client Error: Too many requests, please try again later. Wait for 71396 seconds.\n"
     ]
    },
    {
     "name": "stdout",
     "output_type": "stream",
     "text": [
      "\n",
      "STORY IS OK: False   ric_now: AAPL.OQ   ric_i: 0   story_i: 81\n",
      "'NoneType' object has no attribute 'replace'\n"
     ]
    },
    {
     "name": "stderr",
     "output_type": "stream",
     "text": [
      "2021-01-11 04:10:09,564 P[77476] [MainThread 77664] Error code 429 | Client Error: Too many requests, please try again later. Wait for 71391 seconds.\n",
      "2021-01-11 04:10:09,565 P[77476] [MainThread 77664] HTTP request failed: EikonError-Client Error: Too many requests, please try again later. Wait for 71391 seconds.\n"
     ]
    },
    {
     "name": "stdout",
     "output_type": "stream",
     "text": [
      "\n",
      "STORY IS OK: False   ric_now: AAPL.OQ   ric_i: 0   story_i: 82\n",
      "'NoneType' object has no attribute 'replace'\n"
     ]
    },
    {
     "name": "stderr",
     "output_type": "stream",
     "text": [
      "2021-01-11 04:10:14,602 P[77476] [MainThread 77664] Error code 429 | Client Error: Too many requests, please try again later. Wait for 71386 seconds.\n",
      "2021-01-11 04:10:14,603 P[77476] [MainThread 77664] HTTP request failed: EikonError-Client Error: Too many requests, please try again later. Wait for 71386 seconds.\n"
     ]
    },
    {
     "name": "stdout",
     "output_type": "stream",
     "text": [
      "\n",
      "STORY IS OK: False   ric_now: AAPL.OQ   ric_i: 0   story_i: 83\n",
      "'NoneType' object has no attribute 'replace'\n"
     ]
    },
    {
     "name": "stderr",
     "output_type": "stream",
     "text": [
      "2021-01-11 04:10:19,645 P[77476] [MainThread 77664] Error code 429 | Client Error: Too many requests, please try again later. Wait for 71381 seconds.\n",
      "2021-01-11 04:10:19,645 P[77476] [MainThread 77664] HTTP request failed: EikonError-Client Error: Too many requests, please try again later. Wait for 71381 seconds.\n"
     ]
    },
    {
     "name": "stdout",
     "output_type": "stream",
     "text": [
      "\n",
      "STORY IS OK: False   ric_now: AAPL.OQ   ric_i: 0   story_i: 84\n",
      "'NoneType' object has no attribute 'replace'\n"
     ]
    },
    {
     "name": "stderr",
     "output_type": "stream",
     "text": [
      "2021-01-11 04:10:24,684 P[77476] [MainThread 77664] Error code 429 | Client Error: Too many requests, please try again later. Wait for 71376 seconds.\n",
      "2021-01-11 04:10:24,684 P[77476] [MainThread 77664] HTTP request failed: EikonError-Client Error: Too many requests, please try again later. Wait for 71376 seconds.\n"
     ]
    },
    {
     "name": "stdout",
     "output_type": "stream",
     "text": [
      "\n",
      "STORY IS OK: False   ric_now: AAPL.OQ   ric_i: 0   story_i: 85\n",
      "'NoneType' object has no attribute 'replace'\n"
     ]
    },
    {
     "name": "stderr",
     "output_type": "stream",
     "text": [
      "2021-01-11 04:10:29,727 P[77476] [MainThread 77664] Error code 429 | Client Error: Too many requests, please try again later. Wait for 71371 seconds.\n",
      "2021-01-11 04:10:29,728 P[77476] [MainThread 77664] HTTP request failed: EikonError-Client Error: Too many requests, please try again later. Wait for 71371 seconds.\n"
     ]
    },
    {
     "name": "stdout",
     "output_type": "stream",
     "text": [
      "\n",
      "STORY IS OK: False   ric_now: AAPL.OQ   ric_i: 0   story_i: 86\n",
      "'NoneType' object has no attribute 'replace'\n"
     ]
    },
    {
     "name": "stderr",
     "output_type": "stream",
     "text": [
      "2021-01-11 04:10:34,768 P[77476] [MainThread 77664] Error code 429 | Client Error: Too many requests, please try again later. Wait for 71366 seconds.\n",
      "2021-01-11 04:10:34,769 P[77476] [MainThread 77664] HTTP request failed: EikonError-Client Error: Too many requests, please try again later. Wait for 71366 seconds.\n"
     ]
    },
    {
     "name": "stdout",
     "output_type": "stream",
     "text": [
      "\n",
      "STORY IS OK: False   ric_now: AAPL.OQ   ric_i: 0   story_i: 87\n",
      "'NoneType' object has no attribute 'replace'\n"
     ]
    },
    {
     "name": "stderr",
     "output_type": "stream",
     "text": [
      "2021-01-11 04:10:39,798 P[77476] [MainThread 77664] Error code 429 | Client Error: Too many requests, please try again later. Wait for 71361 seconds.\n",
      "2021-01-11 04:10:39,799 P[77476] [MainThread 77664] HTTP request failed: EikonError-Client Error: Too many requests, please try again later. Wait for 71361 seconds.\n"
     ]
    },
    {
     "name": "stdout",
     "output_type": "stream",
     "text": [
      "\n",
      "STORY IS OK: False   ric_now: AAPL.OQ   ric_i: 0   story_i: 88\n",
      "'NoneType' object has no attribute 'replace'\n"
     ]
    },
    {
     "name": "stderr",
     "output_type": "stream",
     "text": [
      "2021-01-11 04:10:44,831 P[77476] [MainThread 77664] Error code 429 | Client Error: Too many requests, please try again later. Wait for 71356 seconds.\n",
      "2021-01-11 04:10:44,831 P[77476] [MainThread 77664] HTTP request failed: EikonError-Client Error: Too many requests, please try again later. Wait for 71356 seconds.\n"
     ]
    },
    {
     "name": "stdout",
     "output_type": "stream",
     "text": [
      "\n",
      "STORY IS OK: False   ric_now: AAPL.OQ   ric_i: 0   story_i: 89\n",
      "'NoneType' object has no attribute 'replace'\n"
     ]
    },
    {
     "name": "stderr",
     "output_type": "stream",
     "text": [
      "2021-01-11 04:10:49,866 P[77476] [MainThread 77664] Error code 429 | Client Error: Too many requests, please try again later. Wait for 71351 seconds.\n",
      "2021-01-11 04:10:49,867 P[77476] [MainThread 77664] HTTP request failed: EikonError-Client Error: Too many requests, please try again later. Wait for 71351 seconds.\n"
     ]
    },
    {
     "name": "stdout",
     "output_type": "stream",
     "text": [
      "\n",
      "STORY IS OK: False   ric_now: AAPL.OQ   ric_i: 0   story_i: 90\n",
      "'NoneType' object has no attribute 'replace'\n"
     ]
    },
    {
     "name": "stderr",
     "output_type": "stream",
     "text": [
      "2021-01-11 04:10:54,902 P[77476] [MainThread 77664] Error code 429 | Client Error: Too many requests, please try again later. Wait for 71346 seconds.\n",
      "2021-01-11 04:10:54,902 P[77476] [MainThread 77664] HTTP request failed: EikonError-Client Error: Too many requests, please try again later. Wait for 71346 seconds.\n"
     ]
    },
    {
     "name": "stdout",
     "output_type": "stream",
     "text": [
      "\n",
      "STORY IS OK: False   ric_now: AAPL.OQ   ric_i: 0   story_i: 91\n",
      "'NoneType' object has no attribute 'replace'\n"
     ]
    },
    {
     "name": "stderr",
     "output_type": "stream",
     "text": [
      "2021-01-11 04:10:59,947 P[77476] [MainThread 77664] Error code 429 | Client Error: Too many requests, please try again later. Wait for 71341 seconds.\n",
      "2021-01-11 04:10:59,948 P[77476] [MainThread 77664] HTTP request failed: EikonError-Client Error: Too many requests, please try again later. Wait for 71341 seconds.\n"
     ]
    },
    {
     "name": "stdout",
     "output_type": "stream",
     "text": [
      "\n",
      "STORY IS OK: False   ric_now: AAPL.OQ   ric_i: 0   story_i: 92\n",
      "'NoneType' object has no attribute 'replace'\n"
     ]
    },
    {
     "name": "stderr",
     "output_type": "stream",
     "text": [
      "2021-01-11 04:11:04,983 P[77476] [MainThread 77664] Error code 429 | Client Error: Too many requests, please try again later. Wait for 71336 seconds.\n",
      "2021-01-11 04:11:04,984 P[77476] [MainThread 77664] HTTP request failed: EikonError-Client Error: Too many requests, please try again later. Wait for 71336 seconds.\n"
     ]
    },
    {
     "name": "stdout",
     "output_type": "stream",
     "text": [
      "\n",
      "STORY IS OK: False   ric_now: AAPL.OQ   ric_i: 0   story_i: 93\n",
      "'NoneType' object has no attribute 'replace'\n"
     ]
    },
    {
     "name": "stderr",
     "output_type": "stream",
     "text": [
      "2021-01-11 04:11:10,021 P[77476] [MainThread 77664] Error code 429 | Client Error: Too many requests, please try again later. Wait for 71330 seconds.\n",
      "2021-01-11 04:11:10,022 P[77476] [MainThread 77664] HTTP request failed: EikonError-Client Error: Too many requests, please try again later. Wait for 71330 seconds.\n"
     ]
    },
    {
     "name": "stdout",
     "output_type": "stream",
     "text": [
      "\n",
      "STORY IS OK: False   ric_now: AAPL.OQ   ric_i: 0   story_i: 94\n",
      "'NoneType' object has no attribute 'replace'\n"
     ]
    },
    {
     "name": "stderr",
     "output_type": "stream",
     "text": [
      "2021-01-11 04:11:15,067 P[77476] [MainThread 77664] Error code 429 | Client Error: Too many requests, please try again later. Wait for 71325 seconds.\n",
      "2021-01-11 04:11:15,067 P[77476] [MainThread 77664] HTTP request failed: EikonError-Client Error: Too many requests, please try again later. Wait for 71325 seconds.\n"
     ]
    },
    {
     "name": "stdout",
     "output_type": "stream",
     "text": [
      "\n",
      "STORY IS OK: False   ric_now: AAPL.OQ   ric_i: 0   story_i: 95\n",
      "'NoneType' object has no attribute 'replace'\n"
     ]
    },
    {
     "name": "stderr",
     "output_type": "stream",
     "text": [
      "2021-01-11 04:11:20,101 P[77476] [MainThread 77664] Error code 429 | Client Error: Too many requests, please try again later. Wait for 71320 seconds.\n",
      "2021-01-11 04:11:20,101 P[77476] [MainThread 77664] HTTP request failed: EikonError-Client Error: Too many requests, please try again later. Wait for 71320 seconds.\n"
     ]
    },
    {
     "name": "stdout",
     "output_type": "stream",
     "text": [
      "\n",
      "STORY IS OK: False   ric_now: AAPL.OQ   ric_i: 0   story_i: 96\n",
      "'NoneType' object has no attribute 'replace'\n"
     ]
    },
    {
     "name": "stderr",
     "output_type": "stream",
     "text": [
      "2021-01-11 04:11:25,135 P[77476] [MainThread 77664] Error code 429 | Client Error: Too many requests, please try again later. Wait for 71315 seconds.\n",
      "2021-01-11 04:11:25,136 P[77476] [MainThread 77664] HTTP request failed: EikonError-Client Error: Too many requests, please try again later. Wait for 71315 seconds.\n"
     ]
    },
    {
     "name": "stdout",
     "output_type": "stream",
     "text": [
      "\n",
      "STORY IS OK: False   ric_now: AAPL.OQ   ric_i: 0   story_i: 97\n",
      "'NoneType' object has no attribute 'replace'\n"
     ]
    },
    {
     "name": "stderr",
     "output_type": "stream",
     "text": [
      "2021-01-11 04:11:30,178 P[77476] [MainThread 77664] Error code 429 | Client Error: Too many requests, please try again later. Wait for 71310 seconds.\n",
      "2021-01-11 04:11:30,179 P[77476] [MainThread 77664] HTTP request failed: EikonError-Client Error: Too many requests, please try again later. Wait for 71310 seconds.\n"
     ]
    },
    {
     "name": "stdout",
     "output_type": "stream",
     "text": [
      "\n",
      "STORY IS OK: False   ric_now: AAPL.OQ   ric_i: 0   story_i: 98\n",
      "'NoneType' object has no attribute 'replace'\n"
     ]
    },
    {
     "name": "stderr",
     "output_type": "stream",
     "text": [
      "2021-01-11 04:11:35,217 P[77476] [MainThread 77664] Error code 429 | Client Error: Too many requests, please try again later. Wait for 71305 seconds.\n",
      "2021-01-11 04:11:35,218 P[77476] [MainThread 77664] HTTP request failed: EikonError-Client Error: Too many requests, please try again later. Wait for 71305 seconds.\n"
     ]
    },
    {
     "name": "stdout",
     "output_type": "stream",
     "text": [
      "\n",
      "STORY IS OK: False   ric_now: AAPL.OQ   ric_i: 0   story_i: 99\n",
      "'NoneType' object has no attribute 'replace'\n"
     ]
    },
    {
     "name": "stderr",
     "output_type": "stream",
     "text": [
      "2021-01-11 04:11:40,299 P[77476] [MainThread 77664] Error code 429 | Client Error: Too many requests, please try again later. Wait for 71300 seconds.\n",
      "2021-01-11 04:11:40,299 P[77476] [MainThread 77664] HTTP request failed: EikonError-Client Error: Too many requests, please try again later. Wait for 71300 seconds.\n"
     ]
    },
    {
     "name": "stdout",
     "output_type": "stream",
     "text": [
      "\n",
      "2021-01-11 04:11:40.265078 AAPL.OQ  ric_i: 0  headline_slice_i: 100  headline_number: 100  not null: 100 2020-06-19 16:51:29+00:00\n",
      "\n",
      "is_this_ric_in_all: True   up_to_date_ric: 2020-06-18 06:36:19.353000+00:00 \n",
      "Error when trying to get news headlines 0\n",
      "'NoneType' object is not subscriptable\n"
     ]
    },
    {
     "name": "stderr",
     "output_type": "stream",
     "text": [
      "2021-01-11 04:11:45,325 P[77476] [MainThread 77664] Error code 429 | Client Error: Too many requests, please try again later. Wait for 71295 seconds.\n",
      "2021-01-11 04:11:45,326 P[77476] [MainThread 77664] HTTP request failed: EikonError-Client Error: Too many requests, please try again later. Wait for 71295 seconds.\n"
     ]
    },
    {
     "name": "stdout",
     "output_type": "stream",
     "text": [
      "\n",
      "Error when trying to get news headlines 1\n",
      "'NoneType' object is not subscriptable\n"
     ]
    },
    {
     "name": "stderr",
     "output_type": "stream",
     "text": [
      "2021-01-11 04:11:50,338 P[77476] [MainThread 77664] Error code 429 | Client Error: Too many requests, please try again later. Wait for 71290 seconds.\n",
      "2021-01-11 04:11:50,339 P[77476] [MainThread 77664] HTTP request failed: EikonError-Client Error: Too many requests, please try again later. Wait for 71290 seconds.\n"
     ]
    },
    {
     "name": "stdout",
     "output_type": "stream",
     "text": [
      "\n",
      "Error when trying to get news headlines 2\n",
      "'NoneType' object is not subscriptable\n"
     ]
    },
    {
     "name": "stderr",
     "output_type": "stream",
     "text": [
      "2021-01-11 04:11:55,352 P[77476] [MainThread 77664] Error code 429 | Client Error: Too many requests, please try again later. Wait for 71285 seconds.\n",
      "2021-01-11 04:11:55,353 P[77476] [MainThread 77664] HTTP request failed: EikonError-Client Error: Too many requests, please try again later. Wait for 71285 seconds.\n"
     ]
    },
    {
     "name": "stdout",
     "output_type": "stream",
     "text": [
      "\n",
      "Error when trying to get news headlines 3\n",
      "'NoneType' object is not subscriptable\n"
     ]
    },
    {
     "name": "stderr",
     "output_type": "stream",
     "text": [
      "2021-01-11 04:12:00,369 P[77476] [MainThread 77664] Error code 429 | Client Error: Too many requests, please try again later. Wait for 71280 seconds.\n",
      "2021-01-11 04:12:00,369 P[77476] [MainThread 77664] HTTP request failed: EikonError-Client Error: Too many requests, please try again later. Wait for 71280 seconds.\n"
     ]
    },
    {
     "name": "stdout",
     "output_type": "stream",
     "text": [
      "\n",
      "Error when trying to get news headlines 4\n",
      "'NoneType' object is not subscriptable\n"
     ]
    },
    {
     "ename": "UnboundLocalError",
     "evalue": "local variable 'news_get_df' referenced before assignment",
     "output_type": "error",
     "traceback": [
      "\u001b[1;31m---------------------------------------------------------------------------\u001b[0m",
      "\u001b[1;31mUnboundLocalError\u001b[0m                         Traceback (most recent call last)",
      "\u001b[1;32m<ipython-input-43-bfd7adb98fba>\u001b[0m in \u001b[0;36m<module>\u001b[1;34m\u001b[0m\n\u001b[0;32m     42\u001b[0m             \u001b[0mric_now\u001b[0m\u001b[1;33m=\u001b[0m\u001b[0mric_now\u001b[0m\u001b[1;33m,\u001b[0m\u001b[1;33m\u001b[0m\u001b[1;33m\u001b[0m\u001b[0m\n\u001b[0;32m     43\u001b[0m             \u001b[0mheadlines_count_to_request\u001b[0m\u001b[1;33m=\u001b[0m\u001b[0mheadlines_count_to_request\u001b[0m\u001b[1;33m,\u001b[0m\u001b[1;33m\u001b[0m\u001b[1;33m\u001b[0m\u001b[0m\n\u001b[1;32m---> 44\u001b[1;33m             \u001b[0mup_to_date_ric\u001b[0m\u001b[1;33m=\u001b[0m\u001b[0mup_to_date_ric\u001b[0m\u001b[1;33m\u001b[0m\u001b[1;33m\u001b[0m\u001b[0m\n\u001b[0m\u001b[0;32m     45\u001b[0m         )\n\u001b[0;32m     46\u001b[0m \u001b[1;33m\u001b[0m\u001b[0m\n",
      "\u001b[1;32m<ipython-input-33-b6d7e417a66c>\u001b[0m in \u001b[0;36mget_news_headlines_with_some_tries\u001b[1;34m(ric_now, headlines_count_to_request, up_to_date_ric, max_num_tries)\u001b[0m\n\u001b[0;32m     25\u001b[0m             \u001b[0mtries_num\u001b[0m \u001b[1;33m=\u001b[0m \u001b[0mtries_num\u001b[0m \u001b[1;33m+\u001b[0m \u001b[1;36m1\u001b[0m\u001b[1;33m\u001b[0m\u001b[1;33m\u001b[0m\u001b[0m\n\u001b[0;32m     26\u001b[0m \u001b[1;33m\u001b[0m\u001b[0m\n\u001b[1;32m---> 27\u001b[1;33m     \u001b[0mprint\u001b[0m\u001b[1;33m(\u001b[0m\u001b[1;34m'news_get_df.shape:'\u001b[0m\u001b[1;33m,\u001b[0m \u001b[0mnews_get_df\u001b[0m\u001b[1;33m.\u001b[0m\u001b[0mshape\u001b[0m\u001b[1;33m[\u001b[0m\u001b[1;36m0\u001b[0m\u001b[1;33m]\u001b[0m\u001b[1;33m)\u001b[0m\u001b[1;33m\u001b[0m\u001b[1;33m\u001b[0m\u001b[0m\n\u001b[0m\u001b[0;32m     28\u001b[0m \u001b[1;33m\u001b[0m\u001b[0m\n\u001b[0;32m     29\u001b[0m     \u001b[1;32mreturn\u001b[0m \u001b[0mnews_get_df\u001b[0m\u001b[1;33m\u001b[0m\u001b[1;33m\u001b[0m\u001b[0m\n",
      "\u001b[1;31mUnboundLocalError\u001b[0m: local variable 'news_get_df' referenced before assignment"
     ]
    }
   ],
   "source": [
    "# Зададим, по какому df мы будет итерировать ric компании (её код на бирже).\n",
    "rics_to_loop_df = rics_usa_df\n",
    "rics_to_loop_df = rics_to_loop_df.reset_index(drop=True) # чтобы юзать .loc()\n",
    "\n",
    "# Зададим переменную, котролирующую количество выгружаемых за раз заголовков\n",
    "headlines_count_to_request = 100\n",
    "\n",
    "# Необходимо задать переменную до цикла как 100, далее она будет изменяться\n",
    "headlines_number = 100\n",
    "\n",
    "# Первый цикл будет итерировать компании.\n",
    "for ric_i in range(0, len(rics_to_loop_df)): # range(0, len(rics_to_loop_df))\n",
    "    \n",
    "    # Зададим переменную, которая скажет, какой сейчас итерируется ric.\n",
    "    ric_now = rics_to_loop_df.loc[ric_i, \"ric\"]\n",
    "    print(ric_i, ric_now)\n",
    "    \n",
    "    # Цикл, который прогоняет запросы заголовков.\n",
    "    # Зададим для него параметр. Прибавим +1, если исчерпали новости.\n",
    "    last_headlines_request = False\n",
    "    # Будем вести счёт итерацию цикла While для выгрузки заголовков\n",
    "    headlines_slice_i = 0\n",
    "    # Для выкачивания заголовков нужно задать дату, до которой делаем запрос.\n",
    "    # Если такого ric нет в all_headlines_df со всеми новостями,\n",
    "    # то не будет задавать дату, до которой выкачивать заголовки.\n",
    "    # Если такой ric есть в all_headlines_df со всеми новостями,\n",
    "    # то возьмём минимальную дату из all_headlines_df со всеми новостями\n",
    "    while not last_headlines_request:\n",
    "        \n",
    "        # That function returns the param for ek.get_news_headlines method\n",
    "        # That param means the datetime slice of news to be collected\n",
    "        up_to_date_ric = set_value_of_up_to_date_ric(\n",
    "            ric_now=ric_now,\n",
    "            df_with_news_to_check=all_headlines_df,\n",
    "            column_name_with_rics='ric',\n",
    "            column_name_with_dates='versionCreated'\n",
    "        )\n",
    "        \n",
    "        # That function returns df with news headlines after several tries\n",
    "        news_get_df = get_news_headlines_with_some_tries(\n",
    "            max_num_tries=5,\n",
    "            ric_now=ric_now,\n",
    "            headlines_count_to_request=headlines_count_to_request,\n",
    "            up_to_date_ric=up_to_date_ric\n",
    "        )\n",
    "        \n",
    "        # Some df changes before adding full news text to that df\n",
    "        news_get_df = prepare_headlines_df_to_adding_news_story(\n",
    "            ric_now, news_get_df)\n",
    "        \n",
    "        # Adding full text of news (stories) to df with headlines\n",
    "        news_get_df, quasi_logger = adding_news_stories_to_df_with_headlines(\n",
    "            news_get_df,\n",
    "            quasi_logger,\n",
    "            ric_i,\n",
    "            ric_now,\n",
    "            headlines_slice_i,\n",
    "            headlines_number,\n",
    "            up_to_date_ric,\n",
    "            col_name_with_story_id = 'storyId')\n",
    "        \n",
    "        # If at that moment news_get_df has less than 100 news,\n",
    "        # than it means we have exhausted news for that ric because of dates limitation.\n",
    "        # And we need to change ric_now that we iterate.\n",
    "        headlines_number = news_get_df.shape[0]\n",
    "        if headlines_number < 100:\n",
    "            last_headlines_request = True\n",
    "        \n",
    "        headlines_slice_i = headlines_slice_i + 1\n",
    "        \n",
    "        # At that moment news_get_df has the slice with headlines & full-text.\n",
    "        # Let's add that slice to all_headlines_df that has all news.\n",
    "        all_headlines_df = all_headlines_df.append(news_get_df, ignore_index = True)\n",
    "        print()\n",
    "        print(str(datetime.today()), ric_now, \n",
    "              ' ric_i:', ric_i,\n",
    "              ' headline_slice_i:', headlines_slice_i,\n",
    "              ' headline_number:', headlines_number,\n",
    "              ' not null:', news_get_df['story'].notna().sum(),\n",
    "              up_to_date_ric)\n",
    "        \n",
    "        # End of headlines iterations for one selected ric\n",
    "    \n",
    "    # Save the version of all_headlines_df at every ric iteration\n",
    "    save_file_as_new_file_without_replacing(\n",
    "        path_project_folder=path_project_folder,\n",
    "        folder_name_to_save=folder_name_headlines,\n",
    "        file_to_save=all_headlines_df,\n",
    "        file_short_name_add_to_path='all_headlines_df')\n",
    "    \n",
    "    # Save the version of quasi_logger at every ric iteration\n",
    "    save_file_as_new_file_without_replacing(\n",
    "        path_project_folder=path_project_folder,\n",
    "        folder_name_to_save=folder_name_logger,\n",
    "        file_to_save=quasi_logger,\n",
    "        file_short_name_add_to_path='quasi_logger')"
   ]
  },
  {
   "cell_type": "code",
   "execution_count": 18,
   "metadata": {},
   "outputs": [
    {
     "data": {
      "text/html": [
       "<div>\n",
       "<style scoped>\n",
       "    .dataframe tbody tr th:only-of-type {\n",
       "        vertical-align: middle;\n",
       "    }\n",
       "\n",
       "    .dataframe tbody tr th {\n",
       "        vertical-align: top;\n",
       "    }\n",
       "\n",
       "    .dataframe thead th {\n",
       "        text-align: right;\n",
       "    }\n",
       "</style>\n",
       "<table border=\"1\" class=\"dataframe\">\n",
       "  <thead>\n",
       "    <tr style=\"text-align: right;\">\n",
       "      <th></th>\n",
       "      <th>ric</th>\n",
       "      <th>versionCreated</th>\n",
       "      <th>headline</th>\n",
       "      <th>storyId</th>\n",
       "      <th>sourceCode</th>\n",
       "      <th>story</th>\n",
       "    </tr>\n",
       "  </thead>\n",
       "  <tbody>\n",
       "    <tr>\n",
       "      <th>0</th>\n",
       "      <td>DTEGn.DE</td>\n",
       "      <td>2020-12-23 18:25:27.865000+00:00</td>\n",
       "      <td>IGN Igen Networks joins T-Mobile partner program</td>\n",
       "      <td>urn:newsml:reuters.com:20201223:nNRAdspppv:1</td>\n",
       "      <td>NS:CNSWCH</td>\n",
       "      <td>&lt;div class=\"storyContent\" lang=\"en\"&gt;&lt;style typ...</td>\n",
       "    </tr>\n",
       "    <tr>\n",
       "      <th>1</th>\n",
       "      <td>DTEGn.DE</td>\n",
       "      <td>2020-12-22 08:35:59.285000+00:00</td>\n",
       "      <td>(EN) Makedonski Telekom AD - Skopje Board Chan...</td>\n",
       "      <td>urn:newsml:reuters.com:20201222:nGLF4Kt1L3:2</td>\n",
       "      <td>NS:GLFILE</td>\n",
       "      <td>&lt;div class=\"storyContent\" lang=\"en\"&gt;&lt;p&gt;&lt;a href...</td>\n",
       "    </tr>\n",
       "    <tr>\n",
       "      <th>2</th>\n",
       "      <td>DTEGn.DE</td>\n",
       "      <td>2020-12-22 08:35:53.014000+00:00</td>\n",
       "      <td>(EN) Makedonski Telekom AD - Skopje Board Chan...</td>\n",
       "      <td>urn:newsml:reuters.com:20201222:nGLF2DBhZz:2</td>\n",
       "      <td>NS:GLFILE</td>\n",
       "      <td>&lt;div class=\"storyContent\" lang=\"en\"&gt;&lt;p&gt;&lt;a href...</td>\n",
       "    </tr>\n",
       "    <tr>\n",
       "      <th>3</th>\n",
       "      <td>DTEGn.DE</td>\n",
       "      <td>2020-12-21 13:08:03.993000+00:00</td>\n",
       "      <td>WFB (Bus), Anyone? T-Mobile Turns Red Rose Tra...</td>\n",
       "      <td>urn:newsml:reuters.com:20201221:nBw3VPZ4Qa:1</td>\n",
       "      <td>NS:BSW</td>\n",
       "      <td>&lt;div class=\"storyContent\" lang=\"en\"&gt;&lt;style typ...</td>\n",
       "    </tr>\n",
       "    <tr>\n",
       "      <th>4</th>\n",
       "      <td>DTEGn.DE</td>\n",
       "      <td>2020-12-19 09:00:00+00:00</td>\n",
       "      <td>HINTERGRUND-Internet überall dank Satellit und...</td>\n",
       "      <td>urn:newsml:reuters.com:20201219:nL8N2IY3D9:1</td>\n",
       "      <td>NS:RTRS</td>\n",
       "      <td>&lt;div class=\"storyContent\" lang=\"de\"&gt;&lt;style typ...</td>\n",
       "    </tr>\n",
       "    <tr>\n",
       "      <th>...</th>\n",
       "      <td>...</td>\n",
       "      <td>...</td>\n",
       "      <td>...</td>\n",
       "      <td>...</td>\n",
       "      <td>...</td>\n",
       "      <td>...</td>\n",
       "    </tr>\n",
       "    <tr>\n",
       "      <th>112836</th>\n",
       "      <td>AAPL.OQ</td>\n",
       "      <td>2020-06-19 17:03:07+00:00</td>\n",
       "      <td>UPDATE 1-Apple to shut some U.S. stores again ...</td>\n",
       "      <td>urn:newsml:reuters.com:20200619:nL4N2DW39H:2</td>\n",
       "      <td>NS:RTRS</td>\n",
       "      <td>&lt;div class=\"storyContent\" lang=\"en\"&gt;&lt;style typ...</td>\n",
       "    </tr>\n",
       "    <tr>\n",
       "      <th>112837</th>\n",
       "      <td>AAPL.OQ</td>\n",
       "      <td>2020-06-19 17:01:02+00:00</td>\n",
       "      <td>BRIEF-Apple Could Announce Plans As Soon As Mo...</td>\n",
       "      <td>urn:newsml:reuters.com:20200619:nFWN2DW05F:1</td>\n",
       "      <td>NS:RTRS</td>\n",
       "      <td>&lt;div class=\"storyContent\" lang=\"en\"&gt;&lt;style typ...</td>\n",
       "    </tr>\n",
       "    <tr>\n",
       "      <th>112838</th>\n",
       "      <td>AAPL.OQ</td>\n",
       "      <td>2020-06-19 16:58:52.346000+00:00</td>\n",
       "      <td>APPLE COULD ANNOUNCE PLANS AS SOON AS MONDAY T...</td>\n",
       "      <td>urn:newsml:reuters.com:20200619:nFWN2DW05F:1</td>\n",
       "      <td>NS:RTRS</td>\n",
       "      <td>&lt;div class=\"storyContent\" lang=\"en\"&gt;&lt;style typ...</td>\n",
       "    </tr>\n",
       "    <tr>\n",
       "      <th>112839</th>\n",
       "      <td>AAPL.OQ</td>\n",
       "      <td>2020-06-19 16:57:33+00:00</td>\n",
       "      <td>US GOVT-What went on so far? Apple news sinks ...</td>\n",
       "      <td>urn:newsml:reuters.com:20200619:nL1N2DW13R:1</td>\n",
       "      <td>NS:IFR</td>\n",
       "      <td>&lt;div class=\"storyContent\" lang=\"en\"&gt;&lt;style typ...</td>\n",
       "    </tr>\n",
       "    <tr>\n",
       "      <th>112840</th>\n",
       "      <td>AAPL.OQ</td>\n",
       "      <td>2020-06-19 16:51:29+00:00</td>\n",
       "      <td>VIRUS-TICKER-Apple schließt wegen Virus einige...</td>\n",
       "      <td>urn:newsml:reuters.com:20200619:nL8N2DW4S9:1</td>\n",
       "      <td>NS:RTRS</td>\n",
       "      <td>&lt;div class=\"storyContent\" lang=\"de\"&gt;&lt;style typ...</td>\n",
       "    </tr>\n",
       "  </tbody>\n",
       "</table>\n",
       "<p>112841 rows × 6 columns</p>\n",
       "</div>"
      ],
      "text/plain": [
       "             ric                   versionCreated  \\\n",
       "0       DTEGn.DE 2020-12-23 18:25:27.865000+00:00   \n",
       "1       DTEGn.DE 2020-12-22 08:35:59.285000+00:00   \n",
       "2       DTEGn.DE 2020-12-22 08:35:53.014000+00:00   \n",
       "3       DTEGn.DE 2020-12-21 13:08:03.993000+00:00   \n",
       "4       DTEGn.DE        2020-12-19 09:00:00+00:00   \n",
       "...          ...                              ...   \n",
       "112836   AAPL.OQ        2020-06-19 17:03:07+00:00   \n",
       "112837   AAPL.OQ        2020-06-19 17:01:02+00:00   \n",
       "112838   AAPL.OQ 2020-06-19 16:58:52.346000+00:00   \n",
       "112839   AAPL.OQ        2020-06-19 16:57:33+00:00   \n",
       "112840   AAPL.OQ        2020-06-19 16:51:29+00:00   \n",
       "\n",
       "                                                 headline  \\\n",
       "0        IGN Igen Networks joins T-Mobile partner program   \n",
       "1       (EN) Makedonski Telekom AD - Skopje Board Chan...   \n",
       "2       (EN) Makedonski Telekom AD - Skopje Board Chan...   \n",
       "3       WFB (Bus), Anyone? T-Mobile Turns Red Rose Tra...   \n",
       "4       HINTERGRUND-Internet überall dank Satellit und...   \n",
       "...                                                   ...   \n",
       "112836  UPDATE 1-Apple to shut some U.S. stores again ...   \n",
       "112837  BRIEF-Apple Could Announce Plans As Soon As Mo...   \n",
       "112838  APPLE COULD ANNOUNCE PLANS AS SOON AS MONDAY T...   \n",
       "112839  US GOVT-What went on so far? Apple news sinks ...   \n",
       "112840  VIRUS-TICKER-Apple schließt wegen Virus einige...   \n",
       "\n",
       "                                             storyId sourceCode  \\\n",
       "0       urn:newsml:reuters.com:20201223:nNRAdspppv:1  NS:CNSWCH   \n",
       "1       urn:newsml:reuters.com:20201222:nGLF4Kt1L3:2  NS:GLFILE   \n",
       "2       urn:newsml:reuters.com:20201222:nGLF2DBhZz:2  NS:GLFILE   \n",
       "3       urn:newsml:reuters.com:20201221:nBw3VPZ4Qa:1     NS:BSW   \n",
       "4       urn:newsml:reuters.com:20201219:nL8N2IY3D9:1    NS:RTRS   \n",
       "...                                              ...        ...   \n",
       "112836  urn:newsml:reuters.com:20200619:nL4N2DW39H:2    NS:RTRS   \n",
       "112837  urn:newsml:reuters.com:20200619:nFWN2DW05F:1    NS:RTRS   \n",
       "112838  urn:newsml:reuters.com:20200619:nFWN2DW05F:1    NS:RTRS   \n",
       "112839  urn:newsml:reuters.com:20200619:nL1N2DW13R:1     NS:IFR   \n",
       "112840  urn:newsml:reuters.com:20200619:nL8N2DW4S9:1    NS:RTRS   \n",
       "\n",
       "                                                    story  \n",
       "0       <div class=\"storyContent\" lang=\"en\"><style typ...  \n",
       "1       <div class=\"storyContent\" lang=\"en\"><p><a href...  \n",
       "2       <div class=\"storyContent\" lang=\"en\"><p><a href...  \n",
       "3       <div class=\"storyContent\" lang=\"en\"><style typ...  \n",
       "4       <div class=\"storyContent\" lang=\"de\"><style typ...  \n",
       "...                                                   ...  \n",
       "112836  <div class=\"storyContent\" lang=\"en\"><style typ...  \n",
       "112837  <div class=\"storyContent\" lang=\"en\"><style typ...  \n",
       "112838  <div class=\"storyContent\" lang=\"en\"><style typ...  \n",
       "112839  <div class=\"storyContent\" lang=\"en\"><style typ...  \n",
       "112840  <div class=\"storyContent\" lang=\"de\"><style typ...  \n",
       "\n",
       "[112841 rows x 6 columns]"
      ]
     },
     "execution_count": 18,
     "metadata": {},
     "output_type": "execute_result"
    }
   ],
   "source": [
    "all_headlines_df"
   ]
  },
  {
   "cell_type": "code",
   "execution_count": 19,
   "metadata": {},
   "outputs": [
    {
     "data": {
      "text/plain": [
       "<AxesSubplot:>"
      ]
     },
     "execution_count": 19,
     "metadata": {},
     "output_type": "execute_result"
    },
    {
     "data": {
      "image/png": "[encoded data removed]",
      "text/plain": [
       "<Figure size 640x280 with 1 Axes>"
      ]
     },
     "metadata": {},
     "output_type": "display_data"
    }
   ],
   "source": [
    "all_headlines_df['versionCreated'].plot()"
   ]
  },
  {
   "cell_type": "code",
   "execution_count": 20,
   "metadata": {},
   "outputs": [
    {
     "data": {
      "text/html": [
       "<div>\n",
       "<style scoped>\n",
       "    .dataframe tbody tr th:only-of-type {\n",
       "        vertical-align: middle;\n",
       "    }\n",
       "\n",
       "    .dataframe tbody tr th {\n",
       "        vertical-align: top;\n",
       "    }\n",
       "\n",
       "    .dataframe thead th {\n",
       "        text-align: right;\n",
       "    }\n",
       "</style>\n",
       "<table border=\"1\" class=\"dataframe\">\n",
       "  <thead>\n",
       "    <tr style=\"text-align: right;\">\n",
       "      <th></th>\n",
       "      <th>ric_i</th>\n",
       "      <th>ric_now</th>\n",
       "      <th>headlines_slice_i</th>\n",
       "      <th>headlines_number</th>\n",
       "      <th>up_to_date_ric</th>\n",
       "      <th>story_i</th>\n",
       "      <th>story_id_now</th>\n",
       "      <th>story_is_success</th>\n",
       "      <th>date_time</th>\n",
       "      <th>date_only</th>\n",
       "      <th>exec_seconds</th>\n",
       "    </tr>\n",
       "  </thead>\n",
       "  <tbody>\n",
       "    <tr>\n",
       "      <th>0</th>\n",
       "      <td>0</td>\n",
       "      <td>DTEGn.DE</td>\n",
       "      <td>0</td>\n",
       "      <td>100</td>\n",
       "      <td>2020-12-24T03:51:28</td>\n",
       "      <td>0</td>\n",
       "      <td>urn:newsml:reuters.com:20201223:nNRAdspppv:1</td>\n",
       "      <td>True</td>\n",
       "      <td>2020-12-24 03:51:31.939240</td>\n",
       "      <td>2020-12-24</td>\n",
       "      <td>NaN</td>\n",
       "    </tr>\n",
       "    <tr>\n",
       "      <th>1</th>\n",
       "      <td>0</td>\n",
       "      <td>DTEGn.DE</td>\n",
       "      <td>0</td>\n",
       "      <td>100</td>\n",
       "      <td>2020-12-24T03:51:28</td>\n",
       "      <td>1</td>\n",
       "      <td>urn:newsml:reuters.com:20201222:nGLF4Kt1L3:2</td>\n",
       "      <td>True</td>\n",
       "      <td>2020-12-24 03:51:33.740708</td>\n",
       "      <td>2020-12-24</td>\n",
       "      <td>1.801468</td>\n",
       "    </tr>\n",
       "    <tr>\n",
       "      <th>2</th>\n",
       "      <td>0</td>\n",
       "      <td>DTEGn.DE</td>\n",
       "      <td>0</td>\n",
       "      <td>100</td>\n",
       "      <td>2020-12-24T03:51:28</td>\n",
       "      <td>2</td>\n",
       "      <td>urn:newsml:reuters.com:20201222:nGLF2DBhZz:2</td>\n",
       "      <td>True</td>\n",
       "      <td>2020-12-24 03:51:37.079818</td>\n",
       "      <td>2020-12-24</td>\n",
       "      <td>3.339110</td>\n",
       "    </tr>\n",
       "    <tr>\n",
       "      <th>3</th>\n",
       "      <td>0</td>\n",
       "      <td>DTEGn.DE</td>\n",
       "      <td>0</td>\n",
       "      <td>100</td>\n",
       "      <td>2020-12-24T03:51:28</td>\n",
       "      <td>3</td>\n",
       "      <td>urn:newsml:reuters.com:20201221:nBw3VPZ4Qa:1</td>\n",
       "      <td>True</td>\n",
       "      <td>2020-12-24 03:51:37.803316</td>\n",
       "      <td>2020-12-24</td>\n",
       "      <td>0.723498</td>\n",
       "    </tr>\n",
       "    <tr>\n",
       "      <th>4</th>\n",
       "      <td>0</td>\n",
       "      <td>DTEGn.DE</td>\n",
       "      <td>0</td>\n",
       "      <td>100</td>\n",
       "      <td>2020-12-24T03:51:28</td>\n",
       "      <td>4</td>\n",
       "      <td>urn:newsml:reuters.com:20201219:nL8N2IY3D9:1</td>\n",
       "      <td>True</td>\n",
       "      <td>2020-12-24 03:51:38.957981</td>\n",
       "      <td>2020-12-24</td>\n",
       "      <td>1.154665</td>\n",
       "    </tr>\n",
       "    <tr>\n",
       "      <th>...</th>\n",
       "      <td>...</td>\n",
       "      <td>...</td>\n",
       "      <td>...</td>\n",
       "      <td>...</td>\n",
       "      <td>...</td>\n",
       "      <td>...</td>\n",
       "      <td>...</td>\n",
       "      <td>...</td>\n",
       "      <td>...</td>\n",
       "      <td>...</td>\n",
       "      <td>...</td>\n",
       "    </tr>\n",
       "    <tr>\n",
       "      <th>79354</th>\n",
       "      <td>0</td>\n",
       "      <td>AAPL.OQ</td>\n",
       "      <td>99</td>\n",
       "      <td>100</td>\n",
       "      <td>2020-06-19 16:51:29+00:00</td>\n",
       "      <td>95</td>\n",
       "      <td>urn:newsml:reuters.com:20200618:nNRAc3ivir:1</td>\n",
       "      <td>False</td>\n",
       "      <td>2021-01-11 04:11:20.074229</td>\n",
       "      <td>NaN</td>\n",
       "      <td>NaN</td>\n",
       "    </tr>\n",
       "    <tr>\n",
       "      <th>79355</th>\n",
       "      <td>0</td>\n",
       "      <td>AAPL.OQ</td>\n",
       "      <td>99</td>\n",
       "      <td>100</td>\n",
       "      <td>2020-06-19 16:51:29+00:00</td>\n",
       "      <td>96</td>\n",
       "      <td>urn:newsml:newsroom:20200618:nNRAc3ia9n:0</td>\n",
       "      <td>False</td>\n",
       "      <td>2021-01-11 04:11:25.107997</td>\n",
       "      <td>NaN</td>\n",
       "      <td>NaN</td>\n",
       "    </tr>\n",
       "    <tr>\n",
       "      <th>79356</th>\n",
       "      <td>0</td>\n",
       "      <td>AAPL.OQ</td>\n",
       "      <td>99</td>\n",
       "      <td>100</td>\n",
       "      <td>2020-06-19 16:51:29+00:00</td>\n",
       "      <td>97</td>\n",
       "      <td>urn:newsml:reuters.com:20200618:nNRAc3i37h:1</td>\n",
       "      <td>False</td>\n",
       "      <td>2021-01-11 04:11:30.151877</td>\n",
       "      <td>NaN</td>\n",
       "      <td>NaN</td>\n",
       "    </tr>\n",
       "    <tr>\n",
       "      <th>79357</th>\n",
       "      <td>0</td>\n",
       "      <td>AAPL.OQ</td>\n",
       "      <td>99</td>\n",
       "      <td>100</td>\n",
       "      <td>2020-06-19 16:51:29+00:00</td>\n",
       "      <td>98</td>\n",
       "      <td>urn:newsml:reuters.com:20200618:nNRAc3hz2d:1</td>\n",
       "      <td>False</td>\n",
       "      <td>2021-01-11 04:11:35.191055</td>\n",
       "      <td>NaN</td>\n",
       "      <td>NaN</td>\n",
       "    </tr>\n",
       "    <tr>\n",
       "      <th>79358</th>\n",
       "      <td>0</td>\n",
       "      <td>AAPL.OQ</td>\n",
       "      <td>99</td>\n",
       "      <td>100</td>\n",
       "      <td>2020-06-19 16:51:29+00:00</td>\n",
       "      <td>99</td>\n",
       "      <td>urn:newsml:reuters.com:20200618:nNRAc3fi8r:1</td>\n",
       "      <td>False</td>\n",
       "      <td>2021-01-11 04:11:40.221192</td>\n",
       "      <td>NaN</td>\n",
       "      <td>NaN</td>\n",
       "    </tr>\n",
       "  </tbody>\n",
       "</table>\n",
       "<p>79359 rows × 11 columns</p>\n",
       "</div>"
      ],
      "text/plain": [
       "       ric_i   ric_now  headlines_slice_i  headlines_number  \\\n",
       "0          0  DTEGn.DE                  0               100   \n",
       "1          0  DTEGn.DE                  0               100   \n",
       "2          0  DTEGn.DE                  0               100   \n",
       "3          0  DTEGn.DE                  0               100   \n",
       "4          0  DTEGn.DE                  0               100   \n",
       "...      ...       ...                ...               ...   \n",
       "79354      0   AAPL.OQ                 99               100   \n",
       "79355      0   AAPL.OQ                 99               100   \n",
       "79356      0   AAPL.OQ                 99               100   \n",
       "79357      0   AAPL.OQ                 99               100   \n",
       "79358      0   AAPL.OQ                 99               100   \n",
       "\n",
       "                  up_to_date_ric  story_i  \\\n",
       "0            2020-12-24T03:51:28        0   \n",
       "1            2020-12-24T03:51:28        1   \n",
       "2            2020-12-24T03:51:28        2   \n",
       "3            2020-12-24T03:51:28        3   \n",
       "4            2020-12-24T03:51:28        4   \n",
       "...                          ...      ...   \n",
       "79354  2020-06-19 16:51:29+00:00       95   \n",
       "79355  2020-06-19 16:51:29+00:00       96   \n",
       "79356  2020-06-19 16:51:29+00:00       97   \n",
       "79357  2020-06-19 16:51:29+00:00       98   \n",
       "79358  2020-06-19 16:51:29+00:00       99   \n",
       "\n",
       "                                       story_id_now  story_is_success  \\\n",
       "0      urn:newsml:reuters.com:20201223:nNRAdspppv:1              True   \n",
       "1      urn:newsml:reuters.com:20201222:nGLF4Kt1L3:2              True   \n",
       "2      urn:newsml:reuters.com:20201222:nGLF2DBhZz:2              True   \n",
       "3      urn:newsml:reuters.com:20201221:nBw3VPZ4Qa:1              True   \n",
       "4      urn:newsml:reuters.com:20201219:nL8N2IY3D9:1              True   \n",
       "...                                             ...               ...   \n",
       "79354  urn:newsml:reuters.com:20200618:nNRAc3ivir:1             False   \n",
       "79355     urn:newsml:newsroom:20200618:nNRAc3ia9n:0             False   \n",
       "79356  urn:newsml:reuters.com:20200618:nNRAc3i37h:1             False   \n",
       "79357  urn:newsml:reuters.com:20200618:nNRAc3hz2d:1             False   \n",
       "79358  urn:newsml:reuters.com:20200618:nNRAc3fi8r:1             False   \n",
       "\n",
       "                       date_time   date_only  exec_seconds  \n",
       "0     2020-12-24 03:51:31.939240  2020-12-24           NaN  \n",
       "1     2020-12-24 03:51:33.740708  2020-12-24      1.801468  \n",
       "2     2020-12-24 03:51:37.079818  2020-12-24      3.339110  \n",
       "3     2020-12-24 03:51:37.803316  2020-12-24      0.723498  \n",
       "4     2020-12-24 03:51:38.957981  2020-12-24      1.154665  \n",
       "...                          ...         ...           ...  \n",
       "79354 2021-01-11 04:11:20.074229         NaN           NaN  \n",
       "79355 2021-01-11 04:11:25.107997         NaN           NaN  \n",
       "79356 2021-01-11 04:11:30.151877         NaN           NaN  \n",
       "79357 2021-01-11 04:11:35.191055         NaN           NaN  \n",
       "79358 2021-01-11 04:11:40.221192         NaN           NaN  \n",
       "\n",
       "[79359 rows x 11 columns]"
      ]
     },
     "execution_count": 20,
     "metadata": {},
     "output_type": "execute_result"
    }
   ],
   "source": [
    "quasi_logger"
   ]
  },
  {
   "cell_type": "code",
   "execution_count": 21,
   "metadata": {},
   "outputs": [
    {
     "name": "stdout",
     "output_type": "stream",
     "text": [
      "C:/DAN/t_systems/trade_project/backup_headlines/all_headlines_df_2021-01-11_v2.csv\n"
     ]
    }
   ],
   "source": [
    "# Сохранить версию all_headlines_df\n",
    "file_version = 1\n",
    "folder_name = path_project_folder + folder_name_headlines\n",
    "date_now = datetime.today().strftime(\"%Y-%m-%d\")\n",
    "file_name = 'all_headlines_df' + '_' + str(date_now) + '_v' + str(file_version) + '.csv'\n",
    "while file_name in os.listdir(folder_name):\n",
    "    file_name = 'all_headlines_df' + '_' + str(date_now) + '_v' + str(file_version) + '.csv'\n",
    "    file_version = file_version + 1\n",
    "# C:/DAN/t_systems/trade_project/backup_headlines/all_headlines_df_2020-12-24_v6.csv\n",
    "file_path = folder_name + file_name\n",
    "all_headlines_df.to_csv(file_path, sep = '~', index=False)\n",
    "print(file_path)"
   ]
  },
  {
   "cell_type": "code",
   "execution_count": 22,
   "metadata": {},
   "outputs": [
    {
     "name": "stdout",
     "output_type": "stream",
     "text": [
      "C:/DAN/t_systems/trade_project/logger/quasi_logger_2021-01-11_v2.csv\n"
     ]
    }
   ],
   "source": [
    "# Сохранить версию логгера\n",
    "file_version = 1\n",
    "folder_name = path_project_folder + folder_name_logger\n",
    "date_now = datetime.today().strftime(\"%Y-%m-%d\")\n",
    "file_name = 'quasi_logger' + '_' + str(date_now) + '_v' + str(file_version) + '.csv'\n",
    "while file_name in os.listdir(folder_name):\n",
    "    file_name = 'quasi_logger' + '_' + str(date_now) + '_v' + str(file_version) + '.csv'\n",
    "    file_version = file_version + 1\n",
    "file_path = folder_name + file_name\n",
    "quasi_logger.to_csv(file_path, sep = ';', index=False)\n",
    "print(file_path)"
   ]
  },
  {
   "cell_type": "code",
   "execution_count": 23,
   "metadata": {},
   "outputs": [
    {
     "name": "stdout",
     "output_type": "stream",
     "text": [
      "df shape: (112841, 6) ,  Num of rics: 36\n",
      "StoryId duplicated: 13431\n",
      "Rows in df duplicated: 1303\n",
      "\n",
      "status error_when_trying_to_collect_story: 677\n",
      "\n",
      "    Number of NA:\n",
      "ric                 0\n",
      "versionCreated      0\n",
      "headline            0\n",
      "storyId             0\n",
      "sourceCode          0\n",
      "story             153\n",
      "dtype: int64\n"
     ]
    }
   ],
   "source": [
    "print('df shape:', all_headlines_df.shape, ',  Num of rics:', all_headlines_df.groupby('ric')['ric'].nunique().sort_values(ascending=False).count())\n",
    "print('StoryId duplicated:', all_headlines_df['storyId'].duplicated().sum())\n",
    "print('Rows in df duplicated:', all_headlines_df.duplicated().sum())\n",
    "print()\n",
    "print('status error_when_trying_to_collect_story:', all_headlines_df[all_headlines_df['story'] == 'error_when_trying_to_collect_story']['story'].count())\n",
    "print()\n",
    "print('    Number of NA:')\n",
    "print(len(all_headlines_df) - all_headlines_df.notna().sum())"
   ]
  },
  {
   "cell_type": "code",
   "execution_count": 24,
   "metadata": {},
   "outputs": [
    {
     "name": "stdout",
     "output_type": "stream",
     "text": [
      "Median query time execution: 1.3986155\n"
     ]
    },
    {
     "data": {
      "image/png": "[encoded data removed]",
      "text/plain": [
       "<Figure size 640x280 with 1 Axes>"
      ]
     },
     "metadata": {},
     "output_type": "display_data"
    }
   ],
   "source": [
    "quasi_logger['date_time'] = pd.to_datetime(quasi_logger['date_time'])\n",
    "quasi_logger['date_only'] = quasi_logger['date_time'].dt.date\n",
    "quasi_logger['exec_seconds'] = quasi_logger['date_time'].diff() / np.timedelta64(1, 's')\n",
    "exec_time_q99 = quasi_logger[quasi_logger['exec_seconds'] < quasi_logger['exec_seconds'].quantile(0.99)]\n",
    "exec_time_q99['exec_seconds'].plot(kind='hist', bins = 100)\n",
    "plt.title('Histogram of query time execution without drawouts (seconds)')\n",
    "print('Median query time execution:', quasi_logger['exec_seconds'].median())"
   ]
  },
  {
   "cell_type": "code",
   "execution_count": 25,
   "metadata": {},
   "outputs": [
    {
     "data": {
      "text/plain": [
       "<AxesSubplot:ylabel='ric_now'>"
      ]
     },
     "execution_count": 25,
     "metadata": {},
     "output_type": "execute_result"
    },
    {
     "data": {
      "image/png": "[encoded data removed]",
      "text/plain": [
       "<Figure size 640x280 with 1 Axes>"
      ]
     },
     "metadata": {},
     "output_type": "display_data"
    }
   ],
   "source": [
    "exec_time_q99.groupby(by='ric_now').agg(median_time=('exec_seconds', 'median')).sort_values(by='median_time', ascending=False).plot(kind='barh')"
   ]
  },
  {
   "cell_type": "code",
   "execution_count": 26,
   "metadata": {},
   "outputs": [
    {
     "data": {
      "text/plain": [
       "<AxesSubplot:ylabel='date_only'>"
      ]
     },
     "execution_count": 26,
     "metadata": {},
     "output_type": "execute_result"
    },
    {
     "data": {
      "image/png": "[encoded data removed]",
      "text/plain": [
       "<Figure size 640x280 with 1 Axes>"
      ]
     },
     "metadata": {},
     "output_type": "display_data"
    }
   ],
   "source": [
    "exec_time_q99.groupby(by='date_only').agg(median_time=('exec_seconds', 'median')).plot(kind='barh')"
   ]
  }
 ],
 "metadata": {
  "kernelspec": {
   "display_name": "Python 3",
   "language": "python",
   "name": "python3"
  },
  "language_info": {
   "codemirror_mode": {
    "name": "ipython",
    "version": 3
   },
   "file_extension": ".py",
   "mimetype": "text/x-python",
   "name": "python",
   "nbconvert_exporter": "python",
   "pygments_lexer": "ipython3",
   "version": "3.7.9"
  }
 },
 "nbformat": 4,
 "nbformat_minor": 4
}
