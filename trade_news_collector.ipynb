{
 "cells": [
  {
   "cell_type": "code",
   "execution_count": 1,
   "metadata": {},
   "outputs": [],
   "source": [
    "from pandas_datareader import data\n",
    "from pandas_datareader._utils import RemoteDataError\n",
    "import matplotlib.pyplot as plt\n",
    "import pandas as pd\n",
    "import numpy as np\n",
    "import math\n",
    "import csv\n",
    "import re\n",
    "from datetime import datetime\n",
    "\n",
    "import os.path\n",
    "from os import path\n",
    "import time\n",
    "\n",
    "# import sklearn\n",
    "# import scipy\n",
    "\n",
    "# from sklearn.naive_bayes import GaussianNB\n",
    "# import lightgbm as lightgbm\n",
    "# from xgboost import XGBClassifier\n",
    "# import keras\n",
    "\n",
    "# Get Started\n",
    "# https://github.com/Refinitiv-API-Samples/Article.EikonDataAPI.DotNet.Library\n",
    "# API limits\n",
    "# https://developers.refinitiv.com/en/api-catalog/eikon/eikon-data-api/documentation?content=49692&type=documentation_item\n",
    "import eikon as ek \n",
    "\n",
    "from pylab import rcParams\n",
    "plt.rcParams['figure.figsize'] = 16, 8"
   ]
  },
  {
   "cell_type": "code",
   "execution_count": 2,
   "metadata": {},
   "outputs": [],
   "source": [
    "fontsize_reg = 12\n",
    "fontsize_title = 16\n",
    "from pylab import rcParams\n",
    "rcParams['figure.facecolor'] = '1'\n",
    "rcParams['figure.figsize'] = [8.0, 3.5]\n",
    "rcParams['figure.dpi'] = 80\n",
    "rcParams['savefig.dpi'] = 600\n",
    "\n",
    "rcParams['font.size'] = 12\n",
    "rcParams['legend.fontsize'] = 'large'\n",
    "rcParams['figure.titlesize'] = 'large'"
   ]
  },
  {
   "cell_type": "code",
   "execution_count": 3,
   "metadata": {},
   "outputs": [],
   "source": [
    "# Зададим path для папки проекта и для папок файлов\n",
    "path_project_folder = 'C:/DAN/t_systems/trade_project/'\n",
    "folder_name_headlines = 'backup_headlines/'\n",
    "folder_name_logger = 'logger/'"
   ]
  },
  {
   "cell_type": "code",
   "execution_count": 4,
   "metadata": {},
   "outputs": [],
   "source": [
    "# зададим API ключ\n",
    "ek.set_app_key('ccebd1ff788d4574818be93e35c4741925ac214e')"
   ]
  },
  {
   "cell_type": "code",
   "execution_count": 5,
   "metadata": {},
   "outputs": [
    {
     "data": {
      "text/html": [
       "<div>\n",
       "<style scoped>\n",
       "    .dataframe tbody tr th:only-of-type {\n",
       "        vertical-align: middle;\n",
       "    }\n",
       "\n",
       "    .dataframe tbody tr th {\n",
       "        vertical-align: top;\n",
       "    }\n",
       "\n",
       "    .dataframe thead th {\n",
       "        text-align: right;\n",
       "    }\n",
       "</style>\n",
       "<table border=\"1\" class=\"dataframe\">\n",
       "  <thead>\n",
       "    <tr style=\"text-align: right;\">\n",
       "      <th></th>\n",
       "      <th>ric</th>\n",
       "      <th>Company Common Name</th>\n",
       "      <th>Country of Exchange</th>\n",
       "      <th>Primary Country of Risk</th>\n",
       "      <th>TRBC Industry Group Name</th>\n",
       "      <th>TRBC Industry Name</th>\n",
       "      <th>Price Close</th>\n",
       "      <th>Company Market Cap</th>\n",
       "      <th>DAX</th>\n",
       "      <th>German_telecom</th>\n",
       "    </tr>\n",
       "  </thead>\n",
       "  <tbody>\n",
       "    <tr>\n",
       "      <th>0</th>\n",
       "      <td>DTEGn.DE</td>\n",
       "      <td>Deutsche Telekom AG</td>\n",
       "      <td>Germany</td>\n",
       "      <td>Germany</td>\n",
       "      <td>Telecommunications Services</td>\n",
       "      <td>Integrated Telecommunications Services</td>\n",
       "      <td>18.032030</td>\n",
       "      <td>8.580246e+10</td>\n",
       "      <td>1</td>\n",
       "      <td>1</td>\n",
       "    </tr>\n",
       "    <tr>\n",
       "      <th>1</th>\n",
       "      <td>SAPG.DE</td>\n",
       "      <td>SAP SE</td>\n",
       "      <td>Germany</td>\n",
       "      <td>Germany</td>\n",
       "      <td>Software &amp; IT Services</td>\n",
       "      <td>Software</td>\n",
       "      <td>122.335901</td>\n",
       "      <td>1.501916e+11</td>\n",
       "      <td>1</td>\n",
       "      <td>0</td>\n",
       "    </tr>\n",
       "    <tr>\n",
       "      <th>2</th>\n",
       "      <td>SIEGn.DE</td>\n",
       "      <td>Siemens AG</td>\n",
       "      <td>Germany</td>\n",
       "      <td>Germany</td>\n",
       "      <td>Consumer Goods Conglomerates</td>\n",
       "      <td>Consumer Goods Conglomerates</td>\n",
       "      <td>139.347250</td>\n",
       "      <td>1.183675e+11</td>\n",
       "      <td>1</td>\n",
       "      <td>0</td>\n",
       "    </tr>\n",
       "    <tr>\n",
       "      <th>3</th>\n",
       "      <td>ALVG.DE</td>\n",
       "      <td>Allianz SE</td>\n",
       "      <td>Germany</td>\n",
       "      <td>Germany</td>\n",
       "      <td>Insurance</td>\n",
       "      <td>Multiline Insurance &amp; Brokers</td>\n",
       "      <td>235.534278</td>\n",
       "      <td>9.704549e+10</td>\n",
       "      <td>1</td>\n",
       "      <td>0</td>\n",
       "    </tr>\n",
       "    <tr>\n",
       "      <th>4</th>\n",
       "      <td>VOWG_p.DE</td>\n",
       "      <td>Volkswagen AG</td>\n",
       "      <td>Germany</td>\n",
       "      <td>Germany</td>\n",
       "      <td>Automobiles &amp; Auto Parts</td>\n",
       "      <td>Auto &amp; Truck Manufacturers</td>\n",
       "      <td>182.653284</td>\n",
       "      <td>9.619011e+10</td>\n",
       "      <td>1</td>\n",
       "      <td>0</td>\n",
       "    </tr>\n",
       "    <tr>\n",
       "      <th>...</th>\n",
       "      <td>...</td>\n",
       "      <td>...</td>\n",
       "      <td>...</td>\n",
       "      <td>...</td>\n",
       "      <td>...</td>\n",
       "      <td>...</td>\n",
       "      <td>...</td>\n",
       "      <td>...</td>\n",
       "      <td>...</td>\n",
       "      <td>...</td>\n",
       "    </tr>\n",
       "    <tr>\n",
       "      <th>1486</th>\n",
       "      <td>IXM0392.DE</td>\n",
       "      <td>MSCI Pac ex Jap ETF</td>\n",
       "      <td>Germany</td>\n",
       "      <td>NaN</td>\n",
       "      <td>NaN</td>\n",
       "      <td>NaN</td>\n",
       "      <td>164.045417</td>\n",
       "      <td>NaN</td>\n",
       "      <td>0</td>\n",
       "      <td>0</td>\n",
       "    </tr>\n",
       "    <tr>\n",
       "      <th>1487</th>\n",
       "      <td>IXM0402.DE</td>\n",
       "      <td>MSCI Canada ETF</td>\n",
       "      <td>Germany</td>\n",
       "      <td>NaN</td>\n",
       "      <td>NaN</td>\n",
       "      <td>NaN</td>\n",
       "      <td>147.258410</td>\n",
       "      <td>NaN</td>\n",
       "      <td>0</td>\n",
       "      <td>0</td>\n",
       "    </tr>\n",
       "    <tr>\n",
       "      <th>1488</th>\n",
       "      <td>IXM0422.DE</td>\n",
       "      <td>MSCI USA ETF</td>\n",
       "      <td>Germany</td>\n",
       "      <td>NaN</td>\n",
       "      <td>NaN</td>\n",
       "      <td>NaN</td>\n",
       "      <td>368.704250</td>\n",
       "      <td>NaN</td>\n",
       "      <td>0</td>\n",
       "      <td>0</td>\n",
       "    </tr>\n",
       "    <tr>\n",
       "      <th>1489</th>\n",
       "      <td>IXM0432.DE</td>\n",
       "      <td>MSCI Jap ETF</td>\n",
       "      <td>Germany</td>\n",
       "      <td>NaN</td>\n",
       "      <td>NaN</td>\n",
       "      <td>NaN</td>\n",
       "      <td>179.058138</td>\n",
       "      <td>NaN</td>\n",
       "      <td>0</td>\n",
       "      <td>0</td>\n",
       "    </tr>\n",
       "    <tr>\n",
       "      <th>1490</th>\n",
       "      <td>VOLSIN.DE</td>\n",
       "      <td>Nomura Voltage Short-term Source</td>\n",
       "      <td>Germany</td>\n",
       "      <td>NaN</td>\n",
       "      <td>NaN</td>\n",
       "      <td>NaN</td>\n",
       "      <td>NaN</td>\n",
       "      <td>NaN</td>\n",
       "      <td>0</td>\n",
       "      <td>0</td>\n",
       "    </tr>\n",
       "  </tbody>\n",
       "</table>\n",
       "<p>1491 rows × 10 columns</p>\n",
       "</div>"
      ],
      "text/plain": [
       "             ric               Company Common Name Country of Exchange  \\\n",
       "0       DTEGn.DE               Deutsche Telekom AG             Germany   \n",
       "1        SAPG.DE                            SAP SE             Germany   \n",
       "2       SIEGn.DE                        Siemens AG             Germany   \n",
       "3        ALVG.DE                        Allianz SE             Germany   \n",
       "4      VOWG_p.DE                     Volkswagen AG             Germany   \n",
       "...          ...                               ...                 ...   \n",
       "1486  IXM0392.DE               MSCI Pac ex Jap ETF             Germany   \n",
       "1487  IXM0402.DE                   MSCI Canada ETF             Germany   \n",
       "1488  IXM0422.DE                      MSCI USA ETF             Germany   \n",
       "1489  IXM0432.DE                      MSCI Jap ETF             Germany   \n",
       "1490   VOLSIN.DE  Nomura Voltage Short-term Source             Germany   \n",
       "\n",
       "     Primary Country of Risk      TRBC Industry Group Name  \\\n",
       "0                    Germany   Telecommunications Services   \n",
       "1                    Germany        Software & IT Services   \n",
       "2                    Germany  Consumer Goods Conglomerates   \n",
       "3                    Germany                     Insurance   \n",
       "4                    Germany      Automobiles & Auto Parts   \n",
       "...                      ...                           ...   \n",
       "1486                     NaN                           NaN   \n",
       "1487                     NaN                           NaN   \n",
       "1488                     NaN                           NaN   \n",
       "1489                     NaN                           NaN   \n",
       "1490                     NaN                           NaN   \n",
       "\n",
       "                          TRBC Industry Name  Price Close  Company Market Cap  \\\n",
       "0     Integrated Telecommunications Services    18.032030        8.580246e+10   \n",
       "1                                   Software   122.335901        1.501916e+11   \n",
       "2               Consumer Goods Conglomerates   139.347250        1.183675e+11   \n",
       "3              Multiline Insurance & Brokers   235.534278        9.704549e+10   \n",
       "4                 Auto & Truck Manufacturers   182.653284        9.619011e+10   \n",
       "...                                      ...          ...                 ...   \n",
       "1486                                     NaN   164.045417                 NaN   \n",
       "1487                                     NaN   147.258410                 NaN   \n",
       "1488                                     NaN   368.704250                 NaN   \n",
       "1489                                     NaN   179.058138                 NaN   \n",
       "1490                                     NaN          NaN                 NaN   \n",
       "\n",
       "      DAX  German_telecom  \n",
       "0       1               1  \n",
       "1       1               0  \n",
       "2       1               0  \n",
       "3       1               0  \n",
       "4       1               0  \n",
       "...   ...             ...  \n",
       "1486    0               0  \n",
       "1487    0               0  \n",
       "1488    0               0  \n",
       "1489    0               0  \n",
       "1490    0               0  \n",
       "\n",
       "[1491 rows x 10 columns]"
      ]
     },
     "execution_count": 5,
     "metadata": {},
     "output_type": "execute_result"
    }
   ],
   "source": [
    "rics_german_df = pd.read_excel(path_project_folder + 'rics_german_excel.xlsx')\n",
    "sort_cols = ['DAX', 'German_telecom', 'Company Market Cap']\n",
    "rics_german_df = rics_german_df.sort_values(by=sort_cols, ascending=False) # .reset_index(drop=True)\n",
    "rics_german_df.index = range(0, len(rics_german_df))\n",
    "rics_german_df"
   ]
  },
  {
   "cell_type": "code",
   "execution_count": 6,
   "metadata": {},
   "outputs": [
    {
     "data": {
      "text/html": [
       "<div>\n",
       "<style scoped>\n",
       "    .dataframe tbody tr th:only-of-type {\n",
       "        vertical-align: middle;\n",
       "    }\n",
       "\n",
       "    .dataframe tbody tr th {\n",
       "        vertical-align: top;\n",
       "    }\n",
       "\n",
       "    .dataframe thead th {\n",
       "        text-align: right;\n",
       "    }\n",
       "</style>\n",
       "<table border=\"1\" class=\"dataframe\">\n",
       "  <thead>\n",
       "    <tr style=\"text-align: right;\">\n",
       "      <th></th>\n",
       "      <th>ric</th>\n",
       "      <th>Company Common Name</th>\n",
       "      <th>Company Market Cap</th>\n",
       "      <th>DAX</th>\n",
       "      <th>German_telecom</th>\n",
       "    </tr>\n",
       "  </thead>\n",
       "  <tbody>\n",
       "    <tr>\n",
       "      <th>0</th>\n",
       "      <td>DTEGn.DE</td>\n",
       "      <td>Deutsche Telekom AG</td>\n",
       "      <td>8.580246e+10</td>\n",
       "      <td>1</td>\n",
       "      <td>1</td>\n",
       "    </tr>\n",
       "    <tr>\n",
       "      <th>27</th>\n",
       "      <td>O2Dn.DE</td>\n",
       "      <td>Telefonica Deutschland Holding AG</td>\n",
       "      <td>8.088962e+09</td>\n",
       "      <td>0</td>\n",
       "      <td>1</td>\n",
       "    </tr>\n",
       "    <tr>\n",
       "      <th>28</th>\n",
       "      <td>UTDI.DE</td>\n",
       "      <td>United Internet AG</td>\n",
       "      <td>7.962405e+09</td>\n",
       "      <td>0</td>\n",
       "      <td>1</td>\n",
       "    </tr>\n",
       "    <tr>\n",
       "      <th>29</th>\n",
       "      <td>DRIG.DE</td>\n",
       "      <td>1&amp;1 Drillisch AG</td>\n",
       "      <td>4.331541e+09</td>\n",
       "      <td>0</td>\n",
       "      <td>1</td>\n",
       "    </tr>\n",
       "    <tr>\n",
       "      <th>30</th>\n",
       "      <td>FNTGn.DE</td>\n",
       "      <td>freenet AG</td>\n",
       "      <td>2.614030e+09</td>\n",
       "      <td>0</td>\n",
       "      <td>1</td>\n",
       "    </tr>\n",
       "    <tr>\n",
       "      <th>31</th>\n",
       "      <td>TC1n.DE</td>\n",
       "      <td>Tele Columbus AG</td>\n",
       "      <td>3.688837e+08</td>\n",
       "      <td>0</td>\n",
       "      <td>1</td>\n",
       "    </tr>\n",
       "    <tr>\n",
       "      <th>32</th>\n",
       "      <td>NFN.DE</td>\n",
       "      <td>NFON AG</td>\n",
       "      <td>3.245050e+08</td>\n",
       "      <td>0</td>\n",
       "      <td>1</td>\n",
       "    </tr>\n",
       "    <tr>\n",
       "      <th>33</th>\n",
       "      <td>E4CG.DE</td>\n",
       "      <td>Ecotel Communication AG</td>\n",
       "      <td>3.558930e+07</td>\n",
       "      <td>0</td>\n",
       "      <td>1</td>\n",
       "    </tr>\n",
       "    <tr>\n",
       "      <th>34</th>\n",
       "      <td>PH6.F</td>\n",
       "      <td>Philion SE</td>\n",
       "      <td>2.065664e+05</td>\n",
       "      <td>0</td>\n",
       "      <td>1</td>\n",
       "    </tr>\n",
       "  </tbody>\n",
       "</table>\n",
       "</div>"
      ],
      "text/plain": [
       "         ric                Company Common Name  Company Market Cap  DAX  \\\n",
       "0   DTEGn.DE                Deutsche Telekom AG        8.580246e+10    1   \n",
       "27   O2Dn.DE  Telefonica Deutschland Holding AG        8.088962e+09    0   \n",
       "28   UTDI.DE                 United Internet AG        7.962405e+09    0   \n",
       "29   DRIG.DE                   1&1 Drillisch AG        4.331541e+09    0   \n",
       "30  FNTGn.DE                         freenet AG        2.614030e+09    0   \n",
       "31   TC1n.DE                   Tele Columbus AG        3.688837e+08    0   \n",
       "32    NFN.DE                            NFON AG        3.245050e+08    0   \n",
       "33   E4CG.DE            Ecotel Communication AG        3.558930e+07    0   \n",
       "34     PH6.F                         Philion SE        2.065664e+05    0   \n",
       "\n",
       "    German_telecom  \n",
       "0                1  \n",
       "27               1  \n",
       "28               1  \n",
       "29               1  \n",
       "30               1  \n",
       "31               1  \n",
       "32               1  \n",
       "33               1  \n",
       "34               1  "
      ]
     },
     "execution_count": 6,
     "metadata": {},
     "output_type": "execute_result"
    }
   ],
   "source": [
    "condition_german = rics_german_df['Country of Exchange'] == 'Germany'\n",
    "condition_telecom = rics_german_df['TRBC Industry Group Name'] == 'Telecommunications Services'\n",
    "rics_german_telekom_df = rics_german_df[condition_german & condition_telecom]\n",
    "rics_german_telekom_df[['ric', 'Company Common Name', 'Company Market Cap', 'DAX', 'German_telecom']]"
   ]
  },
  {
   "cell_type": "code",
   "execution_count": 7,
   "metadata": {},
   "outputs": [
    {
     "data": {
      "text/html": [
       "<div>\n",
       "<style scoped>\n",
       "    .dataframe tbody tr th:only-of-type {\n",
       "        vertical-align: middle;\n",
       "    }\n",
       "\n",
       "    .dataframe tbody tr th {\n",
       "        vertical-align: top;\n",
       "    }\n",
       "\n",
       "    .dataframe thead th {\n",
       "        text-align: right;\n",
       "    }\n",
       "</style>\n",
       "<table border=\"1\" class=\"dataframe\">\n",
       "  <thead>\n",
       "    <tr style=\"text-align: right;\">\n",
       "      <th></th>\n",
       "      <th>ric</th>\n",
       "      <th>Company Common Name</th>\n",
       "      <th>Company Market Cap</th>\n",
       "      <th>DAX</th>\n",
       "      <th>German_telecom</th>\n",
       "    </tr>\n",
       "  </thead>\n",
       "  <tbody>\n",
       "    <tr>\n",
       "      <th>1</th>\n",
       "      <td>SAPG.DE</td>\n",
       "      <td>SAP SE</td>\n",
       "      <td>1.501916e+11</td>\n",
       "      <td>1</td>\n",
       "      <td>0</td>\n",
       "    </tr>\n",
       "    <tr>\n",
       "      <th>2</th>\n",
       "      <td>SIEGn.DE</td>\n",
       "      <td>Siemens AG</td>\n",
       "      <td>1.183675e+11</td>\n",
       "      <td>1</td>\n",
       "      <td>0</td>\n",
       "    </tr>\n",
       "    <tr>\n",
       "      <th>3</th>\n",
       "      <td>ALVG.DE</td>\n",
       "      <td>Allianz SE</td>\n",
       "      <td>9.704549e+10</td>\n",
       "      <td>1</td>\n",
       "      <td>0</td>\n",
       "    </tr>\n",
       "    <tr>\n",
       "      <th>4</th>\n",
       "      <td>VOWG_p.DE</td>\n",
       "      <td>Volkswagen AG</td>\n",
       "      <td>9.619011e+10</td>\n",
       "      <td>1</td>\n",
       "      <td>0</td>\n",
       "    </tr>\n",
       "    <tr>\n",
       "      <th>5</th>\n",
       "      <td>DAIGn.DE</td>\n",
       "      <td>Daimler AG</td>\n",
       "      <td>7.532200e+10</td>\n",
       "      <td>1</td>\n",
       "      <td>0</td>\n",
       "    </tr>\n",
       "    <tr>\n",
       "      <th>6</th>\n",
       "      <td>BASFn.DE</td>\n",
       "      <td>BASF SE</td>\n",
       "      <td>7.222737e+10</td>\n",
       "      <td>1</td>\n",
       "      <td>0</td>\n",
       "    </tr>\n",
       "    <tr>\n",
       "      <th>7</th>\n",
       "      <td>ADSGn.DE</td>\n",
       "      <td>Adidas AG</td>\n",
       "      <td>7.062461e+10</td>\n",
       "      <td>1</td>\n",
       "      <td>0</td>\n",
       "    </tr>\n",
       "    <tr>\n",
       "      <th>8</th>\n",
       "      <td>DPWGn.DE</td>\n",
       "      <td>Deutsche Post AG</td>\n",
       "      <td>5.932596e+10</td>\n",
       "      <td>1</td>\n",
       "      <td>0</td>\n",
       "    </tr>\n",
       "    <tr>\n",
       "      <th>9</th>\n",
       "      <td>BMWG.DE</td>\n",
       "      <td>Bayerische Motoren Werke AG</td>\n",
       "      <td>5.780708e+10</td>\n",
       "      <td>1</td>\n",
       "      <td>0</td>\n",
       "    </tr>\n",
       "    <tr>\n",
       "      <th>10</th>\n",
       "      <td>BAYGn.DE</td>\n",
       "      <td>Bayer AG</td>\n",
       "      <td>5.621811e+10</td>\n",
       "      <td>1</td>\n",
       "      <td>0</td>\n",
       "    </tr>\n",
       "    <tr>\n",
       "      <th>11</th>\n",
       "      <td>IFXGn.DE</td>\n",
       "      <td>Infineon Technologies AG</td>\n",
       "      <td>4.791433e+10</td>\n",
       "      <td>1</td>\n",
       "      <td>0</td>\n",
       "    </tr>\n",
       "    <tr>\n",
       "      <th>12</th>\n",
       "      <td>HNKG_p.DE</td>\n",
       "      <td>Henkel AG &amp; Co KgaA</td>\n",
       "      <td>4.400469e+10</td>\n",
       "      <td>1</td>\n",
       "      <td>0</td>\n",
       "    </tr>\n",
       "    <tr>\n",
       "      <th>13</th>\n",
       "      <td>VNAn.DE</td>\n",
       "      <td>Vonovia SE</td>\n",
       "      <td>3.941367e+10</td>\n",
       "      <td>1</td>\n",
       "      <td>0</td>\n",
       "    </tr>\n",
       "    <tr>\n",
       "      <th>14</th>\n",
       "      <td>EONGn.DE</td>\n",
       "      <td>E.ON SE</td>\n",
       "      <td>2.849412e+10</td>\n",
       "      <td>1</td>\n",
       "      <td>0</td>\n",
       "    </tr>\n",
       "    <tr>\n",
       "      <th>15</th>\n",
       "      <td>BEIG.DE</td>\n",
       "      <td>Beiersdorf AG</td>\n",
       "      <td>2.817068e+10</td>\n",
       "      <td>1</td>\n",
       "      <td>0</td>\n",
       "    </tr>\n",
       "    <tr>\n",
       "      <th>16</th>\n",
       "      <td>CONG.DE</td>\n",
       "      <td>Continental AG</td>\n",
       "      <td>2.749257e+10</td>\n",
       "      <td>1</td>\n",
       "      <td>0</td>\n",
       "    </tr>\n",
       "    <tr>\n",
       "      <th>17</th>\n",
       "      <td>RWEG.DE</td>\n",
       "      <td>RWE AG</td>\n",
       "      <td>2.733554e+10</td>\n",
       "      <td>1</td>\n",
       "      <td>0</td>\n",
       "    </tr>\n",
       "    <tr>\n",
       "      <th>18</th>\n",
       "      <td>FREG.DE</td>\n",
       "      <td>Fresenius SE &amp; Co KGaA</td>\n",
       "      <td>2.581399e+10</td>\n",
       "      <td>1</td>\n",
       "      <td>0</td>\n",
       "    </tr>\n",
       "    <tr>\n",
       "      <th>19</th>\n",
       "      <td>FMEG.DE</td>\n",
       "      <td>Fresenius Medical Care AG &amp; Co KGaA</td>\n",
       "      <td>2.399858e+10</td>\n",
       "      <td>1</td>\n",
       "      <td>0</td>\n",
       "    </tr>\n",
       "    <tr>\n",
       "      <th>20</th>\n",
       "      <td>DBKGn.DE</td>\n",
       "      <td>Deutsche Bank AG</td>\n",
       "      <td>2.238385e+10</td>\n",
       "      <td>1</td>\n",
       "      <td>0</td>\n",
       "    </tr>\n",
       "    <tr>\n",
       "      <th>21</th>\n",
       "      <td>MRCG.DE</td>\n",
       "      <td>Merck KGaA</td>\n",
       "      <td>2.106119e+10</td>\n",
       "      <td>1</td>\n",
       "      <td>0</td>\n",
       "    </tr>\n",
       "    <tr>\n",
       "      <th>22</th>\n",
       "      <td>HEIG.DE</td>\n",
       "      <td>HeidelbergCement AG</td>\n",
       "      <td>1.422492e+10</td>\n",
       "      <td>1</td>\n",
       "      <td>0</td>\n",
       "    </tr>\n",
       "    <tr>\n",
       "      <th>23</th>\n",
       "      <td>CBKG.DE</td>\n",
       "      <td>Commerzbank AG</td>\n",
       "      <td>8.044701e+09</td>\n",
       "      <td>1</td>\n",
       "      <td>0</td>\n",
       "    </tr>\n",
       "    <tr>\n",
       "      <th>24</th>\n",
       "      <td>LHAG.DE</td>\n",
       "      <td>Deutsche Lufthansa AG</td>\n",
       "      <td>6.818937e+09</td>\n",
       "      <td>1</td>\n",
       "      <td>0</td>\n",
       "    </tr>\n",
       "    <tr>\n",
       "      <th>25</th>\n",
       "      <td>TKAG.DE</td>\n",
       "      <td>Thyssenkrupp AG</td>\n",
       "      <td>5.276461e+09</td>\n",
       "      <td>1</td>\n",
       "      <td>0</td>\n",
       "    </tr>\n",
       "    <tr>\n",
       "      <th>26</th>\n",
       "      <td>PSMGn.DE</td>\n",
       "      <td>Prosiebensat 1 Media SE</td>\n",
       "      <td>3.836555e+09</td>\n",
       "      <td>1</td>\n",
       "      <td>0</td>\n",
       "    </tr>\n",
       "  </tbody>\n",
       "</table>\n",
       "</div>"
      ],
      "text/plain": [
       "          ric                  Company Common Name  Company Market Cap  DAX  \\\n",
       "1     SAPG.DE                               SAP SE        1.501916e+11    1   \n",
       "2    SIEGn.DE                           Siemens AG        1.183675e+11    1   \n",
       "3     ALVG.DE                           Allianz SE        9.704549e+10    1   \n",
       "4   VOWG_p.DE                        Volkswagen AG        9.619011e+10    1   \n",
       "5    DAIGn.DE                           Daimler AG        7.532200e+10    1   \n",
       "6    BASFn.DE                              BASF SE        7.222737e+10    1   \n",
       "7    ADSGn.DE                            Adidas AG        7.062461e+10    1   \n",
       "8    DPWGn.DE                     Deutsche Post AG        5.932596e+10    1   \n",
       "9     BMWG.DE          Bayerische Motoren Werke AG        5.780708e+10    1   \n",
       "10   BAYGn.DE                             Bayer AG        5.621811e+10    1   \n",
       "11   IFXGn.DE             Infineon Technologies AG        4.791433e+10    1   \n",
       "12  HNKG_p.DE                  Henkel AG & Co KgaA        4.400469e+10    1   \n",
       "13    VNAn.DE                           Vonovia SE        3.941367e+10    1   \n",
       "14   EONGn.DE                              E.ON SE        2.849412e+10    1   \n",
       "15    BEIG.DE                        Beiersdorf AG        2.817068e+10    1   \n",
       "16    CONG.DE                       Continental AG        2.749257e+10    1   \n",
       "17    RWEG.DE                               RWE AG        2.733554e+10    1   \n",
       "18    FREG.DE               Fresenius SE & Co KGaA        2.581399e+10    1   \n",
       "19    FMEG.DE  Fresenius Medical Care AG & Co KGaA        2.399858e+10    1   \n",
       "20   DBKGn.DE                     Deutsche Bank AG        2.238385e+10    1   \n",
       "21    MRCG.DE                           Merck KGaA        2.106119e+10    1   \n",
       "22    HEIG.DE                  HeidelbergCement AG        1.422492e+10    1   \n",
       "23    CBKG.DE                       Commerzbank AG        8.044701e+09    1   \n",
       "24    LHAG.DE                Deutsche Lufthansa AG        6.818937e+09    1   \n",
       "25    TKAG.DE                      Thyssenkrupp AG        5.276461e+09    1   \n",
       "26   PSMGn.DE              Prosiebensat 1 Media SE        3.836555e+09    1   \n",
       "\n",
       "    German_telecom  \n",
       "1                0  \n",
       "2                0  \n",
       "3                0  \n",
       "4                0  \n",
       "5                0  \n",
       "6                0  \n",
       "7                0  \n",
       "8                0  \n",
       "9                0  \n",
       "10               0  \n",
       "11               0  \n",
       "12               0  \n",
       "13               0  \n",
       "14               0  \n",
       "15               0  \n",
       "16               0  \n",
       "17               0  \n",
       "18               0  \n",
       "19               0  \n",
       "20               0  \n",
       "21               0  \n",
       "22               0  \n",
       "23               0  \n",
       "24               0  \n",
       "25               0  \n",
       "26               0  "
      ]
     },
     "execution_count": 7,
     "metadata": {},
     "output_type": "execute_result"
    }
   ],
   "source": [
    "condition_dax = (rics_german_df['DAX'] == 1) & (rics_german_df['German_telecom'] != 1)\n",
    "rics_dax = rics_german_df[condition_dax]\n",
    "rics_dax[['ric', 'Company Common Name', 'Company Market Cap', 'DAX', 'German_telecom']]"
   ]
  },
  {
   "cell_type": "code",
   "execution_count": 8,
   "metadata": {},
   "outputs": [],
   "source": [
    "def get_name_of_latest_file_in_folder(folder_name):\n",
    "    files_creation_dates = pd.DataFrame(data = [], columns=[\n",
    "        \"folder_name\", \"file_name\", \"num_time\", \"str_time\"\n",
    "    ])\n",
    "\n",
    "    files_creation_dates['file_name'] = os.listdir(folder_name)\n",
    "    files_creation_dates['folder_name'] = folder_name\n",
    "    files_creation_dates['file_folder_and_name'] = files_creation_dates['folder_name'] + files_creation_dates['file_name']\n",
    "    files_creation_dates\n",
    "    for i in range(0, len(files_creation_dates)):\n",
    "        file_folder_and_name = files_creation_dates['file_folder_and_name'][i]\n",
    "        files_creation_dates['num_time'][i] = os.path.getctime(file_folder_and_name)\n",
    "        files_creation_dates['str_time'][i] = time.ctime(os.path.getctime(file_folder_and_name))\n",
    "\n",
    "    most_latest_file_dir = files_creation_dates.sort_values(by=['num_time'], ascending=False)['file_folder_and_name'].iloc[0]\n",
    "    \n",
    "    return most_latest_file_dir"
   ]
  },
  {
   "cell_type": "code",
   "execution_count": 9,
   "metadata": {},
   "outputs": [
    {
     "name": "stdout",
     "output_type": "stream",
     "text": [
      "(77560, 6) C:/DAN/t_systems/trade_project/backup_headlines/all_headlines_df_2021-01-07_v8.csv\n"
     ]
    }
   ],
   "source": [
    "# Создадим df, в который будем сохранять вообще все новости.\n",
    "\n",
    "# Можем создать пустой df, куда будем добавлять все новости\n",
    "# all_headlines_df = pd.DataFrame(data = [], columns=[\"ric\", \"versionCreated\", \"headline\", \"storyId\", \"sourceCode\", \"story\"])\n",
    "\n",
    "# Но если мы уже сохраняли файл, достанем самый свежий из папки\n",
    "most_latest_file = get_name_of_latest_file_in_folder(path_project_folder + folder_name_headlines)\n",
    "all_headlines_df = pd.read_csv(most_latest_file, sep='~')\n",
    "all_headlines_df['versionCreated'] = pd.to_datetime(all_headlines_df['versionCreated'])\n",
    "print(all_headlines_df.shape, most_latest_file)"
   ]
  },
  {
   "cell_type": "code",
   "execution_count": 10,
   "metadata": {},
   "outputs": [
    {
     "name": "stdout",
     "output_type": "stream",
     "text": [
      "(53824, 9) C:/DAN/t_systems/trade_project/logger/quasi_logger_2021-01-07_v8.csv\n"
     ]
    }
   ],
   "source": [
    "# Создадим подобие logger'а \n",
    "\n",
    "# quasi_logger = pd.DataFrame(data = [], columns=[\n",
    "#     'ric_i', 'ric_now', 'headlines_slice_i', 'headlines_number',\n",
    "#     'up_to_date_ric', 'story_i', 'story_id_now', 'story_is_success', \n",
    "#     'date_time',\n",
    "# ])\n",
    "\n",
    "# Так как у нас уже есть созданный logger, подгрузим его\n",
    "most_latest_file = get_name_of_latest_file_in_folder(path_project_folder + folder_name_logger)\n",
    "quasi_logger = pd.read_csv(most_latest_file, sep=';')\n",
    "print(quasi_logger.shape, most_latest_file)"
   ]
  },
  {
   "cell_type": "code",
   "execution_count": 11,
   "metadata": {},
   "outputs": [],
   "source": [
    "# Проверим, содержит ли all_headlines_df наш текущий ric\n",
    "def set_value_of_up_to_date_ric(\n",
    "        ric_now, # ric to check of existence in df\n",
    "        df_with_news_to_check,\n",
    "        column_name_with_rics = 'ric',\n",
    "        column_name_with_dates = 'versionCreated'):\n",
    "    \"\"\"\n",
    "    This function is checking the existance of ric in chosen df.\n",
    "    If some news are in df, then function returns the oldest date in df.\n",
    "    If no news are in df, then function returns 'None' for ek.get_news_headlines.\n",
    "    \"\"\"\n",
    "\n",
    "    is_this_ric_in_all = ric_now in list(df_with_news_to_check[column_name_with_rics])\n",
    "    print()\n",
    "    print('is_this_ric_in_all:', is_this_ric_in_all, end=' ')\n",
    "    if is_this_ric_in_all:\n",
    "        # Если в нашем датасете присутствует этот ric,\n",
    "        # то продолжаем по нему выгружать, берём мин имеющуюся дату.\n",
    "        up_to_date_ric = str(df_with_news_to_check[df_with_news_to_check[column_name_with_rics] == ric_now][column_name_with_dates].min())\n",
    "        print('  up_to_date_ric:', up_to_date_ric, end=' ')\n",
    "    else:\n",
    "        # None означает, что метод ek.get_news_headlines возьмёт текущий момент времени.\n",
    "        up_to_date_ric = None\n",
    "        print('  up_to_date_ric:', up_to_date_ric, end=' ')\n",
    "        \n",
    "    return up_to_date_ric"
   ]
  },
  {
   "cell_type": "code",
   "execution_count": 12,
   "metadata": {},
   "outputs": [],
   "source": [
    "def get_news_headlines_with_some_tries(\n",
    "        ric_now,\n",
    "        headlines_count_to_request,\n",
    "        up_to_date_ric,\n",
    "        max_num_tries=5):\n",
    "    \"\"\"\n",
    "    We trying to get df with headlines from eikon API with several tries\n",
    "    \"\"\"\n",
    "    \n",
    "    tries_num = 0\n",
    "    while tries_num < max_num_tries:\n",
    "        try:\n",
    "            news_get_df = ek.get_news_headlines(\n",
    "                query=ric_now,\n",
    "                count=headlines_count_to_request,\n",
    "                date_to=up_to_date_ric\n",
    "            )\n",
    "            print('got successfully', end=' ')\n",
    "            break\n",
    "        except Exception as e:\n",
    "            print()\n",
    "            print('Error when trying to get news headlines', tries_num)\n",
    "            print(e)\n",
    "            time.sleep(5)\n",
    "            tries_num = tries_num + 1\n",
    "\n",
    "    print('news_get_df.shape:', news_get_df.shape[0])\n",
    "\n",
    "    return news_get_df"
   ]
  },
  {
   "cell_type": "code",
   "execution_count": 13,
   "metadata": {},
   "outputs": [],
   "source": [
    "def prepare_headlines_df_to_adding_news_story(\n",
    "        ric_now,\n",
    "        news_get_df):\n",
    "    \"\"\"\n",
    "    Now: news_get_df is collected df from ek.get_news_headlines method.\n",
    "    And we want to add news story (full news text) to that df.\n",
    "    So we should prepare that df for iterations with ek.get_news_story method.\n",
    "    For that puspose we should add ric and story columns,\n",
    "    and change the column name with headlines from text to headlines.\n",
    "    \"\"\"\n",
    "    \n",
    "    news_get_df = news_get_df.reset_index(drop=True) # чтобы юзать .loc()\n",
    "    news_get_df['ric'] = ric_now\n",
    "    news_get_df['story'] = np.nan\n",
    "    news_get_df['headline'] = news_get_df['text']\n",
    "    news_get_df = news_get_df.drop(columns=['text'])\n",
    "    \n",
    "    return news_get_df"
   ]
  },
  {
   "cell_type": "code",
   "execution_count": 14,
   "metadata": {},
   "outputs": [],
   "source": [
    "def adding_news_stories_to_df_with_headlines(\n",
    "        news_get_df,\n",
    "        quasi_logger,\n",
    "        ric_i,\n",
    "        ric_now,\n",
    "        headlines_slice_i,\n",
    "        headlines_number,\n",
    "        up_to_date_ric,\n",
    "        col_name_with_story_id = 'storyId'):\n",
    "    \"\"\"\n",
    "    The function adds full text news story to df with headlines using storyId.\n",
    "    The function just prints the error in a case of error (they are rare).\n",
    "    In any case the function logs results of API request to logger df.\n",
    "    \"\"\"\n",
    "\n",
    "    for story_i in range(0, len(news_get_df)): # range(0, len(news_get_df))\n",
    "        story_id_now = news_get_df['storyId'][story_i]\n",
    "\n",
    "        try:\n",
    "            story_now = ek.get_news_story(story_id_now)\n",
    "            # Удалим из истории все тильды на всякий случай, будет sep='~'\n",
    "            story_now = story_now.replace(\"~\", \"!tilda!\")\n",
    "            # Внесём выкаченную историю в df\n",
    "            news_get_df.loc[story_i, 'story'] = story_now\n",
    "            # Пометим, что мы успешно выкачали текст новости\n",
    "            story_is_success = True\n",
    "            print(story_i, end='; ')\n",
    "\n",
    "        except Exception as e:\n",
    "            story_is_success = False\n",
    "            # Заменим NA на текст ошибки\n",
    "            news_get_df.loc[story_i, 'story'] = 'error_when_trying_to_collect_story'\n",
    "            # Выведем story с ошибкой\n",
    "            print() # e.message\n",
    "            print(\n",
    "                'STORY IS OK:', story_is_success, \n",
    "                '  ric_now:', ric_now, # input to function\n",
    "                '  ric_i:', ric_i, # input to function\n",
    "                '  story_i:', story_i\n",
    "                )\n",
    "            print(e)\n",
    "            time.sleep(5)\n",
    "\n",
    "        finally:\n",
    "            # В любом случае внесём в наш квази-логгер наблюдение story.\n",
    "            quasi_logger = quasi_logger.append({\n",
    "                \"ric_i\": ric_i, # input to function\n",
    "                \"ric_now\": ric_now, # input to function\n",
    "                \"headlines_slice_i\": headlines_slice_i, # input to function\n",
    "                \"headlines_number\": headlines_number, # input to function\n",
    "                \"up_to_date_ric\": up_to_date_ric, # input to function\n",
    "                \"story_i\": story_i,\n",
    "                \"story_id_now\": story_id_now,\n",
    "                \"story_is_success\": story_is_success,\n",
    "                \"date_time\": str(datetime.today())\n",
    "            }, ignore_index = True)\n",
    "    # At that moment the df has full text of news in col story\n",
    "    return news_get_df, quasi_logger"
   ]
  },
  {
   "cell_type": "code",
   "execution_count": 15,
   "metadata": {},
   "outputs": [],
   "source": [
    "def save_file_as_new_file_without_replacing(\n",
    "        path_project_folder,\n",
    "        folder_name_to_save,\n",
    "        file_to_save,\n",
    "        file_short_name_add_to_path):\n",
    "    \"\"\"\n",
    "    Save the file to selected folder without replacing,\n",
    "    but changing file name as a number of version at date now\n",
    "    \"\"\"\n",
    "    # Сохраним версию all_headlines_df со всеми новостями\n",
    "    # Подберём такое название, которого нет в dir, чтобы не переписывать файл.\n",
    "    file_version = 1\n",
    "    folder_name = path_project_folder + folder_name_to_save\n",
    "    date_now = datetime.today().strftime(\"%Y-%m-%d\")\n",
    "    file_name = file_short_name_add_to_path + '_' + str(date_now) + '_v' + str(file_version) + '.csv'\n",
    "    while file_name in os.listdir(folder_name):\n",
    "        file_name = file_short_name_add_to_path + '_' + str(date_now) + '_v' + str(file_version) + '.csv'\n",
    "        file_version = file_version + 1\n",
    "    # C:/DAN/t_systems/trade_project/backup_headlines/all_headlines_df_2020-12-24_v6.csv\n",
    "    file_path = folder_name + file_name\n",
    "    file_to_save.to_csv(file_path, sep = '~', index=False)\n",
    "    print(file_path)"
   ]
  },
  {
   "cell_type": "code",
   "execution_count": 35,
   "metadata": {},
   "outputs": [
    {
     "name": "stdout",
     "output_type": "stream",
     "text": [
      "18 FMEG.DE\n",
      "\n",
      "is_this_ric_in_all: True   up_to_date_ric: 2019-10-07 06:57:28.618000+00:00 got successfully news_get_df.shape: 0\n",
      "\n",
      "2021-01-08 02:10:31.122830 FMEG.DE  ric_i: 18  headline_slice_i: 1  headline_number: 0  not null: 0 2019-10-07 06:57:28.618000+00:00\n",
      "C:/DAN/t_systems/trade_project/backup_headlines/all_headlines_df_2021-01-08_v2.csv\n",
      "C:/DAN/t_systems/trade_project/logger/quasi_logger_2021-01-08_v1.csv\n",
      "19 DBKGn.DE\n",
      "\n",
      "is_this_ric_in_all: True   up_to_date_ric: 2020-11-18 08:00:25.006000+00:00 got successfully news_get_df.shape: 100\n",
      "0; 1; 2; 3; 4; 5; 6; 7; 8; 9; 10; 11; 12; 13; 14; 15; 16; 17; 18; 19; 20; 21; 22; 23; 24; 25; 26; 27; 28; 29; 30; 31; 32; 33; 34; 35; 36; 37; 38; 39; 40; 41; 42; 43; 44; 45; 46; 47; 48; 49; 50; 51; 52; 53; 54; 55; 56; 57; 58; 59; 60; 61; 62; 63; 64; 65; 66; 67; 68; 69; 70; 71; 72; 73; 74; 75; 76; 77; 78; 79; 80; 81; 82; 83; 84; 85; 86; 87; 88; 89; 90; 91; 92; 93; 94; 95; 96; 97; 98; 99; \n",
      "2021-01-08 02:13:48.150554 DBKGn.DE  ric_i: 19  headline_slice_i: 1  headline_number: 100  not null: 100 2020-11-18 08:00:25.006000+00:00\n",
      "\n",
      "is_this_ric_in_all: True   up_to_date_ric: 2020-11-11 18:00:00+00:00 got successfully news_get_df.shape: 100\n",
      "0; 1; 2; 3; 4; 5; 6; 7; 8; 9; 10; 11; \n",
      "STORY IS OK: False   ric_now: DBKGn.DE   ric_i: 19   story_i: 12\n",
      "'NoneType' object has no attribute 'replace'\n",
      "13; 14; 15; 16; 17; 18; 19; 20; 21; 22; 23; 24; 25; 26; 27; 28; 29; 30; 31; 32; 33; 34; 35; 36; 37; 38; 39; 40; 41; 42; 43; 44; 45; 46; 47; 48; 49; 50; 51; 52; 53; 54; 55; 56; 57; 58; 59; 60; 61; 62; 63; 64; 65; 66; 67; 68; 69; 70; 71; 72; 73; 74; 75; 76; 77; 78; 79; 80; 81; 82; 83; 84; 85; 86; 87; 88; 89; 90; 91; 92; 93; 94; 95; 96; 97; 98; 99; \n",
      "2021-01-08 02:17:13.691259 DBKGn.DE  ric_i: 19  headline_slice_i: 2  headline_number: 100  not null: 100 2020-11-11 18:00:00+00:00\n",
      "\n",
      "is_this_ric_in_all: True   up_to_date_ric: 2020-11-09 05:36:47.897000+00:00 got successfully news_get_df.shape: 100\n",
      "0; 1; 2; 3; 4; 5; 6; 7; 8; 9; 10; 11; 12; 13; 14; 15; 16; 17; 18; 19; 20; 21; 22; 23; 24; 25; 26; 27; 28; 29; 30; 31; 32; 33; 34; 35; 36; 37; 38; 39; 40; 41; 42; 43; 44; 45; 46; 47; 48; 49; 50; 51; 52; 53; 54; 55; 56; 57; 58; 59; 60; 61; 62; 63; 64; 65; 66; 67; 68; 69; 70; 71; 72; 73; 74; 75; 76; 77; 78; 79; 80; 81; 82; 83; 84; 85; 86; 87; 88; 89; 90; 91; 92; 93; 94; 95; 96; 97; 98; 99; \n",
      "2021-01-08 02:20:22.844775 DBKGn.DE  ric_i: 19  headline_slice_i: 3  headline_number: 100  not null: 100 2020-11-09 05:36:47.897000+00:00\n",
      "\n",
      "is_this_ric_in_all: True   up_to_date_ric: 2020-10-30 11:03:30.550000+00:00 got successfully news_get_df.shape: 100\n",
      "0; 1; 2; 3; 4; 5; 6; 7; 8; 9; 10; 11; 12; 13; 14; 15; 16; \n",
      "STORY IS OK: False   ric_now: DBKGn.DE   ric_i: 19   story_i: 17\n",
      "'NoneType' object has no attribute 'replace'\n",
      "18; 19; 20; 21; 22; 23; 24; 25; 26; 27; 28; 29; 30; 31; 32; 33; 34; 35; 36; 37; 38; 39; \n",
      "STORY IS OK: False   ric_now: DBKGn.DE   ric_i: 19   story_i: 40\n",
      "'NoneType' object has no attribute 'replace'\n",
      "41; 42; 43; 44; 45; 46; 47; 48; 49; 50; 51; 52; 53; 54; 55; 56; 57; 58; 59; 60; 61; 62; 63; 64; 65; 66; 67; 68; 69; 70; 71; 72; 73; 74; 75; 76; 77; 78; 79; 80; 81; 82; 83; 84; 85; 86; 87; 88; 89; 90; 91; 92; 93; 94; 95; 96; 97; 98; 99; \n",
      "2021-01-08 02:23:44.924528 DBKGn.DE  ric_i: 19  headline_slice_i: 4  headline_number: 100  not null: 100 2020-10-30 11:03:30.550000+00:00\n",
      "\n",
      "is_this_ric_in_all: True   up_to_date_ric: 2020-10-28 07:27:31+00:00 got successfully news_get_df.shape: 100\n",
      "0; 1; 2; 3; 4; 5; 6; 7; 8; 9; 10; 11; 12; 13; 14; 15; 16; 17; 18; 19; 20; 21; 22; 23; 24; 25; 26; 27; 28; 29; 30; 31; 32; 33; 34; 35; 36; 37; 38; 39; 40; 41; 42; 43; 44; 45; 46; 47; 48; 49; 50; 51; 52; 53; 54; 55; 56; 57; 58; 59; 60; 61; 62; 63; 64; 65; 66; 67; 68; 69; 70; 71; 72; 73; 74; 75; 76; 77; 78; 79; 80; 81; 82; 83; 84; 85; 86; 87; 88; 89; 90; 91; 92; 93; 94; 95; 96; 97; 98; 99; \n",
      "2021-01-08 02:28:44.096959 DBKGn.DE  ric_i: 19  headline_slice_i: 5  headline_number: 100  not null: 100 2020-10-28 07:27:31+00:00\n",
      "\n",
      "is_this_ric_in_all: True   up_to_date_ric: 2020-10-26 11:40:46.289000+00:00 got successfully news_get_df.shape: 100\n",
      "0; 1; 2; 3; 4; 5; 6; 7; 8; 9; 10; 11; 12; 13; 14; 15; 16; 17; 18; 19; 20; 21; 22; 23; 24; 25; 26; 27; 28; 29; 30; 31; 32; 33; 34; 35; 36; 37; 38; 39; 40; 41; 42; 43; 44; 45; 46; 47; 48; 49; 50; 51; 52; 53; 54; 55; 56; 57; 58; 59; 60; 61; 62; 63; 64; \n",
      "STORY IS OK: False   ric_now: DBKGn.DE   ric_i: 19   story_i: 65\n",
      "'NoneType' object has no attribute 'replace'\n",
      "66; 67; 68; 69; 70; 71; 72; 73; 74; 75; 76; 77; 78; 79; 80; 81; 82; 83; 84; 85; 86; 87; 88; 89; 90; 91; 92; 93; 94; 95; 96; 97; 98; 99; \n",
      "2021-01-08 02:32:00.442509 DBKGn.DE  ric_i: 19  headline_slice_i: 6  headline_number: 100  not null: 100 2020-10-26 11:40:46.289000+00:00\n",
      "\n",
      "is_this_ric_in_all: True   up_to_date_ric: 2020-10-14 14:43:17.981000+00:00 got successfully news_get_df.shape: 100\n",
      "0; 1; 2; 3; 4; 5; 6; 7; 8; 9; 10; 11; 12; 13; 14; 15; 16; 17; 18; 19; 20; 21; 22; 23; 24; 25; 26; 27; 28; 29; 30; 31; 32; 33; 34; 35; 36; 37; 38; 39; 40; 41; 42; 43; 44; 45; 46; 47; 48; 49; 50; 51; 52; 53; 54; 55; 56; 57; 58; 59; 60; 61; 62; 63; 64; 65; 66; 67; 68; 69; 70; 71; 72; 73; 74; 75; 76; 77; 78; 79; 80; 81; 82; 83; 84; 85; 86; 87; 88; 89; 90; 91; 92; 93; 94; 95; 96; 97; 98; 99; \n",
      "2021-01-08 02:35:45.792296 DBKGn.DE  ric_i: 19  headline_slice_i: 7  headline_number: 100  not null: 100 2020-10-14 14:43:17.981000+00:00\n",
      "\n",
      "is_this_ric_in_all: True   up_to_date_ric: 2020-10-06 09:48:36+00:00 got successfully news_get_df.shape: 100\n",
      "0; 1; 2; 3; 4; 5; 6; 7; 8; 9; 10; 11; 12; 13; 14; 15; 16; 17; 18; 19; 20; 21; 22; 23; 24; 25; 26; 27; 28; 29; 30; 31; 32; 33; 34; 35; 36; 37; 38; 39; 40; 41; 42; 43; 44; 45; 46; 47; 48; 49; 50; 51; 52; 53; 54; 55; 56; 57; 58; 59; 60; 61; 62; 63; 64; 65; 66; 67; 68; 69; 70; 71; 72; 73; 74; 75; 76; 77; 78; 79; 80; 81; 82; 83; 84; 85; 86; 87; 88; 89; 90; 91; 92; 93; 94; 95; 96; 97; 98; 99; \n",
      "2021-01-08 02:38:57.677199 DBKGn.DE  ric_i: 19  headline_slice_i: 8  headline_number: 100  not null: 100 2020-10-06 09:48:36+00:00\n",
      "\n",
      "is_this_ric_in_all: True   up_to_date_ric: 2020-09-28 16:15:49.161000+00:00 got successfully news_get_df.shape: 100\n",
      "0; 1; 2; 3; 4; 5; 6; 7; 8; 9; 10; 11; 12; 13; 14; 15; 16; 17; 18; 19; 20; 21; 22; 23; 24; 25; 26; 27; 28; 29; 30; 31; 32; 33; 34; 35; 36; 37; 38; 39; 40; 41; 42; 43; 44; 45; 46; 47; 48; 49; 50; 51; 52; 53; 54; 55; 56; 57; 58; 59; 60; 61; 62; 63; 64; 65; 66; 67; 68; 69; 70; 71; 72; 73; 74; 75; 76; 77; 78; \n",
      "STORY IS OK: False   ric_now: DBKGn.DE   ric_i: 19   story_i: 79\n",
      "'NoneType' object has no attribute 'replace'\n",
      "80; 81; 82; 83; 84; \n",
      "STORY IS OK: False   ric_now: DBKGn.DE   ric_i: 19   story_i: 85\n",
      "'NoneType' object has no attribute 'replace'\n",
      "86; 87; 88; 89; 90; 91; 92; 93; 94; 95; 96; 97; 98; 99; \n",
      "2021-01-08 02:42:39.142765 DBKGn.DE  ric_i: 19  headline_slice_i: 9  headline_number: 100  not null: 100 2020-09-28 16:15:49.161000+00:00\n",
      "\n",
      "is_this_ric_in_all: True   up_to_date_ric: 2020-09-22 16:57:27.043000+00:00 got successfully news_get_df.shape: 100\n",
      "0; 1; 2; 3; 4; 5; 6; 7; 8; 9; 10; 11; 12; 13; 14; 15; 16; 17; 18; 19; 20; 21; 22; 23; 24; 25; 26; 27; 28; 29; 30; 31; 32; 33; 34; 35; 36; 37; 38; 39; 40; 41; 42; 43; 44; 45; 46; 47; 48; 49; 50; 51; 52; 53; 54; 55; 56; 57; 58; 59; 60; 61; 62; 63; 64; 65; 66; "
     ]
    },
    {
     "name": "stderr",
     "output_type": "stream",
     "text": [
      "2021-01-08 02:45:41,671 P[4228] [MainThread 11800] UDF Core request failed. Gateway Time-out\n",
      "2021-01-08 02:45:41,672 P[4228] [MainThread 11800] HTTP request failed: EikonError-UDF Core request failed. Gateway Time-out\n"
     ]
    },
    {
     "name": "stdout",
     "output_type": "stream",
     "text": [
      "\n",
      "STORY IS OK: False   ric_now: DBKGn.DE   ric_i: 19   story_i: 67\n",
      "'NoneType' object has no attribute 'replace'\n",
      "68; 69; 70; 71; 72; 73; 74; 75; 76; "
     ]
    },
    {
     "name": "stderr",
     "output_type": "stream",
     "text": [
      "2021-01-08 02:46:29,176 P[4228] [MainThread 11800] UDF Core request failed. Gateway Time-out\n",
      "2021-01-08 02:46:29,177 P[4228] [MainThread 11800] HTTP request failed: EikonError-UDF Core request failed. Gateway Time-out\n"
     ]
    },
    {
     "name": "stdout",
     "output_type": "stream",
     "text": [
      "\n",
      "STORY IS OK: False   ric_now: DBKGn.DE   ric_i: 19   story_i: 77\n",
      "'NoneType' object has no attribute 'replace'\n",
      "78; 79; 80; \n",
      "STORY IS OK: False   ric_now: DBKGn.DE   ric_i: 19   story_i: 81\n",
      "'NoneType' object has no attribute 'replace'\n",
      "82; 83; 84; 85; 86; 87; 88; 89; 90; 91; 92; 93; 94; 95; 96; 97; 98; 99; \n",
      "2021-01-08 02:47:25.843579 DBKGn.DE  ric_i: 19  headline_slice_i: 10  headline_number: 100  not null: 100 2020-09-22 16:57:27.043000+00:00\n",
      "\n",
      "is_this_ric_in_all: True   up_to_date_ric: 2020-09-21 07:02:27+00:00 got successfully news_get_df.shape: 100\n",
      "0; 1; 2; 3; 4; 5; 6; 7; 8; 9; 10; 11; 12; 13; 14; 15; 16; 17; 18; \n",
      "STORY IS OK: False   ric_now: DBKGn.DE   ric_i: 19   story_i: 19\n",
      "'NoneType' object has no attribute 'replace'\n",
      "20; 21; 22; 23; 24; 25; 26; 27; 28; 29; 30; 31; 32; 33; 34; 35; 36; 37; 38; 39; 40; 41; 42; 43; 44; 45; 46; 47; 48; 49; 50; 51; 52; 53; 54; 55; 56; 57; 58; 59; 60; 61; 62; 63; 64; 65; 66; 67; 68; 69; 70; 71; 72; 73; 74; 75; 76; 77; "
     ]
    },
    {
     "name": "stderr",
     "output_type": "stream",
     "text": [
      "2021-01-08 02:50:58,654 P[4228] [MainThread 11800] Error code 518 | Server Error: Server Side Timeout - Do Not Resubmit\n",
      "2021-01-08 02:50:58,655 P[4228] [MainThread 11800] HTTP request failed: EikonError-Server Error: Server Side Timeout - Do Not Resubmit\n"
     ]
    },
    {
     "name": "stdout",
     "output_type": "stream",
     "text": [
      "\n",
      "STORY IS OK: False   ric_now: DBKGn.DE   ric_i: 19   story_i: 78\n",
      "'NoneType' object has no attribute 'replace'\n",
      "79; 80; 81; 82; 83; 84; 85; 86; 87; 88; 89; 90; 91; 92; 93; 94; 95; 96; 97; 98; 99; \n",
      "2021-01-08 02:51:42.378709 DBKGn.DE  ric_i: 19  headline_slice_i: 11  headline_number: 100  not null: 100 2020-09-21 07:02:27+00:00\n",
      "\n",
      "is_this_ric_in_all: True   up_to_date_ric: 2020-09-14 22:00:00+00:00 got successfully news_get_df.shape: 100\n",
      "0; 1; 2; 3; 4; 5; 6; 7; 8; 9; 10; 11; 12; 13; 14; 15; 16; 17; 18; 19; 20; 21; 22; 23; 24; 25; 26; 27; 28; 29; 30; 31; 32; 33; 34; 35; 36; 37; 38; 39; 40; 41; 42; 43; 44; 45; 46; 47; 48; 49; 50; 51; 52; 53; 54; 55; 56; 57; 58; 59; 60; 61; 62; 63; 64; 65; 66; 67; 68; 69; 70; 71; 72; 73; 74; 75; 76; 77; 78; 79; 80; 81; 82; 83; 84; 85; 86; 87; 88; 89; 90; 91; 92; 93; 94; 95; 96; 97; 98; 99; \n",
      "2021-01-08 02:55:33.428979 DBKGn.DE  ric_i: 19  headline_slice_i: 12  headline_number: 100  not null: 100 2020-09-14 22:00:00+00:00\n",
      "\n",
      "is_this_ric_in_all: True   up_to_date_ric: 2020-09-09 13:44:12.967000+00:00 got successfully news_get_df.shape: 100\n",
      "0; 1; 2; 3; 4; 5; 6; 7; 8; 9; 10; 11; 12; 13; 14; 15; 16; 17; 18; 19; 20; 21; 22; 23; 24; 25; 26; 27; 28; 29; 30; 31; 32; 33; 34; 35; 36; 37; 38; 39; 40; 41; 42; 43; 44; 45; 46; 47; 48; 49; 50; 51; 52; 53; 54; 55; 56; 57; 58; 59; 60; 61; 62; 63; 64; 65; 66; 67; 68; 69; 70; 71; 72; 73; 74; 75; 76; 77; 78; 79; 80; 81; 82; 83; 84; 85; 86; 87; 88; 89; 90; 91; 92; 93; 94; 95; 96; 97; 98; 99; \n",
      "2021-01-08 02:58:47.255949 DBKGn.DE  ric_i: 19  headline_slice_i: 13  headline_number: 100  not null: 100 2020-09-09 13:44:12.967000+00:00\n",
      "\n",
      "is_this_ric_in_all: True   up_to_date_ric: 2020-09-01 15:31:15.603000+00:00 got successfully news_get_df.shape: 100\n",
      "0; 1; 2; 3; 4; 5; 6; 7; 8; 9; 10; 11; 12; 13; 14; 15; 16; 17; 18; 19; 20; 21; 22; 23; 24; 25; 26; 27; 28; 29; 30; 31; 32; 33; 34; 35; 36; 37; 38; 39; 40; 41; 42; 43; 44; 45; 46; 47; 48; 49; 50; 51; 52; 53; 54; 55; 56; 57; 58; 59; 60; 61; 62; 63; 64; 65; 66; 67; 68; 69; 70; 71; 72; 73; 74; 75; 76; 77; 78; 79; 80; 81; 82; 83; 84; 85; 86; 87; 88; 89; 90; 91; 92; 93; 94; 95; 96; 97; 98; 99; \n",
      "2021-01-08 03:01:45.062849 DBKGn.DE  ric_i: 19  headline_slice_i: 14  headline_number: 100  not null: 100 2020-09-01 15:31:15.603000+00:00\n",
      "\n",
      "is_this_ric_in_all: True   up_to_date_ric: 2020-08-20 17:00:05.033000+00:00 got successfully news_get_df.shape: 100\n",
      "0; 1; 2; 3; 4; 5; 6; 7; 8; 9; 10; 11; 12; 13; 14; 15; 16; 17; 18; 19; 20; 21; 22; 23; 24; 25; 26; 27; 28; 29; 30; 31; 32; 33; 34; 35; 36; 37; 38; 39; 40; 41; 42; 43; 44; 45; 46; 47; 48; 49; 50; 51; 52; 53; 54; 55; 56; 57; 58; 59; 60; 61; 62; 63; 64; 65; 66; 67; 68; 69; 70; 71; 72; 73; 74; 75; 76; 77; 78; 79; 80; 81; 82; 83; 84; 85; 86; 87; 88; 89; 90; 91; 92; 93; 94; 95; 96; 97; 98; 99; \n",
      "2021-01-08 03:05:06.678355 DBKGn.DE  ric_i: 19  headline_slice_i: 15  headline_number: 100  not null: 100 2020-08-20 17:00:05.033000+00:00\n",
      "\n",
      "is_this_ric_in_all: True   up_to_date_ric: 2020-08-11 10:54:16.414000+00:00 got successfully news_get_df.shape: 100\n",
      "0; 1; 2; 3; 4; 5; 6; 7; 8; 9; 10; 11; 12; 13; 14; 15; 16; 17; 18; 19; 20; 21; 22; 23; 24; 25; 26; 27; 28; 29; 30; 31; 32; 33; 34; 35; 36; 37; 38; 39; 40; 41; 42; 43; 44; 45; 46; 47; 48; 49; 50; 51; 52; 53; 54; 55; 56; 57; 58; 59; 60; 61; 62; 63; 64; 65; 66; 67; 68; 69; 70; 71; 72; 73; 74; 75; 76; 77; 78; 79; 80; 81; 82; 83; 84; 85; 86; 87; 88; 89; 90; 91; 92; 93; 94; 95; 96; 97; \n",
      "STORY IS OK: False   ric_now: DBKGn.DE   ric_i: 19   story_i: 98\n",
      "'NoneType' object has no attribute 'replace'\n",
      "99; \n",
      "2021-01-08 03:08:44.864488 DBKGn.DE  ric_i: 19  headline_slice_i: 16  headline_number: 100  not null: 100 2020-08-11 10:54:16.414000+00:00\n",
      "\n",
      "is_this_ric_in_all: True   up_to_date_ric: 2020-07-31 07:26:53+00:00 got successfully news_get_df.shape: 100\n",
      "0; 1; 2; 3; 4; 5; 6; 7; 8; 9; 10; 11; 12; 13; 14; 15; 16; 17; 18; 19; 20; 21; 22; 23; 24; 25; 26; 27; 28; 29; 30; 31; 32; 33; 34; 35; 36; 37; 38; 39; 40; 41; 42; 43; 44; 45; 46; 47; 48; 49; 50; 51; 52; 53; 54; 55; 56; 57; 58; 59; 60; 61; 62; 63; 64; 65; 66; 67; 68; 69; 70; 71; 72; 73; 74; 75; 76; 77; 78; 79; 80; 81; 82; 83; 84; 85; 86; 87; 88; 89; 90; 91; 92; 93; 94; 95; 96; 97; 98; 99; \n",
      "2021-01-08 03:12:04.034437 DBKGn.DE  ric_i: 19  headline_slice_i: 17  headline_number: 100  not null: 100 2020-07-31 07:26:53+00:00\n",
      "\n",
      "is_this_ric_in_all: True   up_to_date_ric: 2020-07-29 06:30:07+00:00 got successfully news_get_df.shape: 100\n",
      "0; 1; 2; 3; 4; 5; 6; 7; 8; 9; 10; 11; 12; 13; 14; 15; 16; 17; 18; 19; 20; 21; 22; 23; 24; 25; 26; 27; 28; 29; 30; 31; 32; 33; 34; 35; 36; 37; 38; 39; 40; 41; 42; 43; 44; 45; 46; 47; 48; 49; 50; 51; 52; 53; 54; 55; 56; "
     ]
    },
    {
     "name": "stderr",
     "output_type": "stream",
     "text": [
      "2021-01-08 03:16:19,885 P[4228] [MainThread 11800] Backend error. 503 Service Unavailable\n",
      "2021-01-08 03:16:19,886 P[4228] [MainThread 11800] HTTP request failed: EikonError-Backend error. 503 Service Unavailable\n"
     ]
    },
    {
     "name": "stdout",
     "output_type": "stream",
     "text": [
      "\n",
      "STORY IS OK: False   ric_now: DBKGn.DE   ric_i: 19   story_i: 57\n",
      "'NoneType' object has no attribute 'replace'\n",
      "58; 59; 60; 61; 62; 63; 64; 65; 66; 67; 68; 69; 70; 71; 72; 73; 74; 75; 76; 77; 78; 79; 80; 81; 82; 83; 84; 85; 86; 87; 88; 89; 90; 91; 92; 93; 94; 95; 96; 97; 98; 99; \n",
      "2021-01-08 03:19:02.518954 DBKGn.DE  ric_i: 19  headline_slice_i: 18  headline_number: 100  not null: 100 2020-07-29 06:30:07+00:00\n",
      "\n",
      "is_this_ric_in_all: True   up_to_date_ric: 2020-07-29 05:01:24.382000+00:00 got successfully news_get_df.shape: 100\n",
      "0; 1; 2; 3; 4; 5; 6; 7; 8; "
     ]
    },
    {
     "name": "stderr",
     "output_type": "stream",
     "text": [
      "2021-01-08 03:19:22,872 P[4228] [MainThread 11800] Backend error. 503 Service Unavailable\n",
      "2021-01-08 03:19:22,873 P[4228] [MainThread 11800] HTTP request failed: EikonError-Backend error. 503 Service Unavailable\n"
     ]
    },
    {
     "name": "stdout",
     "output_type": "stream",
     "text": [
      "\n",
      "STORY IS OK: False   ric_now: DBKGn.DE   ric_i: 19   story_i: 9\n",
      "'NoneType' object has no attribute 'replace'\n",
      "10; "
     ]
    },
    {
     "name": "stderr",
     "output_type": "stream",
     "text": [
      "2021-01-08 03:19:31,509 P[4228] [MainThread 11800] Backend error. 503 Service Unavailable\n",
      "2021-01-08 03:19:31,510 P[4228] [MainThread 11800] HTTP request failed: EikonError-Backend error. 503 Service Unavailable\n"
     ]
    },
    {
     "name": "stdout",
     "output_type": "stream",
     "text": [
      "\n",
      "STORY IS OK: False   ric_now: DBKGn.DE   ric_i: 19   story_i: 11\n",
      "'NoneType' object has no attribute 'replace'\n"
     ]
    },
    {
     "name": "stderr",
     "output_type": "stream",
     "text": [
      "2021-01-08 03:19:36,757 P[4228] [MainThread 11800] Backend request failed. Post http:/Apps/NewsServices/story: read tcp 10.19.177.178:55213->10.19.243.24:80: read: connection reset by peer\n",
      "2021-01-08 03:19:36,758 P[4228] [MainThread 11800] HTTP request failed: EikonError-Backend request failed. Post http:/Apps/NewsServices/story: read tcp 10.19.177.178:55213->10.19.243.24:80: read: connection reset by peer\n"
     ]
    },
    {
     "name": "stdout",
     "output_type": "stream",
     "text": [
      "\n",
      "STORY IS OK: False   ric_now: DBKGn.DE   ric_i: 19   story_i: 12\n",
      "'NoneType' object has no attribute 'replace'\n",
      "13; 14; 15; 16; 17; 18; 19; 20; 21; 22; 23; 24; 25; 26; 27; 28; 29; 30; 31; 32; 33; 34; 35; 36; 37; 38; 39; 40; 41; 42; 43; 44; 45; 46; 47; 48; 49; 50; 51; 52; 53; 54; 55; 56; 57; 58; 59; 60; 61; 62; 63; 64; 65; 66; 67; 68; 69; \n",
      "STORY IS OK: False   ric_now: DBKGn.DE   ric_i: 19   story_i: 70\n",
      "'NoneType' object has no attribute 'replace'\n",
      "71; 72; 73; 74; 75; 76; 77; 78; 79; 80; 81; 82; 83; 84; 85; 86; 87; 88; 89; 90; 91; 92; 93; 94; 95; 96; 97; 98; 99; \n",
      "2021-01-08 03:22:17.871853 DBKGn.DE  ric_i: 19  headline_slice_i: 19  headline_number: 100  not null: 100 2020-07-29 05:01:24.382000+00:00\n",
      "\n",
      "is_this_ric_in_all: True   up_to_date_ric: 2020-07-23 02:16:44.765000+00:00 got successfully news_get_df.shape: 100\n",
      "0; 1; 2; 3; 4; 5; 6; 7; \n",
      "STORY IS OK: False   ric_now: DBKGn.DE   ric_i: 19   story_i: 8\n",
      "'NoneType' object has no attribute 'replace'\n",
      "9; 10; 11; 12; 13; 14; 15; 16; 17; 18; 19; 20; 21; 22; 23; 24; 25; 26; 27; 28; 29; 30; 31; 32; 33; 34; 35; 36; 37; 38; 39; 40; 41; 42; 43; 44; 45; 46; 47; 48; 49; 50; 51; 52; 53; 54; 55; 56; 57; 58; 59; 60; 61; 62; 63; 64; 65; 66; 67; 68; 69; 70; 71; 72; 73; 74; 75; 76; 77; 78; 79; 80; 81; 82; 83; 84; 85; 86; 87; 88; 89; 90; 91; 92; 93; 94; 95; 96; 97; 98; 99; \n",
      "2021-01-08 03:25:40.931891 DBKGn.DE  ric_i: 19  headline_slice_i: 20  headline_number: 100  not null: 100 2020-07-23 02:16:44.765000+00:00\n",
      "\n",
      "is_this_ric_in_all: True   up_to_date_ric: 2020-07-20 06:14:01+00:00 got successfully news_get_df.shape: 100\n",
      "0; 1; 2; 3; 4; 5; 6; 7; 8; 9; 10; 11; 12; 13; 14; 15; 16; 17; 18; 19; 20; 21; 22; 23; 24; 25; 26; 27; 28; 29; 30; 31; 32; 33; 34; 35; 36; 37; 38; 39; 40; 41; 42; 43; 44; 45; 46; 47; 48; 49; 50; 51; 52; 53; 54; 55; 56; 57; 58; 59; 60; 61; 62; 63; 64; 65; 66; 67; 68; \n",
      "STORY IS OK: False   ric_now: DBKGn.DE   ric_i: 19   story_i: 69\n",
      "'NoneType' object has no attribute 'replace'\n",
      "70; 71; 72; 73; 74; 75; 76; 77; 78; 79; 80; 81; 82; 83; 84; 85; 86; 87; 88; 89; 90; 91; 92; 93; 94; 95; 96; 97; 98; 99; \n",
      "2021-01-08 03:28:44.400884 DBKGn.DE  ric_i: 19  headline_slice_i: 21  headline_number: 100  not null: 100 2020-07-20 06:14:01+00:00\n",
      "\n",
      "is_this_ric_in_all: True   up_to_date_ric: 2020-07-11 06:02:32.491000+00:00 got successfully news_get_df.shape: 100\n",
      "0; 1; 2; 3; 4; 5; 6; 7; 8; 9; 10; 11; 12; 13; 14; 15; 16; 17; 18; 19; 20; 21; 22; 23; 24; 25; 26; 27; 28; 29; 30; 31; 32; 33; 34; 35; 36; 37; 38; 39; 40; 41; 42; 43; 44; 45; 46; 47; 48; 49; 50; 51; 52; 53; 54; 55; 56; 57; 58; 59; 60; 61; 62; 63; 64; 65; 66; 67; 68; 69; 70; 71; 72; 73; 74; 75; 76; 77; 78; 79; 80; 81; 82; 83; 84; 85; 86; 87; 88; 89; 90; 91; 92; "
     ]
    },
    {
     "name": "stderr",
     "output_type": "stream",
     "text": [
      "2021-01-08 03:31:24,029 P[4228] [MainThread 11800] Backend error. 404 Not Found\n",
      "2021-01-08 03:31:24,029 P[4228] [MainThread 11800] HTTP request failed: EikonError-Backend error. 404 Not Found\n"
     ]
    },
    {
     "name": "stdout",
     "output_type": "stream",
     "text": [
      "\n",
      "STORY IS OK: False   ric_now: DBKGn.DE   ric_i: 19   story_i: 93\n",
      "'NoneType' object has no attribute 'replace'\n",
      "94; 95; 96; 97; 98; 99; \n",
      "2021-01-08 03:31:45.905797 DBKGn.DE  ric_i: 19  headline_slice_i: 22  headline_number: 100  not null: 100 2020-07-11 06:02:32.491000+00:00\n",
      "\n",
      "is_this_ric_in_all: True   up_to_date_ric: 2020-07-07 18:22:15.057000+00:00 got successfully news_get_df.shape: 100\n",
      "0; 1; 2; 3; 4; 5; 6; 7; 8; "
     ]
    },
    {
     "name": "stderr",
     "output_type": "stream",
     "text": [
      "2021-01-08 03:32:07,705 P[4228] [MainThread 11800] Error code 500 | Server Error: {\"code\":500,\"message\":\"read ECONNRESET\",\"statusMessage\":\"Internal Server Error\"}\n",
      "2021-01-08 03:32:07,705 P[4228] [MainThread 11800] HTTP request failed: EikonError-Server Error: {\"code\":500,\"message\":\"read ECONNRESET\",\"statusMessage\":\"Internal Server Error\"}\n"
     ]
    },
    {
     "name": "stdout",
     "output_type": "stream",
     "text": [
      "9; \n",
      "STORY IS OK: False   ric_now: DBKGn.DE   ric_i: 19   story_i: 10\n",
      "'NoneType' object has no attribute 'replace'\n",
      "11; 12; 13; "
     ]
    },
    {
     "name": "stderr",
     "output_type": "stream",
     "text": [
      "2021-01-08 03:32:17,746 P[4228] [MainThread 11800] Error code 500 | Server Error: {\"code\":500,\"message\":\"read ECONNRESET\",\"statusMessage\":\"Internal Server Error\"}\n",
      "2021-01-08 03:32:17,747 P[4228] [MainThread 11800] HTTP request failed: EikonError-Server Error: {\"code\":500,\"message\":\"read ECONNRESET\",\"statusMessage\":\"Internal Server Error\"}\n"
     ]
    },
    {
     "name": "stdout",
     "output_type": "stream",
     "text": [
      "\n",
      "STORY IS OK: False   ric_now: DBKGn.DE   ric_i: 19   story_i: 14\n",
      "'NoneType' object has no attribute 'replace'\n",
      "15; 16; 17; 18; 19; 20; 21; 22; 23; 24; 25; 26; 27; 28; 29; 30; 31; 32; 33; 34; 35; 36; 37; 38; 39; 40; 41; 42; 43; 44; 45; 46; 47; 48; 49; 50; 51; 52; 53; 54; 55; 56; 57; 58; 59; \n",
      "STORY IS OK: False   ric_now: DBKGn.DE   ric_i: 19   story_i: 60\n",
      "'NoneType' object has no attribute 'replace'\n",
      "61; 62; 63; 64; 65; 66; 67; 68; 69; 70; 71; "
     ]
    },
    {
     "name": "stderr",
     "output_type": "stream",
     "text": [
      "2021-01-08 03:35:19,088 P[4228] [MainThread 11800] Error code 500 | Server Error: {\"code\":500,\"message\":\"getaddrinfo ENOTFOUND plnp-erpcprp07.int.thomsonreuters.com plnp-erpcprp07.int.thomsonreuters.com:443\",\"statusMessage\":\"Internal Server Error\"}\n",
      "2021-01-08 03:35:19,089 P[4228] [MainThread 11800] HTTP request failed: EikonError-Server Error: {\"code\":500,\"message\":\"getaddrinfo ENOTFOUND plnp-erpcprp07.int.thomsonreuters.com plnp-erpcprp07.int.thomsonreuters.com:443\",\"statusMessage\":\"Internal Server Error\"}\n"
     ]
    },
    {
     "name": "stdout",
     "output_type": "stream",
     "text": [
      "\n",
      "STORY IS OK: False   ric_now: DBKGn.DE   ric_i: 19   story_i: 72\n",
      "'NoneType' object has no attribute 'replace'\n",
      "73; 74; 75; 76; 77; 78; 79; 80; 81; 82; 83; 84; 85; 86; 87; 88; 89; 90; 91; 92; 93; 94; 95; 96; 97; 98; 99; \n",
      "2021-01-08 03:36:19.681512 DBKGn.DE  ric_i: 19  headline_slice_i: 23  headline_number: 100  not null: 100 2020-07-07 18:22:15.057000+00:00\n",
      "\n",
      "is_this_ric_in_all: True   up_to_date_ric: 2020-07-06 15:47:15.736000+00:00 got successfully news_get_df.shape: 100\n",
      "0; 1; 2; 3; 4; 5; 6; 7; 8; 9; 10; 11; 12; 13; 14; 15; 16; 17; 18; "
     ]
    },
    {
     "name": "stderr",
     "output_type": "stream",
     "text": [
      "2021-01-08 03:37:11,759 P[4228] [MainThread 11800] Backend error. 404 Not Found\n",
      "2021-01-08 03:37:11,759 P[4228] [MainThread 11800] HTTP request failed: EikonError-Backend error. 404 Not Found\n"
     ]
    },
    {
     "name": "stdout",
     "output_type": "stream",
     "text": [
      "\n",
      "STORY IS OK: False   ric_now: DBKGn.DE   ric_i: 19   story_i: 19\n",
      "'NoneType' object has no attribute 'replace'\n",
      "20; 21; 22; 23; 24; 25; 26; 27; 28; 29; 30; 31; 32; 33; 34; 35; 36; 37; 38; 39; 40; 41; 42; 43; 44; 45; 46; 47; 48; 49; 50; 51; 52; 53; 54; 55; 56; 57; 58; 59; 60; 61; 62; 63; 64; 65; 66; 67; 68; 69; 70; 71; 72; 73; 74; 75; 76; 77; 78; 79; 80; 81; 82; 83; 84; 85; 86; 87; 88; 89; 90; 91; 92; 93; 94; 95; 96; 97; 98; 99; \n",
      "2021-01-08 03:39:36.128879 DBKGn.DE  ric_i: 19  headline_slice_i: 24  headline_number: 100  not null: 100 2020-07-06 15:47:15.736000+00:00\n",
      "\n",
      "is_this_ric_in_all: True   up_to_date_ric: 2020-06-30 09:26:43+00:00 got successfully news_get_df.shape: 100\n",
      "0; 1; 2; 3; 4; 5; 6; 7; 8; 9; 10; 11; 12; 13; "
     ]
    },
    {
     "name": "stderr",
     "output_type": "stream",
     "text": [
      "2021-01-08 03:40:24,903 P[4228] [MainThread 11800] UDF Core request failed. Gateway Time-out\n",
      "2021-01-08 03:40:24,904 P[4228] [MainThread 11800] HTTP request failed: EikonError-UDF Core request failed. Gateway Time-out\n"
     ]
    },
    {
     "name": "stdout",
     "output_type": "stream",
     "text": [
      "\n",
      "STORY IS OK: False   ric_now: DBKGn.DE   ric_i: 19   story_i: 14\n",
      "'NoneType' object has no attribute 'replace'\n",
      "15; 16; 17; 18; 19; 20; 21; 22; 23; 24; 25; 26; 27; 28; 29; 30; 31; 32; 33; 34; 35; 36; 37; 38; 39; 40; 41; 42; 43; 44; 45; 46; 47; 48; 49; 50; 51; 52; 53; 54; 55; 56; 57; 58; 59; 60; 61; 62; 63; 64; 65; 66; 67; 68; 69; 70; 71; 72; 73; 74; 75; 76; 77; 78; 79; 80; 81; 82; 83; 84; 85; 86; 87; 88; 89; 90; 91; 92; 93; 94; 95; 96; 97; 98; 99; \n",
      "2021-01-08 03:43:20.793386 DBKGn.DE  ric_i: 19  headline_slice_i: 25  headline_number: 100  not null: 100 2020-06-30 09:26:43+00:00\n",
      "\n",
      "is_this_ric_in_all: True   up_to_date_ric: 2020-06-19 10:10:30+00:00 got successfully news_get_df.shape: 100\n",
      "0; 1; 2; 3; 4; 5; 6; 7; 8; 9; 10; 11; 12; 13; 14; 15; 16; 17; 18; 19; 20; 21; 22; 23; 24; 25; 26; 27; 28; 29; 30; 31; 32; 33; 34; 35; 36; 37; 38; 39; 40; 41; 42; 43; 44; 45; 46; 47; 48; 49; 50; 51; 52; 53; 54; 55; 56; 57; 58; 59; 60; 61; 62; 63; 64; 65; 66; 67; 68; 69; 70; 71; 72; 73; 74; 75; 76; 77; 78; 79; 80; 81; 82; 83; 84; 85; 86; 87; 88; 89; 90; 91; 92; 93; 94; 95; 96; 97; 98; 99; \n",
      "2021-01-08 03:46:32.296895 DBKGn.DE  ric_i: 19  headline_slice_i: 26  headline_number: 100  not null: 100 2020-06-19 10:10:30+00:00\n",
      "\n",
      "is_this_ric_in_all: True   up_to_date_ric: 2020-06-11 13:15:00+00:00 got successfully news_get_df.shape: 100\n",
      "0; 1; 2; \n",
      "STORY IS OK: False   ric_now: DBKGn.DE   ric_i: 19   story_i: 3\n",
      "'NoneType' object has no attribute 'replace'\n",
      "4; 5; 6; 7; 8; 9; 10; 11; 12; 13; 14; 15; 16; 17; 18; 19; 20; 21; 22; 23; 24; 25; 26; 27; 28; 29; 30; 31; 32; 33; 34; 35; 36; 37; 38; 39; 40; 41; 42; 43; 44; 45; 46; 47; 48; 49; 50; 51; 52; 53; 54; 55; 56; 57; 58; 59; 60; 61; 62; 63; 64; 65; 66; 67; 68; 69; 70; 71; 72; 73; 74; 75; 76; 77; 78; 79; 80; 81; 82; 83; 84; 85; 86; 87; 88; 89; 90; 91; 92; 93; 94; 95; 96; 97; 98; 99; \n",
      "2021-01-08 03:49:49.088871 DBKGn.DE  ric_i: 19  headline_slice_i: 27  headline_number: 100  not null: 100 2020-06-11 13:15:00+00:00\n",
      "\n",
      "is_this_ric_in_all: True   up_to_date_ric: 2020-06-09 12:44:02+00:00 got successfully news_get_df.shape: 100\n",
      "0; 1; 2; 3; 4; 5; 6; 7; 8; 9; 10; 11; 12; 13; 14; 15; 16; 17; 18; 19; 20; 21; 22; 23; 24; 25; 26; 27; 28; 29; 30; 31; 32; 33; 34; 35; 36; 37; 38; 39; 40; 41; 42; 43; 44; 45; 46; 47; 48; 49; 50; 51; 52; 53; 54; 55; 56; 57; 58; 59; 60; 61; 62; 63; 64; 65; 66; 67; 68; 69; 70; \n",
      "STORY IS OK: False   ric_now: DBKGn.DE   ric_i: 19   story_i: 71\n",
      "'NoneType' object has no attribute 'replace'\n",
      "72; 73; 74; 75; 76; 77; 78; 79; 80; 81; 82; 83; 84; 85; 86; 87; 88; 89; 90; 91; 92; 93; 94; 95; 96; 97; 98; 99; \n",
      "2021-01-08 03:53:45.205385 DBKGn.DE  ric_i: 19  headline_slice_i: 28  headline_number: 100  not null: 100 2020-06-09 12:44:02+00:00\n",
      "\n",
      "is_this_ric_in_all: True   up_to_date_ric: 2020-06-02 18:30:03.012000+00:00 got successfully news_get_df.shape: 100\n",
      "0; 1; 2; 3; 4; 5; 6; 7; 8; 9; 10; 11; 12; 13; 14; 15; 16; 17; 18; 19; 20; 21; 22; 23; 24; 25; 26; 27; 28; 29; 30; 31; 32; 33; 34; 35; 36; 37; 38; 39; 40; 41; 42; 43; 44; 45; 46; 47; 48; 49; 50; 51; 52; 53; 54; 55; 56; 57; 58; 59; 60; 61; 62; 63; 64; 65; 66; 67; 68; 69; 70; 71; 72; 73; 74; 75; 76; 77; 78; 79; 80; 81; 82; 83; 84; 85; 86; 87; 88; 89; 90; 91; 92; 93; 94; 95; 96; 97; 98; 99; \n",
      "2021-01-08 03:57:02.264382 DBKGn.DE  ric_i: 19  headline_slice_i: 29  headline_number: 100  not null: 100 2020-06-02 18:30:03.012000+00:00\n",
      "\n",
      "is_this_ric_in_all: True   up_to_date_ric: 2020-05-27 05:05:36+00:00 got successfully news_get_df.shape: 100\n",
      "0; 1; 2; 3; 4; 5; 6; 7; 8; 9; 10; 11; 12; 13; 14; 15; 16; 17; 18; 19; 20; 21; 22; 23; 24; 25; 26; 27; 28; 29; 30; 31; 32; 33; 34; 35; 36; 37; 38; 39; 40; 41; 42; 43; 44; 45; 46; 47; 48; 49; 50; 51; 52; 53; "
     ]
    },
    {
     "name": "stderr",
     "output_type": "stream",
     "text": [
      "2021-01-08 03:58:56,601 P[4228] [MainThread 11800] UDF Core request failed. Gateway Time-out\n",
      "2021-01-08 03:58:56,602 P[4228] [MainThread 11800] HTTP request failed: EikonError-UDF Core request failed. Gateway Time-out\n"
     ]
    },
    {
     "name": "stdout",
     "output_type": "stream",
     "text": [
      "\n",
      "STORY IS OK: False   ric_now: DBKGn.DE   ric_i: 19   story_i: 54\n",
      "'NoneType' object has no attribute 'replace'\n",
      "55; 56; 57; 58; 59; 60; 61; 62; 63; 64; 65; 66; 67; 68; 69; 70; 71; 72; 73; 74; 75; 76; 77; 78; 79; 80; 81; 82; 83; 84; 85; 86; 87; 88; 89; 90; 91; 92; 93; 94; 95; 96; 97; 98; 99; \n",
      "2021-01-08 04:00:14.298058 DBKGn.DE  ric_i: 19  headline_slice_i: 30  headline_number: 100  not null: 100 2020-05-27 05:05:36+00:00\n",
      "\n",
      "is_this_ric_in_all: True   up_to_date_ric: 2020-05-20 23:16:58.043000+00:00 got successfully news_get_df.shape: 100\n",
      "0; 1; 2; 3; 4; 5; 6; 7; 8; 9; 10; 11; 12; 13; 14; 15; 16; 17; 18; 19; 20; 21; 22; 23; 24; 25; 26; 27; 28; 29; 30; 31; 32; 33; 34; 35; 36; 37; 38; 39; 40; 41; 42; 43; 44; 45; 46; 47; 48; 49; 50; 51; 52; 53; 54; 55; 56; 57; 58; 59; 60; 61; 62; 63; 64; 65; 66; 67; 68; 69; 70; 71; 72; 73; 74; 75; 76; 77; 78; 79; 80; 81; 82; 83; 84; 85; 86; 87; 88; 89; 90; 91; 92; 93; 94; 95; 96; 97; 98; 99; \n",
      "2021-01-08 04:04:11.047001 DBKGn.DE  ric_i: 19  headline_slice_i: 31  headline_number: 100  not null: 100 2020-05-20 23:16:58.043000+00:00\n",
      "\n",
      "is_this_ric_in_all: True   up_to_date_ric: 2020-05-19 00:56:14.010000+00:00 got successfully news_get_df.shape: 100\n",
      "0; 1; 2; 3; 4; 5; 6; 7; 8; 9; 10; 11; 12; 13; 14; 15; 16; 17; 18; 19; 20; 21; 22; 23; 24; 25; 26; 27; 28; 29; 30; 31; 32; 33; 34; 35; 36; 37; 38; 39; 40; 41; 42; 43; 44; 45; 46; 47; 48; 49; 50; 51; 52; 53; 54; 55; 56; 57; 58; 59; 60; 61; 62; 63; 64; 65; 66; 67; 68; 69; 70; 71; 72; 73; 74; 75; 76; 77; 78; 79; 80; 81; 82; 83; 84; 85; 86; 87; 88; 89; 90; 91; 92; 93; 94; 95; 96; 97; 98; 99; \n",
      "2021-01-08 04:07:40.200704 DBKGn.DE  ric_i: 19  headline_slice_i: 32  headline_number: 100  not null: 100 2020-05-19 00:56:14.010000+00:00\n",
      "\n",
      "is_this_ric_in_all: True   up_to_date_ric: 2020-05-13 07:27:34+00:00 got successfully news_get_df.shape: 100\n",
      "0; 1; 2; 3; 4; 5; 6; 7; 8; 9; 10; 11; 12; 13; 14; 15; 16; 17; 18; 19; 20; 21; 22; 23; 24; 25; 26; 27; 28; 29; 30; 31; 32; 33; 34; 35; 36; 37; 38; 39; 40; 41; 42; 43; 44; 45; 46; 47; 48; 49; 50; 51; 52; 53; 54; 55; 56; 57; 58; 59; 60; 61; 62; 63; 64; 65; 66; 67; 68; 69; 70; 71; 72; 73; 74; 75; 76; \n",
      "STORY IS OK: False   ric_now: DBKGn.DE   ric_i: 19   story_i: 77\n",
      "'NoneType' object has no attribute 'replace'\n",
      "78; 79; 80; 81; 82; 83; 84; 85; 86; 87; 88; 89; 90; 91; 92; 93; 94; 95; 96; 97; 98; 99; \n",
      "2021-01-08 04:11:41.518646 DBKGn.DE  ric_i: 19  headline_slice_i: 33  headline_number: 100  not null: 100 2020-05-13 07:27:34+00:00\n",
      "\n",
      "is_this_ric_in_all: True   up_to_date_ric: 2020-05-07 13:06:14.065000+00:00 got successfully news_get_df.shape: 100\n",
      "0; 1; 2; 3; 4; 5; 6; 7; 8; 9; 10; 11; 12; 13; 14; 15; 16; 17; 18; 19; 20; 21; 22; 23; 24; 25; 26; 27; 28; 29; 30; 31; 32; 33; 34; 35; 36; 37; 38; 39; 40; "
     ]
    },
    {
     "name": "stderr",
     "output_type": "stream",
     "text": [
      "2021-01-08 04:13:19,824 P[4228] [MainThread 11800] Backend error. 404 Not Found\n",
      "2021-01-08 04:13:19,825 P[4228] [MainThread 11800] HTTP request failed: EikonError-Backend error. 404 Not Found\n"
     ]
    },
    {
     "name": "stdout",
     "output_type": "stream",
     "text": [
      "\n",
      "STORY IS OK: False   ric_now: DBKGn.DE   ric_i: 19   story_i: 41\n",
      "'NoneType' object has no attribute 'replace'\n",
      "42; 43; \n",
      "STORY IS OK: False   ric_now: DBKGn.DE   ric_i: 19   story_i: 44\n",
      "'NoneType' object has no attribute 'replace'\n",
      "45; 46; 47; 48; 49; 50; 51; 52; 53; 54; 55; 56; 57; 58; 59; 60; 61; 62; 63; 64; 65; 66; 67; 68; 69; 70; 71; 72; 73; 74; 75; 76; 77; 78; 79; \n",
      "STORY IS OK: False   ric_now: DBKGn.DE   ric_i: 19   story_i: 80\n",
      "'NoneType' object has no attribute 'replace'\n",
      "81; 82; 83; 84; 85; 86; 87; 88; 89; 90; 91; 92; 93; 94; 95; 96; 97; 98; 99; \n",
      "2021-01-08 04:15:42.865644 DBKGn.DE  ric_i: 19  headline_slice_i: 34  headline_number: 100  not null: 100 2020-05-07 13:06:14.065000+00:00\n",
      "\n",
      "is_this_ric_in_all: True   up_to_date_ric: 2020-04-30 11:08:50.649000+00:00 got successfully news_get_df.shape: 100\n",
      "0; 1; 2; 3; 4; 5; 6; 7; 8; 9; 10; "
     ]
    },
    {
     "name": "stderr",
     "output_type": "stream",
     "text": [
      "2021-01-08 04:16:06,486 P[4228] [MainThread 11800] Backend error. 404 Not Found\n",
      "2021-01-08 04:16:06,488 P[4228] [MainThread 11800] HTTP request failed: EikonError-Backend error. 404 Not Found\n"
     ]
    },
    {
     "name": "stdout",
     "output_type": "stream",
     "text": [
      "\n",
      "STORY IS OK: False   ric_now: DBKGn.DE   ric_i: 19   story_i: 11\n",
      "'NoneType' object has no attribute 'replace'\n",
      "12; 13; 14; 15; 16; 17; 18; 19; 20; 21; 22; 23; 24; 25; 26; 27; 28; 29; 30; 31; 32; 33; 34; 35; 36; 37; 38; 39; 40; 41; 42; 43; 44; 45; 46; 47; 48; 49; 50; 51; 52; 53; 54; 55; 56; 57; 58; 59; 60; 61; 62; 63; 64; 65; 66; 67; 68; 69; 70; 71; 72; 73; 74; 75; 76; 77; 78; 79; 80; 81; 82; 83; 84; 85; 86; 87; 88; 89; 90; 91; 92; 93; 94; 95; 96; 97; 98; 99; \n",
      "2021-01-08 04:19:20.577009 DBKGn.DE  ric_i: 19  headline_slice_i: 35  headline_number: 100  not null: 100 2020-04-30 11:08:50.649000+00:00\n",
      "\n",
      "is_this_ric_in_all: True   up_to_date_ric: 2020-04-29 05:15:41+00:00 got successfully news_get_df.shape: 100\n",
      "0; 1; 2; 3; 4; 5; 6; 7; 8; 9; 10; 11; 12; 13; 14; 15; 16; 17; 18; 19; 20; 21; 22; 23; 24; 25; 26; 27; 28; 29; 30; 31; 32; 33; 34; 35; 36; 37; 38; 39; 40; 41; 42; 43; 44; 45; 46; 47; 48; 49; 50; 51; 52; 53; 54; 55; 56; 57; 58; 59; 60; 61; 62; 63; 64; 65; 66; 67; 68; 69; 70; 71; 72; 73; 74; 75; 76; 77; 78; 79; 80; \n",
      "STORY IS OK: False   ric_now: DBKGn.DE   ric_i: 19   story_i: 81\n",
      "'NoneType' object has no attribute 'replace'\n",
      "82; 83; 84; 85; 86; 87; 88; 89; 90; 91; 92; 93; 94; 95; 96; 97; 98; 99; \n",
      "2021-01-08 04:24:59.186189 DBKGn.DE  ric_i: 19  headline_slice_i: 36  headline_number: 100  not null: 100 2020-04-29 05:15:41+00:00\n",
      "\n",
      "is_this_ric_in_all: True   up_to_date_ric: 2020-04-28 08:42:33+00:00 got successfully news_get_df.shape: 100\n",
      "0; 1; 2; 3; 4; 5; 6; 7; "
     ]
    },
    {
     "name": "stderr",
     "output_type": "stream",
     "text": [
      "2021-01-08 04:25:19,123 P[4228] [MainThread 11800] Backend error. 404 Not Found\n",
      "2021-01-08 04:25:19,124 P[4228] [MainThread 11800] HTTP request failed: EikonError-Backend error. 404 Not Found\n"
     ]
    },
    {
     "name": "stdout",
     "output_type": "stream",
     "text": [
      "\n",
      "STORY IS OK: False   ric_now: DBKGn.DE   ric_i: 19   story_i: 8\n",
      "'NoneType' object has no attribute 'replace'\n",
      "9; 10; 11; 12; 13; 14; 15; 16; 17; 18; 19; 20; 21; 22; 23; 24; 25; 26; 27; 28; 29; 30; 31; 32; 33; 34; 35; 36; 37; 38; 39; 40; 41; 42; 43; 44; 45; 46; 47; 48; 49; 50; 51; 52; 53; 54; 55; 56; 57; 58; 59; 60; 61; 62; 63; 64; 65; 66; 67; 68; 69; 70; 71; 72; 73; 74; 75; 76; 77; 78; 79; 80; 81; 82; 83; 84; 85; 86; 87; 88; 89; 90; 91; 92; \n",
      "STORY IS OK: False   ric_now: DBKGn.DE   ric_i: 19   story_i: 93\n",
      "'NoneType' object has no attribute 'replace'\n",
      "94; 95; 96; 97; 98; 99; \n",
      "2021-01-08 04:28:16.684765 DBKGn.DE  ric_i: 19  headline_slice_i: 37  headline_number: 100  not null: 100 2020-04-28 08:42:33+00:00\n",
      "\n",
      "is_this_ric_in_all: True   up_to_date_ric: 2020-04-26 19:52:33+00:00 got successfully news_get_df.shape: 100\n",
      "0; 1; 2; 3; 4; 5; 6; 7; 8; 9; 10; 11; 12; 13; 14; 15; 16; 17; 18; 19; 20; 21; 22; 23; 24; 25; 26; 27; 28; 29; 30; 31; 32; 33; 34; 35; 36; 37; 38; 39; 40; 41; 42; 43; 44; 45; 46; 47; 48; 49; 50; 51; 52; 53; 54; 55; 56; 57; 58; 59; 60; 61; 62; 63; 64; 65; 66; 67; 68; 69; 70; 71; 72; 73; 74; 75; 76; 77; 78; 79; 80; 81; 82; 83; 84; 85; 86; 87; 88; 89; 90; 91; 92; 93; 94; 95; 96; 97; 98; 99; \n",
      "2021-01-08 04:31:26.684056 DBKGn.DE  ric_i: 19  headline_slice_i: 38  headline_number: 100  not null: 100 2020-04-26 19:52:33+00:00\n",
      "\n",
      "is_this_ric_in_all: True   up_to_date_ric: 2020-04-20 15:27:22+00:00 got successfully news_get_df.shape: 100\n",
      "0; 1; 2; 3; 4; 5; 6; 7; 8; 9; 10; 11; 12; 13; 14; 15; 16; 17; 18; 19; 20; 21; 22; 23; 24; 25; 26; 27; 28; 29; 30; 31; 32; 33; 34; 35; 36; 37; 38; 39; 40; 41; 42; 43; 44; 45; 46; 47; 48; 49; 50; 51; 52; 53; 54; 55; 56; 57; 58; 59; 60; 61; 62; 63; 64; 65; 66; 67; "
     ]
    },
    {
     "name": "stderr",
     "output_type": "stream",
     "text": [
      "2021-01-08 04:33:42,040 P[4228] [MainThread 11800] UDF Core request failed. Service Temporarily Unavailable\n",
      "2021-01-08 04:33:42,041 P[4228] [MainThread 11800] HTTP request failed: EikonError-UDF Core request failed. Service Temporarily Unavailable\n"
     ]
    },
    {
     "name": "stdout",
     "output_type": "stream",
     "text": [
      "\n",
      "STORY IS OK: False   ric_now: DBKGn.DE   ric_i: 19   story_i: 68\n",
      "'NoneType' object has no attribute 'replace'\n",
      "69; 70; 71; 72; 73; 74; 75; 76; 77; 78; 79; 80; 81; 82; 83; 84; 85; 86; 87; 88; 89; 90; 91; 92; 93; 94; 95; 96; 97; 98; 99; \n",
      "2021-01-08 04:34:48.993122 DBKGn.DE  ric_i: 19  headline_slice_i: 39  headline_number: 100  not null: 100 2020-04-20 15:27:22+00:00\n",
      "\n",
      "is_this_ric_in_all: True   up_to_date_ric: 2020-04-03 16:03:10+00:00 got successfully news_get_df.shape: 100\n",
      "0; 1; 2; 3; 4; 5; 6; 7; "
     ]
    },
    {
     "name": "stderr",
     "output_type": "stream",
     "text": [
      "2021-01-08 04:35:28,229 P[4228] [MainThread 11800] No datapoint found with provided name\n",
      "2021-01-08 04:35:28,230 P[4228] [MainThread 11800] HTTP request failed: EikonError-No datapoint found with provided name\n"
     ]
    },
    {
     "name": "stdout",
     "output_type": "stream",
     "text": [
      "\n",
      "STORY IS OK: False   ric_now: DBKGn.DE   ric_i: 19   story_i: 8\n",
      "'NoneType' object has no attribute 'replace'\n",
      "9; 10; 11; 12; 13; 14; 15; 16; 17; 18; 19; 20; 21; 22; 23; 24; 25; 26; 27; 28; 29; 30; 31; 32; 33; 34; 35; 36; 37; 38; 39; 40; 41; 42; 43; 44; 45; 46; 47; 48; 49; 50; 51; 52; 53; 54; 55; 56; 57; 58; 59; 60; 61; 62; 63; 64; 65; 66; 67; 68; 69; 70; 71; 72; 73; 74; 75; 76; 77; 78; 79; 80; 81; 82; 83; 84; 85; 86; 87; 88; 89; 90; 91; 92; 93; 94; 95; 96; 97; 98; 99; \n",
      "2021-01-08 04:38:45.459832 DBKGn.DE  ric_i: 19  headline_slice_i: 40  headline_number: 100  not null: 100 2020-04-03 16:03:10+00:00\n",
      "\n",
      "is_this_ric_in_all: True   up_to_date_ric: 2020-03-31 08:10:50+00:00 got successfully news_get_df.shape: 100\n",
      "0; 1; 2; 3; 4; 5; 6; 7; 8; 9; 10; 11; 12; 13; 14; 15; 16; 17; 18; 19; 20; 21; 22; 23; 24; 25; 26; 27; 28; 29; 30; 31; 32; 33; 34; 35; 36; 37; 38; 39; 40; 41; 42; 43; 44; 45; 46; 47; 48; 49; 50; 51; 52; 53; 54; 55; 56; 57; 58; 59; 60; 61; 62; 63; 64; 65; 66; 67; 68; 69; 70; 71; 72; 73; 74; 75; 76; 77; 78; 79; 80; 81; 82; 83; 84; 85; 86; 87; 88; 89; 90; 91; 92; 93; 94; 95; 96; 97; 98; 99; \n",
      "2021-01-08 04:41:42.504985 DBKGn.DE  ric_i: 19  headline_slice_i: 41  headline_number: 100  not null: 100 2020-03-31 08:10:50+00:00\n",
      "\n",
      "is_this_ric_in_all: True   up_to_date_ric: 2020-03-24 12:35:37+00:00 got successfully news_get_df.shape: 100\n",
      "0; 1; 2; 3; 4; 5; 6; 7; 8; 9; 10; 11; 12; \n",
      "STORY IS OK: False   ric_now: DBKGn.DE   ric_i: 19   story_i: 13\n",
      "'NoneType' object has no attribute 'replace'\n",
      "14; 15; 16; 17; 18; 19; 20; "
     ]
    },
    {
     "name": "stderr",
     "output_type": "stream",
     "text": [
      "2021-01-08 04:42:31,430 P[4228] [MainThread 11800] Backend error. 503 Service Unavailable\n",
      "2021-01-08 04:42:31,431 P[4228] [MainThread 11800] HTTP request failed: EikonError-Backend error. 503 Service Unavailable\n"
     ]
    },
    {
     "name": "stdout",
     "output_type": "stream",
     "text": [
      "\n",
      "STORY IS OK: False   ric_now: DBKGn.DE   ric_i: 19   story_i: 21\n",
      "'NoneType' object has no attribute 'replace'\n",
      "22; 23; 24; 25; 26; 27; 28; 29; 30; 31; 32; 33; 34; 35; 36; 37; 38; 39; 40; 41; 42; 43; 44; 45; 46; 47; 48; 49; 50; 51; 52; 53; 54; 55; 56; 57; 58; 59; 60; 61; 62; 63; 64; 65; 66; 67; 68; 69; 70; 71; 72; 73; 74; 75; 76; 77; 78; 79; 80; 81; 82; 83; 84; 85; 86; 87; 88; 89; 90; 91; 92; 93; 94; 95; 96; 97; 98; 99; \n",
      "2021-01-08 04:45:39.639098 DBKGn.DE  ric_i: 19  headline_slice_i: 42  headline_number: 100  not null: 100 2020-03-24 12:35:37+00:00\n",
      "\n",
      "is_this_ric_in_all: True   up_to_date_ric: 2020-03-20 07:13:43.756000+00:00 got successfully news_get_df.shape: 100\n",
      "0; 1; 2; 3; 4; 5; 6; 7; 8; 9; 10; 11; 12; 13; 14; 15; 16; 17; 18; 19; 20; 21; 22; 23; 24; 25; 26; 27; 28; 29; 30; 31; 32; 33; 34; 35; 36; 37; 38; 39; 40; 41; 42; 43; 44; 45; 46; 47; 48; 49; 50; 51; 52; 53; 54; 55; 56; 57; 58; 59; 60; 61; 62; 63; 64; 65; 66; 67; 68; 69; 70; 71; 72; 73; 74; 75; 76; 77; 78; 79; \n",
      "STORY IS OK: False   ric_now: DBKGn.DE   ric_i: 19   story_i: 80\n",
      "'NoneType' object has no attribute 'replace'\n",
      "81; 82; 83; 84; 85; 86; 87; 88; 89; 90; 91; 92; 93; 94; 95; 96; 97; 98; 99; \n",
      "2021-01-08 04:50:01.081174 DBKGn.DE  ric_i: 19  headline_slice_i: 43  headline_number: 100  not null: 100 2020-03-20 07:13:43.756000+00:00\n",
      "\n",
      "is_this_ric_in_all: True   up_to_date_ric: 2020-03-16 21:26:31+00:00 got successfully news_get_df.shape: 100\n",
      "0; 1; 2; 3; 4; 5; 6; 7; 8; 9; 10; 11; 12; 13; 14; 15; 16; 17; 18; 19; 20; 21; 22; 23; 24; 25; 26; 27; 28; 29; 30; 31; 32; 33; 34; \n",
      "STORY IS OK: False   ric_now: DBKGn.DE   ric_i: 19   story_i: 35\n",
      "'NoneType' object has no attribute 'replace'\n",
      "\n",
      "STORY IS OK: False   ric_now: DBKGn.DE   ric_i: 19   story_i: 36\n",
      "'NoneType' object has no attribute 'replace'\n",
      "37; 38; 39; 40; 41; 42; 43; 44; 45; 46; 47; 48; 49; 50; 51; 52; 53; 54; 55; 56; 57; 58; 59; 60; 61; 62; 63; 64; 65; 66; 67; 68; 69; 70; 71; 72; 73; 74; 75; 76; 77; 78; 79; 80; 81; 82; 83; 84; 85; 86; 87; 88; 89; 90; 91; 92; 93; 94; 95; 96; 97; 98; 99; \n",
      "2021-01-08 04:53:38.048454 DBKGn.DE  ric_i: 19  headline_slice_i: 44  headline_number: 100  not null: 100 2020-03-16 21:26:31+00:00\n",
      "\n",
      "is_this_ric_in_all: True   up_to_date_ric: 2020-03-12 10:38:38+00:00 got successfully news_get_df.shape: 100\n",
      "0; 1; 2; 3; 4; 5; 6; 7; 8; 9; 10; 11; 12; 13; 14; 15; 16; 17; 18; 19; 20; 21; 22; 23; 24; 25; 26; 27; 28; 29; 30; 31; 32; 33; \n",
      "STORY IS OK: False   ric_now: DBKGn.DE   ric_i: 19   story_i: 34\n",
      "'NoneType' object has no attribute 'replace'\n",
      "35; 36; 37; 38; 39; 40; 41; 42; 43; 44; 45; 46; 47; 48; 49; 50; 51; 52; 53; 54; 55; 56; 57; 58; 59; 60; 61; 62; 63; 64; 65; 66; 67; 68; 69; 70; 71; 72; 73; 74; 75; 76; 77; 78; 79; 80; 81; 82; \n",
      "STORY IS OK: False   ric_now: DBKGn.DE   ric_i: 19   story_i: 83\n",
      "'NoneType' object has no attribute 'replace'\n",
      "84; 85; 86; 87; 88; 89; 90; 91; 92; 93; 94; 95; 96; 97; 98; 99; \n",
      "2021-01-08 04:57:00.247563 DBKGn.DE  ric_i: 19  headline_slice_i: 45  headline_number: 100  not null: 100 2020-03-12 10:38:38+00:00\n",
      "\n",
      "is_this_ric_in_all: True   up_to_date_ric: 2020-03-10 06:50:01+00:00 got successfully news_get_df.shape: 100\n",
      "0; 1; 2; 3; 4; 5; 6; 7; 8; 9; 10; 11; 12; 13; 14; 15; 16; 17; 18; 19; 20; 21; 22; 23; 24; 25; 26; 27; 28; 29; 30; 31; 32; 33; 34; 35; 36; 37; 38; 39; 40; 41; 42; 43; 44; 45; 46; 47; 48; 49; 50; 51; 52; 53; 54; 55; 56; 57; 58; 59; 60; 61; 62; 63; 64; 65; 66; 67; 68; 69; 70; 71; 72; 73; 74; 75; 76; 77; 78; 79; 80; 81; 82; 83; 84; 85; 86; 87; 88; 89; 90; 91; 92; 93; 94; 95; 96; 97; 98; 99; \n",
      "2021-01-08 05:00:07.842405 DBKGn.DE  ric_i: 19  headline_slice_i: 46  headline_number: 100  not null: 100 2020-03-10 06:50:01+00:00\n",
      "\n",
      "is_this_ric_in_all: True   up_to_date_ric: 2020-03-03 23:30:28+00:00 got successfully news_get_df.shape: 100\n",
      "0; 1; 2; 3; 4; 5; 6; 7; 8; 9; 10; 11; 12; 13; 14; 15; 16; 17; 18; 19; 20; 21; 22; 23; 24; 25; 26; 27; 28; 29; 30; 31; 32; 33; 34; 35; 36; 37; 38; 39; 40; \n",
      "STORY IS OK: False   ric_now: DBKGn.DE   ric_i: 19   story_i: 41\n",
      "'NoneType' object has no attribute 'replace'\n",
      "42; 43; 44; 45; 46; 47; 48; 49; 50; 51; 52; 53; 54; 55; 56; 57; 58; 59; 60; 61; 62; 63; 64; 65; 66; 67; 68; 69; 70; 71; 72; 73; 74; 75; 76; 77; 78; 79; 80; 81; 82; 83; 84; 85; 86; 87; 88; 89; 90; 91; 92; 93; 94; 95; 96; 97; 98; 99; \n",
      "2021-01-08 05:04:00.213540 DBKGn.DE  ric_i: 19  headline_slice_i: 47  headline_number: 100  not null: 100 2020-03-03 23:30:28+00:00\n",
      "\n",
      "is_this_ric_in_all: True   up_to_date_ric: 2020-02-25 18:02:59.175000+00:00 got successfully news_get_df.shape: 100\n",
      "0; 1; 2; 3; 4; 5; 6; 7; 8; 9; 10; 11; 12; 13; 14; 15; 16; 17; 18; 19; 20; 21; 22; 23; 24; 25; 26; 27; 28; 29; 30; 31; 32; 33; 34; 35; 36; 37; 38; 39; 40; 41; 42; 43; 44; 45; 46; 47; 48; 49; 50; 51; 52; 53; 54; 55; 56; 57; 58; 59; 60; 61; 62; 63; 64; 65; 66; 67; 68; 69; 70; 71; 72; 73; 74; 75; 76; 77; 78; 79; 80; 81; 82; 83; 84; 85; 86; 87; 88; 89; 90; 91; 92; 93; 94; 95; 96; 97; 98; 99; \n",
      "2021-01-08 05:07:08.965261 DBKGn.DE  ric_i: 19  headline_slice_i: 48  headline_number: 100  not null: 100 2020-02-25 18:02:59.175000+00:00\n",
      "\n",
      "is_this_ric_in_all: True   up_to_date_ric: 2020-02-14 14:38:25+00:00 got successfully news_get_df.shape: 100\n",
      "0; 1; 2; 3; 4; 5; 6; 7; 8; 9; 10; 11; 12; 13; 14; 15; 16; 17; 18; 19; 20; 21; 22; 23; 24; 25; 26; 27; 28; 29; 30; 31; 32; 33; 34; 35; 36; 37; 38; 39; 40; 41; 42; 43; 44; 45; 46; 47; 48; 49; 50; 51; 52; 53; 54; 55; 56; 57; 58; 59; 60; 61; 62; 63; 64; 65; 66; 67; 68; 69; 70; 71; 72; 73; 74; 75; 76; 77; 78; 79; 80; 81; 82; 83; 84; 85; 86; 87; 88; 89; 90; 91; 92; 93; 94; 95; 96; 97; \n",
      "STORY IS OK: False   ric_now: DBKGn.DE   ric_i: 19   story_i: 98\n",
      "'NoneType' object has no attribute 'replace'\n",
      "99; \n",
      "2021-01-08 05:11:07.414564 DBKGn.DE  ric_i: 19  headline_slice_i: 49  headline_number: 100  not null: 100 2020-02-14 14:38:25+00:00\n",
      "\n",
      "is_this_ric_in_all: True   up_to_date_ric: 2020-02-10 17:01:13.890000+00:00 got successfully news_get_df.shape: 100\n",
      "0; 1; 2; 3; 4; 5; 6; 7; 8; 9; 10; 11; 12; 13; 14; 15; 16; 17; 18; 19; 20; 21; 22; 23; 24; 25; 26; 27; 28; 29; 30; 31; 32; 33; 34; 35; 36; 37; 38; 39; 40; 41; 42; 43; 44; 45; 46; 47; 48; 49; 50; 51; 52; 53; 54; 55; 56; 57; 58; 59; 60; 61; 62; 63; 64; 65; 66; 67; 68; 69; 70; 71; 72; 73; 74; 75; 76; 77; 78; 79; 80; 81; 82; 83; 84; 85; 86; 87; 88; 89; 90; 91; 92; 93; 94; 95; 96; 97; 98; 99; \n",
      "2021-01-08 05:14:16.738682 DBKGn.DE  ric_i: 19  headline_slice_i: 50  headline_number: 100  not null: 100 2020-02-10 17:01:13.890000+00:00\n",
      "\n",
      "is_this_ric_in_all: True   up_to_date_ric: 2020-02-05 16:26:40.947000+00:00 got successfully news_get_df.shape: 100\n",
      "0; 1; 2; 3; 4; 5; 6; 7; 8; 9; 10; 11; 12; 13; 14; 15; 16; 17; 18; 19; 20; 21; 22; 23; 24; 25; 26; 27; 28; 29; 30; \n",
      "STORY IS OK: False   ric_now: DBKGn.DE   ric_i: 19   story_i: 31\n",
      "'NoneType' object has no attribute 'replace'\n",
      "32; 33; 34; 35; 36; 37; 38; 39; 40; 41; 42; 43; 44; 45; 46; 47; 48; 49; 50; 51; 52; 53; 54; 55; 56; 57; 58; 59; 60; 61; 62; 63; 64; 65; 66; 67; 68; 69; \n",
      "STORY IS OK: False   ric_now: DBKGn.DE   ric_i: 19   story_i: 70\n",
      "'NoneType' object has no attribute 'replace'\n",
      "71; 72; 73; 74; 75; 76; 77; 78; 79; 80; 81; 82; 83; 84; 85; 86; 87; 88; 89; 90; 91; 92; 93; 94; 95; 96; 97; 98; 99; \n",
      "2021-01-08 05:17:49.814882 DBKGn.DE  ric_i: 19  headline_slice_i: 51  headline_number: 100  not null: 100 2020-02-05 16:26:40.947000+00:00\n",
      "\n",
      "is_this_ric_in_all: True   up_to_date_ric: 2020-01-30 16:28:37.284000+00:00 got successfully news_get_df.shape: 100\n",
      "0; 1; 2; 3; 4; 5; 6; 7; 8; 9; 10; 11; 12; 13; 14; 15; 16; 17; 18; 19; 20; 21; 22; 23; 24; 25; 26; 27; 28; 29; 30; 31; 32; 33; 34; 35; 36; 37; 38; 39; 40; 41; 42; 43; 44; 45; 46; 47; 48; 49; 50; 51; 52; 53; 54; 55; 56; 57; 58; 59; 60; 61; 62; 63; 64; 65; \n",
      "STORY IS OK: False   ric_now: DBKGn.DE   ric_i: 19   story_i: 66\n",
      "'NoneType' object has no attribute 'replace'\n",
      "67; \n",
      "STORY IS OK: False   ric_now: DBKGn.DE   ric_i: 19   story_i: 68\n",
      "'NoneType' object has no attribute 'replace'\n",
      "69; 70; 71; 72; 73; 74; 75; 76; 77; 78; 79; 80; 81; 82; 83; 84; 85; 86; 87; 88; 89; 90; 91; 92; 93; 94; 95; 96; 97; 98; 99; \n",
      "2021-01-08 05:22:16.903564 DBKGn.DE  ric_i: 19  headline_slice_i: 52  headline_number: 100  not null: 100 2020-01-30 16:28:37.284000+00:00\n",
      "\n",
      "is_this_ric_in_all: True   up_to_date_ric: 2020-01-30 06:08:16.884000+00:00 got successfully news_get_df.shape: 100\n",
      "0; 1; 2; 3; 4; 5; 6; 7; 8; 9; 10; 11; 12; 13; 14; 15; 16; 17; 18; 19; 20; 21; 22; 23; 24; 25; 26; 27; 28; 29; 30; 31; 32; 33; 34; 35; 36; 37; 38; 39; 40; 41; 42; 43; 44; 45; 46; 47; 48; 49; 50; 51; 52; 53; \n",
      "STORY IS OK: False   ric_now: DBKGn.DE   ric_i: 19   story_i: 54\n",
      "'NoneType' object has no attribute 'replace'\n",
      "55; 56; 57; 58; 59; 60; 61; 62; 63; 64; 65; 66; 67; 68; 69; 70; 71; 72; 73; 74; 75; 76; 77; 78; 79; 80; 81; 82; 83; 84; 85; 86; 87; 88; 89; 90; 91; 92; 93; 94; 95; 96; 97; 98; 99; \n",
      "2021-01-08 05:26:42.165800 DBKGn.DE  ric_i: 19  headline_slice_i: 53  headline_number: 100  not null: 100 2020-01-30 06:08:16.884000+00:00\n",
      "\n",
      "is_this_ric_in_all: True   up_to_date_ric: 2020-01-27 08:05:09.918000+00:00 got successfully news_get_df.shape: 100\n",
      "0; 1; 2; 3; 4; 5; 6; 7; 8; 9; 10; 11; 12; 13; 14; 15; 16; 17; 18; 19; 20; 21; 22; 23; 24; 25; 26; 27; 28; 29; 30; 31; 32; 33; 34; 35; 36; 37; 38; 39; 40; 41; 42; 43; 44; 45; 46; 47; 48; 49; 50; 51; 52; 53; 54; 55; 56; 57; 58; 59; 60; 61; 62; 63; 64; 65; 66; 67; 68; 69; 70; 71; 72; 73; 74; 75; 76; 77; 78; 79; 80; 81; 82; 83; 84; 85; 86; 87; 88; 89; 90; 91; 92; 93; 94; 95; 96; 97; 98; 99; \n",
      "2021-01-08 05:29:46.560972 DBKGn.DE  ric_i: 19  headline_slice_i: 54  headline_number: 100  not null: 100 2020-01-27 08:05:09.918000+00:00\n",
      "\n",
      "is_this_ric_in_all: True   up_to_date_ric: 2020-01-21 22:24:21.845000+00:00 got successfully news_get_df.shape: 100\n",
      "0; 1; 2; 3; 4; 5; 6; 7; 8; 9; 10; 11; 12; 13; 14; 15; 16; 17; 18; 19; 20; 21; 22; 23; 24; \n",
      "STORY IS OK: False   ric_now: DBKGn.DE   ric_i: 19   story_i: 25\n",
      "'NoneType' object has no attribute 'replace'\n",
      "26; 27; 28; 29; 30; 31; 32; 33; 34; 35; 36; 37; 38; 39; 40; 41; 42; 43; 44; 45; 46; 47; 48; 49; 50; 51; 52; 53; 54; 55; 56; 57; 58; 59; 60; 61; 62; 63; 64; 65; 66; 67; 68; 69; 70; 71; 72; 73; 74; 75; 76; 77; 78; 79; 80; 81; 82; 83; 84; 85; 86; 87; 88; 89; 90; 91; 92; 93; 94; 95; 96; 97; 98; 99; \n",
      "2021-01-08 05:33:20.203673 DBKGn.DE  ric_i: 19  headline_slice_i: 55  headline_number: 100  not null: 100 2020-01-21 22:24:21.845000+00:00\n",
      "\n",
      "is_this_ric_in_all: True   up_to_date_ric: 2020-01-13 13:24:07+00:00 got successfully news_get_df.shape: 100\n",
      "\n",
      "STORY IS OK: False   ric_now: DBKGn.DE   ric_i: 19   story_i: 0\n",
      "'NoneType' object has no attribute 'replace'\n",
      "1; 2; 3; 4; 5; 6; 7; 8; 9; 10; 11; 12; 13; 14; 15; 16; 17; 18; 19; 20; 21; 22; 23; 24; 25; 26; 27; 28; 29; 30; 31; 32; 33; 34; 35; 36; 37; 38; 39; 40; 41; 42; 43; 44; 45; 46; 47; 48; 49; 50; 51; 52; 53; 54; 55; 56; 57; 58; 59; 60; 61; 62; 63; 64; 65; 66; 67; 68; 69; 70; 71; 72; 73; 74; 75; 76; 77; 78; 79; 80; 81; 82; 83; 84; 85; 86; \n",
      "STORY IS OK: False   ric_now: DBKGn.DE   ric_i: 19   story_i: 87\n",
      "'NoneType' object has no attribute 'replace'\n",
      "88; \n",
      "STORY IS OK: False   ric_now: DBKGn.DE   ric_i: 19   story_i: 89\n",
      "'NoneType' object has no attribute 'replace'\n",
      "90; 91; 92; 93; 94; 95; 96; 97; 98; 99; \n",
      "2021-01-08 05:36:21.351293 DBKGn.DE  ric_i: 19  headline_slice_i: 56  headline_number: 100  not null: 100 2020-01-13 13:24:07+00:00\n",
      "\n",
      "is_this_ric_in_all: True   up_to_date_ric: 2019-12-31 15:41:30.468000+00:00 got successfully news_get_df.shape: 100\n",
      "0; 1; 2; 3; 4; 5; 6; 7; 8; 9; 10; 11; 12; 13; 14; 15; 16; 17; 18; 19; 20; 21; 22; 23; 24; 25; 26; 27; 28; 29; 30; 31; 32; 33; 34; 35; 36; 37; 38; 39; 40; 41; 42; 43; 44; 45; 46; 47; 48; 49; 50; 51; 52; 53; 54; 55; \n",
      "STORY IS OK: False   ric_now: DBKGn.DE   ric_i: 19   story_i: 56\n",
      "'NoneType' object has no attribute 'replace'\n",
      "57; 58; 59; 60; 61; 62; 63; 64; 65; 66; 67; 68; 69; 70; 71; 72; 73; 74; 75; 76; 77; 78; 79; 80; 81; 82; 83; 84; 85; 86; 87; 88; 89; 90; 91; 92; 93; 94; 95; 96; 97; 98; 99; \n",
      "2021-01-08 05:39:32.442663 DBKGn.DE  ric_i: 19  headline_slice_i: 57  headline_number: 100  not null: 100 2019-12-31 15:41:30.468000+00:00\n",
      "\n",
      "is_this_ric_in_all: True   up_to_date_ric: 2019-12-18 06:08:01+00:00 got successfully news_get_df.shape: 100\n",
      "0; 1; 2; 3; 4; 5; 6; 7; 8; 9; 10; 11; 12; 13; 14; 15; 16; 17; 18; 19; 20; 21; 22; 23; 24; 25; 26; 27; 28; 29; 30; 31; 32; 33; 34; 35; 36; 37; 38; 39; 40; 41; 42; 43; 44; 45; 46; 47; 48; 49; 50; 51; 52; 53; 54; 55; 56; 57; 58; 59; 60; 61; 62; 63; 64; \n",
      "STORY IS OK: False   ric_now: DBKGn.DE   ric_i: 19   story_i: 65\n",
      "'NoneType' object has no attribute 'replace'\n",
      "66; 67; 68; 69; 70; 71; 72; 73; 74; 75; 76; 77; 78; 79; 80; 81; 82; 83; 84; 85; 86; 87; 88; 89; 90; 91; 92; 93; 94; 95; 96; 97; 98; 99; \n",
      "2021-01-08 05:42:27.872099 DBKGn.DE  ric_i: 19  headline_slice_i: 58  headline_number: 100  not null: 100 2019-12-18 06:08:01+00:00\n",
      "\n",
      "is_this_ric_in_all: True   up_to_date_ric: 2019-12-10 16:03:13.111000+00:00 got successfully news_get_df.shape: 100\n",
      "0; 1; 2; 3; 4; 5; 6; 7; 8; 9; 10; 11; 12; 13; 14; 15; 16; 17; 18; 19; 20; 21; 22; 23; 24; 25; 26; 27; 28; 29; 30; 31; 32; 33; 34; 35; 36; 37; 38; 39; 40; 41; 42; 43; 44; 45; 46; 47; 48; 49; 50; 51; 52; 53; 54; 55; 56; 57; 58; 59; 60; 61; 62; 63; 64; 65; 66; 67; 68; 69; 70; 71; 72; 73; 74; 75; 76; 77; 78; 79; 80; 81; 82; 83; 84; 85; 86; 87; 88; 89; 90; 91; 92; 93; 94; 95; 96; 97; 98; 99; \n",
      "2021-01-08 05:46:48.174454 DBKGn.DE  ric_i: 19  headline_slice_i: 59  headline_number: 100  not null: 100 2019-12-10 16:03:13.111000+00:00\n",
      "\n",
      "is_this_ric_in_all: True   up_to_date_ric: 2019-12-09 14:21:24.552000+00:00 got successfully news_get_df.shape: 100\n",
      "0; 1; 2; 3; 4; 5; 6; 7; 8; 9; 10; 11; 12; 13; 14; 15; 16; 17; 18; 19; 20; 21; 22; 23; 24; 25; 26; 27; 28; 29; 30; 31; 32; 33; 34; 35; 36; 37; 38; 39; 40; 41; 42; 43; 44; 45; 46; 47; 48; 49; 50; 51; 52; 53; 54; 55; 56; 57; 58; 59; 60; 61; 62; 63; 64; 65; 66; 67; 68; 69; 70; 71; 72; 73; 74; 75; 76; 77; 78; 79; 80; 81; 82; 83; 84; 85; 86; 87; 88; 89; 90; 91; 92; 93; 94; 95; 96; 97; 98; 99; \n",
      "2021-01-08 05:50:15.888613 DBKGn.DE  ric_i: 19  headline_slice_i: 60  headline_number: 100  not null: 100 2019-12-09 14:21:24.552000+00:00\n",
      "\n",
      "is_this_ric_in_all: True   up_to_date_ric: 2019-12-03 15:42:56+00:00 got successfully news_get_df.shape: 100\n",
      "0; 1; 2; 3; 4; 5; 6; 7; 8; 9; 10; 11; 12; 13; 14; 15; 16; 17; 18; 19; 20; 21; 22; 23; 24; 25; 26; 27; 28; 29; 30; 31; 32; 33; 34; 35; 36; 37; 38; 39; 40; 41; 42; 43; 44; 45; 46; 47; 48; 49; 50; 51; 52; 53; 54; 55; 56; 57; 58; 59; 60; 61; 62; 63; 64; 65; 66; 67; 68; 69; 70; 71; 72; 73; 74; 75; 76; 77; 78; 79; 80; 81; 82; 83; 84; 85; 86; 87; 88; 89; 90; 91; 92; 93; 94; 95; 96; 97; 98; "
     ]
    },
    {
     "name": "stderr",
     "output_type": "stream",
     "text": [
      "2021-01-08 05:54:19,309 P[4228] [MainThread 11800] Backend error. 404 Not Found\n",
      "2021-01-08 05:54:19,310 P[4228] [MainThread 11800] HTTP request failed: EikonError-Backend error. 404 Not Found\n"
     ]
    },
    {
     "name": "stdout",
     "output_type": "stream",
     "text": [
      "\n",
      "STORY IS OK: False   ric_now: DBKGn.DE   ric_i: 19   story_i: 99\n",
      "'NoneType' object has no attribute 'replace'\n",
      "\n",
      "2021-01-08 05:54:24.340884 DBKGn.DE  ric_i: 19  headline_slice_i: 61  headline_number: 100  not null: 100 2019-12-03 15:42:56+00:00\n",
      "\n",
      "is_this_ric_in_all: True   up_to_date_ric: 2019-11-25 20:02:13.129000+00:00 got successfully news_get_df.shape: 100\n"
     ]
    },
    {
     "name": "stderr",
     "output_type": "stream",
     "text": [
      "2021-01-08 05:54:30,442 P[4228] [MainThread 11800] Backend error. 404 Not Found\n",
      "2021-01-08 05:54:30,443 P[4228] [MainThread 11800] HTTP request failed: EikonError-Backend error. 404 Not Found\n"
     ]
    },
    {
     "name": "stdout",
     "output_type": "stream",
     "text": [
      "\n",
      "STORY IS OK: False   ric_now: DBKGn.DE   ric_i: 19   story_i: 0\n",
      "'NoneType' object has no attribute 'replace'\n",
      "1; 2; 3; 4; 5; 6; 7; 8; 9; 10; 11; 12; 13; 14; 15; 16; 17; 18; 19; 20; 21; 22; 23; 24; 25; \n",
      "STORY IS OK: False   ric_now: DBKGn.DE   ric_i: 19   story_i: 26\n",
      "'NoneType' object has no attribute 'replace'\n",
      "27; \n",
      "STORY IS OK: False   ric_now: DBKGn.DE   ric_i: 19   story_i: 28\n",
      "'NoneType' object has no attribute 'replace'\n",
      "29; 30; 31; 32; 33; 34; 35; 36; 37; 38; 39; 40; 41; 42; 43; 44; 45; 46; 47; 48; 49; 50; 51; 52; 53; 54; 55; 56; 57; 58; 59; 60; 61; 62; 63; 64; 65; 66; 67; 68; 69; 70; 71; 72; 73; 74; 75; 76; 77; 78; 79; 80; 81; 82; 83; 84; 85; 86; 87; 88; 89; 90; 91; 92; 93; 94; 95; 96; 97; 98; 99; \n",
      "2021-01-08 05:57:50.465107 DBKGn.DE  ric_i: 19  headline_slice_i: 62  headline_number: 100  not null: 100 2019-11-25 20:02:13.129000+00:00\n",
      "\n",
      "is_this_ric_in_all: True   up_to_date_ric: 2019-11-18 11:26:16+00:00 got successfully news_get_df.shape: 100\n",
      "0; 1; 2; 3; 4; 5; 6; 7; 8; 9; 10; 11; \n",
      "STORY IS OK: False   ric_now: DBKGn.DE   ric_i: 19   story_i: 12\n",
      "'NoneType' object has no attribute 'replace'\n",
      "13; 14; 15; 16; 17; 18; 19; 20; 21; 22; 23; 24; 25; 26; 27; "
     ]
    },
    {
     "name": "stderr",
     "output_type": "stream",
     "text": [
      "2021-01-08 05:58:53,303 P[4228] [MainThread 11800] Backend error. 404 Not Found\n",
      "2021-01-08 05:58:53,304 P[4228] [MainThread 11800] HTTP request failed: EikonError-Backend error. 404 Not Found\n"
     ]
    },
    {
     "name": "stdout",
     "output_type": "stream",
     "text": [
      "\n",
      "STORY IS OK: False   ric_now: DBKGn.DE   ric_i: 19   story_i: 28\n",
      "'NoneType' object has no attribute 'replace'\n",
      "29; 30; 31; 32; 33; 34; 35; 36; 37; 38; 39; 40; 41; 42; 43; 44; 45; 46; 47; 48; 49; 50; 51; 52; 53; 54; 55; 56; 57; 58; 59; 60; 61; 62; 63; 64; 65; 66; 67; 68; "
     ]
    },
    {
     "name": "stderr",
     "output_type": "stream",
     "text": [
      "2021-01-08 06:00:58,295 P[4228] [MainThread 11800] Error code 518 | Server Error: Server Side Timeout - Do Not Resubmit\n",
      "2021-01-08 06:00:58,296 P[4228] [MainThread 11800] HTTP request failed: EikonError-Server Error: Server Side Timeout - Do Not Resubmit\n"
     ]
    },
    {
     "name": "stdout",
     "output_type": "stream",
     "text": [
      "\n",
      "STORY IS OK: False   ric_now: DBKGn.DE   ric_i: 19   story_i: 69\n",
      "'NoneType' object has no attribute 'replace'\n",
      "70; 71; 72; 73; 74; 75; 76; 77; 78; 79; 80; 81; 82; 83; \n",
      "STORY IS OK: False   ric_now: DBKGn.DE   ric_i: 19   story_i: 84\n",
      "'NoneType' object has no attribute 'replace'\n",
      "85; 86; 87; 88; 89; "
     ]
    },
    {
     "name": "stderr",
     "output_type": "stream",
     "text": [
      "2021-01-08 06:01:40,969 P[4228] [MainThread 11800] Backend error. 404 Not Found\n",
      "2021-01-08 06:01:40,970 P[4228] [MainThread 11800] HTTP request failed: EikonError-Backend error. 404 Not Found\n"
     ]
    },
    {
     "name": "stdout",
     "output_type": "stream",
     "text": [
      "\n",
      "STORY IS OK: False   ric_now: DBKGn.DE   ric_i: 19   story_i: 90\n",
      "'NoneType' object has no attribute 'replace'\n",
      "91; 92; 93; 94; 95; 96; 97; 98; 99; \n",
      "2021-01-08 06:02:02.752890 DBKGn.DE  ric_i: 19  headline_slice_i: 63  headline_number: 100  not null: 100 2019-11-18 11:26:16+00:00\n",
      "\n",
      "is_this_ric_in_all: True   up_to_date_ric: 2019-11-12 12:35:15.486000+00:00 got successfully news_get_df.shape: 100\n",
      "0; 1; 2; 3; 4; 5; 6; 7; 8; 9; 10; 11; 12; 13; 14; 15; 16; 17; 18; 19; 20; 21; 22; 23; 24; 25; 26; 27; 28; 29; 30; 31; 32; 33; 34; 35; 36; 37; 38; 39; 40; 41; 42; 43; 44; 45; \n",
      "STORY IS OK: False   ric_now: DBKGn.DE   ric_i: 19   story_i: 46\n",
      "'NoneType' object has no attribute 'replace'\n",
      "47; 48; 49; 50; 51; 52; 53; 54; 55; 56; 57; 58; 59; 60; 61; 62; 63; 64; 65; 66; 67; 68; 69; 70; 71; 72; 73; 74; 75; 76; 77; 78; 79; 80; 81; 82; 83; 84; 85; 86; 87; 88; \n",
      "STORY IS OK: False   ric_now: DBKGn.DE   ric_i: 19   story_i: 89\n",
      "'NoneType' object has no attribute 'replace'\n",
      "90; 91; 92; 93; 94; 95; 96; 97; 98; \n",
      "STORY IS OK: False   ric_now: DBKGn.DE   ric_i: 19   story_i: 99\n",
      "'NoneType' object has no attribute 'replace'\n",
      "\n",
      "2021-01-08 06:05:24.191745 DBKGn.DE  ric_i: 19  headline_slice_i: 64  headline_number: 100  not null: 100 2019-11-12 12:35:15.486000+00:00\n",
      "\n",
      "is_this_ric_in_all: True   up_to_date_ric: 2019-11-06 15:28:50+00:00 got successfully news_get_df.shape: 100\n",
      "0; 1; 2; 3; 4; 5; 6; 7; 8; 9; 10; 11; 12; 13; 14; 15; 16; 17; 18; 19; 20; 21; 22; 23; 24; 25; 26; 27; 28; 29; \n",
      "STORY IS OK: False   ric_now: DBKGn.DE   ric_i: 19   story_i: 30\n",
      "'NoneType' object has no attribute 'replace'\n",
      "31; 32; 33; 34; 35; 36; 37; 38; 39; 40; 41; 42; 43; 44; 45; 46; 47; 48; 49; 50; 51; 52; 53; 54; 55; 56; 57; 58; 59; 60; 61; 62; 63; 64; 65; 66; 67; 68; 69; 70; 71; 72; 73; 74; 75; 76; 77; 78; 79; 80; 81; 82; 83; 84; 85; 86; 87; 88; 89; 90; 91; 92; 93; 94; 95; 96; 97; 98; 99; \n",
      "2021-01-08 06:09:08.268389 DBKGn.DE  ric_i: 19  headline_slice_i: 65  headline_number: 100  not null: 100 2019-11-06 15:28:50+00:00\n",
      "\n",
      "is_this_ric_in_all: True   up_to_date_ric: 2019-11-01 09:38:48.729000+00:00 got successfully news_get_df.shape: 100\n",
      "0; 1; 2; 3; 4; 5; 6; 7; 8; 9; 10; 11; 12; 13; 14; 15; 16; 17; 18; 19; 20; 21; 22; 23; 24; 25; 26; 27; 28; 29; 30; 31; 32; 33; 34; 35; 36; 37; 38; 39; 40; 41; 42; 43; 44; 45; 46; 47; 48; 49; 50; 51; 52; 53; 54; 55; 56; 57; 58; 59; 60; 61; 62; 63; 64; 65; 66; 67; 68; 69; 70; 71; 72; 73; 74; 75; 76; 77; 78; 79; 80; 81; 82; 83; 84; 85; 86; 87; 88; 89; 90; 91; 92; 93; 94; 95; 96; 97; 98; 99; \n",
      "2021-01-08 06:12:48.990613 DBKGn.DE  ric_i: 19  headline_slice_i: 66  headline_number: 100  not null: 100 2019-11-01 09:38:48.729000+00:00\n",
      "\n",
      "is_this_ric_in_all: True   up_to_date_ric: 2019-10-30 07:37:05+00:00 got successfully news_get_df.shape: 100\n",
      "0; 1; 2; 3; 4; 5; 6; 7; 8; 9; 10; 11; 12; 13; 14; 15; 16; 17; 18; 19; 20; 21; 22; 23; 24; 25; 26; 27; 28; 29; 30; 31; 32; 33; 34; 35; 36; 37; 38; 39; 40; 41; 42; 43; 44; 45; 46; 47; 48; 49; \n",
      "STORY IS OK: False   ric_now: DBKGn.DE   ric_i: 19   story_i: 50\n",
      "'NoneType' object has no attribute 'replace'\n",
      "51; 52; 53; 54; 55; 56; 57; 58; 59; 60; 61; 62; 63; 64; 65; 66; 67; 68; 69; 70; 71; 72; 73; 74; 75; 76; 77; 78; 79; 80; 81; 82; 83; 84; 85; 86; 87; 88; 89; 90; 91; 92; 93; 94; 95; 96; 97; 98; 99; \n",
      "2021-01-08 06:18:07.147752 DBKGn.DE  ric_i: 19  headline_slice_i: 67  headline_number: 100  not null: 100 2019-10-30 07:37:05+00:00\n",
      "\n",
      "is_this_ric_in_all: True   up_to_date_ric: 2019-10-29 08:00:01.154000+00:00 got successfully news_get_df.shape: 100\n",
      "0; 1; 2; 3; 4; 5; 6; 7; 8; 9; 10; 11; 12; 13; 14; 15; 16; 17; 18; 19; 20; 21; 22; 23; 24; 25; 26; 27; 28; 29; 30; 31; 32; 33; 34; 35; 36; 37; 38; 39; 40; 41; 42; 43; 44; 45; 46; 47; 48; 49; 50; 51; 52; 53; 54; 55; 56; 57; 58; 59; 60; 61; 62; 63; 64; 65; 66; 67; 68; 69; 70; 71; 72; 73; 74; 75; 76; 77; 78; 79; 80; 81; 82; 83; 84; 85; 86; 87; 88; \n",
      "STORY IS OK: False   ric_now: DBKGn.DE   ric_i: 19   story_i: 89\n",
      "'NoneType' object has no attribute 'replace'\n",
      "90; 91; 92; 93; 94; 95; 96; 97; 98; 99; \n",
      "2021-01-08 06:21:02.797850 DBKGn.DE  ric_i: 19  headline_slice_i: 68  headline_number: 100  not null: 100 2019-10-29 08:00:01.154000+00:00\n",
      "\n",
      "is_this_ric_in_all: True   up_to_date_ric: 2019-10-22 09:45:49.431000+00:00 got successfully news_get_df.shape: 100\n",
      "0; 1; 2; 3; \n",
      "STORY IS OK: False   ric_now: DBKGn.DE   ric_i: 19   story_i: 4\n",
      "'NoneType' object has no attribute 'replace'\n",
      "5; 6; 7; 8; 9; 10; 11; 12; 13; 14; 15; 16; 17; 18; 19; \n",
      "STORY IS OK: False   ric_now: DBKGn.DE   ric_i: 19   story_i: 20\n",
      "'NoneType' object has no attribute 'replace'\n",
      "21; 22; 23; 24; 25; 26; 27; 28; 29; 30; 31; 32; 33; 34; 35; 36; 37; 38; 39; 40; 41; 42; 43; 44; 45; 46; 47; 48; 49; 50; 51; 52; 53; 54; 55; 56; 57; 58; 59; 60; 61; 62; 63; 64; 65; 66; 67; 68; 69; 70; 71; 72; 73; 74; 75; 76; 77; 78; 79; 80; 81; 82; 83; 84; 85; 86; 87; 88; 89; 90; 91; 92; 93; 94; 95; 96; 97; 98; 99; \n",
      "2021-01-08 06:24:24.075147 DBKGn.DE  ric_i: 19  headline_slice_i: 69  headline_number: 100  not null: 100 2019-10-22 09:45:49.431000+00:00\n",
      "\n",
      "is_this_ric_in_all: True   up_to_date_ric: 2019-10-16 11:39:02+00:00 got successfully news_get_df.shape: 100\n",
      "0; 1; 2; 3; 4; 5; 6; 7; 8; 9; 10; 11; 12; 13; 14; 15; 16; 17; 18; 19; 20; 21; 22; 23; 24; 25; 26; 27; 28; 29; 30; 31; 32; 33; 34; 35; 36; 37; 38; 39; 40; 41; 42; 43; 44; 45; 46; 47; 48; 49; "
     ]
    },
    {
     "name": "stderr",
     "output_type": "stream",
     "text": [
      "2021-01-08 06:26:25,491 P[4228] [MainThread 11800] UDF Core request failed. Gateway Time-out\n",
      "2021-01-08 06:26:25,492 P[4228] [MainThread 11800] HTTP request failed: EikonError-UDF Core request failed. Gateway Time-out\n"
     ]
    },
    {
     "name": "stdout",
     "output_type": "stream",
     "text": [
      "\n",
      "STORY IS OK: False   ric_now: DBKGn.DE   ric_i: 19   story_i: 50\n",
      "'NoneType' object has no attribute 'replace'\n",
      "51; 52; 53; 54; 55; 56; 57; 58; 59; 60; 61; 62; 63; 64; 65; 66; 67; 68; 69; 70; 71; 72; 73; 74; 75; 76; 77; 78; 79; 80; 81; 82; 83; 84; 85; 86; 87; 88; 89; 90; 91; 92; 93; 94; 95; 96; 97; 98; 99; \n",
      "2021-01-08 06:28:08.341429 DBKGn.DE  ric_i: 19  headline_slice_i: 70  headline_number: 100  not null: 100 2019-10-16 11:39:02+00:00\n",
      "\n",
      "is_this_ric_in_all: True   up_to_date_ric: 2019-10-11 08:32:57.844000+00:00 got successfully news_get_df.shape: 68\n",
      "0; 1; 2; 3; 4; 5; 6; 7; 8; 9; 10; 11; 12; 13; 14; 15; 16; 17; 18; 19; 20; 21; 22; 23; 24; 25; 26; 27; 28; 29; 30; 31; 32; 33; 34; 35; 36; 37; 38; 39; 40; 41; 42; 43; 44; 45; 46; 47; 48; 49; 50; 51; 52; 53; 54; 55; 56; 57; 58; 59; 60; 61; 62; 63; 64; 65; 66; 67; \n",
      "2021-01-08 06:30:34.970530 DBKGn.DE  ric_i: 19  headline_slice_i: 71  headline_number: 68  not null: 68 2019-10-11 08:32:57.844000+00:00\n",
      "C:/DAN/t_systems/trade_project/backup_headlines/all_headlines_df_2021-01-08_v3.csv\n",
      "C:/DAN/t_systems/trade_project/logger/quasi_logger_2021-01-08_v2.csv\n",
      "20 MRCG.DE\n",
      "\n",
      "is_this_ric_in_all: False   up_to_date_ric: None got successfully news_get_df.shape: 100\n",
      "0; 1; 2; 3; 4; 5; 6; 7; 8; 9; 10; 11; 12; 13; 14; 15; 16; 17; 18; 19; 20; 21; 22; 23; 24; 25; 26; 27; 28; 29; 30; 31; 32; 33; 34; 35; 36; 37; 38; 39; 40; 41; 42; 43; 44; 45; 46; 47; 48; 49; 50; 51; 52; 53; 54; 55; 56; 57; 58; 59; 60; 61; 62; 63; 64; 65; 66; 67; 68; 69; 70; 71; 72; 73; 74; 75; 76; 77; 78; 79; 80; 81; 82; 83; 84; 85; 86; 87; 88; 89; 90; 91; 92; 93; 94; 95; 96; 97; 98; 99; \n",
      "2021-01-08 06:34:20.574755 MRCG.DE  ric_i: 20  headline_slice_i: 1  headline_number: 100  not null: 100 None\n",
      "\n",
      "is_this_ric_in_all: True   up_to_date_ric: 2020-11-17 14:00:34.675000+00:00 got successfully news_get_df.shape: 100\n",
      "0; 1; 2; 3; 4; 5; 6; 7; 8; 9; 10; 11; 12; 13; 14; 15; 16; 17; 18; 19; 20; 21; 22; 23; 24; 25; 26; 27; 28; 29; \n",
      "STORY IS OK: False   ric_now: MRCG.DE   ric_i: 20   story_i: 30\n",
      "'NoneType' object has no attribute 'replace'\n",
      "31; 32; 33; 34; 35; 36; 37; 38; 39; 40; 41; 42; 43; 44; 45; 46; 47; 48; 49; 50; 51; 52; 53; 54; 55; 56; 57; 58; 59; 60; 61; 62; \n",
      "STORY IS OK: False   ric_now: MRCG.DE   ric_i: 20   story_i: 63\n",
      "'NoneType' object has no attribute 'replace'\n",
      "64; 65; 66; 67; 68; 69; 70; 71; 72; 73; 74; 75; 76; 77; 78; 79; 80; 81; 82; 83; 84; 85; 86; 87; 88; 89; 90; 91; 92; 93; 94; 95; 96; 97; 98; 99; \n",
      "2021-01-08 06:38:31.640254 MRCG.DE  ric_i: 20  headline_slice_i: 2  headline_number: 100  not null: 100 2020-11-17 14:00:34.675000+00:00\n",
      "\n",
      "is_this_ric_in_all: True   up_to_date_ric: 2020-10-24 07:43:59.578000+00:00 got successfully news_get_df.shape: 100\n",
      "0; 1; 2; 3; 4; 5; 6; 7; 8; 9; 10; 11; 12; 13; 14; 15; 16; 17; 18; 19; 20; 21; 22; 23; 24; 25; 26; 27; 28; 29; 30; 31; 32; 33; 34; 35; 36; 37; 38; 39; 40; 41; 42; 43; 44; 45; 46; 47; 48; 49; 50; 51; 52; 53; 54; 55; 56; 57; 58; 59; 60; 61; 62; 63; 64; 65; 66; 67; 68; 69; 70; 71; 72; 73; 74; 75; 76; 77; 78; 79; 80; 81; 82; 83; 84; 85; 86; 87; 88; 89; 90; 91; 92; 93; 94; 95; 96; 97; 98; 99; \n",
      "2021-01-08 06:42:43.351919 MRCG.DE  ric_i: 20  headline_slice_i: 3  headline_number: 100  not null: 100 2020-10-24 07:43:59.578000+00:00\n",
      "\n",
      "is_this_ric_in_all: True   up_to_date_ric: 2020-09-16 06:03:11.279000+00:00 got successfully news_get_df.shape: 100\n",
      "0; 1; 2; 3; 4; 5; 6; 7; 8; 9; 10; 11; 12; 13; 14; 15; 16; 17; 18; 19; 20; 21; 22; 23; 24; 25; 26; 27; 28; 29; 30; 31; 32; 33; 34; 35; 36; 37; 38; 39; 40; 41; 42; 43; 44; 45; 46; 47; 48; 49; 50; 51; 52; 53; 54; 55; 56; 57; 58; 59; \n",
      "STORY IS OK: False   ric_now: MRCG.DE   ric_i: 20   story_i: 60\n",
      "'NoneType' object has no attribute 'replace'\n",
      "61; 62; 63; 64; 65; 66; 67; 68; 69; 70; 71; 72; 73; 74; 75; 76; 77; 78; 79; 80; 81; 82; 83; 84; 85; 86; 87; 88; 89; 90; 91; 92; 93; 94; 95; 96; 97; 98; 99; \n",
      "2021-01-08 06:46:58.808748 MRCG.DE  ric_i: 20  headline_slice_i: 4  headline_number: 100  not null: 100 2020-09-16 06:03:11.279000+00:00\n",
      "\n",
      "is_this_ric_in_all: True   up_to_date_ric: 2020-08-06 05:05:14.990000+00:00 got successfully news_get_df.shape: 100\n",
      "0; 1; 2; 3; 4; 5; 6; 7; 8; 9; 10; 11; \n",
      "STORY IS OK: False   ric_now: MRCG.DE   ric_i: 20   story_i: 12\n",
      "'NoneType' object has no attribute 'replace'\n",
      "13; 14; 15; "
     ]
    },
    {
     "name": "stderr",
     "output_type": "stream",
     "text": [
      "2021-01-08 06:48:11,676 P[4228] [MainThread 11800] Backend error. Failed to deserialize backend response. Expected valid JSON. Error: invalid character 'I' looking for beginning of value\n",
      "2021-01-08 06:48:11,677 P[4228] [MainThread 11800] HTTP request failed: EikonError-Backend error. Failed to deserialize backend response. Expected valid JSON. Error: invalid character 'I' looking for beginning of value\n"
     ]
    },
    {
     "name": "stdout",
     "output_type": "stream",
     "text": [
      "\n",
      "STORY IS OK: False   ric_now: MRCG.DE   ric_i: 20   story_i: 16\n",
      "'NoneType' object has no attribute 'replace'\n",
      "17; 18; 19; 20; 21; 22; 23; 24; 25; 26; 27; 28; 29; 30; 31; 32; 33; 34; 35; 36; 37; 38; 39; 40; 41; 42; 43; 44; 45; 46; 47; 48; 49; 50; 51; 52; 53; 54; 55; 56; 57; 58; 59; 60; 61; 62; 63; 64; 65; 66; 67; 68; 69; 70; 71; 72; 73; 74; 75; \n",
      "STORY IS OK: False   ric_now: MRCG.DE   ric_i: 20   story_i: 76\n",
      "'NoneType' object has no attribute 'replace'\n",
      "77; 78; 79; 80; 81; 82; 83; 84; 85; 86; 87; 88; 89; 90; 91; 92; 93; 94; 95; 96; 97; 98; 99; \n",
      "2021-01-08 06:51:15.047731 MRCG.DE  ric_i: 20  headline_slice_i: 5  headline_number: 100  not null: 100 2020-08-06 05:05:14.990000+00:00\n",
      "\n",
      "is_this_ric_in_all: True   up_to_date_ric: 2020-07-01 13:03:24+00:00 got successfully news_get_df.shape: 100\n",
      "0; 1; 2; 3; 4; 5; 6; 7; 8; 9; 10; 11; 12; 13; 14; 15; 16; 17; 18; 19; 20; 21; 22; 23; 24; 25; 26; 27; 28; 29; 30; 31; 32; 33; 34; 35; 36; 37; 38; 39; 40; 41; 42; 43; 44; 45; 46; 47; 48; 49; 50; 51; 52; 53; 54; 55; 56; 57; 58; 59; 60; 61; 62; 63; 64; 65; 66; 67; 68; 69; 70; 71; 72; 73; 74; 75; 76; 77; 78; 79; 80; 81; 82; 83; 84; 85; 86; 87; 88; 89; 90; 91; 92; 93; 94; 95; 96; 97; 98; 99; \n",
      "2021-01-08 06:55:11.257620 MRCG.DE  ric_i: 20  headline_slice_i: 6  headline_number: 100  not null: 100 2020-07-01 13:03:24+00:00\n",
      "\n",
      "is_this_ric_in_all: True   up_to_date_ric: 2020-05-27 13:15:28.510000+00:00 got successfully news_get_df.shape: 100\n",
      "0; 1; 2; 3; 4; 5; 6; 7; 8; 9; 10; 11; 12; 13; 14; 15; 16; 17; 18; 19; 20; 21; 22; 23; 24; 25; 26; 27; 28; 29; 30; 31; 32; 33; 34; 35; 36; 37; 38; 39; 40; 41; 42; 43; 44; 45; 46; 47; 48; 49; 50; 51; 52; 53; 54; 55; 56; 57; 58; 59; 60; 61; 62; 63; 64; 65; 66; 67; 68; 69; 70; 71; 72; 73; 74; 75; 76; 77; 78; 79; 80; 81; 82; 83; 84; 85; 86; 87; 88; 89; 90; 91; 92; 93; 94; 95; 96; 97; 98; 99; \n",
      "2021-01-08 06:59:26.097147 MRCG.DE  ric_i: 20  headline_slice_i: 7  headline_number: 100  not null: 100 2020-05-27 13:15:28.510000+00:00\n",
      "\n",
      "is_this_ric_in_all: True   up_to_date_ric: 2020-05-04 05:40:20.246000+00:00 got successfully news_get_df.shape: 100\n",
      "0; 1; 2; 3; 4; 5; 6; 7; 8; 9; 10; 11; 12; 13; 14; 15; 16; \n",
      "STORY IS OK: False   ric_now: MRCG.DE   ric_i: 20   story_i: 17\n",
      "'NoneType' object has no attribute 'replace'\n",
      "18; 19; 20; 21; 22; 23; 24; 25; 26; 27; 28; 29; 30; 31; 32; 33; 34; 35; 36; 37; 38; 39; 40; 41; 42; 43; 44; 45; 46; 47; 48; 49; 50; 51; 52; 53; 54; 55; 56; 57; 58; 59; 60; 61; 62; 63; 64; 65; 66; 67; 68; 69; 70; 71; 72; 73; 74; 75; 76; 77; 78; \n",
      "STORY IS OK: False   ric_now: MRCG.DE   ric_i: 20   story_i: 79\n",
      "'NoneType' object has no attribute 'replace'\n",
      "80; 81; 82; 83; 84; 85; 86; 87; 88; 89; 90; 91; 92; 93; 94; 95; 96; 97; 98; 99; \n",
      "2021-01-08 07:03:56.910912 MRCG.DE  ric_i: 20  headline_slice_i: 8  headline_number: 100  not null: 100 2020-05-04 05:40:20.246000+00:00\n",
      "\n",
      "is_this_ric_in_all: True   up_to_date_ric: 2020-04-07 12:03:42.498000+00:00 got successfully news_get_df.shape: 100\n",
      "0; 1; 2; 3; 4; 5; 6; 7; 8; 9; 10; 11; 12; 13; 14; 15; 16; 17; 18; 19; 20; 21; 22; 23; 24; 25; 26; 27; 28; 29; 30; 31; 32; 33; 34; 35; 36; 37; 38; 39; 40; 41; 42; 43; \n",
      "STORY IS OK: False   ric_now: MRCG.DE   ric_i: 20   story_i: 44\n",
      "'NoneType' object has no attribute 'replace'\n",
      "45; 46; 47; 48; 49; 50; 51; 52; 53; 54; 55; 56; 57; 58; 59; 60; 61; 62; 63; 64; 65; 66; 67; 68; 69; 70; 71; 72; 73; 74; 75; 76; 77; 78; 79; 80; \n",
      "STORY IS OK: False   ric_now: MRCG.DE   ric_i: 20   story_i: 81\n",
      "'NoneType' object has no attribute 'replace'\n",
      "82; 83; 84; 85; 86; "
     ]
    },
    {
     "name": "stderr",
     "output_type": "stream",
     "text": [
      "2021-01-08 07:08:52,034 P[4228] [MainThread 11800] UDF Core request failed. Gateway Time-out\n",
      "2021-01-08 07:08:52,035 P[4228] [MainThread 11800] HTTP request failed: EikonError-UDF Core request failed. Gateway Time-out\n"
     ]
    },
    {
     "name": "stdout",
     "output_type": "stream",
     "text": [
      "\n",
      "STORY IS OK: False   ric_now: MRCG.DE   ric_i: 20   story_i: 87\n",
      "'NoneType' object has no attribute 'replace'\n",
      "88; 89; 90; 91; 92; 93; 94; 95; 96; 97; 98; 99; \n",
      "2021-01-08 07:09:37.554362 MRCG.DE  ric_i: 20  headline_slice_i: 9  headline_number: 100  not null: 100 2020-04-07 12:03:42.498000+00:00\n",
      "\n",
      "is_this_ric_in_all: True   up_to_date_ric: 2020-03-13 12:01:06.689000+00:00 got successfully news_get_df.shape: 100\n",
      "0; 1; 2; 3; 4; 5; 6; 7; 8; 9; 10; 11; 12; 13; 14; 15; 16; 17; 18; 19; 20; 21; 22; 23; 24; 25; 26; 27; \n",
      "STORY IS OK: False   ric_now: MRCG.DE   ric_i: 20   story_i: 28\n",
      "'NoneType' object has no attribute 'replace'\n",
      "29; 30; 31; 32; 33; 34; 35; 36; 37; 38; 39; 40; \n",
      "STORY IS OK: False   ric_now: MRCG.DE   ric_i: 20   story_i: 41\n",
      "'NoneType' object has no attribute 'replace'\n",
      "42; "
     ]
    },
    {
     "name": "stderr",
     "output_type": "stream",
     "text": [
      "2021-01-08 07:12:21,445 P[4228] [MainThread 11800] UDF Core request failed. Gateway Time-out\n",
      "2021-01-08 07:12:21,446 P[4228] [MainThread 11800] HTTP request failed: EikonError-UDF Core request failed. Gateway Time-out\n"
     ]
    },
    {
     "name": "stdout",
     "output_type": "stream",
     "text": [
      "\n",
      "STORY IS OK: False   ric_now: MRCG.DE   ric_i: 20   story_i: 43\n",
      "'NoneType' object has no attribute 'replace'\n",
      "44; 45; 46; 47; 48; 49; 50; 51; 52; 53; 54; 55; 56; 57; 58; 59; 60; 61; 62; 63; 64; 65; 66; 67; 68; 69; 70; 71; 72; 73; 74; 75; 76; 77; 78; 79; 80; 81; 82; 83; 84; 85; 86; 87; 88; 89; 90; 91; 92; 93; 94; 95; 96; 97; 98; 99; \n",
      "2021-01-08 07:15:02.027285 MRCG.DE  ric_i: 20  headline_slice_i: 10  headline_number: 100  not null: 100 2020-03-13 12:01:06.689000+00:00\n",
      "\n",
      "is_this_ric_in_all: True   up_to_date_ric: 2020-02-21 23:07:52.643000+00:00 got successfully news_get_df.shape: 100\n",
      "0; 1; 2; 3; 4; 5; 6; 7; 8; 9; 10; 11; 12; 13; 14; 15; 16; 17; 18; 19; 20; 21; 22; 23; 24; 25; 26; 27; 28; 29; 30; 31; 32; 33; 34; 35; 36; 37; 38; 39; 40; 41; 42; 43; 44; 45; 46; 47; 48; 49; 50; 51; 52; 53; 54; 55; 56; 57; 58; 59; 60; 61; 62; 63; 64; 65; 66; 67; 68; 69; 70; 71; 72; 73; 74; 75; 76; 77; 78; 79; 80; 81; 82; 83; 84; 85; 86; 87; 88; 89; 90; 91; 92; 93; 94; 95; 96; 97; 98; 99; \n",
      "2021-01-08 07:18:58.588925 MRCG.DE  ric_i: 20  headline_slice_i: 11  headline_number: 100  not null: 100 2020-02-21 23:07:52.643000+00:00\n",
      "\n",
      "is_this_ric_in_all: True   up_to_date_ric: 2019-12-19 13:03:38.217000+00:00 got successfully news_get_df.shape: 100\n",
      "0; 1; 2; 3; 4; 5; 6; 7; "
     ]
    },
    {
     "name": "stderr",
     "output_type": "stream",
     "text": [
      "2021-01-08 07:19:22,785 P[4228] [MainThread 11800] Backend error. 404 Not Found\n",
      "2021-01-08 07:19:22,786 P[4228] [MainThread 11800] HTTP request failed: EikonError-Backend error. 404 Not Found\n"
     ]
    },
    {
     "name": "stdout",
     "output_type": "stream",
     "text": [
      "\n",
      "STORY IS OK: False   ric_now: MRCG.DE   ric_i: 20   story_i: 8\n",
      "'NoneType' object has no attribute 'replace'\n",
      "9; 10; 11; 12; 13; 14; 15; 16; 17; 18; 19; 20; 21; 22; 23; 24; 25; 26; 27; 28; 29; 30; 31; 32; 33; 34; 35; 36; 37; 38; 39; 40; 41; 42; 43; 44; 45; 46; 47; 48; 49; 50; 51; 52; 53; 54; 55; 56; 57; 58; 59; 60; 61; 62; 63; 64; 65; 66; 67; 68; 69; 70; 71; 72; 73; 74; 75; 76; 77; 78; 79; 80; 81; 82; 83; 84; 85; 86; \n",
      "STORY IS OK: False   ric_now: MRCG.DE   ric_i: 20   story_i: 87\n",
      "'NoneType' object has no attribute 'replace'\n",
      "88; 89; 90; 91; 92; 93; 94; 95; 96; 97; 98; 99; \n",
      "2021-01-08 07:23:55.588802 MRCG.DE  ric_i: 20  headline_slice_i: 12  headline_number: 100  not null: 100 2019-12-19 13:03:38.217000+00:00\n",
      "\n",
      "is_this_ric_in_all: True   up_to_date_ric: 2019-11-12 13:04:02+00:00 got successfully news_get_df.shape: 72\n",
      "0; 1; 2; 3; 4; 5; 6; 7; 8; 9; 10; 11; 12; 13; 14; 15; 16; 17; 18; 19; 20; 21; 22; 23; 24; 25; 26; 27; 28; 29; 30; 31; 32; 33; 34; 35; 36; 37; 38; 39; 40; 41; 42; 43; 44; 45; 46; 47; 48; 49; 50; 51; 52; 53; 54; 55; 56; 57; 58; 59; 60; 61; 62; 63; 64; 65; 66; 67; 68; 69; 70; 71; \n",
      "2021-01-08 07:26:46.443251 MRCG.DE  ric_i: 20  headline_slice_i: 13  headline_number: 72  not null: 72 2019-11-12 13:04:02+00:00\n",
      "C:/DAN/t_systems/trade_project/backup_headlines/all_headlines_df_2021-01-08_v4.csv\n",
      "C:/DAN/t_systems/trade_project/logger/quasi_logger_2021-01-08_v3.csv\n",
      "21 HEIG.DE\n",
      "\n",
      "is_this_ric_in_all: False   up_to_date_ric: None got successfully news_get_df.shape: 100\n",
      "0; 1; 2; 3; 4; 5; 6; 7; \n",
      "STORY IS OK: False   ric_now: HEIG.DE   ric_i: 21   story_i: 8\n",
      "'NoneType' object has no attribute 'replace'\n",
      "9; 10; 11; 12; 13; 14; 15; 16; 17; 18; 19; 20; 21; 22; 23; 24; 25; 26; 27; 28; 29; 30; 31; 32; 33; 34; 35; 36; 37; 38; 39; 40; 41; 42; 43; 44; 45; 46; 47; 48; 49; 50; 51; 52; 53; 54; 55; 56; 57; 58; 59; 60; 61; 62; 63; 64; 65; 66; 67; 68; 69; 70; 71; 72; 73; 74; 75; 76; 77; 78; 79; 80; 81; 82; 83; 84; 85; 86; 87; 88; 89; 90; 91; 92; 93; 94; 95; 96; 97; 98; 99; \n",
      "2021-01-08 07:31:06.623358 HEIG.DE  ric_i: 21  headline_slice_i: 1  headline_number: 100  not null: 100 None\n",
      "\n",
      "is_this_ric_in_all: True   up_to_date_ric: 2020-11-05 06:00:55+00:00 got successfully news_get_df.shape: 100\n",
      "0; 1; 2; 3; 4; 5; 6; 7; 8; 9; 10; 11; 12; 13; 14; 15; 16; 17; 18; 19; 20; 21; 22; 23; 24; 25; 26; 27; 28; 29; 30; 31; 32; 33; 34; 35; 36; 37; 38; 39; 40; 41; 42; 43; 44; 45; 46; 47; 48; 49; 50; 51; 52; 53; 54; 55; 56; 57; 58; 59; 60; 61; 62; 63; 64; 65; 66; 67; 68; 69; 70; 71; 72; 73; 74; 75; 76; 77; 78; 79; 80; 81; 82; 83; 84; 85; 86; 87; 88; 89; 90; 91; 92; 93; 94; 95; 96; 97; 98; 99; \n",
      "2021-01-08 07:34:53.963507 HEIG.DE  ric_i: 21  headline_slice_i: 2  headline_number: 100  not null: 100 2020-11-05 06:00:55+00:00\n",
      "\n",
      "is_this_ric_in_all: True   up_to_date_ric: 2020-09-16 11:49:47+00:00 got successfully news_get_df.shape: 100\n",
      "0; 1; 2; 3; 4; 5; 6; 7; 8; 9; 10; 11; 12; 13; 14; 15; 16; 17; 18; 19; 20; 21; 22; 23; \n",
      "STORY IS OK: False   ric_now: HEIG.DE   ric_i: 21   story_i: 24\n",
      "'NoneType' object has no attribute 'replace'\n",
      "25; 26; 27; 28; 29; 30; 31; 32; 33; 34; 35; 36; 37; 38; 39; 40; 41; 42; 43; 44; 45; 46; 47; 48; 49; 50; 51; 52; 53; 54; 55; 56; 57; 58; 59; 60; 61; 62; 63; 64; 65; 66; 67; 68; 69; 70; 71; 72; 73; 74; 75; 76; 77; 78; 79; 80; 81; 82; 83; 84; 85; 86; 87; 88; 89; 90; 91; 92; \n",
      "STORY IS OK: False   ric_now: HEIG.DE   ric_i: 21   story_i: 93\n",
      "'NoneType' object has no attribute 'replace'\n",
      "94; 95; 96; 97; 98; 99; \n",
      "2021-01-08 07:38:52.650629 HEIG.DE  ric_i: 21  headline_slice_i: 3  headline_number: 100  not null: 100 2020-09-16 11:49:47+00:00\n",
      "\n",
      "is_this_ric_in_all: True   up_to_date_ric: 2020-07-15 04:49:25+00:00 got successfully news_get_df.shape: 100\n",
      "0; 1; 2; 3; 4; 5; 6; 7; 8; 9; 10; 11; 12; 13; 14; 15; 16; 17; 18; 19; 20; 21; 22; 23; 24; 25; 26; 27; 28; 29; 30; 31; 32; 33; 34; 35; 36; 37; 38; 39; 40; 41; 42; 43; 44; 45; 46; 47; 48; 49; 50; 51; 52; 53; 54; 55; 56; 57; 58; 59; 60; 61; 62; 63; 64; 65; 66; 67; 68; 69; 70; 71; 72; 73; 74; 75; 76; 77; 78; 79; 80; 81; 82; 83; 84; 85; "
     ]
    },
    {
     "name": "stderr",
     "output_type": "stream",
     "text": [
      "2021-01-08 07:42:42,126 P[4228] [MainThread 11800] Backend error. 503 Service Unavailable\n",
      "2021-01-08 07:42:42,127 P[4228] [MainThread 11800] HTTP request failed: EikonError-Backend error. 503 Service Unavailable\n"
     ]
    },
    {
     "name": "stdout",
     "output_type": "stream",
     "text": [
      "\n",
      "STORY IS OK: False   ric_now: HEIG.DE   ric_i: 21   story_i: 86\n",
      "'NoneType' object has no attribute 'replace'\n",
      "87; 88; 89; 90; 91; 92; 93; 94; 95; 96; 97; 98; 99; \n",
      "2021-01-08 07:43:11.669745 HEIG.DE  ric_i: 21  headline_slice_i: 4  headline_number: 100  not null: 100 2020-07-15 04:49:25+00:00\n",
      "\n",
      "is_this_ric_in_all: True   up_to_date_ric: 2020-06-23 06:01:42+00:00 got successfully news_get_df.shape: 100\n",
      "0; 1; 2; 3; 4; 5; 6; 7; 8; 9; 10; 11; 12; 13; 14; 15; 16; 17; 18; 19; 20; 21; 22; 23; 24; 25; 26; 27; \n",
      "STORY IS OK: False   ric_now: HEIG.DE   ric_i: 21   story_i: 28\n",
      "'NoneType' object has no attribute 'replace'\n",
      "29; 30; 31; 32; 33; 34; 35; 36; 37; 38; 39; 40; 41; 42; 43; 44; 45; 46; 47; 48; 49; 50; 51; 52; 53; 54; 55; 56; 57; 58; 59; 60; 61; 62; 63; 64; 65; 66; 67; 68; 69; 70; 71; 72; 73; 74; 75; 76; 77; \n",
      "STORY IS OK: False   ric_now: HEIG.DE   ric_i: 21   story_i: 78\n",
      "'NoneType' object has no attribute 'replace'\n",
      "79; 80; 81; 82; 83; 84; 85; 86; 87; 88; 89; 90; 91; 92; 93; 94; 95; 96; 97; 98; 99; \n",
      "2021-01-08 07:46:53.733709 HEIG.DE  ric_i: 21  headline_slice_i: 5  headline_number: 100  not null: 100 2020-06-23 06:01:42+00:00\n",
      "\n",
      "is_this_ric_in_all: True   up_to_date_ric: 2020-05-07 06:32:28.405000+00:00 got successfully news_get_df.shape: 100\n",
      "0; 1; 2; 3; 4; 5; 6; 7; 8; 9; 10; 11; 12; 13; 14; 15; 16; 17; 18; 19; 20; 21; 22; 23; 24; 25; 26; 27; 28; 29; 30; 31; 32; 33; 34; 35; 36; 37; 38; \n",
      "STORY IS OK: False   ric_now: HEIG.DE   ric_i: 21   story_i: 39\n",
      "'NoneType' object has no attribute 'replace'\n",
      "40; 41; 42; 43; 44; 45; 46; 47; 48; 49; 50; 51; 52; 53; 54; 55; 56; 57; 58; 59; 60; 61; 62; 63; 64; 65; 66; 67; 68; 69; \n",
      "STORY IS OK: False   ric_now: HEIG.DE   ric_i: 21   story_i: 70\n",
      "'NoneType' object has no attribute 'replace'\n",
      "71; 72; 73; 74; 75; 76; 77; 78; 79; 80; 81; 82; 83; 84; 85; 86; 87; 88; 89; 90; 91; 92; 93; 94; 95; 96; 97; 98; 99; \n",
      "2021-01-08 07:51:30.915753 HEIG.DE  ric_i: 21  headline_slice_i: 6  headline_number: 100  not null: 100 2020-05-07 06:32:28.405000+00:00\n",
      "\n",
      "is_this_ric_in_all: True   up_to_date_ric: 2020-04-02 07:33:22+00:00 got successfully news_get_df.shape: 100\n",
      "0; 1; 2; 3; 4; 5; 6; 7; 8; 9; 10; 11; 12; 13; 14; 15; 16; 17; 18; 19; 20; 21; 22; 23; 24; 25; 26; 27; 28; 29; 30; 31; 32; \n",
      "STORY IS OK: False   ric_now: HEIG.DE   ric_i: 21   story_i: 33\n",
      "'NoneType' object has no attribute 'replace'\n",
      "34; 35; 36; 37; 38; 39; 40; 41; 42; 43; 44; 45; 46; 47; 48; 49; 50; 51; 52; 53; 54; 55; 56; 57; \n",
      "STORY IS OK: False   ric_now: HEIG.DE   ric_i: 21   story_i: 58\n",
      "'NoneType' object has no attribute 'replace'\n",
      "59; 60; 61; 62; 63; 64; 65; 66; 67; 68; 69; 70; 71; 72; 73; 74; 75; 76; 77; 78; 79; 80; 81; 82; 83; 84; 85; 86; 87; 88; 89; 90; 91; 92; 93; 94; 95; 96; 97; 98; 99; \n",
      "2021-01-08 07:55:46.378420 HEIG.DE  ric_i: 21  headline_slice_i: 7  headline_number: 100  not null: 100 2020-04-02 07:33:22+00:00\n",
      "\n",
      "is_this_ric_in_all: True   up_to_date_ric: 2020-03-02 09:23:00.723000+00:00 got successfully news_get_df.shape: 100\n",
      "0; 1; 2; 3; 4; 5; 6; 7; 8; 9; 10; 11; 12; 13; 14; 15; 16; 17; 18; 19; 20; 21; 22; 23; 24; 25; 26; 27; 28; 29; 30; 31; 32; 33; 34; 35; 36; 37; 38; 39; 40; 41; 42; 43; 44; 45; 46; 47; 48; 49; 50; 51; 52; 53; 54; 55; 56; 57; 58; 59; 60; 61; 62; 63; 64; 65; 66; 67; 68; 69; 70; 71; 72; 73; 74; 75; 76; 77; 78; 79; 80; 81; 82; 83; 84; 85; 86; 87; 88; 89; 90; 91; 92; 93; 94; 95; 96; 97; 98; 99; \n",
      "2021-01-08 07:59:51.681235 HEIG.DE  ric_i: 21  headline_slice_i: 8  headline_number: 100  not null: 100 2020-03-02 09:23:00.723000+00:00\n",
      "\n",
      "is_this_ric_in_all: True   up_to_date_ric: 2019-12-16 06:05:24.113000+00:00 got successfully news_get_df.shape: 97\n",
      "0; 1; 2; 3; 4; 5; 6; 7; 8; 9; \n",
      "STORY IS OK: False   ric_now: HEIG.DE   ric_i: 21   story_i: 10\n",
      "'NoneType' object has no attribute 'replace'\n",
      "11; 12; 13; 14; 15; 16; 17; 18; 19; 20; 21; 22; 23; 24; 25; 26; 27; 28; 29; 30; 31; 32; 33; 34; 35; 36; 37; 38; 39; 40; 41; 42; 43; 44; \n",
      "STORY IS OK: False   ric_now: HEIG.DE   ric_i: 21   story_i: 45\n",
      "'NoneType' object has no attribute 'replace'\n",
      "46; 47; 48; 49; 50; 51; 52; 53; 54; 55; 56; 57; 58; 59; 60; 61; 62; 63; 64; 65; 66; 67; 68; 69; 70; 71; 72; 73; 74; 75; 76; 77; 78; 79; 80; 81; 82; 83; 84; 85; 86; 87; 88; 89; 90; 91; 92; 93; 94; 95; 96; \n",
      "2021-01-08 08:04:18.796311 HEIG.DE  ric_i: 21  headline_slice_i: 9  headline_number: 97  not null: 97 2019-12-16 06:05:24.113000+00:00\n",
      "C:/DAN/t_systems/trade_project/backup_headlines/all_headlines_df_2021-01-08_v5.csv\n",
      "C:/DAN/t_systems/trade_project/logger/quasi_logger_2021-01-08_v4.csv\n",
      "22 CBKG.DE\n",
      "\n",
      "is_this_ric_in_all: False   up_to_date_ric: None got successfully news_get_df.shape: 100\n",
      "0; 1; 2; 3; 4; 5; 6; 7; 8; 9; 10; 11; 12; 13; 14; 15; 16; 17; 18; 19; 20; 21; 22; 23; 24; 25; 26; 27; 28; 29; 30; 31; 32; 33; 34; 35; 36; 37; 38; 39; 40; 41; 42; 43; 44; 45; 46; 47; 48; 49; 50; 51; 52; 53; 54; 55; 56; 57; 58; 59; 60; 61; 62; 63; 64; 65; 66; 67; 68; 69; 70; 71; 72; 73; 74; 75; 76; 77; 78; 79; 80; 81; 82; 83; 84; 85; 86; 87; 88; 89; 90; 91; 92; 93; 94; 95; 96; 97; \n",
      "STORY IS OK: False   ric_now: CBKG.DE   ric_i: 22   story_i: 98\n",
      "'NoneType' object has no attribute 'replace'\n",
      "99; \n",
      "2021-01-08 08:08:52.403499 CBKG.DE  ric_i: 22  headline_slice_i: 1  headline_number: 100  not null: 100 None\n",
      "\n",
      "is_this_ric_in_all: True   up_to_date_ric: 2020-12-08 05:25:47.008000+00:00 got successfully news_get_df.shape: 100\n",
      "0; 1; 2; 3; 4; 5; 6; 7; 8; 9; 10; 11; 12; 13; 14; 15; 16; 17; 18; 19; 20; 21; 22; 23; 24; 25; 26; 27; 28; 29; 30; 31; 32; 33; 34; 35; 36; 37; 38; 39; 40; 41; 42; 43; 44; 45; 46; 47; 48; 49; 50; 51; 52; 53; 54; 55; 56; 57; 58; 59; 60; 61; 62; 63; 64; 65; 66; 67; 68; 69; 70; 71; 72; 73; 74; 75; 76; 77; 78; 79; 80; 81; 82; 83; 84; 85; 86; 87; 88; 89; 90; 91; 92; 93; 94; 95; 96; 97; 98; 99; \n",
      "2021-01-08 08:13:00.524922 CBKG.DE  ric_i: 22  headline_slice_i: 2  headline_number: 100  not null: 100 2020-12-08 05:25:47.008000+00:00\n",
      "\n",
      "is_this_ric_in_all: True   up_to_date_ric: 2020-11-17 13:21:42+00:00 got successfully news_get_df.shape: 100\n",
      "0; 1; 2; 3; 4; 5; 6; 7; 8; 9; 10; 11; 12; 13; 14; 15; 16; 17; 18; 19; 20; 21; 22; 23; 24; 25; 26; 27; 28; 29; 30; 31; 32; 33; 34; 35; 36; 37; 38; 39; 40; 41; 42; 43; 44; 45; 46; 47; 48; 49; 50; 51; 52; 53; 54; 55; 56; \n",
      "STORY IS OK: False   ric_now: CBKG.DE   ric_i: 22   story_i: 57\n",
      "'NoneType' object has no attribute 'replace'\n",
      "58; 59; 60; 61; 62; 63; 64; 65; 66; 67; 68; 69; 70; 71; 72; 73; 74; 75; 76; 77; 78; 79; 80; 81; 82; 83; 84; 85; 86; 87; 88; 89; 90; 91; 92; 93; 94; 95; 96; 97; 98; 99; \n",
      "2021-01-08 08:17:27.924995 CBKG.DE  ric_i: 22  headline_slice_i: 3  headline_number: 100  not null: 100 2020-11-17 13:21:42+00:00\n",
      "\n",
      "is_this_ric_in_all: True   up_to_date_ric: 2020-11-05 06:02:09.637000+00:00 got successfully news_get_df.shape: 100\n",
      "0; 1; 2; 3; 4; 5; 6; 7; 8; 9; 10; 11; 12; 13; 14; 15; 16; 17; 18; 19; 20; 21; 22; 23; 24; 25; 26; 27; 28; 29; 30; 31; 32; 33; 34; 35; 36; 37; 38; 39; 40; 41; 42; 43; 44; 45; 46; 47; 48; 49; 50; 51; 52; 53; 54; 55; 56; 57; 58; 59; 60; 61; 62; 63; 64; 65; 66; 67; 68; 69; 70; 71; 72; 73; 74; 75; 76; 77; 78; 79; 80; 81; 82; 83; 84; 85; 86; 87; 88; 89; 90; 91; 92; 93; 94; 95; 96; \n",
      "STORY IS OK: False   ric_now: CBKG.DE   ric_i: 22   story_i: 97\n",
      "'NoneType' object has no attribute 'replace'\n",
      "98; \n",
      "STORY IS OK: False   ric_now: CBKG.DE   ric_i: 22   story_i: 99\n",
      "'NoneType' object has no attribute 'replace'\n",
      "\n",
      "2021-01-08 08:22:30.043794 CBKG.DE  ric_i: 22  headline_slice_i: 4  headline_number: 100  not null: 100 2020-11-05 06:02:09.637000+00:00\n",
      "\n",
      "is_this_ric_in_all: True   up_to_date_ric: 2020-10-16 03:10:49.482000+00:00 got successfully news_get_df.shape: 100\n",
      "0; 1; 2; 3; 4; 5; 6; 7; 8; 9; 10; 11; 12; 13; 14; 15; 16; 17; 18; 19; 20; 21; 22; 23; 24; 25; 26; 27; 28; 29; 30; 31; 32; 33; 34; 35; 36; 37; 38; 39; 40; 41; 42; 43; 44; "
     ]
    },
    {
     "name": "stderr",
     "output_type": "stream",
     "text": [
      "2021-01-08 08:24:28,107 P[4228] [MainThread 11800] UDF Core request failed. Gateway Time-out\n",
      "2021-01-08 08:24:28,108 P[4228] [MainThread 11800] HTTP request failed: EikonError-UDF Core request failed. Gateway Time-out\n"
     ]
    },
    {
     "name": "stdout",
     "output_type": "stream",
     "text": [
      "\n",
      "STORY IS OK: False   ric_now: CBKG.DE   ric_i: 22   story_i: 45\n",
      "'NoneType' object has no attribute 'replace'\n",
      "46; 47; 48; 49; 50; 51; 52; 53; 54; 55; 56; 57; 58; 59; 60; 61; 62; 63; 64; 65; 66; 67; 68; 69; 70; 71; 72; 73; 74; 75; 76; 77; 78; 79; 80; 81; 82; 83; 84; 85; 86; 87; 88; 89; 90; 91; 92; 93; 94; 95; 96; 97; 98; 99; \n",
      "2021-01-08 08:26:24.248640 CBKG.DE  ric_i: 22  headline_slice_i: 5  headline_number: 100  not null: 100 2020-10-16 03:10:49.482000+00:00\n",
      "\n",
      "is_this_ric_in_all: True   up_to_date_ric: 2020-09-28 06:01:56+00:00 got successfully news_get_df.shape: 100\n",
      "0; 1; 2; 3; 4; 5; 6; 7; 8; 9; 10; 11; 12; 13; 14; 15; 16; 17; 18; 19; 20; 21; 22; 23; 24; 25; 26; 27; 28; 29; 30; 31; 32; 33; 34; 35; 36; 37; 38; 39; 40; 41; 42; 43; 44; 45; 46; 47; 48; 49; 50; 51; 52; 53; 54; 55; 56; 57; 58; 59; 60; 61; 62; 63; 64; 65; 66; 67; 68; 69; 70; 71; 72; 73; 74; 75; 76; 77; 78; 79; 80; 81; 82; 83; 84; 85; 86; 87; 88; 89; 90; 91; 92; 93; 94; 95; 96; 97; 98; 99; \n",
      "2021-01-08 08:29:52.494967 CBKG.DE  ric_i: 22  headline_slice_i: 6  headline_number: 100  not null: 100 2020-09-28 06:01:56+00:00\n",
      "\n",
      "is_this_ric_in_all: True   up_to_date_ric: 2020-09-18 11:14:09.652000+00:00 got successfully news_get_df.shape: 100\n",
      "0; 1; 2; 3; 4; 5; 6; 7; 8; 9; 10; 11; 12; 13; 14; 15; 16; 17; 18; 19; 20; 21; 22; 23; 24; 25; 26; 27; 28; 29; 30; 31; 32; 33; 34; 35; 36; 37; 38; 39; 40; 41; 42; 43; 44; 45; 46; 47; 48; 49; 50; 51; 52; 53; 54; 55; 56; 57; 58; 59; 60; 61; 62; 63; 64; \n",
      "STORY IS OK: False   ric_now: CBKG.DE   ric_i: 22   story_i: 65\n",
      "'NoneType' object has no attribute 'replace'\n"
     ]
    },
    {
     "name": "stderr",
     "output_type": "stream",
     "text": [
      "2021-01-08 08:32:16,783 P[4228] [MainThread 11800] Error code 429 | Client Error: Too many requests, please try again later. Wait for 55664 seconds.\n",
      "2021-01-08 08:32:16,784 P[4228] [MainThread 11800] HTTP request failed: EikonError-Client Error: Too many requests, please try again later. Wait for 55664 seconds.\n"
     ]
    },
    {
     "name": "stdout",
     "output_type": "stream",
     "text": [
      "\n",
      "STORY IS OK: False   ric_now: CBKG.DE   ric_i: 22   story_i: 66\n",
      "'NoneType' object has no attribute 'replace'\n"
     ]
    },
    {
     "name": "stderr",
     "output_type": "stream",
     "text": [
      "2021-01-08 08:32:21,815 P[4228] [MainThread 11800] Error code 429 | Client Error: Too many requests, please try again later. Wait for 55659 seconds.\n",
      "2021-01-08 08:32:21,816 P[4228] [MainThread 11800] HTTP request failed: EikonError-Client Error: Too many requests, please try again later. Wait for 55659 seconds.\n"
     ]
    },
    {
     "name": "stdout",
     "output_type": "stream",
     "text": [
      "\n",
      "STORY IS OK: False   ric_now: CBKG.DE   ric_i: 22   story_i: 67\n",
      "'NoneType' object has no attribute 'replace'\n"
     ]
    },
    {
     "name": "stderr",
     "output_type": "stream",
     "text": [
      "2021-01-08 08:32:26,849 P[4228] [MainThread 11800] Error code 429 | Client Error: Too many requests, please try again later. Wait for 55654 seconds.\n",
      "2021-01-08 08:32:26,851 P[4228] [MainThread 11800] HTTP request failed: EikonError-Client Error: Too many requests, please try again later. Wait for 55654 seconds.\n"
     ]
    },
    {
     "name": "stdout",
     "output_type": "stream",
     "text": [
      "\n",
      "STORY IS OK: False   ric_now: CBKG.DE   ric_i: 22   story_i: 68\n",
      "'NoneType' object has no attribute 'replace'\n"
     ]
    },
    {
     "name": "stderr",
     "output_type": "stream",
     "text": [
      "2021-01-08 08:32:31,884 P[4228] [MainThread 11800] Error code 429 | Client Error: Too many requests, please try again later. Wait for 55649 seconds.\n",
      "2021-01-08 08:32:31,885 P[4228] [MainThread 11800] HTTP request failed: EikonError-Client Error: Too many requests, please try again later. Wait for 55649 seconds.\n"
     ]
    },
    {
     "name": "stdout",
     "output_type": "stream",
     "text": [
      "\n",
      "STORY IS OK: False   ric_now: CBKG.DE   ric_i: 22   story_i: 69\n",
      "'NoneType' object has no attribute 'replace'\n"
     ]
    },
    {
     "name": "stderr",
     "output_type": "stream",
     "text": [
      "2021-01-08 08:32:36,913 P[4228] [MainThread 11800] Error code 429 | Client Error: Too many requests, please try again later. Wait for 55644 seconds.\n",
      "2021-01-08 08:32:36,914 P[4228] [MainThread 11800] HTTP request failed: EikonError-Client Error: Too many requests, please try again later. Wait for 55644 seconds.\n"
     ]
    },
    {
     "name": "stdout",
     "output_type": "stream",
     "text": [
      "\n",
      "STORY IS OK: False   ric_now: CBKG.DE   ric_i: 22   story_i: 70\n",
      "'NoneType' object has no attribute 'replace'\n"
     ]
    },
    {
     "name": "stderr",
     "output_type": "stream",
     "text": [
      "2021-01-08 08:32:41,940 P[4228] [MainThread 11800] Error code 429 | Client Error: Too many requests, please try again later. Wait for 55639 seconds.\n",
      "2021-01-08 08:32:41,940 P[4228] [MainThread 11800] HTTP request failed: EikonError-Client Error: Too many requests, please try again later. Wait for 55639 seconds.\n"
     ]
    },
    {
     "name": "stdout",
     "output_type": "stream",
     "text": [
      "\n",
      "STORY IS OK: False   ric_now: CBKG.DE   ric_i: 22   story_i: 71\n",
      "'NoneType' object has no attribute 'replace'\n"
     ]
    },
    {
     "name": "stderr",
     "output_type": "stream",
     "text": [
      "2021-01-08 08:32:46,972 P[4228] [MainThread 11800] Error code 429 | Client Error: Too many requests, please try again later. Wait for 55634 seconds.\n",
      "2021-01-08 08:32:46,974 P[4228] [MainThread 11800] HTTP request failed: EikonError-Client Error: Too many requests, please try again later. Wait for 55634 seconds.\n"
     ]
    },
    {
     "name": "stdout",
     "output_type": "stream",
     "text": [
      "\n",
      "STORY IS OK: False   ric_now: CBKG.DE   ric_i: 22   story_i: 72\n",
      "'NoneType' object has no attribute 'replace'\n"
     ]
    },
    {
     "name": "stderr",
     "output_type": "stream",
     "text": [
      "2021-01-08 08:32:51,994 P[4228] [MainThread 11800] Error code 429 | Client Error: Too many requests, please try again later. Wait for 55629 seconds.\n",
      "2021-01-08 08:32:51,995 P[4228] [MainThread 11800] HTTP request failed: EikonError-Client Error: Too many requests, please try again later. Wait for 55629 seconds.\n"
     ]
    },
    {
     "name": "stdout",
     "output_type": "stream",
     "text": [
      "\n",
      "STORY IS OK: False   ric_now: CBKG.DE   ric_i: 22   story_i: 73\n",
      "'NoneType' object has no attribute 'replace'\n"
     ]
    },
    {
     "name": "stderr",
     "output_type": "stream",
     "text": [
      "2021-01-08 08:32:57,025 P[4228] [MainThread 11800] Error code 429 | Client Error: Too many requests, please try again later. Wait for 55623 seconds.\n",
      "2021-01-08 08:32:57,026 P[4228] [MainThread 11800] HTTP request failed: EikonError-Client Error: Too many requests, please try again later. Wait for 55623 seconds.\n"
     ]
    },
    {
     "name": "stdout",
     "output_type": "stream",
     "text": [
      "\n",
      "STORY IS OK: False   ric_now: CBKG.DE   ric_i: 22   story_i: 74\n",
      "'NoneType' object has no attribute 'replace'\n"
     ]
    },
    {
     "name": "stderr",
     "output_type": "stream",
     "text": [
      "2021-01-08 08:33:02,053 P[4228] [MainThread 11800] Error code 429 | Client Error: Too many requests, please try again later. Wait for 55618 seconds.\n",
      "2021-01-08 08:33:02,055 P[4228] [MainThread 11800] HTTP request failed: EikonError-Client Error: Too many requests, please try again later. Wait for 55618 seconds.\n"
     ]
    },
    {
     "name": "stdout",
     "output_type": "stream",
     "text": [
      "\n",
      "STORY IS OK: False   ric_now: CBKG.DE   ric_i: 22   story_i: 75\n",
      "'NoneType' object has no attribute 'replace'\n"
     ]
    },
    {
     "name": "stderr",
     "output_type": "stream",
     "text": [
      "2021-01-08 08:33:07,081 P[4228] [MainThread 11800] Error code 429 | Client Error: Too many requests, please try again later. Wait for 55613 seconds.\n",
      "2021-01-08 08:33:07,082 P[4228] [MainThread 11800] HTTP request failed: EikonError-Client Error: Too many requests, please try again later. Wait for 55613 seconds.\n"
     ]
    },
    {
     "name": "stdout",
     "output_type": "stream",
     "text": [
      "\n",
      "STORY IS OK: False   ric_now: CBKG.DE   ric_i: 22   story_i: 76\n",
      "'NoneType' object has no attribute 'replace'\n"
     ]
    },
    {
     "name": "stderr",
     "output_type": "stream",
     "text": [
      "2021-01-08 08:33:12,112 P[4228] [MainThread 11800] Error code 429 | Client Error: Too many requests, please try again later. Wait for 55608 seconds.\n",
      "2021-01-08 08:33:12,114 P[4228] [MainThread 11800] HTTP request failed: EikonError-Client Error: Too many requests, please try again later. Wait for 55608 seconds.\n"
     ]
    },
    {
     "name": "stdout",
     "output_type": "stream",
     "text": [
      "\n",
      "STORY IS OK: False   ric_now: CBKG.DE   ric_i: 22   story_i: 77\n",
      "'NoneType' object has no attribute 'replace'\n"
     ]
    },
    {
     "name": "stderr",
     "output_type": "stream",
     "text": [
      "2021-01-08 08:33:17,146 P[4228] [MainThread 11800] Error code 429 | Client Error: Too many requests, please try again later. Wait for 55603 seconds.\n",
      "2021-01-08 08:33:17,147 P[4228] [MainThread 11800] HTTP request failed: EikonError-Client Error: Too many requests, please try again later. Wait for 55603 seconds.\n"
     ]
    },
    {
     "name": "stdout",
     "output_type": "stream",
     "text": [
      "\n",
      "STORY IS OK: False   ric_now: CBKG.DE   ric_i: 22   story_i: 78\n",
      "'NoneType' object has no attribute 'replace'\n"
     ]
    },
    {
     "name": "stderr",
     "output_type": "stream",
     "text": [
      "2021-01-08 08:33:22,171 P[4228] [MainThread 11800] Error code 429 | Client Error: Too many requests, please try again later. Wait for 55598 seconds.\n",
      "2021-01-08 08:33:22,172 P[4228] [MainThread 11800] HTTP request failed: EikonError-Client Error: Too many requests, please try again later. Wait for 55598 seconds.\n"
     ]
    },
    {
     "name": "stdout",
     "output_type": "stream",
     "text": [
      "\n",
      "STORY IS OK: False   ric_now: CBKG.DE   ric_i: 22   story_i: 79\n",
      "'NoneType' object has no attribute 'replace'\n"
     ]
    },
    {
     "name": "stderr",
     "output_type": "stream",
     "text": [
      "2021-01-08 08:33:27,203 P[4228] [MainThread 11800] Error code 429 | Client Error: Too many requests, please try again later. Wait for 55593 seconds.\n",
      "2021-01-08 08:33:27,204 P[4228] [MainThread 11800] HTTP request failed: EikonError-Client Error: Too many requests, please try again later. Wait for 55593 seconds.\n"
     ]
    },
    {
     "name": "stdout",
     "output_type": "stream",
     "text": [
      "\n",
      "STORY IS OK: False   ric_now: CBKG.DE   ric_i: 22   story_i: 80\n",
      "'NoneType' object has no attribute 'replace'\n"
     ]
    },
    {
     "name": "stderr",
     "output_type": "stream",
     "text": [
      "2021-01-08 08:33:32,227 P[4228] [MainThread 11800] Error code 429 | Client Error: Too many requests, please try again later. Wait for 55588 seconds.\n",
      "2021-01-08 08:33:32,228 P[4228] [MainThread 11800] HTTP request failed: EikonError-Client Error: Too many requests, please try again later. Wait for 55588 seconds.\n"
     ]
    },
    {
     "name": "stdout",
     "output_type": "stream",
     "text": [
      "\n",
      "STORY IS OK: False   ric_now: CBKG.DE   ric_i: 22   story_i: 81\n",
      "'NoneType' object has no attribute 'replace'\n"
     ]
    },
    {
     "name": "stderr",
     "output_type": "stream",
     "text": [
      "2021-01-08 08:33:37,252 P[4228] [MainThread 11800] Error code 429 | Client Error: Too many requests, please try again later. Wait for 55583 seconds.\n",
      "2021-01-08 08:33:37,253 P[4228] [MainThread 11800] HTTP request failed: EikonError-Client Error: Too many requests, please try again later. Wait for 55583 seconds.\n"
     ]
    },
    {
     "name": "stdout",
     "output_type": "stream",
     "text": [
      "\n",
      "STORY IS OK: False   ric_now: CBKG.DE   ric_i: 22   story_i: 82\n",
      "'NoneType' object has no attribute 'replace'\n"
     ]
    },
    {
     "name": "stderr",
     "output_type": "stream",
     "text": [
      "2021-01-08 08:33:42,288 P[4228] [MainThread 11800] Error code 429 | Client Error: Too many requests, please try again later. Wait for 55578 seconds.\n",
      "2021-01-08 08:33:42,289 P[4228] [MainThread 11800] HTTP request failed: EikonError-Client Error: Too many requests, please try again later. Wait for 55578 seconds.\n"
     ]
    },
    {
     "name": "stdout",
     "output_type": "stream",
     "text": [
      "\n",
      "STORY IS OK: False   ric_now: CBKG.DE   ric_i: 22   story_i: 83\n",
      "'NoneType' object has no attribute 'replace'\n"
     ]
    },
    {
     "name": "stderr",
     "output_type": "stream",
     "text": [
      "2021-01-08 08:33:47,319 P[4228] [MainThread 11800] Error code 429 | Client Error: Too many requests, please try again later. Wait for 55573 seconds.\n",
      "2021-01-08 08:33:47,319 P[4228] [MainThread 11800] HTTP request failed: EikonError-Client Error: Too many requests, please try again later. Wait for 55573 seconds.\n"
     ]
    },
    {
     "name": "stdout",
     "output_type": "stream",
     "text": [
      "\n",
      "STORY IS OK: False   ric_now: CBKG.DE   ric_i: 22   story_i: 84\n",
      "'NoneType' object has no attribute 'replace'\n"
     ]
    },
    {
     "name": "stderr",
     "output_type": "stream",
     "text": [
      "2021-01-08 08:33:52,343 P[4228] [MainThread 11800] Error code 429 | Client Error: Too many requests, please try again later. Wait for 55568 seconds.\n",
      "2021-01-08 08:33:52,344 P[4228] [MainThread 11800] HTTP request failed: EikonError-Client Error: Too many requests, please try again later. Wait for 55568 seconds.\n"
     ]
    },
    {
     "name": "stdout",
     "output_type": "stream",
     "text": [
      "\n",
      "STORY IS OK: False   ric_now: CBKG.DE   ric_i: 22   story_i: 85\n",
      "'NoneType' object has no attribute 'replace'\n"
     ]
    },
    {
     "name": "stderr",
     "output_type": "stream",
     "text": [
      "2021-01-08 08:33:57,368 P[4228] [MainThread 11800] Error code 429 | Client Error: Too many requests, please try again later. Wait for 55563 seconds.\n",
      "2021-01-08 08:33:57,368 P[4228] [MainThread 11800] HTTP request failed: EikonError-Client Error: Too many requests, please try again later. Wait for 55563 seconds.\n"
     ]
    },
    {
     "name": "stdout",
     "output_type": "stream",
     "text": [
      "\n",
      "STORY IS OK: False   ric_now: CBKG.DE   ric_i: 22   story_i: 86\n",
      "'NoneType' object has no attribute 'replace'\n"
     ]
    },
    {
     "name": "stderr",
     "output_type": "stream",
     "text": [
      "2021-01-08 08:34:02,394 P[4228] [MainThread 11800] Error code 429 | Client Error: Too many requests, please try again later. Wait for 55558 seconds.\n",
      "2021-01-08 08:34:02,395 P[4228] [MainThread 11800] HTTP request failed: EikonError-Client Error: Too many requests, please try again later. Wait for 55558 seconds.\n"
     ]
    },
    {
     "name": "stdout",
     "output_type": "stream",
     "text": [
      "\n",
      "STORY IS OK: False   ric_now: CBKG.DE   ric_i: 22   story_i: 87\n",
      "'NoneType' object has no attribute 'replace'\n"
     ]
    },
    {
     "name": "stderr",
     "output_type": "stream",
     "text": [
      "2021-01-08 08:34:07,422 P[4228] [MainThread 11800] Error code 429 | Client Error: Too many requests, please try again later. Wait for 55553 seconds.\n",
      "2021-01-08 08:34:07,423 P[4228] [MainThread 11800] HTTP request failed: EikonError-Client Error: Too many requests, please try again later. Wait for 55553 seconds.\n"
     ]
    },
    {
     "name": "stdout",
     "output_type": "stream",
     "text": [
      "\n",
      "STORY IS OK: False   ric_now: CBKG.DE   ric_i: 22   story_i: 88\n",
      "'NoneType' object has no attribute 'replace'\n"
     ]
    },
    {
     "name": "stderr",
     "output_type": "stream",
     "text": [
      "2021-01-08 08:34:12,448 P[4228] [MainThread 11800] Error code 429 | Client Error: Too many requests, please try again later. Wait for 55548 seconds.\n",
      "2021-01-08 08:34:12,448 P[4228] [MainThread 11800] HTTP request failed: EikonError-Client Error: Too many requests, please try again later. Wait for 55548 seconds.\n"
     ]
    },
    {
     "name": "stdout",
     "output_type": "stream",
     "text": [
      "\n",
      "STORY IS OK: False   ric_now: CBKG.DE   ric_i: 22   story_i: 89\n",
      "'NoneType' object has no attribute 'replace'\n"
     ]
    },
    {
     "name": "stderr",
     "output_type": "stream",
     "text": [
      "2021-01-08 08:34:17,472 P[4228] [MainThread 11800] Error code 429 | Client Error: Too many requests, please try again later. Wait for 55543 seconds.\n",
      "2021-01-08 08:34:17,473 P[4228] [MainThread 11800] HTTP request failed: EikonError-Client Error: Too many requests, please try again later. Wait for 55543 seconds.\n"
     ]
    },
    {
     "name": "stdout",
     "output_type": "stream",
     "text": [
      "\n",
      "STORY IS OK: False   ric_now: CBKG.DE   ric_i: 22   story_i: 90\n",
      "'NoneType' object has no attribute 'replace'\n"
     ]
    },
    {
     "name": "stderr",
     "output_type": "stream",
     "text": [
      "2021-01-08 08:34:22,506 P[4228] [MainThread 11800] Error code 429 | Client Error: Too many requests, please try again later. Wait for 55538 seconds.\n",
      "2021-01-08 08:34:22,508 P[4228] [MainThread 11800] HTTP request failed: EikonError-Client Error: Too many requests, please try again later. Wait for 55538 seconds.\n"
     ]
    },
    {
     "name": "stdout",
     "output_type": "stream",
     "text": [
      "\n",
      "STORY IS OK: False   ric_now: CBKG.DE   ric_i: 22   story_i: 91\n",
      "'NoneType' object has no attribute 'replace'\n"
     ]
    },
    {
     "name": "stderr",
     "output_type": "stream",
     "text": [
      "2021-01-08 08:34:27,536 P[4228] [MainThread 11800] Error code 429 | Client Error: Too many requests, please try again later. Wait for 55533 seconds.\n",
      "2021-01-08 08:34:27,537 P[4228] [MainThread 11800] HTTP request failed: EikonError-Client Error: Too many requests, please try again later. Wait for 55533 seconds.\n"
     ]
    },
    {
     "name": "stdout",
     "output_type": "stream",
     "text": [
      "\n",
      "STORY IS OK: False   ric_now: CBKG.DE   ric_i: 22   story_i: 92\n",
      "'NoneType' object has no attribute 'replace'\n"
     ]
    },
    {
     "name": "stderr",
     "output_type": "stream",
     "text": [
      "2021-01-08 08:34:32,569 P[4228] [MainThread 11800] Error code 429 | Client Error: Too many requests, please try again later. Wait for 55528 seconds.\n",
      "2021-01-08 08:34:32,569 P[4228] [MainThread 11800] HTTP request failed: EikonError-Client Error: Too many requests, please try again later. Wait for 55528 seconds.\n"
     ]
    },
    {
     "name": "stdout",
     "output_type": "stream",
     "text": [
      "\n",
      "STORY IS OK: False   ric_now: CBKG.DE   ric_i: 22   story_i: 93\n",
      "'NoneType' object has no attribute 'replace'\n"
     ]
    },
    {
     "name": "stderr",
     "output_type": "stream",
     "text": [
      "2021-01-08 08:34:37,590 P[4228] [MainThread 11800] Error code 429 | Client Error: Too many requests, please try again later. Wait for 55523 seconds.\n",
      "2021-01-08 08:34:37,591 P[4228] [MainThread 11800] HTTP request failed: EikonError-Client Error: Too many requests, please try again later. Wait for 55523 seconds.\n"
     ]
    },
    {
     "name": "stdout",
     "output_type": "stream",
     "text": [
      "\n",
      "STORY IS OK: False   ric_now: CBKG.DE   ric_i: 22   story_i: 94\n",
      "'NoneType' object has no attribute 'replace'\n"
     ]
    },
    {
     "name": "stderr",
     "output_type": "stream",
     "text": [
      "2021-01-08 08:34:42,622 P[4228] [MainThread 11800] Error code 429 | Client Error: Too many requests, please try again later. Wait for 55518 seconds.\n",
      "2021-01-08 08:34:42,622 P[4228] [MainThread 11800] HTTP request failed: EikonError-Client Error: Too many requests, please try again later. Wait for 55518 seconds.\n"
     ]
    },
    {
     "name": "stdout",
     "output_type": "stream",
     "text": [
      "\n",
      "STORY IS OK: False   ric_now: CBKG.DE   ric_i: 22   story_i: 95\n",
      "'NoneType' object has no attribute 'replace'\n"
     ]
    },
    {
     "name": "stderr",
     "output_type": "stream",
     "text": [
      "2021-01-08 08:34:47,651 P[4228] [MainThread 11800] Error code 429 | Client Error: Too many requests, please try again later. Wait for 55513 seconds.\n",
      "2021-01-08 08:34:47,653 P[4228] [MainThread 11800] HTTP request failed: EikonError-Client Error: Too many requests, please try again later. Wait for 55513 seconds.\n"
     ]
    },
    {
     "name": "stdout",
     "output_type": "stream",
     "text": [
      "\n",
      "STORY IS OK: False   ric_now: CBKG.DE   ric_i: 22   story_i: 96\n",
      "'NoneType' object has no attribute 'replace'\n"
     ]
    },
    {
     "name": "stderr",
     "output_type": "stream",
     "text": [
      "2021-01-08 08:34:52,678 P[4228] [MainThread 11800] Error code 429 | Client Error: Too many requests, please try again later. Wait for 55508 seconds.\n",
      "2021-01-08 08:34:52,679 P[4228] [MainThread 11800] HTTP request failed: EikonError-Client Error: Too many requests, please try again later. Wait for 55508 seconds.\n"
     ]
    },
    {
     "name": "stdout",
     "output_type": "stream",
     "text": [
      "\n",
      "STORY IS OK: False   ric_now: CBKG.DE   ric_i: 22   story_i: 97\n",
      "'NoneType' object has no attribute 'replace'\n"
     ]
    },
    {
     "name": "stderr",
     "output_type": "stream",
     "text": [
      "2021-01-08 08:34:57,709 P[4228] [MainThread 11800] Error code 429 | Client Error: Too many requests, please try again later. Wait for 55503 seconds.\n",
      "2021-01-08 08:34:57,710 P[4228] [MainThread 11800] HTTP request failed: EikonError-Client Error: Too many requests, please try again later. Wait for 55503 seconds.\n"
     ]
    },
    {
     "name": "stdout",
     "output_type": "stream",
     "text": [
      "\n",
      "STORY IS OK: False   ric_now: CBKG.DE   ric_i: 22   story_i: 98\n",
      "'NoneType' object has no attribute 'replace'\n"
     ]
    },
    {
     "name": "stderr",
     "output_type": "stream",
     "text": [
      "2021-01-08 08:35:02,736 P[4228] [MainThread 11800] Error code 429 | Client Error: Too many requests, please try again later. Wait for 55498 seconds.\n",
      "2021-01-08 08:35:02,737 P[4228] [MainThread 11800] HTTP request failed: EikonError-Client Error: Too many requests, please try again later. Wait for 55498 seconds.\n"
     ]
    },
    {
     "name": "stdout",
     "output_type": "stream",
     "text": [
      "\n",
      "STORY IS OK: False   ric_now: CBKG.DE   ric_i: 22   story_i: 99\n",
      "'NoneType' object has no attribute 'replace'\n"
     ]
    },
    {
     "name": "stderr",
     "output_type": "stream",
     "text": [
      "2021-01-08 08:35:07,801 P[4228] [MainThread 11800] Error code 429 | Client Error: Too many requests, please try again later. Wait for 55493 seconds.\n",
      "2021-01-08 08:35:07,801 P[4228] [MainThread 11800] HTTP request failed: EikonError-Client Error: Too many requests, please try again later. Wait for 55493 seconds.\n"
     ]
    },
    {
     "name": "stdout",
     "output_type": "stream",
     "text": [
      "\n",
      "2021-01-08 08:35:07.774820 CBKG.DE  ric_i: 22  headline_slice_i: 7  headline_number: 100  not null: 100 2020-09-18 11:14:09.652000+00:00\n",
      "\n",
      "is_this_ric_in_all: True   up_to_date_ric: 2020-09-08 06:49:36+00:00 \n",
      "Error when trying to get news headlines 0\n",
      "'NoneType' object is not subscriptable\n"
     ]
    },
    {
     "name": "stderr",
     "output_type": "stream",
     "text": [
      "2021-01-08 08:35:12,809 P[4228] [MainThread 11800] Error code 429 | Client Error: Too many requests, please try again later. Wait for 55488 seconds.\n",
      "2021-01-08 08:35:12,810 P[4228] [MainThread 11800] HTTP request failed: EikonError-Client Error: Too many requests, please try again later. Wait for 55488 seconds.\n"
     ]
    },
    {
     "name": "stdout",
     "output_type": "stream",
     "text": [
      "\n",
      "Error when trying to get news headlines 1\n",
      "'NoneType' object is not subscriptable\n"
     ]
    },
    {
     "name": "stderr",
     "output_type": "stream",
     "text": [
      "2021-01-08 08:35:17,821 P[4228] [MainThread 11800] Error code 429 | Client Error: Too many requests, please try again later. Wait for 55483 seconds.\n",
      "2021-01-08 08:35:17,821 P[4228] [MainThread 11800] HTTP request failed: EikonError-Client Error: Too many requests, please try again later. Wait for 55483 seconds.\n"
     ]
    },
    {
     "name": "stdout",
     "output_type": "stream",
     "text": [
      "\n",
      "Error when trying to get news headlines 2\n",
      "'NoneType' object is not subscriptable\n"
     ]
    },
    {
     "name": "stderr",
     "output_type": "stream",
     "text": [
      "2021-01-08 08:35:22,833 P[4228] [MainThread 11800] Error code 429 | Client Error: Too many requests, please try again later. Wait for 55478 seconds.\n",
      "2021-01-08 08:35:22,833 P[4228] [MainThread 11800] HTTP request failed: EikonError-Client Error: Too many requests, please try again later. Wait for 55478 seconds.\n"
     ]
    },
    {
     "name": "stdout",
     "output_type": "stream",
     "text": [
      "\n",
      "Error when trying to get news headlines 3\n",
      "'NoneType' object is not subscriptable\n"
     ]
    },
    {
     "name": "stderr",
     "output_type": "stream",
     "text": [
      "2021-01-08 08:35:27,847 P[4228] [MainThread 11800] Error code 429 | Client Error: Too many requests, please try again later. Wait for 55473 seconds.\n",
      "2021-01-08 08:35:27,847 P[4228] [MainThread 11800] HTTP request failed: EikonError-Client Error: Too many requests, please try again later. Wait for 55473 seconds.\n"
     ]
    },
    {
     "name": "stdout",
     "output_type": "stream",
     "text": [
      "\n",
      "Error when trying to get news headlines 4\n",
      "'NoneType' object is not subscriptable\n"
     ]
    },
    {
     "ename": "UnboundLocalError",
     "evalue": "local variable 'news_get_df' referenced before assignment",
     "output_type": "error",
     "traceback": [
      "\u001b[1;31m---------------------------------------------------------------------------\u001b[0m",
      "\u001b[1;31mUnboundLocalError\u001b[0m                         Traceback (most recent call last)",
      "\u001b[1;32m<ipython-input-35-abfb2695eb33>\u001b[0m in \u001b[0;36m<module>\u001b[1;34m\u001b[0m\n\u001b[0;32m     42\u001b[0m             \u001b[0mric_now\u001b[0m\u001b[1;33m=\u001b[0m\u001b[0mric_now\u001b[0m\u001b[1;33m,\u001b[0m\u001b[1;33m\u001b[0m\u001b[1;33m\u001b[0m\u001b[0m\n\u001b[0;32m     43\u001b[0m             \u001b[0mheadlines_count_to_request\u001b[0m\u001b[1;33m=\u001b[0m\u001b[0mheadlines_count_to_request\u001b[0m\u001b[1;33m,\u001b[0m\u001b[1;33m\u001b[0m\u001b[1;33m\u001b[0m\u001b[0m\n\u001b[1;32m---> 44\u001b[1;33m             \u001b[0mup_to_date_ric\u001b[0m\u001b[1;33m=\u001b[0m\u001b[0mup_to_date_ric\u001b[0m\u001b[1;33m\u001b[0m\u001b[1;33m\u001b[0m\u001b[0m\n\u001b[0m\u001b[0;32m     45\u001b[0m         )\n\u001b[0;32m     46\u001b[0m \u001b[1;33m\u001b[0m\u001b[0m\n",
      "\u001b[1;32m<ipython-input-12-b6d7e417a66c>\u001b[0m in \u001b[0;36mget_news_headlines_with_some_tries\u001b[1;34m(ric_now, headlines_count_to_request, up_to_date_ric, max_num_tries)\u001b[0m\n\u001b[0;32m     25\u001b[0m             \u001b[0mtries_num\u001b[0m \u001b[1;33m=\u001b[0m \u001b[0mtries_num\u001b[0m \u001b[1;33m+\u001b[0m \u001b[1;36m1\u001b[0m\u001b[1;33m\u001b[0m\u001b[1;33m\u001b[0m\u001b[0m\n\u001b[0;32m     26\u001b[0m \u001b[1;33m\u001b[0m\u001b[0m\n\u001b[1;32m---> 27\u001b[1;33m     \u001b[0mprint\u001b[0m\u001b[1;33m(\u001b[0m\u001b[1;34m'news_get_df.shape:'\u001b[0m\u001b[1;33m,\u001b[0m \u001b[0mnews_get_df\u001b[0m\u001b[1;33m.\u001b[0m\u001b[0mshape\u001b[0m\u001b[1;33m[\u001b[0m\u001b[1;36m0\u001b[0m\u001b[1;33m]\u001b[0m\u001b[1;33m)\u001b[0m\u001b[1;33m\u001b[0m\u001b[1;33m\u001b[0m\u001b[0m\n\u001b[0m\u001b[0;32m     28\u001b[0m \u001b[1;33m\u001b[0m\u001b[0m\n\u001b[0;32m     29\u001b[0m     \u001b[1;32mreturn\u001b[0m \u001b[0mnews_get_df\u001b[0m\u001b[1;33m\u001b[0m\u001b[1;33m\u001b[0m\u001b[0m\n",
      "\u001b[1;31mUnboundLocalError\u001b[0m: local variable 'news_get_df' referenced before assignment"
     ]
    }
   ],
   "source": [
    "# Зададим, по какому df мы будет итерировать ric компании (её код на бирже).\n",
    "rics_to_loop_df = rics_dax\n",
    "rics_to_loop_df = rics_to_loop_df.reset_index(drop=True) # чтобы юзать .loc()\n",
    "\n",
    "# Зададим переменную, котролирующую количество выгружаемых за раз заголовков\n",
    "headlines_count_to_request = 100\n",
    "\n",
    "# Необходимо задать переменную до цикла как 100, далее она будет изменяться\n",
    "headlines_number = 100\n",
    "\n",
    "# Первый цикл будет итерировать компании.\n",
    "for ric_i in range(18, len(rics_to_loop_df)): # range(0, len(rics_to_loop_df))\n",
    "    \n",
    "    # Зададим переменную, которая скажет, какой сейчас итерируется ric.\n",
    "    ric_now = rics_to_loop_df.loc[ric_i, \"ric\"]\n",
    "    print(ric_i, ric_now)\n",
    "    \n",
    "    # Цикл, который прогоняет запросы заголовков.\n",
    "    # Зададим для него параметр. Прибавим +1, если исчерпали новости.\n",
    "    last_headlines_request = False\n",
    "    # Будем вести счёт итерацию цикла While для выгрузки заголовков\n",
    "    headlines_slice_i = 0\n",
    "    # Для выкачивания заголовков нужно задать дату, до которой делаем запрос.\n",
    "    # Если такого ric нет в all_headlines_df со всеми новостями,\n",
    "    # то не будет задавать дату, до которой выкачивать заголовки.\n",
    "    # Если такой ric есть в all_headlines_df со всеми новостями,\n",
    "    # то возьмём минимальную дату из all_headlines_df со всеми новостями\n",
    "    while not last_headlines_request:\n",
    "        \n",
    "        # That function returns the param for ek.get_news_headlines method\n",
    "        # That param means the datetime slice of news to be collected\n",
    "        up_to_date_ric = set_value_of_up_to_date_ric(\n",
    "            ric_now=ric_now,\n",
    "            df_with_news_to_check=all_headlines_df,\n",
    "            column_name_with_rics='ric',\n",
    "            column_name_with_dates='versionCreated'\n",
    "        )\n",
    "        \n",
    "        # That function returns df with news headlines after several tries\n",
    "        news_get_df = get_news_headlines_with_some_tries(\n",
    "            max_num_tries=5,\n",
    "            ric_now=ric_now,\n",
    "            headlines_count_to_request=headlines_count_to_request,\n",
    "            up_to_date_ric=up_to_date_ric\n",
    "        )\n",
    "        \n",
    "        # Some df changes before adding full news text to that df\n",
    "        news_get_df = prepare_headlines_df_to_adding_news_story(\n",
    "            ric_now, news_get_df)\n",
    "        \n",
    "        # Adding full text of news (stories) to df with headlines\n",
    "        news_get_df, quasi_logger = adding_news_stories_to_df_with_headlines(\n",
    "            news_get_df,\n",
    "            quasi_logger,\n",
    "            ric_i,\n",
    "            ric_now,\n",
    "            headlines_slice_i,\n",
    "            headlines_number,\n",
    "            up_to_date_ric,\n",
    "            col_name_with_story_id = 'storyId')\n",
    "        \n",
    "        # If at that moment news_get_df has less than 100 news,\n",
    "        # than it means we have exhausted news for that ric because of dates limitation.\n",
    "        # And we need to change ric_now that we iterate.\n",
    "        headlines_number = news_get_df.shape[0]\n",
    "        if headlines_number < 100:\n",
    "            last_headlines_request = True\n",
    "        \n",
    "        headlines_slice_i = headlines_slice_i + 1\n",
    "        \n",
    "        # At that moment news_get_df has the slice with headlines & full-text.\n",
    "        # Let's add that slice to all_headlines_df that has all news.\n",
    "        all_headlines_df = all_headlines_df.append(news_get_df, ignore_index = True)\n",
    "        print()\n",
    "        print(str(datetime.today()), ric_now, \n",
    "              ' ric_i:', ric_i,\n",
    "              ' headline_slice_i:', headlines_slice_i,\n",
    "              ' headline_number:', headlines_number,\n",
    "              ' not null:', news_get_df['story'].notna().sum(),\n",
    "              up_to_date_ric)\n",
    "        \n",
    "        # End of headlines iterations for one selected ric\n",
    "    \n",
    "    # Save the version of all_headlines_df at every ric iteration\n",
    "    save_file_as_new_file_without_replacing(\n",
    "        path_project_folder=path_project_folder,\n",
    "        folder_name_to_save=folder_name_headlines,\n",
    "        file_to_save=all_headlines_df,\n",
    "        file_short_name_add_to_path='all_headlines_df')\n",
    "    \n",
    "    # Save the version of quasi_logger at every ric iteration\n",
    "    save_file_as_new_file_without_replacing(\n",
    "        path_project_folder=path_project_folder,\n",
    "        folder_name_to_save=folder_name_logger,\n",
    "        file_to_save=quasi_logger,\n",
    "        file_short_name_add_to_path='quasi_logger')"
   ]
  },
  {
   "cell_type": "code",
   "execution_count": 49,
   "metadata": {},
   "outputs": [
    {
     "data": {
      "text/html": [
       "<div>\n",
       "<style scoped>\n",
       "    .dataframe tbody tr th:only-of-type {\n",
       "        vertical-align: middle;\n",
       "    }\n",
       "\n",
       "    .dataframe tbody tr th {\n",
       "        vertical-align: top;\n",
       "    }\n",
       "\n",
       "    .dataframe thead th {\n",
       "        text-align: right;\n",
       "    }\n",
       "</style>\n",
       "<table border=\"1\" class=\"dataframe\">\n",
       "  <thead>\n",
       "    <tr style=\"text-align: right;\">\n",
       "      <th></th>\n",
       "      <th>ric</th>\n",
       "      <th>versionCreated</th>\n",
       "      <th>headline</th>\n",
       "      <th>storyId</th>\n",
       "      <th>sourceCode</th>\n",
       "      <th>story</th>\n",
       "    </tr>\n",
       "  </thead>\n",
       "  <tbody>\n",
       "    <tr>\n",
       "      <th>0</th>\n",
       "      <td>DTEGn.DE</td>\n",
       "      <td>2020-12-23 18:25:27.865000+00:00</td>\n",
       "      <td>IGN Igen Networks joins T-Mobile partner program</td>\n",
       "      <td>urn:newsml:reuters.com:20201223:nNRAdspppv:1</td>\n",
       "      <td>NS:CNSWCH</td>\n",
       "      <td>&lt;div class=\"storyContent\" lang=\"en\"&gt;&lt;style typ...</td>\n",
       "    </tr>\n",
       "    <tr>\n",
       "      <th>1</th>\n",
       "      <td>DTEGn.DE</td>\n",
       "      <td>2020-12-22 08:35:59.285000+00:00</td>\n",
       "      <td>(EN) Makedonski Telekom AD - Skopje Board Chan...</td>\n",
       "      <td>urn:newsml:reuters.com:20201222:nGLF4Kt1L3:2</td>\n",
       "      <td>NS:GLFILE</td>\n",
       "      <td>&lt;div class=\"storyContent\" lang=\"en\"&gt;&lt;p&gt;&lt;a href...</td>\n",
       "    </tr>\n",
       "    <tr>\n",
       "      <th>2</th>\n",
       "      <td>DTEGn.DE</td>\n",
       "      <td>2020-12-22 08:35:53.014000+00:00</td>\n",
       "      <td>(EN) Makedonski Telekom AD - Skopje Board Chan...</td>\n",
       "      <td>urn:newsml:reuters.com:20201222:nGLF2DBhZz:2</td>\n",
       "      <td>NS:GLFILE</td>\n",
       "      <td>&lt;div class=\"storyContent\" lang=\"en\"&gt;&lt;p&gt;&lt;a href...</td>\n",
       "    </tr>\n",
       "    <tr>\n",
       "      <th>3</th>\n",
       "      <td>DTEGn.DE</td>\n",
       "      <td>2020-12-21 13:08:03.993000+00:00</td>\n",
       "      <td>WFB (Bus), Anyone? T-Mobile Turns Red Rose Tra...</td>\n",
       "      <td>urn:newsml:reuters.com:20201221:nBw3VPZ4Qa:1</td>\n",
       "      <td>NS:BSW</td>\n",
       "      <td>&lt;div class=\"storyContent\" lang=\"en\"&gt;&lt;style typ...</td>\n",
       "    </tr>\n",
       "    <tr>\n",
       "      <th>4</th>\n",
       "      <td>DTEGn.DE</td>\n",
       "      <td>2020-12-19 09:00:00+00:00</td>\n",
       "      <td>HINTERGRUND-Internet überall dank Satellit und...</td>\n",
       "      <td>urn:newsml:reuters.com:20201219:nL8N2IY3D9:1</td>\n",
       "      <td>NS:RTRS</td>\n",
       "      <td>&lt;div class=\"storyContent\" lang=\"de\"&gt;&lt;style typ...</td>\n",
       "    </tr>\n",
       "    <tr>\n",
       "      <th>...</th>\n",
       "      <td>...</td>\n",
       "      <td>...</td>\n",
       "      <td>...</td>\n",
       "      <td>...</td>\n",
       "      <td>...</td>\n",
       "      <td>...</td>\n",
       "    </tr>\n",
       "    <tr>\n",
       "      <th>87457</th>\n",
       "      <td>CBKG.DE</td>\n",
       "      <td>2020-09-12 08:00:00+00:00</td>\n",
       "      <td>HINTERGRUND -Erst Zuhören, dann Zupacken - Neu...</td>\n",
       "      <td>urn:newsml:reuters.com:20200912:nL8N2G834K:1</td>\n",
       "      <td>NS:RTRS</td>\n",
       "      <td>&lt;div class=\"storyContent\" lang=\"de\"&gt;&lt;style typ...</td>\n",
       "    </tr>\n",
       "    <tr>\n",
       "      <th>87458</th>\n",
       "      <td>CBKG.DE</td>\n",
       "      <td>2020-09-11 22:32:56.996000+00:00</td>\n",
       "      <td>Commerzbank Raises USD544.69 Million in Offeri...</td>\n",
       "      <td>urn:newsml:reuters.com:20200911:nNRAcx6ffj:1</td>\n",
       "      <td>NS:DATMTR</td>\n",
       "      <td>&lt;div class=\"storyContent\" lang=\"en\"&gt;&lt;style typ...</td>\n",
       "    </tr>\n",
       "    <tr>\n",
       "      <th>87459</th>\n",
       "      <td>CBKG.DE</td>\n",
       "      <td>2020-09-11 16:21:43.536000+00:00</td>\n",
       "      <td>(EN) Commerzbank Aktiengesellschaft Monthly Pr...</td>\n",
       "      <td>urn:newsml:reuters.com:20200911:nGLF4FZ1CS:3</td>\n",
       "      <td>NS:GLFILE</td>\n",
       "      <td>&lt;div class=\"storyContent\" lang=\"en\"&gt;&lt;p&gt;&lt;a href...</td>\n",
       "    </tr>\n",
       "    <tr>\n",
       "      <th>87460</th>\n",
       "      <td>CBKG.DE</td>\n",
       "      <td>2020-09-11 16:08:01.094000+00:00</td>\n",
       "      <td>Platow Brief - Commerzbank – Vetter räumt auf</td>\n",
       "      <td>urn:newsml:reuters.com:20200911:nPLA55rNmm:1</td>\n",
       "      <td>NS:PLB</td>\n",
       "      <td>&lt;div class=\"storyContent\" lang=\"de\"&gt;&lt;p&gt;Der neu...</td>\n",
       "    </tr>\n",
       "    <tr>\n",
       "      <th>87461</th>\n",
       "      <td>CBKG.DE</td>\n",
       "      <td>2020-09-11 14:15:52+00:00</td>\n",
       "      <td>Who's moving where</td>\n",
       "      <td>urn:newsml:reuters.com:20200911:nL8N2G82QF:1</td>\n",
       "      <td>NS:IFR</td>\n",
       "      <td>&lt;div class=\"storyContent\" lang=\"en\"&gt;&lt;style typ...</td>\n",
       "    </tr>\n",
       "  </tbody>\n",
       "</table>\n",
       "<p>87462 rows × 6 columns</p>\n",
       "</div>"
      ],
      "text/plain": [
       "            ric                   versionCreated  \\\n",
       "0      DTEGn.DE 2020-12-23 18:25:27.865000+00:00   \n",
       "1      DTEGn.DE 2020-12-22 08:35:59.285000+00:00   \n",
       "2      DTEGn.DE 2020-12-22 08:35:53.014000+00:00   \n",
       "3      DTEGn.DE 2020-12-21 13:08:03.993000+00:00   \n",
       "4      DTEGn.DE        2020-12-19 09:00:00+00:00   \n",
       "...         ...                              ...   \n",
       "87457   CBKG.DE        2020-09-12 08:00:00+00:00   \n",
       "87458   CBKG.DE 2020-09-11 22:32:56.996000+00:00   \n",
       "87459   CBKG.DE 2020-09-11 16:21:43.536000+00:00   \n",
       "87460   CBKG.DE 2020-09-11 16:08:01.094000+00:00   \n",
       "87461   CBKG.DE        2020-09-11 14:15:52+00:00   \n",
       "\n",
       "                                                headline  \\\n",
       "0       IGN Igen Networks joins T-Mobile partner program   \n",
       "1      (EN) Makedonski Telekom AD - Skopje Board Chan...   \n",
       "2      (EN) Makedonski Telekom AD - Skopje Board Chan...   \n",
       "3      WFB (Bus), Anyone? T-Mobile Turns Red Rose Tra...   \n",
       "4      HINTERGRUND-Internet überall dank Satellit und...   \n",
       "...                                                  ...   \n",
       "87457  HINTERGRUND -Erst Zuhören, dann Zupacken - Neu...   \n",
       "87458  Commerzbank Raises USD544.69 Million in Offeri...   \n",
       "87459  (EN) Commerzbank Aktiengesellschaft Monthly Pr...   \n",
       "87460      Platow Brief - Commerzbank – Vetter räumt auf   \n",
       "87461                                 Who's moving where   \n",
       "\n",
       "                                            storyId sourceCode  \\\n",
       "0      urn:newsml:reuters.com:20201223:nNRAdspppv:1  NS:CNSWCH   \n",
       "1      urn:newsml:reuters.com:20201222:nGLF4Kt1L3:2  NS:GLFILE   \n",
       "2      urn:newsml:reuters.com:20201222:nGLF2DBhZz:2  NS:GLFILE   \n",
       "3      urn:newsml:reuters.com:20201221:nBw3VPZ4Qa:1     NS:BSW   \n",
       "4      urn:newsml:reuters.com:20201219:nL8N2IY3D9:1    NS:RTRS   \n",
       "...                                             ...        ...   \n",
       "87457  urn:newsml:reuters.com:20200912:nL8N2G834K:1    NS:RTRS   \n",
       "87458  urn:newsml:reuters.com:20200911:nNRAcx6ffj:1  NS:DATMTR   \n",
       "87459  urn:newsml:reuters.com:20200911:nGLF4FZ1CS:3  NS:GLFILE   \n",
       "87460  urn:newsml:reuters.com:20200911:nPLA55rNmm:1     NS:PLB   \n",
       "87461  urn:newsml:reuters.com:20200911:nL8N2G82QF:1     NS:IFR   \n",
       "\n",
       "                                                   story  \n",
       "0      <div class=\"storyContent\" lang=\"en\"><style typ...  \n",
       "1      <div class=\"storyContent\" lang=\"en\"><p><a href...  \n",
       "2      <div class=\"storyContent\" lang=\"en\"><p><a href...  \n",
       "3      <div class=\"storyContent\" lang=\"en\"><style typ...  \n",
       "4      <div class=\"storyContent\" lang=\"de\"><style typ...  \n",
       "...                                                  ...  \n",
       "87457  <div class=\"storyContent\" lang=\"de\"><style typ...  \n",
       "87458  <div class=\"storyContent\" lang=\"en\"><style typ...  \n",
       "87459  <div class=\"storyContent\" lang=\"en\"><p><a href...  \n",
       "87460  <div class=\"storyContent\" lang=\"de\"><p>Der neu...  \n",
       "87461  <div class=\"storyContent\" lang=\"en\"><style typ...  \n",
       "\n",
       "[87462 rows x 6 columns]"
      ]
     },
     "execution_count": 49,
     "metadata": {},
     "output_type": "execute_result"
    }
   ],
   "source": [
    "all_headlines_df"
   ]
  },
  {
   "cell_type": "code",
   "execution_count": 50,
   "metadata": {},
   "outputs": [
    {
     "data": {
      "text/plain": [
       "<AxesSubplot:>"
      ]
     },
     "execution_count": 50,
     "metadata": {},
     "output_type": "execute_result"
    },
    {
     "data": {
      "image/png": "[encoded data removed]",
      "text/plain": [
       "<Figure size 640x280 with 1 Axes>"
      ]
     },
     "metadata": {},
     "output_type": "display_data"
    }
   ],
   "source": [
    "all_headlines_df['versionCreated'].plot()"
   ]
  },
  {
   "cell_type": "code",
   "execution_count": 41,
   "metadata": {},
   "outputs": [
    {
     "data": {
      "text/html": [
       "<div>\n",
       "<style scoped>\n",
       "    .dataframe tbody tr th:only-of-type {\n",
       "        vertical-align: middle;\n",
       "    }\n",
       "\n",
       "    .dataframe tbody tr th {\n",
       "        vertical-align: top;\n",
       "    }\n",
       "\n",
       "    .dataframe thead th {\n",
       "        text-align: right;\n",
       "    }\n",
       "</style>\n",
       "<table border=\"1\" class=\"dataframe\">\n",
       "  <thead>\n",
       "    <tr style=\"text-align: right;\">\n",
       "      <th></th>\n",
       "      <th>ric_i</th>\n",
       "      <th>ric_now</th>\n",
       "      <th>headlines_slice_i</th>\n",
       "      <th>headlines_number</th>\n",
       "      <th>up_to_date_ric</th>\n",
       "      <th>story_i</th>\n",
       "      <th>story_id_now</th>\n",
       "      <th>story_is_success</th>\n",
       "      <th>date_time</th>\n",
       "    </tr>\n",
       "  </thead>\n",
       "  <tbody>\n",
       "    <tr>\n",
       "      <th>0</th>\n",
       "      <td>0</td>\n",
       "      <td>DTEGn.DE</td>\n",
       "      <td>0</td>\n",
       "      <td>100</td>\n",
       "      <td>2020-12-24T03:51:28</td>\n",
       "      <td>0</td>\n",
       "      <td>urn:newsml:reuters.com:20201223:nNRAdspppv:1</td>\n",
       "      <td>True</td>\n",
       "      <td>2020-12-24 03:51:31.939240</td>\n",
       "    </tr>\n",
       "    <tr>\n",
       "      <th>1</th>\n",
       "      <td>0</td>\n",
       "      <td>DTEGn.DE</td>\n",
       "      <td>0</td>\n",
       "      <td>100</td>\n",
       "      <td>2020-12-24T03:51:28</td>\n",
       "      <td>1</td>\n",
       "      <td>urn:newsml:reuters.com:20201222:nGLF4Kt1L3:2</td>\n",
       "      <td>True</td>\n",
       "      <td>2020-12-24 03:51:33.740708</td>\n",
       "    </tr>\n",
       "    <tr>\n",
       "      <th>2</th>\n",
       "      <td>0</td>\n",
       "      <td>DTEGn.DE</td>\n",
       "      <td>0</td>\n",
       "      <td>100</td>\n",
       "      <td>2020-12-24T03:51:28</td>\n",
       "      <td>2</td>\n",
       "      <td>urn:newsml:reuters.com:20201222:nGLF2DBhZz:2</td>\n",
       "      <td>True</td>\n",
       "      <td>2020-12-24 03:51:37.079818</td>\n",
       "    </tr>\n",
       "    <tr>\n",
       "      <th>3</th>\n",
       "      <td>0</td>\n",
       "      <td>DTEGn.DE</td>\n",
       "      <td>0</td>\n",
       "      <td>100</td>\n",
       "      <td>2020-12-24T03:51:28</td>\n",
       "      <td>3</td>\n",
       "      <td>urn:newsml:reuters.com:20201221:nBw3VPZ4Qa:1</td>\n",
       "      <td>True</td>\n",
       "      <td>2020-12-24 03:51:37.803316</td>\n",
       "    </tr>\n",
       "    <tr>\n",
       "      <th>4</th>\n",
       "      <td>0</td>\n",
       "      <td>DTEGn.DE</td>\n",
       "      <td>0</td>\n",
       "      <td>100</td>\n",
       "      <td>2020-12-24T03:51:28</td>\n",
       "      <td>4</td>\n",
       "      <td>urn:newsml:reuters.com:20201219:nL8N2IY3D9:1</td>\n",
       "      <td>True</td>\n",
       "      <td>2020-12-24 03:51:38.957981</td>\n",
       "    </tr>\n",
       "    <tr>\n",
       "      <th>...</th>\n",
       "      <td>...</td>\n",
       "      <td>...</td>\n",
       "      <td>...</td>\n",
       "      <td>...</td>\n",
       "      <td>...</td>\n",
       "      <td>...</td>\n",
       "      <td>...</td>\n",
       "      <td>...</td>\n",
       "      <td>...</td>\n",
       "    </tr>\n",
       "    <tr>\n",
       "      <th>53819</th>\n",
       "      <td>11</td>\n",
       "      <td>HNKG_p.DE</td>\n",
       "      <td>4</td>\n",
       "      <td>100</td>\n",
       "      <td>2020-07-07 09:42:59+00:00</td>\n",
       "      <td>99</td>\n",
       "      <td>urn:newsml:reuters.com:20200520:nNRAbucabw:1</td>\n",
       "      <td>True</td>\n",
       "      <td>2021-01-05 05:41:53.336412</td>\n",
       "    </tr>\n",
       "    <tr>\n",
       "      <th>53820</th>\n",
       "      <td>8</td>\n",
       "      <td>BMWG.DE</td>\n",
       "      <td>0</td>\n",
       "      <td>100</td>\n",
       "      <td>2019-10-06 15:27:42.674000+00:00</td>\n",
       "      <td>0</td>\n",
       "      <td>urn:newsml:reuters.com:20191006:nNDL48zr3x:1</td>\n",
       "      <td>True</td>\n",
       "      <td>2021-01-05 16:18:51.638037</td>\n",
       "    </tr>\n",
       "    <tr>\n",
       "      <th>53821</th>\n",
       "      <td>9</td>\n",
       "      <td>BAYGn.DE</td>\n",
       "      <td>0</td>\n",
       "      <td>1</td>\n",
       "      <td>2019-10-05 18:25:44.765000+00:00</td>\n",
       "      <td>0</td>\n",
       "      <td>urn:newsml:newsroom:20191005:nNRA9vs5t6:0</td>\n",
       "      <td>True</td>\n",
       "      <td>2021-01-05 16:19:14.101785</td>\n",
       "    </tr>\n",
       "    <tr>\n",
       "      <th>53822</th>\n",
       "      <td>10</td>\n",
       "      <td>IFXGn.DE</td>\n",
       "      <td>0</td>\n",
       "      <td>1</td>\n",
       "      <td>2019-10-07 10:00:00+00:00</td>\n",
       "      <td>0</td>\n",
       "      <td>urn:newsml:reuters.com:20191007:nL5N26S21Z:2</td>\n",
       "      <td>True</td>\n",
       "      <td>2021-01-05 16:19:34.249821</td>\n",
       "    </tr>\n",
       "    <tr>\n",
       "      <th>53823</th>\n",
       "      <td>10</td>\n",
       "      <td>IFXGn.DE</td>\n",
       "      <td>0</td>\n",
       "      <td>1</td>\n",
       "      <td>2019-10-07 10:00:00+00:00</td>\n",
       "      <td>1</td>\n",
       "      <td>urn:newsml:reuters.com:20191007:nL3N26S0QV:6</td>\n",
       "      <td>True</td>\n",
       "      <td>2021-01-05 16:19:35.245632</td>\n",
       "    </tr>\n",
       "  </tbody>\n",
       "</table>\n",
       "<p>53824 rows × 9 columns</p>\n",
       "</div>"
      ],
      "text/plain": [
       "       ric_i    ric_now  headlines_slice_i  headlines_number  \\\n",
       "0          0   DTEGn.DE                  0               100   \n",
       "1          0   DTEGn.DE                  0               100   \n",
       "2          0   DTEGn.DE                  0               100   \n",
       "3          0   DTEGn.DE                  0               100   \n",
       "4          0   DTEGn.DE                  0               100   \n",
       "...      ...        ...                ...               ...   \n",
       "53819     11  HNKG_p.DE                  4               100   \n",
       "53820      8    BMWG.DE                  0               100   \n",
       "53821      9   BAYGn.DE                  0                 1   \n",
       "53822     10   IFXGn.DE                  0                 1   \n",
       "53823     10   IFXGn.DE                  0                 1   \n",
       "\n",
       "                         up_to_date_ric  story_i  \\\n",
       "0                   2020-12-24T03:51:28        0   \n",
       "1                   2020-12-24T03:51:28        1   \n",
       "2                   2020-12-24T03:51:28        2   \n",
       "3                   2020-12-24T03:51:28        3   \n",
       "4                   2020-12-24T03:51:28        4   \n",
       "...                                 ...      ...   \n",
       "53819         2020-07-07 09:42:59+00:00       99   \n",
       "53820  2019-10-06 15:27:42.674000+00:00        0   \n",
       "53821  2019-10-05 18:25:44.765000+00:00        0   \n",
       "53822         2019-10-07 10:00:00+00:00        0   \n",
       "53823         2019-10-07 10:00:00+00:00        1   \n",
       "\n",
       "                                       story_id_now  story_is_success  \\\n",
       "0      urn:newsml:reuters.com:20201223:nNRAdspppv:1              True   \n",
       "1      urn:newsml:reuters.com:20201222:nGLF4Kt1L3:2              True   \n",
       "2      urn:newsml:reuters.com:20201222:nGLF2DBhZz:2              True   \n",
       "3      urn:newsml:reuters.com:20201221:nBw3VPZ4Qa:1              True   \n",
       "4      urn:newsml:reuters.com:20201219:nL8N2IY3D9:1              True   \n",
       "...                                             ...               ...   \n",
       "53819  urn:newsml:reuters.com:20200520:nNRAbucabw:1              True   \n",
       "53820  urn:newsml:reuters.com:20191006:nNDL48zr3x:1              True   \n",
       "53821     urn:newsml:newsroom:20191005:nNRA9vs5t6:0              True   \n",
       "53822  urn:newsml:reuters.com:20191007:nL5N26S21Z:2              True   \n",
       "53823  urn:newsml:reuters.com:20191007:nL3N26S0QV:6              True   \n",
       "\n",
       "                        date_time  \n",
       "0      2020-12-24 03:51:31.939240  \n",
       "1      2020-12-24 03:51:33.740708  \n",
       "2      2020-12-24 03:51:37.079818  \n",
       "3      2020-12-24 03:51:37.803316  \n",
       "4      2020-12-24 03:51:38.957981  \n",
       "...                           ...  \n",
       "53819  2021-01-05 05:41:53.336412  \n",
       "53820  2021-01-05 16:18:51.638037  \n",
       "53821  2021-01-05 16:19:14.101785  \n",
       "53822  2021-01-05 16:19:34.249821  \n",
       "53823  2021-01-05 16:19:35.245632  \n",
       "\n",
       "[53824 rows x 9 columns]"
      ]
     },
     "execution_count": 41,
     "metadata": {},
     "output_type": "execute_result"
    }
   ],
   "source": [
    "quasi_logger"
   ]
  },
  {
   "cell_type": "code",
   "execution_count": 51,
   "metadata": {},
   "outputs": [
    {
     "name": "stdout",
     "output_type": "stream",
     "text": [
      "C:/DAN/t_systems/trade_project/backup_headlines/all_headlines_df_2021-01-08_v6.csv\n"
     ]
    }
   ],
   "source": [
    "# Сохранить версию all_headlines_df\n",
    "file_version = 1\n",
    "folder_name = path_project_folder + folder_name_headlines\n",
    "date_now = datetime.today().strftime(\"%Y-%m-%d\")\n",
    "file_name = 'all_headlines_df' + '_' + str(date_now) + '_v' + str(file_version) + '.csv'\n",
    "while file_name in os.listdir(folder_name):\n",
    "    file_name = 'all_headlines_df' + '_' + str(date_now) + '_v' + str(file_version) + '.csv'\n",
    "    file_version = file_version + 1\n",
    "# C:/DAN/t_systems/trade_project/backup_headlines/all_headlines_df_2020-12-24_v6.csv\n",
    "file_path = folder_name + file_name\n",
    "all_headlines_df.to_csv(file_path, sep = '~', index=False)\n",
    "print(file_path)"
   ]
  },
  {
   "cell_type": "code",
   "execution_count": 40,
   "metadata": {},
   "outputs": [
    {
     "name": "stdout",
     "output_type": "stream",
     "text": [
      "C:/DAN/t_systems/trade_project/logger/quasi_logger_2021-01-08_v5.csv\n"
     ]
    }
   ],
   "source": [
    "# Сохранить версию логгера\n",
    "file_version = 1\n",
    "folder_name = path_project_folder + folder_name_logger\n",
    "date_now = datetime.today().strftime(\"%Y-%m-%d\")\n",
    "file_name = 'quasi_logger' + '_' + str(date_now) + '_v' + str(file_version) + '.csv'\n",
    "while file_name in os.listdir(folder_name):\n",
    "    file_name = 'quasi_logger' + '_' + str(date_now) + '_v' + str(file_version) + '.csv'\n",
    "    file_version = file_version + 1\n",
    "file_path = folder_name + file_name\n",
    "quasi_logger.to_csv(file_path, sep = ';', index=False)\n",
    "print(file_path)"
   ]
  },
  {
   "cell_type": "code",
   "execution_count": 32,
   "metadata": {},
   "outputs": [
    {
     "name": "stdout",
     "output_type": "stream",
     "text": [
      "df shape: (77560, 6) ,  Num of rics: 29\n",
      "StoryId duplicated: 9541\n",
      "Rows in df duplicated: 866\n",
      "\n",
      "status error_when_trying_to_collect_story: 513\n",
      "\n",
      "    Number of NA:\n",
      "ric                 0\n",
      "versionCreated      0\n",
      "headline            0\n",
      "storyId             0\n",
      "sourceCode          0\n",
      "story             153\n",
      "dtype: int64\n"
     ]
    }
   ],
   "source": [
    "print('df shape:', all_headlines_df.shape, ',  Num of rics:', all_headlines_df.groupby('ric')['ric'].nunique().sort_values(ascending=False).count())\n",
    "print('StoryId duplicated:', all_headlines_df['storyId'].duplicated().sum())\n",
    "print('Rows in df duplicated:', all_headlines_df.duplicated().sum())\n",
    "print()\n",
    "print('status error_when_trying_to_collect_story:', all_headlines_df[all_headlines_df['story'] == 'error_when_trying_to_collect_story']['story'].count())\n",
    "print()\n",
    "print('    Number of NA:')\n",
    "print(len(all_headlines_df) - all_headlines_df.notna().sum())"
   ]
  }
 ],
 "metadata": {
  "kernelspec": {
   "display_name": "Python 3",
   "language": "python",
   "name": "python3"
  },
  "language_info": {
   "codemirror_mode": {
    "name": "ipython",
    "version": 3
   },
   "file_extension": ".py",
   "mimetype": "text/x-python",
   "name": "python",
   "nbconvert_exporter": "python",
   "pygments_lexer": "ipython3",
   "version": "3.7.9"
  }
 },
 "nbformat": 4,
 "nbformat_minor": 4
}
